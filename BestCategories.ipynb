{
 "cells": [
  {
   "cell_type": "markdown",
   "metadata": {},
   "source": [
    "File built on the mechanics file"
   ]
  },
  {
   "cell_type": "code",
   "execution_count": 1,
   "metadata": {},
   "outputs": [],
   "source": [
    "import requests\n",
    "from lxml import etree\n",
    "from bs4 import BeautifulSoup\n",
    "import pandas as pd\n",
    "import numpy as np\n",
    "import time\n",
    "import sqlite3"
   ]
  },
  {
   "cell_type": "code",
   "execution_count": 2,
   "metadata": {},
   "outputs": [],
   "source": [
    "con = sqlite3.connect('bgg.db')\n",
    "cur = con.cursor()"
   ]
  },
  {
   "cell_type": "code",
   "execution_count": 11,
   "metadata": {},
   "outputs": [],
   "source": [
    "query = '''\n",
    " SELECT t1.id, title, CAST(avg_rating AS FLOAT64) avg_rating, CAST(avg_bayes_rating AS FLOAT64),\n",
    "        CAST(std as FLOAT64) std, category\n",
    " \n",
    " FROM TOP_GAMES_FULL t1\n",
    "   LEFT JOIN BGG_CATEGORIES t2\n",
    "     ON t1.id = t2.id\n",
    "     \n",
    "ORDER BY avg_rating DESC\n",
    "'''\n",
    "\n",
    "results = cur.execute(query)\n",
    "result_li = [elem for elem in results.fetchall()]"
   ]
  },
  {
   "cell_type": "code",
   "execution_count": 12,
   "metadata": {},
   "outputs": [],
   "source": [
    "df = pd.DataFrame(result_li, columns = ['id', 'Title','Score', 'BayesScore', 'StdDev', 'Category'])"
   ]
  },
  {
   "cell_type": "code",
   "execution_count": 13,
   "metadata": {},
   "outputs": [
    {
     "data": {
      "text/html": [
       "<div>\n",
       "<style scoped>\n",
       "    .dataframe tbody tr th:only-of-type {\n",
       "        vertical-align: middle;\n",
       "    }\n",
       "\n",
       "    .dataframe tbody tr th {\n",
       "        vertical-align: top;\n",
       "    }\n",
       "\n",
       "    .dataframe thead th {\n",
       "        text-align: right;\n",
       "    }\n",
       "</style>\n",
       "<table border=\"1\" class=\"dataframe\">\n",
       "  <thead>\n",
       "    <tr style=\"text-align: right;\">\n",
       "      <th></th>\n",
       "      <th>Games</th>\n",
       "    </tr>\n",
       "    <tr>\n",
       "      <th>Category</th>\n",
       "      <th></th>\n",
       "    </tr>\n",
       "  </thead>\n",
       "  <tbody>\n",
       "    <tr>\n",
       "      <th>Card Game</th>\n",
       "      <td>246</td>\n",
       "    </tr>\n",
       "    <tr>\n",
       "      <th>Fantasy</th>\n",
       "      <td>210</td>\n",
       "    </tr>\n",
       "    <tr>\n",
       "      <th>Economic</th>\n",
       "      <td>200</td>\n",
       "    </tr>\n",
       "    <tr>\n",
       "      <th>Fighting</th>\n",
       "      <td>156</td>\n",
       "    </tr>\n",
       "    <tr>\n",
       "      <th>Science Fiction</th>\n",
       "      <td>130</td>\n",
       "    </tr>\n",
       "    <tr>\n",
       "      <th>Adventure</th>\n",
       "      <td>109</td>\n",
       "    </tr>\n",
       "    <tr>\n",
       "      <th>Wargame</th>\n",
       "      <td>102</td>\n",
       "    </tr>\n",
       "    <tr>\n",
       "      <th>Miniatures</th>\n",
       "      <td>97</td>\n",
       "    </tr>\n",
       "    <tr>\n",
       "      <th>Exploration</th>\n",
       "      <td>94</td>\n",
       "    </tr>\n",
       "    <tr>\n",
       "      <th>Medieval</th>\n",
       "      <td>94</td>\n",
       "    </tr>\n",
       "  </tbody>\n",
       "</table>\n",
       "</div>"
      ],
      "text/plain": [
       "                 Games\n",
       "Category              \n",
       "Card Game          246\n",
       "Fantasy            210\n",
       "Economic           200\n",
       "Fighting           156\n",
       "Science Fiction    130\n",
       "Adventure          109\n",
       "Wargame            102\n",
       "Miniatures          97\n",
       "Exploration         94\n",
       "Medieval            94"
      ]
     },
     "execution_count": 13,
     "metadata": {},
     "output_type": "execute_result"
    }
   ],
   "source": [
    "pivot = pd.pivot_table(data=df, index='Category', values = ['id'], aggfunc='count')\n",
    "pivot.columns = ['Games']\n",
    "pivot.sort_values('Games', ascending=False,inplace=True)\n",
    "pivot.head(10)"
   ]
  },
  {
   "cell_type": "code",
   "execution_count": 14,
   "metadata": {},
   "outputs": [
    {
     "data": {
      "text/html": [
       "<div>\n",
       "<style scoped>\n",
       "    .dataframe tbody tr th:only-of-type {\n",
       "        vertical-align: middle;\n",
       "    }\n",
       "\n",
       "    .dataframe tbody tr th {\n",
       "        vertical-align: top;\n",
       "    }\n",
       "\n",
       "    .dataframe thead th {\n",
       "        text-align: right;\n",
       "    }\n",
       "</style>\n",
       "<table border=\"1\" class=\"dataframe\">\n",
       "  <thead>\n",
       "    <tr style=\"text-align: right;\">\n",
       "      <th></th>\n",
       "      <th>Games</th>\n",
       "    </tr>\n",
       "    <tr>\n",
       "      <th>Category</th>\n",
       "      <th></th>\n",
       "    </tr>\n",
       "  </thead>\n",
       "  <tbody>\n",
       "    <tr>\n",
       "      <th>Electronic</th>\n",
       "      <td>3</td>\n",
       "    </tr>\n",
       "    <tr>\n",
       "      <th>Trivia</th>\n",
       "      <td>2</td>\n",
       "    </tr>\n",
       "    <tr>\n",
       "      <th>American Revolutionary War</th>\n",
       "      <td>2</td>\n",
       "    </tr>\n",
       "    <tr>\n",
       "      <th>Vietnam War</th>\n",
       "      <td>1</td>\n",
       "    </tr>\n",
       "    <tr>\n",
       "      <th>Expansion for Base-game</th>\n",
       "      <td>1</td>\n",
       "    </tr>\n",
       "  </tbody>\n",
       "</table>\n",
       "</div>"
      ],
      "text/plain": [
       "                            Games\n",
       "Category                         \n",
       "Electronic                      3\n",
       "Trivia                          2\n",
       "American Revolutionary War      2\n",
       "Vietnam War                     1\n",
       "Expansion for Base-game         1"
      ]
     },
     "execution_count": 14,
     "metadata": {},
     "output_type": "execute_result"
    }
   ],
   "source": [
    "pivot.tail(5)"
   ]
  },
  {
   "cell_type": "code",
   "execution_count": 22,
   "metadata": {},
   "outputs": [],
   "source": [
    "unpopular_cat_li = list(pivot[pivot['Games'] < 30].index)"
   ]
  },
  {
   "cell_type": "code",
   "execution_count": 24,
   "metadata": {},
   "outputs": [
    {
     "data": {
      "text/html": [
       "<div>\n",
       "<style scoped>\n",
       "    .dataframe tbody tr th:only-of-type {\n",
       "        vertical-align: middle;\n",
       "    }\n",
       "\n",
       "    .dataframe tbody tr th {\n",
       "        vertical-align: top;\n",
       "    }\n",
       "\n",
       "    .dataframe thead th {\n",
       "        text-align: right;\n",
       "    }\n",
       "</style>\n",
       "<table border=\"1\" class=\"dataframe\">\n",
       "  <thead>\n",
       "    <tr style=\"text-align: right;\">\n",
       "      <th></th>\n",
       "      <th>id</th>\n",
       "      <th>Title</th>\n",
       "      <th>Score</th>\n",
       "      <th>BayesScore</th>\n",
       "      <th>StdDev</th>\n",
       "      <th>Category</th>\n",
       "    </tr>\n",
       "  </thead>\n",
       "  <tbody>\n",
       "    <tr>\n",
       "      <th>30</th>\n",
       "      <td>284378</td>\n",
       "      <td>kanban_ev</td>\n",
       "      <td>8.70048</td>\n",
       "      <td>7.24979</td>\n",
       "      <td>1.20878</td>\n",
       "      <td>Economic</td>\n",
       "    </tr>\n",
       "    <tr>\n",
       "      <th>33</th>\n",
       "      <td>233078</td>\n",
       "      <td>twilight_imperium_fourth_edition</td>\n",
       "      <td>8.68469</td>\n",
       "      <td>8.25446</td>\n",
       "      <td>1.59933</td>\n",
       "      <td>Economic</td>\n",
       "    </tr>\n",
       "    <tr>\n",
       "      <th>40</th>\n",
       "      <td>224517</td>\n",
       "      <td>brass_birmingham</td>\n",
       "      <td>8.66929</td>\n",
       "      <td>8.40600</td>\n",
       "      <td>1.24659</td>\n",
       "      <td>Economic</td>\n",
       "    </tr>\n",
       "    <tr>\n",
       "      <th>61</th>\n",
       "      <td>220308</td>\n",
       "      <td>gaia_project</td>\n",
       "      <td>8.48599</td>\n",
       "      <td>8.17700</td>\n",
       "      <td>1.38992</td>\n",
       "      <td>Economic</td>\n",
       "    </tr>\n",
       "    <tr>\n",
       "      <th>79</th>\n",
       "      <td>167791</td>\n",
       "      <td>terraforming_mars</td>\n",
       "      <td>8.42470</td>\n",
       "      <td>8.27852</td>\n",
       "      <td>1.38438</td>\n",
       "      <td>Economic</td>\n",
       "    </tr>\n",
       "    <tr>\n",
       "      <th>87</th>\n",
       "      <td>182028</td>\n",
       "      <td>through_ages_new_story_civilization</td>\n",
       "      <td>8.40041</td>\n",
       "      <td>8.16310</td>\n",
       "      <td>1.50896</td>\n",
       "      <td>Economic</td>\n",
       "    </tr>\n",
       "    <tr>\n",
       "      <th>95</th>\n",
       "      <td>256960</td>\n",
       "      <td>pax_pamir_second_edition</td>\n",
       "      <td>8.38845</td>\n",
       "      <td>7.68404</td>\n",
       "      <td>1.41854</td>\n",
       "      <td>Economic</td>\n",
       "    </tr>\n",
       "    <tr>\n",
       "      <th>105</th>\n",
       "      <td>256916</td>\n",
       "      <td>concordia_venus</td>\n",
       "      <td>8.36289</td>\n",
       "      <td>7.29527</td>\n",
       "      <td>1.20657</td>\n",
       "      <td>Economic</td>\n",
       "    </tr>\n",
       "    <tr>\n",
       "      <th>134</th>\n",
       "      <td>193738</td>\n",
       "      <td>great_western_trail</td>\n",
       "      <td>8.30257</td>\n",
       "      <td>8.12938</td>\n",
       "      <td>1.26217</td>\n",
       "      <td>Economic</td>\n",
       "    </tr>\n",
       "    <tr>\n",
       "      <th>142</th>\n",
       "      <td>184267</td>\n",
       "      <td>mars</td>\n",
       "      <td>8.28442</td>\n",
       "      <td>7.69571</td>\n",
       "      <td>1.48998</td>\n",
       "      <td>Economic</td>\n",
       "    </tr>\n",
       "  </tbody>\n",
       "</table>\n",
       "</div>"
      ],
      "text/plain": [
       "         id                                Title    Score  BayesScore  \\\n",
       "30   284378                            kanban_ev  8.70048     7.24979   \n",
       "33   233078     twilight_imperium_fourth_edition  8.68469     8.25446   \n",
       "40   224517                     brass_birmingham  8.66929     8.40600   \n",
       "61   220308                         gaia_project  8.48599     8.17700   \n",
       "79   167791                    terraforming_mars  8.42470     8.27852   \n",
       "87   182028  through_ages_new_story_civilization  8.40041     8.16310   \n",
       "95   256960             pax_pamir_second_edition  8.38845     7.68404   \n",
       "105  256916                      concordia_venus  8.36289     7.29527   \n",
       "134  193738                  great_western_trail  8.30257     8.12938   \n",
       "142  184267                                 mars  8.28442     7.69571   \n",
       "\n",
       "      StdDev  Category  \n",
       "30   1.20878  Economic  \n",
       "33   1.59933  Economic  \n",
       "40   1.24659  Economic  \n",
       "61   1.38992  Economic  \n",
       "79   1.38438  Economic  \n",
       "87   1.50896  Economic  \n",
       "95   1.41854  Economic  \n",
       "105  1.20657  Economic  \n",
       "134  1.26217  Economic  \n",
       "142  1.48998  Economic  "
      ]
     },
     "execution_count": 24,
     "metadata": {},
     "output_type": "execute_result"
    }
   ],
   "source": [
    "# What are the top economic games?\n",
    "df[df.Category == 'Economic'].head(10)"
   ]
  },
  {
   "cell_type": "code",
   "execution_count": 30,
   "metadata": {},
   "outputs": [],
   "source": [
    "# Remove unpopular categories\n",
    "df = df[~df['Category'].isin(unpopular_cat_li)]"
   ]
  },
  {
   "cell_type": "code",
   "execution_count": 31,
   "metadata": {},
   "outputs": [],
   "source": [
    "cat_popularity = pd.pivot_table(df, index='Category',values='Score', aggfunc =['count','mean'])"
   ]
  },
  {
   "cell_type": "code",
   "execution_count": 32,
   "metadata": {},
   "outputs": [
    {
     "data": {
      "text/html": [
       "<div>\n",
       "<style scoped>\n",
       "    .dataframe tbody tr th:only-of-type {\n",
       "        vertical-align: middle;\n",
       "    }\n",
       "\n",
       "    .dataframe tbody tr th {\n",
       "        vertical-align: top;\n",
       "    }\n",
       "\n",
       "    .dataframe thead tr th {\n",
       "        text-align: left;\n",
       "    }\n",
       "\n",
       "    .dataframe thead tr:last-of-type th {\n",
       "        text-align: right;\n",
       "    }\n",
       "</style>\n",
       "<table border=\"1\" class=\"dataframe\">\n",
       "  <thead>\n",
       "    <tr>\n",
       "      <th></th>\n",
       "      <th>count</th>\n",
       "      <th>mean</th>\n",
       "    </tr>\n",
       "    <tr>\n",
       "      <th></th>\n",
       "      <th>Score</th>\n",
       "      <th>Score</th>\n",
       "    </tr>\n",
       "    <tr>\n",
       "      <th>Category</th>\n",
       "      <th></th>\n",
       "      <th></th>\n",
       "    </tr>\n",
       "  </thead>\n",
       "  <tbody>\n",
       "    <tr>\n",
       "      <th>Wargame</th>\n",
       "      <td>102</td>\n",
       "      <td>7.744096</td>\n",
       "    </tr>\n",
       "    <tr>\n",
       "      <th>Space Exploration</th>\n",
       "      <td>35</td>\n",
       "      <td>7.736283</td>\n",
       "    </tr>\n",
       "    <tr>\n",
       "      <th>Miniatures</th>\n",
       "      <td>97</td>\n",
       "      <td>7.727345</td>\n",
       "    </tr>\n",
       "    <tr>\n",
       "      <th>Industry / Manufacturing</th>\n",
       "      <td>48</td>\n",
       "      <td>7.716122</td>\n",
       "    </tr>\n",
       "    <tr>\n",
       "      <th>Political</th>\n",
       "      <td>51</td>\n",
       "      <td>7.699332</td>\n",
       "    </tr>\n",
       "    <tr>\n",
       "      <th>Science Fiction</th>\n",
       "      <td>130</td>\n",
       "      <td>7.614947</td>\n",
       "    </tr>\n",
       "    <tr>\n",
       "      <th>Economic</th>\n",
       "      <td>200</td>\n",
       "      <td>7.613747</td>\n",
       "    </tr>\n",
       "    <tr>\n",
       "      <th>Adventure</th>\n",
       "      <td>109</td>\n",
       "      <td>7.610351</td>\n",
       "    </tr>\n",
       "    <tr>\n",
       "      <th>Mythology</th>\n",
       "      <td>40</td>\n",
       "      <td>7.608344</td>\n",
       "    </tr>\n",
       "    <tr>\n",
       "      <th>Civilization</th>\n",
       "      <td>59</td>\n",
       "      <td>7.598081</td>\n",
       "    </tr>\n",
       "  </tbody>\n",
       "</table>\n",
       "</div>"
      ],
      "text/plain": [
       "                         count      mean\n",
       "                         Score     Score\n",
       "Category                                \n",
       "Wargame                    102  7.744096\n",
       "Space Exploration           35  7.736283\n",
       "Miniatures                  97  7.727345\n",
       "Industry / Manufacturing    48  7.716122\n",
       "Political                   51  7.699332\n",
       "Science Fiction            130  7.614947\n",
       "Economic                   200  7.613747\n",
       "Adventure                  109  7.610351\n",
       "Mythology                   40  7.608344\n",
       "Civilization                59  7.598081"
      ]
     },
     "execution_count": 32,
     "metadata": {},
     "output_type": "execute_result"
    }
   ],
   "source": [
    "cat_popularity.sort_values(('mean', 'Score'), ascending=False, inplace=True)\n",
    "cat_popularity.head(10)"
   ]
  },
  {
   "cell_type": "code",
   "execution_count": 34,
   "metadata": {},
   "outputs": [
    {
     "data": {
      "text/html": [
       "<div>\n",
       "<style scoped>\n",
       "    .dataframe tbody tr th:only-of-type {\n",
       "        vertical-align: middle;\n",
       "    }\n",
       "\n",
       "    .dataframe tbody tr th {\n",
       "        vertical-align: top;\n",
       "    }\n",
       "\n",
       "    .dataframe thead tr th {\n",
       "        text-align: left;\n",
       "    }\n",
       "\n",
       "    .dataframe thead tr:last-of-type th {\n",
       "        text-align: right;\n",
       "    }\n",
       "</style>\n",
       "<table border=\"1\" class=\"dataframe\">\n",
       "  <thead>\n",
       "    <tr>\n",
       "      <th></th>\n",
       "      <th>mean</th>\n",
       "      <th>std</th>\n",
       "      <th>count</th>\n",
       "    </tr>\n",
       "    <tr>\n",
       "      <th></th>\n",
       "      <th>Score</th>\n",
       "      <th>Score</th>\n",
       "      <th>Score</th>\n",
       "    </tr>\n",
       "    <tr>\n",
       "      <th>Category</th>\n",
       "      <th></th>\n",
       "      <th></th>\n",
       "      <th></th>\n",
       "    </tr>\n",
       "  </thead>\n",
       "  <tbody>\n",
       "    <tr>\n",
       "      <th>Wargame</th>\n",
       "      <td>7.744096</td>\n",
       "      <td>0.359506</td>\n",
       "      <td>102</td>\n",
       "    </tr>\n",
       "    <tr>\n",
       "      <th>Space Exploration</th>\n",
       "      <td>7.736283</td>\n",
       "      <td>0.406687</td>\n",
       "      <td>35</td>\n",
       "    </tr>\n",
       "    <tr>\n",
       "      <th>Miniatures</th>\n",
       "      <td>7.727345</td>\n",
       "      <td>0.437759</td>\n",
       "      <td>97</td>\n",
       "    </tr>\n",
       "    <tr>\n",
       "      <th>Industry / Manufacturing</th>\n",
       "      <td>7.716122</td>\n",
       "      <td>0.421021</td>\n",
       "      <td>48</td>\n",
       "    </tr>\n",
       "    <tr>\n",
       "      <th>Political</th>\n",
       "      <td>7.699332</td>\n",
       "      <td>0.393972</td>\n",
       "      <td>51</td>\n",
       "    </tr>\n",
       "    <tr>\n",
       "      <th>Science Fiction</th>\n",
       "      <td>7.614947</td>\n",
       "      <td>0.412592</td>\n",
       "      <td>130</td>\n",
       "    </tr>\n",
       "    <tr>\n",
       "      <th>Economic</th>\n",
       "      <td>7.613747</td>\n",
       "      <td>0.373531</td>\n",
       "      <td>200</td>\n",
       "    </tr>\n",
       "    <tr>\n",
       "      <th>Adventure</th>\n",
       "      <td>7.610351</td>\n",
       "      <td>0.490190</td>\n",
       "      <td>109</td>\n",
       "    </tr>\n",
       "    <tr>\n",
       "      <th>Mythology</th>\n",
       "      <td>7.608344</td>\n",
       "      <td>0.419404</td>\n",
       "      <td>40</td>\n",
       "    </tr>\n",
       "    <tr>\n",
       "      <th>Civilization</th>\n",
       "      <td>7.598081</td>\n",
       "      <td>0.394727</td>\n",
       "      <td>59</td>\n",
       "    </tr>\n",
       "    <tr>\n",
       "      <th>Exploration</th>\n",
       "      <td>7.592264</td>\n",
       "      <td>0.460548</td>\n",
       "      <td>94</td>\n",
       "    </tr>\n",
       "    <tr>\n",
       "      <th>Fighting</th>\n",
       "      <td>7.564490</td>\n",
       "      <td>0.415425</td>\n",
       "      <td>156</td>\n",
       "    </tr>\n",
       "    <tr>\n",
       "      <th>Fantasy</th>\n",
       "      <td>7.559552</td>\n",
       "      <td>0.443859</td>\n",
       "      <td>210</td>\n",
       "    </tr>\n",
       "    <tr>\n",
       "      <th>Ancient</th>\n",
       "      <td>7.551612</td>\n",
       "      <td>0.373024</td>\n",
       "      <td>62</td>\n",
       "    </tr>\n",
       "    <tr>\n",
       "      <th>Novel-based</th>\n",
       "      <td>7.545661</td>\n",
       "      <td>0.409913</td>\n",
       "      <td>49</td>\n",
       "    </tr>\n",
       "    <tr>\n",
       "      <th>Movies / TV / Radio theme</th>\n",
       "      <td>7.543590</td>\n",
       "      <td>0.386886</td>\n",
       "      <td>39</td>\n",
       "    </tr>\n",
       "    <tr>\n",
       "      <th>Farming</th>\n",
       "      <td>7.524989</td>\n",
       "      <td>0.352236</td>\n",
       "      <td>37</td>\n",
       "    </tr>\n",
       "    <tr>\n",
       "      <th>Horror</th>\n",
       "      <td>7.524751</td>\n",
       "      <td>0.420273</td>\n",
       "      <td>48</td>\n",
       "    </tr>\n",
       "    <tr>\n",
       "      <th>Puzzle</th>\n",
       "      <td>7.524299</td>\n",
       "      <td>0.351123</td>\n",
       "      <td>35</td>\n",
       "    </tr>\n",
       "    <tr>\n",
       "      <th>Renaissance</th>\n",
       "      <td>7.524183</td>\n",
       "      <td>0.325127</td>\n",
       "      <td>40</td>\n",
       "    </tr>\n",
       "    <tr>\n",
       "      <th>Negotiation</th>\n",
       "      <td>7.498188</td>\n",
       "      <td>0.412562</td>\n",
       "      <td>44</td>\n",
       "    </tr>\n",
       "    <tr>\n",
       "      <th>Territory Building</th>\n",
       "      <td>7.489967</td>\n",
       "      <td>0.432919</td>\n",
       "      <td>67</td>\n",
       "    </tr>\n",
       "    <tr>\n",
       "      <th>Transportation</th>\n",
       "      <td>7.485663</td>\n",
       "      <td>0.389900</td>\n",
       "      <td>35</td>\n",
       "    </tr>\n",
       "    <tr>\n",
       "      <th>Medieval</th>\n",
       "      <td>7.482770</td>\n",
       "      <td>0.356417</td>\n",
       "      <td>94</td>\n",
       "    </tr>\n",
       "    <tr>\n",
       "      <th>Nautical</th>\n",
       "      <td>7.476428</td>\n",
       "      <td>0.372392</td>\n",
       "      <td>49</td>\n",
       "    </tr>\n",
       "    <tr>\n",
       "      <th>City Building</th>\n",
       "      <td>7.437048</td>\n",
       "      <td>0.345630</td>\n",
       "      <td>89</td>\n",
       "    </tr>\n",
       "    <tr>\n",
       "      <th>Dice</th>\n",
       "      <td>7.435494</td>\n",
       "      <td>0.395206</td>\n",
       "      <td>83</td>\n",
       "    </tr>\n",
       "    <tr>\n",
       "      <th>Card Game</th>\n",
       "      <td>7.399789</td>\n",
       "      <td>0.364603</td>\n",
       "      <td>246</td>\n",
       "    </tr>\n",
       "    <tr>\n",
       "      <th>Animals</th>\n",
       "      <td>7.371308</td>\n",
       "      <td>0.403496</td>\n",
       "      <td>63</td>\n",
       "    </tr>\n",
       "    <tr>\n",
       "      <th>Deduction</th>\n",
       "      <td>7.354518</td>\n",
       "      <td>0.294167</td>\n",
       "      <td>71</td>\n",
       "    </tr>\n",
       "    <tr>\n",
       "      <th>Bluffing</th>\n",
       "      <td>7.348668</td>\n",
       "      <td>0.354551</td>\n",
       "      <td>61</td>\n",
       "    </tr>\n",
       "    <tr>\n",
       "      <th>Abstract Strategy</th>\n",
       "      <td>7.312127</td>\n",
       "      <td>0.335520</td>\n",
       "      <td>43</td>\n",
       "    </tr>\n",
       "    <tr>\n",
       "      <th>Party Game</th>\n",
       "      <td>7.266721</td>\n",
       "      <td>0.276530</td>\n",
       "      <td>42</td>\n",
       "    </tr>\n",
       "  </tbody>\n",
       "</table>\n",
       "</div>"
      ],
      "text/plain": [
       "                               mean       std count\n",
       "                              Score     Score Score\n",
       "Category                                           \n",
       "Wargame                    7.744096  0.359506   102\n",
       "Space Exploration          7.736283  0.406687    35\n",
       "Miniatures                 7.727345  0.437759    97\n",
       "Industry / Manufacturing   7.716122  0.421021    48\n",
       "Political                  7.699332  0.393972    51\n",
       "Science Fiction            7.614947  0.412592   130\n",
       "Economic                   7.613747  0.373531   200\n",
       "Adventure                  7.610351  0.490190   109\n",
       "Mythology                  7.608344  0.419404    40\n",
       "Civilization               7.598081  0.394727    59\n",
       "Exploration                7.592264  0.460548    94\n",
       "Fighting                   7.564490  0.415425   156\n",
       "Fantasy                    7.559552  0.443859   210\n",
       "Ancient                    7.551612  0.373024    62\n",
       "Novel-based                7.545661  0.409913    49\n",
       "Movies / TV / Radio theme  7.543590  0.386886    39\n",
       "Farming                    7.524989  0.352236    37\n",
       "Horror                     7.524751  0.420273    48\n",
       "Puzzle                     7.524299  0.351123    35\n",
       "Renaissance                7.524183  0.325127    40\n",
       "Negotiation                7.498188  0.412562    44\n",
       "Territory Building         7.489967  0.432919    67\n",
       "Transportation             7.485663  0.389900    35\n",
       "Medieval                   7.482770  0.356417    94\n",
       "Nautical                   7.476428  0.372392    49\n",
       "City Building              7.437048  0.345630    89\n",
       "Dice                       7.435494  0.395206    83\n",
       "Card Game                  7.399789  0.364603   246\n",
       "Animals                    7.371308  0.403496    63\n",
       "Deduction                  7.354518  0.294167    71\n",
       "Bluffing                   7.348668  0.354551    61\n",
       "Abstract Strategy          7.312127  0.335520    43\n",
       "Party Game                 7.266721  0.276530    42"
      ]
     },
     "execution_count": 34,
     "metadata": {},
     "output_type": "execute_result"
    }
   ],
   "source": [
    "std_pivot = pd.pivot_table(df, index='Category', values =['Score'], aggfunc=['mean', 'std', 'count'])\n",
    "std_pivot.sort_values(('mean', 'Score'), ascending=False)"
   ]
  },
  {
   "cell_type": "markdown",
   "metadata": {},
   "source": [
    "Given the lack of variability for scores, let's test to see if there is a difference between the first and last score"
   ]
  },
  {
   "cell_type": "code",
   "execution_count": 35,
   "metadata": {},
   "outputs": [],
   "source": [
    "from scipy.stats import ttest_ind"
   ]
  },
  {
   "cell_type": "code",
   "execution_count": 36,
   "metadata": {},
   "outputs": [],
   "source": [
    "best_mechanic = df.loc[df['Category'] == 'Wargame', 'Score']"
   ]
  },
  {
   "cell_type": "code",
   "execution_count": 38,
   "metadata": {},
   "outputs": [],
   "source": [
    "worst_mechanic = df.loc[df['Category'] == 'Party Game', 'Score']"
   ]
  },
  {
   "cell_type": "code",
   "execution_count": 39,
   "metadata": {},
   "outputs": [
    {
     "data": {
      "text/plain": [
       "Ttest_indResult(statistic=8.590847584285903, pvalue=1.3198776705344143e-13)"
      ]
     },
     "execution_count": 39,
     "metadata": {},
     "output_type": "execute_result"
    }
   ],
   "source": [
    "ttest_ind(a=best_mechanic, b=worst_mechanic,equal_var=False)"
   ]
  },
  {
   "cell_type": "markdown",
   "metadata": {},
   "source": [
    "Pretty clearly significant. Side "
   ]
  },
  {
   "cell_type": "code",
   "execution_count": 131,
   "metadata": {},
   "outputs": [],
   "source": [
    "# This will be a list of mechanics I like. They are not chosen for statistical purposes\n",
    "mechanic_li = ['Worker Placement', 'Tile Placement', 'Solo / Solitaire Game', 'Dice Rolling', 'Set Collection']"
   ]
  },
  {
   "cell_type": "code",
   "execution_count": 132,
   "metadata": {},
   "outputs": [],
   "source": [
    "five_mechanics = df[df['Mechanic'].isin(mechanic_li)]"
   ]
  },
  {
   "cell_type": "code",
   "execution_count": 133,
   "metadata": {},
   "outputs": [],
   "source": [
    "import seaborn as sns"
   ]
  },
  {
   "cell_type": "code",
   "execution_count": 134,
   "metadata": {},
   "outputs": [],
   "source": [
    "sns.set(rc={'figure.figsize':(10,8)})"
   ]
  },
  {
   "cell_type": "code",
   "execution_count": 135,
   "metadata": {},
   "outputs": [
    {
     "data": {
      "text/plain": [
       "<matplotlib.axes._subplots.AxesSubplot at 0x23447c0fc88>"
      ]
     },
     "execution_count": 135,
     "metadata": {},
     "output_type": "execute_result"
    },
    {
     "data": {
      "image/png": "[encoded data removed]",
      "text/plain": [
       "<Figure size 720x576 with 1 Axes>"
      ]
     },
     "metadata": {},
     "output_type": "display_data"
    }
   ],
   "source": [
    "sns.boxplot(data=five_mechanics,x='Mechanic',y='Score')"
   ]
  },
  {
   "cell_type": "markdown",
   "metadata": {},
   "source": [
    "Let's see if there's a stistically significant difference. Barplot will work for this, but we'll have a lot of wasted space since all the values are at least 7. Let's subtract 7 from all the scores"
   ]
  },
  {
   "cell_type": "code",
   "execution_count": 136,
   "metadata": {},
   "outputs": [
    {
     "name": "stderr",
     "output_type": "stream",
     "text": [
      "C:\\Users\\18053\\Anaconda3\\lib\\site-packages\\ipykernel_launcher.py:1: SettingWithCopyWarning: \n",
      "A value is trying to be set on a copy of a slice from a DataFrame.\n",
      "Try using .loc[row_indexer,col_indexer] = value instead\n",
      "\n",
      "See the caveats in the documentation: http://pandas.pydata.org/pandas-docs/stable/user_guide/indexing.html#returning-a-view-versus-a-copy\n",
      "  \"\"\"Entry point for launching an IPython kernel.\n"
     ]
    }
   ],
   "source": [
    "five_mechanics['NewScore'] = five_mechanics['Score'].apply(lambda x: x-7)"
   ]
  },
  {
   "cell_type": "code",
   "execution_count": 137,
   "metadata": {},
   "outputs": [
    {
     "data": {
      "text/plain": [
       "<matplotlib.axes._subplots.AxesSubplot at 0x23449f5e588>"
      ]
     },
     "execution_count": 137,
     "metadata": {},
     "output_type": "execute_result"
    },
    {
     "data": {
      "image/png": "[encoded data removed]",
      "text/plain": [
       "<Figure size 720x576 with 1 Axes>"
      ]
     },
     "metadata": {},
     "output_type": "display_data"
    }
   ],
   "source": [
    "sns.barplot(data=five_mechanics,x='Mechanic',y='NewScore')"
   ]
  },
  {
   "cell_type": "markdown",
   "metadata": {},
   "source": [
    "Looks like Solo's score is statistically siginifically higher than Set Colleciton, Tile Placement, and Dice Rolling. Eyeballing it, it's hard to tell for Worker Placement. \n",
    "\n",
    "Let's look at the 10% level. First, let's sort smallest to largest so it's easier to read"
   ]
  },
  {
   "cell_type": "code",
   "execution_count": 138,
   "metadata": {},
   "outputs": [],
   "source": [
    "def sort_mechanic(mechanic):\n",
    "    mechanic_li = ['Worker Placement', 'Tile Placement', 'Solo / Solitaire Game', 'Dice Rolling', 'Set Collection']\n",
    "    if mechanic == 'Solo / Solitaire Game':\n",
    "        return 0\n",
    "    elif mechanic == 'Worker Placement':\n",
    "        return 1\n",
    "    elif mechanic == 'Dice Rolling':\n",
    "        return 2\n",
    "    elif mechanic == 'Tile Placement':\n",
    "        return 3\n",
    "    else:\n",
    "        return 4"
   ]
  },
  {
   "cell_type": "code",
   "execution_count": 139,
   "metadata": {},
   "outputs": [
    {
     "name": "stderr",
     "output_type": "stream",
     "text": [
      "C:\\Users\\18053\\Anaconda3\\lib\\site-packages\\ipykernel_launcher.py:1: SettingWithCopyWarning: \n",
      "A value is trying to be set on a copy of a slice from a DataFrame.\n",
      "Try using .loc[row_indexer,col_indexer] = value instead\n",
      "\n",
      "See the caveats in the documentation: http://pandas.pydata.org/pandas-docs/stable/user_guide/indexing.html#returning-a-view-versus-a-copy\n",
      "  \"\"\"Entry point for launching an IPython kernel.\n",
      "C:\\Users\\18053\\Anaconda3\\lib\\site-packages\\ipykernel_launcher.py:2: SettingWithCopyWarning: \n",
      "A value is trying to be set on a copy of a slice from a DataFrame\n",
      "\n",
      "See the caveats in the documentation: http://pandas.pydata.org/pandas-docs/stable/user_guide/indexing.html#returning-a-view-versus-a-copy\n",
      "  \n"
     ]
    }
   ],
   "source": [
    "five_mechanics['SortValue'] = five_mechanics['Mechanic'].apply(sort_mechanic)\n",
    "five_mechanics.sort_values('SortValue',ascending=True,inplace=True)"
   ]
  },
  {
   "cell_type": "code",
   "execution_count": 140,
   "metadata": {},
   "outputs": [
    {
     "data": {
      "text/plain": [
       "<matplotlib.axes._subplots.AxesSubplot at 0x23449de3c48>"
      ]
     },
     "execution_count": 140,
     "metadata": {},
     "output_type": "execute_result"
    },
    {
     "data": {
      "image/png": "[encoded data removed]",
      "text/plain": [
       "<Figure size 720x576 with 1 Axes>"
      ]
     },
     "metadata": {},
     "output_type": "display_data"
    }
   ],
   "source": [
    "sns.barplot(data=five_mechanics,x='Mechanic',y='NewScore',ci=90)"
   ]
  },
  {
   "cell_type": "markdown",
   "metadata": {},
   "source": [
    "Close for Solo & Worker Placement, and close for Worker Placement & Tile Placement. Overall though, Solo clearly does better than the bottom three, and set collection performs worse than the top 3\n",
    "\n",
    "What about the standard deviation? Are some mechanics more divisive?"
   ]
  },
  {
   "cell_type": "code",
   "execution_count": 141,
   "metadata": {},
   "outputs": [
    {
     "data": {
      "text/plain": [
       "<matplotlib.axes._subplots.AxesSubplot at 0x2344a0ef648>"
      ]
     },
     "execution_count": 141,
     "metadata": {},
     "output_type": "execute_result"
    },
    {
     "data": {
      "image/png": "[encoded data removed]",
      "text/plain": [
       "<Figure size 720x576 with 1 Axes>"
      ]
     },
     "metadata": {},
     "output_type": "display_data"
    }
   ],
   "source": [
    "sns.barplot(data=five_mechanics,x='Mechanic',y='StdDev',ci=95)"
   ]
  },
  {
   "cell_type": "markdown",
   "metadata": {},
   "source": [
    "Changing the axis could really change the story here. Let's subtract one from standard deviation and look again"
   ]
  },
  {
   "cell_type": "code",
   "execution_count": 142,
   "metadata": {},
   "outputs": [
    {
     "name": "stderr",
     "output_type": "stream",
     "text": [
      "C:\\Users\\18053\\Anaconda3\\lib\\site-packages\\ipykernel_launcher.py:2: SettingWithCopyWarning: \n",
      "A value is trying to be set on a copy of a slice from a DataFrame.\n",
      "Try using .loc[row_indexer,col_indexer] = value instead\n",
      "\n",
      "See the caveats in the documentation: http://pandas.pydata.org/pandas-docs/stable/user_guide/indexing.html#returning-a-view-versus-a-copy\n",
      "  \n"
     ]
    }
   ],
   "source": [
    "# Looks like I don't need to use apply/lamba here, I wanted to try both ways\n",
    "five_mechanics['NewStdDev'] = five_mechanics['StdDev'] - 1 "
   ]
  },
  {
   "cell_type": "code",
   "execution_count": 143,
   "metadata": {},
   "outputs": [
    {
     "data": {
      "text/plain": [
       "<matplotlib.axes._subplots.AxesSubplot at 0x2344a16ad48>"
      ]
     },
     "execution_count": 143,
     "metadata": {},
     "output_type": "execute_result"
    },
    {
     "data": {
      "image/png": "[encoded data removed]",
      "text/plain": [
       "<Figure size 720x576 with 1 Axes>"
      ]
     },
     "metadata": {},
     "output_type": "display_data"
    }
   ],
   "source": [
    "sns.barplot(data=five_mechanics,x='Mechanic',y='NewStdDev',ci=95)"
   ]
  },
  {
   "cell_type": "markdown",
   "metadata": {},
   "source": [
    "Dice Rolling is more divisive! This makes intuitive sense to me, as it could be used in various different types of games. On the other hand, Worker Placement is generally only used in more 'hardcore' Euro games. \n",
    "\n",
    "...however, we have to consider the effect size. Is 0.2 points in standard deviation pratictally meaningful? Hard to say. This could be like \"nudges\" in behavioural economics: statistically significant but practically quite small. "
   ]
  }
 ],
 "metadata": {
  "kernelspec": {
   "display_name": "Python 3",
   "language": "python",
   "name": "python3"
  },
  "language_info": {
   "codemirror_mode": {
    "name": "ipython",
    "version": 3
   },
   "file_extension": ".py",
   "mimetype": "text/x-python",
   "name": "python",
   "nbconvert_exporter": "python",
   "pygments_lexer": "ipython3",
   "version": "3.7.6"
  }
 },
 "nbformat": 4,
 "nbformat_minor": 4
}
