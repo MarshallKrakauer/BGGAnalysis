{
 "cells": [
  {
   "cell_type": "code",
   "execution_count": 114,
   "metadata": {},
   "outputs": [],
   "source": [
    "import requests\n",
    "from lxml import etree\n",
    "from bs4 import BeautifulSoup\n",
    "import pandas as pd\n",
    "import numpy as np\n",
    "import time\n",
    "import sqlite3"
   ]
  },
  {
   "cell_type": "code",
   "execution_count": 115,
   "metadata": {},
   "outputs": [],
   "source": [
    "con = sqlite3.connect('bgg.db')\n",
    "cur = con.cursor()"
   ]
  },
  {
   "cell_type": "code",
   "execution_count": 51,
   "metadata": {},
   "outputs": [],
   "source": [
    "query = '''\n",
    " SELECT t1.id, title, CAST(avg_rating AS FLOAT64), CAST(avg_bayes_rating AS FLOAT64),\n",
    "        CAST(std as FLOAT64) std, mechanic\n",
    " \n",
    " FROM TOP_GAMES_FULL t1\n",
    "   LEFT JOIN BGG_MECHANICS t2\n",
    "     ON t1.id = t2.id\n",
    "'''\n",
    "\n",
    "results = cur.execute(query)\n",
    "result_li = [elem for elem in results.fetchall()]"
   ]
  },
  {
   "cell_type": "code",
   "execution_count": 52,
   "metadata": {},
   "outputs": [],
   "source": [
    "df = pd.DataFrame(result_li, columns = ['id', 'Title','Score', 'BayesScore', 'StdDev', 'Mechanic'])"
   ]
  },
  {
   "cell_type": "code",
   "execution_count": 53,
   "metadata": {},
   "outputs": [
    {
     "data": {
      "text/html": [
       "<div>\n",
       "<style scoped>\n",
       "    .dataframe tbody tr th:only-of-type {\n",
       "        vertical-align: middle;\n",
       "    }\n",
       "\n",
       "    .dataframe tbody tr th {\n",
       "        vertical-align: top;\n",
       "    }\n",
       "\n",
       "    .dataframe thead th {\n",
       "        text-align: right;\n",
       "    }\n",
       "</style>\n",
       "<table border=\"1\" class=\"dataframe\">\n",
       "  <thead>\n",
       "    <tr style=\"text-align: right;\">\n",
       "      <th></th>\n",
       "      <th>id</th>\n",
       "      <th>Title</th>\n",
       "      <th>Score</th>\n",
       "      <th>BayesScore</th>\n",
       "      <th>StdDev</th>\n",
       "      <th>Mechanic</th>\n",
       "    </tr>\n",
       "  </thead>\n",
       "  <tbody>\n",
       "    <tr>\n",
       "      <th>225</th>\n",
       "      <td>177736</td>\n",
       "      <td>feast_odin</td>\n",
       "      <td>8.19481</td>\n",
       "      <td>7.93557</td>\n",
       "      <td>1.35943</td>\n",
       "      <td>Worker Placement</td>\n",
       "    </tr>\n",
       "    <tr>\n",
       "      <th>240</th>\n",
       "      <td>183394</td>\n",
       "      <td>viticulture_essential_edition</td>\n",
       "      <td>8.07212</td>\n",
       "      <td>7.90471</td>\n",
       "      <td>1.26240</td>\n",
       "      <td>Worker Placement</td>\n",
       "    </tr>\n",
       "    <tr>\n",
       "      <th>245</th>\n",
       "      <td>164928</td>\n",
       "      <td>orleans</td>\n",
       "      <td>8.07961</td>\n",
       "      <td>7.88768</td>\n",
       "      <td>1.16433</td>\n",
       "      <td>Worker Placement</td>\n",
       "    </tr>\n",
       "    <tr>\n",
       "      <th>273</th>\n",
       "      <td>199792</td>\n",
       "      <td>everdell</td>\n",
       "      <td>8.10170</td>\n",
       "      <td>7.85999</td>\n",
       "      <td>1.28172</td>\n",
       "      <td>Worker Placement</td>\n",
       "    </tr>\n",
       "    <tr>\n",
       "      <th>286</th>\n",
       "      <td>102794</td>\n",
       "      <td>caverna_cave_farmers</td>\n",
       "      <td>8.00967</td>\n",
       "      <td>7.83646</td>\n",
       "      <td>1.34381</td>\n",
       "      <td>Worker Placement</td>\n",
       "    </tr>\n",
       "    <tr>\n",
       "      <th>303</th>\n",
       "      <td>31260</td>\n",
       "      <td>agricola</td>\n",
       "      <td>7.93584</td>\n",
       "      <td>7.82056</td>\n",
       "      <td>1.55505</td>\n",
       "      <td>Worker Placement</td>\n",
       "    </tr>\n",
       "    <tr>\n",
       "      <th>319</th>\n",
       "      <td>316554</td>\n",
       "      <td>dune_imperium</td>\n",
       "      <td>8.33742</td>\n",
       "      <td>7.81859</td>\n",
       "      <td>1.21930</td>\n",
       "      <td>Worker Placement</td>\n",
       "    </tr>\n",
       "    <tr>\n",
       "      <th>411</th>\n",
       "      <td>247763</td>\n",
       "      <td>underwater_cities</td>\n",
       "      <td>8.11362</td>\n",
       "      <td>7.75732</td>\n",
       "      <td>1.17854</td>\n",
       "      <td>Worker Placement</td>\n",
       "    </tr>\n",
       "    <tr>\n",
       "      <th>421</th>\n",
       "      <td>126163</td>\n",
       "      <td>tzolk_mayan_calendar</td>\n",
       "      <td>7.89622</td>\n",
       "      <td>7.74788</td>\n",
       "      <td>1.26793</td>\n",
       "      <td>Worker Placement</td>\n",
       "    </tr>\n",
       "    <tr>\n",
       "      <th>434</th>\n",
       "      <td>185343</td>\n",
       "      <td>anachrony</td>\n",
       "      <td>8.10734</td>\n",
       "      <td>7.74550</td>\n",
       "      <td>1.38137</td>\n",
       "      <td>Worker Placement</td>\n",
       "    </tr>\n",
       "  </tbody>\n",
       "</table>\n",
       "</div>"
      ],
      "text/plain": [
       "         id                          Title    Score  BayesScore   StdDev  \\\n",
       "225  177736                     feast_odin  8.19481     7.93557  1.35943   \n",
       "240  183394  viticulture_essential_edition  8.07212     7.90471  1.26240   \n",
       "245  164928                        orleans  8.07961     7.88768  1.16433   \n",
       "273  199792                       everdell  8.10170     7.85999  1.28172   \n",
       "286  102794           caverna_cave_farmers  8.00967     7.83646  1.34381   \n",
       "303   31260                       agricola  7.93584     7.82056  1.55505   \n",
       "319  316554                  dune_imperium  8.33742     7.81859  1.21930   \n",
       "411  247763              underwater_cities  8.11362     7.75732  1.17854   \n",
       "421  126163           tzolk_mayan_calendar  7.89622     7.74788  1.26793   \n",
       "434  185343                      anachrony  8.10734     7.74550  1.38137   \n",
       "\n",
       "             Mechanic  \n",
       "225  Worker Placement  \n",
       "240  Worker Placement  \n",
       "245  Worker Placement  \n",
       "273  Worker Placement  \n",
       "286  Worker Placement  \n",
       "303  Worker Placement  \n",
       "319  Worker Placement  \n",
       "411  Worker Placement  \n",
       "421  Worker Placement  \n",
       "434  Worker Placement  "
      ]
     },
     "execution_count": 53,
     "metadata": {},
     "output_type": "execute_result"
    }
   ],
   "source": [
    "# What are the top worker placement games?\n",
    "df[df.Mechanic == 'Worker Placement'].head(10)"
   ]
  },
  {
   "cell_type": "code",
   "execution_count": 54,
   "metadata": {},
   "outputs": [],
   "source": [
    "mechanic_popularity = pd.pivot_table(df, index='Mechanic',values='Score', aggfunc =['count','mean'])"
   ]
  },
  {
   "cell_type": "code",
   "execution_count": 55,
   "metadata": {},
   "outputs": [
    {
     "data": {
      "text/html": [
       "<div>\n",
       "<style scoped>\n",
       "    .dataframe tbody tr th:only-of-type {\n",
       "        vertical-align: middle;\n",
       "    }\n",
       "\n",
       "    .dataframe tbody tr th {\n",
       "        vertical-align: top;\n",
       "    }\n",
       "\n",
       "    .dataframe thead tr th {\n",
       "        text-align: left;\n",
       "    }\n",
       "\n",
       "    .dataframe thead tr:last-of-type th {\n",
       "        text-align: right;\n",
       "    }\n",
       "</style>\n",
       "<table border=\"1\" class=\"dataframe\">\n",
       "  <thead>\n",
       "    <tr>\n",
       "      <th></th>\n",
       "      <th>count</th>\n",
       "      <th>mean</th>\n",
       "    </tr>\n",
       "    <tr>\n",
       "      <th></th>\n",
       "      <th>Score</th>\n",
       "      <th>Score</th>\n",
       "    </tr>\n",
       "    <tr>\n",
       "      <th>Mechanic</th>\n",
       "      <th></th>\n",
       "      <th></th>\n",
       "    </tr>\n",
       "  </thead>\n",
       "  <tbody>\n",
       "    <tr>\n",
       "      <th>Hand Management</th>\n",
       "      <td>162</td>\n",
       "      <td>7.601962</td>\n",
       "    </tr>\n",
       "    <tr>\n",
       "      <th>Variable Player Powers</th>\n",
       "      <td>133</td>\n",
       "      <td>7.752329</td>\n",
       "    </tr>\n",
       "    <tr>\n",
       "      <th>Dice Rolling</th>\n",
       "      <td>127</td>\n",
       "      <td>7.647897</td>\n",
       "    </tr>\n",
       "    <tr>\n",
       "      <th>Card Drafting</th>\n",
       "      <td>94</td>\n",
       "      <td>7.583281</td>\n",
       "    </tr>\n",
       "    <tr>\n",
       "      <th>Set Collection</th>\n",
       "      <td>93</td>\n",
       "      <td>7.567719</td>\n",
       "    </tr>\n",
       "    <tr>\n",
       "      <th>Solo / Solitaire Game</th>\n",
       "      <td>86</td>\n",
       "      <td>7.840290</td>\n",
       "    </tr>\n",
       "    <tr>\n",
       "      <th>Area Majority / Influence</th>\n",
       "      <td>73</td>\n",
       "      <td>7.586709</td>\n",
       "    </tr>\n",
       "    <tr>\n",
       "      <th>Modular Board</th>\n",
       "      <td>64</td>\n",
       "      <td>7.663014</td>\n",
       "    </tr>\n",
       "    <tr>\n",
       "      <th>Worker Placement</th>\n",
       "      <td>63</td>\n",
       "      <td>7.755847</td>\n",
       "    </tr>\n",
       "    <tr>\n",
       "      <th>Cooperative Game</th>\n",
       "      <td>61</td>\n",
       "      <td>7.726235</td>\n",
       "    </tr>\n",
       "  </tbody>\n",
       "</table>\n",
       "</div>"
      ],
      "text/plain": [
       "                          count      mean\n",
       "                          Score     Score\n",
       "Mechanic                                 \n",
       "Hand Management             162  7.601962\n",
       "Variable Player Powers      133  7.752329\n",
       "Dice Rolling                127  7.647897\n",
       "Card Drafting                94  7.583281\n",
       "Set Collection               93  7.567719\n",
       "Solo / Solitaire Game        86  7.840290\n",
       "Area Majority / Influence    73  7.586709\n",
       "Modular Board                64  7.663014\n",
       "Worker Placement             63  7.755847\n",
       "Cooperative Game             61  7.726235"
      ]
     },
     "execution_count": 55,
     "metadata": {},
     "output_type": "execute_result"
    }
   ],
   "source": [
    "mechanic_popularity.sort_values(('count', 'Score'), ascending=False, inplace=True)\n",
    "mechanic_popularity.head(10)"
   ]
  },
  {
   "cell_type": "code",
   "execution_count": 56,
   "metadata": {},
   "outputs": [],
   "source": [
    "mechanic_min_30 = mechanic_popularity[mechanic_popularity[('count', 'Score')] >= 30]"
   ]
  },
  {
   "cell_type": "code",
   "execution_count": 58,
   "metadata": {},
   "outputs": [
    {
     "data": {
      "text/html": [
       "<div>\n",
       "<style scoped>\n",
       "    .dataframe tbody tr th:only-of-type {\n",
       "        vertical-align: middle;\n",
       "    }\n",
       "\n",
       "    .dataframe tbody tr th {\n",
       "        vertical-align: top;\n",
       "    }\n",
       "\n",
       "    .dataframe thead tr th {\n",
       "        text-align: left;\n",
       "    }\n",
       "\n",
       "    .dataframe thead tr:last-of-type th {\n",
       "        text-align: right;\n",
       "    }\n",
       "</style>\n",
       "<table border=\"1\" class=\"dataframe\">\n",
       "  <thead>\n",
       "    <tr>\n",
       "      <th></th>\n",
       "      <th>count</th>\n",
       "      <th>mean</th>\n",
       "    </tr>\n",
       "    <tr>\n",
       "      <th></th>\n",
       "      <th>Score</th>\n",
       "      <th>Score</th>\n",
       "    </tr>\n",
       "    <tr>\n",
       "      <th>Mechanic</th>\n",
       "      <th></th>\n",
       "      <th></th>\n",
       "    </tr>\n",
       "  </thead>\n",
       "  <tbody>\n",
       "    <tr>\n",
       "      <th>Variable Set-up</th>\n",
       "      <td>41</td>\n",
       "      <td>7.878113</td>\n",
       "    </tr>\n",
       "    <tr>\n",
       "      <th>Scenario / Mission / Campaign Game</th>\n",
       "      <td>30</td>\n",
       "      <td>7.876293</td>\n",
       "    </tr>\n",
       "    <tr>\n",
       "      <th>Solo / Solitaire Game</th>\n",
       "      <td>86</td>\n",
       "      <td>7.840290</td>\n",
       "    </tr>\n",
       "    <tr>\n",
       "      <th>Hexagon Grid</th>\n",
       "      <td>33</td>\n",
       "      <td>7.804619</td>\n",
       "    </tr>\n",
       "    <tr>\n",
       "      <th>Point to Point Movement</th>\n",
       "      <td>34</td>\n",
       "      <td>7.787910</td>\n",
       "    </tr>\n",
       "  </tbody>\n",
       "</table>\n",
       "</div>"
      ],
      "text/plain": [
       "                                   count      mean\n",
       "                                   Score     Score\n",
       "Mechanic                                          \n",
       "Variable Set-up                       41  7.878113\n",
       "Scenario / Mission / Campaign Game    30  7.876293\n",
       "Solo / Solitaire Game                 86  7.840290\n",
       "Hexagon Grid                          33  7.804619\n",
       "Point to Point Movement               34  7.787910"
      ]
     },
     "execution_count": 58,
     "metadata": {},
     "output_type": "execute_result"
    }
   ],
   "source": [
    "mechanic_min_30.sort_values(('mean', 'Score'), ascending=False).head()"
   ]
  },
  {
   "cell_type": "code",
   "execution_count": 60,
   "metadata": {},
   "outputs": [
    {
     "data": {
      "text/html": [
       "<div>\n",
       "<style scoped>\n",
       "    .dataframe tbody tr th:only-of-type {\n",
       "        vertical-align: middle;\n",
       "    }\n",
       "\n",
       "    .dataframe tbody tr th {\n",
       "        vertical-align: top;\n",
       "    }\n",
       "\n",
       "    .dataframe thead tr th {\n",
       "        text-align: left;\n",
       "    }\n",
       "\n",
       "    .dataframe thead tr:last-of-type th {\n",
       "        text-align: right;\n",
       "    }\n",
       "</style>\n",
       "<table border=\"1\" class=\"dataframe\">\n",
       "  <thead>\n",
       "    <tr>\n",
       "      <th></th>\n",
       "      <th>count</th>\n",
       "      <th>mean</th>\n",
       "    </tr>\n",
       "    <tr>\n",
       "      <th></th>\n",
       "      <th>Score</th>\n",
       "      <th>Score</th>\n",
       "    </tr>\n",
       "    <tr>\n",
       "      <th>Mechanic</th>\n",
       "      <th></th>\n",
       "      <th></th>\n",
       "    </tr>\n",
       "  </thead>\n",
       "  <tbody>\n",
       "    <tr>\n",
       "      <th>Area Majority / Influence</th>\n",
       "      <td>73</td>\n",
       "      <td>7.586709</td>\n",
       "    </tr>\n",
       "    <tr>\n",
       "      <th>Card Drafting</th>\n",
       "      <td>94</td>\n",
       "      <td>7.583281</td>\n",
       "    </tr>\n",
       "    <tr>\n",
       "      <th>Tile Placement</th>\n",
       "      <td>56</td>\n",
       "      <td>7.572843</td>\n",
       "    </tr>\n",
       "    <tr>\n",
       "      <th>Set Collection</th>\n",
       "      <td>93</td>\n",
       "      <td>7.567719</td>\n",
       "    </tr>\n",
       "    <tr>\n",
       "      <th>Simultaneous Action Selection</th>\n",
       "      <td>34</td>\n",
       "      <td>7.560238</td>\n",
       "    </tr>\n",
       "  </tbody>\n",
       "</table>\n",
       "</div>"
      ],
      "text/plain": [
       "                              count      mean\n",
       "                              Score     Score\n",
       "Mechanic                                     \n",
       "Area Majority / Influence        73  7.586709\n",
       "Card Drafting                    94  7.583281\n",
       "Tile Placement                   56  7.572843\n",
       "Set Collection                   93  7.567719\n",
       "Simultaneous Action Selection    34  7.560238"
      ]
     },
     "execution_count": 60,
     "metadata": {},
     "output_type": "execute_result"
    }
   ],
   "source": [
    "mechanic_min_30.sort_values(('mean', 'Score'), ascending=False).tail()"
   ]
  },
  {
   "cell_type": "code",
   "execution_count": 63,
   "metadata": {},
   "outputs": [
    {
     "data": {
      "text/plain": [
       "MultiIndex([('count', 'Score'),\n",
       "            ( 'mean', 'Score')],\n",
       "           )"
      ]
     },
     "execution_count": 63,
     "metadata": {},
     "output_type": "execute_result"
    }
   ],
   "source": [
    "mechanic_min_30.columns"
   ]
  },
  {
   "cell_type": "code",
   "execution_count": 69,
   "metadata": {},
   "outputs": [
    {
     "data": {
      "text/html": [
       "<div>\n",
       "<style scoped>\n",
       "    .dataframe tbody tr th:only-of-type {\n",
       "        vertical-align: middle;\n",
       "    }\n",
       "\n",
       "    .dataframe tbody tr th {\n",
       "        vertical-align: top;\n",
       "    }\n",
       "\n",
       "    .dataframe thead tr th {\n",
       "        text-align: left;\n",
       "    }\n",
       "</style>\n",
       "<table border=\"1\" class=\"dataframe\">\n",
       "  <thead>\n",
       "    <tr>\n",
       "      <th></th>\n",
       "      <th>mean</th>\n",
       "      <th>std</th>\n",
       "      <th>count</th>\n",
       "    </tr>\n",
       "    <tr>\n",
       "      <th></th>\n",
       "      <th>Score</th>\n",
       "      <th>Score</th>\n",
       "      <th>Score</th>\n",
       "    </tr>\n",
       "  </thead>\n",
       "  <tbody>\n",
       "    <tr>\n",
       "      <th>Variable Set-up</th>\n",
       "      <td>7.878113</td>\n",
       "      <td>0.380549</td>\n",
       "      <td>41</td>\n",
       "    </tr>\n",
       "    <tr>\n",
       "      <th>Scenario / Mission / Campaign Game</th>\n",
       "      <td>7.876293</td>\n",
       "      <td>0.470028</td>\n",
       "      <td>30</td>\n",
       "    </tr>\n",
       "    <tr>\n",
       "      <th>Solo / Solitaire Game</th>\n",
       "      <td>7.840290</td>\n",
       "      <td>0.443947</td>\n",
       "      <td>86</td>\n",
       "    </tr>\n",
       "    <tr>\n",
       "      <th>Hexagon Grid</th>\n",
       "      <td>7.804619</td>\n",
       "      <td>0.487960</td>\n",
       "      <td>33</td>\n",
       "    </tr>\n",
       "    <tr>\n",
       "      <th>Point to Point Movement</th>\n",
       "      <td>7.787910</td>\n",
       "      <td>0.488639</td>\n",
       "      <td>34</td>\n",
       "    </tr>\n",
       "    <tr>\n",
       "      <th>End Game Bonuses</th>\n",
       "      <td>7.776219</td>\n",
       "      <td>0.410138</td>\n",
       "      <td>43</td>\n",
       "    </tr>\n",
       "    <tr>\n",
       "      <th>Worker Placement</th>\n",
       "      <td>7.755847</td>\n",
       "      <td>0.363648</td>\n",
       "      <td>63</td>\n",
       "    </tr>\n",
       "    <tr>\n",
       "      <th>Area Movement</th>\n",
       "      <td>7.754877</td>\n",
       "      <td>0.466624</td>\n",
       "      <td>41</td>\n",
       "    </tr>\n",
       "    <tr>\n",
       "      <th>Variable Player Powers</th>\n",
       "      <td>7.752329</td>\n",
       "      <td>0.455055</td>\n",
       "      <td>133</td>\n",
       "    </tr>\n",
       "    <tr>\n",
       "      <th>Cooperative Game</th>\n",
       "      <td>7.726235</td>\n",
       "      <td>0.528282</td>\n",
       "      <td>61</td>\n",
       "    </tr>\n",
       "    <tr>\n",
       "      <th>Deck, Bag, and Pool Building</th>\n",
       "      <td>7.716930</td>\n",
       "      <td>0.499081</td>\n",
       "      <td>42</td>\n",
       "    </tr>\n",
       "    <tr>\n",
       "      <th>Action Points</th>\n",
       "      <td>7.697071</td>\n",
       "      <td>0.463270</td>\n",
       "      <td>44</td>\n",
       "    </tr>\n",
       "    <tr>\n",
       "      <th>Grid Movement</th>\n",
       "      <td>7.683315</td>\n",
       "      <td>0.486107</td>\n",
       "      <td>48</td>\n",
       "    </tr>\n",
       "    <tr>\n",
       "      <th>Modular Board</th>\n",
       "      <td>7.663014</td>\n",
       "      <td>0.477647</td>\n",
       "      <td>64</td>\n",
       "    </tr>\n",
       "    <tr>\n",
       "      <th>Dice Rolling</th>\n",
       "      <td>7.647897</td>\n",
       "      <td>0.449572</td>\n",
       "      <td>127</td>\n",
       "    </tr>\n",
       "    <tr>\n",
       "      <th>Network and Route Building</th>\n",
       "      <td>7.614051</td>\n",
       "      <td>0.441888</td>\n",
       "      <td>35</td>\n",
       "    </tr>\n",
       "    <tr>\n",
       "      <th>Hand Management</th>\n",
       "      <td>7.601962</td>\n",
       "      <td>0.490395</td>\n",
       "      <td>162</td>\n",
       "    </tr>\n",
       "    <tr>\n",
       "      <th>Area Majority / Influence</th>\n",
       "      <td>7.586709</td>\n",
       "      <td>0.476231</td>\n",
       "      <td>73</td>\n",
       "    </tr>\n",
       "    <tr>\n",
       "      <th>Card Drafting</th>\n",
       "      <td>7.583281</td>\n",
       "      <td>0.409955</td>\n",
       "      <td>94</td>\n",
       "    </tr>\n",
       "    <tr>\n",
       "      <th>Tile Placement</th>\n",
       "      <td>7.572843</td>\n",
       "      <td>0.416773</td>\n",
       "      <td>56</td>\n",
       "    </tr>\n",
       "    <tr>\n",
       "      <th>Set Collection</th>\n",
       "      <td>7.567719</td>\n",
       "      <td>0.432648</td>\n",
       "      <td>93</td>\n",
       "    </tr>\n",
       "    <tr>\n",
       "      <th>Simultaneous Action Selection</th>\n",
       "      <td>7.560238</td>\n",
       "      <td>0.500382</td>\n",
       "      <td>34</td>\n",
       "    </tr>\n",
       "  </tbody>\n",
       "</table>\n",
       "</div>"
      ],
      "text/plain": [
       "                                        mean       std count\n",
       "                                       Score     Score Score\n",
       "Variable Set-up                     7.878113  0.380549    41\n",
       "Scenario / Mission / Campaign Game  7.876293  0.470028    30\n",
       "Solo / Solitaire Game               7.840290  0.443947    86\n",
       "Hexagon Grid                        7.804619  0.487960    33\n",
       "Point to Point Movement             7.787910  0.488639    34\n",
       "End Game Bonuses                    7.776219  0.410138    43\n",
       "Worker Placement                    7.755847  0.363648    63\n",
       "Area Movement                       7.754877  0.466624    41\n",
       "Variable Player Powers              7.752329  0.455055   133\n",
       "Cooperative Game                    7.726235  0.528282    61\n",
       "Deck, Bag, and Pool Building        7.716930  0.499081    42\n",
       "Action Points                       7.697071  0.463270    44\n",
       "Grid Movement                       7.683315  0.486107    48\n",
       "Modular Board                       7.663014  0.477647    64\n",
       "Dice Rolling                        7.647897  0.449572   127\n",
       "Network and Route Building          7.614051  0.441888    35\n",
       "Hand Management                     7.601962  0.490395   162\n",
       "Area Majority / Influence           7.586709  0.476231    73\n",
       "Card Drafting                       7.583281  0.409955    94\n",
       "Tile Placement                      7.572843  0.416773    56\n",
       "Set Collection                      7.567719  0.432648    93\n",
       "Simultaneous Action Selection       7.560238  0.500382    34"
      ]
     },
     "execution_count": 69,
     "metadata": {},
     "output_type": "execute_result"
    }
   ],
   "source": [
    "std_pivot = pd.pivot_table(df, index='Mechanic', values =['Score'], aggfunc=['mean', 'std', 'count'])\n",
    "std_pivot = std_pivot[std_pivot.index.isin(mechanic_min_30.index)]\n",
    "std_pivot.sort_values(('mean', 'Score'), ascending=False)"
   ]
  },
  {
   "cell_type": "markdown",
   "metadata": {},
   "source": [
    "Given the lack of variability for scores, let's test to see if there is a difference between the first and last score"
   ]
  },
  {
   "cell_type": "code",
   "execution_count": 70,
   "metadata": {},
   "outputs": [],
   "source": [
    "from scipy.stats import ttest_ind"
   ]
  },
  {
   "cell_type": "code",
   "execution_count": 72,
   "metadata": {},
   "outputs": [],
   "source": [
    "best_mechanic = df.loc[df['Mechanic'] == 'Variable Set-up', 'Score']"
   ]
  },
  {
   "cell_type": "code",
   "execution_count": 73,
   "metadata": {},
   "outputs": [],
   "source": [
    "worst_mechanic = df.loc[df['Mechanic'] == 'Simultaneous Action Selection', 'Score']"
   ]
  },
  {
   "cell_type": "code",
   "execution_count": 74,
   "metadata": {},
   "outputs": [
    {
     "data": {
      "text/plain": [
       "Ttest_indResult(statistic=3.0452072906670944, pvalue=0.003436278198155197)"
      ]
     },
     "execution_count": 74,
     "metadata": {},
     "output_type": "execute_result"
    }
   ],
   "source": [
    "ttest_ind(a=best_mechanic, b=worst_mechanic,equal_var=False)"
   ]
  },
  {
   "cell_type": "markdown",
   "metadata": {},
   "source": [
    "Pretty clearly significant! Let's graph a few of them"
   ]
  },
  {
   "cell_type": "code",
   "execution_count": 75,
   "metadata": {},
   "outputs": [],
   "source": [
    "# This will be a list of mechanics I like. They are not chosen for statistical purposes\n",
    "mechanic_li = ['Worker Placement', 'Tile Placement', 'Solo / Solitaire Game', 'Dice Rolling', 'Set Collection']"
   ]
  },
  {
   "cell_type": "code",
   "execution_count": 77,
   "metadata": {},
   "outputs": [],
   "source": [
    "five_mechanics = df[df['Mechanic'].isin(mechanic_li)]"
   ]
  },
  {
   "cell_type": "code",
   "execution_count": 78,
   "metadata": {},
   "outputs": [],
   "source": [
    "import seaborn as sns"
   ]
  },
  {
   "cell_type": "code",
   "execution_count": 83,
   "metadata": {},
   "outputs": [],
   "source": [
    "sns.set(rc={'figure.figsize':(10,8)})"
   ]
  },
  {
   "cell_type": "code",
   "execution_count": 85,
   "metadata": {},
   "outputs": [
    {
     "data": {
      "text/plain": [
       "<matplotlib.axes._subplots.AxesSubplot at 0x234489d9d48>"
      ]
     },
     "execution_count": 85,
     "metadata": {},
     "output_type": "execute_result"
    },
    {
     "data": {
      "image/png": "[encoded data removed]",
      "text/plain": [
       "<Figure size 720x576 with 1 Axes>"
      ]
     },
     "metadata": {},
     "output_type": "display_data"
    }
   ],
   "source": [
    "sns.boxplot(data=five_mechanics,x='Mechanic',y='Score')"
   ]
  },
  {
   "cell_type": "markdown",
   "metadata": {},
   "source": [
    "Let's see if there's a stistically significant difference. Barplot will work for this, but we'll have a lot of wasted space since all the values are at least 7. Let's subtract 7 from all the scores"
   ]
  },
  {
   "cell_type": "code",
   "execution_count": 88,
   "metadata": {},
   "outputs": [
    {
     "name": "stderr",
     "output_type": "stream",
     "text": [
      "C:\\Users\\18053\\Anaconda3\\lib\\site-packages\\ipykernel_launcher.py:1: SettingWithCopyWarning: \n",
      "A value is trying to be set on a copy of a slice from a DataFrame.\n",
      "Try using .loc[row_indexer,col_indexer] = value instead\n",
      "\n",
      "See the caveats in the documentation: http://pandas.pydata.org/pandas-docs/stable/user_guide/indexing.html#returning-a-view-versus-a-copy\n",
      "  \"\"\"Entry point for launching an IPython kernel.\n"
     ]
    }
   ],
   "source": [
    "five_mechanics['NewScore'] = five_mechanics['Score'].apply(lambda x: x-7)"
   ]
  },
  {
   "cell_type": "code",
   "execution_count": 90,
   "metadata": {},
   "outputs": [
    {
     "data": {
      "text/plain": [
       "<matplotlib.axes._subplots.AxesSubplot at 0x234488ecf08>"
      ]
     },
     "execution_count": 90,
     "metadata": {},
     "output_type": "execute_result"
    },
    {
     "data": {
      "image/png": "[encoded data removed]",
      "text/plain": [
       "<Figure size 720x576 with 1 Axes>"
      ]
     },
     "metadata": {},
     "output_type": "display_data"
    }
   ],
   "source": [
    "sns.barplot(data=five_mechanics,x='Mechanic',y='NewScore')"
   ]
  },
  {
   "cell_type": "markdown",
   "metadata": {},
   "source": [
    "It looks like Solo is higher that Set Collection and Tile Placement, though there isn't a statistically significant difference between any other pair at the 5% level\n",
    "\n",
    "Let's look at the 10% level. First, let's sort smallest to largest so it's easier to read"
   ]
  },
  {
   "cell_type": "code",
   "execution_count": 94,
   "metadata": {},
   "outputs": [],
   "source": [
    "def sort_mechanic(mechanic):\n",
    "    mechanic_li = ['Worker Placement', 'Tile Placement', 'Solo / Solitaire Game', 'Dice Rolling', 'Set Collection']\n",
    "    if mechanic == 'Solo / Solitaire Game':\n",
    "        return 0\n",
    "    elif mechanic == 'Worker Placement':\n",
    "        return 1\n",
    "    elif mechanic == 'Dice Rolling':\n",
    "        return 2\n",
    "    elif mechanic == 'Tile Placement':\n",
    "        return 3\n",
    "    else:\n",
    "        return 4"
   ]
  },
  {
   "cell_type": "code",
   "execution_count": null,
   "metadata": {},
   "outputs": [],
   "source": [
    "five_mechanics['SortValue'] = five_mechanics['Mechanic'].apply(sort_mechanic)\n",
    "five_mechanics.sort_values('SortValue',ascending=True,inplace=True)"
   ]
  },
  {
   "cell_type": "code",
   "execution_count": 100,
   "metadata": {},
   "outputs": [
    {
     "data": {
      "text/plain": [
       "<matplotlib.axes._subplots.AxesSubplot at 0x234492edc48>"
      ]
     },
     "execution_count": 100,
     "metadata": {},
     "output_type": "execute_result"
    },
    {
     "data": {
      "image/png": "[encoded data removed]",
      "text/plain": [
       "<Figure size 720x576 with 1 Axes>"
      ]
     },
     "metadata": {},
     "output_type": "display_data"
    }
   ],
   "source": [
    "sns.barplot(data=five_mechanics,x='Mechanic',y='NewScore',ci=90)"
   ]
  },
  {
   "cell_type": "markdown",
   "metadata": {},
   "source": [
    "Looks like solo outscores tile placement and set collection. Worker placement might also outscore them (I'm eyeballing the lines), but its close. Other than that, no two are statistically different at the 10% level.\n",
    "\n",
    "What about the standard deviation? Are some mechanics more divisive?"
   ]
  },
  {
   "cell_type": "code",
   "execution_count": 102,
   "metadata": {},
   "outputs": [
    {
     "data": {
      "text/plain": [
       "<matplotlib.axes._subplots.AxesSubplot at 0x234493bf948>"
      ]
     },
     "execution_count": 102,
     "metadata": {},
     "output_type": "execute_result"
    },
    {
     "data": {
      "image/png": "[encoded data removed]",
      "text/plain": [
       "<Figure size 720x576 with 1 Axes>"
      ]
     },
     "metadata": {},
     "output_type": "display_data"
    }
   ],
   "source": [
    "sns.barplot(data=five_mechanics,x='Mechanic',y='StdDev',ci=95)"
   ]
  },
  {
   "cell_type": "markdown",
   "metadata": {},
   "source": [
    "Changing the axis could really change the story here. Let's subtract one from standard deviation and look again"
   ]
  },
  {
   "cell_type": "code",
   "execution_count": 104,
   "metadata": {},
   "outputs": [
    {
     "name": "stderr",
     "output_type": "stream",
     "text": [
      "C:\\Users\\18053\\Anaconda3\\lib\\site-packages\\ipykernel_launcher.py:2: SettingWithCopyWarning: \n",
      "A value is trying to be set on a copy of a slice from a DataFrame.\n",
      "Try using .loc[row_indexer,col_indexer] = value instead\n",
      "\n",
      "See the caveats in the documentation: http://pandas.pydata.org/pandas-docs/stable/user_guide/indexing.html#returning-a-view-versus-a-copy\n",
      "  \n"
     ]
    }
   ],
   "source": [
    "# Looks like I don't need to use apply/lamba here, I wanted to try both ways\n",
    "five_mechanics['NewStdDev'] = five_mechanics['StdDev'] - 1 "
   ]
  },
  {
   "cell_type": "code",
   "execution_count": 105,
   "metadata": {},
   "outputs": [
    {
     "data": {
      "text/plain": [
       "<matplotlib.axes._subplots.AxesSubplot at 0x23449b01248>"
      ]
     },
     "execution_count": 105,
     "metadata": {},
     "output_type": "execute_result"
    },
    {
     "data": {
      "image/png": "[encoded data removed]",
      "text/plain": [
       "<Figure size 720x576 with 1 Axes>"
      ]
     },
     "metadata": {},
     "output_type": "display_data"
    }
   ],
   "source": [
    "sns.barplot(data=five_mechanics,x='Mechanic',y='NewStdDev',ci=95)"
   ]
  },
  {
   "cell_type": "markdown",
   "metadata": {},
   "source": [
    "Dice Rolling is more divisive! This makes intuitive sense to me, as it could be used in various different types of games. On the other hand, Worker Placement is generally only used in more 'hardcore' Euro games. \n",
    "\n",
    "...however, we have to consider the effect size. Is 0.2 points in standard deviation pratictally meaningful? Hard to say. This could be like \"nudges\" in behavioural economics: statistically significant but practically quite small. "
   ]
  }
 ],
 "metadata": {
  "kernelspec": {
   "display_name": "Python 3",
   "language": "python",
   "name": "python3"
  },
  "language_info": {
   "codemirror_mode": {
    "name": "ipython",
    "version": 3
   },
   "file_extension": ".py",
   "mimetype": "text/x-python",
   "name": "python",
   "nbconvert_exporter": "python",
   "pygments_lexer": "ipython3",
   "version": "3.7.6"
  }
 },
 "nbformat": 4,
 "nbformat_minor": 4
}
