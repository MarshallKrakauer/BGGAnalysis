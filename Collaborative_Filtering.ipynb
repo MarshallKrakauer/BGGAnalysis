{
 "cells": [
  {
   "cell_type": "markdown",
   "metadata": {},
   "source": [
    "# Using Player rating data to produce a tensorflow recommendation engine"
   ]
  },
  {
   "cell_type": "markdown",
   "metadata": {},
   "source": [
    "## Functions in file from: https://developers.google.com/machine-learning/recommendation/labs/movie-rec-programming-exercise"
   ]
  },
  {
   "cell_type": "markdown",
   "metadata": {},
   "source": [
    "# Scanning Data"
   ]
  },
  {
   "cell_type": "code",
   "execution_count": 6,
   "metadata": {},
   "outputs": [],
   "source": [
    "from __future__ import print_function\n",
    "\n",
    "import numpy as np\n",
    "import pandas as pd\n",
    "import collections\n",
    "from mpl_toolkits.mplot3d import Axes3D\n",
    "from IPython import display\n",
    "from matplotlib import pyplot as plt\n",
    "import sklearn\n",
    "import sklearn.manifold\n",
    "import seaborn as sns\n",
    "import tensorflow.compat.v1 as tf"
   ]
  },
  {
   "cell_type": "code",
   "execution_count": 7,
   "metadata": {},
   "outputs": [
    {
     "name": "stdout",
     "output_type": "stream",
     "text": [
      "Installing Altair...\n"
     ]
    },
    {
     "name": "stderr",
     "output_type": "stream",
     "text": [
      "WARNING: Ignoring invalid distribution -umpy (c:\\users\\18053\\anaconda3\\lib\\site-packages)\n",
      "WARNING: Ignoring invalid distribution -umpy (c:\\users\\18053\\anaconda3\\lib\\site-packages)\n",
      "WARNING: Ignoring invalid distribution -umpy (c:\\users\\18053\\anaconda3\\lib\\site-packages)\n",
      "WARNING: Ignoring invalid distribution -umpy (c:\\users\\18053\\anaconda3\\lib\\site-packages)\n",
      "WARNING: Ignoring invalid distribution -umpy (c:\\users\\18053\\anaconda3\\lib\\site-packages)\n",
      "WARNING: Ignoring invalid distribution -umpy (c:\\users\\18053\\anaconda3\\lib\\site-packages)\n",
      "WARNING: You are using pip version 21.1.2; however, version 21.3.1 is available.\n",
      "You should consider upgrading via the 'c:\\users\\18053\\anaconda3\\python.exe -m pip install --upgrade pip' command.\n"
     ]
    },
    {
     "name": "stdout",
     "output_type": "stream",
     "text": [
      "Done installing Altair.\n"
     ]
    }
   ],
   "source": [
    "# Install Altair and activate its colab renderer.\n",
    "print(\"Installing Altair...\")\n",
    "!pip install git+git://github.com/altair-viz/altair.git -q\n",
    "import altair as alt\n",
    "alt.data_transformers.enable('default', max_rows=None)\n",
    "alt.renderers.enable('colab')\n",
    "print(\"Done installing Altair.\")"
   ]
  },
  {
   "cell_type": "code",
   "execution_count": 8,
   "metadata": {},
   "outputs": [],
   "source": [
    "def mask(df, key, function):\n",
    "  \"\"\"Returns a filtered dataframe, by applying function to key\"\"\"\n",
    "  return df[function(df[key])]\n",
    "\n",
    "def flatten_cols(df):\n",
    "  df.columns = [' '.join(col).strip() for col in df.columns.values]\n",
    "  return df"
   ]
  },
  {
   "cell_type": "code",
   "execution_count": 9,
   "metadata": {},
   "outputs": [],
   "source": [
    "pd.DataFrame.mask = mask\n",
    "pd.DataFrame.flatten_cols = flatten_cols"
   ]
  },
  {
   "cell_type": "code",
   "execution_count": 10,
   "metadata": {},
   "outputs": [
    {
     "name": "stdout",
     "output_type": "stream",
     "text": [
      "WARNING:tensorflow:From C:\\Users\\18053\\AppData\\Roaming\\Python\\Python37\\site-packages\\tensorflow_core\\python\\compat\\v2_compat.py:65: disable_resource_variables (from tensorflow.python.ops.variable_scope) is deprecated and will be removed in a future version.\n",
      "Instructions for updating:\n",
      "non-resource variables are not supported in the long term\n"
     ]
    }
   ],
   "source": [
    "tf.disable_v2_behavior()\n",
    "tf.logging.set_verbosity(tf.logging.ERROR)"
   ]
  },
  {
   "cell_type": "code",
   "execution_count": 11,
   "metadata": {},
   "outputs": [],
   "source": [
    "df = pd.read_csv('player_ratings.csv')"
   ]
  },
  {
   "cell_type": "code",
   "execution_count": 12,
   "metadata": {},
   "outputs": [
    {
     "data": {
      "text/html": [
       "<div>\n",
       "<style scoped>\n",
       "    .dataframe tbody tr th:only-of-type {\n",
       "        vertical-align: middle;\n",
       "    }\n",
       "\n",
       "    .dataframe tbody tr th {\n",
       "        vertical-align: top;\n",
       "    }\n",
       "\n",
       "    .dataframe thead th {\n",
       "        text-align: right;\n",
       "    }\n",
       "</style>\n",
       "<table border=\"1\" class=\"dataframe\">\n",
       "  <thead>\n",
       "    <tr style=\"text-align: right;\">\n",
       "      <th></th>\n",
       "      <th>game_id</th>\n",
       "      <th>user</th>\n",
       "      <th>rating</th>\n",
       "    </tr>\n",
       "  </thead>\n",
       "  <tbody>\n",
       "    <tr>\n",
       "      <th>0</th>\n",
       "      <td>1</td>\n",
       "      <td>jackcres</td>\n",
       "      <td>10.0</td>\n",
       "    </tr>\n",
       "    <tr>\n",
       "      <th>1</th>\n",
       "      <td>1</td>\n",
       "      <td>FuManchu</td>\n",
       "      <td>10.0</td>\n",
       "    </tr>\n",
       "    <tr>\n",
       "      <th>2</th>\n",
       "      <td>1</td>\n",
       "      <td>HankM</td>\n",
       "      <td>10.0</td>\n",
       "    </tr>\n",
       "    <tr>\n",
       "      <th>3</th>\n",
       "      <td>1</td>\n",
       "      <td>jonnypolite</td>\n",
       "      <td>10.0</td>\n",
       "    </tr>\n",
       "    <tr>\n",
       "      <th>4</th>\n",
       "      <td>1</td>\n",
       "      <td>pwotruba</td>\n",
       "      <td>10.0</td>\n",
       "    </tr>\n",
       "  </tbody>\n",
       "</table>\n",
       "</div>"
      ],
      "text/plain": [
       "   game_id         user  rating\n",
       "0        1     jackcres    10.0\n",
       "1        1     FuManchu    10.0\n",
       "2        1        HankM    10.0\n",
       "3        1  jonnypolite    10.0\n",
       "4        1     pwotruba    10.0"
      ]
     },
     "execution_count": 12,
     "metadata": {},
     "output_type": "execute_result"
    }
   ],
   "source": [
    "df.head()"
   ]
  },
  {
   "cell_type": "code",
   "execution_count": 13,
   "metadata": {},
   "outputs": [
    {
     "data": {
      "text/html": [
       "<div>\n",
       "<style scoped>\n",
       "    .dataframe tbody tr th:only-of-type {\n",
       "        vertical-align: middle;\n",
       "    }\n",
       "\n",
       "    .dataframe tbody tr th {\n",
       "        vertical-align: top;\n",
       "    }\n",
       "\n",
       "    .dataframe thead th {\n",
       "        text-align: right;\n",
       "    }\n",
       "</style>\n",
       "<table border=\"1\" class=\"dataframe\">\n",
       "  <thead>\n",
       "    <tr style=\"text-align: right;\">\n",
       "      <th></th>\n",
       "      <th>user</th>\n",
       "      <th>ratings</th>\n",
       "    </tr>\n",
       "  </thead>\n",
       "  <tbody>\n",
       "    <tr>\n",
       "      <th>282439</th>\n",
       "      <td>stoneart69</td>\n",
       "      <td>377</td>\n",
       "    </tr>\n",
       "    <tr>\n",
       "      <th>271005</th>\n",
       "      <td>ryansmum2008</td>\n",
       "      <td>375</td>\n",
       "    </tr>\n",
       "    <tr>\n",
       "      <th>36706</th>\n",
       "      <td>Doel</td>\n",
       "      <td>375</td>\n",
       "    </tr>\n",
       "    <tr>\n",
       "      <th>66153</th>\n",
       "      <td>JasonSaastad</td>\n",
       "      <td>374</td>\n",
       "    </tr>\n",
       "    <tr>\n",
       "      <th>106101</th>\n",
       "      <td>Pandorzecza</td>\n",
       "      <td>373</td>\n",
       "    </tr>\n",
       "    <tr>\n",
       "      <th>52633</th>\n",
       "      <td>Gibmaatsuki</td>\n",
       "      <td>372</td>\n",
       "    </tr>\n",
       "    <tr>\n",
       "      <th>233284</th>\n",
       "      <td>leffe dubbel</td>\n",
       "      <td>372</td>\n",
       "    </tr>\n",
       "    <tr>\n",
       "      <th>297318</th>\n",
       "      <td>we3die</td>\n",
       "      <td>361</td>\n",
       "    </tr>\n",
       "    <tr>\n",
       "      <th>295537</th>\n",
       "      <td>vincivader</td>\n",
       "      <td>350</td>\n",
       "    </tr>\n",
       "    <tr>\n",
       "      <th>259357</th>\n",
       "      <td>pete100</td>\n",
       "      <td>348</td>\n",
       "    </tr>\n",
       "  </tbody>\n",
       "</table>\n",
       "</div>"
      ],
      "text/plain": [
       "                user  ratings\n",
       "282439    stoneart69      377\n",
       "271005  ryansmum2008      375\n",
       "36706           Doel      375\n",
       "66153   JasonSaastad      374\n",
       "106101   Pandorzecza      373\n",
       "52633    Gibmaatsuki      372\n",
       "233284  leffe dubbel      372\n",
       "297318        we3die      361\n",
       "295537    vincivader      350\n",
       "259357       pete100      348"
      ]
     },
     "execution_count": 13,
     "metadata": {},
     "output_type": "execute_result"
    }
   ],
   "source": [
    "num_ratings = pd.pivot_table(df, index=['user'], values=['rating'], aggfunc='count')\n",
    "num_ratings.reset_index(inplace=True)\n",
    "num_ratings.columns = ['user','ratings']\n",
    "num_ratings.sort_values('ratings', ascending=False).head(10)"
   ]
  },
  {
   "cell_type": "code",
   "execution_count": 14,
   "metadata": {},
   "outputs": [
    {
     "data": {
      "text/plain": [
       "(304441, 108991)"
      ]
     },
     "execution_count": 14,
     "metadata": {},
     "output_type": "execute_result"
    }
   ],
   "source": [
    "num_ratings[num_ratings['ratings'] > -1].shape[0], num_ratings[num_ratings['ratings'] > 10].shape[0]"
   ]
  },
  {
   "cell_type": "code",
   "execution_count": 15,
   "metadata": {},
   "outputs": [
    {
     "data": {
      "text/plain": [
       "<matplotlib.axes._subplots.AxesSubplot at 0x1b134297348>"
      ]
     },
     "execution_count": 15,
     "metadata": {},
     "output_type": "execute_result"
    },
    {
     "data": {
      "image/png": "[encoded data removed]",
      "text/plain": [
       "<Figure size 432x288 with 1 Axes>"
      ]
     },
     "metadata": {
      "needs_background": "light"
     },
     "output_type": "display_data"
    }
   ],
   "source": [
    "sns.countplot(data=df[df['user'] == 'stoneart69'], x = 'rating')"
   ]
  },
  {
   "cell_type": "raw",
   "metadata": {},
   "source": [
    "Tough crowd!"
   ]
  },
  {
   "cell_type": "code",
   "execution_count": 16,
   "metadata": {},
   "outputs": [],
   "source": [
    "df['rating_int'] = df['rating'].astype(int)"
   ]
  },
  {
   "cell_type": "code",
   "execution_count": 17,
   "metadata": {},
   "outputs": [
    {
     "data": {
      "text/plain": [
       "<matplotlib.axes._subplots.AxesSubplot at 0x1b1343850c8>"
      ]
     },
     "execution_count": 17,
     "metadata": {},
     "output_type": "execute_result"
    },
    {
     "data": {
      "image/png": "[encoded data removed]",
      "text/plain": [
       "<Figure size 432x288 with 1 Axes>"
      ]
     },
     "metadata": {
      "needs_background": "light"
     },
     "output_type": "display_data"
    }
   ],
   "source": [
    "sns.countplot(data = df, x = 'rating_int')"
   ]
  },
  {
   "cell_type": "code",
   "execution_count": 18,
   "metadata": {},
   "outputs": [],
   "source": [
    "df['approve'] = np.where(df['rating'] >= 7, 1, 0)"
   ]
  },
  {
   "cell_type": "markdown",
   "metadata": {},
   "source": [
    "# Recommender System Setup"
   ]
  },
  {
   "cell_type": "code",
   "execution_count": 19,
   "metadata": {},
   "outputs": [],
   "source": [
    "# Utility to split the data into training and test sets.\n",
    "def split_dataframe(df, holdout_fraction=0.1):\n",
    "  \"\"\"Splits a DataFrame into training and test sets.\n",
    "  Args:\n",
    "    df: a dataframe.\n",
    "    holdout_fraction: fraction of dataframe rows to use in the test set.\n",
    "  Returns:\n",
    "    train: dataframe for training\n",
    "    test: dataframe for testing\n",
    "  \"\"\"\n",
    "  test = df.sample(frac=holdout_fraction, replace=False)\n",
    "  train = df[~df.index.isin(test.index)]\n",
    "  return train, test"
   ]
  },
  {
   "cell_type": "code",
   "execution_count": 20,
   "metadata": {},
   "outputs": [
    {
     "data": {
      "text/html": [
       "<div>\n",
       "<style scoped>\n",
       "    .dataframe tbody tr th:only-of-type {\n",
       "        vertical-align: middle;\n",
       "    }\n",
       "\n",
       "    .dataframe tbody tr th {\n",
       "        vertical-align: top;\n",
       "    }\n",
       "\n",
       "    .dataframe thead th {\n",
       "        text-align: right;\n",
       "    }\n",
       "</style>\n",
       "<table border=\"1\" class=\"dataframe\">\n",
       "  <thead>\n",
       "    <tr style=\"text-align: right;\">\n",
       "      <th></th>\n",
       "      <th>game_id</th>\n",
       "      <th>user</th>\n",
       "      <th>rating</th>\n",
       "      <th>rating_int</th>\n",
       "      <th>approve</th>\n",
       "      <th>ratings</th>\n",
       "    </tr>\n",
       "  </thead>\n",
       "  <tbody>\n",
       "    <tr>\n",
       "      <th>0</th>\n",
       "      <td>1</td>\n",
       "      <td>jackcres</td>\n",
       "      <td>10.0</td>\n",
       "      <td>10</td>\n",
       "      <td>1</td>\n",
       "      <td>31</td>\n",
       "    </tr>\n",
       "    <tr>\n",
       "      <th>1</th>\n",
       "      <td>1035</td>\n",
       "      <td>jackcres</td>\n",
       "      <td>8.0</td>\n",
       "      <td>8</td>\n",
       "      <td>1</td>\n",
       "      <td>31</td>\n",
       "    </tr>\n",
       "    <tr>\n",
       "      <th>2</th>\n",
       "      <td>1041</td>\n",
       "      <td>jackcres</td>\n",
       "      <td>8.0</td>\n",
       "      <td>8</td>\n",
       "      <td>1</td>\n",
       "      <td>31</td>\n",
       "    </tr>\n",
       "    <tr>\n",
       "      <th>3</th>\n",
       "      <td>11</td>\n",
       "      <td>jackcres</td>\n",
       "      <td>6.0</td>\n",
       "      <td>6</td>\n",
       "      <td>0</td>\n",
       "      <td>31</td>\n",
       "    </tr>\n",
       "    <tr>\n",
       "      <th>4</th>\n",
       "      <td>110327</td>\n",
       "      <td>jackcres</td>\n",
       "      <td>6.0</td>\n",
       "      <td>6</td>\n",
       "      <td>0</td>\n",
       "      <td>31</td>\n",
       "    </tr>\n",
       "  </tbody>\n",
       "</table>\n",
       "</div>"
      ],
      "text/plain": [
       "   game_id      user  rating  rating_int  approve  ratings\n",
       "0        1  jackcres    10.0          10        1       31\n",
       "1     1035  jackcres     8.0           8        1       31\n",
       "2     1041  jackcres     8.0           8        1       31\n",
       "3       11  jackcres     6.0           6        0       31\n",
       "4   110327  jackcres     6.0           6        0       31"
      ]
     },
     "execution_count": 20,
     "metadata": {},
     "output_type": "execute_result"
    }
   ],
   "source": [
    "ratings = df.merge(num_ratings, on ='user')\n",
    "ratings = ratings[ratings['ratings'] > 10]\n",
    "ratings.head()"
   ]
  },
  {
   "cell_type": "code",
   "execution_count": 21,
   "metadata": {},
   "outputs": [],
   "source": [
    "from collections import defaultdict\n",
    "\n",
    "def return_negative_one():\n",
    "    return -1\n",
    "    \n",
    "user_dict = defaultdict(return_negative_one)\n",
    "game_dict = defaultdict(return_negative_one)"
   ]
  },
  {
   "cell_type": "code",
   "execution_count": 22,
   "metadata": {},
   "outputs": [],
   "source": [
    "i = 0\n",
    "for u in ratings['user'].unique():\n",
    "    user_dict[u] = i\n",
    "    i += 1"
   ]
  },
  {
   "cell_type": "code",
   "execution_count": 23,
   "metadata": {},
   "outputs": [],
   "source": [
    "i = 0\n",
    "for u in ratings['game_id'].unique():\n",
    "    game_dict[u] = i\n",
    "    i += 1"
   ]
  },
  {
   "cell_type": "code",
   "execution_count": 24,
   "metadata": {},
   "outputs": [
    {
     "data": {
      "text/html": [
       "<div>\n",
       "<style scoped>\n",
       "    .dataframe tbody tr th:only-of-type {\n",
       "        vertical-align: middle;\n",
       "    }\n",
       "\n",
       "    .dataframe tbody tr th {\n",
       "        vertical-align: top;\n",
       "    }\n",
       "\n",
       "    .dataframe thead th {\n",
       "        text-align: right;\n",
       "    }\n",
       "</style>\n",
       "<table border=\"1\" class=\"dataframe\">\n",
       "  <thead>\n",
       "    <tr style=\"text-align: right;\">\n",
       "      <th></th>\n",
       "      <th>game_id</th>\n",
       "      <th>user</th>\n",
       "      <th>rating</th>\n",
       "      <th>rating_int</th>\n",
       "      <th>approve</th>\n",
       "      <th>ratings</th>\n",
       "      <th>user_idx</th>\n",
       "      <th>game_idx</th>\n",
       "    </tr>\n",
       "  </thead>\n",
       "  <tbody>\n",
       "    <tr>\n",
       "      <th>0</th>\n",
       "      <td>1</td>\n",
       "      <td>jackcres</td>\n",
       "      <td>10.0</td>\n",
       "      <td>10</td>\n",
       "      <td>1</td>\n",
       "      <td>31</td>\n",
       "      <td>0</td>\n",
       "      <td>0</td>\n",
       "    </tr>\n",
       "    <tr>\n",
       "      <th>1</th>\n",
       "      <td>1035</td>\n",
       "      <td>jackcres</td>\n",
       "      <td>8.0</td>\n",
       "      <td>8</td>\n",
       "      <td>1</td>\n",
       "      <td>31</td>\n",
       "      <td>0</td>\n",
       "      <td>1</td>\n",
       "    </tr>\n",
       "    <tr>\n",
       "      <th>2</th>\n",
       "      <td>1041</td>\n",
       "      <td>jackcres</td>\n",
       "      <td>8.0</td>\n",
       "      <td>8</td>\n",
       "      <td>1</td>\n",
       "      <td>31</td>\n",
       "      <td>0</td>\n",
       "      <td>2</td>\n",
       "    </tr>\n",
       "    <tr>\n",
       "      <th>3</th>\n",
       "      <td>11</td>\n",
       "      <td>jackcres</td>\n",
       "      <td>6.0</td>\n",
       "      <td>6</td>\n",
       "      <td>0</td>\n",
       "      <td>31</td>\n",
       "      <td>0</td>\n",
       "      <td>3</td>\n",
       "    </tr>\n",
       "    <tr>\n",
       "      <th>4</th>\n",
       "      <td>110327</td>\n",
       "      <td>jackcres</td>\n",
       "      <td>6.0</td>\n",
       "      <td>6</td>\n",
       "      <td>0</td>\n",
       "      <td>31</td>\n",
       "      <td>0</td>\n",
       "      <td>4</td>\n",
       "    </tr>\n",
       "  </tbody>\n",
       "</table>\n",
       "</div>"
      ],
      "text/plain": [
       "   game_id      user  rating  rating_int  approve  ratings  user_idx  game_idx\n",
       "0        1  jackcres    10.0          10        1       31         0         0\n",
       "1     1035  jackcres     8.0           8        1       31         0         1\n",
       "2     1041  jackcres     8.0           8        1       31         0         2\n",
       "3       11  jackcres     6.0           6        0       31         0         3\n",
       "4   110327  jackcres     6.0           6        0       31         0         4"
      ]
     },
     "execution_count": 24,
     "metadata": {},
     "output_type": "execute_result"
    }
   ],
   "source": [
    "ratings['user_idx'] = ratings['user'].apply(lambda x: user_dict[x])\n",
    "ratings['game_idx'] = ratings['game_id'].apply(lambda x: game_dict[x])\n",
    "ratings.head()"
   ]
  },
  {
   "cell_type": "code",
   "execution_count": 25,
   "metadata": {},
   "outputs": [
    {
     "data": {
      "text/plain": [
       "game_id         int64\n",
       "user           object\n",
       "rating        float64\n",
       "rating_int      int32\n",
       "approve         int32\n",
       "ratings         int64\n",
       "user_idx        int64\n",
       "game_idx        int64\n",
       "dtype: object"
      ]
     },
     "execution_count": 25,
     "metadata": {},
     "output_type": "execute_result"
    }
   ],
   "source": [
    "ratings.dtypes"
   ]
  },
  {
   "cell_type": "code",
   "execution_count": 26,
   "metadata": {},
   "outputs": [
    {
     "data": {
      "text/plain": [
       "(3801461, 108990, 108991)"
      ]
     },
     "execution_count": 26,
     "metadata": {},
     "output_type": "execute_result"
    }
   ],
   "source": []
  },
  {
   "cell_type": "code",
   "execution_count": 27,
   "metadata": {},
   "outputs": [],
   "source": [
    "#@title Solution\n",
    "def build_rating_sparse_tensor(ratings_df):\n",
    "  \"\"\"\n",
    "  Args:\n",
    "    ratings_df: a pd.DataFrame with `user_id`, `movie_id` and `rating` columns.\n",
    "  Returns:\n",
    "    a tf.SparseTensor representing the ratings matrix.\n",
    "  \"\"\"\n",
    "  indices = ratings_df[['user_idx', 'game_idx']].values\n",
    "  values_ = ratings_df['rating_int'].values\n",
    "  return tf.SparseTensor(\n",
    "      indices=indices,\n",
    "      values=values_,\n",
    "      dense_shape=[ratings_df['user_idx'].nunique(), ratings_df['game_idx'].nunique()])"
   ]
  },
  {
   "cell_type": "code",
   "execution_count": 28,
   "metadata": {},
   "outputs": [],
   "source": [
    "def sparse_mean_square_error(sparse_ratings, user_embeddings, movie_embeddings):\n",
    "  \"\"\"\n",
    "  Args:\n",
    "    sparse_ratings: A SparseTensor rating matrix, of dense_shape [N, M]\n",
    "    user_embeddings: A dense Tensor U of shape [N, k] where k is the embedding\n",
    "      dimension, such that U_i is the embedding of user i.\n",
    "    movie_embeddings: A dense Tensor V of shape [M, k] where k is the embedding\n",
    "      dimension, such that V_j is the embedding of movie j.\n",
    "  Returns:\n",
    "    A scalar Tensor representing the MSE between the true ratings and the\n",
    "      model's predictions.\n",
    "  \"\"\"\n",
    "  predictions = tf.gather_nd(\n",
    "      tf.matmul(user_embeddings, movie_embeddings, transpose_b=True),\n",
    "      sparse_ratings.indices)\n",
    "  loss = tf.losses.mean_squared_error(sparse_ratings.values, predictions)\n",
    "  return loss"
   ]
  },
  {
   "cell_type": "code",
   "execution_count": null,
   "metadata": {},
   "outputs": [],
   "source": []
  },
  {
   "cell_type": "code",
   "execution_count": 29,
   "metadata": {},
   "outputs": [],
   "source": [
    "class CFModel(object):\n",
    "  \"\"\"Simple class that represents a collaborative filtering model\"\"\"\n",
    "  def __init__(self, embedding_vars, loss, metrics=None):\n",
    "    \"\"\"Initializes a CFModel.\n",
    "    Args:\n",
    "      embedding_vars: A dictionary of tf.Variables.\n",
    "      loss: A float Tensor. The loss to optimize.\n",
    "      metrics: optional list of dictionaries of Tensors. The metrics in each\n",
    "        dictionary will be plotted in a separate figure during training.\n",
    "    \"\"\"\n",
    "    self._embedding_vars = embedding_vars\n",
    "    self._loss = loss\n",
    "    self._metrics = metrics\n",
    "    self._embeddings = {k: None for k in embedding_vars}\n",
    "    self._session = None\n",
    "\n",
    "  @property\n",
    "  def embeddings(self):\n",
    "    \"\"\"The embeddings dictionary.\"\"\"\n",
    "    return self._embeddings\n",
    "\n",
    "  def train(self, num_iterations=100, learning_rate=1.0, plot_results=True,\n",
    "            optimizer=tf.train.GradientDescentOptimizer):\n",
    "    \"\"\"Trains the model.\n",
    "    Args:\n",
    "      iterations: number of iterations to run.\n",
    "      learning_rate: optimizer learning rate.\n",
    "      plot_results: whether to plot the results at the end of training.\n",
    "      optimizer: the optimizer to use. Default to GradientDescentOptimizer.\n",
    "    Returns:\n",
    "      The metrics dictionary evaluated at the last iteration.\n",
    "    \"\"\"\n",
    "    with self._loss.graph.as_default():\n",
    "      opt = optimizer(learning_rate)\n",
    "      train_op = opt.minimize(self._loss)\n",
    "      local_init_op = tf.group(\n",
    "          tf.variables_initializer(opt.variables()),\n",
    "          tf.local_variables_initializer())\n",
    "      if self._session is None:\n",
    "        self._session = tf.Session()\n",
    "        with self._session.as_default():\n",
    "          self._session.run(tf.global_variables_initializer())\n",
    "          self._session.run(tf.tables_initializer())\n",
    "          tf.train.start_queue_runners()\n",
    "\n",
    "    with self._session.as_default():\n",
    "      local_init_op.run()\n",
    "      iterations = []\n",
    "      metrics = self._metrics or ({},)\n",
    "      metrics_vals = [collections.defaultdict(list) for _ in self._metrics]\n",
    "\n",
    "      # Train and append results.\n",
    "      for i in range(num_iterations + 1):\n",
    "        _, results = self._session.run((train_op, metrics))\n",
    "        if (i % 10 == 0) or i == num_iterations:\n",
    "          print(\"\\r iteration %d: \" % i + \", \".join(\n",
    "                [\"%s=%f\" % (k, v) for r in results for k, v in r.items()]),\n",
    "                end='')\n",
    "          iterations.append(i)\n",
    "          for metric_val, result in zip(metrics_vals, results):\n",
    "            for k, v in result.items():\n",
    "              metric_val[k].append(v)\n",
    "\n",
    "      for k, v in self._embedding_vars.items():\n",
    "        self._embeddings[k] = v.eval()\n",
    "\n",
    "      if plot_results:\n",
    "        # Plot the metrics.\n",
    "        num_subplots = len(metrics)+1\n",
    "        fig = plt.figure()\n",
    "        fig.set_size_inches(num_subplots*10, 8)\n",
    "        for i, metric_vals in enumerate(metrics_vals):\n",
    "          ax = fig.add_subplot(1, num_subplots, i+1)\n",
    "          for k, v in metric_vals.items():\n",
    "            ax.plot(iterations, v, label=k)\n",
    "          ax.set_xlim([1, num_iterations])\n",
    "          ax.legend()\n",
    "      return results"
   ]
  },
  {
   "cell_type": "code",
   "execution_count": 66,
   "metadata": {},
   "outputs": [],
   "source": [
    "def build_model(ratings, embedding_dim=3, init_stddev=1.):\n",
    "  \"\"\"\n",
    "  Args:\n",
    "    ratings: a DataFrame of the ratings\n",
    "    embedding_dim: the dimension of the embedding vectors.\n",
    "    init_stddev: float, the standard deviation of the random initial embeddings.\n",
    "  Returns:\n",
    "    model: a CFModel.\n",
    "  \"\"\"\n",
    "  # Split the ratings DataFrame into train and test.\n",
    "  train_ratings, test_ratings = split_dataframe(ratings)\n",
    "  # SparseTensor representation of the train and test datasets.\n",
    "  A_train = build_rating_sparse_tensor(train_ratings)\n",
    "  A_test = build_rating_sparse_tensor(test_ratings)\n",
    "  # Initialize the embeddings using a normal distribution.\n",
    "  U = tf.Variable(tf.random_normal(\n",
    "      [A_train.dense_shape[0], embedding_dim], stddev=init_stddev))\n",
    "  V = tf.Variable(tf.random_normal(\n",
    "      [A_train.dense_shape[1], embedding_dim], stddev=init_stddev))\n",
    "  train_loss = sparse_mean_square_error(A_train, U, V)\n",
    "  print(A_train.indices)\n",
    "  test_loss = sparse_mean_square_error(A_test, U, V)\n",
    "  metrics = {\n",
    "      'train_error': train_loss,\n",
    "      'test_error': test_loss\n",
    "  }\n",
    "  embeddings = {\n",
    "      \"user_idx\": U,\n",
    "      \"game_idx\": V\n",
    "  }\n",
    "  return CFModel(embeddings, train_loss, [metrics])"
   ]
  },
  {
   "cell_type": "code",
   "execution_count": 67,
   "metadata": {},
   "outputs": [],
   "source": [
    "train_ratings, test_ratings = split_dataframe(ratings)\n",
    "# SparseTensor representation of the train and test datasets.\n",
    "A_train = build_rating_sparse_tensor(train_ratings)\n",
    "A_test = build_rating_sparse_tensor(test_ratings)"
   ]
  },
  {
   "cell_type": "code",
   "execution_count": 68,
   "metadata": {},
   "outputs": [
    {
     "name": "stdout",
     "output_type": "stream",
     "text": [
      "Tensor(\"SparseTensor_8/indices:0\", shape=(3421315, 2), dtype=int64)\n",
      " iteration 350: train_error=1.375319, test_error=1.4656414"
     ]
    },
    {
     "data": {
      "text/plain": [
       "[{'train_error': 1.375319, 'test_error': 1.4656415}]"
      ]
     },
     "execution_count": 68,
     "metadata": {},
     "output_type": "execute_result"
    },
    {
     "data": {
      "image/png": "[encoded data removed]",
      "text/plain": [
       "<Figure size 1440x576 with 1 Axes>"
      ]
     },
     "metadata": {
      "needs_background": "light"
     },
     "output_type": "display_data"
    }
   ],
   "source": [
    "# Build the CF model and train it.\n",
    "model = build_model(ratings, embedding_dim=10, init_stddev=0.5)\n",
    "model.train(num_iterations=350, learning_rate=40., plot_results = True)"
   ]
  },
  {
   "cell_type": "markdown",
   "metadata": {},
   "source": [
    "# Testing Recommender Performance"
   ]
  },
  {
   "cell_type": "code",
   "execution_count": 41,
   "metadata": {},
   "outputs": [],
   "source": [
    "#itle Solution\n",
    "DOT = 'dot'\n",
    "COSINE = 'cosine'\n",
    "def compute_scores(query_embedding, item_embeddings, measure=DOT):\n",
    "  \"\"\"Computes the scores of the candidates given a query.\n",
    "  Args:\n",
    "    query_embedding: a vector of shape [k], representing the query embedding.\n",
    "    item_embeddings: a matrix of shape [N, k], such that row i is the embedding\n",
    "      of item i.\n",
    "    measure: a string specifying the similarity measure to be used. Can be\n",
    "      either DOT or COSINE.\n",
    "  Returns:\n",
    "    scores: a vector of shape [N], such that scores[i] is the score of item i.\n",
    "  \"\"\"\n",
    "  u = query_embedding\n",
    "  V = item_embeddings\n",
    "  if measure == COSINE:\n",
    "    V = V / np.linalg.norm(V, axis=1, keepdims=True)\n",
    "    u = u / np.linalg.norm(u)\n",
    "  scores = u.dot(V.T)\n",
    "  return scores"
   ]
  },
  {
   "cell_type": "code",
   "execution_count": 42,
   "metadata": {},
   "outputs": [],
   "source": [
    "import sqlite3\n",
    "con = sqlite3.connect('bgg.db')\n",
    "cur = con.cursor()"
   ]
  },
  {
   "cell_type": "code",
   "execution_count": 43,
   "metadata": {},
   "outputs": [
    {
     "name": "stdout",
     "output_type": "stream",
     "text": [
      "['id', 'title', 'year', 'min_players', 'max_players', 'avg_rating', 'avg_bayes_rating', 'std', 'ratings', 'weight', 'play_time']\n"
     ]
    }
   ],
   "source": [
    "#results = cur.execute('SELECT * FROM TOP_GAMES_FULL')\n",
    "results = cur.execute('PRAGMA table_info(TOP_GAMES_FULL)')\n",
    "results = results.fetchall()\n",
    "result_li = [r for r in results]\n",
    "column_li = []\n",
    "for r in result_li:\n",
    "    column_li.append(r[1])\n",
    "\n",
    "print(column_li)"
   ]
  },
  {
   "cell_type": "code",
   "execution_count": 44,
   "metadata": {},
   "outputs": [
    {
     "data": {
      "text/html": [
       "<div>\n",
       "<style scoped>\n",
       "    .dataframe tbody tr th:only-of-type {\n",
       "        vertical-align: middle;\n",
       "    }\n",
       "\n",
       "    .dataframe tbody tr th {\n",
       "        vertical-align: top;\n",
       "    }\n",
       "\n",
       "    .dataframe thead th {\n",
       "        text-align: right;\n",
       "    }\n",
       "</style>\n",
       "<table border=\"1\" class=\"dataframe\">\n",
       "  <thead>\n",
       "    <tr style=\"text-align: right;\">\n",
       "      <th></th>\n",
       "      <th>id</th>\n",
       "      <th>title</th>\n",
       "      <th>year</th>\n",
       "      <th>min_players</th>\n",
       "      <th>max_players</th>\n",
       "      <th>avg_rating</th>\n",
       "      <th>avg_bayes_rating</th>\n",
       "      <th>std</th>\n",
       "      <th>ratings</th>\n",
       "      <th>weight</th>\n",
       "      <th>play_time</th>\n",
       "    </tr>\n",
       "  </thead>\n",
       "  <tbody>\n",
       "    <tr>\n",
       "      <th>0</th>\n",
       "      <td>174430</td>\n",
       "      <td>gloomhaven</td>\n",
       "      <td>2017</td>\n",
       "      <td>1</td>\n",
       "      <td>4</td>\n",
       "      <td>8.76798</td>\n",
       "      <td>8.53089</td>\n",
       "      <td>1.63005</td>\n",
       "      <td>45304</td>\n",
       "      <td>3.8673</td>\n",
       "      <td>120</td>\n",
       "    </tr>\n",
       "    <tr>\n",
       "      <th>1</th>\n",
       "      <td>161936</td>\n",
       "      <td>pandemic_legacy_season_1</td>\n",
       "      <td>2015</td>\n",
       "      <td>2</td>\n",
       "      <td>4</td>\n",
       "      <td>8.60479</td>\n",
       "      <td>8.45273</td>\n",
       "      <td>1.56467</td>\n",
       "      <td>43525</td>\n",
       "      <td>2.836</td>\n",
       "      <td>60</td>\n",
       "    </tr>\n",
       "    <tr>\n",
       "      <th>2</th>\n",
       "      <td>224517</td>\n",
       "      <td>brass_birmingham</td>\n",
       "      <td>2018</td>\n",
       "      <td>2</td>\n",
       "      <td>4</td>\n",
       "      <td>8.66929</td>\n",
       "      <td>8.406</td>\n",
       "      <td>1.24659</td>\n",
       "      <td>22694</td>\n",
       "      <td>3.9084</td>\n",
       "      <td>120</td>\n",
       "    </tr>\n",
       "    <tr>\n",
       "      <th>3</th>\n",
       "      <td>167791</td>\n",
       "      <td>terraforming_mars</td>\n",
       "      <td>2016</td>\n",
       "      <td>1</td>\n",
       "      <td>5</td>\n",
       "      <td>8.4247</td>\n",
       "      <td>8.27852</td>\n",
       "      <td>1.38438</td>\n",
       "      <td>69921</td>\n",
       "      <td>3.244</td>\n",
       "      <td>120</td>\n",
       "    </tr>\n",
       "    <tr>\n",
       "      <th>4</th>\n",
       "      <td>291457</td>\n",
       "      <td>gloomhaven_jaws_lion</td>\n",
       "      <td>2020</td>\n",
       "      <td>1</td>\n",
       "      <td>4</td>\n",
       "      <td>8.7573</td>\n",
       "      <td>8.2579</td>\n",
       "      <td>1.40857</td>\n",
       "      <td>12633</td>\n",
       "      <td>3.559</td>\n",
       "      <td>120</td>\n",
       "    </tr>\n",
       "  </tbody>\n",
       "</table>\n",
       "</div>"
      ],
      "text/plain": [
       "       id                     title  year min_players max_players avg_rating  \\\n",
       "0  174430                gloomhaven  2017           1           4    8.76798   \n",
       "1  161936  pandemic_legacy_season_1  2015           2           4    8.60479   \n",
       "2  224517          brass_birmingham  2018           2           4    8.66929   \n",
       "3  167791         terraforming_mars  2016           1           5     8.4247   \n",
       "4  291457      gloomhaven_jaws_lion  2020           1           4     8.7573   \n",
       "\n",
       "  avg_bayes_rating      std ratings  weight play_time  \n",
       "0          8.53089  1.63005   45304  3.8673       120  \n",
       "1          8.45273  1.56467   43525   2.836        60  \n",
       "2            8.406  1.24659   22694  3.9084       120  \n",
       "3          8.27852  1.38438   69921   3.244       120  \n",
       "4           8.2579  1.40857   12633   3.559       120  "
      ]
     },
     "execution_count": 44,
     "metadata": {},
     "output_type": "execute_result"
    }
   ],
   "source": [
    "results = cur.execute('SELECT * FROM TOP_GAMES_FULL')\n",
    "results = results.fetchall()\n",
    "result_li = [r for r in results]\n",
    "df = pd.DataFrame(result_li, columns = column_li)\n",
    "df.head()"
   ]
  },
  {
   "cell_type": "code",
   "execution_count": 45,
   "metadata": {},
   "outputs": [],
   "source": [
    "df['game_idx'] = df['id'].apply(lambda x: game_dict[int(x)])\n",
    "games = df[df['game_idx'] >= 0]\n",
    "games = games[['game_idx', 'title', 'year', 'weight', 'play_time', 'ratings']]"
   ]
  },
  {
   "cell_type": "code",
   "execution_count": 46,
   "metadata": {},
   "outputs": [],
   "source": [
    "def game_neighbors(model, title_substring, measure=DOT, k=6):\n",
    "  # Search for movie ids that match the given substring.\n",
    "  ids =  games.loc[games['title'].str.contains(title_substring), ['game_idx']].values\n",
    "  ids = list(ids.flatten())\n",
    "  titles = games.loc[games['game_idx'].isin(ids), 'title'].values\n",
    "  if len(titles) == 0:\n",
    "    raise ValueError(\"Found no games with title %s\" % title_substring)\n",
    "  print(\"Nearest neighbors of : %s.\" % titles[0])\n",
    "  if len(titles) > 1:\n",
    "    print(\"[Found more than one matching game. Other candidates: {}]\".format(\n",
    "        \", \".join(titles[1:])))\n",
    "  movie_id = ids[0]\n",
    "  scores = compute_scores(\n",
    "      model.embeddings[\"game_idx\"][movie_id], model.embeddings[\"game_idx\"],\n",
    "      measure)\n",
    "  score_key = measure + ' score'\n",
    "  df = pd.DataFrame({\n",
    "      score_key: list(scores),\n",
    "      'titles': games['title']\n",
    "      #'genres': movies['all_genres']\n",
    "  })\n",
    "  display.display(df.sort_values([score_key], ascending=False).head(k))"
   ]
  },
  {
   "cell_type": "code",
   "execution_count": 47,
   "metadata": {},
   "outputs": [
    {
     "name": "stdout",
     "output_type": "stream",
     "text": [
      "Nearest neighbors of : bohnanza.\n"
     ]
    },
    {
     "data": {
      "text/html": [
       "<div>\n",
       "<style scoped>\n",
       "    .dataframe tbody tr th:only-of-type {\n",
       "        vertical-align: middle;\n",
       "    }\n",
       "\n",
       "    .dataframe tbody tr th {\n",
       "        vertical-align: top;\n",
       "    }\n",
       "\n",
       "    .dataframe thead th {\n",
       "        text-align: right;\n",
       "    }\n",
       "</style>\n",
       "<table border=\"1\" class=\"dataframe\">\n",
       "  <thead>\n",
       "    <tr style=\"text-align: right;\">\n",
       "      <th></th>\n",
       "      <th>cosine score</th>\n",
       "      <th>titles</th>\n",
       "    </tr>\n",
       "  </thead>\n",
       "  <tbody>\n",
       "    <tr>\n",
       "      <th>7</th>\n",
       "      <td>1.000000</td>\n",
       "      <td>star_wars_rebellion</td>\n",
       "    </tr>\n",
       "    <tr>\n",
       "      <th>15</th>\n",
       "      <td>0.999964</td>\n",
       "      <td>7_wonders_duel</td>\n",
       "    </tr>\n",
       "    <tr>\n",
       "      <th>62</th>\n",
       "      <td>0.999948</td>\n",
       "      <td>robinson_crusoe_adventures_cursed_island</td>\n",
       "    </tr>\n",
       "    <tr>\n",
       "      <th>227</th>\n",
       "      <td>0.999945</td>\n",
       "      <td>imperial_settlers</td>\n",
       "    </tr>\n",
       "    <tr>\n",
       "      <th>194</th>\n",
       "      <td>0.999944</td>\n",
       "      <td>arcadia_quest</td>\n",
       "    </tr>\n",
       "    <tr>\n",
       "      <th>141</th>\n",
       "      <td>0.999938</td>\n",
       "      <td>railways_world</td>\n",
       "    </tr>\n",
       "  </tbody>\n",
       "</table>\n",
       "</div>"
      ],
      "text/plain": [
       "     cosine score                                    titles\n",
       "7        1.000000                       star_wars_rebellion\n",
       "15       0.999964                            7_wonders_duel\n",
       "62       0.999948  robinson_crusoe_adventures_cursed_island\n",
       "227      0.999945                         imperial_settlers\n",
       "194      0.999944                             arcadia_quest\n",
       "141      0.999938                            railways_world"
      ]
     },
     "metadata": {},
     "output_type": "display_data"
    }
   ],
   "source": [
    "game_neighbors(model, \"bohnanza\", COSINE, k=6)"
   ]
  },
  {
   "cell_type": "code",
   "execution_count": 48,
   "metadata": {},
   "outputs": [
    {
     "name": "stdout",
     "output_type": "stream",
     "text": [
      "Nearest neighbors of : orleans.\n"
     ]
    },
    {
     "data": {
      "text/html": [
       "<div>\n",
       "<style scoped>\n",
       "    .dataframe tbody tr th:only-of-type {\n",
       "        vertical-align: middle;\n",
       "    }\n",
       "\n",
       "    .dataframe tbody tr th {\n",
       "        vertical-align: top;\n",
       "    }\n",
       "\n",
       "    .dataframe thead th {\n",
       "        text-align: right;\n",
       "    }\n",
       "</style>\n",
       "<table border=\"1\" class=\"dataframe\">\n",
       "  <thead>\n",
       "    <tr style=\"text-align: right;\">\n",
       "      <th></th>\n",
       "      <th>dot score</th>\n",
       "      <th>titles</th>\n",
       "    </tr>\n",
       "  </thead>\n",
       "  <tbody>\n",
       "    <tr>\n",
       "      <th>646</th>\n",
       "      <td>115.627136</td>\n",
       "      <td>among_stars</td>\n",
       "    </tr>\n",
       "    <tr>\n",
       "      <th>99</th>\n",
       "      <td>114.282356</td>\n",
       "      <td>roll_galaxy</td>\n",
       "    </tr>\n",
       "    <tr>\n",
       "      <th>59</th>\n",
       "      <td>111.790985</td>\n",
       "      <td>android_netrunner</td>\n",
       "    </tr>\n",
       "    <tr>\n",
       "      <th>581</th>\n",
       "      <td>110.378517</td>\n",
       "      <td>vegas_showdown</td>\n",
       "    </tr>\n",
       "    <tr>\n",
       "      <th>73</th>\n",
       "      <td>109.932571</td>\n",
       "      <td>five_tribes</td>\n",
       "    </tr>\n",
       "    <tr>\n",
       "      <th>15</th>\n",
       "      <td>109.786255</td>\n",
       "      <td>7_wonders_duel</td>\n",
       "    </tr>\n",
       "  </tbody>\n",
       "</table>\n",
       "</div>"
      ],
      "text/plain": [
       "      dot score             titles\n",
       "646  115.627136        among_stars\n",
       "99   114.282356        roll_galaxy\n",
       "59   111.790985  android_netrunner\n",
       "581  110.378517     vegas_showdown\n",
       "73   109.932571        five_tribes\n",
       "15   109.786255     7_wonders_duel"
      ]
     },
     "metadata": {},
     "output_type": "display_data"
    }
   ],
   "source": [
    "game_neighbors(model, \"orleans\", DOT, k= 6)"
   ]
  },
  {
   "cell_type": "markdown",
   "metadata": {},
   "source": [
    "Dot product recommends the same games no matter what. Cosine seems to perform much better"
   ]
  },
  {
   "cell_type": "markdown",
   "metadata": {},
   "source": [
    "# Adjusting Model"
   ]
  },
  {
   "cell_type": "code",
   "execution_count": null,
   "metadata": {},
   "outputs": [],
   "source": [
    "def game_embedding_norm(models):\n",
    "  \"\"\"Visualizes the norm and number of ratings of the movie embeddings.\n",
    "  Args:\n",
    "    model: A MFModel object.\n",
    "  \"\"\"\n",
    "  if not isinstance(models, list):\n",
    "    models = [models]\n",
    "  df = pd.DataFrame({\n",
    "      'title': games['title'],\n",
    "      'num_ratings': games['user_ratings'],\n",
    "  })\n",
    "  df['num_ratings'] = df['num_ratings'].astype(int)\n",
    "  #df['num_ratings'] = df['num_ratings'].apply(lambda x: np.log(x))\n",
    "  charts = []\n",
    "  brush = alt.selection_interval()\n",
    "  for i, model in enumerate(models):\n",
    "    norm_key = 'norm'+str(i)\n",
    "    df[norm_key] = np.linalg.norm(model.embeddings[\"game_idx\"], axis=1)\n",
    "    nearest = alt.selection(\n",
    "        type='single', encodings=['x', 'y'], on='mouseover', nearest=True,\n",
    "        empty='none')\n",
    "    base = alt.Chart().mark_circle().encode(\n",
    "        x='num_ratings',\n",
    "        y=norm_key,\n",
    "        color=alt.condition(brush, alt.value('#4c78a8'), alt.value('lightgray'))\n",
    "    ).properties(\n",
    "        selection=nearest).add_selection(brush)\n",
    "    text = alt.Chart().mark_text(align='center', dx=5, dy=-5).encode(\n",
    "        x='num_ratings', y=norm_key,\n",
    "        text=alt.condition(nearest, 'title', alt.value('')))\n",
    "    charts.append(alt.layer(base, text))\n",
    "  return alt.hconcat(*charts, data=df), df"
   ]
  },
  {
   "cell_type": "code",
   "execution_count": null,
   "metadata": {},
   "outputs": [],
   "source": [
    "if not 'user_ratings' in games.columns:\n",
    "    num_of_game_ratings = pd.pivot_table(data=ratings, index = ['game_idx'], values = ['user'], aggfunc='count')\n",
    "    num_of_game_ratings.reset_index(inplace=True)\n",
    "    num_of_game_ratings.columns = ['game_idx', 'user_ratings']\n",
    "    games = games.merge(num_of_game_ratings, on = 'game_idx')\n",
    "    games.head()"
   ]
  },
  {
   "cell_type": "code",
   "execution_count": null,
   "metadata": {},
   "outputs": [],
   "source": [
    "games.head()"
   ]
  },
  {
   "cell_type": "code",
   "execution_count": null,
   "metadata": {},
   "outputs": [],
   "source": [
    "thing, _ = game_embedding_norm(model)"
   ]
  },
  {
   "cell_type": "code",
   "execution_count": null,
   "metadata": {},
   "outputs": [],
   "source": [
    "_"
   ]
  },
  {
   "cell_type": "code",
   "execution_count": null,
   "metadata": {},
   "outputs": [],
   "source": [
    "results = cur.execute('''\n",
    "WITH inner_query AS (\n",
    "SELECT id, category, ROW_NUMBER() OVER (PARTITION BY id)  r\n",
    "\n",
    "FROM BGG_CATEGORIES)\n",
    "\n",
    "SELECT id game_id, category\n",
    "\n",
    "FROM inner_query\n",
    "\n",
    "WHERE 1=1\n",
    "    --AND r = 1\n",
    "\n",
    "''')\n",
    "results = results.fetchall()\n",
    "result_li = [r for r in results]\n",
    "game_genres = pd.DataFrame(result_li, columns = ['game_id', 'genre'])\n",
    "game_genres['game_idx'] = game_genres['game_id'].apply(lambda x: game_dict[int(x)])\n",
    "game_genres = game_genres[game_genres['game_idx'] > -1]\n",
    "game_genres.head()"
   ]
  },
  {
   "cell_type": "code",
   "execution_count": null,
   "metadata": {},
   "outputs": [],
   "source": [
    "full_genre_list = pd.pivot_table(data=game_genres,\n",
    "               index = ['game_idx'],\n",
    "               values=['genre'],\n",
    "               aggfunc = lambda x: ';'.join(x)).reset_index()\n",
    "full_genre_list.head()"
   ]
  },
  {
   "cell_type": "code",
   "execution_count": null,
   "metadata": {},
   "outputs": [],
   "source": [
    "top_10_genres = pd.pivot_table(game_genres\n",
    "                ,index=['genre']\n",
    "                ,values = ['game_idx']\n",
    "                ,aggfunc='count').sort_values('game_idx',\n",
    "                                            ascending=False,).head(10).index"
   ]
  },
  {
   "cell_type": "code",
   "execution_count": null,
   "metadata": {},
   "outputs": [],
   "source": [
    "game_genres['Top'] = game_genres['genre'].isin(top_10_genres).astype(int)\n",
    "game_genres.sort_values(['game_id','Top'], ascending=[True, False], inplace=True)\n",
    "game_genres.drop_duplicates(subset=['game_id'], keep='first', inplace=True)\n",
    "game_genres.loc[game_genres['Top'] == 0, 'genre'] = 'Other'\n",
    "del game_genres['Top']"
   ]
  },
  {
   "cell_type": "code",
   "execution_count": null,
   "metadata": {},
   "outputs": [],
   "source": [
    "try:\n",
    "    del games['genre']\n",
    "except KeyError:\n",
    "    pass"
   ]
  },
  {
   "cell_type": "code",
   "execution_count": null,
   "metadata": {},
   "outputs": [],
   "source": [
    "games.head()"
   ]
  },
  {
   "cell_type": "code",
   "execution_count": null,
   "metadata": {},
   "outputs": [],
   "source": [
    "games = games.merge(game_genres, on = ['game_idx'], how='left')\n",
    "games.head()"
   ]
  },
  {
   "cell_type": "code",
   "execution_count": null,
   "metadata": {},
   "outputs": [],
   "source": [
    "games.loc[pd.isna(games['genre']), 'genre'] = 'Other'"
   ]
  },
  {
   "cell_type": "code",
   "execution_count": null,
   "metadata": {},
   "outputs": [],
   "source": [
    "genre_filter = alt.selection_multi(fields=['genre'])\n",
    "genre_chart = alt.Chart().mark_bar().encode(\n",
    "    x=\"count()\",\n",
    "    y=alt.Y('genre'),\n",
    "    color=alt.condition(\n",
    "        genre_filter,\n",
    "        alt.Color(\"genre:N\"),\n",
    "        alt.value('lightgray'))\n",
    ").properties(height=300, selection=genre_filter)"
   ]
  },
  {
   "cell_type": "code",
   "execution_count": null,
   "metadata": {},
   "outputs": [],
   "source": [
    "def visualize_game_embeddings(data, x, y):\n",
    "  nearest = alt.selection(\n",
    "      type='single', encodings=['x', 'y'], on='mouseover', nearest=True,\n",
    "      empty='none')\n",
    "  base = alt.Chart().mark_circle().encode(\n",
    "      x=x,\n",
    "      y=y,\n",
    "      color=alt.condition(genre_filter, \"genre\", alt.value(\"whitesmoke\")),\n",
    "  ).properties(\n",
    "      width=600,\n",
    "      height=600,\n",
    "      selection=nearest)\n",
    "  text = alt.Chart().mark_text(align='left', dx=5, dy=-5).encode(\n",
    "      x=x,\n",
    "      y=y,\n",
    "      text=alt.condition(nearest, 'title', alt.value('')))\n",
    "  return alt.hconcat(alt.layer(base, text), genre_chart, data=data)"
   ]
  },
  {
   "cell_type": "code",
   "execution_count": null,
   "metadata": {},
   "outputs": [],
   "source": [
    "def tsne_game_embeddings(model):\n",
    "  \"\"\"Visualizes the movie embeddings, projected using t-SNE with Cosine measure.\n",
    "  Args:\n",
    "    model: A MFModel object.\n",
    "  \"\"\"\n",
    "  tsne = sklearn.manifold.TSNE(\n",
    "      n_components=2, perplexity=40, metric='cosine', early_exaggeration=10.0,\n",
    "      init='pca', verbose=True, n_iter=400)\n",
    "\n",
    "  print('Running t-SNE...')\n",
    "  V_proj = tsne.fit_transform(model.embeddings[\"game_idx\"])\n",
    "  print('ARRAY SIZES')\n",
    "  #print(len(games.loc[:,'x']), len(V_proj[:, 0]))  \n",
    "    \n",
    "  games.loc[:,'x'] = V_proj[:, 0]\n",
    "  games.loc[:,'y'] = V_proj[:, 1]\n",
    "  return visualize_game_embeddings(games, 'x', 'y')"
   ]
  },
  {
   "cell_type": "code",
   "execution_count": null,
   "metadata": {},
   "outputs": [],
   "source": [
    "tsne_game_embeddings(model)"
   ]
  },
  {
   "cell_type": "code",
   "execution_count": null,
   "metadata": {},
   "outputs": [],
   "source": [
    "# model_lowinit = build_model(ratings, embedding_dim=3, init_stddev=0.25)\n",
    "# model_lowinit.train(num_iterations=100, learning_rate=20.)\n",
    "# movie_neighbors(model_lowinit, \"gloomhaven\", DOT)\n",
    "# movie_neighbors(model_lowinit, \"gloomhaven\", COSINE)\n",
    "# movie_embedding_norm([model, model_lowinit])"
   ]
  },
  {
   "cell_type": "markdown",
   "metadata": {},
   "source": [
    "# Model Normalization"
   ]
  },
  {
   "cell_type": "code",
   "execution_count": 49,
   "metadata": {},
   "outputs": [],
   "source": [
    "def gravity(U, V):\n",
    "  \"\"\"Creates a gravity loss given two embedding matrices.\"\"\"\n",
    "  return 1. / (U.shape[0].value*V.shape[0].value) * tf.reduce_sum(\n",
    "      tf.matmul(U, U, transpose_a=True) * tf.matmul(V, V, transpose_a=True))"
   ]
  },
  {
   "cell_type": "code",
   "execution_count": 50,
   "metadata": {},
   "outputs": [],
   "source": [
    "def build_regularized_model(\n",
    "    ratings, embedding_dim=3, regularization_coeff=.1, gravity_coeff=1.,\n",
    "    init_stddev=0.1):\n",
    "  \"\"\"\n",
    "  Args:\n",
    "    ratings: the DataFrame of movie ratings.\n",
    "    embedding_dim: The dimension of the embedding space.\n",
    "    regularization_coeff: The regularization coefficient lambda.\n",
    "    gravity_coeff: The gravity regularization coefficient lambda_g.\n",
    "  Returns:\n",
    "    A CFModel object that uses a regularized loss.\n",
    "  \"\"\"\n",
    "  # Split the ratings DataFrame into train and test.\n",
    "  train_ratings, test_ratings = split_dataframe(ratings)\n",
    "  # SparseTensor representation of the train and test datasets.\n",
    "  A_train = build_rating_sparse_tensor(train_ratings)\n",
    "  A_test = build_rating_sparse_tensor(test_ratings)\n",
    "  U = tf.Variable(tf.random_normal(\n",
    "      [A_train.dense_shape[0], embedding_dim], stddev=init_stddev))\n",
    "  V = tf.Variable(tf.random_normal(\n",
    "      [A_train.dense_shape[1], embedding_dim], stddev=init_stddev))\n",
    "\n",
    "  error_train = sparse_mean_square_error(A_train, U, V)\n",
    "  error_test = sparse_mean_square_error(A_test, U, V)\n",
    "  gravity_loss = gravity_coeff * gravity(U, V)\n",
    "  regularization_loss = regularization_coeff * (\n",
    "      tf.reduce_sum(U*U)/U.shape[0].value + tf.reduce_sum(V*V)/V.shape[0].value)\n",
    "  total_loss = error_train + regularization_loss + gravity_loss\n",
    "  losses = {\n",
    "      'train_error_observed': error_train,\n",
    "      'test_error_observed': error_test,\n",
    "  }\n",
    "  loss_components = {\n",
    "      'observed_loss': error_train,\n",
    "      'regularization_loss': regularization_loss,\n",
    "      'gravity_loss': gravity_loss,\n",
    "  }\n",
    "  embeddings = {\"user_idx\": U, \"game_idx\": V}\n",
    "\n",
    "  return CFModel(embeddings, total_loss, [losses, loss_components])"
   ]
  },
  {
   "cell_type": "code",
   "execution_count": 51,
   "metadata": {},
   "outputs": [
    {
     "name": "stdout",
     "output_type": "stream",
     "text": [
      " iteration 200: train_error_observed=14.141350, test_error_observed=14.703522, observed_loss=14.141350, regularization_loss=2.717211, gravity_loss=8.319769"
     ]
    },
    {
     "data": {
      "text/plain": [
       "[{'train_error_observed': 14.14135, 'test_error_observed': 14.703522},\n",
       " {'observed_loss': 14.14135,\n",
       "  'regularization_loss': 2.7172115,\n",
       "  'gravity_loss': 8.319769}]"
      ]
     },
     "execution_count": 51,
     "metadata": {},
     "output_type": "execute_result"
    },
    {
     "data": {
      "image/png": "[encoded data removed]",
      "text/plain": [
       "<Figure size 2160x576 with 2 Axes>"
      ]
     },
     "metadata": {
      "needs_background": "light"
     },
     "output_type": "display_data"
    }
   ],
   "source": [
    "reg_model = build_regularized_model(\n",
    "    ratings, regularization_coeff=0.1, gravity_coeff=1.0, embedding_dim=35,\n",
    "    init_stddev=0.5)\n",
    "reg_model.train(num_iterations=200, learning_rate=20.)"
   ]
  },
  {
   "cell_type": "code",
   "execution_count": 58,
   "metadata": {},
   "outputs": [
    {
     "name": "stdout",
     "output_type": "stream",
     "text": [
      "Nearest neighbors of : among_stars.\n"
     ]
    },
    {
     "data": {
      "text/html": [
       "<div>\n",
       "<style scoped>\n",
       "    .dataframe tbody tr th:only-of-type {\n",
       "        vertical-align: middle;\n",
       "    }\n",
       "\n",
       "    .dataframe tbody tr th {\n",
       "        vertical-align: top;\n",
       "    }\n",
       "\n",
       "    .dataframe thead th {\n",
       "        text-align: right;\n",
       "    }\n",
       "</style>\n",
       "<table border=\"1\" class=\"dataframe\">\n",
       "  <thead>\n",
       "    <tr style=\"text-align: right;\">\n",
       "      <th></th>\n",
       "      <th>dot score</th>\n",
       "      <th>titles</th>\n",
       "    </tr>\n",
       "  </thead>\n",
       "  <tbody>\n",
       "    <tr>\n",
       "      <th>59</th>\n",
       "      <td>31.627075</td>\n",
       "      <td>android_netrunner</td>\n",
       "    </tr>\n",
       "    <tr>\n",
       "      <th>502</th>\n",
       "      <td>30.381916</td>\n",
       "      <td>game_thrones_card_game_second_edition</td>\n",
       "    </tr>\n",
       "    <tr>\n",
       "      <th>466</th>\n",
       "      <td>30.129421</td>\n",
       "      <td>port_royal</td>\n",
       "    </tr>\n",
       "    <tr>\n",
       "      <th>99</th>\n",
       "      <td>29.959900</td>\n",
       "      <td>roll_galaxy</td>\n",
       "    </tr>\n",
       "    <tr>\n",
       "      <th>165</th>\n",
       "      <td>29.389627</td>\n",
       "      <td>village</td>\n",
       "    </tr>\n",
       "    <tr>\n",
       "      <th>646</th>\n",
       "      <td>29.248009</td>\n",
       "      <td>among_stars</td>\n",
       "    </tr>\n",
       "    <tr>\n",
       "      <th>15</th>\n",
       "      <td>27.975840</td>\n",
       "      <td>7_wonders_duel</td>\n",
       "    </tr>\n",
       "    <tr>\n",
       "      <th>217</th>\n",
       "      <td>27.722414</td>\n",
       "      <td>bora_bora</td>\n",
       "    </tr>\n",
       "    <tr>\n",
       "      <th>361</th>\n",
       "      <td>27.501568</td>\n",
       "      <td>firefly_game</td>\n",
       "    </tr>\n",
       "    <tr>\n",
       "      <th>299</th>\n",
       "      <td>27.481592</td>\n",
       "      <td>die_macher</td>\n",
       "    </tr>\n",
       "  </tbody>\n",
       "</table>\n",
       "</div>"
      ],
      "text/plain": [
       "     dot score                                 titles\n",
       "59   31.627075                      android_netrunner\n",
       "502  30.381916  game_thrones_card_game_second_edition\n",
       "466  30.129421                             port_royal\n",
       "99   29.959900                            roll_galaxy\n",
       "165  29.389627                                village\n",
       "646  29.248009                            among_stars\n",
       "15   27.975840                         7_wonders_duel\n",
       "217  27.722414                              bora_bora\n",
       "361  27.501568                           firefly_game\n",
       "299  27.481592                             die_macher"
      ]
     },
     "metadata": {},
     "output_type": "display_data"
    }
   ],
   "source": [
    "game_neighbors(reg_model, \"among_stars\", DOT, k=10)"
   ]
  },
  {
   "cell_type": "raw",
   "metadata": {},
   "source": [
    "Same issue as before, recommends same titles every time"
   ]
  },
  {
   "cell_type": "code",
   "execution_count": 65,
   "metadata": {},
   "outputs": [
    {
     "name": "stdout",
     "output_type": "stream",
     "text": [
      "Nearest neighbors of : roll_player.\n"
     ]
    },
    {
     "data": {
      "text/html": [
       "<div>\n",
       "<style scoped>\n",
       "    .dataframe tbody tr th:only-of-type {\n",
       "        vertical-align: middle;\n",
       "    }\n",
       "\n",
       "    .dataframe tbody tr th {\n",
       "        vertical-align: top;\n",
       "    }\n",
       "\n",
       "    .dataframe thead th {\n",
       "        text-align: right;\n",
       "    }\n",
       "</style>\n",
       "<table border=\"1\" class=\"dataframe\">\n",
       "  <thead>\n",
       "    <tr style=\"text-align: right;\">\n",
       "      <th></th>\n",
       "      <th>cosine score</th>\n",
       "      <th>titles</th>\n",
       "    </tr>\n",
       "  </thead>\n",
       "  <tbody>\n",
       "    <tr>\n",
       "      <th>374</th>\n",
       "      <td>1.000000</td>\n",
       "      <td>spartacus_game_blood_and_treachery</td>\n",
       "    </tr>\n",
       "    <tr>\n",
       "      <th>606</th>\n",
       "      <td>0.999489</td>\n",
       "      <td>arcadia_quest_inferno</td>\n",
       "    </tr>\n",
       "    <tr>\n",
       "      <th>361</th>\n",
       "      <td>0.999440</td>\n",
       "      <td>firefly_game</td>\n",
       "    </tr>\n",
       "    <tr>\n",
       "      <th>466</th>\n",
       "      <td>0.999395</td>\n",
       "      <td>port_royal</td>\n",
       "    </tr>\n",
       "    <tr>\n",
       "      <th>59</th>\n",
       "      <td>0.999389</td>\n",
       "      <td>android_netrunner</td>\n",
       "    </tr>\n",
       "    <tr>\n",
       "      <th>99</th>\n",
       "      <td>0.999384</td>\n",
       "      <td>roll_galaxy</td>\n",
       "    </tr>\n",
       "    <tr>\n",
       "      <th>165</th>\n",
       "      <td>0.999358</td>\n",
       "      <td>village</td>\n",
       "    </tr>\n",
       "    <tr>\n",
       "      <th>299</th>\n",
       "      <td>0.999356</td>\n",
       "      <td>die_macher</td>\n",
       "    </tr>\n",
       "    <tr>\n",
       "      <th>502</th>\n",
       "      <td>0.999340</td>\n",
       "      <td>game_thrones_card_game_second_edition</td>\n",
       "    </tr>\n",
       "    <tr>\n",
       "      <th>646</th>\n",
       "      <td>0.999312</td>\n",
       "      <td>among_stars</td>\n",
       "    </tr>\n",
       "  </tbody>\n",
       "</table>\n",
       "</div>"
      ],
      "text/plain": [
       "     cosine score                                 titles\n",
       "374      1.000000     spartacus_game_blood_and_treachery\n",
       "606      0.999489                  arcadia_quest_inferno\n",
       "361      0.999440                           firefly_game\n",
       "466      0.999395                             port_royal\n",
       "59       0.999389                      android_netrunner\n",
       "99       0.999384                            roll_galaxy\n",
       "165      0.999358                                village\n",
       "299      0.999356                             die_macher\n",
       "502      0.999340  game_thrones_card_game_second_edition\n",
       "646      0.999312                            among_stars"
      ]
     },
     "metadata": {},
     "output_type": "display_data"
    }
   ],
   "source": [
    "game_neighbors(reg_model, \"roll_player\", COSINE, k=10)"
   ]
  },
  {
   "cell_type": "markdown",
   "metadata": {},
   "source": [
    "# Softmax Model"
   ]
  },
  {
   "cell_type": "code",
   "execution_count": 2,
   "metadata": {},
   "outputs": [
    {
     "ename": "AssertionError",
     "evalue": "",
     "output_type": "error",
     "traceback": [
      "\u001b[1;31m---------------------------------------------------------------------------\u001b[0m",
      "\u001b[1;31mAssertionError\u001b[0m                            Traceback (most recent call last)",
      "\u001b[1;32m<ipython-input-2-0ac919e70b98>\u001b[0m in \u001b[0;36m<module>\u001b[1;34m\u001b[0m\n\u001b[0;32m      1\u001b[0m \u001b[1;31m# Currently not working, so I am setting arbitrary false code to stop the program before it gets here\u001b[0m\u001b[1;33m\u001b[0m\u001b[1;33m\u001b[0m\u001b[1;33m\u001b[0m\u001b[0m\n\u001b[1;32m----> 2\u001b[1;33m \u001b[1;32massert\u001b[0m\u001b[1;33m(\u001b[0m\u001b[1;36m2\u001b[0m\u001b[1;33m==\u001b[0m\u001b[1;36m1\u001b[0m\u001b[1;33m)\u001b[0m\u001b[1;33m\u001b[0m\u001b[1;33m\u001b[0m\u001b[0m\n\u001b[0m",
      "\u001b[1;31mAssertionError\u001b[0m: "
     ]
    }
   ],
   "source": [
    "# Currently not working, so I am setting arbitrary false code to stop the program before it gets here\n",
    "assert(2==1)"
   ]
  },
  {
   "cell_type": "code",
   "execution_count": null,
   "metadata": {},
   "outputs": [],
   "source": [
    "rated_games = (ratings[[\"user_idx\", \"game_idx\"]]\n",
    "                .groupby(\"user_idx\", as_index=False)\n",
    "                .aggregate(lambda x: list(x)))\n",
    "rated_games.head()"
   ]
  },
  {
   "cell_type": "code",
   "execution_count": null,
   "metadata": {},
   "outputs": [],
   "source": [
    "games['year'] = games['year'].astype(int)\n",
    "games = games.merge(full_genre_list, on = ['game_idx'], how= 'left')\n",
    "games.rename(columns = {'genre_x': 'genre', 'genre_y': 'all_genres'}, inplace=True)\n",
    "games['all_genres'].fillna('NA', inplace=True)\n",
    "games['year'] = games['year'].astype(str)\n",
    "games['game_idx'] = games['game_idx'].astype(str)"
   ]
  },
  {
   "cell_type": "code",
   "execution_count": null,
   "metadata": {},
   "outputs": [],
   "source": [
    "#title Batch generation code (run this cell)\n",
    "years_dict = {\n",
    "    game: year for game, year in zip(games[\"game_idx\"], games[\"year\"])\n",
    "}\n",
    "genres_dict = {\n",
    "#     game: genres.split(';')\n",
    "#     for game, genres in zip(games[\"game_idx\"], games[\"genre\"])\n",
    "    game : year for game, year in zip(games[\"game_idx\"], games[\"genre\"])\n",
    "}"
   ]
  },
  {
   "cell_type": "code",
   "execution_count": null,
   "metadata": {},
   "outputs": [],
   "source": [
    "def make_batch(ratings, batch_size):\n",
    "  \"\"\"Creates a batch of examples.\n",
    "  Args:\n",
    "    ratings: A DataFrame of ratings such that examples[\"movie_id\"] is a list of\n",
    "      movies rated by a user.\n",
    "    batch_size: The batch size.\n",
    "  \"\"\"\n",
    "  def pad(x, fill):\n",
    "    print(\"padding\")\n",
    "    return pd.DataFrame.from_dict(x).fillna(fill).values\n",
    "\n",
    "  game = []\n",
    "  year = []\n",
    "  genre = []\n",
    "  label = []\n",
    "  for game_ids in ratings[\"game_idx\"].values:\n",
    "    game.append(game_ids)\n",
    "    #genre.append([x for game_id in game_ids for x in genres_dict[str(game_id)]])\n",
    "    genre.append([genres_dict[str(game_id)] for game_id in game_ids])\n",
    "    year.append([years_dict[str(game_id)] for game_id in game_ids])\n",
    "    label.append([int(game_id) for game_id in game_ids])\n",
    "  print('finished intital loop')\n",
    "\n",
    "  features = {\n",
    "      \"game_id\": pad(game, \"\"),\n",
    "      \"year\": pad(year, \"\"),\n",
    "      \"genre\": pad(genre, \"\"),\n",
    "      \"label\": pad(label, -1)\n",
    "  }\n",
    "  print('created features', features.shape)\n",
    "  batch = (\n",
    "      tf.data.Dataset.from_tensor_slices(features)\n",
    "      .shuffle(1000)\n",
    "      .repeat()\n",
    "      .batch(batch_size)\n",
    "      .make_one_shot_iterator()\n",
    "      .get_next())\n",
    "  return batch"
   ]
  },
  {
   "cell_type": "code",
   "execution_count": null,
   "metadata": {},
   "outputs": [],
   "source": [
    "def select_random(x):\n",
    "  \"\"\"Selectes a random elements from each row of x.\"\"\"\n",
    "  def to_float(x):\n",
    "    return tf.cast(x, tf.float32)\n",
    "  def to_int(x):\n",
    "    return tf.cast(x, tf.int64)\n",
    "  batch_size = tf.shape(x)[0]\n",
    "  rn = tf.range(batch_size)\n",
    "  nnz = to_float(tf.count_nonzero(x >= 0, axis=1))\n",
    "  rnd = tf.random_uniform([batch_size])\n",
    "  ids = tf.stack([to_int(rn), to_int(nnz * rnd)], axis=1)\n",
    "  return to_int(tf.gather_nd(x, ids))"
   ]
  },
  {
   "cell_type": "code",
   "execution_count": null,
   "metadata": {},
   "outputs": [],
   "source": [
    "def softmax_loss(user_embeddings, game_embeddings, labels):\n",
    "  \"\"\"Returns the cross-entropy loss of the softmax model.\n",
    "  Args:\n",
    "    user_embeddings: A tensor of shape [batch_size, embedding_dim].\n",
    "    movie_embeddings: A tensor of shape [num_movies, embedding_dim].\n",
    "    labels: A tensor of [batch_size], such that labels[i] is the target label\n",
    "      for example i.\n",
    "  Returns:\n",
    "    The mean cross-entropy loss.\n",
    "  \"\"\"\n",
    "  # Verify that the embddings have compatible dimensions\n",
    "  user_emb_dim = user_embeddings.shape[1].value\n",
    "  game_emb_dim = game_embeddings.shape[1].value\n",
    "  if user_emb_dim != movie_emb_dim:\n",
    "    raise ValueError(\n",
    "        \"The user embedding dimension %d should match the movie embedding \"\n",
    "        \"dimension % d\" % (user_emb_dim, movie_emb_dim))\n",
    "\n",
    "  logits = tf.matmul(user_embeddings, game_embeddings, transpose_b=True)\n",
    "  loss = tf.reduce_mean(tf.nn.sparse_softmax_cross_entropy_with_logits(\n",
    "      logits=logits, labels=labels))\n",
    "  return loss"
   ]
  },
  {
   "cell_type": "code",
   "execution_count": null,
   "metadata": {},
   "outputs": [],
   "source": [
    "def build_softmax_model(rated_games, embedding_cols, hidden_dims):\n",
    "  \"\"\"Builds a Softmax model for gameLens.\n",
    "  Args:\n",
    "    rated_games: DataFrame of traing examples.\n",
    "    embedding_cols: A dictionary mapping feature names (string) to embedding\n",
    "      column objects. This will be used in tf.feature_column.input_layer() to\n",
    "      create the input layer.\n",
    "    hidden_dims: int list of the dimensions of the hidden layers.\n",
    "  Returns:\n",
    "    A CFModel object.\n",
    "  \"\"\"\n",
    "  def create_network(features):\n",
    "    \"\"\"Maps input features dictionary to user embeddings.\n",
    "    Args:\n",
    "      features: A dictionary of input string tensors.\n",
    "    Returns:\n",
    "      outputs: A tensor of shape [batch_size, embedding_dim].\n",
    "    \"\"\"\n",
    "    # Create a bag-of-words embedding for each sparse feature.\n",
    "    inputs = tf.feature_column.input_layer(features, embedding_cols)\n",
    "    # Hidden layers.\n",
    "    input_dim = inputs.shape[1].value\n",
    "    for i, output_dim in enumerate(hidden_dims):\n",
    "      w = tf.get_variable(\n",
    "          \"hidden%d_w_\" % i, shape=[input_dim, output_dim],\n",
    "          initializer=tf.truncated_normal_initializer(\n",
    "              stddev=1./np.sqrt(output_dim))) / 10.\n",
    "      outputs = tf.matmul(inputs, w)\n",
    "      input_dim = output_dim\n",
    "      inputs = outputs\n",
    "    return outputs\n",
    "\n",
    "  train_rated_games, test_rated_games = split_dataframe(rated_games)\n",
    "  train_batch = make_batch(train_rated_games, 200)\n",
    "  test_batch = make_batch(test_rated_games, 100)\n",
    "\n",
    "  with tf.variable_scope(\"model\", reuse=False):\n",
    "    # Train\n",
    "    train_user_embeddings = create_network(train_batch)\n",
    "    train_labels = select_random(train_batch[\"label\"])\n",
    "  with tf.variable_scope(\"model\", reuse=True):\n",
    "    # Test\n",
    "    test_user_embeddings = create_network(test_batch)\n",
    "    test_labels = select_random(test_batch[\"label\"])\n",
    "    game_embeddings = tf.get_variable(\n",
    "        \"input_layer/game_id_embedding/embedding_weights\")\n",
    "\n",
    "  test_loss = softmax_loss(\n",
    "      test_user_embeddings, game_embeddings, test_labels)\n",
    "  train_loss = softmax_loss(\n",
    "      train_user_embeddings, game_embeddings, train_labels)\n",
    "  _, test_precision_at_10 = tf.metrics.precision_at_k(\n",
    "      labels=test_labels,\n",
    "      predictions=tf.matmul(test_user_embeddings, game_embeddings, transpose_b=True),\n",
    "      k=10)\n",
    "\n",
    "  metrics = (\n",
    "      {\"train_loss\": train_loss, \"test_loss\": test_loss},\n",
    "      {\"test_precision_at_10\": test_precision_at_10}\n",
    "  )\n",
    "  embeddings = {\"game_idx\": game_embeddings}\n",
    "  return CFModel(embeddings, train_loss, metrics)"
   ]
  },
  {
   "cell_type": "code",
   "execution_count": null,
   "metadata": {
    "scrolled": false
   },
   "outputs": [],
   "source": [
    "# Create feature embedding columns\n",
    "def make_embedding_col(key, embedding_dim):\n",
    "  categorical_col = tf.feature_column.categorical_column_with_vocabulary_list(\n",
    "      key=key, vocabulary_list=list(set(games[key].values)), num_oov_buckets=0)\n",
    "  return tf.feature_column.embedding_column(\n",
    "      categorical_column=categorical_col, dimension=embedding_dim,\n",
    "      # default initializer: trancated normal with stddev=1/sqrt(dimension)\n",
    "      combiner='mean')"
   ]
  },
  {
   "cell_type": "code",
   "execution_count": null,
   "metadata": {},
   "outputs": [],
   "source": [
    "ratings = ratings[ratings['rating'] >= 10]"
   ]
  },
  {
   "cell_type": "code",
   "execution_count": null,
   "metadata": {},
   "outputs": [],
   "source": [
    "ratings['game_idx'] = ratings['game_idx'].astype(str)\n",
    "with tf.Graph().as_default():\n",
    "  softmax_model = build_softmax_model(\n",
    "      rated_games,\n",
    "      embedding_cols=[\n",
    "          make_embedding_col(\"game_idx\", 10),\n",
    "          make_embedding_col(\"genre\", 3),\n",
    "          make_embedding_col(\"year\", 2),\n",
    "      ],\n",
    "      hidden_dims=[35])"
   ]
  },
  {
   "cell_type": "code",
   "execution_count": null,
   "metadata": {},
   "outputs": [],
   "source": [
    "softmax_model.train(\n",
    "    learning_rate=8., num_iterations=300, optimizer=tf.train.AdagradOptimizer)"
   ]
  },
  {
   "cell_type": "code",
   "execution_count": null,
   "metadata": {},
   "outputs": [],
   "source": []
  },
  {
   "cell_type": "code",
   "execution_count": null,
   "metadata": {},
   "outputs": [],
   "source": []
  },
  {
   "cell_type": "markdown",
   "metadata": {},
   "source": [
    "# Scratch Code"
   ]
  },
  {
   "cell_type": "code",
   "execution_count": null,
   "metadata": {},
   "outputs": [],
   "source": []
  }
 ],
 "metadata": {
  "kernelspec": {
   "display_name": "Python 3",
   "language": "python",
   "name": "python3"
  },
  "language_info": {
   "codemirror_mode": {
    "name": "ipython",
    "version": 3
   },
   "file_extension": ".py",
   "mimetype": "text/x-python",
   "name": "python",
   "nbconvert_exporter": "python",
   "pygments_lexer": "ipython3",
   "version": "3.7.6"
  }
 },
 "nbformat": 4,
 "nbformat_minor": 4
}
