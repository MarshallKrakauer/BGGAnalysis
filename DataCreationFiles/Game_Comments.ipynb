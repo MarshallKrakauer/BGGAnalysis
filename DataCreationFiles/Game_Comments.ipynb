{
 "cells": [
  {
   "cell_type": "markdown",
   "metadata": {},
   "source": [
    "Early Stages of the file. Pulling Game comments"
   ]
  },
  {
   "cell_type": "code",
   "execution_count": 2,
   "metadata": {},
   "outputs": [],
   "source": [
    "import requests\n",
    "from lxml import etree\n",
    "from bs4 import BeautifulSoup\n",
    "import pandas as pd\n",
    "import numpy as np\n",
    "import time\n",
    "import sqlite3"
   ]
  },
  {
   "cell_type": "code",
   "execution_count": 3,
   "metadata": {},
   "outputs": [],
   "source": [
    "con = sqlite3.connect('bgg.db')\n",
    "cur = con.cursor()"
   ]
  },
  {
   "cell_type": "code",
   "execution_count": 19,
   "metadata": {},
   "outputs": [],
   "source": [
    "params = {'id' : '246192','stats' :'0'}\n",
    "response = requests.get('https://www.boardgamegeek.com/xmlapi2/thing?', params)\n",
    "soup = BeautifulSoup(response.text, \"xml\")\n",
    "str_ = str(soup.find('description'))"
   ]
  },
  {
   "cell_type": "code",
   "execution_count": 22,
   "metadata": {},
   "outputs": [
    {
     "data": {
      "text/plain": [
       "\"The smartest minds of our generation are gathering together at the Great Science Fair. Everyone's been working hard on their creations, but only one will be crowned champion. Contestants have to think on the fly to build their machines quickly and efficiently. Whose project will be the best?&amp;#10;&amp;#10;In Gizmos, you win the game by gaining victory points from building engines. And engines help you get things done faster. Whoever builds the greatest machine and collects the most victory points wins!&amp;#10;&amp;#10;At the beginning of the game, you have 4 actions:&amp;#10;&amp;#10;     File : Put a card in the public to your Archive, allow you to build it later.&amp;#10;     Pick : Take one energy marble from the 3D marble dispenser, to your storage.&amp;#10;     Build : Build one machine and put it on action! You have to pay the marbles with colors corresponding to the card cost.&amp;#10;     Research : Draw some cards, and you can then File or Build one of the drawn cards. The rest go to the bottom of their deck.&amp;#10;&amp;#10;&amp;#10;&amp;#10;&amp;#10;Machines give you victory points, and allow you to do more actions when conditions are met. As you build, new attachments can trigger chain reactions, letting you do even more on your turn.&amp;#10;&amp;#10;\""
      ]
     },
     "execution_count": 22,
     "metadata": {},
     "output_type": "execute_result"
    }
   ],
   "source": [
    "str_ = str_.replace('<description>', '')\n",
    "str_ = str_.replace('</description>', '')\n",
    "str_"
   ]
  },
  {
   "cell_type": "code",
   "execution_count": 51,
   "metadata": {},
   "outputs": [],
   "source": [
    "comment_len = 1\n",
    "comment_li = []\n",
    "i = 1\n",
    "game_id = '246192'\n",
    "while comment_len > 0:\n",
    "    params = {'id' : game_id,'comments' :'1', 'page' : str(i), 'pagesize' : str(100)}\n",
    "    response = requests.get('https://www.boardgamegeek.com/xmlapi2/thing?', params)\n",
    "    soup = BeautifulSoup(response.text, \"xml\")\n",
    "    comments = soup.find_all('comment')\n",
    "    for idx, com in enumerate(comments):\n",
    "        comment_li.append((game_id, com['rating'], com['username'], com['value']))\n",
    "    comment_len = len(comments)\n",
    "    i += 1"
   ]
  },
  {
   "cell_type": "code",
   "execution_count": 63,
   "metadata": {},
   "outputs": [
    {
     "data": {
      "text/plain": [
       "(1190, 4)"
      ]
     },
     "execution_count": 63,
     "metadata": {},
     "output_type": "execute_result"
    }
   ],
   "source": [
    "df = pd.DataFrame(comment_li, columns = ['game_id', 'rating','user','description'])\n",
    "df.shape"
   ]
  },
  {
   "cell_type": "code",
   "execution_count": 64,
   "metadata": {},
   "outputs": [],
   "source": [
    "# Convert rating to a number\n",
    "df.loc[df['rating'] == 'N/A', 'rating'] = np.nan\n",
    "df.loc[:, 'rating'] = df.loc[:, 'rating'].astype(float)"
   ]
  },
  {
   "cell_type": "code",
   "execution_count": 71,
   "metadata": {},
   "outputs": [
    {
     "name": "stdout",
     "output_type": "stream",
     "text": [
      "283 715 192\n"
     ]
    }
   ],
   "source": [
    "unrated, high, low = df[pd.isna(df['rating'])].shape[0], df[df['rating'] >= 7].shape[0], df[df['rating'] < 7].shape[0]\n",
    "print(unrated, high, low)"
   ]
  }
 ],
 "metadata": {
  "kernelspec": {
   "display_name": "Python 3",
   "language": "python",
   "name": "python3"
  },
  "language_info": {
   "codemirror_mode": {
    "name": "ipython",
    "version": 3
   },
   "file_extension": ".py",
   "mimetype": "text/x-python",
   "name": "python",
   "nbconvert_exporter": "python",
   "pygments_lexer": "ipython3",
   "version": "3.7.6"
  }
 },
 "nbformat": 4,
 "nbformat_minor": 4
}
