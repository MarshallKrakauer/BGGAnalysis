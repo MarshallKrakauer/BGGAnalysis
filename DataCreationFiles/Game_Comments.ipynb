{
 "cells": [
  {
   "cell_type": "markdown",
   "metadata": {},
   "source": [
    "Early Stages of the file. Working on basic word analysis"
   ]
  },
  {
   "cell_type": "code",
   "execution_count": 342,
   "metadata": {},
   "outputs": [],
   "source": [
    "import requests\n",
    "from lxml import etree\n",
    "from bs4 import BeautifulSoup\n",
    "import pandas as pd\n",
    "import numpy as np\n",
    "import time\n",
    "import sqlite3\n",
    "import seaborn as sns\n",
    "import matplotlib.pyplot as plt\n",
    "import re\n",
    "import unicodedata\n",
    "import warnings"
   ]
  },
  {
   "cell_type": "code",
   "execution_count": 343,
   "metadata": {},
   "outputs": [],
   "source": [
    "sns.set(rc={'figure.figsize':(10,8)})"
   ]
  },
  {
   "cell_type": "code",
   "execution_count": 344,
   "metadata": {},
   "outputs": [
    {
     "data": {
      "text/plain": [
       "True"
      ]
     },
     "execution_count": 344,
     "metadata": {},
     "output_type": "execute_result"
    }
   ],
   "source": [
    "import nltk\n",
    "nltk.download([\"names\", \"stopwords\",\"averaged_perceptron_tagger\",\n",
    "               \"punkt\", \"vader_lexicon\", \"wordnet\"], quiet=True)"
   ]
  },
  {
   "cell_type": "code",
   "execution_count": 345,
   "metadata": {},
   "outputs": [],
   "source": [
    "from pandas.core.common import SettingWithCopyWarning\n",
    "warnings.simplefilter(action=\"ignore\", category=SettingWithCopyWarning)"
   ]
  },
  {
   "cell_type": "markdown",
   "metadata": {},
   "source": [
    "# UDF"
   ]
  },
  {
   "cell_type": "code",
   "execution_count": 346,
   "metadata": {},
   "outputs": [],
   "source": [
    "def make_lemma(text):\n",
    "  \"\"\"\n",
    "  Function to lemmatize and clean text\n",
    "  \n",
    "  From: https://towardsdatascience.com/from-dataframe-to-n-grams-e34e29df3460\n",
    "  \"\"\"\n",
    "  word_lemma = nltk.stem.WordNetLemmatizer()\n",
    "  stopwords_ = nltk.corpus.stopwords.words('english')\n",
    "  stopwords_.extend(['gizmos', 'feel', 'like', 'game', 'board', 'bit', 'get', 'reall'])\n",
    "  text = (unicodedata.normalize('NFKD', text)\n",
    "    .encode('ascii', 'ignore')\n",
    "    .decode('utf-8', 'ignore')\n",
    "    .lower())\n",
    "  words = re.sub(r'[^\\w\\s]', '', text).split() \n",
    "  word_li = [word_lemma.lemmatize(word) for word in words if word not in stopwords_]\n",
    "\n",
    "  # One last move: will replace building with builder, since there's no distinction in this case\n",
    "  # This is also a very commong word in the corpus\n",
    "  word_li = ['builder' if word == 'building' else word for word in word_li] \n",
    "\n",
    "  # For some reason, stopwords isn't removing this one. Doing so manually\n",
    "  if 'game' in word_li:\n",
    "    word_li.remove('game')\n",
    "\n",
    "  return word_li"
   ]
  },
  {
   "cell_type": "code",
   "execution_count": 347,
   "metadata": {},
   "outputs": [],
   "source": [
    "def dataframe_to_wordlist(df, word_col):\n",
    "    all_text = ''\n",
    "\n",
    "    for i in range(len(df)):\n",
    "        new_text = df.iloc[i, word_col]\n",
    "        all_text += ' ' + new_text\n",
    "\n",
    "    all_text = all_text.encode(\"ascii\", errors=\"ignore\").decode()\n",
    "    for symbol in ['!', ',','.','_', '(', ')']:\n",
    "        all_text = all_text.replace(symbol, ' ')\n",
    "    \n",
    "    all_text = all_text.lower()\n",
    "    return all_text.split(' ')"
   ]
  },
  {
   "cell_type": "markdown",
   "metadata": {},
   "source": [
    "# Scrape Game Description"
   ]
  },
  {
   "cell_type": "code",
   "execution_count": 348,
   "metadata": {},
   "outputs": [],
   "source": [
    "#con = sqlite3.connect('bgg.db')\n",
    "#cur = con.cursor()"
   ]
  },
  {
   "cell_type": "code",
   "execution_count": 349,
   "metadata": {},
   "outputs": [],
   "source": [
    "params = {'id' : '246192','stats' :'0'}\n",
    "response = requests.get('https://www.boardgamegeek.com/xmlapi2/thing?', params)\n",
    "soup = BeautifulSoup(response.text, \"xml\")\n",
    "str_ = str(soup.find('description'))"
   ]
  },
  {
   "cell_type": "code",
   "execution_count": 350,
   "metadata": {},
   "outputs": [
    {
     "data": {
      "text/plain": [
       "\"The smartest minds of our generation are gathering together at the Great Science Fair. Everyone's been working hard on their creations, but only one will be crowned champion. Contestants have to think on the fly to build their machines quickly and efficiently. Whose project will be the best?&amp;#10;&amp;#10;In Gizmos, you win the game by gaining victory points from building engines. And engines help you get things done faster. Whoever builds the greatest machine and collects the most victory points wins!&amp;#10;&amp;#10;At the beginning of the game, you have 4 actions:&amp;#10;&amp;#10;     File : Put a card in the public to your Archive, allow you to build it later.&amp;#10;     Pick : Take one energy marble from the 3D marble dispenser, to your storage.&amp;#10;     Build : Build one machine and put it on action! You have to pay the marbles with colors corresponding to the card cost.&amp;#10;     Research : Draw some cards, and you can then File or Build one of the drawn cards. The rest go to the bottom of their deck.&amp;#10;&amp;#10;&amp;#10;&amp;#10;&amp;#10;Machines give you victory points, and allow you to do more actions when conditions are met. As you build, new attachments can trigger chain reactions, letting you do even more on your turn.&amp;#10;&amp;#10;\""
      ]
     },
     "execution_count": 350,
     "metadata": {},
     "output_type": "execute_result"
    }
   ],
   "source": [
    "str_ = str_.replace('<description>', '')\n",
    "str_ = str_.replace('</description>', '')\n",
    "str_"
   ]
  },
  {
   "cell_type": "code",
   "execution_count": 351,
   "metadata": {},
   "outputs": [],
   "source": [
    "comment_len = 1\n",
    "comment_li = []\n",
    "i = 1\n",
    "game_id = '246192'\n",
    "while comment_len > 0:\n",
    "    params = {'id' : game_id,'comments' :'1', 'page' : str(i), 'pagesize' : str(100)}\n",
    "    response = requests.get('https://www.boardgamegeek.com/xmlapi2/thing?', params)\n",
    "    soup = BeautifulSoup(response.text, \"xml\")\n",
    "    comments = soup.find_all('comment')\n",
    "    for idx, com in enumerate(comments):\n",
    "        comment_li.append((game_id, com['rating'], com['username'], com['value']))\n",
    "    comment_len = len(comments)\n",
    "    i += 1"
   ]
  },
  {
   "cell_type": "code",
   "execution_count": 352,
   "metadata": {},
   "outputs": [
    {
     "data": {
      "text/plain": [
       "(1193, 4)"
      ]
     },
     "execution_count": 352,
     "metadata": {},
     "output_type": "execute_result"
    }
   ],
   "source": [
    "df = pd.DataFrame(comment_li, columns = ['game_id', 'rating','user','description'])\n",
    "df.shape"
   ]
  },
  {
   "cell_type": "code",
   "execution_count": 353,
   "metadata": {},
   "outputs": [],
   "source": [
    "# Convert rating to a number\n",
    "df.loc[df['rating'] == 'N/A', 'rating'] = np.nan\n",
    "df.loc[:, 'rating'] = df.loc[:, 'rating'].astype(float)"
   ]
  },
  {
   "cell_type": "code",
   "execution_count": 354,
   "metadata": {},
   "outputs": [
    {
     "name": "stdout",
     "output_type": "stream",
     "text": [
      "287 714 192\n"
     ]
    }
   ],
   "source": [
    "unrated, high, low = df[pd.isna(df['rating'])].shape[0], df[df['rating'] >= 7].shape[0], df[df['rating'] < 7].shape[0]\n",
    "print(unrated, high, low)"
   ]
  },
  {
   "cell_type": "code",
   "execution_count": 355,
   "metadata": {},
   "outputs": [
    {
     "data": {
      "text/plain": [
       "Text(0.5, 1.0, 'Cumulative Distribution of Scores')"
      ]
     },
     "execution_count": 355,
     "metadata": {},
     "output_type": "execute_result"
    },
    {
     "data": {
      "image/png": "[encoded data removed]",
      "text/plain": [
       "<Figure size 720x576 with 1 Axes>"
      ]
     },
     "metadata": {},
     "output_type": "display_data"
    }
   ],
   "source": [
    "sns.kdeplot(df.loc[df['rating']>0, 'rating'], cumulative=True)\n",
    "plt.axvline(8, 0, 1, color ='black')\n",
    "plt.axvline(7, 0, 1, color ='red')\n",
    "plt.title('Cumulative Distribution of Scores')"
   ]
  },
  {
   "cell_type": "markdown",
   "metadata": {},
   "source": [
    "Only ~30% of scores are <= 7. Almost 70% of scores are <= 8 "
   ]
  },
  {
   "cell_type": "code",
   "execution_count": 356,
   "metadata": {},
   "outputs": [
    {
     "data": {
      "text/html": [
       "<div>\n",
       "<style scoped>\n",
       "    .dataframe tbody tr th:only-of-type {\n",
       "        vertical-align: middle;\n",
       "    }\n",
       "\n",
       "    .dataframe tbody tr th {\n",
       "        vertical-align: top;\n",
       "    }\n",
       "\n",
       "    .dataframe thead th {\n",
       "        text-align: right;\n",
       "    }\n",
       "</style>\n",
       "<table border=\"1\" class=\"dataframe\">\n",
       "  <thead>\n",
       "    <tr style=\"text-align: right;\">\n",
       "      <th></th>\n",
       "      <th>game_id</th>\n",
       "      <th>rating</th>\n",
       "      <th>user</th>\n",
       "      <th>description</th>\n",
       "    </tr>\n",
       "  </thead>\n",
       "  <tbody>\n",
       "    <tr>\n",
       "      <th>1</th>\n",
       "      <td>246192</td>\n",
       "      <td>8.0</td>\n",
       "      <td>4ndrewcol3</td>\n",
       "      <td>My favorite shorter game</td>\n",
       "    </tr>\n",
       "    <tr>\n",
       "      <th>2</th>\n",
       "      <td>246192</td>\n",
       "      <td>6.0</td>\n",
       "      <td>Abdul</td>\n",
       "      <td>Decent but forgettable. I would have expected ...</td>\n",
       "    </tr>\n",
       "    <tr>\n",
       "      <th>3</th>\n",
       "      <td>246192</td>\n",
       "      <td>10.0</td>\n",
       "      <td>AbleCompany</td>\n",
       "      <td>My pick for an engine building game with just ...</td>\n",
       "    </tr>\n",
       "    <tr>\n",
       "      <th>4</th>\n",
       "      <td>246192</td>\n",
       "      <td>7.0</td>\n",
       "      <td>Abruptdolphin</td>\n",
       "      <td>Slimbo</td>\n",
       "    </tr>\n",
       "    <tr>\n",
       "      <th>5</th>\n",
       "      <td>246192</td>\n",
       "      <td>7.0</td>\n",
       "      <td>Achire</td>\n",
       "      <td>Light game. Pretty fun with all the card combo...</td>\n",
       "    </tr>\n",
       "  </tbody>\n",
       "</table>\n",
       "</div>"
      ],
      "text/plain": [
       "  game_id  rating           user  \\\n",
       "1  246192     8.0     4ndrewcol3   \n",
       "2  246192     6.0          Abdul   \n",
       "3  246192    10.0    AbleCompany   \n",
       "4  246192     7.0  Abruptdolphin   \n",
       "5  246192     7.0         Achire   \n",
       "\n",
       "                                         description  \n",
       "1                           My favorite shorter game  \n",
       "2  Decent but forgettable. I would have expected ...  \n",
       "3  My pick for an engine building game with just ...  \n",
       "4                                             Slimbo  \n",
       "5  Light game. Pretty fun with all the card combo...  "
      ]
     },
     "execution_count": 356,
     "metadata": {},
     "output_type": "execute_result"
    }
   ],
   "source": [
    "has_rating = df[~pd.isna(df['rating'])]\n",
    "has_rating.head()"
   ]
  },
  {
   "cell_type": "markdown",
   "metadata": {},
   "source": [
    "# NLTK Analysis"
   ]
  },
  {
   "cell_type": "markdown",
   "metadata": {},
   "source": [
    "Code inspired by this site: https://realpython.com/python-nltk-sentiment-analysis/"
   ]
  },
  {
   "cell_type": "markdown",
   "metadata": {},
   "source": [
    "## Let's look at phrases that appear more frequently than expected"
   ]
  },
  {
   "cell_type": "code",
   "execution_count": 357,
   "metadata": {},
   "outputs": [],
   "source": [
    "bigram_measures = nltk.collocations.BigramAssocMeasures()"
   ]
  },
  {
   "cell_type": "code",
   "execution_count": 358,
   "metadata": {},
   "outputs": [],
   "source": [
    "from nltk.collocations import BigramCollocationFinder\n",
    "\n",
    "finder = BigramCollocationFinder.from_words(\n",
    "    dataframe_to_wordlist(has_rating, 3))"
   ]
  },
  {
   "cell_type": "code",
   "execution_count": 370,
   "metadata": {},
   "outputs": [
    {
     "name": "stdout",
     "output_type": "stream",
     "text": [
      "[('\"an', 'engine\"'), ('\"blind', 'pick\"'), ('\"current', 'favorite\"'), ('\"engine', 'builder\"'), ('\"gizmos', 'market\"'), ('\"go', 'off\"'), ('\"good', 'splendor\"'), ('\"heavy', 'filler\"'), ('\"karciany\"', 'przynoszcy'), ('\"lost', 'designs\"'), ('\"next', 'step\"'), ('\"pick', 'up\"'), ('\"played', 'out\"'), ('\"z', 'kulkami\"'), ('$', 'shipping')]\n"
     ]
    }
   ],
   "source": [
    "temp = finder.nbest(bigram_measures.pmi, 15)\n",
    "print(temp)"
   ]
  },
  {
   "cell_type": "markdown",
   "metadata": {},
   "source": [
    "Gizmos is an engine bulding game, so it's not surpise that two of the top three results mention engine building. \"Go off\" probably also refers to the process of engine building. Splendor is arguably the most popular engine building game, so its no surprise to see a phrase listing it.\n",
    "\n",
    "\"Blind pick\" refers to a mechanic of the game: players may get to select a random resource from the main component. \"Pick up\" might also refer to this mechanic\n",
    "\n",
    "Others of note: \"Lost designs\" refers to a mini-exapnsion for the game. \"Next step\" refers to games that are a bit more complicated than intro games (e.g. Ticket to Ride) but aren't quite medium-weight games (e.g. Castles of Burgundy). \"Heavy filler\" is another way to explain a \"next step\" game. \"Played out\" probably refers to a game's lack of originality, while \"current favorite\" is self explanatory. There's also a Polish phrase in there, according to Google translate it means \"card fetch.\" "
   ]
  },
  {
   "cell_type": "code",
   "execution_count": 360,
   "metadata": {},
   "outputs": [],
   "source": [
    "has_rating.loc[:,'lemma'] = has_rating['description'].apply(make_lemma)"
   ]
  },
  {
   "cell_type": "code",
   "execution_count": 361,
   "metadata": {},
   "outputs": [
    {
     "data": {
      "text/html": [
       "<div>\n",
       "<style scoped>\n",
       "    .dataframe tbody tr th:only-of-type {\n",
       "        vertical-align: middle;\n",
       "    }\n",
       "\n",
       "    .dataframe tbody tr th {\n",
       "        vertical-align: top;\n",
       "    }\n",
       "\n",
       "    .dataframe thead th {\n",
       "        text-align: right;\n",
       "    }\n",
       "</style>\n",
       "<table border=\"1\" class=\"dataframe\">\n",
       "  <thead>\n",
       "    <tr style=\"text-align: right;\">\n",
       "      <th></th>\n",
       "      <th>game_id</th>\n",
       "      <th>rating</th>\n",
       "      <th>user</th>\n",
       "      <th>description</th>\n",
       "      <th>lemma</th>\n",
       "    </tr>\n",
       "  </thead>\n",
       "  <tbody>\n",
       "    <tr>\n",
       "      <th>1</th>\n",
       "      <td>246192</td>\n",
       "      <td>8.0</td>\n",
       "      <td>4ndrewcol3</td>\n",
       "      <td>My favorite shorter game</td>\n",
       "      <td>[favorite, shorter]</td>\n",
       "    </tr>\n",
       "    <tr>\n",
       "      <th>2</th>\n",
       "      <td>246192</td>\n",
       "      <td>6.0</td>\n",
       "      <td>Abdul</td>\n",
       "      <td>Decent but forgettable. I would have expected ...</td>\n",
       "      <td>[decent, forgettable, would, expected, least, ...</td>\n",
       "    </tr>\n",
       "    <tr>\n",
       "      <th>3</th>\n",
       "      <td>246192</td>\n",
       "      <td>10.0</td>\n",
       "      <td>AbleCompany</td>\n",
       "      <td>My pick for an engine building game with just ...</td>\n",
       "      <td>[pick, engine, builder, right, kind, theming, ...</td>\n",
       "    </tr>\n",
       "    <tr>\n",
       "      <th>4</th>\n",
       "      <td>246192</td>\n",
       "      <td>7.0</td>\n",
       "      <td>Abruptdolphin</td>\n",
       "      <td>Slimbo</td>\n",
       "      <td>[slimbo]</td>\n",
       "    </tr>\n",
       "    <tr>\n",
       "      <th>5</th>\n",
       "      <td>246192</td>\n",
       "      <td>7.0</td>\n",
       "      <td>Achire</td>\n",
       "      <td>Light game. Pretty fun with all the card combo...</td>\n",
       "      <td>[light, pretty, fun, card, combo, mechanic, lo...</td>\n",
       "    </tr>\n",
       "  </tbody>\n",
       "</table>\n",
       "</div>"
      ],
      "text/plain": [
       "  game_id  rating           user  \\\n",
       "1  246192     8.0     4ndrewcol3   \n",
       "2  246192     6.0          Abdul   \n",
       "3  246192    10.0    AbleCompany   \n",
       "4  246192     7.0  Abruptdolphin   \n",
       "5  246192     7.0         Achire   \n",
       "\n",
       "                                         description  \\\n",
       "1                           My favorite shorter game   \n",
       "2  Decent but forgettable. I would have expected ...   \n",
       "3  My pick for an engine building game with just ...   \n",
       "4                                             Slimbo   \n",
       "5  Light game. Pretty fun with all the card combo...   \n",
       "\n",
       "                                               lemma  \n",
       "1                                [favorite, shorter]  \n",
       "2  [decent, forgettable, would, expected, least, ...  \n",
       "3  [pick, engine, builder, right, kind, theming, ...  \n",
       "4                                           [slimbo]  \n",
       "5  [light, pretty, fun, card, combo, mechanic, lo...  "
      ]
     },
     "execution_count": 361,
     "metadata": {},
     "output_type": "execute_result"
    }
   ],
   "source": [
    "has_rating.head()"
   ]
  },
  {
   "cell_type": "code",
   "execution_count": 362,
   "metadata": {},
   "outputs": [],
   "source": [
    "all_text_li = []\n",
    "\n",
    "for i in range(len(has_rating)):\n",
    "    all_text_li.extend(has_rating.iloc[i, 4])"
   ]
  },
  {
   "cell_type": "code",
   "execution_count": 363,
   "metadata": {},
   "outputs": [
    {
     "data": {
      "text/plain": [
       "(engine, builder)      334\n",
       "(marble, dispenser)     54\n",
       "(potion, explosion)     37\n",
       "(spice, road)           25\n",
       "(little, engine)        24\n",
       "(century, spice)        24\n",
       "(chain, reaction)       24\n",
       "(splendor, century)     19\n",
       "(good, engine)          18\n",
       "(fun, engine)           17\n",
       "dtype: int64"
      ]
     },
     "execution_count": 363,
     "metadata": {},
     "output_type": "execute_result"
    }
   ],
   "source": [
    "(pd.Series(nltk.ngrams(all_text_li, 2)).value_counts())[:10]"
   ]
  },
  {
   "cell_type": "markdown",
   "metadata": {},
   "source": [
    "It seems like it's quite common for reviews to note that Gizmos is an engine building game. Most the results note this. \n",
    "\n",
    "People also like to compare it to other engine building games: Century Spice Road (which takes up two slots alone, three total), Potion Explosion (which takes up one spot), and Splendor (which shares a spot with century).\n",
    "\n",
    "People also enjoy the marble dispenser, which is the game's most remarkable component."
   ]
  },
  {
   "cell_type": "code",
   "execution_count": 369,
   "metadata": {},
   "outputs": [
    {
     "data": {
      "text/plain": [
       "(little, engine, builder)     22\n",
       "(century, spice, road)        22\n",
       "(fun, engine, builder)        15\n",
       "(good, engine, builder)       15\n",
       "(pure, engine, builder)       14\n",
       "(great, engine, builder)      12\n",
       "(splendor, century, spice)    10\n",
       "(engine, builder, great)       9\n",
       "(engine, builder, good)        9\n",
       "(light, engine, builder)       8\n",
       "dtype: int64"
      ]
     },
     "execution_count": 369,
     "metadata": {},
     "output_type": "execute_result"
    }
   ],
   "source": [
    "(pd.Series(nltk.ngrams(all_text_li, 3)).value_counts())[:10]"
   ]
  },
  {
   "cell_type": "markdown",
   "metadata": {},
   "source": [
    "Nothing remarkable here. It's an engine building game like Splendor and Century."
   ]
  },
  {
   "cell_type": "code",
   "execution_count": 365,
   "metadata": {},
   "outputs": [],
   "source": [
    "wordfreq = {}\n",
    "\n",
    "for token in all_text_li:\n",
    "    if len(token) >= 3:\n",
    "        if token not in wordfreq.keys():\n",
    "            wordfreq[token] = 1\n",
    "        else:\n",
    "            wordfreq[token] += 1"
   ]
  },
  {
   "cell_type": "code",
   "execution_count": 367,
   "metadata": {},
   "outputs": [
    {
     "name": "stdout",
     "output_type": "stream",
     "text": [
      "['engine', 'builder', 'marble', 'play', 'card', 'fun', 'splendor', 'good', 'one', 'combo', 'really', 'player', 'great', 'dispenser', 'build', 'action', 'would', 'little', 'turn', 'time']\n"
     ]
    }
   ],
   "source": [
    "import heapq\n",
    "most_freq = heapq.nlargest(20, wordfreq, key=wordfreq.get)\n",
    "print(most_freq)"
   ]
  },
  {
   "cell_type": "code",
   "execution_count": null,
   "metadata": {},
   "outputs": [],
   "source": []
  }
 ],
 "metadata": {
  "kernelspec": {
   "display_name": "Python 3",
   "language": "python",
   "name": "python3"
  },
  "language_info": {
   "codemirror_mode": {
    "name": "ipython",
    "version": 3
   },
   "file_extension": ".py",
   "mimetype": "text/x-python",
   "name": "python",
   "nbconvert_exporter": "python",
   "pygments_lexer": "ipython3",
   "version": "3.7.6"
  }
 },
 "nbformat": 4,
 "nbformat_minor": 4
}
