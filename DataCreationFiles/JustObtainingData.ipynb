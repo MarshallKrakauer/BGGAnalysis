{
 "cells": [
  {
   "cell_type": "markdown",
   "metadata": {},
   "source": [
    "File built on the mechanics file"
   ]
  },
  {
   "cell_type": "code",
   "execution_count": 16,
   "metadata": {},
   "outputs": [],
   "source": [
    "import requests\n",
    "from lxml import etree\n",
    "from bs4 import BeautifulSoup\n",
    "import pandas as pd\n",
    "import numpy as np\n",
    "import time\n",
    "import sqlite3\n",
    "import statsmodels.formula.api as smf"
   ]
  },
  {
   "cell_type": "code",
   "execution_count": 17,
   "metadata": {},
   "outputs": [],
   "source": [
    "con = sqlite3.connect('bgg.db')\n",
    "cur = con.cursor()"
   ]
  },
  {
   "cell_type": "code",
   "execution_count": 18,
   "metadata": {},
   "outputs": [],
   "source": [
    "query = '''\n",
    " SELECT t1.id, title, CAST(avg_rating AS FLOAT64) avg_rating, CAST(avg_bayes_rating AS FLOAT64),\n",
    "        CAST(std as FLOAT64) std, category, mechanic, ratings, year\n",
    " \n",
    " FROM TOP_GAMES_FULL t1\n",
    "   LEFT JOIN BGG_CATEGORIES t2\n",
    "     ON t1.id = t2.id\n",
    "   LEFT JOIN BGG_MECHANICS t3\n",
    "       ON t1.id = t3.id\n",
    "     \n",
    "ORDER BY avg_rating DESC\n",
    "'''\n",
    "\n",
    "results = cur.execute(query)\n",
    "result_li = [elem for elem in results.fetchall()]"
   ]
  },
  {
   "cell_type": "code",
   "execution_count": 19,
   "metadata": {},
   "outputs": [
    {
     "data": {
      "text/html": [
       "<div>\n",
       "<style scoped>\n",
       "    .dataframe tbody tr th:only-of-type {\n",
       "        vertical-align: middle;\n",
       "    }\n",
       "\n",
       "    .dataframe tbody tr th {\n",
       "        vertical-align: top;\n",
       "    }\n",
       "\n",
       "    .dataframe thead th {\n",
       "        text-align: right;\n",
       "    }\n",
       "</style>\n",
       "<table border=\"1\" class=\"dataframe\">\n",
       "  <thead>\n",
       "    <tr style=\"text-align: right;\">\n",
       "      <th></th>\n",
       "      <th>game_id</th>\n",
       "      <th>title</th>\n",
       "      <th>rating</th>\n",
       "      <th>bayes_rating</th>\n",
       "      <th>std</th>\n",
       "      <th>category</th>\n",
       "      <th>mechanic</th>\n",
       "      <th>ratings</th>\n",
       "      <th>year</th>\n",
       "    </tr>\n",
       "  </thead>\n",
       "  <tbody>\n",
       "    <tr>\n",
       "      <th>0</th>\n",
       "      <td>169427</td>\n",
       "      <td>middara_unintentional_malum_act_1</td>\n",
       "      <td>8.86084</td>\n",
       "      <td>6.75708</td>\n",
       "      <td>1.58086</td>\n",
       "      <td>Adventure</td>\n",
       "      <td>Action Points</td>\n",
       "      <td>1363</td>\n",
       "      <td>2019</td>\n",
       "    </tr>\n",
       "    <tr>\n",
       "      <th>1</th>\n",
       "      <td>169427</td>\n",
       "      <td>middara_unintentional_malum_act_1</td>\n",
       "      <td>8.86084</td>\n",
       "      <td>6.75708</td>\n",
       "      <td>1.58086</td>\n",
       "      <td>Adventure</td>\n",
       "      <td>Cooperative Game</td>\n",
       "      <td>1363</td>\n",
       "      <td>2019</td>\n",
       "    </tr>\n",
       "    <tr>\n",
       "      <th>2</th>\n",
       "      <td>169427</td>\n",
       "      <td>middara_unintentional_malum_act_1</td>\n",
       "      <td>8.86084</td>\n",
       "      <td>6.75708</td>\n",
       "      <td>1.58086</td>\n",
       "      <td>Adventure</td>\n",
       "      <td>Dice Rolling</td>\n",
       "      <td>1363</td>\n",
       "      <td>2019</td>\n",
       "    </tr>\n",
       "    <tr>\n",
       "      <th>3</th>\n",
       "      <td>169427</td>\n",
       "      <td>middara_unintentional_malum_act_1</td>\n",
       "      <td>8.86084</td>\n",
       "      <td>6.75708</td>\n",
       "      <td>1.58086</td>\n",
       "      <td>Adventure</td>\n",
       "      <td>Grid Movement</td>\n",
       "      <td>1363</td>\n",
       "      <td>2019</td>\n",
       "    </tr>\n",
       "    <tr>\n",
       "      <th>4</th>\n",
       "      <td>169427</td>\n",
       "      <td>middara_unintentional_malum_act_1</td>\n",
       "      <td>8.86084</td>\n",
       "      <td>6.75708</td>\n",
       "      <td>1.58086</td>\n",
       "      <td>Adventure</td>\n",
       "      <td>Hand Management</td>\n",
       "      <td>1363</td>\n",
       "      <td>2019</td>\n",
       "    </tr>\n",
       "  </tbody>\n",
       "</table>\n",
       "</div>"
      ],
      "text/plain": [
       "  game_id                              title   rating  bayes_rating      std  \\\n",
       "0  169427  middara_unintentional_malum_act_1  8.86084       6.75708  1.58086   \n",
       "1  169427  middara_unintentional_malum_act_1  8.86084       6.75708  1.58086   \n",
       "2  169427  middara_unintentional_malum_act_1  8.86084       6.75708  1.58086   \n",
       "3  169427  middara_unintentional_malum_act_1  8.86084       6.75708  1.58086   \n",
       "4  169427  middara_unintentional_malum_act_1  8.86084       6.75708  1.58086   \n",
       "\n",
       "    category          mechanic ratings  year  \n",
       "0  Adventure     Action Points    1363  2019  \n",
       "1  Adventure  Cooperative Game    1363  2019  \n",
       "2  Adventure      Dice Rolling    1363  2019  \n",
       "3  Adventure     Grid Movement    1363  2019  \n",
       "4  Adventure   Hand Management    1363  2019  "
      ]
     },
     "execution_count": 19,
     "metadata": {},
     "output_type": "execute_result"
    }
   ],
   "source": [
    "df = pd.DataFrame(result_li)\n",
    "df.columns = ['game_id','title','rating','bayes_rating','std','category','mechanic', 'ratings', 'year']\n",
    "df.head()"
   ]
  },
  {
   "cell_type": "code",
   "execution_count": 20,
   "metadata": {},
   "outputs": [],
   "source": [
    "df.to_csv('game_info.csv')"
   ]
  },
  {
   "cell_type": "code",
   "execution_count": 4,
   "metadata": {},
   "outputs": [],
   "source": [
    "query = '''\n",
    " SELECT t1.id, title, CAST(avg_rating AS FLOAT64) avg_rating, CAST(avg_bayes_rating AS FLOAT64),\n",
    "        CAST(std as FLOAT64) std, category\n",
    " \n",
    " FROM TOP_GAMES_FULL t1\n",
    "   LEFT JOIN BGG_CATEGORIES t2\n",
    "     ON t1.id = t2.id\n",
    "     \n",
    "ORDER BY avg_rating DESC\n",
    "'''\n",
    "\n",
    "results = cur.execute(query)\n",
    "result_li = [elem for elem in results.fetchall()]"
   ]
  },
  {
   "cell_type": "code",
   "execution_count": 5,
   "metadata": {},
   "outputs": [],
   "source": [
    "df = pd.DataFrame(result_li, columns = ['id', 'Title','Score', 'BayesScore', 'StdDev', 'Category'])"
   ]
  }
 ],
 "metadata": {
  "kernelspec": {
   "display_name": "Python 3",
   "language": "python",
   "name": "python3"
  },
  "language_info": {
   "codemirror_mode": {
    "name": "ipython",
    "version": 3
   },
   "file_extension": ".py",
   "mimetype": "text/x-python",
   "name": "python",
   "nbconvert_exporter": "python",
   "pygments_lexer": "ipython3",
   "version": "3.7.6"
  }
 },
 "nbformat": 4,
 "nbformat_minor": 4
}
