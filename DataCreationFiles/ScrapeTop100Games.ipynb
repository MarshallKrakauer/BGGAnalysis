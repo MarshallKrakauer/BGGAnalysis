{
 "cells": [
  {
   "cell_type": "code",
   "execution_count": 74,
   "metadata": {},
   "outputs": [],
   "source": [
    "from bs4 import BeautifulSoup\n",
    "import numpy as np\n",
    "import matplotlib.pyplot as plt\n",
    "import pandas as pd\n",
    "import requests\n",
    "import re\n",
    "import json"
   ]
  },
  {
   "cell_type": "code",
   "execution_count": 75,
   "metadata": {},
   "outputs": [],
   "source": [
    "id_li= [] # dictionary will store id and information about top games"
   ]
  },
  {
   "cell_type": "code",
   "execution_count": 76,
   "metadata": {},
   "outputs": [],
   "source": [
    "def scrape_bgg_page(page_num=1):\n",
    "    global id_li\n",
    "    \n",
    "    page_num = str(page_num)\n",
    "    \n",
    "    initial_url = 'https://boardgamegeek.com/browse/boardgame/page/{0}?sort=rank&sortdir=asc'.format(page_num)\n",
    "    # obtain table of top games from bgg\n",
    "    r = requests.get(initial_url)\n",
    "    soup = BeautifulSoup(r.text, \"html.parser\")  \n",
    "    rank_table = soup.find_all(\"tr\", attrs={\"id\": \"row_\"})\n",
    "    \n",
    "    # Loop through all 100 items and store info in dictionary\n",
    "    for idx, elem in enumerate(rank_table):\n",
    "\n",
    "        # Find the main information about a game\n",
    "        links = elem.find_all(\"a\", {'class':'primary'})\n",
    "\n",
    "        # Obtain the game's url\n",
    "        url = links[0]['href']\n",
    "\n",
    "        # From that url, obtain the game id\n",
    "        id_ = re.findall(r'[0-9]+', url)[0]\n",
    "\n",
    "        # Also return the title of the game\n",
    "        url = url.replace('/boardgame/', '')\n",
    "        url = url.replace(id_, '')\n",
    "        url = url.replace('/', '')\n",
    "        url = url.replace('-','_')\n",
    "\n",
    "        # Finally, obtain the release year\n",
    "        year_ = elem.find_all('span')\n",
    "        year_ = year_[0].contents\n",
    "        year_ = re.findall(r'[0-9]+', str(year_))[0]\n",
    "        id_li.append([id_, url, year_])"
   ]
  },
  {
   "cell_type": "code",
   "execution_count": 77,
   "metadata": {},
   "outputs": [],
   "source": [
    "# Scrape top 10 games\n",
    "for i in range(1,11):\n",
    "    scrape_bgg_page(i)"
   ]
  },
  {
   "cell_type": "code",
   "execution_count": null,
   "metadata": {},
   "outputs": [],
   "source": [
    "id_li"
   ]
  },
  {
   "cell_type": "code",
   "execution_count": 79,
   "metadata": {},
   "outputs": [
    {
     "data": {
      "text/html": [
       "<div>\n",
       "<style scoped>\n",
       "    .dataframe tbody tr th:only-of-type {\n",
       "        vertical-align: middle;\n",
       "    }\n",
       "\n",
       "    .dataframe tbody tr th {\n",
       "        vertical-align: top;\n",
       "    }\n",
       "\n",
       "    .dataframe thead th {\n",
       "        text-align: right;\n",
       "    }\n",
       "</style>\n",
       "<table border=\"1\" class=\"dataframe\">\n",
       "  <thead>\n",
       "    <tr style=\"text-align: right;\">\n",
       "      <th></th>\n",
       "      <th>id</th>\n",
       "      <th>title</th>\n",
       "      <th>year</th>\n",
       "    </tr>\n",
       "  </thead>\n",
       "  <tbody>\n",
       "    <tr>\n",
       "      <th>0</th>\n",
       "      <td>174430</td>\n",
       "      <td>gloomhaven</td>\n",
       "      <td>2017</td>\n",
       "    </tr>\n",
       "    <tr>\n",
       "      <th>1</th>\n",
       "      <td>161936</td>\n",
       "      <td>pandemic_legacy_season_1</td>\n",
       "      <td>2015</td>\n",
       "    </tr>\n",
       "    <tr>\n",
       "      <th>2</th>\n",
       "      <td>224517</td>\n",
       "      <td>brass_birmingham</td>\n",
       "      <td>2018</td>\n",
       "    </tr>\n",
       "    <tr>\n",
       "      <th>3</th>\n",
       "      <td>167791</td>\n",
       "      <td>terraforming_mars</td>\n",
       "      <td>2016</td>\n",
       "    </tr>\n",
       "    <tr>\n",
       "      <th>4</th>\n",
       "      <td>291457</td>\n",
       "      <td>gloomhaven_jaws_lion</td>\n",
       "      <td>2020</td>\n",
       "    </tr>\n",
       "    <tr>\n",
       "      <th>...</th>\n",
       "      <td>...</td>\n",
       "      <td>...</td>\n",
       "      <td>...</td>\n",
       "    </tr>\n",
       "    <tr>\n",
       "      <th>995</th>\n",
       "      <td>181796</td>\n",
       "      <td>prodigals_club</td>\n",
       "      <td>2015</td>\n",
       "    </tr>\n",
       "    <tr>\n",
       "      <th>996</th>\n",
       "      <td>121297</td>\n",
       "      <td>fleet</td>\n",
       "      <td>2012</td>\n",
       "    </tr>\n",
       "    <tr>\n",
       "      <th>997</th>\n",
       "      <td>234669</td>\n",
       "      <td>legacy_dragonholt</td>\n",
       "      <td>2017</td>\n",
       "    </tr>\n",
       "    <tr>\n",
       "      <th>998</th>\n",
       "      <td>50768</td>\n",
       "      <td>ninjato</td>\n",
       "      <td>2011</td>\n",
       "    </tr>\n",
       "    <tr>\n",
       "      <th>999</th>\n",
       "      <td>244049</td>\n",
       "      <td>forum_trajanum</td>\n",
       "      <td>2018</td>\n",
       "    </tr>\n",
       "  </tbody>\n",
       "</table>\n",
       "<p>1000 rows × 3 columns</p>\n",
       "</div>"
      ],
      "text/plain": [
       "         id                     title  year\n",
       "0    174430                gloomhaven  2017\n",
       "1    161936  pandemic_legacy_season_1  2015\n",
       "2    224517          brass_birmingham  2018\n",
       "3    167791         terraforming_mars  2016\n",
       "4    291457      gloomhaven_jaws_lion  2020\n",
       "..      ...                       ...   ...\n",
       "995  181796            prodigals_club  2015\n",
       "996  121297                     fleet  2012\n",
       "997  234669         legacy_dragonholt  2017\n",
       "998   50768                   ninjato  2011\n",
       "999  244049            forum_trajanum  2018\n",
       "\n",
       "[1000 rows x 3 columns]"
      ]
     },
     "execution_count": 79,
     "metadata": {},
     "output_type": "execute_result"
    }
   ],
   "source": [
    "df = pd.DataFrame(id_li, columns = ['id', 'title', 'year'])"
   ]
  },
  {
   "cell_type": "code",
   "execution_count": 81,
   "metadata": {},
   "outputs": [],
   "source": [
    "df['id'] = df['id'].astype(int)\n",
    "df['year'] = df['year'].astype(int)"
   ]
  },
  {
   "cell_type": "code",
   "execution_count": 82,
   "metadata": {},
   "outputs": [],
   "source": [
    "df.to_csv('top_games.csv')"
   ]
  }
 ],
 "metadata": {
  "kernelspec": {
   "display_name": "Python 3",
   "language": "python",
   "name": "python3"
  },
  "language_info": {
   "codemirror_mode": {
    "name": "ipython",
    "version": 3
   },
   "file_extension": ".py",
   "mimetype": "text/x-python",
   "name": "python",
   "nbconvert_exporter": "python",
   "pygments_lexer": "ipython3",
   "version": "3.7.6"
  }
 },
 "nbformat": 4,
 "nbformat_minor": 4
}
