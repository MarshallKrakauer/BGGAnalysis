{
 "cells": [
  {
   "cell_type": "markdown",
   "metadata": {},
   "source": [
    "Further information I hope to obtain:\n",
    "* Game descriptions\n",
    "* Player ratings, alongside other games that those players rated"
   ]
  },
  {
   "cell_type": "markdown",
   "metadata": {},
   "source": [
    "# Setup"
   ]
  },
  {
   "cell_type": "code",
   "execution_count": 1,
   "metadata": {},
   "outputs": [],
   "source": [
    "import requests\n",
    "from lxml import etree\n",
    "from bs4 import BeautifulSoup\n",
    "import pandas as pd\n",
    "import numpy as np\n",
    "import time\n",
    "import sqlite3"
   ]
  },
  {
   "cell_type": "code",
   "execution_count": null,
   "metadata": {},
   "outputs": [],
   "source": [
    "con = sqlite3.connect('bgg.db')\n",
    "cur = con.cursor()"
   ]
  },
  {
   "cell_type": "code",
   "execution_count": null,
   "metadata": {},
   "outputs": [],
   "source": [
    "ERROR_MESSAGE = error_message = ['\\n\\tYour request for this collection has been accepted and will be processed.  Please try again later for access.\\n']"
   ]
  },
  {
   "cell_type": "code",
   "execution_count": null,
   "metadata": {},
   "outputs": [],
   "source": [
    "def get_player_count_ratings(game_id):\n",
    "    params = {'id' : game_id}\n",
    "    response = requests.get('https://www.boardgamegeek.com/xmlapi2/thing?', params)\n",
    "    s = BeautifulSoup(response.text)\n",
    "    player_votings = s.find_all('results')\n",
    "    player_counter = 0\n",
    "\n",
    "    # Lookup if a rating refers to best, rec or not rec\n",
    "    rec_li = ['Best', 'Recommended', 'Not Recommended']\n",
    "\n",
    "\n",
    "    # output used to make SQL table\n",
    "    full_rating_li = []\n",
    "\n",
    "    for val in player_votings:\n",
    "        try: \n",
    "            for idx, elem in enumerate(val.find_all('result')):\n",
    "                full_rating_li.append((game_id, val['numplayers'], rec_li[idx], elem['numvotes']))\n",
    "        except KeyError:\n",
    "            pass\n",
    "\n",
    "    return full_rating_li "
   ]
  },
  {
   "cell_type": "code",
   "execution_count": null,
   "metadata": {},
   "outputs": [],
   "source": [
    "def get_user_ratings(username):\n",
    "    error_message = ['\\n\\tYour request for this collection has been accepted and will be processed.  Please try again later for access.\\n']\n",
    "    \n",
    "    got_data = False\n",
    "    # Make API call to get XML data\n",
    "    while not got_data:\n",
    "        params = {'username' : username, 'type': 'boardgame', 'rated' : '1', 'brief' : '1', 'stats' : '1'}\n",
    "        response = requests.get('https://www.boardgamegeek.com/xmlapi2/collection?', params)\n",
    "        s = BeautifulSoup(response.text, \"xml\")\n",
    "        \n",
    "        try:\n",
    "            s.find('message').contents\n",
    "        except AttributeError:\n",
    "            got_data = True\n",
    "        finally:\n",
    "            time.sleep(1)\n",
    "    \n",
    "    # Initialize dataframe\n",
    "    rating_df = pd.DataFrame(columns = ['id', 'rating'])\n",
    "\n",
    "    # Loop through and output ratings to a dataframe\n",
    "    for i in s.find_all('item'):\n",
    "        game_id = i['objectid']\n",
    "        \n",
    "        # Make a soup out of the item info to extract rating\n",
    "        inner_soup = BeautifulSoup(str(i))\n",
    "        rv = inner_soup.find('stats')\n",
    "        inner_soup2 = BeautifulSoup(str(rv))\n",
    "        rating = inner_soup2.find('rating')\n",
    "        rating = float(rating['value'])\n",
    "        \n",
    "        # Append rating to df\n",
    "        temp_df = pd.DataFrame([[game_id,rating]], columns = ['id', 'rating'])\n",
    "        rating_df = rating_df.append(temp_df)\n",
    "    \n",
    "    rating_df['index'] = username\n",
    "    rating_df.rename({'index' :'username'}, inplace=True)\n",
    "    \n",
    "    return rating_df"
   ]
  },
  {
   "cell_type": "code",
   "execution_count": null,
   "metadata": {},
   "outputs": [],
   "source": [
    "con = sqlite3.connect('bgg.db')\n",
    "cur = con.cursor()"
   ]
  },
  {
   "cell_type": "markdown",
   "metadata": {},
   "source": [
    "# Get Player Counts"
   ]
  },
  {
   "cell_type": "code",
   "execution_count": null,
   "metadata": {},
   "outputs": [],
   "source": [
    "# Get list of top 1000 games from SQL table\n",
    "game_li = []\n",
    "\n",
    "results=cur.execute(\"select id FROM TOP_BGG_GAMES\")\n",
    "results=results.fetchall()\n",
    "\n",
    "for num in results:\n",
    "    game_li.append(num[0])"
   ]
  },
  {
   "cell_type": "code",
   "execution_count": null,
   "metadata": {},
   "outputs": [],
   "source": [
    "# For each game, get the min and max player count:\n",
    "min_max_player_li = []\n",
    "\n",
    "i = 0\n",
    "while i < len(game_li):\n",
    "    game_id = game_li[i]\n",
    "    params = {'id' : game_id,'stats' :'1'}\n",
    "    response = requests.get('https://www.boardgamegeek.com/xmlapi2/thing?', params)\n",
    "    soup = BeautifulSoup(response.text, \"xml\")\n",
    "\n",
    "    try: \n",
    "        min_play = soup.find('minplayers')['value']\n",
    "        max_play = soup.find('maxplayers')['value']\n",
    "        i += 1\n",
    "    except TypeError:\n",
    "        # If it fails, we need to wait so we can use the API gain\n",
    "        time.sleep(15)\n",
    "    \n",
    "    min_max_player_li.append([game_id, min_play, max_play])"
   ]
  },
  {
   "cell_type": "code",
   "execution_count": null,
   "metadata": {},
   "outputs": [],
   "source": [
    "# Create table\n",
    "cur.execute(''' CREATE TABLE BGG_PLAYER_COUNTS\n",
    "               (id text, min_players text, max_players text)''')"
   ]
  },
  {
   "cell_type": "code",
   "execution_count": null,
   "metadata": {},
   "outputs": [],
   "source": [
    "# Remove duplicates from API\n",
    "player_li_df = pd.DataFrame(min_max_player_li, columns = ['GameId','MinPlayers','MaxPlayers'])\n",
    "player_li_df.drop_duplicates(subset = 'GameId', keep='first', inplace=True)\n",
    "player_li_df.reset_index(inplace=True)\n",
    "player_li_df.shape"
   ]
  },
  {
   "cell_type": "code",
   "execution_count": null,
   "metadata": {},
   "outputs": [],
   "source": [
    "# Convert dataframe to tuple\n",
    "df = player_li_df\n",
    "tuple_li = []\n",
    "for i in range(len(df)):\n",
    "    tuple_ = str(df.loc[i, 'GameId']), df.loc[i, 'MinPlayers'], str(df.loc[i, 'MaxPlayers'])\n",
    "    tuple_li.append(tuple_)"
   ]
  },
  {
   "cell_type": "code",
   "execution_count": null,
   "metadata": {},
   "outputs": [],
   "source": [
    "# Enter tuple into SQL table\n",
    "cur.executemany(\"insert into BGG_PLAYER_COUNTS values (?, ?, ?)\", tuple_li)"
   ]
  },
  {
   "cell_type": "code",
   "execution_count": null,
   "metadata": {},
   "outputs": [],
   "source": [
    "con.commit()"
   ]
  },
  {
   "cell_type": "markdown",
   "metadata": {},
   "source": [
    "# Obtain game categories and mechanism"
   ]
  },
  {
   "cell_type": "code",
   "execution_count": null,
   "metadata": {
    "scrolled": true
   },
   "outputs": [],
   "source": [
    "category_li, mechanic_li = [],[]\n",
    "loop_len = len(game_li)\n",
    "\n",
    "i = 0\n",
    "while i < loop_len:\n",
    "    game_id = game_li[i]\n",
    "    params = {'id' : game_id}\n",
    "    response = requests.get('https://www.boardgamegeek.com/xmlapi2/thing?', params)\n",
    "    soup = BeautifulSoup(response.text, 'xml')\n",
    "    info_ = soup.find_all('link')\n",
    "    \n",
    "    try:\n",
    "        if info_ == []:\n",
    "            raise TypeError\n",
    "        for x in info_:\n",
    "            if x['type'] == 'boardgamecategory':\n",
    "                category_li.append((game_id, x['value']))\n",
    "            elif x['type'] == 'boardgamemechanic':\n",
    "                mechanic_li.append((game_id, x['value']))\n",
    "        i += 1 # increment the loop\n",
    "        print(i)\n",
    "    except TypeError:  # occurs when API times out\n",
    "        time.sleep(10) # wait ten seconds so we can run the API again"
   ]
  },
  {
   "cell_type": "code",
   "execution_count": null,
   "metadata": {},
   "outputs": [],
   "source": [
    "li__ = [elem[0] for elem in mechanic_li]"
   ]
  },
  {
   "cell_type": "code",
   "execution_count": null,
   "metadata": {},
   "outputs": [],
   "source": [
    "# Create table\n",
    "cur.execute(''' CREATE TABLE BGG_CATEGORIES\n",
    "               (id text, category text);\n",
    "               ''')\n",
    "\n",
    "cur.execute('''CREATE TABLE BGG_MECHANICS\n",
    "               (id text, mechanic text);''')"
   ]
  },
  {
   "cell_type": "code",
   "execution_count": null,
   "metadata": {},
   "outputs": [],
   "source": [
    "# Enter tuple into SQL table\n",
    "cur.executemany(\"insert into BGG_CATEGORIES values (?, ?)\", category_li)\n",
    "cur.executemany(\"insert into BGG_MECHANICS values (?, ?)\", mechanic_li)"
   ]
  },
  {
   "cell_type": "code",
   "execution_count": null,
   "metadata": {},
   "outputs": [],
   "source": [
    "con.commit()"
   ]
  },
  {
   "cell_type": "markdown",
   "metadata": {},
   "source": [
    "# Key Game Stats"
   ]
  },
  {
   "cell_type": "code",
   "execution_count": null,
   "metadata": {},
   "outputs": [],
   "source": [
    "def get_game_stats(game):\n",
    "    params = {'id' : game,'stats' :'1'}\n",
    "    response = requests.get('https://www.boardgamegeek.com/xmlapi2/thing?', params)\n",
    "    s = BeautifulSoup(response.text, \"xml\")\n",
    "    all_stats = s.find('ratings')\n",
    "    avg_rating = all_stats.find('average')['value']\n",
    "    avg_bayes_rating = all_stats.find('bayesaverage')['value']\n",
    "    std = all_stats.find('stddev')['value']\n",
    "    ratings = all_stats.find('usersrated')['value']\n",
    "    weight = all_stats.find('averageweight')['value']\n",
    "    \n",
    "    return((game, avg_rating, avg_bayes_rating, std, ratings, weight))"
   ]
  },
  {
   "cell_type": "code",
   "execution_count": null,
   "metadata": {},
   "outputs": [],
   "source": [
    "game_rating_li = []\n",
    "for idx, game in enumerate(game_li):\n",
    "    got_data = False\n",
    "    \n",
    "    while not got_data:\n",
    "        try:\n",
    "            temp = get_game_stats(game)\n",
    "            got_data = True\n",
    "        except AttributeError:\n",
    "            time.sleep(10)\n",
    "    # print(idx) \n",
    "    game_rating_li.append(temp)"
   ]
  },
  {
   "cell_type": "code",
   "execution_count": null,
   "metadata": {},
   "outputs": [],
   "source": [
    "cur.execute('''CREATE TABLE BGG_GAME_STATS\n",
    "               (id text, avg_rating text, avg_bayes_rating text, std text, ratings text, weight text);''')"
   ]
  },
  {
   "cell_type": "code",
   "execution_count": null,
   "metadata": {},
   "outputs": [],
   "source": [
    "cur.executemany(\"insert into BGG_GAME_STATS values (?, ?, ?, ?, ?, ?)\", game_rating_li)"
   ]
  },
  {
   "cell_type": "code",
   "execution_count": null,
   "metadata": {},
   "outputs": [],
   "source": [
    "con.commit()"
   ]
  },
  {
   "cell_type": "markdown",
   "metadata": {},
   "source": [
    "# Num of Players Voting"
   ]
  },
  {
   "cell_type": "code",
   "execution_count": null,
   "metadata": {},
   "outputs": [],
   "source": [
    "full_player_rating_li = []\n",
    "for g in game_li:\n",
    "    current_li = get_player_count_ratings(g)\n",
    "    if current_li == []:\n",
    "        time.sleep(10)\n",
    "        current_li = get_player_count_ratings(g)\n",
    "    full_player_rating_li.extend(current_li)"
   ]
  },
  {
   "cell_type": "code",
   "execution_count": null,
   "metadata": {},
   "outputs": [],
   "source": [
    "cur.execute(''' CREATE TABLE BGG_PLAYER_RATINGS\n",
    "               (id text, player_count text, player_recommendation text, votes text);\n",
    "               ''')"
   ]
  },
  {
   "cell_type": "code",
   "execution_count": null,
   "metadata": {},
   "outputs": [],
   "source": [
    "cur.executemany(\"insert into BGG_PLAYER_RATINGS values (?, ?, ?, ?)\", full_player_rating_li)"
   ]
  },
  {
   "cell_type": "code",
   "execution_count": null,
   "metadata": {},
   "outputs": [],
   "source": [
    "con.commit()"
   ]
  },
  {
   "cell_type": "markdown",
   "metadata": {},
   "source": [
    "# Join Tables"
   ]
  },
  {
   "cell_type": "code",
   "execution_count": null,
   "metadata": {},
   "outputs": [],
   "source": [
    "cur.execute('''CREATE TABLE TOP_GAMES_FULL\n",
    "           \n",
    "           AS\n",
    "           \n",
    "        SELECT t1.id, title, year, t2.min_players, t2.max_players\n",
    "           ,avg_rating, avg_bayes_rating, std, ratings, weight\n",
    "        FROM TOP_BGG_GAMES t1\n",
    "            LEFT JOIN BGG_PLAYER_COUNTS t2\n",
    "                ON t1.id = t2.id\n",
    "            LEFT JOIN  BGG_GAME_STATS t3\n",
    "                ON t1.id = t3.id\n",
    "           \n",
    "           ''')"
   ]
  },
  {
   "cell_type": "code",
   "execution_count": null,
   "metadata": {},
   "outputs": [],
   "source": [
    "con.commit()"
   ]
  },
  {
   "cell_type": "code",
   "execution_count": null,
   "metadata": {},
   "outputs": [],
   "source": [
    "results = cur.execute('''\n",
    "        SELECT t1.id, title, max_players\n",
    "           ,avg_rating, std\n",
    "        FROM TOP_GAMES_FULL t1\n",
    "           \n",
    "           ''')"
   ]
  },
  {
   "cell_type": "code",
   "execution_count": null,
   "metadata": {},
   "outputs": [],
   "source": [
    "result_li = [result for result in results]"
   ]
  },
  {
   "cell_type": "code",
   "execution_count": null,
   "metadata": {},
   "outputs": [],
   "source": [
    "df = pd.DataFrame(data=result_li, columns=['id', 'title', 'max_players', 'score', 'std_score'])"
   ]
  },
  {
   "cell_type": "code",
   "execution_count": null,
   "metadata": {},
   "outputs": [],
   "source": [
    "# convert data types\n",
    "cols = ['max_players', 'score', 'std_score']\n",
    "for col in cols:\n",
    "    df[col] = df[col].astype('float')\n",
    "df.dtypes"
   ]
  },
  {
   "cell_type": "code",
   "execution_count": null,
   "metadata": {},
   "outputs": [],
   "source": [
    "# solo games \n",
    "df[df.max_players == 1]"
   ]
  },
  {
   "cell_type": "code",
   "execution_count": null,
   "metadata": {},
   "outputs": [],
   "source": [
    "# duel games\n",
    "df[df.max_players == 2]"
   ]
  },
  {
   "cell_type": "code",
   "execution_count": null,
   "metadata": {},
   "outputs": [],
   "source": [
    "# Large Group games\n",
    "df[df.max_players > 5]"
   ]
  },
  {
   "cell_type": "code",
   "execution_count": null,
   "metadata": {},
   "outputs": [],
   "source": [
    "#What's the largest?\n",
    "print(df.max_players.max())\n",
    "\n",
    "# Which games?\n",
    "df[df['max_players'] == 100]"
   ]
  },
  {
   "cell_type": "code",
   "execution_count": null,
   "metadata": {},
   "outputs": [],
   "source": [
    "# What's the most divisive game?\n",
    "df[df['std_score']==df.std_score.max()]"
   ]
  },
  {
   "cell_type": "code",
   "execution_count": null,
   "metadata": {},
   "outputs": [],
   "source": [
    "# The least divisive?\n",
    "df[df['std_score']==df.std_score.min()]"
   ]
  },
  {
   "cell_type": "code",
   "execution_count": null,
   "metadata": {},
   "outputs": [],
   "source": [
    "params = {'id' : 13,'stats' :'1'}\n",
    "response = requests.get('https://www.boardgamegeek.com/xmlapi2/thing?', params)\n",
    "s = BeautifulSoup(response.text, \"xml\")\n",
    "s.find('playingtime')"
   ]
  },
  {
   "cell_type": "markdown",
   "metadata": {},
   "source": [
    "# Coda: Adding Play time"
   ]
  },
  {
   "cell_type": "markdown",
   "metadata": {},
   "source": [
    "Initially, I felt that the previous table was complete. I decided to add playtime as well. I should have added it before, though this gives me the chance to test the Alter table functions"
   ]
  },
  {
   "cell_type": "code",
   "execution_count": null,
   "metadata": {},
   "outputs": [],
   "source": [
    "i = 0\n",
    "playtime_li = []\n",
    "while i < len(game_li):\n",
    "    game_id = game_li[i]\n",
    "    params = {'id' : game_id,'stats' :'1'}\n",
    "    try:\n",
    "        response = requests.get('https://www.boardgamegeek.com/xmlapi2/thing?', params)\n",
    "        s = BeautifulSoup(response.text, \"xml\")\n",
    "        play_time = s.find('playingtime')['value']\n",
    "        playtime_li.append((game_id, play_time))\n",
    "        i += 1\n",
    "    except TypeError:\n",
    "        time.sleep(20)"
   ]
  },
  {
   "cell_type": "code",
   "execution_count": null,
   "metadata": {},
   "outputs": [],
   "source": [
    "cur.execute(''' CREATE TABLE BGG_PLAY_TIME\n",
    "               (id text, play_time text);\n",
    "               ''')\n",
    "\n",
    "cur.executemany(\"insert into BGG_PLAY_TIME values (?, ?)\", playtime_li)"
   ]
  },
  {
   "cell_type": "code",
   "execution_count": null,
   "metadata": {},
   "outputs": [],
   "source": [
    "cur.execute('''  ALTER TABLE TOP_GAMES_FULL\n",
    "     ADD COLUMNS play_time text ''')"
   ]
  },
  {
   "cell_type": "code",
   "execution_count": null,
   "metadata": {},
   "outputs": [],
   "source": [
    "cur.execute(''' DELETE  FROM TOP_GAMES_FULL  WHERE TRUE''')"
   ]
  },
  {
   "cell_type": "code",
   "execution_count": null,
   "metadata": {},
   "outputs": [],
   "source": [
    "cur.execute('''INSERT INTO TOP_GAMES_FULL\n",
    "           \n",
    "        SELECT t1.id, title, year, t2.min_players, t2.max_players\n",
    "           ,avg_rating, avg_bayes_rating, std, ratings, weight, t4.play_time\n",
    "        FROM TOP_BGG_GAMES t1\n",
    "            LEFT JOIN BGG_PLAYER_COUNTS t2\n",
    "                ON t1.id = t2.id\n",
    "            LEFT JOIN  BGG_GAME_STATS t3\n",
    "                ON t1.id = t3.id\n",
    "            LEFT JOIN BGG_PLAY_TIME t4\n",
    "                ON t1.id = t4.id''')"
   ]
  },
  {
   "cell_type": "code",
   "execution_count": null,
   "metadata": {},
   "outputs": [],
   "source": [
    "results = cur.execute('PRAGMA table_info(TOP_GAMES_FULL);')\n",
    "results = results.fetchall()\n",
    "result_li = [r for r in results]\n",
    "result_li"
   ]
  },
  {
   "cell_type": "code",
   "execution_count": null,
   "metadata": {},
   "outputs": [],
   "source": [
    "cur.execute('ALTER TABLE TOP_GAMES_FULL RENAME COLUMN COLUMNS TO play_time;')"
   ]
  },
  {
   "cell_type": "code",
   "execution_count": null,
   "metadata": {},
   "outputs": [],
   "source": [
    "con.commit()"
   ]
  },
  {
   "cell_type": "markdown",
   "metadata": {},
   "source": [
    "Playtime added!"
   ]
  },
  {
   "cell_type": "markdown",
   "metadata": {},
   "source": [
    "# Scratch Code"
   ]
  },
  {
   "cell_type": "code",
   "execution_count": 22,
   "metadata": {},
   "outputs": [
    {
     "data": {
      "text/plain": [
       "[<comment rating=\"5\" username=\"big stone\" value=\"\"/>,\n",
       " <comment rating=\"5\" username=\"r2byers\" value=\"\"/>,\n",
       " <comment rating=\"5\" username=\"ZargonDDG\" value=\"\"/>,\n",
       " <comment rating=\"5\" username=\"DearGeorgina\" value=\"\"/>,\n",
       " <comment rating=\"5\" username=\"jonpurkis\" value=\"\"/>,\n",
       " <comment rating=\"5\" username=\"moramis\" value=\"An okay engine builder with a gimmick.\"/>,\n",
       " <comment rating=\"5\" username=\"jcsmailme\" value=\"\"/>,\n",
       " <comment rating=\"5\" username=\"NeutralGnome\" value=\"\"/>,\n",
       " <comment rating=\"5\" username=\"Rococo_Zephyr\" value=\"I keep getting games like this and I keep getting disappointed. Why did I even get Gizmos? Oh yeah...shiny marbles. They're kind of pointless and not even that nice as marbles go and the game overall is pretty hideous. My dispenser came broken, a marble was missing, and the company sent a new cardboard dispenser but not the plastic one. For that I'd have to buy a new copy of the game The replacement is also a little messed up but not as bad as the original and like most parts of the game it's kind of unnecessary so that's fine.\"/>,\n",
       " <comment rating=\"5\" username=\"mrdisco102\" value=\"\"/>,\n",
       " <comment rating=\"5\" username=\"exparrot\" value=\"Gosh this plays fast and it actually feels more like a race than an engine builder. You attempt to build a machine of 15 parts and each piece you add allows you to do more with one type of the basic actions.  Once you are playing it is pretty straight forward and easy to play, but the iconography could have been much better and often we had to refer to the cheat sheet over and over for very similar effects.  The marble mechanic here is actually pretty good. All of us were concerned it was simply a gimic but the game has two specific mechanics  for the marbles, picking from those in view and blind draw, of course this could have been achieved in other ways but honestly I quite like the dice 'machine' here,  I do however have concerns over replayability. Is there actually any more depth or any other mechanics to explore that we did not encounter in the first play?\"/>,\n",
       " <comment rating=\"5\" username=\"jobby\" value=\"\"/>,\n",
       " <comment rating=\"5\" username=\"Weltmacht\" value=\"\"/>,\n",
       " <comment rating=\"5\" username=\"Yacoff\" value=\"\"/>,\n",
       " <comment rating=\"5\" username=\"Yonger\" value=\"\"/>,\n",
       " <comment rating=\"5\" username=\"Arkeas\" value=\"Light little engine building game. Simple to teach and play but the game becomes quite dull and repetitive after just a few plays and the choices are never particularly interesting. Ended up trading this one.\"/>,\n",
       " <comment rating=\"5\" username=\"mfmise\" value=\"\"/>,\n",
       " <comment rating=\"5\" username=\"boredbeyondbelief\" value=\"I like tableau builders and this engine builder had a little feel like that. But it got confusing as you had to be jumping around your board to see what activated. Pass.\"/>,\n",
       " <comment rating=\"5\" username=\"kegz\" value=\"Tableau builder game where you do a bunch of things on your turn that nobody else at the table pays attention to. The temptation is to say this is better than Splendor because Gizmos gives you the feeling that you're building some sort of engine, but Gizmos is ultimately no more satisfying and just prolongs the time you must spend not actually interacting with the people you are ostensibly playing a game with.  The cardboard marble dispenser is cool.\"/>,\n",
       " <comment rating=\"5\" username=\"isax13\" value=\"\"/>,\n",
       " <comment rating=\"5\" username=\"Starkiller\" value=\"\"/>,\n",
       " <comment rating=\"5\" username=\"DanDaMan223\" value=\"\"/>,\n",
       " <comment rating=\"5\" username=\"GrzeL\" value=\"\"/>,\n",
       " <comment rating=\"5\" username=\"starspangledgirl\" value=\"It's OK. Reminds me of Splendor but just not that interesting.\"/>,\n",
       " <comment rating=\"5\" username=\"jkbgame\" value=\"\"/>,\n",
       " <comment rating=\"5\" username=\"lermi\" value=\"\"/>,\n",
       " <comment rating=\"5\" username=\"KosmoKnot\" value=\"\"/>,\n",
       " <comment rating=\"5\" username=\"Sahaal\" value=\"\"/>,\n",
       " <comment rating=\"5\" username=\"gamesgalore\" value=\"\"/>,\n",
       " <comment rating=\"5\" username=\"liu63746904\" value=\"\"/>,\n",
       " <comment rating=\"5\" username=\"TiTaTine84\" value=\"\"/>,\n",
       " <comment rating=\"5\" username=\"VincentDarlage\" value=\"\"/>,\n",
       " <comment rating=\"5\" username=\"balis\" value=\"Another boring engine building, without theme, just symbols and combos. As if someone invented a clever mechanism and didn't bother to build a game around it. Probably only the gimmicks make it popular.\"/>,\n",
       " <comment rating=\"5\" username=\"EternalFury\" value=\"snowbally (it is obvious who is going to win VERY early.) random low replayability\"/>,\n",
       " <comment rating=\"5\" username=\"Chiara Zanchetta\" value=\"\"/>,\n",
       " <comment rating=\"5\" username=\"eqopucela\" value=\"\"/>,\n",
       " <comment rating=\"5\" username=\"amyshott\" value=\"\"/>,\n",
       " <comment rating=\"5\" username=\"mkemp217\" value=\"\"/>,\n",
       " <comment rating=\"5\" username=\"elamate\" value=\"\"/>,\n",
       " <comment rating=\"5\" username=\"tsune08\" value=\"\"/>,\n",
       " <comment rating=\"5\" username=\"Guliedro\" value=\"\"/>,\n",
       " <comment rating=\"5\" username=\"Salyt\" value=\"\"/>,\n",
       " <comment rating=\"5\" username=\"der_mandarin\" value=\"\"/>,\n",
       " <comment rating=\"5\" username=\"veemonroe\" value=\"A great little engine builder that just happens to be worse at being Splendor than Splendor.  I spent the entire game wishing I was playing... Splendor.  The iconography is also mega-confusing.\"/>,\n",
       " <comment rating=\"5\" username=\"Lord Heisemberg\" value=\"C'est une sorte de Splendor en plus compliqué (et ce n'est pas un compliment). Ça tourne bien, mais c'est trop long pour ce que c'est.  De plus, l'édition n'est pas très bonne :   - le distributeur à billes laisse trop souvent échapper des billes par le dessous ;  - l'iconographie des cartes est mal pensée car bien trop surchargée (trop d'éléments sont redondants et nuisent à la lisibilité) ;  Bref, je m'attendais à mieux de l'auteur de l'excellent Barenpark.\"/>,\n",
       " <comment rating=\"5\" username=\"Poskasto\" value=\"\"/>,\n",
       " <comment rating=\"5\" username=\"ianwolfgang\" value=\"\"/>,\n",
       " <comment rating=\"5\" username=\"Novoknight\" value=\"\"/>,\n",
       " <comment rating=\"5\" username=\"dragos_br\" value=\"\"/>,\n",
       " <comment rating=\"5\" username=\"Avalanche7474\" value=\"\"/>,\n",
       " <comment rating=\"5\" username=\"benevolentweasl\" value=\"\"/>,\n",
       " <comment rating=\"5\" username=\"tallboy\" value=\"\"/>,\n",
       " <comment rating=\"5\" username=\"bankholdup\" value=\"\"/>,\n",
       " <comment rating=\"5\" username=\"Lorand83\" value=\"\"/>,\n",
       " <comment rating=\"5\" username=\"Roqk\" value=\"\"/>,\n",
       " <comment rating=\"5\" username=\"projektplanszowka\" value=\"\"/>,\n",
       " <comment rating=\"5\" username=\"Stargaze\" value=\"\"/>,\n",
       " <comment rating=\"5\" username=\"sfoozy\" value=\"\"/>,\n",
       " <comment rating=\"5\" username=\"furriebarry\" value=\"\"/>,\n",
       " <comment rating=\"5\" username=\"Lightbringer12\" value=\"\"/>,\n",
       " <comment rating=\"5\" username=\"yuyutv30\" value=\"\"/>,\n",
       " <comment rating=\"5\" username=\"yuyutv30\" value=\"\"/>,\n",
       " <comment rating=\"5\" username=\"Lecaro\" value=\"In Gizmos erfinden die Spieler recht sinnlose Maschienen, die wiederum Maschinenteile herstellen für weitere sinnlose Maschinen... Wer an der Reihe ist wählt eine aus 4 Aktionen aus: 1. Speichern: Einen Gizmos (Maschine, Spielkarte) aus 9 ausliegenden Karten auswählen und speichern. 2. Sammeln: Eine Energiekugel (Baumaterial, Murmel) aus 6 zur Verfügung stehenden herausnehmen und lagern. 3. Bauen: Einen Gizmos aus der mittleren Auslage in einen Slot bauen. Die verschiedenen gizmos verstärken: a) Upgrades: Lagerfähigkeit von Kugeln, Gizmos, Forschung. b) Umwandler: Fähigkeit zum tauschen von Energiekugeln. c) Speichernfähigkeit, Sammelnfähigkeit, Bauenfähigkeit und Forschenfähigkeit: beim Ausführen einer dieser Aktionen erhält man Bonusaktionen. 4. Forschen: Gizmos Karten von einem Stapel ziehen und eine davon speichern oder bauen. Das war auch schon das komplette Spiel, wobei ich das Spielende vergessen habe, da ich vorher abgebrochen habe. Die Spieler spielen jede Runde immer wieder das Selbe: Kugel nehmen und Bonus machen -&gt; Kugeln ausgeben um Gizmos bauen -&gt; Kugeln nehmen -&gt; usw. Die Fähigkeiten der einzelnen Aktionen werden zwar immer Mächtiger, aber das Doing bleibt sehr langweilig. Ich hatte kein Interesse weiter zuzuschauen, geschweige denn es zu spielen...\"/>,\n",
       " <comment rating=\"5\" username=\"Lolasso\" value=\"\"/>,\n",
       " <comment rating=\"5\" username=\"sdiberar\" value=\"Kind of soulless, especially given the wacky premise.\"/>,\n",
       " <comment rating=\"5\" username=\"pecan\" value=\"\"/>,\n",
       " <comment rating=\"5\" username=\"ZurZur\" value=\"\"/>,\n",
       " <comment rating=\"5\" username=\"XanderF\" value=\"Very interesting game, but...sort of maybe too much 'multiplayer solitaire', as there is no player interaction *at all*? Best you can manage is trying to identify some card or marble another player wants before they can pull it, but with the number of conversion actions available, and preciousness of actions GENERALLY, trying to disrupt another player's options in any way feels like a choice that is ruinous to yourself by at LEAST one order of magnitude, as you'll almost always benefit far more from actions directly benefitting yourslef.  Soooo much to *like* about it, but the lack of ability to react in any way to what someone else is doing feels...too great?\"/>,\n",
       " <comment rating=\"5\" username=\"84905\" value=\"\"/>,\n",
       " <comment rating=\"5\" username=\"Khlan\" value=\"\"/>,\n",
       " <comment rating=\"5\" username=\"Skywalker12\" value=\"I put this game in the same bucket as Splendor or Century Spice Road.  Like those, it is a simple, short and dry engine building game without much theme.  I just don't like that type very much.  I will almost always &quot;pick&quot; another game.\"/>,\n",
       " <comment rating=\"5\" username=\"SgtMaster\" value=\"\"/>,\n",
       " <comment rating=\"5\" username=\"paperoga\" value=\"\"/>,\n",
       " <comment rating=\"5\" username=\"tobyip3110\" value=\"\"/>,\n",
       " <comment rating=\"5\" username=\"btasam\" value=\"Accessible and satirical, Gizmos is a card-tableau building game that allows players an upgradable action board, but like its predecessors, fails to leave a lastly impression.  Unsurprisingly, gameplay leans a bit arbitrary and reactive, but I really enjoy how this situational play diminishes as the game goes on. Many of the benefits felt immediate; usually a built card could be used the following turn which allowed for some planning. The impact of the variable setup is low and thus the actual game to game experience felt predictable. It's fine, it's light, but there's other things I'd rather play.\"/>,\n",
       " <comment rating=\"5\" username=\"Majadero\" value=\"\"/>,\n",
       " <comment rating=\"5\" username=\"Octavian\" value=\"\"/>,\n",
       " <comment rating=\"5\" username=\"Octavian\" value=\"\"/>,\n",
       " <comment rating=\"5\" username=\"Jakatoma\" value=\"\"/>,\n",
       " <comment rating=\"5\" username=\"fulopkr14\" value=\"\"/>,\n",
       " <comment rating=\"5\" username=\"tayl0496\" value=\"\"/>,\n",
       " <comment rating=\"5\" username=\"boredgamers\" value=\"\"/>,\n",
       " <comment rating=\"5\" username=\"haimi\" value=\"\"/>,\n",
       " <comment rating=\"5\" username=\"Smwilkin\" value=\"\"/>,\n",
       " <comment rating=\"5\" username=\"badalchemy\" value=\"\"/>,\n",
       " <comment rating=\"5\" username=\"Reversearp\" value=\"\"/>,\n",
       " <comment rating=\"5\" username=\"kalendrys\" value=\"\"/>,\n",
       " <comment rating=\"5\" username=\"ComtriS\" value=\"\"/>,\n",
       " <comment rating=\"5\" username=\"_Journeyman_\" value=\"\"/>,\n",
       " <comment rating=\"5\" username=\"Electropuncher\" value=\"I didn't have fun with this one, but I can see the appeal. Basically, if you want to have to worry about twenty triggers, this is the game for you.\"/>,\n",
       " <comment rating=\"5\" username=\"Johnlem0n\" value=\"\"/>,\n",
       " <comment rating=\"5\" username=\"Faso74it\" value=\"Tableau building, not my genre. The marble gimmick could have been just a deck of cards, but this is cmon, so overproducing is the key word. While it makes sense in potion explosion, here is nice but nothing noteworthy. The concatenation effects are nice, but get stale soon.\"/>,\n",
       " <comment rating=\"5\" username=\"SaiSaysPlayGo\" value=\"The contraption of marbles is a lot of fun for the first few games.  There's some fun to be found in the gameplay.  I like the archive/file action - the only way to effectively get in the way of your opponents.  Gizmos reminds me of Splendor a lot, but where Splendor was purely investment and return, Gizmos adds many extra capabilities that make the game more novel and, perhaps, interesting.\"/>,\n",
       " <comment rating=\"5\" username=\"Xelto\" value=\"\"/>,\n",
       " <comment rating=\"5\" username=\"Xelto\" value=\"\"/>,\n",
       " <comment rating=\"5\" username=\"dpwells\" value=\"\"/>,\n",
       " <comment rating=\"5\" username=\"sylee421\" value=\"\"/>,\n",
       " <comment rating=\"5\" username=\"darkbanan\" value=\"Cool marble gimmick, unfortunately the game is mediocre at best. Lot's of better engine builders out there.\"/>,\n",
       " <comment rating=\"5\" username=\"ctgbmoz\" value=\"\"/>,\n",
       " <comment rating=\"5\" username=\"Asaru\" value=\"\"/>]"
      ]
     },
     "execution_count": 22,
     "metadata": {},
     "output_type": "execute_result"
    }
   ],
   "source": [
    "params = {'id' : '246192', 'ratingcomments': '1', 'page' : 82, 'pagesize':100}\n",
    "response = requests.get('https://www.boardgamegeek.com/xmlapi2/thing?', params)\n",
    "soup = BeautifulSoup(response.text, \"xml\")\n",
    "comments = soup.find_all(\"comment\")\n",
    "comments"
   ]
  },
  {
   "cell_type": "code",
   "execution_count": 36,
   "metadata": {},
   "outputs": [],
   "source": [
    "# game_id = game_li[i]\n",
    "game_id = '246192'\n",
    "comment_li = []\n",
    "for i in range(1,101):\n",
    "    params = {'id' : game_id, 'ratingcomments': '1', 'page' : i, 'pagesize':100}\n",
    "    response = requests.get('https://www.boardgamegeek.com/xmlapi2/thing?', params)\n",
    "    soup = BeautifulSoup(response.text, \"xml\")\n",
    "    comments = soup.find_all(\"comment\")\n",
    "    if len(comments) == 0:\n",
    "        break\n",
    "    else:\n",
    "        pass # print(i, ':', len(comments))\n",
    "    if i % 10 == 0:\n",
    "        time.sleep(30)\n",
    "    for com in comments:\n",
    "        temp_tuple = (game_id, com['username'], com['rating'])\n",
    "        comment_li.append(temp_tuple)"
   ]
  },
  {
   "cell_type": "code",
   "execution_count": null,
   "metadata": {},
   "outputs": [],
   "source": [
    "# We look at certain users from the comments and see what other games they might like\n",
    "\n",
    "params = {'name' : 'agentzen', 'hot' : '1', 'top' : '1', 'domain' : 'boardgame',}\n",
    "response = requests.get('https://www.boardgamegeek.com/xmlapi2/user?', params)\n",
    "s = BeautifulSoup(response.text, \"xml\")\n",
    "s"
   ]
  },
  {
   "cell_type": "code",
   "execution_count": null,
   "metadata": {},
   "outputs": [],
   "source": [
    "# We look at certain users from the comments and see what other games they might like\n",
    "params = {'username' : 'agentzen', 'type': 'boardgame', 'rated' : '1', 'brief' : '1', 'stats' : '1'}\n",
    "response = requests.get('https://www.boardgamegeek.com/xmlapi2/collection?', params)\n",
    "s = BeautifulSoup(response.text, \"xml\")\n",
    "s"
   ]
  },
  {
   "cell_type": "code",
   "execution_count": null,
   "metadata": {},
   "outputs": [],
   "source": [
    "# Comments\n",
    "comment_li = []\n",
    "\n",
    "# Obtaining ten pages of user comments/ratings\n",
    "for i in range(1,11):\n",
    "    params = {'id' : '13', 'ratingcomments' : '1', 'comments' : '1', 'pagesize' : '100', 'page':[3,4], 'stats' :str(i)}\n",
    "    response = requests.get('https://www.boardgamegeek.com/xmlapi2/thing?', params)\n",
    "    comments = soup.find_all(\"comment\")\n",
    "    for com in comments:\n",
    "        comment_li.append(com)"
   ]
  },
  {
   "cell_type": "code",
   "execution_count": null,
   "metadata": {},
   "outputs": [],
   "source": [
    "test_df = get_user_ratings('agent_t_bib')\n",
    "test_df"
   ]
  }
 ],
 "metadata": {
  "kernelspec": {
   "display_name": "Python 3",
   "language": "python",
   "name": "python3"
  },
  "language_info": {
   "codemirror_mode": {
    "name": "ipython",
    "version": 3
   },
   "file_extension": ".py",
   "mimetype": "text/x-python",
   "name": "python",
   "nbconvert_exporter": "python",
   "pygments_lexer": "ipython3",
   "version": "3.7.6"
  }
 },
 "nbformat": 4,
 "nbformat_minor": 4
}
