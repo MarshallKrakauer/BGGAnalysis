{
 "cells": [
  {
   "cell_type": "markdown",
   "metadata": {},
   "source": [
    "Further information I hope to obtain:\n",
    "* Game descriptions\n",
    "* Player ratings, alongside other games that those players rated"
   ]
  },
  {
   "cell_type": "markdown",
   "metadata": {},
   "source": [
    "# Setup"
   ]
  },
  {
   "cell_type": "code",
   "execution_count": 1,
   "metadata": {},
   "outputs": [],
   "source": [
    "import requests\n",
    "from lxml import etree\n",
    "from bs4 import BeautifulSoup\n",
    "import pandas as pd\n",
    "import numpy as np\n",
    "import time\n",
    "import sqlite3"
   ]
  },
  {
   "cell_type": "code",
   "execution_count": null,
   "metadata": {},
   "outputs": [],
   "source": [
    "con = sqlite3.connect('bgg.db')\n",
    "cur = con.cursor()"
   ]
  },
  {
   "cell_type": "code",
   "execution_count": null,
   "metadata": {},
   "outputs": [],
   "source": [
    "ERROR_MESSAGE = error_message = ['\\n\\tYour request for this collection has been accepted and will be processed.  Please try again later for access.\\n']"
   ]
  },
  {
   "cell_type": "code",
   "execution_count": null,
   "metadata": {},
   "outputs": [],
   "source": [
    "def get_player_count_ratings(game_id):\n",
    "    params = {'id' : game_id}\n",
    "    response = requests.get('https://www.boardgamegeek.com/xmlapi2/thing?', params)\n",
    "    s = BeautifulSoup(response.text)\n",
    "    player_votings = s.find_all('results')\n",
    "    player_counter = 0\n",
    "\n",
    "    # Lookup if a rating refers to best, rec or not rec\n",
    "    rec_li = ['Best', 'Recommended', 'Not Recommended']\n",
    "\n",
    "\n",
    "    # output used to make SQL table\n",
    "    full_rating_li = []\n",
    "\n",
    "    for val in player_votings:\n",
    "        try: \n",
    "            for idx, elem in enumerate(val.find_all('result')):\n",
    "                full_rating_li.append((game_id, val['numplayers'], rec_li[idx], elem['numvotes']))\n",
    "        except KeyError:\n",
    "            pass\n",
    "\n",
    "    return full_rating_li "
   ]
  },
  {
   "cell_type": "code",
   "execution_count": null,
   "metadata": {},
   "outputs": [],
   "source": [
    "def get_user_ratings(username):\n",
    "    error_message = ['\\n\\tYour request for this collection has been accepted and will be processed.  Please try again later for access.\\n']\n",
    "    \n",
    "    got_data = False\n",
    "    # Make API call to get XML data\n",
    "    while not got_data:\n",
    "        params = {'username' : username, 'type': 'boardgame', 'rated' : '1', 'brief' : '1', 'stats' : '1'}\n",
    "        response = requests.get('https://www.boardgamegeek.com/xmlapi2/collection?', params)\n",
    "        s = BeautifulSoup(response.text, \"xml\")\n",
    "        \n",
    "        try:\n",
    "            s.find('message').contents\n",
    "        except AttributeError:\n",
    "            got_data = True\n",
    "        finally:\n",
    "            time.sleep(1)\n",
    "    \n",
    "    # Initialize dataframe\n",
    "    rating_df = pd.DataFrame(columns = ['id', 'rating'])\n",
    "\n",
    "    # Loop through and output ratings to a dataframe\n",
    "    for i in s.find_all('item'):\n",
    "        game_id = i['objectid']\n",
    "        \n",
    "        # Make a soup out of the item info to extract rating\n",
    "        inner_soup = BeautifulSoup(str(i))\n",
    "        rv = inner_soup.find('stats')\n",
    "        inner_soup2 = BeautifulSoup(str(rv))\n",
    "        rating = inner_soup2.find('rating')\n",
    "        rating = float(rating['value'])\n",
    "        \n",
    "        # Append rating to df\n",
    "        temp_df = pd.DataFrame([[game_id,rating]], columns = ['id', 'rating'])\n",
    "        rating_df = rating_df.append(temp_df)\n",
    "    \n",
    "    rating_df['index'] = username\n",
    "    rating_df.rename({'index' :'username'}, inplace=True)\n",
    "    \n",
    "    return rating_df"
   ]
  },
  {
   "cell_type": "code",
   "execution_count": null,
   "metadata": {},
   "outputs": [],
   "source": [
    "con = sqlite3.connect('bgg.db')\n",
    "cur = con.cursor()"
   ]
  },
  {
   "cell_type": "markdown",
   "metadata": {},
   "source": [
    "# Get Player Counts"
   ]
  },
  {
   "cell_type": "code",
   "execution_count": null,
   "metadata": {},
   "outputs": [],
   "source": [
    "# Get list of top 1000 games from SQL table\n",
    "game_li = []\n",
    "\n",
    "results=cur.execute(\"select id FROM TOP_BGG_GAMES\")\n",
    "results=results.fetchall()\n",
    "\n",
    "for num in results:\n",
    "    game_li.append(num[0])"
   ]
  },
  {
   "cell_type": "code",
   "execution_count": null,
   "metadata": {},
   "outputs": [],
   "source": [
    "# For each game, get the min and max player count:\n",
    "min_max_player_li = []\n",
    "\n",
    "i = 0\n",
    "while i < len(game_li):\n",
    "    game_id = game_li[i]\n",
    "    params = {'id' : game_id,'stats' :'1'}\n",
    "    response = requests.get('https://www.boardgamegeek.com/xmlapi2/thing?', params)\n",
    "    soup = BeautifulSoup(response.text, \"xml\")\n",
    "\n",
    "    try: \n",
    "        min_play = soup.find('minplayers')['value']\n",
    "        max_play = soup.find('maxplayers')['value']\n",
    "        i += 1\n",
    "    except TypeError:\n",
    "        # If it fails, we need to wait so we can use the API gain\n",
    "        time.sleep(15)\n",
    "    \n",
    "    min_max_player_li.append([game_id, min_play, max_play])"
   ]
  },
  {
   "cell_type": "code",
   "execution_count": null,
   "metadata": {},
   "outputs": [],
   "source": [
    "# Create table\n",
    "cur.execute(''' CREATE TABLE BGG_PLAYER_COUNTS\n",
    "               (id text, min_players text, max_players text)''')"
   ]
  },
  {
   "cell_type": "code",
   "execution_count": null,
   "metadata": {},
   "outputs": [],
   "source": [
    "# Remove duplicates from API\n",
    "player_li_df = pd.DataFrame(min_max_player_li, columns = ['GameId','MinPlayers','MaxPlayers'])\n",
    "player_li_df.drop_duplicates(subset = 'GameId', keep='first', inplace=True)\n",
    "player_li_df.reset_index(inplace=True)\n",
    "player_li_df.shape"
   ]
  },
  {
   "cell_type": "code",
   "execution_count": null,
   "metadata": {},
   "outputs": [],
   "source": [
    "# Convert dataframe to tuple\n",
    "df = player_li_df\n",
    "tuple_li = []\n",
    "for i in range(len(df)):\n",
    "    tuple_ = str(df.loc[i, 'GameId']), df.loc[i, 'MinPlayers'], str(df.loc[i, 'MaxPlayers'])\n",
    "    tuple_li.append(tuple_)"
   ]
  },
  {
   "cell_type": "code",
   "execution_count": null,
   "metadata": {},
   "outputs": [],
   "source": [
    "# Enter tuple into SQL table\n",
    "cur.executemany(\"insert into BGG_PLAYER_COUNTS values (?, ?, ?)\", tuple_li)"
   ]
  },
  {
   "cell_type": "code",
   "execution_count": null,
   "metadata": {},
   "outputs": [],
   "source": [
    "con.commit()"
   ]
  },
  {
   "cell_type": "markdown",
   "metadata": {},
   "source": [
    "# Obtain game categories and mechanism"
   ]
  },
  {
   "cell_type": "code",
   "execution_count": null,
   "metadata": {
    "scrolled": true
   },
   "outputs": [],
   "source": [
    "category_li, mechanic_li = [],[]\n",
    "loop_len = len(game_li)\n",
    "\n",
    "i = 0\n",
    "while i < loop_len:\n",
    "    game_id = game_li[i]\n",
    "    params = {'id' : game_id}\n",
    "    response = requests.get('https://www.boardgamegeek.com/xmlapi2/thing?', params)\n",
    "    soup = BeautifulSoup(response.text, 'xml')\n",
    "    info_ = soup.find_all('link')\n",
    "    \n",
    "    try:\n",
    "        if info_ == []:\n",
    "            raise TypeError\n",
    "        for x in info_:\n",
    "            if x['type'] == 'boardgamecategory':\n",
    "                category_li.append((game_id, x['value']))\n",
    "            elif x['type'] == 'boardgamemechanic':\n",
    "                mechanic_li.append((game_id, x['value']))\n",
    "        i += 1 # increment the loop\n",
    "        print(i)\n",
    "    except TypeError:  # occurs when API times out\n",
    "        time.sleep(10) # wait ten seconds so we can run the API again"
   ]
  },
  {
   "cell_type": "code",
   "execution_count": null,
   "metadata": {},
   "outputs": [],
   "source": [
    "li__ = [elem[0] for elem in mechanic_li]"
   ]
  },
  {
   "cell_type": "code",
   "execution_count": null,
   "metadata": {},
   "outputs": [],
   "source": [
    "# Create table\n",
    "cur.execute(''' CREATE TABLE BGG_CATEGORIES\n",
    "               (id text, category text);\n",
    "               ''')\n",
    "\n",
    "cur.execute('''CREATE TABLE BGG_MECHANICS\n",
    "               (id text, mechanic text);''')"
   ]
  },
  {
   "cell_type": "code",
   "execution_count": null,
   "metadata": {},
   "outputs": [],
   "source": [
    "# Enter tuple into SQL table\n",
    "cur.executemany(\"insert into BGG_CATEGORIES values (?, ?)\", category_li)\n",
    "cur.executemany(\"insert into BGG_MECHANICS values (?, ?)\", mechanic_li)"
   ]
  },
  {
   "cell_type": "code",
   "execution_count": null,
   "metadata": {},
   "outputs": [],
   "source": [
    "con.commit()"
   ]
  },
  {
   "cell_type": "markdown",
   "metadata": {},
   "source": [
    "# Key Game Stats"
   ]
  },
  {
   "cell_type": "code",
   "execution_count": null,
   "metadata": {},
   "outputs": [],
   "source": [
    "def get_game_stats(game):\n",
    "    params = {'id' : game,'stats' :'1'}\n",
    "    response = requests.get('https://www.boardgamegeek.com/xmlapi2/thing?', params)\n",
    "    s = BeautifulSoup(response.text, \"xml\")\n",
    "    all_stats = s.find('ratings')\n",
    "    avg_rating = all_stats.find('average')['value']\n",
    "    avg_bayes_rating = all_stats.find('bayesaverage')['value']\n",
    "    std = all_stats.find('stddev')['value']\n",
    "    ratings = all_stats.find('usersrated')['value']\n",
    "    weight = all_stats.find('averageweight')['value']\n",
    "    \n",
    "    return((game, avg_rating, avg_bayes_rating, std, ratings, weight))"
   ]
  },
  {
   "cell_type": "code",
   "execution_count": null,
   "metadata": {},
   "outputs": [],
   "source": [
    "game_rating_li = []\n",
    "for idx, game in enumerate(game_li):\n",
    "    got_data = False\n",
    "    \n",
    "    while not got_data:\n",
    "        try:\n",
    "            temp = get_game_stats(game)\n",
    "            got_data = True\n",
    "        except AttributeError:\n",
    "            time.sleep(10)\n",
    "    # print(idx) \n",
    "    game_rating_li.append(temp)"
   ]
  },
  {
   "cell_type": "code",
   "execution_count": null,
   "metadata": {},
   "outputs": [],
   "source": [
    "cur.execute('''CREATE TABLE BGG_GAME_STATS\n",
    "               (id text, avg_rating text, avg_bayes_rating text, std text, ratings text, weight text);''')"
   ]
  },
  {
   "cell_type": "code",
   "execution_count": null,
   "metadata": {},
   "outputs": [],
   "source": [
    "cur.executemany(\"insert into BGG_GAME_STATS values (?, ?, ?, ?, ?, ?)\", game_rating_li)"
   ]
  },
  {
   "cell_type": "code",
   "execution_count": null,
   "metadata": {},
   "outputs": [],
   "source": [
    "con.commit()"
   ]
  },
  {
   "cell_type": "markdown",
   "metadata": {},
   "source": [
    "# Num of Players Voting"
   ]
  },
  {
   "cell_type": "code",
   "execution_count": null,
   "metadata": {},
   "outputs": [],
   "source": [
    "full_player_rating_li = []\n",
    "for g in game_li:\n",
    "    current_li = get_player_count_ratings(g)\n",
    "    if current_li == []:\n",
    "        time.sleep(10)\n",
    "        current_li = get_player_count_ratings(g)\n",
    "    full_player_rating_li.extend(current_li)"
   ]
  },
  {
   "cell_type": "code",
   "execution_count": null,
   "metadata": {},
   "outputs": [],
   "source": [
    "cur.execute(''' CREATE TABLE BGG_PLAYER_RATINGS\n",
    "               (id text, player_count text, player_recommendation text, votes text);\n",
    "               ''')"
   ]
  },
  {
   "cell_type": "code",
   "execution_count": null,
   "metadata": {},
   "outputs": [],
   "source": [
    "cur.executemany(\"insert into BGG_PLAYER_RATINGS values (?, ?, ?, ?)\", full_player_rating_li)"
   ]
  },
  {
   "cell_type": "code",
   "execution_count": null,
   "metadata": {},
   "outputs": [],
   "source": [
    "con.commit()"
   ]
  },
  {
   "cell_type": "markdown",
   "metadata": {},
   "source": [
    "# Join Tables"
   ]
  },
  {
   "cell_type": "code",
   "execution_count": null,
   "metadata": {},
   "outputs": [],
   "source": [
    "cur.execute('''CREATE TABLE TOP_GAMES_FULL\n",
    "           \n",
    "           AS\n",
    "           \n",
    "        SELECT t1.id, title, year, t2.min_players, t2.max_players\n",
    "           ,avg_rating, avg_bayes_rating, std, ratings, weight\n",
    "        FROM TOP_BGG_GAMES t1\n",
    "            LEFT JOIN BGG_PLAYER_COUNTS t2\n",
    "                ON t1.id = t2.id\n",
    "            LEFT JOIN  BGG_GAME_STATS t3\n",
    "                ON t1.id = t3.id\n",
    "           \n",
    "           ''')"
   ]
  },
  {
   "cell_type": "code",
   "execution_count": null,
   "metadata": {},
   "outputs": [],
   "source": [
    "con.commit()"
   ]
  },
  {
   "cell_type": "code",
   "execution_count": null,
   "metadata": {},
   "outputs": [],
   "source": [
    "results = cur.execute('''\n",
    "        SELECT t1.id, title, max_players\n",
    "           ,avg_rating, std\n",
    "        FROM TOP_GAMES_FULL t1\n",
    "           \n",
    "           ''')"
   ]
  },
  {
   "cell_type": "code",
   "execution_count": null,
   "metadata": {},
   "outputs": [],
   "source": [
    "result_li = [result for result in results]"
   ]
  },
  {
   "cell_type": "code",
   "execution_count": null,
   "metadata": {},
   "outputs": [],
   "source": [
    "df = pd.DataFrame(data=result_li, columns=['id', 'title', 'max_players', 'score', 'std_score'])"
   ]
  },
  {
   "cell_type": "code",
   "execution_count": null,
   "metadata": {},
   "outputs": [],
   "source": [
    "# convert data types\n",
    "cols = ['max_players', 'score', 'std_score']\n",
    "for col in cols:\n",
    "    df[col] = df[col].astype('float')\n",
    "df.dtypes"
   ]
  },
  {
   "cell_type": "code",
   "execution_count": null,
   "metadata": {},
   "outputs": [],
   "source": [
    "# solo games \n",
    "df[df.max_players == 1]"
   ]
  },
  {
   "cell_type": "code",
   "execution_count": null,
   "metadata": {},
   "outputs": [],
   "source": [
    "# duel games\n",
    "df[df.max_players == 2]"
   ]
  },
  {
   "cell_type": "code",
   "execution_count": null,
   "metadata": {},
   "outputs": [],
   "source": [
    "# Large Group games\n",
    "df[df.max_players > 5]"
   ]
  },
  {
   "cell_type": "code",
   "execution_count": null,
   "metadata": {},
   "outputs": [],
   "source": [
    "#What's the largest?\n",
    "print(df.max_players.max())\n",
    "\n",
    "# Which games?\n",
    "df[df['max_players'] == 100]"
   ]
  },
  {
   "cell_type": "code",
   "execution_count": null,
   "metadata": {},
   "outputs": [],
   "source": [
    "# What's the most divisive game?\n",
    "df[df['std_score']==df.std_score.max()]"
   ]
  },
  {
   "cell_type": "code",
   "execution_count": null,
   "metadata": {},
   "outputs": [],
   "source": [
    "# The least divisive?\n",
    "df[df['std_score']==df.std_score.min()]"
   ]
  },
  {
   "cell_type": "code",
   "execution_count": null,
   "metadata": {},
   "outputs": [],
   "source": [
    "params = {'id' : 13,'stats' :'1'}\n",
    "response = requests.get('https://www.boardgamegeek.com/xmlapi2/thing?', params)\n",
    "s = BeautifulSoup(response.text, \"xml\")\n",
    "s.find('playingtime')"
   ]
  },
  {
   "cell_type": "markdown",
   "metadata": {},
   "source": [
    "# Coda: Adding Play time"
   ]
  },
  {
   "cell_type": "markdown",
   "metadata": {},
   "source": [
    "Initially, I felt that the previous table was complete. I decided to add playtime as well. I should have added it before, though this gives me the chance to test the Alter table functions"
   ]
  },
  {
   "cell_type": "code",
   "execution_count": null,
   "metadata": {},
   "outputs": [],
   "source": [
    "i = 0\n",
    "playtime_li = []\n",
    "while i < len(game_li):\n",
    "    game_id = game_li[i]\n",
    "    params = {'id' : game_id,'stats' :'1'}\n",
    "    try:\n",
    "        response = requests.get('https://www.boardgamegeek.com/xmlapi2/thing?', params)\n",
    "        s = BeautifulSoup(response.text, \"xml\")\n",
    "        play_time = s.find('playingtime')['value']\n",
    "        playtime_li.append((game_id, play_time))\n",
    "        i += 1\n",
    "    except TypeError:\n",
    "        time.sleep(20)"
   ]
  },
  {
   "cell_type": "code",
   "execution_count": null,
   "metadata": {},
   "outputs": [],
   "source": [
    "cur.execute(''' CREATE TABLE BGG_PLAY_TIME\n",
    "               (id text, play_time text);\n",
    "               ''')\n",
    "\n",
    "cur.executemany(\"insert into BGG_PLAY_TIME values (?, ?)\", playtime_li)"
   ]
  },
  {
   "cell_type": "code",
   "execution_count": null,
   "metadata": {},
   "outputs": [],
   "source": [
    "cur.execute('''  ALTER TABLE TOP_GAMES_FULL\n",
    "     ADD COLUMNS play_time text ''')"
   ]
  },
  {
   "cell_type": "code",
   "execution_count": null,
   "metadata": {},
   "outputs": [],
   "source": [
    "cur.execute(''' DELETE  FROM TOP_GAMES_FULL  WHERE TRUE''')"
   ]
  },
  {
   "cell_type": "code",
   "execution_count": null,
   "metadata": {},
   "outputs": [],
   "source": [
    "cur.execute('''INSERT INTO TOP_GAMES_FULL\n",
    "           \n",
    "        SELECT t1.id, title, year, t2.min_players, t2.max_players\n",
    "           ,avg_rating, avg_bayes_rating, std, ratings, weight, t4.play_time\n",
    "        FROM TOP_BGG_GAMES t1\n",
    "            LEFT JOIN BGG_PLAYER_COUNTS t2\n",
    "                ON t1.id = t2.id\n",
    "            LEFT JOIN  BGG_GAME_STATS t3\n",
    "                ON t1.id = t3.id\n",
    "            LEFT JOIN BGG_PLAY_TIME t4\n",
    "                ON t1.id = t4.id''')"
   ]
  },
  {
   "cell_type": "code",
   "execution_count": null,
   "metadata": {},
   "outputs": [],
   "source": [
    "results = cur.execute('PRAGMA table_info(TOP_GAMES_FULL);')\n",
    "results = results.fetchall()\n",
    "result_li = [r for r in results]\n",
    "result_li"
   ]
  },
  {
   "cell_type": "code",
   "execution_count": null,
   "metadata": {},
   "outputs": [],
   "source": [
    "cur.execute('ALTER TABLE TOP_GAMES_FULL RENAME COLUMN COLUMNS TO play_time;')"
   ]
  },
  {
   "cell_type": "code",
   "execution_count": null,
   "metadata": {},
   "outputs": [],
   "source": [
    "con.commit()"
   ]
  },
  {
   "cell_type": "markdown",
   "metadata": {},
   "source": [
    "Playtime added!"
   ]
  },
  {
   "cell_type": "markdown",
   "metadata": {},
   "source": [
    "# Scratch Code"
   ]
  },
  {
   "cell_type": "code",
   "execution_count": 14,
   "metadata": {},
   "outputs": [
    {
     "name": "stdout",
     "output_type": "stream",
     "text": [
      "0 : 100\n",
      "1 : 100\n",
      "2 : 100\n",
      "3 : 100\n",
      "4 : 100\n",
      "5 : 100\n",
      "6 : 100\n",
      "7 : 100\n",
      "8 : 100\n",
      "9 : 100\n",
      "10 : 100\n",
      "11 : 100\n",
      "12 : 100\n",
      "13 : 3\n",
      "14 : 0\n",
      "15 : 0\n",
      "16 : 0\n",
      "17 : 0\n",
      "18 : 0\n",
      "19 : 0\n",
      "20 : 0\n",
      "21 : 0\n",
      "22 : 0\n",
      "23 : 0\n",
      "24 : 0\n",
      "25 : 0\n",
      "26 : 0\n",
      "27 : 0\n",
      "28 : 0\n",
      "29 : 0\n",
      "30 : 0\n",
      "31 : 0\n",
      "32 : 0\n",
      "33 : 0\n",
      "34 : 0\n",
      "35 : 0\n",
      "36 : 0\n",
      "37 : 0\n",
      "38 : 0\n",
      "39 : 0\n",
      "40 : 0\n",
      "41 : 0\n",
      "42 : 0\n",
      "43 : 0\n",
      "44 : 0\n",
      "45 : 0\n",
      "46 : 0\n",
      "47 : 0\n",
      "48 : 0\n",
      "49 : 0\n",
      "50 : 0\n",
      "51 : 0\n",
      "52 : 0\n",
      "53 : 0\n",
      "54 : 0\n",
      "55 : 0\n",
      "56 : 0\n",
      "57 : 0\n",
      "58 : 0\n",
      "59 : 0\n",
      "60 : 0\n",
      "61 : 0\n",
      "62 : 0\n",
      "63 : 0\n",
      "64 : 0\n",
      "65 : 0\n",
      "66 : 0\n",
      "67 : 0\n",
      "68 : 0\n",
      "69 : 0\n"
     ]
    },
    {
     "ename": "KeyboardInterrupt",
     "evalue": "",
     "output_type": "error",
     "traceback": [
      "\u001b[1;31m---------------------------------------------------------------------------\u001b[0m",
      "\u001b[1;31mKeyboardInterrupt\u001b[0m                         Traceback (most recent call last)",
      "\u001b[1;32m<ipython-input-14-29aad10dda0d>\u001b[0m in \u001b[0;36m<module>\u001b[1;34m\u001b[0m\n\u001b[0;32m      3\u001b[0m \u001b[1;32mfor\u001b[0m \u001b[0mi\u001b[0m \u001b[1;32min\u001b[0m \u001b[0mrange\u001b[0m\u001b[1;33m(\u001b[0m\u001b[1;36m100\u001b[0m\u001b[1;33m)\u001b[0m\u001b[1;33m:\u001b[0m\u001b[1;33m\u001b[0m\u001b[1;33m\u001b[0m\u001b[0m\n\u001b[0;32m      4\u001b[0m     \u001b[0mparams\u001b[0m \u001b[1;33m=\u001b[0m \u001b[1;33m{\u001b[0m\u001b[1;34m'id'\u001b[0m \u001b[1;33m:\u001b[0m \u001b[1;34m'246192'\u001b[0m\u001b[1;33m,\u001b[0m \u001b[1;34m'comments'\u001b[0m\u001b[1;33m:\u001b[0m \u001b[1;34m'1'\u001b[0m\u001b[1;33m,\u001b[0m \u001b[1;34m'page'\u001b[0m \u001b[1;33m:\u001b[0m \u001b[0mi\u001b[0m\u001b[1;33m,\u001b[0m \u001b[1;34m'pagesize'\u001b[0m\u001b[1;33m:\u001b[0m\u001b[1;36m100\u001b[0m\u001b[1;33m}\u001b[0m\u001b[1;33m\u001b[0m\u001b[1;33m\u001b[0m\u001b[0m\n\u001b[1;32m----> 5\u001b[1;33m     \u001b[0mresponse\u001b[0m \u001b[1;33m=\u001b[0m \u001b[0mrequests\u001b[0m\u001b[1;33m.\u001b[0m\u001b[0mget\u001b[0m\u001b[1;33m(\u001b[0m\u001b[1;34m'https://www.boardgamegeek.com/xmlapi2/thing?'\u001b[0m\u001b[1;33m,\u001b[0m \u001b[0mparams\u001b[0m\u001b[1;33m)\u001b[0m\u001b[1;33m\u001b[0m\u001b[1;33m\u001b[0m\u001b[0m\n\u001b[0m\u001b[0;32m      6\u001b[0m     \u001b[0msoup\u001b[0m \u001b[1;33m=\u001b[0m \u001b[0mBeautifulSoup\u001b[0m\u001b[1;33m(\u001b[0m\u001b[0mresponse\u001b[0m\u001b[1;33m.\u001b[0m\u001b[0mtext\u001b[0m\u001b[1;33m,\u001b[0m \u001b[1;34m\"xml\"\u001b[0m\u001b[1;33m)\u001b[0m\u001b[1;33m\u001b[0m\u001b[1;33m\u001b[0m\u001b[0m\n\u001b[0;32m      7\u001b[0m     \u001b[0mcomments\u001b[0m \u001b[1;33m=\u001b[0m \u001b[0msoup\u001b[0m\u001b[1;33m.\u001b[0m\u001b[0mfind_all\u001b[0m\u001b[1;33m(\u001b[0m\u001b[1;34m\"comment\"\u001b[0m\u001b[1;33m)\u001b[0m\u001b[1;33m\u001b[0m\u001b[1;33m\u001b[0m\u001b[0m\n",
      "\u001b[1;32m~\\Anaconda3\\lib\\site-packages\\requests\\api.py\u001b[0m in \u001b[0;36mget\u001b[1;34m(url, params, **kwargs)\u001b[0m\n\u001b[0;32m     73\u001b[0m \u001b[1;33m\u001b[0m\u001b[0m\n\u001b[0;32m     74\u001b[0m     \u001b[0mkwargs\u001b[0m\u001b[1;33m.\u001b[0m\u001b[0msetdefault\u001b[0m\u001b[1;33m(\u001b[0m\u001b[1;34m'allow_redirects'\u001b[0m\u001b[1;33m,\u001b[0m \u001b[1;32mTrue\u001b[0m\u001b[1;33m)\u001b[0m\u001b[1;33m\u001b[0m\u001b[1;33m\u001b[0m\u001b[0m\n\u001b[1;32m---> 75\u001b[1;33m     \u001b[1;32mreturn\u001b[0m \u001b[0mrequest\u001b[0m\u001b[1;33m(\u001b[0m\u001b[1;34m'get'\u001b[0m\u001b[1;33m,\u001b[0m \u001b[0murl\u001b[0m\u001b[1;33m,\u001b[0m \u001b[0mparams\u001b[0m\u001b[1;33m=\u001b[0m\u001b[0mparams\u001b[0m\u001b[1;33m,\u001b[0m \u001b[1;33m**\u001b[0m\u001b[0mkwargs\u001b[0m\u001b[1;33m)\u001b[0m\u001b[1;33m\u001b[0m\u001b[1;33m\u001b[0m\u001b[0m\n\u001b[0m\u001b[0;32m     76\u001b[0m \u001b[1;33m\u001b[0m\u001b[0m\n\u001b[0;32m     77\u001b[0m \u001b[1;33m\u001b[0m\u001b[0m\n",
      "\u001b[1;32m~\\Anaconda3\\lib\\site-packages\\requests\\api.py\u001b[0m in \u001b[0;36mrequest\u001b[1;34m(method, url, **kwargs)\u001b[0m\n\u001b[0;32m     58\u001b[0m     \u001b[1;31m# cases, and look like a memory leak in others.\u001b[0m\u001b[1;33m\u001b[0m\u001b[1;33m\u001b[0m\u001b[1;33m\u001b[0m\u001b[0m\n\u001b[0;32m     59\u001b[0m     \u001b[1;32mwith\u001b[0m \u001b[0msessions\u001b[0m\u001b[1;33m.\u001b[0m\u001b[0mSession\u001b[0m\u001b[1;33m(\u001b[0m\u001b[1;33m)\u001b[0m \u001b[1;32mas\u001b[0m \u001b[0msession\u001b[0m\u001b[1;33m:\u001b[0m\u001b[1;33m\u001b[0m\u001b[1;33m\u001b[0m\u001b[0m\n\u001b[1;32m---> 60\u001b[1;33m         \u001b[1;32mreturn\u001b[0m \u001b[0msession\u001b[0m\u001b[1;33m.\u001b[0m\u001b[0mrequest\u001b[0m\u001b[1;33m(\u001b[0m\u001b[0mmethod\u001b[0m\u001b[1;33m=\u001b[0m\u001b[0mmethod\u001b[0m\u001b[1;33m,\u001b[0m \u001b[0murl\u001b[0m\u001b[1;33m=\u001b[0m\u001b[0murl\u001b[0m\u001b[1;33m,\u001b[0m \u001b[1;33m**\u001b[0m\u001b[0mkwargs\u001b[0m\u001b[1;33m)\u001b[0m\u001b[1;33m\u001b[0m\u001b[1;33m\u001b[0m\u001b[0m\n\u001b[0m\u001b[0;32m     61\u001b[0m \u001b[1;33m\u001b[0m\u001b[0m\n\u001b[0;32m     62\u001b[0m \u001b[1;33m\u001b[0m\u001b[0m\n",
      "\u001b[1;32m~\\Anaconda3\\lib\\site-packages\\requests\\sessions.py\u001b[0m in \u001b[0;36mrequest\u001b[1;34m(self, method, url, params, data, headers, cookies, files, auth, timeout, allow_redirects, proxies, hooks, stream, verify, cert, json)\u001b[0m\n\u001b[0;32m    531\u001b[0m         }\n\u001b[0;32m    532\u001b[0m         \u001b[0msend_kwargs\u001b[0m\u001b[1;33m.\u001b[0m\u001b[0mupdate\u001b[0m\u001b[1;33m(\u001b[0m\u001b[0msettings\u001b[0m\u001b[1;33m)\u001b[0m\u001b[1;33m\u001b[0m\u001b[1;33m\u001b[0m\u001b[0m\n\u001b[1;32m--> 533\u001b[1;33m         \u001b[0mresp\u001b[0m \u001b[1;33m=\u001b[0m \u001b[0mself\u001b[0m\u001b[1;33m.\u001b[0m\u001b[0msend\u001b[0m\u001b[1;33m(\u001b[0m\u001b[0mprep\u001b[0m\u001b[1;33m,\u001b[0m \u001b[1;33m**\u001b[0m\u001b[0msend_kwargs\u001b[0m\u001b[1;33m)\u001b[0m\u001b[1;33m\u001b[0m\u001b[1;33m\u001b[0m\u001b[0m\n\u001b[0m\u001b[0;32m    534\u001b[0m \u001b[1;33m\u001b[0m\u001b[0m\n\u001b[0;32m    535\u001b[0m         \u001b[1;32mreturn\u001b[0m \u001b[0mresp\u001b[0m\u001b[1;33m\u001b[0m\u001b[1;33m\u001b[0m\u001b[0m\n",
      "\u001b[1;32m~\\Anaconda3\\lib\\site-packages\\requests\\sessions.py\u001b[0m in \u001b[0;36msend\u001b[1;34m(self, request, **kwargs)\u001b[0m\n\u001b[0;32m    644\u001b[0m \u001b[1;33m\u001b[0m\u001b[0m\n\u001b[0;32m    645\u001b[0m         \u001b[1;31m# Send the request\u001b[0m\u001b[1;33m\u001b[0m\u001b[1;33m\u001b[0m\u001b[1;33m\u001b[0m\u001b[0m\n\u001b[1;32m--> 646\u001b[1;33m         \u001b[0mr\u001b[0m \u001b[1;33m=\u001b[0m \u001b[0madapter\u001b[0m\u001b[1;33m.\u001b[0m\u001b[0msend\u001b[0m\u001b[1;33m(\u001b[0m\u001b[0mrequest\u001b[0m\u001b[1;33m,\u001b[0m \u001b[1;33m**\u001b[0m\u001b[0mkwargs\u001b[0m\u001b[1;33m)\u001b[0m\u001b[1;33m\u001b[0m\u001b[1;33m\u001b[0m\u001b[0m\n\u001b[0m\u001b[0;32m    647\u001b[0m \u001b[1;33m\u001b[0m\u001b[0m\n\u001b[0;32m    648\u001b[0m         \u001b[1;31m# Total elapsed time of the request (approximately)\u001b[0m\u001b[1;33m\u001b[0m\u001b[1;33m\u001b[0m\u001b[1;33m\u001b[0m\u001b[0m\n",
      "\u001b[1;32m~\\Anaconda3\\lib\\site-packages\\requests\\adapters.py\u001b[0m in \u001b[0;36msend\u001b[1;34m(self, request, stream, timeout, verify, cert, proxies)\u001b[0m\n\u001b[0;32m    447\u001b[0m                     \u001b[0mdecode_content\u001b[0m\u001b[1;33m=\u001b[0m\u001b[1;32mFalse\u001b[0m\u001b[1;33m,\u001b[0m\u001b[1;33m\u001b[0m\u001b[1;33m\u001b[0m\u001b[0m\n\u001b[0;32m    448\u001b[0m                     \u001b[0mretries\u001b[0m\u001b[1;33m=\u001b[0m\u001b[0mself\u001b[0m\u001b[1;33m.\u001b[0m\u001b[0mmax_retries\u001b[0m\u001b[1;33m,\u001b[0m\u001b[1;33m\u001b[0m\u001b[1;33m\u001b[0m\u001b[0m\n\u001b[1;32m--> 449\u001b[1;33m                     \u001b[0mtimeout\u001b[0m\u001b[1;33m=\u001b[0m\u001b[0mtimeout\u001b[0m\u001b[1;33m\u001b[0m\u001b[1;33m\u001b[0m\u001b[0m\n\u001b[0m\u001b[0;32m    450\u001b[0m                 )\n\u001b[0;32m    451\u001b[0m \u001b[1;33m\u001b[0m\u001b[0m\n",
      "\u001b[1;32m~\\Anaconda3\\lib\\site-packages\\urllib3\\connectionpool.py\u001b[0m in \u001b[0;36murlopen\u001b[1;34m(self, method, url, body, headers, retries, redirect, assert_same_host, timeout, pool_timeout, release_conn, chunked, body_pos, **response_kw)\u001b[0m\n\u001b[0;32m    670\u001b[0m                 \u001b[0mbody\u001b[0m\u001b[1;33m=\u001b[0m\u001b[0mbody\u001b[0m\u001b[1;33m,\u001b[0m\u001b[1;33m\u001b[0m\u001b[1;33m\u001b[0m\u001b[0m\n\u001b[0;32m    671\u001b[0m                 \u001b[0mheaders\u001b[0m\u001b[1;33m=\u001b[0m\u001b[0mheaders\u001b[0m\u001b[1;33m,\u001b[0m\u001b[1;33m\u001b[0m\u001b[1;33m\u001b[0m\u001b[0m\n\u001b[1;32m--> 672\u001b[1;33m                 \u001b[0mchunked\u001b[0m\u001b[1;33m=\u001b[0m\u001b[0mchunked\u001b[0m\u001b[1;33m,\u001b[0m\u001b[1;33m\u001b[0m\u001b[1;33m\u001b[0m\u001b[0m\n\u001b[0m\u001b[0;32m    673\u001b[0m             )\n\u001b[0;32m    674\u001b[0m \u001b[1;33m\u001b[0m\u001b[0m\n",
      "\u001b[1;32m~\\Anaconda3\\lib\\site-packages\\urllib3\\connectionpool.py\u001b[0m in \u001b[0;36m_make_request\u001b[1;34m(self, conn, method, url, timeout, chunked, **httplib_request_kw)\u001b[0m\n\u001b[0;32m    419\u001b[0m                     \u001b[1;31m# Python 3 (including for exceptions like SystemExit).\u001b[0m\u001b[1;33m\u001b[0m\u001b[1;33m\u001b[0m\u001b[1;33m\u001b[0m\u001b[0m\n\u001b[0;32m    420\u001b[0m                     \u001b[1;31m# Otherwise it looks like a bug in the code.\u001b[0m\u001b[1;33m\u001b[0m\u001b[1;33m\u001b[0m\u001b[1;33m\u001b[0m\u001b[0m\n\u001b[1;32m--> 421\u001b[1;33m                     \u001b[0msix\u001b[0m\u001b[1;33m.\u001b[0m\u001b[0mraise_from\u001b[0m\u001b[1;33m(\u001b[0m\u001b[0me\u001b[0m\u001b[1;33m,\u001b[0m \u001b[1;32mNone\u001b[0m\u001b[1;33m)\u001b[0m\u001b[1;33m\u001b[0m\u001b[1;33m\u001b[0m\u001b[0m\n\u001b[0m\u001b[0;32m    422\u001b[0m         \u001b[1;32mexcept\u001b[0m \u001b[1;33m(\u001b[0m\u001b[0mSocketTimeout\u001b[0m\u001b[1;33m,\u001b[0m \u001b[0mBaseSSLError\u001b[0m\u001b[1;33m,\u001b[0m \u001b[0mSocketError\u001b[0m\u001b[1;33m)\u001b[0m \u001b[1;32mas\u001b[0m \u001b[0me\u001b[0m\u001b[1;33m:\u001b[0m\u001b[1;33m\u001b[0m\u001b[1;33m\u001b[0m\u001b[0m\n\u001b[0;32m    423\u001b[0m             \u001b[0mself\u001b[0m\u001b[1;33m.\u001b[0m\u001b[0m_raise_timeout\u001b[0m\u001b[1;33m(\u001b[0m\u001b[0merr\u001b[0m\u001b[1;33m=\u001b[0m\u001b[0me\u001b[0m\u001b[1;33m,\u001b[0m \u001b[0murl\u001b[0m\u001b[1;33m=\u001b[0m\u001b[0murl\u001b[0m\u001b[1;33m,\u001b[0m \u001b[0mtimeout_value\u001b[0m\u001b[1;33m=\u001b[0m\u001b[0mread_timeout\u001b[0m\u001b[1;33m)\u001b[0m\u001b[1;33m\u001b[0m\u001b[1;33m\u001b[0m\u001b[0m\n",
      "\u001b[1;32m~\\Anaconda3\\lib\\site-packages\\urllib3\\packages\\six.py\u001b[0m in \u001b[0;36mraise_from\u001b[1;34m(value, from_value)\u001b[0m\n",
      "\u001b[1;32m~\\Anaconda3\\lib\\site-packages\\urllib3\\connectionpool.py\u001b[0m in \u001b[0;36m_make_request\u001b[1;34m(self, conn, method, url, timeout, chunked, **httplib_request_kw)\u001b[0m\n\u001b[0;32m    414\u001b[0m                 \u001b[1;31m# Python 3\u001b[0m\u001b[1;33m\u001b[0m\u001b[1;33m\u001b[0m\u001b[1;33m\u001b[0m\u001b[0m\n\u001b[0;32m    415\u001b[0m                 \u001b[1;32mtry\u001b[0m\u001b[1;33m:\u001b[0m\u001b[1;33m\u001b[0m\u001b[1;33m\u001b[0m\u001b[0m\n\u001b[1;32m--> 416\u001b[1;33m                     \u001b[0mhttplib_response\u001b[0m \u001b[1;33m=\u001b[0m \u001b[0mconn\u001b[0m\u001b[1;33m.\u001b[0m\u001b[0mgetresponse\u001b[0m\u001b[1;33m(\u001b[0m\u001b[1;33m)\u001b[0m\u001b[1;33m\u001b[0m\u001b[1;33m\u001b[0m\u001b[0m\n\u001b[0m\u001b[0;32m    417\u001b[0m                 \u001b[1;32mexcept\u001b[0m \u001b[0mBaseException\u001b[0m \u001b[1;32mas\u001b[0m \u001b[0me\u001b[0m\u001b[1;33m:\u001b[0m\u001b[1;33m\u001b[0m\u001b[1;33m\u001b[0m\u001b[0m\n\u001b[0;32m    418\u001b[0m                     \u001b[1;31m# Remove the TypeError from the exception chain in\u001b[0m\u001b[1;33m\u001b[0m\u001b[1;33m\u001b[0m\u001b[1;33m\u001b[0m\u001b[0m\n",
      "\u001b[1;32m~\\Anaconda3\\lib\\http\\client.py\u001b[0m in \u001b[0;36mgetresponse\u001b[1;34m(self)\u001b[0m\n\u001b[0;32m   1342\u001b[0m         \u001b[1;32mtry\u001b[0m\u001b[1;33m:\u001b[0m\u001b[1;33m\u001b[0m\u001b[1;33m\u001b[0m\u001b[0m\n\u001b[0;32m   1343\u001b[0m             \u001b[1;32mtry\u001b[0m\u001b[1;33m:\u001b[0m\u001b[1;33m\u001b[0m\u001b[1;33m\u001b[0m\u001b[0m\n\u001b[1;32m-> 1344\u001b[1;33m                 \u001b[0mresponse\u001b[0m\u001b[1;33m.\u001b[0m\u001b[0mbegin\u001b[0m\u001b[1;33m(\u001b[0m\u001b[1;33m)\u001b[0m\u001b[1;33m\u001b[0m\u001b[1;33m\u001b[0m\u001b[0m\n\u001b[0m\u001b[0;32m   1345\u001b[0m             \u001b[1;32mexcept\u001b[0m \u001b[0mConnectionError\u001b[0m\u001b[1;33m:\u001b[0m\u001b[1;33m\u001b[0m\u001b[1;33m\u001b[0m\u001b[0m\n\u001b[0;32m   1346\u001b[0m                 \u001b[0mself\u001b[0m\u001b[1;33m.\u001b[0m\u001b[0mclose\u001b[0m\u001b[1;33m(\u001b[0m\u001b[1;33m)\u001b[0m\u001b[1;33m\u001b[0m\u001b[1;33m\u001b[0m\u001b[0m\n",
      "\u001b[1;32m~\\Anaconda3\\lib\\http\\client.py\u001b[0m in \u001b[0;36mbegin\u001b[1;34m(self)\u001b[0m\n\u001b[0;32m    304\u001b[0m         \u001b[1;31m# read until we get a non-100 response\u001b[0m\u001b[1;33m\u001b[0m\u001b[1;33m\u001b[0m\u001b[1;33m\u001b[0m\u001b[0m\n\u001b[0;32m    305\u001b[0m         \u001b[1;32mwhile\u001b[0m \u001b[1;32mTrue\u001b[0m\u001b[1;33m:\u001b[0m\u001b[1;33m\u001b[0m\u001b[1;33m\u001b[0m\u001b[0m\n\u001b[1;32m--> 306\u001b[1;33m             \u001b[0mversion\u001b[0m\u001b[1;33m,\u001b[0m \u001b[0mstatus\u001b[0m\u001b[1;33m,\u001b[0m \u001b[0mreason\u001b[0m \u001b[1;33m=\u001b[0m \u001b[0mself\u001b[0m\u001b[1;33m.\u001b[0m\u001b[0m_read_status\u001b[0m\u001b[1;33m(\u001b[0m\u001b[1;33m)\u001b[0m\u001b[1;33m\u001b[0m\u001b[1;33m\u001b[0m\u001b[0m\n\u001b[0m\u001b[0;32m    307\u001b[0m             \u001b[1;32mif\u001b[0m \u001b[0mstatus\u001b[0m \u001b[1;33m!=\u001b[0m \u001b[0mCONTINUE\u001b[0m\u001b[1;33m:\u001b[0m\u001b[1;33m\u001b[0m\u001b[1;33m\u001b[0m\u001b[0m\n\u001b[0;32m    308\u001b[0m                 \u001b[1;32mbreak\u001b[0m\u001b[1;33m\u001b[0m\u001b[1;33m\u001b[0m\u001b[0m\n",
      "\u001b[1;32m~\\Anaconda3\\lib\\http\\client.py\u001b[0m in \u001b[0;36m_read_status\u001b[1;34m(self)\u001b[0m\n\u001b[0;32m    265\u001b[0m \u001b[1;33m\u001b[0m\u001b[0m\n\u001b[0;32m    266\u001b[0m     \u001b[1;32mdef\u001b[0m \u001b[0m_read_status\u001b[0m\u001b[1;33m(\u001b[0m\u001b[0mself\u001b[0m\u001b[1;33m)\u001b[0m\u001b[1;33m:\u001b[0m\u001b[1;33m\u001b[0m\u001b[1;33m\u001b[0m\u001b[0m\n\u001b[1;32m--> 267\u001b[1;33m         \u001b[0mline\u001b[0m \u001b[1;33m=\u001b[0m \u001b[0mstr\u001b[0m\u001b[1;33m(\u001b[0m\u001b[0mself\u001b[0m\u001b[1;33m.\u001b[0m\u001b[0mfp\u001b[0m\u001b[1;33m.\u001b[0m\u001b[0mreadline\u001b[0m\u001b[1;33m(\u001b[0m\u001b[0m_MAXLINE\u001b[0m \u001b[1;33m+\u001b[0m \u001b[1;36m1\u001b[0m\u001b[1;33m)\u001b[0m\u001b[1;33m,\u001b[0m \u001b[1;34m\"iso-8859-1\"\u001b[0m\u001b[1;33m)\u001b[0m\u001b[1;33m\u001b[0m\u001b[1;33m\u001b[0m\u001b[0m\n\u001b[0m\u001b[0;32m    268\u001b[0m         \u001b[1;32mif\u001b[0m \u001b[0mlen\u001b[0m\u001b[1;33m(\u001b[0m\u001b[0mline\u001b[0m\u001b[1;33m)\u001b[0m \u001b[1;33m>\u001b[0m \u001b[0m_MAXLINE\u001b[0m\u001b[1;33m:\u001b[0m\u001b[1;33m\u001b[0m\u001b[1;33m\u001b[0m\u001b[0m\n\u001b[0;32m    269\u001b[0m             \u001b[1;32mraise\u001b[0m \u001b[0mLineTooLong\u001b[0m\u001b[1;33m(\u001b[0m\u001b[1;34m\"status line\"\u001b[0m\u001b[1;33m)\u001b[0m\u001b[1;33m\u001b[0m\u001b[1;33m\u001b[0m\u001b[0m\n",
      "\u001b[1;32m~\\Anaconda3\\lib\\socket.py\u001b[0m in \u001b[0;36mreadinto\u001b[1;34m(self, b)\u001b[0m\n\u001b[0;32m    587\u001b[0m         \u001b[1;32mwhile\u001b[0m \u001b[1;32mTrue\u001b[0m\u001b[1;33m:\u001b[0m\u001b[1;33m\u001b[0m\u001b[1;33m\u001b[0m\u001b[0m\n\u001b[0;32m    588\u001b[0m             \u001b[1;32mtry\u001b[0m\u001b[1;33m:\u001b[0m\u001b[1;33m\u001b[0m\u001b[1;33m\u001b[0m\u001b[0m\n\u001b[1;32m--> 589\u001b[1;33m                 \u001b[1;32mreturn\u001b[0m \u001b[0mself\u001b[0m\u001b[1;33m.\u001b[0m\u001b[0m_sock\u001b[0m\u001b[1;33m.\u001b[0m\u001b[0mrecv_into\u001b[0m\u001b[1;33m(\u001b[0m\u001b[0mb\u001b[0m\u001b[1;33m)\u001b[0m\u001b[1;33m\u001b[0m\u001b[1;33m\u001b[0m\u001b[0m\n\u001b[0m\u001b[0;32m    590\u001b[0m             \u001b[1;32mexcept\u001b[0m \u001b[0mtimeout\u001b[0m\u001b[1;33m:\u001b[0m\u001b[1;33m\u001b[0m\u001b[1;33m\u001b[0m\u001b[0m\n\u001b[0;32m    591\u001b[0m                 \u001b[0mself\u001b[0m\u001b[1;33m.\u001b[0m\u001b[0m_timeout_occurred\u001b[0m \u001b[1;33m=\u001b[0m \u001b[1;32mTrue\u001b[0m\u001b[1;33m\u001b[0m\u001b[1;33m\u001b[0m\u001b[0m\n",
      "\u001b[1;32m~\\Anaconda3\\lib\\site-packages\\urllib3\\contrib\\pyopenssl.py\u001b[0m in \u001b[0;36mrecv_into\u001b[1;34m(self, *args, **kwargs)\u001b[0m\n\u001b[0;32m    311\u001b[0m     \u001b[1;32mdef\u001b[0m \u001b[0mrecv_into\u001b[0m\u001b[1;33m(\u001b[0m\u001b[0mself\u001b[0m\u001b[1;33m,\u001b[0m \u001b[1;33m*\u001b[0m\u001b[0margs\u001b[0m\u001b[1;33m,\u001b[0m \u001b[1;33m**\u001b[0m\u001b[0mkwargs\u001b[0m\u001b[1;33m)\u001b[0m\u001b[1;33m:\u001b[0m\u001b[1;33m\u001b[0m\u001b[1;33m\u001b[0m\u001b[0m\n\u001b[0;32m    312\u001b[0m         \u001b[1;32mtry\u001b[0m\u001b[1;33m:\u001b[0m\u001b[1;33m\u001b[0m\u001b[1;33m\u001b[0m\u001b[0m\n\u001b[1;32m--> 313\u001b[1;33m             \u001b[1;32mreturn\u001b[0m \u001b[0mself\u001b[0m\u001b[1;33m.\u001b[0m\u001b[0mconnection\u001b[0m\u001b[1;33m.\u001b[0m\u001b[0mrecv_into\u001b[0m\u001b[1;33m(\u001b[0m\u001b[1;33m*\u001b[0m\u001b[0margs\u001b[0m\u001b[1;33m,\u001b[0m \u001b[1;33m**\u001b[0m\u001b[0mkwargs\u001b[0m\u001b[1;33m)\u001b[0m\u001b[1;33m\u001b[0m\u001b[1;33m\u001b[0m\u001b[0m\n\u001b[0m\u001b[0;32m    314\u001b[0m         \u001b[1;32mexcept\u001b[0m \u001b[0mOpenSSL\u001b[0m\u001b[1;33m.\u001b[0m\u001b[0mSSL\u001b[0m\u001b[1;33m.\u001b[0m\u001b[0mSysCallError\u001b[0m \u001b[1;32mas\u001b[0m \u001b[0me\u001b[0m\u001b[1;33m:\u001b[0m\u001b[1;33m\u001b[0m\u001b[1;33m\u001b[0m\u001b[0m\n\u001b[0;32m    315\u001b[0m             \u001b[1;32mif\u001b[0m \u001b[0mself\u001b[0m\u001b[1;33m.\u001b[0m\u001b[0msuppress_ragged_eofs\u001b[0m \u001b[1;32mand\u001b[0m \u001b[0me\u001b[0m\u001b[1;33m.\u001b[0m\u001b[0margs\u001b[0m \u001b[1;33m==\u001b[0m \u001b[1;33m(\u001b[0m\u001b[1;33m-\u001b[0m\u001b[1;36m1\u001b[0m\u001b[1;33m,\u001b[0m \u001b[1;34m\"Unexpected EOF\"\u001b[0m\u001b[1;33m)\u001b[0m\u001b[1;33m:\u001b[0m\u001b[1;33m\u001b[0m\u001b[1;33m\u001b[0m\u001b[0m\n",
      "\u001b[1;32m~\\Anaconda3\\lib\\site-packages\\OpenSSL\\SSL.py\u001b[0m in \u001b[0;36mrecv_into\u001b[1;34m(self, buffer, nbytes, flags)\u001b[0m\n\u001b[0;32m   1837\u001b[0m             \u001b[0mresult\u001b[0m \u001b[1;33m=\u001b[0m \u001b[0m_lib\u001b[0m\u001b[1;33m.\u001b[0m\u001b[0mSSL_peek\u001b[0m\u001b[1;33m(\u001b[0m\u001b[0mself\u001b[0m\u001b[1;33m.\u001b[0m\u001b[0m_ssl\u001b[0m\u001b[1;33m,\u001b[0m \u001b[0mbuf\u001b[0m\u001b[1;33m,\u001b[0m \u001b[0mnbytes\u001b[0m\u001b[1;33m)\u001b[0m\u001b[1;33m\u001b[0m\u001b[1;33m\u001b[0m\u001b[0m\n\u001b[0;32m   1838\u001b[0m         \u001b[1;32melse\u001b[0m\u001b[1;33m:\u001b[0m\u001b[1;33m\u001b[0m\u001b[1;33m\u001b[0m\u001b[0m\n\u001b[1;32m-> 1839\u001b[1;33m             \u001b[0mresult\u001b[0m \u001b[1;33m=\u001b[0m \u001b[0m_lib\u001b[0m\u001b[1;33m.\u001b[0m\u001b[0mSSL_read\u001b[0m\u001b[1;33m(\u001b[0m\u001b[0mself\u001b[0m\u001b[1;33m.\u001b[0m\u001b[0m_ssl\u001b[0m\u001b[1;33m,\u001b[0m \u001b[0mbuf\u001b[0m\u001b[1;33m,\u001b[0m \u001b[0mnbytes\u001b[0m\u001b[1;33m)\u001b[0m\u001b[1;33m\u001b[0m\u001b[1;33m\u001b[0m\u001b[0m\n\u001b[0m\u001b[0;32m   1840\u001b[0m         \u001b[0mself\u001b[0m\u001b[1;33m.\u001b[0m\u001b[0m_raise_ssl_error\u001b[0m\u001b[1;33m(\u001b[0m\u001b[0mself\u001b[0m\u001b[1;33m.\u001b[0m\u001b[0m_ssl\u001b[0m\u001b[1;33m,\u001b[0m \u001b[0mresult\u001b[0m\u001b[1;33m)\u001b[0m\u001b[1;33m\u001b[0m\u001b[1;33m\u001b[0m\u001b[0m\n\u001b[0;32m   1841\u001b[0m \u001b[1;33m\u001b[0m\u001b[0m\n",
      "\u001b[1;31mKeyboardInterrupt\u001b[0m: "
     ]
    }
   ],
   "source": [
    "# game_id = game_li[i]\n",
    "comment_li = []\n",
    "for i in range(100):\n",
    "    params = {'id' : '246192', 'comments': '1', 'page' : i, 'pagesize':100}\n",
    "    response = requests.get('https://www.boardgamegeek.com/xmlapi2/thing?', params)\n",
    "    soup = BeautifulSoup(response.text, \"xml\")\n",
    "    comments = soup.find_all(\"comment\")\n",
    "    print(i, ':', len(comments))\n",
    "    for com in comments:\n",
    "        comment_li.append(com)"
   ]
  },
  {
   "cell_type": "code",
   "execution_count": 11,
   "metadata": {},
   "outputs": [
    {
     "data": {
      "text/plain": [
       "[<comment rating=\"N/A\" username=\"4l3xCh4rt\" value=\"Très débutant comme jeux. ok pour initier de nouveaux adeptes. Les chaînages deviennent tellement gros qu'on fini par s'y perdre surtout quand c'est au tour d'un autre joueur.  \"/>,\n",
       " <comment rating=\"8\" username=\"4ndrewcol3\" value=\"My favorite shorter game\"/>,\n",
       " <comment rating=\"6\" username=\"Abdul\" value=\"Decent but forgettable. I would have expected at least some names for the various cards to inject a little theme into the gameplay. Just too dry and simple for me. The marble dispenser is cute, but kept breaking and dropping marbles onto the table.\"/>,\n",
       " <comment rating=\"10\" username=\"AbleCompany\" value=\"My pick for an engine building game with just the right kind of theming and accessible play.\"/>,\n",
       " <comment rating=\"7\" username=\"Abruptdolphin\" value=\"Slimbo\"/>,\n",
       " <comment rating=\"7\" username=\"Achire\" value=\"Light game. Pretty fun with all the card combos and I like the mechanics a lot. The marble randomization is pretty cool. The only thing I don't like is the game length - it feels a little too short, so it doesn't really feel like your engine actually comes together before the game ends. The super-short length also makes it really hard to come back from bad luck. So good game that I'd be happy to play, but don't feel the need to own it.\"/>,\n",
       " <comment rating=\"8\" username=\"Acoidan85\" value=\"Grintxitos \"/>,\n",
       " <comment rating=\"7.5\" username=\"adamdynris\" value=\"Boardgamebliss dec. 2018\"/>,\n",
       " <comment rating=\"8\" username=\"adamgospod\" value=\"W koszulkach\"/>,\n",
       " <comment rating=\"9\" username=\"adamscott\" value=\"Another solid Phil Walker-Harding game.  Easy to learn, but enough strategic depth to satisfy.  After two plays, I really enjoy it and have put it on my wish list.  Not sure how long it'll hold my attention since it's so light, but great game for now!\"/>,\n",
       " <comment rating=\"8\" username=\"adamw\" value=\"It is very fun - like a small step up from Splendor or Century Spice Road because it has combos that are quite satisfying. The end game scoring could be close - or could be a blow out depending on a few of those Level 3 cards that can really score big if combined well. Very fun and delightful in production!\"/>,\n",
       " <comment rating=\"7.5\" username=\"Addiction2k\" value=\"Its got some broken level 3 cards, However if you remove those cards it gets more even and replayable. It’s actually a little better an I oiriginally thought. And new gamers love this once the light bulb goes on for them.\"/>,\n",
       " <comment rating=\"8\" username=\"aeaswen\" value=\"This is a great game for what it is. A light game that is quick that will introduce players to engine building and combo type games. I have enjoyed every play of it.\"/>,\n",
       " <comment rating=\"7\" username=\"agentpatman\" value=\"I love engine building and I love building combos but there is something that didn't quite work for me on this one. I will preface this with my opinion that probably looking for something this game is not and I might not be the right audience. After some reflection, I think what I dislike is that you have to challenge yourself and add your own complexity to make this game have interesting decisions. There is a turning point about half way through where your engine is so strong you can do whatever you want and get whatever you need and just start cashing in for the next 20 minutes. It becomes less interesting when the strategy is done and you are essentially racing to the finish. I wish personally the engine was more difficult to build or the cards were more difficult to pull off. The most expensive card in the game you could technically get it in 5 turns or less without implementing any strategy. Compare that to century spice or other games and you have to make quite a few clever moves to pull off your first card. You have to add your own cleverness or complexity by trying to build your engine a certain way rather than just grab what you need. I certainly enjoyed the first half of the way of building the initial engine and figuring out what combos well with what. I also wonder if the game wouldn't be better without the filing aspect and have that be another challenge of trying to be the first to obtain those cards rather than reserving them. I also think researching adds the ability to also just grab what you need without much work as well. I'd also prefer if the cards were more expensive or varied so you were incentivized to build a multi-layered engine rather than an engine that gives you blues and researching and building all blue cards.   The overall experience was enjoyable and entertaining, I just don't think there is enough meat or complexity or something here for me to be rewarded or clever with the strategy. Pulling off big combos is certainly very fun, but I wish it was harder to obtain and less frequently used rather than every turn just piling on more and more as you race to the end. The end game trigger of reaching a certain size is also pretty strange as there was never a natural ending so someone said, that's too powerful, lets stop here. I would have rather seen it done in a certain number of rounds, or maybe don't refill the tower and that triggers the game so investing in certain strategies makes sense based on what was used and what is left. I think any of those combinations would make this more strategic and something I would enjoy more. However as a lighter entertaining time, I think this is certainly unique because of the marbles and 3D tower but it could have been anything.\"/>,\n",
       " <comment rating=\"7\" username=\"Ajax\" value=\"Really nice engine-building game.  It ramps up well from truly simple to slightly mind-melting.  Almost goes on a little long.  Good use of iconography and insert.\"/>,\n",
       " <comment rating=\"7\" username=\"ajax013\" value=\"+ Great match of simple rules with escalating gameplay; as silly as it is, the energy dispenser adds a lot to the appeal of this game. - I actually wish that the four energy types weren't symmetric in what they offer... it would have been cool is heat energy was somehow inherently different than atomic energy, etc.   Why it's previously-owned: The thematic detachment... why couldn't they take time to make gizmos for each energy type feel different and unique and interesting.  Just felt close to something amazing that it bothered me each time I played.\"/>,\n",
       " <comment rating=\"7.5\" username=\"ajewo\" value=\"Action selection game with card drafting. Players are tinkers who build gizmos. Colored marbles represent power required for the colored cards (gizmos). A three dimensional cardboard cue shows which marbles come next.   Pros: + Components (tactile, big marbles, marble tower) + Built gizmos grant special powers, e.g., converters, additional marbles (engine building) + Upgrade your stats + Convert marbles give flexibility + Satisfying combo building that mixes short-term and mid-term planing + Quick playing time  Neutrals: # Rather abstract game # Random draw of marbles # Family game # Higher player counts create more unpredictability for the available marbles.  Cons: - Starts a bit slow - Over the course of the game, there are a lot of triggered effects to keep track of (potential analysis paralysis may slow down the game)  Similar games: * Mechanica (factory, spatial puzzle, swingy market, cool theme integration) * Potion Explosion (very luck-based)\"/>,\n",
       " <comment rating=\"8.8\" username=\"ajie426\" value=\"combo很多，爽\"/>,\n",
       " <comment rating=\"9\" username=\"akmalfikri\" value=\"My go to engine building game. Easy to set up, easy to play. I can play with nieces and nephews.\"/>,\n",
       " <comment rating=\"9\" username=\"Al Capwnd You\" value=\"Gismos feels like a lighter version of Terraforming Mars in terms of an engine builder. A card-and-marble engine building game where you can chain/domino abilities. The marbles might initially think of a kid's game, but there is a good bit of strategy to make an efficient engine work towards earning you points and not just spinning its wheels.  Terraforming Mars feels like it is a more mature game with more depth, but Gizmos is easier to get to the table for a family. If you enjoy engine builders, Gizmos is a great addition as a lightweight introductory game that will still be fun after the initial play.\"/>,\n",
       " <comment rating=\"7\" username=\"Alannamairead\" value=\"engine builder, serious first player advantage but neat design\"/>,\n",
       " <comment rating=\"N/A\" username=\"alfonzos\" value=\"Fast-playing set collection game. Rather than using chips or cards as currency, the game uses marbles. Not as good as Bazaar but better than Century Spice Road and Splendor.\"/>,\n",
       " <comment rating=\"N/A\" username=\"alia4444\" value=\"Has plastic dispenser\"/>,\n",
       " <comment rating=\"N/A\" username=\"alicebentley\" value=\"I've played this about half a dozen times now at our gaming group meetup, and while I'm still a bit murky about the best strategies to follow, I really like the mix of choice, luck and structure. Looking forward to playing many more times.\"/>,\n",
       " <comment rating=\"7\" username=\"alrusdi\" value=\"Great mix of Potion Explosion, Splendor and Space Explorers with super dynamic gameplay  \"/>,\n",
       " <comment rating=\"6\" username=\"AmandaDesignsGames\" value=\"A cool concept, great table present, but the game felt very flat to me. No build up, no tension, just going through the motion more and more.\"/>,\n",
       " <comment rating=\"6\" username=\"AmassGames\" value=\"Engine builder, prefer others\"/>,\n",
       " <comment rating=\"7.5\" username=\"AmethystJewel\" value=\"2/20E-2276 Nice medium weight game where you try to get an engine going. Gotta pay attention to all of the tiles you have laid down as chaining is a big part of this game.\"/>,\n",
       " <comment rating=\"8\" username=\"ameto\" value=\"includes Lost Designs promo set\"/>,\n",
       " <comment rating=\"6\" username=\"Amicable_Ignoramus\" value=\"Solid game, just not my favorite from Walker-Harding. The marble dispenser is a gimmick that works &quot;ok&quot; which is almost always my feeling when it comes marble dispensers in boardgames and their integration with the game itself. Structurally, it gets the job done but at least once a game someone would accidentally bump a marble back which pushes it off the track and falls underneath the dispenser. It also feels a bit empty all the time, though we never actually ran out. It just takes a bit away from the experience when you get told to &quot;reach in and grab a marble&quot;, only to always be scraping around the bottom.  The game itself is about setting up your own engine that will string combo after combo together to gather or convert your marbles, build your &quot;gizmo&quot; cards that will give you more potential combo points, and turn all of these into victory points.  The biggest problem I have with the game is it feels a bit too &quot;one note&quot;. Those combos aren't dynamic enough so after game 2 or 3, you know what you should be looking to build and then it's just a matter of who the cards come out for. Maybe this was just a &quot;meta&quot; issue with our family, but I went out of my way to try to find other paths to victory and they never worked out.  Runaway leader is a pretty real thing here since the game ends up feeling like a tableau driven race, but with no real catch up mechanisms, which is exacerbated by the &quot;one note&quot; combo path. This feeds into the other issue where at the end of the game, turns bog down while people resolve their 5+ step combos.  All that being said, the game is cute and the combos are fun to figure out in the beginning. It's good for children and fine for adults who just want something light, though a bit long for what it is.\"/>,\n",
       " <comment rating=\"8\" username=\"amon1223\" value=\"2,3-player\"/>,\n",
       " <comment rating=\"N/A\" username=\"anagyszilvi\" value=\"Kütyük\"/>,\n",
       " <comment rating=\"9\" username=\"AnalagousParabolas\" value=\"Great engine building game that rewards good strategy but remains forgiving if (when) you need to change tracks.  Most importantly, the theme and components mean your turns are fun to map out and just as fun to watch the other player's gizmos chain together.\"/>,\n",
       " <comment rating=\"8\" username=\"Anconed\" value=\"** 1h Family\"/>,\n",
       " <comment rating=\"9\" username=\"AndreChapman\" value=\"excellent engine builder (mix between Splendor / Century) with custom marble tray\"/>,\n",
       " <comment rating=\"7\" username=\"andshar\" value=\"Fun, fast light/filler game. It is possible for someone to get a great combo working and run away with the game.\"/>,\n",
       " <comment rating=\"6\" username=\"Andy Parsons\" value=\"A simple engine builder with the gimmick of a cardboard marble dispenser. The marbles are resources used to purchase new engine parts.  A limited set of dispensed marbles and players' limited capacity to store them place constraints on the engine parts you can buy.  I found Gizmos quick and inoffensive and forgettable.  Production quality is mostly good, though the engine part cards are a little thin.  The artwork is functional.\"/>,\n",
       " <comment rating=\"N/A\" username=\"andy5463\" value=\"Sleeved\"/>,\n",
       " <comment rating=\"7.5\" username=\"andy61\" value=\"Simple and fun engine-builder.  Little bit of a runaway leader problem, but it isn't that long.\"/>,\n",
       " <comment rating=\"6.5\" username=\"AndySzy\" value=\"Solid engine builder. Marbles are cool, but they could also easily be replaced by a deck of cards I'd think. \"/>,\n",
       " <comment rating=\"N/A\" username=\"AngryRedhead\" value=\"Deus Light\"/>,\n",
       " <comment rating=\"N/A\" username=\"Angurvaki\" value=\"p\"/>,\n",
       " <comment rating=\"N/A\" username=\"ann1h1l15t\" value=\"NIS\"/>,\n",
       " <comment rating=\"7\" username=\"anoymouscrayon\" value=\"Combo wombo\"/>,\n",
       " <comment rating=\"7\" username=\"Antsy_Narwhals\" value=\"A chain-building game that can lead to eternal yet fun turns. \"/>,\n",
       " <comment rating=\"6\" username=\"anxi\" value=\"Got this from Secret Santa\"/>,\n",
       " <comment rating=\"6\" username=\"apkendrick\" value=\"It's a fine game, but fairly bland and lacking in excitement. There are other, similar games that offer more fun.\"/>,\n",
       " <comment rating=\"N/A\" username=\"aquateenavenger\" value=\"GenCon 2018\"/>,\n",
       " <comment rating=\"7.5\" username=\"Aratar\" value=\"A fun medium-weight engine building game\"/>,\n",
       " <comment rating=\"9\" username=\"ArbitraryRanger\" value=\"Tremendously fun game; long enough to build a strategy, but not long enough where it over stays its welcome.  Will always play if asked.\"/>,\n",
       " <comment rating=\"10\" username=\"archrobin\" value=\"Love it. Engine builder, card game with excellent mechanics :)\"/>,\n",
       " <comment rating=\"6\" username=\"Arcturian\" value=\"A quick and pretty decent engine builder, though it has neither the sophistication of the heavier games in that genre nor the charming simplicity of Splendor, and I'm not sure I need anything in between.\"/>,\n",
       " <comment rating=\"9\" username=\"arglik\" value=\"Cool and fun game where you want to experiment more with chaining your machine's action more than winning. And usually I don't win anyway.\"/>,\n",
       " <comment rating=\"7.6\" username=\"arildoaim\" value='Good engine builder that replaces Azul for me in the \"superfiller\"-niche. Fast game, but packing. Elegant design. Family friendly. Effortless to bring to the table.  Playing this after Tapestry was a great relievement.  Concerns: - Needs some plays to see if still holds up, or gets samey. - Some strategies are clearly superior? Can be migiated by houserouling. - Turns can be very fast, so if one particular player got AP it will be noticable.'/>,\n",
       " <comment rating=\"5\" username=\"Arkeas\" value=\"Light little engine building game. Simple to teach and play but the game becomes quite dull and repetitive after just a few plays and the choices are never particularly interesting. Ended up trading this one.\"/>,\n",
       " <comment rating=\"N/A\" username=\"armigero\" value=\"roy top 19\"/>,\n",
       " <comment rating=\"9\" username=\"arminus\" value=\"One of the best Engine-Builder-Games I´ve ever played. Can´t stop playing if started.\"/>,\n",
       " <comment rating=\"6\" username=\"arsenal412\" value=\"That dispenser... jams... all... the... time.  That's even with the 2nd edition plastic dispenser.  Location: Trade Box #2\"/>,\n",
       " <comment rating=\"10\" username=\"artiestroke\" value=\"This game is a BLAST the pieces are fun the programming aspect is great, drafting is always my bag 10/10\"/>,\n",
       " <comment rating=\"9\" username=\"aruz\" value=\"Very fun combo engine building game.\"/>,\n",
       " <comment rating=\"8\" username=\"Arydis4\" value=\"Very good engine builder.  It is easy to teach and plays in 45 minutes.  Won my copy at the CMON Expo in 2019.  The marbles give a nice gimmick to the resources for table presence, but the meat of the game is the cards.    After 10+ plays the gameplay does become repetitive. (9-30-19)  \"/>,\n",
       " <comment rating=\"7\" username=\"Ashavan\" value=\"Intro: Jason Taylor\"/>,\n",
       " <comment rating=\"8\" username=\"astroglide\" value=\"Probably overrating this to start. I can enjoy a nice, quick snowball. This does the trick, and also presses some MTG-like buttons with how many triggered responses there are to manage on a given turn. Similar to Splendor, but just enough oomph to make it more interesting in both gameplay and physical appeal for me.\"/>,\n",
       " <comment rating=\"7.1\" username=\"autothrall\" value=\"Very direct engine builder which relies heavily on your ability to put together chain reactions that net you more value. Fun stuff and plays differently enough from other popular games of its niche (Splendor, etc) that it's worth checking out. The energy marble are a neat touch although with some play the cardboard tabs on the dispenser have started to peel apart, so that particular component could be better if plastic.\"/>,\n",
       " <comment rating=\"10\" username=\"awarb\" value=\"One of our favorites.  Great engine-building mechanics.  Its really fun to build up a set of actions and then take epic turns.\"/>,\n",
       " <comment rating=\"7\" username=\"Awesomecase\" value=\"Gizmos is a great engine builder, better than splendor \"/>,\n",
       " <comment rating=\"N/A\" username=\"awsiddons\" value=\"Mind Games winner\"/>,\n",
       " <comment rating=\"N/A\" username=\"AxisNDallas1\" value=\"If you enjoy Splendor, you’ll love Gizmos. Similar engine builder mechanics, but much richer &amp; more robust. Best played with 4 players. Replay ability is also great. Never the same game twice. \"/>,\n",
       " <comment rating=\"N/A\" username=\"azgames\" value=\"4\"/>,\n",
       " <comment rating=\"7\" username=\"b0ardgamer\" value=\"Fun trying to get an engine running.  Mostly luck though.\"/>,\n",
       " <comment rating=\"N/A\" username=\"b414213562\" value=\"Robin recommended at BGG.CON 2018 - like splendor with more engine building\"/>,\n",
       " <comment rating=\"9\" username=\"Baartoszz\" value=\"After Century and Majesty this is probably the best Splendor killer killer killer.\"/>,\n",
       " <comment rating=\"6\" username=\"baditude\" value=\"The Marble thing is pretty unnecessary but kinda neat I guess.  I'll need to try it again but my first encounter with it was pretty forgettable. \"/>,\n",
       " <comment rating=\"7\" username=\"bainewedlock\" value=\"Fun, but a little dry for our taste.\"/>,\n",
       " <comment rating=\"9\" username=\"Baldonetoo\" value=\"Family first tier\"/>,\n",
       " <comment rating=\"5\" username=\"balis\" value=\"Another boring engine building, without theme, just symbols and combos. As if someone invented a clever mechanism and didn't bother to build a game around it. Probably only the gimmicks make it popular.\"/>,\n",
       " <comment rating=\"8.2\" username=\"baltruce\" value=\"Really liked my first game of this, kept thinking about the nice flavor it left in my mouth even after 4 days (all that through the Essen Spiel fair) and that says it all. UPDATE: A truly elegant design, simple but not simplistic. It looks nice on the table (although I do join others saying that the ball dispenser has its issues). It's a cery interesting engine-building game that my girlfriend liked (and that could be enough for me already). Component quality is great for the price-point of this game. I can only hope for future expansions that could eleviate my sole minor problem with the game with 2p, which is that is can bog down when the balls available do not match the available cards, something that prolongs the game, making both players huffing and puffing for a break. Come on CMON..   \"/>,\n",
       " <comment rating=\"5\" username=\"Bankler\" value=\"Rating based on a single play\"/>,\n",
       " <comment rating=\"8.3\" username=\"basejester\" value=\"Straight to the point engine-builder.  Clear iconography.  Easy to learn.  \"/>,\n",
       " <comment rating=\"N/A\" username=\"BastardCafe\" value=\"2 50.3\"/>,\n",
       " <comment rating=\"6.5\" username=\"Bayushi Sezaru\" value=\"If Splendor and Potion Explosion had a baby, it would be called Gizmos... This game is essentially a big box filler: players build “gizmos” using colored, coming out from a dispenser. Gizmos are cards with various power, generating a variety of combos. Fun game, while not groundbreaking as a design.\"/>,\n",
       " <comment rating=\"7\" username=\"bcbgg\" value=\"Seems to go too fast so that non-build powers aren’t worth the investment. \"/>,\n",
       " <comment rating=\"7.5\" username=\"bdellovibrio\" value=\"Cross between wingspan and splendor. Marbles and marble holders have a satisfying feel to them.  M\"/>,\n",
       " <comment rating=\"9\" username=\"benjaminehlers1\" value='Excellent game, and currently** my favorite** engine building game. Fantastic theme and production, hits on all cylinders. **so far I have never gone back and updated my ratings and comments on games, so very likely this description is already inaccurate and misleading as the future is sure to come. But as I cannot see into the future and am too lazy to edit this later, I am nevertheless foolishly recording the status of \"current favorite\" never to be edited and forever fixed in the mighty database...'/>,\n",
       " <comment rating=\"N/A\" username=\"benjy2\" value=\"2-4\"/>,\n",
       " <comment rating=\"3\" username=\"benshever\" value=\"I didn't like this much. The marble contraption is huge and unnecessary. The decisions are pretty straightforward and the engine is boring. \"/>,\n",
       " <comment rating=\"N/A\" username=\"benthemonkey\" value=\"4p\"/>,\n",
       " <comment rating=\"N/A\" username=\"bestarm\" value=\"2490 низа 2-4\"/>,\n",
       " <comment rating=\"8.4\" username=\"bethielizard\" value=\"I bought this in November 2018 at my FLGS. I played this game at GenCon 2018 and it is fantastic!\"/>,\n",
       " <comment rating=\"N/A\" username=\"bethvet\" value=\"heard good things about the engine building for this game\"/>,\n",
       " <comment rating=\"7\" username=\"Be_Narangi\" value=\"2019\"/>,\n",
       " <comment rating=\"10\" username=\"bgrubaugh\" value='Fantastic light engine builder. The marble holder is not as gimmicky as it might appear and the way it uses the \"preview\" line with a \"blind pick\" is nice.  Overall this game offers a ton of replay value in a very short game, which is rare.'/>,\n",
       " <comment rating=\"7\" username=\"bhudson1972\" value=\"Very clever game. It is more strategic than it looks. Can actually become quite heated as players select cards that others are waiting to build. Often, a card will come out that you want, but it will get selected prior to your turn coming back around. The contraption that holds the marbles works well enough. I could see it getting worn down and tearing up at some point. I think this game has a good look that will get people to ask about it. Very fun.\"/>,\n",
       " <comment rating=\"7\" username=\"biasedisland\" value=\"What a great little engine builder! Think Splendor with marbles but better. One of our favorites behind Wingspan. We love the light theme. It's strategic and plays very fast. Seems to scale very well IMO. Would highly recommend.\"/>,\n",
       " <comment rating=\"7\" username=\"BigD527\" value=\"I like the engine-building twist of this one, and the fact that it has a significant tactile component gives it nice table appeal. A solid gateway.\"/>,\n",
       " <comment rating=\"7\" username=\"Billnyhilist\" value=\"Really nice little engine builder, feels a bit barebones for some reason even though you have a handful of strategies and actions to build upon; perhaps because the gizmos all feel so abstract and unthematic? (get the tile that gets more blue, draw more cards, etc.) I do like the marble system for available energy you can pick and compete for.\"/>,\n",
       " <comment rating=\"5\" username=\"birdsong703\" value=\"Doesn’t live up to the hype - feels derivative.\"/>,\n",
       " <comment rating=\"7\" username=\"bivaterl\" value=\"Very light, but has some neat engine-building. I think I still like the purity of Splendor as an engine builder, but this is fun to kick-off a big set of events. This is a good, light game that actually comes in under an hour. If it had been before Potion Explosion and Splendor, it would have felt more groundbreaking. As it is, this feels like the child of those games. That doesn't make it bad, just less unique feeling because of it.\"/>,\n",
       " <comment rating=\"N/A\" username=\"Bizmat\" value=\"With the Lost Designs and Extra Credits promo sets.\"/>,\n",
       " <comment rating=\"7\" username=\"BlueAngel0568\" value=\"Logic and clever, a bit slow-paced, but really enjoyable and fun.\"/>]"
      ]
     },
     "execution_count": 11,
     "metadata": {},
     "output_type": "execute_result"
    }
   ],
   "source": [
    "comment_li"
   ]
  },
  {
   "cell_type": "code",
   "execution_count": null,
   "metadata": {},
   "outputs": [],
   "source": [
    "# We look at certain users from the comments and see what other games they might like\n",
    "\n",
    "params = {'name' : 'agentzen', 'hot' : '1', 'top' : '1', 'domain' : 'boardgame',}\n",
    "response = requests.get('https://www.boardgamegeek.com/xmlapi2/user?', params)\n",
    "s = BeautifulSoup(response.text, \"xml\")\n",
    "s"
   ]
  },
  {
   "cell_type": "code",
   "execution_count": null,
   "metadata": {},
   "outputs": [],
   "source": [
    "# We look at certain users from the comments and see what other games they might like\n",
    "params = {'username' : 'agentzen', 'type': 'boardgame', 'rated' : '1', 'brief' : '1', 'stats' : '1'}\n",
    "response = requests.get('https://www.boardgamegeek.com/xmlapi2/collection?', params)\n",
    "s = BeautifulSoup(response.text, \"xml\")\n",
    "s"
   ]
  },
  {
   "cell_type": "code",
   "execution_count": null,
   "metadata": {},
   "outputs": [],
   "source": [
    "# Comments\n",
    "comment_li = []\n",
    "\n",
    "# Obtaining ten pages of user comments/ratings\n",
    "for i in range(1,11):\n",
    "    params = {'id' : '13', 'ratingcomments' : '1', 'comments' : '1', 'pagesize' : '100', 'page':[3,4], 'stats' :str(i)}\n",
    "    response = requests.get('https://www.boardgamegeek.com/xmlapi2/thing?', params)\n",
    "    comments = soup.find_all(\"comment\")\n",
    "    for com in comments:\n",
    "        comment_li.append(com)"
   ]
  },
  {
   "cell_type": "code",
   "execution_count": null,
   "metadata": {},
   "outputs": [],
   "source": [
    "test_df = get_user_ratings('agent_t_bib')\n",
    "test_df"
   ]
  }
 ],
 "metadata": {
  "kernelspec": {
   "display_name": "Python 3",
   "language": "python",
   "name": "python3"
  },
  "language_info": {
   "codemirror_mode": {
    "name": "ipython",
    "version": 3
   },
   "file_extension": ".py",
   "mimetype": "text/x-python",
   "name": "python",
   "nbconvert_exporter": "python",
   "pygments_lexer": "ipython3",
   "version": "3.7.6"
  }
 },
 "nbformat": 4,
 "nbformat_minor": 4
}
