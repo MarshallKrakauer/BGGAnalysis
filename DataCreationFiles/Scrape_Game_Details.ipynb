{
 "cells": [
  {
   "cell_type": "markdown",
   "metadata": {},
   "source": [
    "Further information I hope to obtain:\n",
    "* Game descriptions\n",
    "* Player ratings, alongside other games that those players rated"
   ]
  },
  {
   "cell_type": "markdown",
   "metadata": {},
   "source": [
    "# Setup"
   ]
  },
  {
   "cell_type": "code",
   "execution_count": 1,
   "metadata": {},
   "outputs": [],
   "source": [
    "import requests\n",
    "from lxml import etree\n",
    "from bs4 import BeautifulSoup\n",
    "import pandas as pd\n",
    "import numpy as np\n",
    "import time\n",
    "import sqlite3"
   ]
  },
  {
   "cell_type": "code",
   "execution_count": 2,
   "metadata": {},
   "outputs": [],
   "source": [
    "con = sqlite3.connect('bgg_full.db')\n",
    "cur = con.cursor()"
   ]
  },
  {
   "cell_type": "code",
   "execution_count": null,
   "metadata": {},
   "outputs": [],
   "source": [
    "ERROR_MESSAGE = error_message = ['\\n\\tYour request for this collection has been accepted and will be processed.  Please try again later for access.\\n']"
   ]
  },
  {
   "cell_type": "code",
   "execution_count": null,
   "metadata": {},
   "outputs": [],
   "source": [
    "def get_player_count_ratings(game_id):\n",
    "    params = {'id' : game_id}\n",
    "    response = requests.get('https://www.boardgamegeek.com/xmlapi2/thing?', params)\n",
    "    s = BeautifulSoup(response.text)\n",
    "    player_votings = s.find_all('results')\n",
    "    player_counter = 0\n",
    "\n",
    "    # Lookup if a rating refers to best, rec or not rec\n",
    "    rec_li = ['Best', 'Recommended', 'Not Recommended']\n",
    "\n",
    "\n",
    "    # output used to make SQL table\n",
    "    full_rating_li = []\n",
    "\n",
    "    for val in player_votings:\n",
    "        try: \n",
    "            for idx, elem in enumerate(val.find_all('result')):\n",
    "                full_rating_li.append((game_id, val['numplayers'], rec_li[idx], elem['numvotes']))\n",
    "        except KeyError:\n",
    "            pass\n",
    "\n",
    "    return full_rating_li "
   ]
  },
  {
   "cell_type": "code",
   "execution_count": null,
   "metadata": {},
   "outputs": [],
   "source": [
    "def get_user_ratings(username):\n",
    "    error_message = ['\\n\\tYour request for this collection has been accepted and will be processed.  Please try again later for access.\\n']\n",
    "    \n",
    "    got_data = False\n",
    "    # Make API call to get XML data\n",
    "    while not got_data:\n",
    "        params = {'username' : username, 'type': 'boardgame', 'rated' : '1', 'brief' : '1', 'stats' : '1'}\n",
    "        response = requests.get('https://www.boardgamegeek.com/xmlapi2/collection?', params)\n",
    "        s = BeautifulSoup(response.text, \"xml\")\n",
    "        \n",
    "        try:\n",
    "            s.find('message').contents\n",
    "        except AttributeError:\n",
    "            got_data = True\n",
    "        finally:\n",
    "            time.sleep(1)\n",
    "    \n",
    "    # Initialize dataframe\n",
    "    rating_df = pd.DataFrame(columns = ['id', 'rating'])\n",
    "\n",
    "    # Loop through and output ratings to a dataframe\n",
    "    for i in s.find_all('item'):\n",
    "        game_id = i['objectid']\n",
    "        \n",
    "        # Make a soup out of the item info to extract rating\n",
    "        inner_soup = BeautifulSoup(str(i))\n",
    "        rv = inner_soup.find('stats')\n",
    "        inner_soup2 = BeautifulSoup(str(rv))\n",
    "        rating = inner_soup2.find('rating')\n",
    "        rating = float(rating['value'])\n",
    "        \n",
    "        # Append rating to df\n",
    "        temp_df = pd.DataFrame([[game_id,rating]], columns = ['id', 'rating'])\n",
    "        rating_df = rating_df.append(temp_df)\n",
    "    \n",
    "    rating_df['index'] = username\n",
    "    rating_df.rename({'index' :'username'}, inplace=True)\n",
    "    \n",
    "    return rating_df"
   ]
  },
  {
   "cell_type": "code",
   "execution_count": null,
   "metadata": {},
   "outputs": [],
   "source": [
    "con = sqlite3.connect('bgg.db')\n",
    "cur = con.cursor()"
   ]
  },
  {
   "cell_type": "markdown",
   "metadata": {},
   "source": [
    "# Get Player Counts"
   ]
  },
  {
   "cell_type": "code",
   "execution_count": null,
   "metadata": {},
   "outputs": [],
   "source": [
    "# Get list of top 1000 games from SQL table\n",
    "game_li = []\n",
    "\n",
    "results=cur.execute(\"select id FROM TOP_GAMES_FULL\")\n",
    "results=results.fetchall()\n",
    "\n",
    "for num in results:\n",
    "    game_li.append(num[0])"
   ]
  },
  {
   "cell_type": "code",
   "execution_count": null,
   "metadata": {},
   "outputs": [],
   "source": [
    "# For each game, get the min and max player count:\n",
    "min_max_player_li = []\n",
    "\n",
    "i = 0\n",
    "while i < len(game_li):\n",
    "    game_id = game_li[i]\n",
    "    params = {'id' : game_id,'stats' :'1'}\n",
    "    response = requests.get('https://www.boardgamegeek.com/xmlapi2/thing?', params)\n",
    "    soup = BeautifulSoup(response.text, \"xml\")\n",
    "\n",
    "    try: \n",
    "        min_play = soup.find('minplayers')['value']\n",
    "        max_play = soup.find('maxplayers')['value']\n",
    "        i += 1\n",
    "    except TypeError:\n",
    "        # If it fails, we need to wait so we can use the API gain\n",
    "        time.sleep(15)\n",
    "    \n",
    "    min_max_player_li.append([game_id, min_play, max_play])"
   ]
  },
  {
   "cell_type": "code",
   "execution_count": null,
   "metadata": {},
   "outputs": [],
   "source": [
    "# Create table\n",
    "cur.execute(''' CREATE TABLE BGG_PLAYER_COUNTS\n",
    "               (id text, min_players text, max_players text)''')"
   ]
  },
  {
   "cell_type": "code",
   "execution_count": null,
   "metadata": {},
   "outputs": [],
   "source": [
    "# Remove duplicates from API\n",
    "player_li_df = pd.DataFrame(min_max_player_li, columns = ['GameId','MinPlayers','MaxPlayers'])\n",
    "player_li_df.drop_duplicates(subset = 'GameId', keep='first', inplace=True)\n",
    "player_li_df.reset_index(inplace=True)\n",
    "player_li_df.shape"
   ]
  },
  {
   "cell_type": "code",
   "execution_count": null,
   "metadata": {},
   "outputs": [],
   "source": [
    "# Convert dataframe to tuple\n",
    "df = player_li_df\n",
    "tuple_li = []\n",
    "for i in range(len(df)):\n",
    "    tuple_ = str(df.loc[i, 'GameId']), df.loc[i, 'MinPlayers'], str(df.loc[i, 'MaxPlayers'])\n",
    "    tuple_li.append(tuple_)"
   ]
  },
  {
   "cell_type": "code",
   "execution_count": null,
   "metadata": {},
   "outputs": [],
   "source": [
    "# Enter tuple into SQL table\n",
    "cur.executemany(\"insert into BGG_PLAYER_COUNTS values (?, ?, ?)\", tuple_li)"
   ]
  },
  {
   "cell_type": "code",
   "execution_count": null,
   "metadata": {},
   "outputs": [],
   "source": [
    "con.commit()"
   ]
  },
  {
   "cell_type": "markdown",
   "metadata": {},
   "source": [
    "# Obtain game categories and mechanism"
   ]
  },
  {
   "cell_type": "code",
   "execution_count": null,
   "metadata": {
    "scrolled": true
   },
   "outputs": [],
   "source": [
    "category_li, mechanic_li = [],[]\n",
    "loop_len = len(game_li)\n",
    "\n",
    "i = 0\n",
    "while i < loop_len:\n",
    "    game_id = game_li[i]\n",
    "    params = {'id' : game_id}\n",
    "    response = requests.get('https://www.boardgamegeek.com/xmlapi2/thing?', params)\n",
    "    soup = BeautifulSoup(response.text, 'xml')\n",
    "    info_ = soup.find_all('link')\n",
    "    \n",
    "    try:\n",
    "        if info_ == []:\n",
    "            raise TypeError\n",
    "        for x in info_:\n",
    "            if x['type'] == 'boardgamecategory':\n",
    "                category_li.append((game_id, x['value']))\n",
    "            elif x['type'] == 'boardgamemechanic':\n",
    "                mechanic_li.append((game_id, x['value']))\n",
    "        i += 1 # increment the loop\n",
    "        print(i)\n",
    "    except TypeError:  # occurs when API times out\n",
    "        time.sleep(10) # wait ten seconds so we can run the API again"
   ]
  },
  {
   "cell_type": "code",
   "execution_count": null,
   "metadata": {},
   "outputs": [],
   "source": [
    "li__ = [elem[0] for elem in mechanic_li]"
   ]
  },
  {
   "cell_type": "code",
   "execution_count": null,
   "metadata": {},
   "outputs": [],
   "source": [
    "# Create table\n",
    "cur.execute(''' CREATE TABLE BGG_CATEGORIES\n",
    "               (id text, category text);\n",
    "               ''')\n",
    "\n",
    "cur.execute('''CREATE TABLE BGG_MECHANICS\n",
    "               (id text, mechanic text);''')"
   ]
  },
  {
   "cell_type": "code",
   "execution_count": null,
   "metadata": {},
   "outputs": [],
   "source": [
    "# Enter tuple into SQL table\n",
    "cur.executemany(\"insert into BGG_CATEGORIES values (?, ?)\", category_li)\n",
    "cur.executemany(\"insert into BGG_MECHANICS values (?, ?)\", mechanic_li)"
   ]
  },
  {
   "cell_type": "code",
   "execution_count": null,
   "metadata": {},
   "outputs": [],
   "source": [
    "con.commit()"
   ]
  },
  {
   "cell_type": "markdown",
   "metadata": {},
   "source": [
    "# Key Game Stats"
   ]
  },
  {
   "cell_type": "code",
   "execution_count": null,
   "metadata": {},
   "outputs": [],
   "source": [
    "def get_game_stats(game):\n",
    "    params = {'id' : game,'stats' :'1'}\n",
    "    response = requests.get('https://www.boardgamegeek.com/xmlapi2/thing?', params)\n",
    "    s = BeautifulSoup(response.text, \"xml\")\n",
    "    all_stats = s.find('ratings')\n",
    "    avg_rating = all_stats.find('average')['value']\n",
    "    avg_bayes_rating = all_stats.find('bayesaverage')['value']\n",
    "    std = all_stats.find('stddev')['value']\n",
    "    ratings = all_stats.find('usersrated')['value']\n",
    "    weight = all_stats.find('averageweight')['value']\n",
    "    \n",
    "    return((game, avg_rating, avg_bayes_rating, std, ratings, weight))"
   ]
  },
  {
   "cell_type": "code",
   "execution_count": null,
   "metadata": {},
   "outputs": [],
   "source": [
    "game_rating_li = []\n",
    "for idx, game in enumerate(game_li):\n",
    "    got_data = False\n",
    "    \n",
    "    while not got_data:\n",
    "        try:\n",
    "            temp = get_game_stats(game)\n",
    "            got_data = True\n",
    "        except AttributeError:\n",
    "            time.sleep(10)\n",
    "    # print(idx) \n",
    "    game_rating_li.append(temp)"
   ]
  },
  {
   "cell_type": "code",
   "execution_count": null,
   "metadata": {},
   "outputs": [],
   "source": [
    "cur.execute('''CREATE TABLE BGG_GAME_STATS\n",
    "               (id text, avg_rating text, avg_bayes_rating text, std text, ratings text, weight text);''')"
   ]
  },
  {
   "cell_type": "code",
   "execution_count": null,
   "metadata": {},
   "outputs": [],
   "source": [
    "cur.executemany(\"insert into BGG_GAME_STATS values (?, ?, ?, ?, ?, ?)\", game_rating_li)"
   ]
  },
  {
   "cell_type": "code",
   "execution_count": null,
   "metadata": {},
   "outputs": [],
   "source": [
    "con.commit()"
   ]
  },
  {
   "cell_type": "markdown",
   "metadata": {},
   "source": [
    "# Num of Players Voting"
   ]
  },
  {
   "cell_type": "code",
   "execution_count": null,
   "metadata": {},
   "outputs": [],
   "source": [
    "full_player_rating_li = []\n",
    "for g in game_li:\n",
    "    current_li = get_player_count_ratings(g)\n",
    "    if current_li == []:\n",
    "        time.sleep(10)\n",
    "        current_li = get_player_count_ratings(g)\n",
    "    full_player_rating_li.extend(current_li)"
   ]
  },
  {
   "cell_type": "code",
   "execution_count": null,
   "metadata": {},
   "outputs": [],
   "source": [
    "cur.execute(''' CREATE TABLE BGG_PLAYER_RATINGS\n",
    "               (id text, player_count text, player_recommendation text, votes text);\n",
    "               ''')"
   ]
  },
  {
   "cell_type": "code",
   "execution_count": null,
   "metadata": {},
   "outputs": [],
   "source": [
    "cur.executemany(\"insert into BGG_PLAYER_RATINGS values (?, ?, ?, ?)\", full_player_rating_li)"
   ]
  },
  {
   "cell_type": "code",
   "execution_count": null,
   "metadata": {},
   "outputs": [],
   "source": [
    "con.commit()"
   ]
  },
  {
   "cell_type": "markdown",
   "metadata": {},
   "source": [
    "# Join Tables"
   ]
  },
  {
   "cell_type": "code",
   "execution_count": null,
   "metadata": {},
   "outputs": [],
   "source": [
    "cur.execute('''CREATE TABLE TOP_GAMES_FULL\n",
    "           \n",
    "           AS\n",
    "           \n",
    "        SELECT t1.id, title, year, t2.min_players, t2.max_players\n",
    "           ,avg_rating, avg_bayes_rating, std, ratings, weight\n",
    "        FROM TOP_BGG_GAMES t1\n",
    "            LEFT JOIN BGG_PLAYER_COUNTS t2\n",
    "                ON t1.id = t2.id\n",
    "            LEFT JOIN  BGG_GAME_STATS t3\n",
    "                ON t1.id = t3.id\n",
    "           \n",
    "           ''')"
   ]
  },
  {
   "cell_type": "code",
   "execution_count": null,
   "metadata": {},
   "outputs": [],
   "source": [
    "con.commit()"
   ]
  },
  {
   "cell_type": "code",
   "execution_count": null,
   "metadata": {},
   "outputs": [],
   "source": [
    "results = cur.execute('''\n",
    "        SELECT t1.id, title, max_players\n",
    "           ,avg_rating, std\n",
    "        FROM TOP_GAMES_FULL t1\n",
    "           \n",
    "           ''')"
   ]
  },
  {
   "cell_type": "code",
   "execution_count": null,
   "metadata": {},
   "outputs": [],
   "source": [
    "result_li = [result for result in results]"
   ]
  },
  {
   "cell_type": "code",
   "execution_count": null,
   "metadata": {},
   "outputs": [],
   "source": [
    "df = pd.DataFrame(data=result_li, columns=['id', 'title', 'max_players', 'score', 'std_score'])"
   ]
  },
  {
   "cell_type": "code",
   "execution_count": null,
   "metadata": {},
   "outputs": [],
   "source": [
    "# convert data types\n",
    "cols = ['max_players', 'score', 'std_score']\n",
    "for col in cols:\n",
    "    df[col] = df[col].astype('float')\n",
    "df.dtypes"
   ]
  },
  {
   "cell_type": "code",
   "execution_count": null,
   "metadata": {},
   "outputs": [],
   "source": [
    "# solo games \n",
    "df[df.max_players == 1]"
   ]
  },
  {
   "cell_type": "code",
   "execution_count": null,
   "metadata": {},
   "outputs": [],
   "source": [
    "# duel games\n",
    "df[df.max_players == 2]"
   ]
  },
  {
   "cell_type": "code",
   "execution_count": null,
   "metadata": {},
   "outputs": [],
   "source": [
    "# Large Group games\n",
    "df[df.max_players > 5]"
   ]
  },
  {
   "cell_type": "code",
   "execution_count": null,
   "metadata": {},
   "outputs": [],
   "source": [
    "#What's the largest?\n",
    "print(df.max_players.max())\n",
    "\n",
    "# Which games?\n",
    "df[df['max_players'] == 100]"
   ]
  },
  {
   "cell_type": "code",
   "execution_count": null,
   "metadata": {},
   "outputs": [],
   "source": [
    "# What's the most divisive game?\n",
    "df[df['std_score']==df.std_score.max()]"
   ]
  },
  {
   "cell_type": "code",
   "execution_count": null,
   "metadata": {},
   "outputs": [],
   "source": [
    "# The least divisive?\n",
    "df[df['std_score']==df.std_score.min()]"
   ]
  },
  {
   "cell_type": "code",
   "execution_count": null,
   "metadata": {},
   "outputs": [],
   "source": [
    "params = {'id' : 13,'stats' :'1'}\n",
    "response = requests.get('https://www.boardgamegeek.com/xmlapi2/thing?', params)\n",
    "s = BeautifulSoup(response.text, \"xml\")\n",
    "s.find('playingtime')"
   ]
  },
  {
   "cell_type": "markdown",
   "metadata": {},
   "source": [
    "# Coda: Adding Play time"
   ]
  },
  {
   "cell_type": "markdown",
   "metadata": {},
   "source": [
    "Initially, I felt that the previous table was complete. I decided to add playtime as well. I should have added it before, though this gives me the chance to test the Alter table functions"
   ]
  },
  {
   "cell_type": "code",
   "execution_count": null,
   "metadata": {},
   "outputs": [],
   "source": [
    "i = 0\n",
    "playtime_li = []\n",
    "while i < len(game_li):\n",
    "    game_id = game_li[i]\n",
    "    params = {'id' : game_id,'stats' :'1'}\n",
    "    try:\n",
    "        response = requests.get('https://www.boardgamegeek.com/xmlapi2/thing?', params)\n",
    "        s = BeautifulSoup(response.text, \"xml\")\n",
    "        play_time = s.find('playingtime')['value']\n",
    "        playtime_li.append((game_id, play_time))\n",
    "        i += 1\n",
    "    except TypeError:\n",
    "        time.sleep(20)"
   ]
  },
  {
   "cell_type": "code",
   "execution_count": null,
   "metadata": {},
   "outputs": [],
   "source": [
    "cur.execute(''' CREATE TABLE BGG_PLAY_TIME\n",
    "               (id text, play_time text);\n",
    "               ''')\n",
    "\n",
    "cur.executemany(\"insert into BGG_PLAY_TIME values (?, ?)\", playtime_li)"
   ]
  },
  {
   "cell_type": "code",
   "execution_count": null,
   "metadata": {},
   "outputs": [],
   "source": [
    "cur.execute('''  ALTER TABLE TOP_GAMES_FULL\n",
    "     ADD COLUMNS play_time text ''')"
   ]
  },
  {
   "cell_type": "code",
   "execution_count": null,
   "metadata": {},
   "outputs": [],
   "source": [
    "cur.execute(''' DELETE  FROM TOP_GAMES_FULL  WHERE TRUE''')"
   ]
  },
  {
   "cell_type": "code",
   "execution_count": null,
   "metadata": {},
   "outputs": [],
   "source": [
    "cur.execute('''INSERT INTO TOP_GAMES_FULL\n",
    "           \n",
    "        SELECT t1.id, title, year, t2.min_players, t2.max_players\n",
    "           ,avg_rating, avg_bayes_rating, std, ratings, weight, t4.play_time\n",
    "        FROM TOP_BGG_GAMES t1\n",
    "            LEFT JOIN BGG_PLAYER_COUNTS t2\n",
    "                ON t1.id = t2.id\n",
    "            LEFT JOIN  BGG_GAME_STATS t3\n",
    "                ON t1.id = t3.id\n",
    "            LEFT JOIN BGG_PLAY_TIME t4\n",
    "                ON t1.id = t4.id''')"
   ]
  },
  {
   "cell_type": "code",
   "execution_count": null,
   "metadata": {},
   "outputs": [],
   "source": [
    "results = cur.execute('PRAGMA table_info(TOP_GAMES_FULL);')\n",
    "results = results.fetchall()\n",
    "result_li = [r for r in results]\n",
    "result_li"
   ]
  },
  {
   "cell_type": "code",
   "execution_count": null,
   "metadata": {},
   "outputs": [],
   "source": [
    "cur.execute('ALTER TABLE TOP_GAMES_FULL RENAME COLUMN COLUMNS TO play_time;')"
   ]
  },
  {
   "cell_type": "code",
   "execution_count": null,
   "metadata": {},
   "outputs": [],
   "source": [
    "con.commit()"
   ]
  },
  {
   "cell_type": "markdown",
   "metadata": {},
   "source": [
    "Playtime added!"
   ]
  },
  {
   "cell_type": "markdown",
   "metadata": {},
   "source": [
    "# Load Game Ratings"
   ]
  },
  {
   "cell_type": "code",
   "execution_count": 12,
   "metadata": {},
   "outputs": [],
   "source": [
    "# Get list of top 1000 games from SQL table\n",
    "game_li = []\n",
    "\n",
    "results=cur.execute('''select id FROM TOP_GAMES_FULL\n",
    "                    \n",
    "                    WHERE 1=1\n",
    "                        AND id >= 102652\n",
    "                    \n",
    "                    ORDER BY 1 ASC\n",
    "                    ''')\n",
    "results=results.fetchall()\n",
    "\n",
    "for num in results:\n",
    "    game_li.append(num[0])\n",
    "    game_li.sort()"
   ]
  },
  {
   "cell_type": "code",
   "execution_count": 62,
   "metadata": {},
   "outputs": [
    {
     "data": {
      "text/plain": [
       "<sqlite3.Cursor at 0x12dddce2490>"
      ]
     },
     "execution_count": 62,
     "metadata": {},
     "output_type": "execute_result"
    }
   ],
   "source": [
    "# cur.execute(''' CREATE TABLE BGG_GAME_RATINGS\n",
    "#                (game_id text, username text, rating);\n",
    "#                ''')"
   ]
  },
  {
   "cell_type": "code",
   "execution_count": 63,
   "metadata": {},
   "outputs": [],
   "source": [
    "con.commit()"
   ]
  },
  {
   "cell_type": "code",
   "execution_count": null,
   "metadata": {},
   "outputs": [
    {
     "name": "stdout",
     "output_type": "stream",
     "text": [
      "game: 102652 page: 10\n",
      "game: 102652 page: 20\n",
      "game: 102652 page: 30\n",
      "game: 102652 page: 40\n",
      "game: 102652 page: 50\n",
      "game: 102652 page: 60\n",
      "game: 102652 page: 70\n",
      "game: 102652 page: 80\n",
      "game: 102652 page: 90\n",
      "game: 102652 page: 100\n",
      "game: 102652 page: 110\n",
      "game: 102652 page: 120\n",
      "game: 102652 page: 130\n",
      "game: 102652 page: 140\n",
      "game: 102652 page: 150\n",
      "completed coments for game: 102652\n",
      "game: 102680 page: 10\n",
      "game: 102680 page: 20\n",
      "game: 102680 page: 30\n",
      "game: 102680 page: 40\n",
      "game: 102680 page: 50\n",
      "game: 102680 page: 60\n",
      "game: 102680 page: 70\n",
      "game: 102680 page: 80\n",
      "game: 102680 page: 90\n",
      "game: 102680 page: 100\n",
      "game: 102680 page: 110\n",
      "game: 102680 page: 120\n",
      "game: 102680 page: 130\n",
      "game: 102680 page: 140\n",
      "game: 102680 page: 150\n",
      "completed coments for game: 102680\n",
      "game: 102794 page: 10\n",
      "game: 102794 page: 20\n",
      "game: 102794 page: 30\n",
      "game: 102794 page: 40\n",
      "game: 102794 page: 50\n",
      "game: 102794 page: 60\n",
      "game: 102794 page: 70\n",
      "game: 102794 page: 80\n",
      "game: 102794 page: 90\n",
      "game: 102794 page: 100\n",
      "game: 102794 page: 110\n",
      "game: 102794 page: 120\n",
      "game: 102794 page: 130\n",
      "game: 102794 page: 140\n",
      "game: 102794 page: 150\n",
      "game: 102794 page: 160\n",
      "game: 102794 page: 170\n",
      "game: 102794 page: 180\n",
      "game: 102794 page: 190\n",
      "game: 102794 page: 200\n",
      "game: 102794 page: 210\n",
      "game: 102794 page: 220\n",
      "game: 102794 page: 230\n",
      "game: 102794 page: 240\n",
      "game: 102794 page: 250\n",
      "game: 102794 page: 260\n",
      "game: 102794 page: 270\n",
      "game: 102794 page: 280\n",
      "game: 102794 page: 290\n",
      "completed coments for game: 102794\n",
      "game: 103343 page: 10\n",
      "game: 103343 page: 20\n",
      "game: 103343 page: 30\n",
      "game: 103343 page: 40\n",
      "game: 103343 page: 50\n",
      "game: 103343 page: 60\n",
      "game: 103343 page: 70\n",
      "game: 103343 page: 80\n",
      "game: 103343 page: 90\n",
      "game: 103343 page: 100\n",
      "game: 103343 page: 110\n",
      "game: 103343 page: 120\n",
      "game: 103343 page: 130\n",
      "game: 103343 page: 140\n",
      "game: 103343 page: 150\n",
      "game: 103343 page: 160\n",
      "game: 103343 page: 170\n",
      "game: 103343 page: 180\n",
      "game: 103343 page: 190\n",
      "game: 103343 page: 200\n",
      "game: 103343 page: 210\n",
      "game: 103343 page: 220\n",
      "game: 103343 page: 230\n",
      "game: 103343 page: 240\n",
      "game: 103343 page: 250\n",
      "game: 103343 page: 260\n",
      "game: 103343 page: 270\n",
      "game: 103343 page: 280\n",
      "game: 103343 page: 290\n",
      "game: 103343 page: 300\n",
      "completed coments for game: 103343\n",
      "game: 1035 page: 10\n",
      "game: 1035 page: 20\n",
      "game: 1035 page: 30\n",
      "completed coments for game: 1035\n",
      "game: 103885 page: 10\n",
      "game: 103885 page: 20\n",
      "game: 103885 page: 30\n",
      "game: 103885 page: 40\n",
      "game: 103885 page: 50\n",
      "game: 103885 page: 60\n",
      "game: 103885 page: 70\n",
      "game: 103885 page: 80\n",
      "game: 103885 page: 90\n",
      "game: 103885 page: 100\n",
      "game: 103885 page: 110\n",
      "game: 103885 page: 120\n",
      "game: 103885 page: 130\n",
      "game: 103885 page: 140\n",
      "game: 103885 page: 150\n",
      "game: 103885 page: 160\n",
      "game: 103885 page: 170\n",
      "game: 103885 page: 180\n",
      "game: 103885 page: 190\n",
      "game: 103885 page: 200\n",
      "game: 103885 page: 210\n",
      "game: 103885 page: 220\n",
      "game: 103885 page: 230\n",
      "game: 103885 page: 240\n",
      "completed coments for game: 103885\n",
      "game: 103886 page: 10\n",
      "game: 103886 page: 20\n",
      "game: 103886 page: 30\n",
      "game: 103886 page: 40\n",
      "game: 103886 page: 50\n",
      "completed coments for game: 103886\n",
      "game: 104006 page: 10\n",
      "game: 104006 page: 20\n",
      "game: 104006 page: 30\n",
      "game: 104006 page: 40\n",
      "game: 104006 page: 50\n",
      "game: 104006 page: 60\n",
      "game: 104006 page: 70\n",
      "game: 104006 page: 80\n",
      "game: 104006 page: 90\n",
      "game: 104006 page: 100\n",
      "game: 104006 page: 110\n",
      "game: 104006 page: 120\n",
      "game: 104006 page: 130\n",
      "game: 104006 page: 140\n",
      "game: 104006 page: 150\n",
      "game: 104006 page: 160\n",
      "game: 104006 page: 170\n",
      "game: 104006 page: 180\n",
      "game: 104006 page: 190\n",
      "game: 104006 page: 200\n",
      "game: 104006 page: 210\n",
      "completed coments for game: 104006\n",
      "game: 104020 page: 10\n",
      "game: 104020 page: 20\n",
      "completed coments for game: 104020\n",
      "game: 1041 page: 10\n",
      "game: 1041 page: 20\n",
      "game: 1041 page: 30\n",
      "game: 1041 page: 40\n",
      "completed coments for game: 1041\n",
      "game: 104162 page: 10\n",
      "game: 104162 page: 20\n",
      "game: 104162 page: 30\n",
      "game: 104162 page: 40\n",
      "game: 104162 page: 50\n",
      "game: 104162 page: 60\n",
      "game: 104162 page: 70\n",
      "game: 104162 page: 80\n",
      "game: 104162 page: 90\n",
      "game: 104162 page: 100\n",
      "game: 104162 page: 110\n",
      "game: 104162 page: 120\n",
      "game: 104162 page: 130\n",
      "game: 104162 page: 140\n",
      "game: 104162 page: 150\n",
      "game: 104162 page: 160\n",
      "game: 104162 page: 170\n",
      "game: 104162 page: 180\n",
      "game: 104162 page: 190\n",
      "game: 104162 page: 200\n",
      "game: 104162 page: 210\n",
      "game: 104162 page: 220\n",
      "game: 104162 page: 230\n",
      "completed coments for game: 104162\n",
      "game: 104363 page: 10\n"
     ]
    }
   ],
   "source": [
    "# game_id = game_li[i]\n",
    "for game in game_li:\n",
    "    i = 1\n",
    "    comment_li = []\n",
    "    while True:\n",
    "        params = {'id' : game, 'ratingcomments': '1', 'page' : i, 'pagesize':100}\n",
    "        response = requests.get('https://www.boardgamegeek.com/xmlapi2/thing?', params)\n",
    "        soup = BeautifulSoup(response.text, \"xml\")\n",
    "        comments = soup.find_all(\"comment\")\n",
    "        if len(comments) == 0:\n",
    "            break\n",
    "        else:\n",
    "            pass # print(i, ':', len(comments))\n",
    "        if i % 10 == 0:\n",
    "            print('game:', game, 'page:', i)\n",
    "            time.sleep(30)\n",
    "        for com in comments:\n",
    "            temp_tuple = (game, com['username'], com['rating'])\n",
    "            comment_li.append(temp_tuple)\n",
    "        i += 1\n",
    "    print('completed coments for game:', game)\n",
    "    cur.executemany(\"insert into BGG_GAME_RATINGS values (?, ?, ?)\", comment_li)\n",
    "    con.commit()"
   ]
  },
  {
   "cell_type": "code",
   "execution_count": 11,
   "metadata": {},
   "outputs": [
    {
     "data": {
      "text/plain": [
       "<sqlite3.Cursor at 0x1ed7f686490>"
      ]
     },
     "execution_count": 11,
     "metadata": {},
     "output_type": "execute_result"
    }
   ],
   "source": [
    "#cur.execute('''Delete from BGG_GAME_RATINGS WHERE game_id >= 102652''')"
   ]
  },
  {
   "cell_type": "markdown",
   "metadata": {},
   "source": [
    "# Scratch Code"
   ]
  },
  {
   "cell_type": "code",
   "execution_count": null,
   "metadata": {},
   "outputs": [],
   "source": [
    "# We look at certain users from the comments and see what other games they might like\n",
    "params = {'name' : 'agentzen', 'hot' : '1', 'top' : '1', 'domain' : 'boardgame',}\n",
    "response = requests.get('https://www.boardgamegeek.com/xmlapi2/user?', params)\n",
    "s = BeautifulSoup(response.text, \"xml\")\n",
    "s"
   ]
  },
  {
   "cell_type": "code",
   "execution_count": null,
   "metadata": {},
   "outputs": [],
   "source": [
    "# We look at certain users from the comments and see what other games they might like\n",
    "params = {'username' : 'agentzen', 'type': 'boardgame', 'rated' : '1', 'brief' : '1', 'stats' : '1'}\n",
    "response = requests.get('https://www.boardgamegeek.com/xmlapi2/collection?', params)\n",
    "s = BeautifulSoup(response.text, \"xml\")\n",
    "s"
   ]
  },
  {
   "cell_type": "code",
   "execution_count": null,
   "metadata": {},
   "outputs": [],
   "source": [
    "# Comments\n",
    "comment_li = []\n",
    "\n",
    "# Obtaining ten pages of user comments/ratings\n",
    "for i in range(1,11):\n",
    "    params = {'id' : '13', 'ratingcomments' : '1', 'comments' : '1', 'pagesize' : '100', 'page':[3,4], 'stats' :str(i)}\n",
    "    response = requests.get('https://www.boardgamegeek.com/xmlapi2/thing?', params)\n",
    "    comments = soup.find_all(\"comment\")\n",
    "    for com in comments:\n",
    "        comment_li.append(com)"
   ]
  },
  {
   "cell_type": "code",
   "execution_count": null,
   "metadata": {},
   "outputs": [],
   "source": [
    "test_df = get_user_ratings('agent_t_bib')\n",
    "test_df"
   ]
  }
 ],
 "metadata": {
  "kernelspec": {
   "display_name": "Python 3",
   "language": "python",
   "name": "python3"
  },
  "language_info": {
   "codemirror_mode": {
    "name": "ipython",
    "version": 3
   },
   "file_extension": ".py",
   "mimetype": "text/x-python",
   "name": "python",
   "nbconvert_exporter": "python",
   "pygments_lexer": "ipython3",
   "version": "3.7.6"
  }
 },
 "nbformat": 4,
 "nbformat_minor": 4
}
