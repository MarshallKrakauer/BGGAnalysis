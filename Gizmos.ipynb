{
 "cells": [
  {
   "cell_type": "code",
   "execution_count": 2,
   "metadata": {},
   "outputs": [],
   "source": [
    "import requests\n",
    "from lxml import etree\n",
    "from bs4 import BeautifulSoup\n",
    "import pandas as pd\n",
    "import numpy as np\n",
    "import time\n",
    "import sqlite3\n",
    "import seaborn as sns\n",
    "import matplotlib.pyplot as plt\n",
    "import re\n",
    "import unicodedata\n",
    "import warnings\n",
    "import copy\n",
    "import statsmodels.formula.api as smf"
   ]
  },
  {
   "cell_type": "code",
   "execution_count": 3,
   "metadata": {},
   "outputs": [],
   "source": [
    "sns.set(rc={'figure.figsize':(9,7)})"
   ]
  },
  {
   "cell_type": "code",
   "execution_count": 4,
   "metadata": {},
   "outputs": [
    {
     "data": {
      "text/plain": [
       "True"
      ]
     },
     "execution_count": 4,
     "metadata": {},
     "output_type": "execute_result"
    }
   ],
   "source": [
    "import nltk\n",
    "nltk.download([\"names\", \"stopwords\",\"averaged_perceptron_tagger\",\n",
    "               \"punkt\", \"vader_lexicon\", \"wordnet\"], quiet=True)"
   ]
  },
  {
   "cell_type": "code",
   "execution_count": 5,
   "metadata": {},
   "outputs": [],
   "source": [
    "from pandas.core.common import SettingWithCopyWarning\n",
    "warnings.simplefilter(action=\"ignore\", category=SettingWithCopyWarning)"
   ]
  },
  {
   "cell_type": "code",
   "execution_count": 11,
   "metadata": {},
   "outputs": [],
   "source": [
    "df = pd.read_csv('gizmos_reviews.csv')"
   ]
  },
  {
   "cell_type": "code",
   "execution_count": 37,
   "metadata": {},
   "outputs": [],
   "source": [
    "df = df[~pd.isna(df['description'])]\n",
    "df['description'] = df['description'].apply(lambda x: x.lower())"
   ]
  },
  {
   "cell_type": "code",
   "execution_count": 12,
   "metadata": {},
   "outputs": [],
   "source": [
    "def make_lemma(text):\n",
    "  \"\"\"\n",
    "  Function to lemmatize and clean text\n",
    "  \n",
    "  From: https://towardsdatascience.com/from-dataframe-to-n-grams-e34e29df3460\n",
    "  \"\"\"\n",
    "  word_lemma = nltk.stem.WordNetLemmatizer()\n",
    "  stopwords_ = nltk.corpus.stopwords.words('english')\n",
    "  stopwords_.extend(['gizmos', 'feel', 'like', 'game', 'board', 'dont',\n",
    "                     'bit', 'get', 'really', 'much', 'also', 'well', 'lot'])\n",
    "  text = (unicodedata.normalize('NFKD', text)\n",
    "    .encode('ascii', 'ignore')\n",
    "    .decode('utf-8', 'ignore')\n",
    "    .lower())\n",
    "  words = re.sub(r'[^\\w\\s]', '', text).split() \n",
    "  word_li = [word_lemma.lemmatize(word) for word in words if word not in stopwords_]\n",
    "\n",
    "  # One last move: will replace building with builder, since there's no distinction in this case\n",
    "  # This is also a very commong word in the corpus\n",
    "  word_li = ['builder' if word == 'building' else word for word in word_li] \n",
    "\n",
    "  # For some reason, stopwords isn't removing this one. Doing so manually\n",
    "  if 'game' in word_li:\n",
    "    word_li.remove('game')\n",
    "\n",
    "  return word_li"
   ]
  },
  {
   "cell_type": "code",
   "execution_count": 53,
   "metadata": {},
   "outputs": [],
   "source": [
    "def dataframe_to_wordlist(df, word_col):\n",
    "    all_text = ''\n",
    "\n",
    "    for i in range(len(df)):\n",
    "        new_text = df.iloc[i, word_col]\n",
    "        #print(new_text)\n",
    "        all_text += ' ' + new_text\n",
    "\n",
    "    all_text = all_text.encode(\"ascii\", errors=\"ignore\").decode()\n",
    "    for symbol in ['!', ',','.','_', '(', ')']:\n",
    "        all_text = all_text.replace(symbol, ' ')\n",
    "    \n",
    "    all_text = all_text.lower()\n",
    "    return all_text.split(' ')"
   ]
  },
  {
   "cell_type": "code",
   "execution_count": 28,
   "metadata": {},
   "outputs": [],
   "source": [
    "from nltk.tokenize import RegexpTokenizer\n",
    "\n",
    "tokenizer = RegexpTokenizer(r'\\w+')"
   ]
  },
  {
   "cell_type": "code",
   "execution_count": 188,
   "metadata": {},
   "outputs": [],
   "source": [
    "df['word_col'] = df['description'].apply(lambda x: make_lemma(x))"
   ]
  },
  {
   "cell_type": "code",
   "execution_count": 189,
   "metadata": {},
   "outputs": [
    {
     "data": {
      "text/html": [
       "<div>\n",
       "<style scoped>\n",
       "    .dataframe tbody tr th:only-of-type {\n",
       "        vertical-align: middle;\n",
       "    }\n",
       "\n",
       "    .dataframe tbody tr th {\n",
       "        vertical-align: top;\n",
       "    }\n",
       "\n",
       "    .dataframe thead th {\n",
       "        text-align: right;\n",
       "    }\n",
       "</style>\n",
       "<table border=\"1\" class=\"dataframe\">\n",
       "  <thead>\n",
       "    <tr style=\"text-align: right;\">\n",
       "      <th></th>\n",
       "      <th>game_id</th>\n",
       "      <th>rating</th>\n",
       "      <th>user</th>\n",
       "      <th>description</th>\n",
       "      <th>word_col</th>\n",
       "    </tr>\n",
       "  </thead>\n",
       "  <tbody>\n",
       "    <tr>\n",
       "      <th>0</th>\n",
       "      <td>246192</td>\n",
       "      <td>6.0</td>\n",
       "      <td>3davoli</td>\n",
       "      <td>for sale</td>\n",
       "      <td>[sale]</td>\n",
       "    </tr>\n",
       "    <tr>\n",
       "      <th>1</th>\n",
       "      <td>246192</td>\n",
       "      <td>8.0</td>\n",
       "      <td>4ndrewcol3</td>\n",
       "      <td>my favorite shorter game</td>\n",
       "      <td>[favorite, shorter]</td>\n",
       "    </tr>\n",
       "    <tr>\n",
       "      <th>2</th>\n",
       "      <td>246192</td>\n",
       "      <td>6.0</td>\n",
       "      <td>Abdul</td>\n",
       "      <td>decent but forgettable. i would have expected ...</td>\n",
       "      <td>[decent, forgettable, would, expected, least, ...</td>\n",
       "    </tr>\n",
       "    <tr>\n",
       "      <th>3</th>\n",
       "      <td>246192</td>\n",
       "      <td>10.0</td>\n",
       "      <td>AbleCompany</td>\n",
       "      <td>my pick for an engine building game with just ...</td>\n",
       "      <td>[pick, engine, builder, right, kind, theming, ...</td>\n",
       "    </tr>\n",
       "    <tr>\n",
       "      <th>4</th>\n",
       "      <td>246192</td>\n",
       "      <td>7.0</td>\n",
       "      <td>Abruptdolphin</td>\n",
       "      <td>slimbo</td>\n",
       "      <td>[slimbo]</td>\n",
       "    </tr>\n",
       "    <tr>\n",
       "      <th>5</th>\n",
       "      <td>246192</td>\n",
       "      <td>7.0</td>\n",
       "      <td>Achire</td>\n",
       "      <td>light game. pretty fun with all the card combo...</td>\n",
       "      <td>[light, pretty, fun, card, combo, mechanic, ma...</td>\n",
       "    </tr>\n",
       "    <tr>\n",
       "      <th>6</th>\n",
       "      <td>246192</td>\n",
       "      <td>8.0</td>\n",
       "      <td>Acoidan85</td>\n",
       "      <td>grintxitos</td>\n",
       "      <td>[grintxitos]</td>\n",
       "    </tr>\n",
       "    <tr>\n",
       "      <th>7</th>\n",
       "      <td>246192</td>\n",
       "      <td>7.5</td>\n",
       "      <td>adamdynris</td>\n",
       "      <td>boardgamebliss dec. 2018</td>\n",
       "      <td>[boardgamebliss, dec, 2018]</td>\n",
       "    </tr>\n",
       "    <tr>\n",
       "      <th>8</th>\n",
       "      <td>246192</td>\n",
       "      <td>8.0</td>\n",
       "      <td>adamgospod</td>\n",
       "      <td>w koszulkach</td>\n",
       "      <td>[w, koszulkach]</td>\n",
       "    </tr>\n",
       "    <tr>\n",
       "      <th>9</th>\n",
       "      <td>246192</td>\n",
       "      <td>6.0</td>\n",
       "      <td>adamredwoods</td>\n",
       "      <td>1 play / 3 players (1 child)  like: engine bui...</td>\n",
       "      <td>[1, play, 3, player, 1, child, engine, builder...</td>\n",
       "    </tr>\n",
       "  </tbody>\n",
       "</table>\n",
       "</div>"
      ],
      "text/plain": [
       "   game_id  rating           user  \\\n",
       "0   246192     6.0        3davoli   \n",
       "1   246192     8.0     4ndrewcol3   \n",
       "2   246192     6.0          Abdul   \n",
       "3   246192    10.0    AbleCompany   \n",
       "4   246192     7.0  Abruptdolphin   \n",
       "5   246192     7.0         Achire   \n",
       "6   246192     8.0      Acoidan85   \n",
       "7   246192     7.5     adamdynris   \n",
       "8   246192     8.0     adamgospod   \n",
       "9   246192     6.0   adamredwoods   \n",
       "\n",
       "                                         description  \\\n",
       "0                                           for sale   \n",
       "1                           my favorite shorter game   \n",
       "2  decent but forgettable. i would have expected ...   \n",
       "3  my pick for an engine building game with just ...   \n",
       "4                                             slimbo   \n",
       "5  light game. pretty fun with all the card combo...   \n",
       "6                                        grintxitos    \n",
       "7                           boardgamebliss dec. 2018   \n",
       "8                                       w koszulkach   \n",
       "9  1 play / 3 players (1 child)  like: engine bui...   \n",
       "\n",
       "                                            word_col  \n",
       "0                                             [sale]  \n",
       "1                                [favorite, shorter]  \n",
       "2  [decent, forgettable, would, expected, least, ...  \n",
       "3  [pick, engine, builder, right, kind, theming, ...  \n",
       "4                                           [slimbo]  \n",
       "5  [light, pretty, fun, card, combo, mechanic, ma...  \n",
       "6                                       [grintxitos]  \n",
       "7                        [boardgamebliss, dec, 2018]  \n",
       "8                                    [w, koszulkach]  \n",
       "9  [1, play, 3, player, 1, child, engine, builder...  "
      ]
     },
     "execution_count": 189,
     "metadata": {},
     "output_type": "execute_result"
    }
   ],
   "source": [
    "df.head(10)"
   ]
  },
  {
   "cell_type": "code",
   "execution_count": 190,
   "metadata": {},
   "outputs": [],
   "source": [
    "backup_df = copy.deepcopy(df)"
   ]
  },
  {
   "cell_type": "code",
   "execution_count": 191,
   "metadata": {},
   "outputs": [],
   "source": [
    "full_word_str = []\n",
    "for x in range(len(df)):\n",
    "    for word in df.iloc[x,4]:\n",
    "        full_word_str.append(word)"
   ]
  },
  {
   "cell_type": "code",
   "execution_count": 197,
   "metadata": {},
   "outputs": [
    {
     "data": {
      "text/plain": [
       "100"
      ]
     },
     "execution_count": 197,
     "metadata": {},
     "output_type": "execute_result"
    }
   ],
   "source": [
    "from sklearn.feature_extraction.text import CountVectorizer\n",
    "vectorizer = CountVectorizer(min_df=3,max_features=100)\n",
    "vectorizer.fit(full_word_str)\n",
    "feature_li = vectorizer.get_feature_names()\n",
    "len(feature_li)"
   ]
  },
  {
   "cell_type": "code",
   "execution_count": 223,
   "metadata": {},
   "outputs": [],
   "source": [
    "bow_df = copy.deepcopy(df)"
   ]
  },
  {
   "cell_type": "code",
   "execution_count": 225,
   "metadata": {},
   "outputs": [],
   "source": [
    "bow_df['bow_col'] = df['word_col'].apply(lambda x: ' '.join(x))"
   ]
  },
  {
   "cell_type": "code",
   "execution_count": 226,
   "metadata": {},
   "outputs": [
    {
     "data": {
      "text/html": [
       "<div>\n",
       "<style scoped>\n",
       "    .dataframe tbody tr th:only-of-type {\n",
       "        vertical-align: middle;\n",
       "    }\n",
       "\n",
       "    .dataframe tbody tr th {\n",
       "        vertical-align: top;\n",
       "    }\n",
       "\n",
       "    .dataframe thead th {\n",
       "        text-align: right;\n",
       "    }\n",
       "</style>\n",
       "<table border=\"1\" class=\"dataframe\">\n",
       "  <thead>\n",
       "    <tr style=\"text-align: right;\">\n",
       "      <th></th>\n",
       "      <th>game_id</th>\n",
       "      <th>rating</th>\n",
       "      <th>user</th>\n",
       "      <th>description</th>\n",
       "      <th>word_col</th>\n",
       "      <th>bow_col</th>\n",
       "    </tr>\n",
       "  </thead>\n",
       "  <tbody>\n",
       "    <tr>\n",
       "      <th>0</th>\n",
       "      <td>246192</td>\n",
       "      <td>6.0</td>\n",
       "      <td>3davoli</td>\n",
       "      <td>for sale</td>\n",
       "      <td>[sale]</td>\n",
       "      <td>sale</td>\n",
       "    </tr>\n",
       "    <tr>\n",
       "      <th>1</th>\n",
       "      <td>246192</td>\n",
       "      <td>8.0</td>\n",
       "      <td>4ndrewcol3</td>\n",
       "      <td>my favorite shorter game</td>\n",
       "      <td>[favorite, shorter]</td>\n",
       "      <td>favorite shorter</td>\n",
       "    </tr>\n",
       "    <tr>\n",
       "      <th>2</th>\n",
       "      <td>246192</td>\n",
       "      <td>6.0</td>\n",
       "      <td>Abdul</td>\n",
       "      <td>decent but forgettable. i would have expected ...</td>\n",
       "      <td>[decent, forgettable, would, expected, least, ...</td>\n",
       "      <td>decent forgettable would expected least name v...</td>\n",
       "    </tr>\n",
       "    <tr>\n",
       "      <th>3</th>\n",
       "      <td>246192</td>\n",
       "      <td>10.0</td>\n",
       "      <td>AbleCompany</td>\n",
       "      <td>my pick for an engine building game with just ...</td>\n",
       "      <td>[pick, engine, builder, right, kind, theming, ...</td>\n",
       "      <td>pick engine builder right kind theming accessi...</td>\n",
       "    </tr>\n",
       "    <tr>\n",
       "      <th>4</th>\n",
       "      <td>246192</td>\n",
       "      <td>7.0</td>\n",
       "      <td>Abruptdolphin</td>\n",
       "      <td>slimbo</td>\n",
       "      <td>[slimbo]</td>\n",
       "      <td>slimbo</td>\n",
       "    </tr>\n",
       "  </tbody>\n",
       "</table>\n",
       "</div>"
      ],
      "text/plain": [
       "   game_id  rating           user  \\\n",
       "0   246192     6.0        3davoli   \n",
       "1   246192     8.0     4ndrewcol3   \n",
       "2   246192     6.0          Abdul   \n",
       "3   246192    10.0    AbleCompany   \n",
       "4   246192     7.0  Abruptdolphin   \n",
       "\n",
       "                                         description  \\\n",
       "0                                           for sale   \n",
       "1                           my favorite shorter game   \n",
       "2  decent but forgettable. i would have expected ...   \n",
       "3  my pick for an engine building game with just ...   \n",
       "4                                             slimbo   \n",
       "\n",
       "                                            word_col  \\\n",
       "0                                             [sale]   \n",
       "1                                [favorite, shorter]   \n",
       "2  [decent, forgettable, would, expected, least, ...   \n",
       "3  [pick, engine, builder, right, kind, theming, ...   \n",
       "4                                           [slimbo]   \n",
       "\n",
       "                                             bow_col  \n",
       "0                                               sale  \n",
       "1                                   favorite shorter  \n",
       "2  decent forgettable would expected least name v...  \n",
       "3  pick engine builder right kind theming accessi...  \n",
       "4                                             slimbo  "
      ]
     },
     "execution_count": 226,
     "metadata": {},
     "output_type": "execute_result"
    }
   ],
   "source": [
    "bow_df.head()"
   ]
  },
  {
   "cell_type": "code",
   "execution_count": 227,
   "metadata": {},
   "outputs": [],
   "source": [
    "X = vectorizer.transform(bow_df['bow_col'])"
   ]
  },
  {
   "cell_type": "code",
   "execution_count": 228,
   "metadata": {},
   "outputs": [
    {
     "data": {
      "text/plain": [
       "100"
      ]
     },
     "execution_count": 228,
     "metadata": {},
     "output_type": "execute_result"
    }
   ],
   "source": [
    "item_li = [''] * 100\n",
    "for value, idx in vectorizer.vocabulary_.items():\n",
    "    item_li[idx] = value\n",
    "len(item_li)"
   ]
  },
  {
   "cell_type": "code",
   "execution_count": 230,
   "metadata": {},
   "outputs": [],
   "source": [
    "bow_df = pd.DataFrame(X.toarray())\n",
    "bow_df.columns = item_li"
   ]
  },
  {
   "cell_type": "code",
   "execution_count": 231,
   "metadata": {},
   "outputs": [
    {
     "data": {
      "text/html": [
       "<div>\n",
       "<style scoped>\n",
       "    .dataframe tbody tr th:only-of-type {\n",
       "        vertical-align: middle;\n",
       "    }\n",
       "\n",
       "    .dataframe tbody tr th {\n",
       "        vertical-align: top;\n",
       "    }\n",
       "\n",
       "    .dataframe thead th {\n",
       "        text-align: right;\n",
       "    }\n",
       "</style>\n",
       "<table border=\"1\" class=\"dataframe\">\n",
       "  <thead>\n",
       "    <tr style=\"text-align: right;\">\n",
       "      <th></th>\n",
       "      <th>ability</th>\n",
       "      <th>action</th>\n",
       "      <th>add</th>\n",
       "      <th>always</th>\n",
       "      <th>another</th>\n",
       "      <th>az</th>\n",
       "      <th>ball</th>\n",
       "      <th>best</th>\n",
       "      <th>better</th>\n",
       "      <th>build</th>\n",
       "      <th>...</th>\n",
       "      <th>think</th>\n",
       "      <th>though</th>\n",
       "      <th>time</th>\n",
       "      <th>turn</th>\n",
       "      <th>und</th>\n",
       "      <th>use</th>\n",
       "      <th>want</th>\n",
       "      <th>way</th>\n",
       "      <th>work</th>\n",
       "      <th>would</th>\n",
       "    </tr>\n",
       "  </thead>\n",
       "  <tbody>\n",
       "    <tr>\n",
       "      <th>14</th>\n",
       "      <td>1</td>\n",
       "      <td>0</td>\n",
       "      <td>3</td>\n",
       "      <td>0</td>\n",
       "      <td>1</td>\n",
       "      <td>0</td>\n",
       "      <td>0</td>\n",
       "      <td>0</td>\n",
       "      <td>1</td>\n",
       "      <td>3</td>\n",
       "      <td>...</td>\n",
       "      <td>5</td>\n",
       "      <td>0</td>\n",
       "      <td>1</td>\n",
       "      <td>2</td>\n",
       "      <td>0</td>\n",
       "      <td>0</td>\n",
       "      <td>1</td>\n",
       "      <td>3</td>\n",
       "      <td>2</td>\n",
       "      <td>3</td>\n",
       "    </tr>\n",
       "    <tr>\n",
       "      <th>21</th>\n",
       "      <td>1</td>\n",
       "      <td>0</td>\n",
       "      <td>0</td>\n",
       "      <td>0</td>\n",
       "      <td>0</td>\n",
       "      <td>0</td>\n",
       "      <td>0</td>\n",
       "      <td>0</td>\n",
       "      <td>0</td>\n",
       "      <td>0</td>\n",
       "      <td>...</td>\n",
       "      <td>1</td>\n",
       "      <td>0</td>\n",
       "      <td>0</td>\n",
       "      <td>0</td>\n",
       "      <td>0</td>\n",
       "      <td>0</td>\n",
       "      <td>0</td>\n",
       "      <td>0</td>\n",
       "      <td>1</td>\n",
       "      <td>0</td>\n",
       "    </tr>\n",
       "    <tr>\n",
       "      <th>132</th>\n",
       "      <td>4</td>\n",
       "      <td>1</td>\n",
       "      <td>0</td>\n",
       "      <td>0</td>\n",
       "      <td>0</td>\n",
       "      <td>0</td>\n",
       "      <td>0</td>\n",
       "      <td>0</td>\n",
       "      <td>0</td>\n",
       "      <td>1</td>\n",
       "      <td>...</td>\n",
       "      <td>0</td>\n",
       "      <td>0</td>\n",
       "      <td>1</td>\n",
       "      <td>0</td>\n",
       "      <td>0</td>\n",
       "      <td>0</td>\n",
       "      <td>0</td>\n",
       "      <td>0</td>\n",
       "      <td>0</td>\n",
       "      <td>1</td>\n",
       "    </tr>\n",
       "    <tr>\n",
       "      <th>183</th>\n",
       "      <td>1</td>\n",
       "      <td>2</td>\n",
       "      <td>0</td>\n",
       "      <td>0</td>\n",
       "      <td>0</td>\n",
       "      <td>0</td>\n",
       "      <td>0</td>\n",
       "      <td>0</td>\n",
       "      <td>0</td>\n",
       "      <td>0</td>\n",
       "      <td>...</td>\n",
       "      <td>0</td>\n",
       "      <td>0</td>\n",
       "      <td>0</td>\n",
       "      <td>1</td>\n",
       "      <td>0</td>\n",
       "      <td>0</td>\n",
       "      <td>0</td>\n",
       "      <td>0</td>\n",
       "      <td>0</td>\n",
       "      <td>0</td>\n",
       "    </tr>\n",
       "    <tr>\n",
       "      <th>295</th>\n",
       "      <td>1</td>\n",
       "      <td>0</td>\n",
       "      <td>0</td>\n",
       "      <td>0</td>\n",
       "      <td>0</td>\n",
       "      <td>0</td>\n",
       "      <td>0</td>\n",
       "      <td>0</td>\n",
       "      <td>0</td>\n",
       "      <td>0</td>\n",
       "      <td>...</td>\n",
       "      <td>0</td>\n",
       "      <td>0</td>\n",
       "      <td>0</td>\n",
       "      <td>0</td>\n",
       "      <td>0</td>\n",
       "      <td>0</td>\n",
       "      <td>0</td>\n",
       "      <td>0</td>\n",
       "      <td>0</td>\n",
       "      <td>0</td>\n",
       "    </tr>\n",
       "  </tbody>\n",
       "</table>\n",
       "<p>5 rows × 100 columns</p>\n",
       "</div>"
      ],
      "text/plain": [
       "     ability  action  add  always  another  az  ball  best  better  build  \\\n",
       "14         1       0    3       0        1   0     0     0       1      3   \n",
       "21         1       0    0       0        0   0     0     0       0      0   \n",
       "132        4       1    0       0        0   0     0     0       0      1   \n",
       "183        1       2    0       0        0   0     0     0       0      0   \n",
       "295        1       0    0       0        0   0     0     0       0      0   \n",
       "\n",
       "     ...  think  though  time  turn  und  use  want  way  work  would  \n",
       "14   ...      5       0     1     2    0    0     1    3     2      3  \n",
       "21   ...      1       0     0     0    0    0     0    0     1      0  \n",
       "132  ...      0       0     1     0    0    0     0    0     0      1  \n",
       "183  ...      0       0     0     1    0    0     0    0     0      0  \n",
       "295  ...      0       0     0     0    0    0     0    0     0      0  \n",
       "\n",
       "[5 rows x 100 columns]"
      ]
     },
     "execution_count": 231,
     "metadata": {},
     "output_type": "execute_result"
    }
   ],
   "source": [
    "bow_df[bow_df['ability'] > 0].head()"
   ]
  },
  {
   "cell_type": "code",
   "execution_count": 257,
   "metadata": {},
   "outputs": [
    {
     "data": {
      "text/plain": [
       "<matplotlib.axes._subplots.AxesSubplot at 0x172304a2f08>"
      ]
     },
     "execution_count": 257,
     "metadata": {},
     "output_type": "execute_result"
    },
    {
     "data": {
      "image/png": "[encoded data removed]",
      "text/plain": [
       "<Figure size 648x504 with 1 Axes>"
      ]
     },
     "metadata": {},
     "output_type": "display_data"
    }
   ],
   "source": [
    "sns.distplot(df.loc[bow_df.loc[bow_df.sum(axis=1) == 0].index, 'rating'].values)"
   ]
  },
  {
   "cell_type": "code",
   "execution_count": 118,
   "metadata": {},
   "outputs": [
    {
     "data": {
      "text/plain": [
       "\"gismos feels like a lighter version of terraforming mars in terms of an engine builder. a card-and-marble engine building game where you can chain/domino abilities. the marbles might initially think of a kid's game, but there is a good bit of strategy to make an efficient engine work towards earning you points and not just spinning its wheels.  terraforming mars feels like it is a more mature game with more depth, but gizmos is easier to get to the table for a family. if you enjoy engine builders, gizmos is a great addition as a lightweight introductory game that will still be fun after the initial play.\""
      ]
     },
     "execution_count": 118,
     "metadata": {},
     "output_type": "execute_result"
    }
   ],
   "source": [
    "df.iloc[21,3]"
   ]
  },
  {
   "cell_type": "code",
   "execution_count": 232,
   "metadata": {},
   "outputs": [],
   "source": [
    "X_train, y_train = bow_df.iloc[:700, :], df.loc[:700-1,'rating']\n",
    "X_test, y_test = bow_df.iloc[700:, :], df.loc[700:,'rating']"
   ]
  },
  {
   "cell_type": "code",
   "execution_count": 233,
   "metadata": {
    "scrolled": true
   },
   "outputs": [
    {
     "data": {
      "text/plain": [
       "(323, 323)"
      ]
     },
     "execution_count": 233,
     "metadata": {},
     "output_type": "execute_result"
    }
   ],
   "source": [
    "len(X_test), len(y_test)"
   ]
  },
  {
   "cell_type": "code",
   "execution_count": 234,
   "metadata": {},
   "outputs": [],
   "source": [
    "# Random Forsts are notoriously bad with sparse data, but let's start easy\n",
    "from sklearn.ensemble import RandomForestRegressor"
   ]
  },
  {
   "cell_type": "code",
   "execution_count": 235,
   "metadata": {},
   "outputs": [],
   "source": [
    "rf = RandomForestRegressor(max_depth=10)\n",
    "rf.fit(X_train, y_train)\n",
    "preds = rf.predict(X_test)"
   ]
  },
  {
   "cell_type": "code",
   "execution_count": 236,
   "metadata": {},
   "outputs": [],
   "source": [
    "pred_df = pd.DataFrame(data={'actual':y_test, 'preds':preds, 'naive': y_train.mean()})"
   ]
  },
  {
   "cell_type": "code",
   "execution_count": 237,
   "metadata": {},
   "outputs": [
    {
     "name": "stdout",
     "output_type": "stream",
     "text": [
      "model error: 1.6856852499046828\n",
      "naive error: 1.7024290100104065\n"
     ]
    }
   ],
   "source": [
    "from sklearn.metrics import mean_squared_error\n",
    "print('model error:', mean_squared_error(pred_df['actual'], pred_df['preds']))\n",
    "print('naive error:', mean_squared_error(pred_df['actual'], pred_df['naive']))"
   ]
  },
  {
   "cell_type": "markdown",
   "metadata": {},
   "source": [
    "Not a very large gain"
   ]
  },
  {
   "cell_type": "code",
   "execution_count": 238,
   "metadata": {},
   "outputs": [],
   "source": [
    "# Random Forsts are notoriously bad with sparse data, but let's start easy\n",
    "from sklearn.ensemble import GradientBoostingRegressor"
   ]
  },
  {
   "cell_type": "code",
   "execution_count": 239,
   "metadata": {},
   "outputs": [],
   "source": [
    "gb = GradientBoostingRegressor()"
   ]
  },
  {
   "cell_type": "code",
   "execution_count": 258,
   "metadata": {},
   "outputs": [],
   "source": [
    "gb = GradientBoostingRegressor(max_depth=10)\n",
    "gb.fit(X_train, y_train)\n",
    "preds = gb.predict(X_test)"
   ]
  },
  {
   "cell_type": "code",
   "execution_count": 259,
   "metadata": {},
   "outputs": [],
   "source": [
    "pred_df = pd.DataFrame(data={'actual':y_test, 'preds':preds, 'naive': y_train.mean()})"
   ]
  },
  {
   "cell_type": "code",
   "execution_count": 260,
   "metadata": {},
   "outputs": [
    {
     "name": "stdout",
     "output_type": "stream",
     "text": [
      "model error: 1.9752293418111282\n",
      "naive error: 1.7024290100104065\n"
     ]
    }
   ],
   "source": [
    "from sklearn.metrics import mean_squared_error\n",
    "print('model error:', mean_squared_error(pred_df['actual'], pred_df['preds']))\n",
    "print('naive error:', mean_squared_error(pred_df['actual'], pred_df['naive']))"
   ]
  },
  {
   "cell_type": "code",
   "execution_count": 261,
   "metadata": {},
   "outputs": [],
   "source": [
    "from sklearn.linear_model import Lasso"
   ]
  },
  {
   "cell_type": "code",
   "execution_count": 285,
   "metadata": {},
   "outputs": [],
   "source": [
    "lasso = Lasso(alpha=1)\n",
    "lasso.fit(X_train, y_train)\n",
    "preds = lasso.predict(X_test)"
   ]
  },
  {
   "cell_type": "code",
   "execution_count": 286,
   "metadata": {},
   "outputs": [
    {
     "name": "stdout",
     "output_type": "stream",
     "text": [
      "model error: 1.7024290100104065\n",
      "naive error: 1.7024290100104065\n"
     ]
    }
   ],
   "source": [
    "pred_df = pd.DataFrame(data={'actual':y_test, 'preds':preds, 'naive': y_train.mean()})\n",
    "print('model error:', mean_squared_error(pred_df['actual'], pred_df['preds']))\n",
    "print('naive error:', mean_squared_error(pred_df['actual'], pred_df['naive']))"
   ]
  },
  {
   "cell_type": "code",
   "execution_count": 179,
   "metadata": {},
   "outputs": [],
   "source": [
    "# Needs work! Probably too many useless features"
   ]
  },
  {
   "cell_type": "markdown",
   "metadata": {},
   "source": [
    "## TFIDF"
   ]
  },
  {
   "cell_type": "code",
   "execution_count": 288,
   "metadata": {},
   "outputs": [
    {
     "data": {
      "text/plain": [
       "100"
      ]
     },
     "execution_count": 288,
     "metadata": {},
     "output_type": "execute_result"
    }
   ],
   "source": [
    "from sklearn.feature_extraction.text import TfidfVectorizer\n",
    "vectorizer = TfidfVectorizer(min_df=3,max_features=100)\n",
    "vectorizer.fit(full_word_str)\n",
    "feature_li = vectorizer.get_feature_names()\n",
    "len(feature_li)"
   ]
  },
  {
   "cell_type": "code",
   "execution_count": 267,
   "metadata": {},
   "outputs": [],
   "source": [
    "tf_df = copy.deepcopy(df)"
   ]
  },
  {
   "cell_type": "code",
   "execution_count": 269,
   "metadata": {},
   "outputs": [],
   "source": [
    "tf_df['tf_col'] = tf_df['word_col'].apply(lambda x: ' '.join(x))"
   ]
  },
  {
   "cell_type": "code",
   "execution_count": 270,
   "metadata": {},
   "outputs": [],
   "source": [
    "X_0 = vectorizer.transform(tf_df['tf_col'])"
   ]
  },
  {
   "cell_type": "code",
   "execution_count": 272,
   "metadata": {},
   "outputs": [
    {
     "data": {
      "text/plain": [
       "100"
      ]
     },
     "execution_count": 272,
     "metadata": {},
     "output_type": "execute_result"
    }
   ],
   "source": [
    "item_li = [''] * 100\n",
    "for value, idx in vectorizer.vocabulary_.items():\n",
    "    item_li[idx] = value\n",
    "len(item_li)"
   ]
  },
  {
   "cell_type": "code",
   "execution_count": 273,
   "metadata": {},
   "outputs": [],
   "source": [
    "tf_df = pd.DataFrame(data=X_0.toarray(),columns = item_li)"
   ]
  },
  {
   "cell_type": "code",
   "execution_count": 275,
   "metadata": {},
   "outputs": [],
   "source": [
    "X_train, y_train = bow_df.iloc[:700, :], df.loc[:700-1,'rating']\n",
    "X_test, y_test = bow_df.iloc[700:, :], df.loc[700:,'rating']"
   ]
  },
  {
   "cell_type": "code",
   "execution_count": 276,
   "metadata": {},
   "outputs": [],
   "source": [
    "rf = RandomForestRegressor(max_depth=10)\n",
    "rf.fit(X_train, y_train)\n",
    "preds = rf.predict(X_test)"
   ]
  },
  {
   "cell_type": "code",
   "execution_count": 277,
   "metadata": {},
   "outputs": [],
   "source": [
    "pred_df = pd.DataFrame(data={'actual':y_test, 'preds':preds, 'naive': y_train.mean()})"
   ]
  },
  {
   "cell_type": "code",
   "execution_count": 278,
   "metadata": {},
   "outputs": [
    {
     "name": "stdout",
     "output_type": "stream",
     "text": [
      "model error: 1.7118465034915356\n",
      "naive error: 1.7024290100104065\n"
     ]
    }
   ],
   "source": [
    "from sklearn.metrics import mean_squared_error\n",
    "print('model error:', mean_squared_error(pred_df['actual'], pred_df['preds']))\n",
    "print('naive error:', mean_squared_error(pred_df['actual'], pred_df['naive']))"
   ]
  },
  {
   "cell_type": "code",
   "execution_count": 293,
   "metadata": {},
   "outputs": [
    {
     "data": {
      "text/html": [
       "<div>\n",
       "<style scoped>\n",
       "    .dataframe tbody tr th:only-of-type {\n",
       "        vertical-align: middle;\n",
       "    }\n",
       "\n",
       "    .dataframe tbody tr th {\n",
       "        vertical-align: top;\n",
       "    }\n",
       "\n",
       "    .dataframe thead th {\n",
       "        text-align: right;\n",
       "    }\n",
       "</style>\n",
       "<table border=\"1\" class=\"dataframe\">\n",
       "  <thead>\n",
       "    <tr style=\"text-align: right;\">\n",
       "      <th></th>\n",
       "      <th>feature</th>\n",
       "      <th>importance</th>\n",
       "    </tr>\n",
       "  </thead>\n",
       "  <tbody>\n",
       "    <tr>\n",
       "      <th>55</th>\n",
       "      <td>marble</td>\n",
       "      <td>0.047366</td>\n",
       "    </tr>\n",
       "    <tr>\n",
       "      <th>64</th>\n",
       "      <td>play</td>\n",
       "      <td>0.043860</td>\n",
       "    </tr>\n",
       "    <tr>\n",
       "      <th>42</th>\n",
       "      <td>great</td>\n",
       "      <td>0.043122</td>\n",
       "    </tr>\n",
       "    <tr>\n",
       "      <th>44</th>\n",
       "      <td>interesting</td>\n",
       "      <td>0.042927</td>\n",
       "    </tr>\n",
       "    <tr>\n",
       "      <th>38</th>\n",
       "      <td>gimmick</td>\n",
       "      <td>0.042173</td>\n",
       "    </tr>\n",
       "    <tr>\n",
       "      <th>92</th>\n",
       "      <td>time</td>\n",
       "      <td>0.041277</td>\n",
       "    </tr>\n",
       "    <tr>\n",
       "      <th>80</th>\n",
       "      <td>similar</td>\n",
       "      <td>0.034755</td>\n",
       "    </tr>\n",
       "    <tr>\n",
       "      <th>67</th>\n",
       "      <td>playing</td>\n",
       "      <td>0.028301</td>\n",
       "    </tr>\n",
       "    <tr>\n",
       "      <th>79</th>\n",
       "      <td>see</td>\n",
       "      <td>0.027437</td>\n",
       "    </tr>\n",
       "    <tr>\n",
       "      <th>70</th>\n",
       "      <td>pretty</td>\n",
       "      <td>0.026736</td>\n",
       "    </tr>\n",
       "  </tbody>\n",
       "</table>\n",
       "</div>"
      ],
      "text/plain": [
       "        feature  importance\n",
       "55       marble    0.047366\n",
       "64         play    0.043860\n",
       "42        great    0.043122\n",
       "44  interesting    0.042927\n",
       "38      gimmick    0.042173\n",
       "92         time    0.041277\n",
       "80      similar    0.034755\n",
       "67      playing    0.028301\n",
       "79          see    0.027437\n",
       "70       pretty    0.026736"
      ]
     },
     "execution_count": 293,
     "metadata": {},
     "output_type": "execute_result"
    }
   ],
   "source": [
    "feature_df = pd.DataFrame(data={'feature': X_train.columns,'importance':rf.feature_importances_})\n",
    "feature_df.sort_values('importance', ascending=False,inplace=True)\n",
    "feature_df.head(10)"
   ]
  },
  {
   "cell_type": "code",
   "execution_count": 306,
   "metadata": {},
   "outputs": [],
   "source": [
    "important_features = feature_df[feature_df['importance'] >= 0.01]\n",
    "important_features = important_features['feature'].values"
   ]
  },
  {
   "cell_type": "code",
   "execution_count": 346,
   "metadata": {},
   "outputs": [],
   "source": [
    "X_train, y_train = tf_df.loc[:700-1, important_features], df.loc[:700-1,'rating']\n",
    "X_test, y_test = tf_df.loc[700:, important_features], df.loc[700:,'rating']"
   ]
  },
  {
   "cell_type": "code",
   "execution_count": 347,
   "metadata": {},
   "outputs": [
    {
     "data": {
      "text/plain": [
       "(700, 700, 323, 323)"
      ]
     },
     "execution_count": 347,
     "metadata": {},
     "output_type": "execute_result"
    }
   ],
   "source": [
    "len(X_train), len(y_train), len(X_test), len(y_test)"
   ]
  },
  {
   "cell_type": "code",
   "execution_count": 348,
   "metadata": {},
   "outputs": [],
   "source": [
    "gb.fit(X_train, y_train)\n",
    "preds = gb.predict(X_test)\n",
    "pred_df = pd.DataFrame(data={'actual':y_test, 'preds':preds, 'naive': y_train.mean()})"
   ]
  },
  {
   "cell_type": "code",
   "execution_count": null,
   "metadata": {},
   "outputs": [],
   "source": []
  },
  {
   "cell_type": "code",
   "execution_count": 361,
   "metadata": {},
   "outputs": [
    {
     "name": "stdout",
     "output_type": "stream",
     "text": [
      "model error: 1.653057258889836\n",
      "naive error: 1.7024290100104065\n"
     ]
    }
   ],
   "source": [
    "from sklearn.svm import SVR\n",
    "svr = SVR(kernel='linear', C=1)\n",
    "svr.fit(X_train, y_train)\n",
    "preds = svr.predict(X_test)\n",
    "pred_df = pd.DataFrame(data={'actual':y_test, 'preds':preds, 'naive': y_train.mean()})\n",
    "print('model error:', mean_squared_error(pred_df['actual'], pred_df['preds']))\n",
    "print('naive error:', mean_squared_error(pred_df['actual'], pred_df['naive']))"
   ]
  },
  {
   "cell_type": "code",
   "execution_count": null,
   "metadata": {},
   "outputs": [],
   "source": []
  },
  {
   "cell_type": "code",
   "execution_count": 354,
   "metadata": {},
   "outputs": [
    {
     "data": {
      "text/plain": [
       "<matplotlib.axes._subplots.AxesSubplot at 0x172327fe408>"
      ]
     },
     "execution_count": 354,
     "metadata": {},
     "output_type": "execute_result"
    },
    {
     "data": {
      "image/png": "[encoded data removed]",
      "text/plain": [
       "<Figure size 648x504 with 1 Axes>"
      ]
     },
     "metadata": {},
     "output_type": "display_data"
    }
   ],
   "source": [
    "sns.distplot(pred_df['preds'])"
   ]
  },
  {
   "cell_type": "code",
   "execution_count": null,
   "metadata": {},
   "outputs": [],
   "source": []
  }
 ],
 "metadata": {
  "kernelspec": {
   "display_name": "Python 3",
   "language": "python",
   "name": "python3"
  },
  "language_info": {
   "codemirror_mode": {
    "name": "ipython",
    "version": 3
   },
   "file_extension": ".py",
   "mimetype": "text/x-python",
   "name": "python",
   "nbconvert_exporter": "python",
   "pygments_lexer": "ipython3",
   "version": "3.7.6"
  }
 },
 "nbformat": 4,
 "nbformat_minor": 4
}
