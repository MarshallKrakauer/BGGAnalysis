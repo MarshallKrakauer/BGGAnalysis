{
 "cells": [
  {
   "cell_type": "markdown",
   "metadata": {},
   "source": [
    "# Setup"
   ]
  },
  {
   "cell_type": "code",
   "execution_count": 87,
   "metadata": {},
   "outputs": [],
   "source": [
    "import requests\n",
    "from lxml import etree\n",
    "from bs4 import BeautifulSoup\n",
    "import pandas as pd\n",
    "import numpy as np\n",
    "import time\n",
    "import sqlite3\n",
    "import seaborn as sns\n",
    "import matplotlib.pyplot as plt\n",
    "import re\n",
    "import unicodedata\n",
    "import warnings\n",
    "import copy\n",
    "import statsmodels.formula.api as smf"
   ]
  },
  {
   "cell_type": "code",
   "execution_count": 56,
   "metadata": {},
   "outputs": [],
   "source": [
    "sns.set(rc={'figure.figsize':(9,7)})"
   ]
  },
  {
   "cell_type": "code",
   "execution_count": 3,
   "metadata": {},
   "outputs": [
    {
     "data": {
      "text/plain": [
       "True"
      ]
     },
     "execution_count": 3,
     "metadata": {},
     "output_type": "execute_result"
    }
   ],
   "source": [
    "import nltk\n",
    "nltk.download([\"names\", \"stopwords\",\"averaged_perceptron_tagger\",\n",
    "               \"punkt\", \"vader_lexicon\", \"wordnet\"], quiet=True)"
   ]
  },
  {
   "cell_type": "code",
   "execution_count": 4,
   "metadata": {},
   "outputs": [],
   "source": [
    "from pandas.core.common import SettingWithCopyWarning\n",
    "warnings.simplefilter(action=\"ignore\", category=SettingWithCopyWarning)"
   ]
  },
  {
   "cell_type": "markdown",
   "metadata": {},
   "source": [
    "# UDF"
   ]
  },
  {
   "cell_type": "code",
   "execution_count": 5,
   "metadata": {},
   "outputs": [],
   "source": [
    "def make_lemma(text):\n",
    "  \"\"\"\n",
    "  Function to lemmatize and clean text\n",
    "  \n",
    "  From: https://towardsdatascience.com/from-dataframe-to-n-grams-e34e29df3460\n",
    "  \"\"\"\n",
    "  word_lemma = nltk.stem.WordNetLemmatizer()\n",
    "  stopwords_ = nltk.corpus.stopwords.words('english')\n",
    "  stopwords_.extend(['gizmos', 'feel', 'like', 'game', 'board', 'dont',\n",
    "                     'bit', 'get', 'really', 'much', 'also', 'well', 'lot'])\n",
    "  text = (unicodedata.normalize('NFKD', text)\n",
    "    .encode('ascii', 'ignore')\n",
    "    .decode('utf-8', 'ignore')\n",
    "    .lower())\n",
    "  words = re.sub(r'[^\\w\\s]', '', text).split() \n",
    "  word_li = [word_lemma.lemmatize(word) for word in words if word not in stopwords_]\n",
    "\n",
    "  # One last move: will replace building with builder, since there's no distinction in this case\n",
    "  # This is also a very commong word in the corpus\n",
    "  word_li = ['builder' if word == 'building' else word for word in word_li] \n",
    "\n",
    "  # For some reason, stopwords isn't removing this one. Doing so manually\n",
    "  if 'game' in word_li:\n",
    "    word_li.remove('game')\n",
    "\n",
    "  return word_li"
   ]
  },
  {
   "cell_type": "code",
   "execution_count": 6,
   "metadata": {},
   "outputs": [],
   "source": [
    "def dataframe_to_wordlist(df, word_col):\n",
    "    all_text = ''\n",
    "\n",
    "    for i in range(len(df)):\n",
    "        new_text = df.iloc[i, word_col]\n",
    "        all_text += ' ' + new_text\n",
    "\n",
    "    all_text = all_text.encode(\"ascii\", errors=\"ignore\").decode()\n",
    "    for symbol in ['!', ',','.','_', '(', ')']:\n",
    "        all_text = all_text.replace(symbol, ' ')\n",
    "    \n",
    "    all_text = all_text.lower()\n",
    "    return all_text.split(' ')"
   ]
  },
  {
   "cell_type": "code",
   "execution_count": 66,
   "metadata": {},
   "outputs": [],
   "source": [
    "def make_score_qual(score):\n",
    "    if score >= 7:\n",
    "        return '2.High'\n",
    "    else:\n",
    "        return '1.Low'"
   ]
  },
  {
   "cell_type": "markdown",
   "metadata": {},
   "source": [
    "# Scrape Game Description"
   ]
  },
  {
   "cell_type": "code",
   "execution_count": 8,
   "metadata": {},
   "outputs": [],
   "source": [
    "#con = sqlite3.connect('bgg.db')\n",
    "#cur = con.cursor()"
   ]
  },
  {
   "cell_type": "code",
   "execution_count": 9,
   "metadata": {},
   "outputs": [],
   "source": [
    "params = {'id' : '246192','stats' :'0'}\n",
    "response = requests.get('https://www.boardgamegeek.com/xmlapi2/thing?', params)\n",
    "soup = BeautifulSoup(response.text, \"xml\")\n",
    "str_ = str(soup.find('description'))"
   ]
  },
  {
   "cell_type": "code",
   "execution_count": 10,
   "metadata": {},
   "outputs": [
    {
     "data": {
      "text/plain": [
       "\"The smartest minds of our generation are gathering together at the Great Science Fair. Everyone's been working hard on their creations, but only one will be crowned champion. Contestants have to think on the fly to build their machines quickly and efficiently. Whose project will be the best?&amp;#10;&amp;#10;In Gizmos, you win the game by gaining victory points from building engines. And engines help you get things done faster. Whoever builds the greatest machine and collects the most victory points wins!&amp;#10;&amp;#10;At the beginning of the game, you have 4 actions:&amp;#10;&amp;#10;     File : Put a card in the public to your Archive, allow you to build it later.&amp;#10;     Pick : Take one energy marble from the 3D marble dispenser, to your storage.&amp;#10;     Build : Build one machine and put it on action! You have to pay the marbles with colors corresponding to the card cost.&amp;#10;     Research : Draw some cards, and you can then File or Build one of the drawn cards. The rest go to the bottom of their deck.&amp;#10;&amp;#10;&amp;#10;&amp;#10;&amp;#10;Machines give you victory points, and allow you to do more actions when conditions are met. As you build, new attachments can trigger chain reactions, letting you do even more on your turn.&amp;#10;&amp;#10;\""
      ]
     },
     "execution_count": 10,
     "metadata": {},
     "output_type": "execute_result"
    }
   ],
   "source": [
    "str_ = str_.replace('<description>', '')\n",
    "str_ = str_.replace('</description>', '')\n",
    "str_"
   ]
  },
  {
   "cell_type": "code",
   "execution_count": 11,
   "metadata": {},
   "outputs": [],
   "source": [
    "comment_len = 1\n",
    "comment_li = []\n",
    "i = 1\n",
    "game_id = '246192'\n",
    "while comment_len > 0:\n",
    "    params = {'id' : game_id,'comments' :'1', 'page' : str(i), 'pagesize' : str(100)}\n",
    "    response = requests.get('https://www.boardgamegeek.com/xmlapi2/thing?', params)\n",
    "    soup = BeautifulSoup(response.text, \"xml\")\n",
    "    comments = soup.find_all('comment')\n",
    "    for idx, com in enumerate(comments):\n",
    "        comment_li.append((game_id, com['rating'], com['username'], com['value']))\n",
    "    comment_len = len(comments)\n",
    "    i += 1"
   ]
  },
  {
   "cell_type": "code",
   "execution_count": 12,
   "metadata": {},
   "outputs": [
    {
     "data": {
      "text/plain": [
       "(1196, 4)"
      ]
     },
     "execution_count": 12,
     "metadata": {},
     "output_type": "execute_result"
    }
   ],
   "source": [
    "df = pd.DataFrame(comment_li, columns = ['game_id', 'rating','user','description'])\n",
    "df.shape"
   ]
  },
  {
   "cell_type": "code",
   "execution_count": 13,
   "metadata": {},
   "outputs": [],
   "source": [
    "# Convert rating to a number\n",
    "df.loc[df['rating'] == 'N/A', 'rating'] = np.nan\n",
    "df.loc[:, 'rating'] = df.loc[:, 'rating'].astype(float)"
   ]
  },
  {
   "cell_type": "code",
   "execution_count": 14,
   "metadata": {},
   "outputs": [
    {
     "name": "stdout",
     "output_type": "stream",
     "text": [
      "286 717 193\n"
     ]
    }
   ],
   "source": [
    "unrated, high, low = df[pd.isna(df['rating'])].shape[0], df[df['rating'] >= 7].shape[0], df[df['rating'] < 7].shape[0]\n",
    "print(unrated, high, low)"
   ]
  },
  {
   "cell_type": "code",
   "execution_count": 15,
   "metadata": {},
   "outputs": [
    {
     "data": {
      "text/plain": [
       "Text(0.5, 1.0, 'Cumulative Distribution of Scores')"
      ]
     },
     "execution_count": 15,
     "metadata": {},
     "output_type": "execute_result"
    },
    {
     "data": {
      "image/png": "[encoded data removed]",
      "text/plain": [
       "<Figure size 720x576 with 1 Axes>"
      ]
     },
     "metadata": {},
     "output_type": "display_data"
    }
   ],
   "source": [
    "sns.kdeplot(df.loc[df['rating']>0, 'rating'], cumulative=True)\n",
    "plt.axvline(8, 0, 1, color ='black')\n",
    "plt.axvline(7, 0, 1, color ='red')\n",
    "plt.title('Cumulative Distribution of Scores')"
   ]
  },
  {
   "cell_type": "markdown",
   "metadata": {},
   "source": [
    "Only ~30% of scores are <= 7. Almost 70% of scores are <= 8 "
   ]
  },
  {
   "cell_type": "code",
   "execution_count": 16,
   "metadata": {},
   "outputs": [
    {
     "data": {
      "text/html": [
       "<div>\n",
       "<style scoped>\n",
       "    .dataframe tbody tr th:only-of-type {\n",
       "        vertical-align: middle;\n",
       "    }\n",
       "\n",
       "    .dataframe tbody tr th {\n",
       "        vertical-align: top;\n",
       "    }\n",
       "\n",
       "    .dataframe thead th {\n",
       "        text-align: right;\n",
       "    }\n",
       "</style>\n",
       "<table border=\"1\" class=\"dataframe\">\n",
       "  <thead>\n",
       "    <tr style=\"text-align: right;\">\n",
       "      <th></th>\n",
       "      <th>game_id</th>\n",
       "      <th>rating</th>\n",
       "      <th>user</th>\n",
       "      <th>description</th>\n",
       "    </tr>\n",
       "  </thead>\n",
       "  <tbody>\n",
       "    <tr>\n",
       "      <th>1</th>\n",
       "      <td>246192</td>\n",
       "      <td>8.0</td>\n",
       "      <td>4ndrewcol3</td>\n",
       "      <td>My favorite shorter game</td>\n",
       "    </tr>\n",
       "    <tr>\n",
       "      <th>2</th>\n",
       "      <td>246192</td>\n",
       "      <td>6.0</td>\n",
       "      <td>Abdul</td>\n",
       "      <td>Decent but forgettable. I would have expected ...</td>\n",
       "    </tr>\n",
       "    <tr>\n",
       "      <th>3</th>\n",
       "      <td>246192</td>\n",
       "      <td>10.0</td>\n",
       "      <td>AbleCompany</td>\n",
       "      <td>My pick for an engine building game with just ...</td>\n",
       "    </tr>\n",
       "    <tr>\n",
       "      <th>4</th>\n",
       "      <td>246192</td>\n",
       "      <td>7.0</td>\n",
       "      <td>Abruptdolphin</td>\n",
       "      <td>Slimbo</td>\n",
       "    </tr>\n",
       "    <tr>\n",
       "      <th>5</th>\n",
       "      <td>246192</td>\n",
       "      <td>7.0</td>\n",
       "      <td>Achire</td>\n",
       "      <td>Light game. Pretty fun with all the card combo...</td>\n",
       "    </tr>\n",
       "  </tbody>\n",
       "</table>\n",
       "</div>"
      ],
      "text/plain": [
       "  game_id  rating           user  \\\n",
       "1  246192     8.0     4ndrewcol3   \n",
       "2  246192     6.0          Abdul   \n",
       "3  246192    10.0    AbleCompany   \n",
       "4  246192     7.0  Abruptdolphin   \n",
       "5  246192     7.0         Achire   \n",
       "\n",
       "                                         description  \n",
       "1                           My favorite shorter game  \n",
       "2  Decent but forgettable. I would have expected ...  \n",
       "3  My pick for an engine building game with just ...  \n",
       "4                                             Slimbo  \n",
       "5  Light game. Pretty fun with all the card combo...  "
      ]
     },
     "execution_count": 16,
     "metadata": {},
     "output_type": "execute_result"
    }
   ],
   "source": [
    "has_rating = df[~pd.isna(df['rating'])]\n",
    "has_rating.head()"
   ]
  },
  {
   "cell_type": "markdown",
   "metadata": {},
   "source": [
    "# NLTK Analysis"
   ]
  },
  {
   "cell_type": "markdown",
   "metadata": {},
   "source": [
    "Code inspired by this site: https://realpython.com/python-nltk-sentiment-analysis/"
   ]
  },
  {
   "cell_type": "markdown",
   "metadata": {},
   "source": [
    "## Let's look at phrases that appear more frequently than expected"
   ]
  },
  {
   "cell_type": "code",
   "execution_count": 17,
   "metadata": {},
   "outputs": [],
   "source": [
    "bigram_measures = nltk.collocations.BigramAssocMeasures()"
   ]
  },
  {
   "cell_type": "code",
   "execution_count": 18,
   "metadata": {},
   "outputs": [],
   "source": [
    "from nltk.collocations import BigramCollocationFinder\n",
    "\n",
    "finder = BigramCollocationFinder.from_words(\n",
    "    dataframe_to_wordlist(has_rating, 3))"
   ]
  },
  {
   "cell_type": "code",
   "execution_count": 19,
   "metadata": {},
   "outputs": [
    {
     "name": "stdout",
     "output_type": "stream",
     "text": [
      "[('\"an', 'engine\"'), ('\"blind', 'pick\"'), ('\"current', 'favorite\"'), ('\"engine', 'builder\"'), ('\"gizmos', 'market\"'), ('\"go', 'off\"'), ('\"good', 'splendor\"'), ('\"heavy', 'filler\"'), ('\"karciany\"', 'przynoszcy'), ('\"lost', 'designs\"'), ('\"next', 'step\"'), ('\"pick', 'up\"'), ('\"played', 'out\"'), ('\"z', 'kulkami\"'), ('$', 'shipping')]\n"
     ]
    }
   ],
   "source": [
    "temp = finder.nbest(bigram_measures.pmi, 15)\n",
    "print(temp)"
   ]
  },
  {
   "cell_type": "markdown",
   "metadata": {},
   "source": [
    "Gizmos is an engine bulding game, so it's not surpise that two of the top three results mention engine building. \"Go off\" probably also refers to the process of engine building. Splendor is arguably the most popular engine building game, so its no surprise to see a phrase listing it.\n",
    "\n",
    "\"Blind pick\" refers to a mechanic of the game: players may get to select a random resource from the main component. \"Pick up\" might also refer to this mechanic\n",
    "\n",
    "Others of note: \"Lost designs\" refers to a mini-exapnsion for the game. \"Next step\" refers to games that are a bit more complicated than intro games (e.g. Ticket to Ride) but aren't quite medium-weight games (e.g. Castles of Burgundy). \"Heavy filler\" is another way to explain a \"next step\" game. \"Played out\" probably refers to a game's lack of originality, while \"current favorite\" is self explanatory. There's also a Polish phrase in there, according to Google translate it means \"card fetch.\" "
   ]
  },
  {
   "cell_type": "code",
   "execution_count": 20,
   "metadata": {},
   "outputs": [],
   "source": [
    "has_rating.loc[:,'lemma'] = has_rating['description'].apply(make_lemma)"
   ]
  },
  {
   "cell_type": "code",
   "execution_count": 21,
   "metadata": {},
   "outputs": [
    {
     "data": {
      "text/html": [
       "<div>\n",
       "<style scoped>\n",
       "    .dataframe tbody tr th:only-of-type {\n",
       "        vertical-align: middle;\n",
       "    }\n",
       "\n",
       "    .dataframe tbody tr th {\n",
       "        vertical-align: top;\n",
       "    }\n",
       "\n",
       "    .dataframe thead th {\n",
       "        text-align: right;\n",
       "    }\n",
       "</style>\n",
       "<table border=\"1\" class=\"dataframe\">\n",
       "  <thead>\n",
       "    <tr style=\"text-align: right;\">\n",
       "      <th></th>\n",
       "      <th>game_id</th>\n",
       "      <th>rating</th>\n",
       "      <th>user</th>\n",
       "      <th>description</th>\n",
       "      <th>lemma</th>\n",
       "    </tr>\n",
       "  </thead>\n",
       "  <tbody>\n",
       "    <tr>\n",
       "      <th>1</th>\n",
       "      <td>246192</td>\n",
       "      <td>8.0</td>\n",
       "      <td>4ndrewcol3</td>\n",
       "      <td>My favorite shorter game</td>\n",
       "      <td>[favorite, shorter]</td>\n",
       "    </tr>\n",
       "    <tr>\n",
       "      <th>2</th>\n",
       "      <td>246192</td>\n",
       "      <td>6.0</td>\n",
       "      <td>Abdul</td>\n",
       "      <td>Decent but forgettable. I would have expected ...</td>\n",
       "      <td>[decent, forgettable, would, expected, least, ...</td>\n",
       "    </tr>\n",
       "    <tr>\n",
       "      <th>3</th>\n",
       "      <td>246192</td>\n",
       "      <td>10.0</td>\n",
       "      <td>AbleCompany</td>\n",
       "      <td>My pick for an engine building game with just ...</td>\n",
       "      <td>[pick, engine, builder, right, kind, theming, ...</td>\n",
       "    </tr>\n",
       "    <tr>\n",
       "      <th>4</th>\n",
       "      <td>246192</td>\n",
       "      <td>7.0</td>\n",
       "      <td>Abruptdolphin</td>\n",
       "      <td>Slimbo</td>\n",
       "      <td>[slimbo]</td>\n",
       "    </tr>\n",
       "    <tr>\n",
       "      <th>5</th>\n",
       "      <td>246192</td>\n",
       "      <td>7.0</td>\n",
       "      <td>Achire</td>\n",
       "      <td>Light game. Pretty fun with all the card combo...</td>\n",
       "      <td>[light, pretty, fun, card, combo, mechanic, ma...</td>\n",
       "    </tr>\n",
       "  </tbody>\n",
       "</table>\n",
       "</div>"
      ],
      "text/plain": [
       "  game_id  rating           user  \\\n",
       "1  246192     8.0     4ndrewcol3   \n",
       "2  246192     6.0          Abdul   \n",
       "3  246192    10.0    AbleCompany   \n",
       "4  246192     7.0  Abruptdolphin   \n",
       "5  246192     7.0         Achire   \n",
       "\n",
       "                                         description  \\\n",
       "1                           My favorite shorter game   \n",
       "2  Decent but forgettable. I would have expected ...   \n",
       "3  My pick for an engine building game with just ...   \n",
       "4                                             Slimbo   \n",
       "5  Light game. Pretty fun with all the card combo...   \n",
       "\n",
       "                                               lemma  \n",
       "1                                [favorite, shorter]  \n",
       "2  [decent, forgettable, would, expected, least, ...  \n",
       "3  [pick, engine, builder, right, kind, theming, ...  \n",
       "4                                           [slimbo]  \n",
       "5  [light, pretty, fun, card, combo, mechanic, ma...  "
      ]
     },
     "execution_count": 21,
     "metadata": {},
     "output_type": "execute_result"
    }
   ],
   "source": [
    "has_rating.head()"
   ]
  },
  {
   "cell_type": "code",
   "execution_count": 22,
   "metadata": {},
   "outputs": [],
   "source": [
    "all_text_li = []\n",
    "\n",
    "for i in range(len(has_rating)):\n",
    "    all_text_li.extend(has_rating.iloc[i, 4])"
   ]
  },
  {
   "cell_type": "code",
   "execution_count": 23,
   "metadata": {},
   "outputs": [
    {
     "data": {
      "text/plain": [
       "(engine, builder)      337\n",
       "(marble, dispenser)     54\n",
       "(potion, explosion)     37\n",
       "(spice, road)           25\n",
       "(chain, reaction)       24\n",
       "(little, engine)        24\n",
       "(century, spice)        24\n",
       "(good, engine)          19\n",
       "(fun, engine)           19\n",
       "(splendor, century)     19\n",
       "dtype: int64"
      ]
     },
     "execution_count": 23,
     "metadata": {},
     "output_type": "execute_result"
    }
   ],
   "source": [
    "(pd.Series(nltk.ngrams(all_text_li, 2)).value_counts())[:10]"
   ]
  },
  {
   "cell_type": "markdown",
   "metadata": {},
   "source": [
    "It seems like it's quite common for reviews to note that Gizmos is an engine building game. Most the results note this. \n",
    "\n",
    "People also like to compare it to other engine building games: Century Spice Road (which takes up two slots alone, three total), Potion Explosion (which takes up one spot), and Splendor (which shares a spot with century).\n",
    "\n",
    "People also enjoy the marble dispenser, which is the game's most remarkable component."
   ]
  },
  {
   "cell_type": "code",
   "execution_count": 24,
   "metadata": {},
   "outputs": [
    {
     "data": {
      "text/plain": [
       "(century, spice, road)        22\n",
       "(little, engine, builder)     22\n",
       "(fun, engine, builder)        17\n",
       "(good, engine, builder)       16\n",
       "(pure, engine, builder)       14\n",
       "(great, engine, builder)      12\n",
       "(engine, builder, fun)        11\n",
       "(splendor, century, spice)    10\n",
       "(engine, builder, marble)      9\n",
       "(engine, builder, great)       9\n",
       "dtype: int64"
      ]
     },
     "execution_count": 24,
     "metadata": {},
     "output_type": "execute_result"
    }
   ],
   "source": [
    "(pd.Series(nltk.ngrams(all_text_li, 3)).value_counts())[:10]"
   ]
  },
  {
   "cell_type": "markdown",
   "metadata": {},
   "source": [
    "Nothing remarkable here. It's an engine building game like Splendor and Century."
   ]
  },
  {
   "cell_type": "code",
   "execution_count": 25,
   "metadata": {},
   "outputs": [],
   "source": [
    "wordfreq = {}\n",
    "\n",
    "for token in all_text_li:\n",
    "    if len(token) >= 3:\n",
    "        if token not in wordfreq.keys():\n",
    "            wordfreq[token] = 1\n",
    "        else:\n",
    "            wordfreq[token] += 1"
   ]
  },
  {
   "cell_type": "code",
   "execution_count": 26,
   "metadata": {},
   "outputs": [
    {
     "name": "stdout",
     "output_type": "stream",
     "text": [
      "['engine', 'builder', 'marble', 'play', 'card', 'fun', 'splendor', 'good', 'one', 'combo', 'player', 'great', 'dispenser', 'build', 'action', 'would', 'little', 'turn', 'time', 'simple', 'make', 'better', 'think', 'nice', 'easy', 'played', 'still', 'interesting', 'component', 'family', 'enough', 'love', 'strategy', 'could', 'chain', 'theme', 'pretty', 'way', 'end', 'quick', 'point', 'first', 'need', 'satisfying', 'century', 'take', 'see', 'thing', 'gimmick', 'even']\n"
     ]
    }
   ],
   "source": [
    "import heapq\n",
    "most_freq = heapq.nlargest(50, wordfreq, key=wordfreq.get)\n",
    "print(most_freq)"
   ]
  },
  {
   "cell_type": "code",
   "execution_count": 27,
   "metadata": {},
   "outputs": [],
   "source": [
    "df_copy = copy.deepcopy(has_rating)\n",
    "\n",
    "for word in most_freq:\n",
    "    df_copy[word] = 0\n",
    "\n",
    "df_copy.reset_index(inplace=True)\n",
    "df_copy.drop(labels = ['game_id', 'user', 'description', 'index'], axis=1, inplace=True)"
   ]
  },
  {
   "cell_type": "code",
   "execution_count": 28,
   "metadata": {},
   "outputs": [],
   "source": [
    "for i in range(len(df_copy)):\n",
    "  for word in df_copy.iloc[i, 1]:\n",
    "    if word in most_freq:\n",
    "      df_copy.loc[i, word] = 1"
   ]
  },
  {
   "cell_type": "code",
   "execution_count": 67,
   "metadata": {},
   "outputs": [],
   "source": [
    "df_copy['opinion'] = df_copy['rating'].apply(make_score_qual)"
   ]
  },
  {
   "cell_type": "code",
   "execution_count": 68,
   "metadata": {},
   "outputs": [],
   "source": [
    "df_copy.sort_values('opinion', ascending=True, inplace=True)"
   ]
  },
  {
   "cell_type": "markdown",
   "metadata": {},
   "source": [
    "# Word prevlance for high and low scores"
   ]
  },
  {
   "cell_type": "markdown",
   "metadata": {},
   "source": [
    "Is a term more likely to appear in the high (7+) or low (<7) review of the game. Looking at this can help us understand what people do and don't like about the game"
   ]
  },
  {
   "cell_type": "markdown",
   "metadata": {},
   "source": [
    "To start, let's do a sanity check. If this exercise works at all, terms like \"fun\" should appear more frequently in the high reviews, and words like \"gimmick\" should appear more frequently in the low reviews"
   ]
  },
  {
   "cell_type": "code",
   "execution_count": 135,
   "metadata": {},
   "outputs": [
    {
     "data": {
      "text/plain": [
       "Text(0.5, 1.0, 'Reviews mentioning \"fun\"')"
      ]
     },
     "execution_count": 135,
     "metadata": {},
     "output_type": "execute_result"
    },
    {
     "data": {
      "image/png": "[encoded data removed]",
      "text/plain": [
       "<Figure size 648x504 with 1 Axes>"
      ]
     },
     "metadata": {},
     "output_type": "display_data"
    }
   ],
   "source": [
    "ax = sns.barplot(data=df_copy,x='opinion',y='fun',ci=90)\n",
    "ax.set_title('Reviews mentioning \"fun\"')"
   ]
  },
  {
   "cell_type": "code",
   "execution_count": 137,
   "metadata": {},
   "outputs": [
    {
     "data": {
      "text/plain": [
       "Text(0.5, 1.0, 'Reviews mentioning \"gimmick\"')"
      ]
     },
     "execution_count": 137,
     "metadata": {},
     "output_type": "execute_result"
    },
    {
     "data": {
      "image/png": "[encoded data removed]",
      "text/plain": [
       "<Figure size 648x504 with 1 Axes>"
      ]
     },
     "metadata": {},
     "output_type": "display_data"
    }
   ],
   "source": [
    "ax = sns.barplot(data=df_copy,x='opinion',y='gimmick',ci=90)\n",
    "ax.set_title('Reviews mentioning \"gimmick\"')"
   ]
  },
  {
   "cell_type": "markdown",
   "metadata": {},
   "source": [
    "Looks good so far. Let's check some more terms"
   ]
  },
  {
   "cell_type": "code",
   "execution_count": 69,
   "metadata": {},
   "outputs": [
    {
     "data": {
      "text/plain": [
       "Text(0.5, 1.0, 'Reviews mentioning \"easy\"')"
      ]
     },
     "execution_count": 69,
     "metadata": {},
     "output_type": "execute_result"
    },
    {
     "data": {
      "image/png": "[encoded data removed]",
      "text/plain": [
       "<Figure size 648x504 with 1 Axes>"
      ]
     },
     "metadata": {},
     "output_type": "display_data"
    }
   ],
   "source": [
    "ax = sns.barplot(data=df_copy,x='opinion',y='easy',ci=90)\n",
    "ax.set_title('Reviews mentioning \"easy\"')"
   ]
  },
  {
   "cell_type": "code",
   "execution_count": 74,
   "metadata": {},
   "outputs": [
    {
     "data": {
      "text/plain": [
       "Text(0.5, 1.0, 'Reviews mentioning \"dispenser\"')"
      ]
     },
     "execution_count": 74,
     "metadata": {},
     "output_type": "execute_result"
    },
    {
     "data": {
      "image/png": "[encoded data removed]",
      "text/plain": [
       "<Figure size 648x504 with 1 Axes>"
      ]
     },
     "metadata": {},
     "output_type": "display_data"
    }
   ],
   "source": [
    "ax = sns.barplot(data=df_copy,x='opinion',y='dispenser',ci=90)\n",
    "ax.set_title('Reviews mentioning \"dispenser\"')"
   ]
  },
  {
   "cell_type": "code",
   "execution_count": 138,
   "metadata": {},
   "outputs": [
    {
     "data": {
      "text/plain": [
       "Text(0.5, 1.0, 'Reviews mentioning \"marble\"')"
      ]
     },
     "execution_count": 138,
     "metadata": {},
     "output_type": "execute_result"
    },
    {
     "data": {
      "image/png": "[encoded data removed]",
      "text/plain": [
       "<Figure size 648x504 with 1 Axes>"
      ]
     },
     "metadata": {},
     "output_type": "display_data"
    }
   ],
   "source": [
    "ax = sns.barplot(data=df_copy,x='opinion',y='marble',ci=90)\n",
    "ax.set_title('Reviews mentioning \"marble\"')"
   ]
  },
  {
   "cell_type": "code",
   "execution_count": 78,
   "metadata": {},
   "outputs": [
    {
     "data": {
      "text/plain": [
       "<matplotlib.axes._subplots.AxesSubplot at 0x24ecb5e5708>"
      ]
     },
     "execution_count": 78,
     "metadata": {},
     "output_type": "execute_result"
    },
    {
     "data": {
      "image/png": "[encoded data removed]",
      "text/plain": [
       "<Figure size 648x504 with 1 Axes>"
      ]
     },
     "metadata": {},
     "output_type": "display_data"
    }
   ],
   "source": [
    "sns.barplot(data=df_copy,x='opinion',y='splendor',ci=90)\n",
    "ax.set_title('Reviews mentioning \"splendor\"')"
   ]
  },
  {
   "cell_type": "code",
   "execution_count": 139,
   "metadata": {
    "scrolled": false
   },
   "outputs": [
    {
     "data": {
      "text/plain": [
       "Text(0.5, 1, 'Reviews mentioning \"engine\"')"
      ]
     },
     "execution_count": 139,
     "metadata": {},
     "output_type": "execute_result"
    },
    {
     "data": {
      "image/png": "[encoded data removed]",
      "text/plain": [
       "<Figure size 648x504 with 1 Axes>"
      ]
     },
     "metadata": {},
     "output_type": "display_data"
    }
   ],
   "source": [
    "sns.barplot(data=df_copy,x='opinion',y='engine',ci=90)\n",
    "ax.set_title('Reviews mentioning \"engine\"')"
   ]
  },
  {
   "cell_type": "markdown",
   "metadata": {},
   "source": [
    "A few things of note:\n",
    "\n",
    "* Positive reviews are more likely to mention that the game is easy. People enjoy its simplicity\n",
    "* Negative reviews are more likely to mention the components (marbles and dispenser). I didn't expct this, so I will look into some more detail\n",
    "* There didn't seem to be any difference in terms of mentioning Splendor (a similar game) or the word \"engine.\" These are neutral descriptors of the game. One could say \"I didn't like the engine building, Splendor did it better\" or vice-versa"
   ]
  },
  {
   "cell_type": "markdown",
   "metadata": {},
   "source": [
    "Now for my favorite: linear regression! Let's see if, holding other words constant, we see any difference in what we've discussed thus far. I chose 10 words I thought would be interesting. I included \"gimmick\" and \"fun\" in there to sanity check. We would expect those coefficients to be negative and positive, respectively"
   ]
  },
  {
   "cell_type": "code",
   "execution_count": 140,
   "metadata": {},
   "outputs": [
    {
     "data": {
      "text/html": [
       "<table class=\"simpletable\">\n",
       "<caption>OLS Regression Results</caption>\n",
       "<tr>\n",
       "  <th>Dep. Variable:</th>         <td>rating</td>      <th>  R-squared:         </th> <td>   0.043</td>\n",
       "</tr>\n",
       "<tr>\n",
       "  <th>Model:</th>                   <td>OLS</td>       <th>  Adj. R-squared:    </th> <td>   0.033</td>\n",
       "</tr>\n",
       "<tr>\n",
       "  <th>Method:</th>             <td>Least Squares</td>  <th>  F-statistic:       </th> <td>   4.063</td>\n",
       "</tr>\n",
       "<tr>\n",
       "  <th>Date:</th>             <td>Mon, 11 Oct 2021</td> <th>  Prob (F-statistic):</th> <td>1.75e-05</td>\n",
       "</tr>\n",
       "<tr>\n",
       "  <th>Time:</th>                 <td>17:55:49</td>     <th>  Log-Likelihood:    </th> <td> -1513.5</td>\n",
       "</tr>\n",
       "<tr>\n",
       "  <th>No. Observations:</th>      <td>   910</td>      <th>  AIC:               </th> <td>   3049.</td>\n",
       "</tr>\n",
       "<tr>\n",
       "  <th>Df Residuals:</th>          <td>   899</td>      <th>  BIC:               </th> <td>   3102.</td>\n",
       "</tr>\n",
       "<tr>\n",
       "  <th>Df Model:</th>              <td>    10</td>      <th>                     </th>     <td> </td>   \n",
       "</tr>\n",
       "<tr>\n",
       "  <th>Covariance Type:</th>      <td>nonrobust</td>    <th>                     </th>     <td> </td>   \n",
       "</tr>\n",
       "</table>\n",
       "<table class=\"simpletable\">\n",
       "<tr>\n",
       "      <td></td>         <th>coef</th>     <th>std err</th>      <th>t</th>      <th>P>|t|</th>  <th>[0.025</th>    <th>0.975]</th>  \n",
       "</tr>\n",
       "<tr>\n",
       "  <th>Intercept</th> <td>    7.4207</td> <td>    0.061</td> <td>  120.780</td> <td> 0.000</td> <td>    7.300</td> <td>    7.541</td>\n",
       "</tr>\n",
       "<tr>\n",
       "  <th>engine</th>    <td>    0.0060</td> <td>    0.094</td> <td>    0.065</td> <td> 0.949</td> <td>   -0.178</td> <td>    0.190</td>\n",
       "</tr>\n",
       "<tr>\n",
       "  <th>gimmick</th>   <td>   -0.4017</td> <td>    0.226</td> <td>   -1.779</td> <td> 0.076</td> <td>   -0.845</td> <td>    0.042</td>\n",
       "</tr>\n",
       "<tr>\n",
       "  <th>marble</th>    <td>   -0.3228</td> <td>    0.125</td> <td>   -2.587</td> <td> 0.010</td> <td>   -0.568</td> <td>   -0.078</td>\n",
       "</tr>\n",
       "<tr>\n",
       "  <th>card</th>      <td>   -0.1394</td> <td>    0.137</td> <td>   -1.016</td> <td> 0.310</td> <td>   -0.409</td> <td>    0.130</td>\n",
       "</tr>\n",
       "<tr>\n",
       "  <th>fun</th>       <td>    0.2596</td> <td>    0.106</td> <td>    2.447</td> <td> 0.015</td> <td>    0.051</td> <td>    0.468</td>\n",
       "</tr>\n",
       "<tr>\n",
       "  <th>splendor</th>  <td>   -0.1939</td> <td>    0.118</td> <td>   -1.643</td> <td> 0.101</td> <td>   -0.425</td> <td>    0.038</td>\n",
       "</tr>\n",
       "<tr>\n",
       "  <th>combo</th>     <td>    0.0996</td> <td>    0.138</td> <td>    0.724</td> <td> 0.469</td> <td>   -0.170</td> <td>    0.370</td>\n",
       "</tr>\n",
       "<tr>\n",
       "  <th>player</th>    <td>    0.0538</td> <td>    0.150</td> <td>    0.359</td> <td> 0.719</td> <td>   -0.240</td> <td>    0.347</td>\n",
       "</tr>\n",
       "<tr>\n",
       "  <th>easy</th>      <td>    0.5623</td> <td>    0.188</td> <td>    2.997</td> <td> 0.003</td> <td>    0.194</td> <td>    0.931</td>\n",
       "</tr>\n",
       "<tr>\n",
       "  <th>dispenser</th> <td>   -0.2005</td> <td>    0.176</td> <td>   -1.142</td> <td> 0.254</td> <td>   -0.545</td> <td>    0.144</td>\n",
       "</tr>\n",
       "</table>\n",
       "<table class=\"simpletable\">\n",
       "<tr>\n",
       "  <th>Omnibus:</th>       <td>112.227</td> <th>  Durbin-Watson:     </th> <td>   0.621</td>\n",
       "</tr>\n",
       "<tr>\n",
       "  <th>Prob(Omnibus):</th> <td> 0.000</td>  <th>  Jarque-Bera (JB):  </th> <td> 216.129</td>\n",
       "</tr>\n",
       "<tr>\n",
       "  <th>Skew:</th>          <td>-0.754</td>  <th>  Prob(JB):          </th> <td>1.17e-47</td>\n",
       "</tr>\n",
       "<tr>\n",
       "  <th>Kurtosis:</th>      <td> 4.851</td>  <th>  Cond. No.          </th> <td>    6.40</td>\n",
       "</tr>\n",
       "</table><br/><br/>Warnings:<br/>[1] Standard Errors assume that the covariance matrix of the errors is correctly specified."
      ],
      "text/plain": [
       "<class 'statsmodels.iolib.summary.Summary'>\n",
       "\"\"\"\n",
       "                            OLS Regression Results                            \n",
       "==============================================================================\n",
       "Dep. Variable:                 rating   R-squared:                       0.043\n",
       "Model:                            OLS   Adj. R-squared:                  0.033\n",
       "Method:                 Least Squares   F-statistic:                     4.063\n",
       "Date:                Mon, 11 Oct 2021   Prob (F-statistic):           1.75e-05\n",
       "Time:                        17:55:49   Log-Likelihood:                -1513.5\n",
       "No. Observations:                 910   AIC:                             3049.\n",
       "Df Residuals:                     899   BIC:                             3102.\n",
       "Df Model:                          10                                         \n",
       "Covariance Type:            nonrobust                                         \n",
       "==============================================================================\n",
       "                 coef    std err          t      P>|t|      [0.025      0.975]\n",
       "------------------------------------------------------------------------------\n",
       "Intercept      7.4207      0.061    120.780      0.000       7.300       7.541\n",
       "engine         0.0060      0.094      0.065      0.949      -0.178       0.190\n",
       "gimmick       -0.4017      0.226     -1.779      0.076      -0.845       0.042\n",
       "marble        -0.3228      0.125     -2.587      0.010      -0.568      -0.078\n",
       "card          -0.1394      0.137     -1.016      0.310      -0.409       0.130\n",
       "fun            0.2596      0.106      2.447      0.015       0.051       0.468\n",
       "splendor      -0.1939      0.118     -1.643      0.101      -0.425       0.038\n",
       "combo          0.0996      0.138      0.724      0.469      -0.170       0.370\n",
       "player         0.0538      0.150      0.359      0.719      -0.240       0.347\n",
       "easy           0.5623      0.188      2.997      0.003       0.194       0.931\n",
       "dispenser     -0.2005      0.176     -1.142      0.254      -0.545       0.144\n",
       "==============================================================================\n",
       "Omnibus:                      112.227   Durbin-Watson:                   0.621\n",
       "Prob(Omnibus):                  0.000   Jarque-Bera (JB):              216.129\n",
       "Skew:                          -0.754   Prob(JB):                     1.17e-47\n",
       "Kurtosis:                       4.851   Cond. No.                         6.40\n",
       "==============================================================================\n",
       "\n",
       "Warnings:\n",
       "[1] Standard Errors assume that the covariance matrix of the errors is correctly specified.\n",
       "\"\"\""
      ]
     },
     "execution_count": 140,
     "metadata": {},
     "output_type": "execute_result"
    }
   ],
   "source": [
    "r = smf.ols(data = df_copy, \n",
    "       formula = '''rating ~ engine + gimmick + marble + card + fun + splendor +\n",
    "       combo + player + easy + dispenser''').fit()\n",
    "r.summary()"
   ]
  },
  {
   "cell_type": "markdown",
   "metadata": {},
   "source": [
    "The regression mostly shows similar info to the bar graphs: negative coefficient on marble and dispenser (thought the latter is only 25% significance), positive on easy, not significant on engine. However, there is one interesting piece of info. In the regression, a mention of Splendor reduced the expected score by about 0.2 points, and this result was almost significant at the 10% level. It seems that, holding the rest constant, reviews are more likely to negatively compare the game to Splendor"
   ]
  },
  {
   "cell_type": "markdown",
   "metadata": {},
   "source": [
    "# Review Deep Dive"
   ]
  },
  {
   "cell_type": "markdown",
   "metadata": {},
   "source": [
    "I wonder why marble and dispenser draw negative reviews? Let's check some comments. I'll search for the lowest rate comments that mention marble or dispenser. I'll remove comments where the length of the lemma list is less than 50. I want to remove the long reviews since they mention everything (marbles, engine, chain reaction etc.) and therefore provide no information on anything in particular"
   ]
  },
  {
   "cell_type": "code",
   "execution_count": 129,
   "metadata": {},
   "outputs": [
    {
     "name": "stdout",
     "output_type": "stream",
     "text": [
      "Very uninspired and generic vanilla boringness. Feels like it would need an overhaul expansion to even be worth playing. The premise is alright to begin with but would need to be well executed and would require an interesting twist to turn it into a solid game. Resources are all the same. Colours of gizmos are all the same. Plastic Dispenser doesn't work properly. Each Category of trigger has 1 or 2 outcomes at most across all gizmos. Also why use marbles if they just act as a resource, try using them to roll or something. Completely soulless game. \n",
      "\n",
      "I didn't like this much. The marble contraption is huge and unnecessary. The decisions are pretty straightforward and the engine is boring.  \n",
      "\n",
      "Nothing special, a bare boned engine-builder with marbles. Early game goes really fast, but late game bogs down. \n",
      "\n",
      "First engine builder for us.  So many recommendations on forums.  Simple to learn, fun to play, yet quickly I find it a bore.  Marble dispenser is a good idea.  clever purchases gets lots of chain reactions.  Wish there was  few more marbles in dispenser or better yet make dispenser smaller. \n",
      "\n",
      "Really enjoy the chain reaction of things you can do with your gizmos as the effects cascades. However, it is still very solitaire, and the marble dispenser can be very predictable if people don't shuffle the marbles in the container properly.  But the game is snappy and the cascading effect is very appeasing. \n",
      "\n",
      "Need to try again, but the game play is pretty boring. Marbles are really gimmicky \n",
      "\n",
      "Cool marble gimmick, unfortunately the game is mediocre at best. Lot's of better engine builders out there. \n",
      "\n",
      "Tableau building, not my genre. The marble gimmick could have been just a deck of cards, but this is cmon, so overproducing is the key word. While it makes sense in potion explosion, here is nice but nothing noteworthy. The concatenation effects are nice, but get stale soon. \n",
      "\n",
      "I keep getting games like this and I keep getting disappointed. Why did I even get Gizmos? Oh yeah...shiny marbles. They're kind of pointless and not even that nice as marbles go and the game overall is pretty hideous. My dispenser came broken, a marble was missing, and the company sent a new cardboard dispenser but not the plastic one. For that I'd have to buy a new copy of the game The replacement is also a little messed up but not as bad as the original and like most parts of the game it's kind of unnecessary so that's fine. \n",
      "\n",
      "The contraption of marbles is a lot of fun for the first few games.  There's some fun to be found in the gameplay.  I like the archive/file action - the only way to effectively get in the way of your opponents.  Gizmos reminds me of Splendor a lot, but where Splendor was purely investment and return, Gizmos adds many extra capabilities that make the game more novel and, perhaps, interesting. \n",
      "\n"
     ]
    }
   ],
   "source": [
    "has_rating['review_length'] = has_rating['lemma'].apply(lambda x: len(x))\n",
    "has_rating.sort_values('rating',inplace=True)\n",
    "truth_values = has_rating['lemma'].apply(lambda x: 'marble' in x).values\n",
    "for rating in has_rating.loc[(truth_values) & (has_rating['review_length'] < 50), 'description'].values[:10]:\n",
    "    print(rating, '\\n')"
   ]
  },
  {
   "cell_type": "markdown",
   "metadata": {},
   "source": [
    "A few different thoughts about the marbles. Some say they're a gimmick, or that the dispenser is unweildly and doesn't randomize properly. Others are positive about the marbles but negative about the game, saying that the marbles look interesting but hide a boring game. Overall, it seems that negative reviews view the game as overproduced and underdeveloped.\n",
    "\n",
    "Overproduction has been a popular critique for recent games. For instance, press coverage surrounding Tapestry focused more on it's gaudy building minatures than its gameplay"
   ]
  },
  {
   "cell_type": "markdown",
   "metadata": {},
   "source": [
    "Now let's look at a positive word. What do the top reviews mentioning 'easy' have to say?\""
   ]
  },
  {
   "cell_type": "code",
   "execution_count": 133,
   "metadata": {},
   "outputs": [
    {
     "name": "stdout",
     "output_type": "stream",
     "text": [
      "An awesome engine builder that's so easy to learn, but there's a lot of depth in the combinations of cards you can play. Enjoyable at 2 players as well as 4 players (haven't played 3 players, but it's probably great there still). \n",
      "\n",
      "Simple, clean engine building distilled to its core.  By the end of the game you can make some crazy efficient engines with multiple routes to victory.  Easy to teach and to get to the table, I'd highly recommend this for anyone's collection. \n",
      "\n",
      "Straight to the point engine-builder.  Clear iconography.  Easy to learn.   \n",
      "\n",
      "I love a game that is easy to pick up but strategic enough to be interesting, and Gizmos fits the bill! The branding makes it seem like a child’s game, but in fact it’s very robust and strategic! An essential for any game collection. \n",
      "\n",
      "Really funny game. Easy to play but hard to master! \n",
      "\n",
      "Fantastic engine-builder.  Cute, fast, easy to explain, easy for new players to pick it up. Most of the people I have introduced this game to have purchased it shortly afterwards. However, it IS extremely lightweight once you figure out how it works.  And that leads to the feeling that you have \"played out\" the game if sticking to rules-as-written. But once you start adding house rules (like taking the pure-VP cheese cards out of the deck) it starts getting interesting again. \n",
      "\n",
      "Very nice engine builder with one of the coolest components in the hobby. Grabbing and collecting marbles is super fun and pulls in new gamers. Easy enough to understand for those new to the hobby and also deep enough for experienced gamers to enjoy. \n",
      "\n",
      "Great game! easy to learn \n",
      "\n",
      "Played 2-player games with the wife. It's a hit!  A fun quick little engine builder game.  We consider it like a cross between Splendor (or Century: Spice Road) and Space Base (or Machi Koro).  In her words: \"it was so easy to learn!\" \n",
      "\n",
      "Another solid Phil Walker-Harding game.  Easy to learn, but enough strategic depth to satisfy.  After two plays, I really enjoy it and have put it on my wish list.  Not sure how long it'll hold my attention since it's so light, but great game for now! \n",
      "\n"
     ]
    }
   ],
   "source": [
    "has_rating['review_length'] = has_rating['lemma'].apply(lambda x: len(x))\n",
    "has_rating.sort_values('rating',inplace=True, ascending=False)\n",
    "truth_values = has_rating['lemma'].apply(lambda x: 'easy' in x).values\n",
    "for rating in has_rating.loc[(truth_values) & (has_rating['review_length'] < 50), 'description'].values[:10]:\n",
    "    print(rating, '\\n')"
   ]
  },
  {
   "cell_type": "markdown",
   "metadata": {},
   "source": [
    "There seems to be some disagreement among the reviews. Keep in mind these are the top 10 most highly rated reviews mentioning the word easy, so they're all positive. However, some of th reviews argue the game is easy to learn while still providing lots of depth. Others argue that it's easy and, but they weren't looking for anything deep. "
   ]
  },
  {
   "cell_type": "code",
   "execution_count": null,
   "metadata": {},
   "outputs": [],
   "source": []
  }
 ],
 "metadata": {
  "kernelspec": {
   "display_name": "Python 3",
   "language": "python",
   "name": "python3"
  },
  "language_info": {
   "codemirror_mode": {
    "name": "ipython",
    "version": 3
   },
   "file_extension": ".py",
   "mimetype": "text/x-python",
   "name": "python",
   "nbconvert_exporter": "python",
   "pygments_lexer": "ipython3",
   "version": "3.7.6"
  }
 },
 "nbformat": 4,
 "nbformat_minor": 4
}
