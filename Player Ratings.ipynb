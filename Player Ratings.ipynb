{
 "cells": [
  {
   "cell_type": "markdown",
   "metadata": {},
   "source": [
    "# Gathering the player ratings data - File in early stages"
   ]
  },
  {
   "cell_type": "raw",
   "metadata": {},
   "source": [
    "Functions in file from: https://www.tensorflow.org/recommenders/examples/basic_retrieval"
   ]
  },
  {
   "cell_type": "markdown",
   "metadata": {},
   "source": [
    "# Scanning Data"
   ]
  },
  {
   "cell_type": "code",
   "execution_count": 32,
   "metadata": {},
   "outputs": [],
   "source": [
    "from __future__ import print_function\n",
    "\n",
    "import numpy as np\n",
    "import pandas as pd\n",
    "import collections\n",
    "from mpl_toolkits.mplot3d import Axes3D\n",
    "from IPython import display\n",
    "from matplotlib import pyplot as plt\n",
    "import sklearn\n",
    "import sklearn.manifold\n",
    "import seaborn as sns\n",
    "import tensorflow.compat.v1 as tf"
   ]
  },
  {
   "cell_type": "code",
   "execution_count": 33,
   "metadata": {},
   "outputs": [
    {
     "name": "stdout",
     "output_type": "stream",
     "text": [
      "Installing Altair...\n",
      "Done installing Altair.\n"
     ]
    },
    {
     "name": "stderr",
     "output_type": "stream",
     "text": [
      "WARNING: Ignoring invalid distribution -umpy (c:\\users\\18053\\anaconda3\\lib\\site-packages)\n",
      "WARNING: Ignoring invalid distribution -umpy (c:\\users\\18053\\anaconda3\\lib\\site-packages)\n",
      "WARNING: Ignoring invalid distribution -umpy (c:\\users\\18053\\anaconda3\\lib\\site-packages)\n",
      "WARNING: Ignoring invalid distribution -umpy (c:\\users\\18053\\anaconda3\\lib\\site-packages)\n",
      "WARNING: Ignoring invalid distribution -umpy (c:\\users\\18053\\anaconda3\\lib\\site-packages)\n",
      "WARNING: Ignoring invalid distribution -umpy (c:\\users\\18053\\anaconda3\\lib\\site-packages)\n",
      "WARNING: You are using pip version 21.1.2; however, version 21.3.1 is available.\n",
      "You should consider upgrading via the 'c:\\users\\18053\\anaconda3\\python.exe -m pip install --upgrade pip' command.\n"
     ]
    }
   ],
   "source": [
    "# Install Altair and activate its colab renderer.\n",
    "print(\"Installing Altair...\")\n",
    "!pip install git+git://github.com/altair-viz/altair.git -q\n",
    "import altair as alt\n",
    "alt.data_transformers.enable('default', max_rows=None)\n",
    "alt.renderers.enable('colab')\n",
    "print(\"Done installing Altair.\")"
   ]
  },
  {
   "cell_type": "code",
   "execution_count": 34,
   "metadata": {},
   "outputs": [],
   "source": [
    "def mask(df, key, function):\n",
    "  \"\"\"Returns a filtered dataframe, by applying function to key\"\"\"\n",
    "  return df[function(df[key])]\n",
    "\n",
    "def flatten_cols(df):\n",
    "  df.columns = [' '.join(col).strip() for col in df.columns.values]\n",
    "  return df"
   ]
  },
  {
   "cell_type": "code",
   "execution_count": 35,
   "metadata": {},
   "outputs": [],
   "source": [
    "pd.DataFrame.mask = mask\n",
    "pd.DataFrame.flatten_cols = flatten_cols"
   ]
  },
  {
   "cell_type": "code",
   "execution_count": 36,
   "metadata": {},
   "outputs": [],
   "source": [
    "tf.disable_v2_behavior()\n",
    "tf.logging.set_verbosity(tf.logging.ERROR)"
   ]
  },
  {
   "cell_type": "code",
   "execution_count": 37,
   "metadata": {},
   "outputs": [],
   "source": [
    "df = pd.read_csv('player_ratings.csv')"
   ]
  },
  {
   "cell_type": "code",
   "execution_count": 38,
   "metadata": {},
   "outputs": [
    {
     "data": {
      "text/html": [
       "<div>\n",
       "<style scoped>\n",
       "    .dataframe tbody tr th:only-of-type {\n",
       "        vertical-align: middle;\n",
       "    }\n",
       "\n",
       "    .dataframe tbody tr th {\n",
       "        vertical-align: top;\n",
       "    }\n",
       "\n",
       "    .dataframe thead th {\n",
       "        text-align: right;\n",
       "    }\n",
       "</style>\n",
       "<table border=\"1\" class=\"dataframe\">\n",
       "  <thead>\n",
       "    <tr style=\"text-align: right;\">\n",
       "      <th></th>\n",
       "      <th>game_id</th>\n",
       "      <th>user</th>\n",
       "      <th>rating</th>\n",
       "    </tr>\n",
       "  </thead>\n",
       "  <tbody>\n",
       "    <tr>\n",
       "      <th>0</th>\n",
       "      <td>1</td>\n",
       "      <td>jackcres</td>\n",
       "      <td>10.0</td>\n",
       "    </tr>\n",
       "    <tr>\n",
       "      <th>1</th>\n",
       "      <td>1</td>\n",
       "      <td>FuManchu</td>\n",
       "      <td>10.0</td>\n",
       "    </tr>\n",
       "    <tr>\n",
       "      <th>2</th>\n",
       "      <td>1</td>\n",
       "      <td>HankM</td>\n",
       "      <td>10.0</td>\n",
       "    </tr>\n",
       "    <tr>\n",
       "      <th>3</th>\n",
       "      <td>1</td>\n",
       "      <td>jonnypolite</td>\n",
       "      <td>10.0</td>\n",
       "    </tr>\n",
       "    <tr>\n",
       "      <th>4</th>\n",
       "      <td>1</td>\n",
       "      <td>pwotruba</td>\n",
       "      <td>10.0</td>\n",
       "    </tr>\n",
       "  </tbody>\n",
       "</table>\n",
       "</div>"
      ],
      "text/plain": [
       "   game_id         user  rating\n",
       "0        1     jackcres    10.0\n",
       "1        1     FuManchu    10.0\n",
       "2        1        HankM    10.0\n",
       "3        1  jonnypolite    10.0\n",
       "4        1     pwotruba    10.0"
      ]
     },
     "execution_count": 38,
     "metadata": {},
     "output_type": "execute_result"
    }
   ],
   "source": [
    "df.head()"
   ]
  },
  {
   "cell_type": "code",
   "execution_count": 39,
   "metadata": {},
   "outputs": [
    {
     "data": {
      "text/html": [
       "<div>\n",
       "<style scoped>\n",
       "    .dataframe tbody tr th:only-of-type {\n",
       "        vertical-align: middle;\n",
       "    }\n",
       "\n",
       "    .dataframe tbody tr th {\n",
       "        vertical-align: top;\n",
       "    }\n",
       "\n",
       "    .dataframe thead th {\n",
       "        text-align: right;\n",
       "    }\n",
       "</style>\n",
       "<table border=\"1\" class=\"dataframe\">\n",
       "  <thead>\n",
       "    <tr style=\"text-align: right;\">\n",
       "      <th></th>\n",
       "      <th>user</th>\n",
       "      <th>ratings</th>\n",
       "    </tr>\n",
       "  </thead>\n",
       "  <tbody>\n",
       "    <tr>\n",
       "      <th>282439</th>\n",
       "      <td>stoneart69</td>\n",
       "      <td>377</td>\n",
       "    </tr>\n",
       "    <tr>\n",
       "      <th>271005</th>\n",
       "      <td>ryansmum2008</td>\n",
       "      <td>375</td>\n",
       "    </tr>\n",
       "    <tr>\n",
       "      <th>36706</th>\n",
       "      <td>Doel</td>\n",
       "      <td>375</td>\n",
       "    </tr>\n",
       "    <tr>\n",
       "      <th>66153</th>\n",
       "      <td>JasonSaastad</td>\n",
       "      <td>374</td>\n",
       "    </tr>\n",
       "    <tr>\n",
       "      <th>106101</th>\n",
       "      <td>Pandorzecza</td>\n",
       "      <td>373</td>\n",
       "    </tr>\n",
       "    <tr>\n",
       "      <th>52633</th>\n",
       "      <td>Gibmaatsuki</td>\n",
       "      <td>372</td>\n",
       "    </tr>\n",
       "    <tr>\n",
       "      <th>233284</th>\n",
       "      <td>leffe dubbel</td>\n",
       "      <td>372</td>\n",
       "    </tr>\n",
       "    <tr>\n",
       "      <th>297318</th>\n",
       "      <td>we3die</td>\n",
       "      <td>361</td>\n",
       "    </tr>\n",
       "    <tr>\n",
       "      <th>295537</th>\n",
       "      <td>vincivader</td>\n",
       "      <td>350</td>\n",
       "    </tr>\n",
       "    <tr>\n",
       "      <th>259357</th>\n",
       "      <td>pete100</td>\n",
       "      <td>348</td>\n",
       "    </tr>\n",
       "  </tbody>\n",
       "</table>\n",
       "</div>"
      ],
      "text/plain": [
       "                user  ratings\n",
       "282439    stoneart69      377\n",
       "271005  ryansmum2008      375\n",
       "36706           Doel      375\n",
       "66153   JasonSaastad      374\n",
       "106101   Pandorzecza      373\n",
       "52633    Gibmaatsuki      372\n",
       "233284  leffe dubbel      372\n",
       "297318        we3die      361\n",
       "295537    vincivader      350\n",
       "259357       pete100      348"
      ]
     },
     "execution_count": 39,
     "metadata": {},
     "output_type": "execute_result"
    }
   ],
   "source": [
    "num_ratings = pd.pivot_table(df, index=['user'], values=['rating'], aggfunc='count')\n",
    "num_ratings.reset_index(inplace=True)\n",
    "num_ratings.columns = ['user','ratings']\n",
    "num_ratings.sort_values('ratings', ascending=False).head(10)"
   ]
  },
  {
   "cell_type": "code",
   "execution_count": 40,
   "metadata": {},
   "outputs": [
    {
     "data": {
      "text/plain": [
       "(304441, 108991)"
      ]
     },
     "execution_count": 40,
     "metadata": {},
     "output_type": "execute_result"
    }
   ],
   "source": [
    "num_ratings[num_ratings['ratings'] > -1].shape[0], num_ratings[num_ratings['ratings'] > 10].shape[0]"
   ]
  },
  {
   "cell_type": "code",
   "execution_count": 41,
   "metadata": {},
   "outputs": [
    {
     "data": {
      "text/plain": [
       "<matplotlib.axes._subplots.AxesSubplot at 0x1551bf3de48>"
      ]
     },
     "execution_count": 41,
     "metadata": {},
     "output_type": "execute_result"
    },
    {
     "data": {
      "image/png": "[encoded data removed]",
      "text/plain": [
       "<Figure size 432x288 with 1 Axes>"
      ]
     },
     "metadata": {
      "needs_background": "light"
     },
     "output_type": "display_data"
    }
   ],
   "source": [
    "sns.countplot(data=df[df['user'] == 'stoneart69'], x = 'rating')"
   ]
  },
  {
   "cell_type": "raw",
   "metadata": {},
   "source": [
    "Tough crowd!"
   ]
  },
  {
   "cell_type": "code",
   "execution_count": 42,
   "metadata": {},
   "outputs": [],
   "source": [
    "df['rating_int'] = df['rating'].astype(int)"
   ]
  },
  {
   "cell_type": "code",
   "execution_count": 43,
   "metadata": {},
   "outputs": [
    {
     "data": {
      "text/plain": [
       "<matplotlib.axes._subplots.AxesSubplot at 0x1550388d508>"
      ]
     },
     "execution_count": 43,
     "metadata": {},
     "output_type": "execute_result"
    },
    {
     "data": {
      "image/png": "[encoded data removed]",
      "text/plain": [
       "<Figure size 432x288 with 1 Axes>"
      ]
     },
     "metadata": {
      "needs_background": "light"
     },
     "output_type": "display_data"
    }
   ],
   "source": [
    "sns.countplot(data = df, x = 'rating_int')"
   ]
  },
  {
   "cell_type": "code",
   "execution_count": 44,
   "metadata": {},
   "outputs": [],
   "source": [
    "df['approve'] = np.where(df['rating'] >= 7, 1, 0)"
   ]
  },
  {
   "cell_type": "markdown",
   "metadata": {},
   "source": [
    "# Recommender System Setup"
   ]
  },
  {
   "cell_type": "code",
   "execution_count": 47,
   "metadata": {},
   "outputs": [],
   "source": [
    "# Utility to split the data into training and test sets.\n",
    "def split_dataframe(df, holdout_fraction=0.1):\n",
    "  \"\"\"Splits a DataFrame into training and test sets.\n",
    "  Args:\n",
    "    df: a dataframe.\n",
    "    holdout_fraction: fraction of dataframe rows to use in the test set.\n",
    "  Returns:\n",
    "    train: dataframe for training\n",
    "    test: dataframe for testing\n",
    "  \"\"\"\n",
    "  test = df.sample(frac=holdout_fraction, replace=False)\n",
    "  train = df[~df.index.isin(test.index)]\n",
    "  return train, test"
   ]
  },
  {
   "cell_type": "code",
   "execution_count": 48,
   "metadata": {},
   "outputs": [
    {
     "data": {
      "text/html": [
       "<div>\n",
       "<style scoped>\n",
       "    .dataframe tbody tr th:only-of-type {\n",
       "        vertical-align: middle;\n",
       "    }\n",
       "\n",
       "    .dataframe tbody tr th {\n",
       "        vertical-align: top;\n",
       "    }\n",
       "\n",
       "    .dataframe thead th {\n",
       "        text-align: right;\n",
       "    }\n",
       "</style>\n",
       "<table border=\"1\" class=\"dataframe\">\n",
       "  <thead>\n",
       "    <tr style=\"text-align: right;\">\n",
       "      <th></th>\n",
       "      <th>game_id</th>\n",
       "      <th>user</th>\n",
       "      <th>rating</th>\n",
       "      <th>rating_int</th>\n",
       "      <th>approve</th>\n",
       "      <th>ratings</th>\n",
       "    </tr>\n",
       "  </thead>\n",
       "  <tbody>\n",
       "    <tr>\n",
       "      <th>0</th>\n",
       "      <td>1</td>\n",
       "      <td>jackcres</td>\n",
       "      <td>10.0</td>\n",
       "      <td>10</td>\n",
       "      <td>1</td>\n",
       "      <td>31</td>\n",
       "    </tr>\n",
       "    <tr>\n",
       "      <th>1</th>\n",
       "      <td>1035</td>\n",
       "      <td>jackcres</td>\n",
       "      <td>8.0</td>\n",
       "      <td>8</td>\n",
       "      <td>1</td>\n",
       "      <td>31</td>\n",
       "    </tr>\n",
       "    <tr>\n",
       "      <th>2</th>\n",
       "      <td>1041</td>\n",
       "      <td>jackcres</td>\n",
       "      <td>8.0</td>\n",
       "      <td>8</td>\n",
       "      <td>1</td>\n",
       "      <td>31</td>\n",
       "    </tr>\n",
       "    <tr>\n",
       "      <th>3</th>\n",
       "      <td>11</td>\n",
       "      <td>jackcres</td>\n",
       "      <td>6.0</td>\n",
       "      <td>6</td>\n",
       "      <td>0</td>\n",
       "      <td>31</td>\n",
       "    </tr>\n",
       "    <tr>\n",
       "      <th>4</th>\n",
       "      <td>110327</td>\n",
       "      <td>jackcres</td>\n",
       "      <td>6.0</td>\n",
       "      <td>6</td>\n",
       "      <td>0</td>\n",
       "      <td>31</td>\n",
       "    </tr>\n",
       "  </tbody>\n",
       "</table>\n",
       "</div>"
      ],
      "text/plain": [
       "   game_id      user  rating  rating_int  approve  ratings\n",
       "0        1  jackcres    10.0          10        1       31\n",
       "1     1035  jackcres     8.0           8        1       31\n",
       "2     1041  jackcres     8.0           8        1       31\n",
       "3       11  jackcres     6.0           6        0       31\n",
       "4   110327  jackcres     6.0           6        0       31"
      ]
     },
     "execution_count": 48,
     "metadata": {},
     "output_type": "execute_result"
    }
   ],
   "source": [
    "ratings = df.merge(num_ratings, on ='user')\n",
    "ratings = ratings[ratings['ratings'] > 10]\n",
    "ratings.head()"
   ]
  },
  {
   "cell_type": "code",
   "execution_count": 49,
   "metadata": {},
   "outputs": [],
   "source": [
    "from collections import defaultdict\n",
    "\n",
    "def return_negative_one():\n",
    "    return -1\n",
    "    \n",
    "user_dict = defaultdict(return_negative_one)\n",
    "game_dict = defaultdict(return_negative_one)"
   ]
  },
  {
   "cell_type": "code",
   "execution_count": 50,
   "metadata": {},
   "outputs": [],
   "source": [
    "i = 0\n",
    "for u in ratings['user'].unique():\n",
    "    user_dict[u] = i\n",
    "    i += 1"
   ]
  },
  {
   "cell_type": "code",
   "execution_count": 51,
   "metadata": {},
   "outputs": [],
   "source": [
    "i = 0\n",
    "for u in ratings['game_id'].unique():\n",
    "    game_dict[u] = i\n",
    "    i += 1"
   ]
  },
  {
   "cell_type": "code",
   "execution_count": 52,
   "metadata": {},
   "outputs": [
    {
     "data": {
      "text/html": [
       "<div>\n",
       "<style scoped>\n",
       "    .dataframe tbody tr th:only-of-type {\n",
       "        vertical-align: middle;\n",
       "    }\n",
       "\n",
       "    .dataframe tbody tr th {\n",
       "        vertical-align: top;\n",
       "    }\n",
       "\n",
       "    .dataframe thead th {\n",
       "        text-align: right;\n",
       "    }\n",
       "</style>\n",
       "<table border=\"1\" class=\"dataframe\">\n",
       "  <thead>\n",
       "    <tr style=\"text-align: right;\">\n",
       "      <th></th>\n",
       "      <th>game_id</th>\n",
       "      <th>user</th>\n",
       "      <th>rating</th>\n",
       "      <th>rating_int</th>\n",
       "      <th>approve</th>\n",
       "      <th>ratings</th>\n",
       "      <th>user_idx</th>\n",
       "      <th>game_idx</th>\n",
       "    </tr>\n",
       "  </thead>\n",
       "  <tbody>\n",
       "    <tr>\n",
       "      <th>0</th>\n",
       "      <td>1</td>\n",
       "      <td>jackcres</td>\n",
       "      <td>10.0</td>\n",
       "      <td>10</td>\n",
       "      <td>1</td>\n",
       "      <td>31</td>\n",
       "      <td>0</td>\n",
       "      <td>0</td>\n",
       "    </tr>\n",
       "    <tr>\n",
       "      <th>1</th>\n",
       "      <td>1035</td>\n",
       "      <td>jackcres</td>\n",
       "      <td>8.0</td>\n",
       "      <td>8</td>\n",
       "      <td>1</td>\n",
       "      <td>31</td>\n",
       "      <td>0</td>\n",
       "      <td>1</td>\n",
       "    </tr>\n",
       "    <tr>\n",
       "      <th>2</th>\n",
       "      <td>1041</td>\n",
       "      <td>jackcres</td>\n",
       "      <td>8.0</td>\n",
       "      <td>8</td>\n",
       "      <td>1</td>\n",
       "      <td>31</td>\n",
       "      <td>0</td>\n",
       "      <td>2</td>\n",
       "    </tr>\n",
       "    <tr>\n",
       "      <th>3</th>\n",
       "      <td>11</td>\n",
       "      <td>jackcres</td>\n",
       "      <td>6.0</td>\n",
       "      <td>6</td>\n",
       "      <td>0</td>\n",
       "      <td>31</td>\n",
       "      <td>0</td>\n",
       "      <td>3</td>\n",
       "    </tr>\n",
       "    <tr>\n",
       "      <th>4</th>\n",
       "      <td>110327</td>\n",
       "      <td>jackcres</td>\n",
       "      <td>6.0</td>\n",
       "      <td>6</td>\n",
       "      <td>0</td>\n",
       "      <td>31</td>\n",
       "      <td>0</td>\n",
       "      <td>4</td>\n",
       "    </tr>\n",
       "  </tbody>\n",
       "</table>\n",
       "</div>"
      ],
      "text/plain": [
       "   game_id      user  rating  rating_int  approve  ratings  user_idx  game_idx\n",
       "0        1  jackcres    10.0          10        1       31         0         0\n",
       "1     1035  jackcres     8.0           8        1       31         0         1\n",
       "2     1041  jackcres     8.0           8        1       31         0         2\n",
       "3       11  jackcres     6.0           6        0       31         0         3\n",
       "4   110327  jackcres     6.0           6        0       31         0         4"
      ]
     },
     "execution_count": 52,
     "metadata": {},
     "output_type": "execute_result"
    }
   ],
   "source": [
    "ratings['user_idx'] = ratings['user'].apply(lambda x: user_dict[x])\n",
    "ratings['game_idx'] = ratings['game_id'].apply(lambda x: game_dict[x])\n",
    "ratings.head()"
   ]
  },
  {
   "cell_type": "code",
   "execution_count": 53,
   "metadata": {},
   "outputs": [
    {
     "data": {
      "text/plain": [
       "game_id         int64\n",
       "user           object\n",
       "rating        float64\n",
       "rating_int      int32\n",
       "approve         int32\n",
       "ratings         int64\n",
       "user_idx        int64\n",
       "game_idx        int64\n",
       "dtype: object"
      ]
     },
     "execution_count": 53,
     "metadata": {},
     "output_type": "execute_result"
    }
   ],
   "source": [
    "ratings.dtypes"
   ]
  },
  {
   "cell_type": "code",
   "execution_count": 54,
   "metadata": {},
   "outputs": [
    {
     "data": {
      "text/plain": [
       "(3801461, 108990, 108991)"
      ]
     },
     "execution_count": 54,
     "metadata": {},
     "output_type": "execute_result"
    }
   ],
   "source": [
    "ratings.shape[0], ratings['user_idx'].max(), ratings['user_idx'].nunique()"
   ]
  },
  {
   "cell_type": "code",
   "execution_count": 55,
   "metadata": {},
   "outputs": [],
   "source": [
    "#@title Solution\n",
    "def build_rating_sparse_tensor(ratings_df):\n",
    "  \"\"\"\n",
    "  Args:\n",
    "    ratings_df: a pd.DataFrame with `user_id`, `movie_id` and `rating` columns.\n",
    "  Returns:\n",
    "    a tf.SparseTensor representing the ratings matrix.\n",
    "  \"\"\"\n",
    "  indices = ratings_df[['user_idx', 'game_idx']].values\n",
    "  values_ = ratings_df['rating_int'].values\n",
    "  return tf.SparseTensor(\n",
    "      indices=indices,\n",
    "      values=values_,\n",
    "      dense_shape=[ratings_df['user_idx'].nunique(), ratings_df['game_idx'].nunique()])"
   ]
  },
  {
   "cell_type": "code",
   "execution_count": 56,
   "metadata": {},
   "outputs": [],
   "source": [
    "def sparse_mean_square_error(sparse_ratings, user_embeddings, movie_embeddings):\n",
    "  \"\"\"\n",
    "  Args:\n",
    "    sparse_ratings: A SparseTensor rating matrix, of dense_shape [N, M]\n",
    "    user_embeddings: A dense Tensor U of shape [N, k] where k is the embedding\n",
    "      dimension, such that U_i is the embedding of user i.\n",
    "    movie_embeddings: A dense Tensor V of shape [M, k] where k is the embedding\n",
    "      dimension, such that V_j is the embedding of movie j.\n",
    "  Returns:\n",
    "    A scalar Tensor representing the MSE between the true ratings and the\n",
    "      model's predictions.\n",
    "  \"\"\"\n",
    "  predictions = tf.gather_nd(\n",
    "      tf.matmul(user_embeddings, movie_embeddings, transpose_b=True),\n",
    "      sparse_ratings.indices)\n",
    "  loss = tf.losses.mean_squared_error(sparse_ratings.values, predictions)\n",
    "  return loss"
   ]
  },
  {
   "cell_type": "code",
   "execution_count": 57,
   "metadata": {},
   "outputs": [],
   "source": [
    "class CFModel(object):\n",
    "  \"\"\"Simple class that represents a collaborative filtering model\"\"\"\n",
    "  def __init__(self, embedding_vars, loss, metrics=None):\n",
    "    \"\"\"Initializes a CFModel.\n",
    "    Args:\n",
    "      embedding_vars: A dictionary of tf.Variables.\n",
    "      loss: A float Tensor. The loss to optimize.\n",
    "      metrics: optional list of dictionaries of Tensors. The metrics in each\n",
    "        dictionary will be plotted in a separate figure during training.\n",
    "    \"\"\"\n",
    "    self._embedding_vars = embedding_vars\n",
    "    self._loss = loss\n",
    "    self._metrics = metrics\n",
    "    self._embeddings = {k: None for k in embedding_vars}\n",
    "    self._session = None\n",
    "\n",
    "  @property\n",
    "  def embeddings(self):\n",
    "    \"\"\"The embeddings dictionary.\"\"\"\n",
    "    return self._embeddings\n",
    "\n",
    "  def train(self, num_iterations=100, learning_rate=1.0, plot_results=True,\n",
    "            optimizer=tf.train.GradientDescentOptimizer):\n",
    "    \"\"\"Trains the model.\n",
    "    Args:\n",
    "      iterations: number of iterations to run.\n",
    "      learning_rate: optimizer learning rate.\n",
    "      plot_results: whether to plot the results at the end of training.\n",
    "      optimizer: the optimizer to use. Default to GradientDescentOptimizer.\n",
    "    Returns:\n",
    "      The metrics dictionary evaluated at the last iteration.\n",
    "    \"\"\"\n",
    "    with self._loss.graph.as_default():\n",
    "      opt = optimizer(learning_rate)\n",
    "      train_op = opt.minimize(self._loss)\n",
    "      local_init_op = tf.group(\n",
    "          tf.variables_initializer(opt.variables()),\n",
    "          tf.local_variables_initializer())\n",
    "      if self._session is None:\n",
    "        self._session = tf.Session()\n",
    "        with self._session.as_default():\n",
    "          self._session.run(tf.global_variables_initializer())\n",
    "          self._session.run(tf.tables_initializer())\n",
    "          tf.train.start_queue_runners()\n",
    "\n",
    "    with self._session.as_default():\n",
    "      local_init_op.run()\n",
    "      iterations = []\n",
    "      metrics = self._metrics or ({},)\n",
    "      metrics_vals = [collections.defaultdict(list) for _ in self._metrics]\n",
    "\n",
    "      # Train and append results.\n",
    "      for i in range(num_iterations + 1):\n",
    "        _, results = self._session.run((train_op, metrics))\n",
    "        if (i % 10 == 0) or i == num_iterations:\n",
    "          print(\"\\r iteration %d: \" % i + \", \".join(\n",
    "                [\"%s=%f\" % (k, v) for r in results for k, v in r.items()]),\n",
    "                end='')\n",
    "          iterations.append(i)\n",
    "          for metric_val, result in zip(metrics_vals, results):\n",
    "            for k, v in result.items():\n",
    "              metric_val[k].append(v)\n",
    "\n",
    "      for k, v in self._embedding_vars.items():\n",
    "        self._embeddings[k] = v.eval()\n",
    "\n",
    "      if plot_results:\n",
    "        # Plot the metrics.\n",
    "        num_subplots = len(metrics)+1\n",
    "        fig = plt.figure()\n",
    "        fig.set_size_inches(num_subplots*10, 8)\n",
    "        for i, metric_vals in enumerate(metrics_vals):\n",
    "          ax = fig.add_subplot(1, num_subplots, i+1)\n",
    "          for k, v in metric_vals.items():\n",
    "            ax.plot(iterations, v, label=k)\n",
    "          ax.set_xlim([1, num_iterations])\n",
    "          ax.legend()\n",
    "      return results"
   ]
  },
  {
   "cell_type": "code",
   "execution_count": 58,
   "metadata": {},
   "outputs": [],
   "source": [
    "def build_model(ratings, embedding_dim=3, init_stddev=1.):\n",
    "  \"\"\"\n",
    "  Args:\n",
    "    ratings: a DataFrame of the ratings\n",
    "    embedding_dim: the dimension of the embedding vectors.\n",
    "    init_stddev: float, the standard deviation of the random initial embeddings.\n",
    "  Returns:\n",
    "    model: a CFModel.\n",
    "  \"\"\"\n",
    "  # Split the ratings DataFrame into train and test.\n",
    "  train_ratings, test_ratings = split_dataframe(ratings)\n",
    "  # SparseTensor representation of the train and test datasets.\n",
    "  A_train = build_rating_sparse_tensor(train_ratings)\n",
    "  A_test = build_rating_sparse_tensor(test_ratings)\n",
    "  # Initialize the embeddings using a normal distribution.\n",
    "  U = tf.Variable(tf.random_normal(\n",
    "      [A_train.dense_shape[0], embedding_dim], stddev=init_stddev))\n",
    "  V = tf.Variable(tf.random_normal(\n",
    "      [A_train.dense_shape[1], embedding_dim], stddev=init_stddev))\n",
    "  train_loss = sparse_mean_square_error(A_train, U, V)\n",
    "  test_loss = sparse_mean_square_error(A_test, U, V)\n",
    "  metrics = {\n",
    "      'train_error': train_loss,\n",
    "      'test_error': test_loss\n",
    "  }\n",
    "  embeddings = {\n",
    "      \"user_idx\": U,\n",
    "      \"game_idx\": V\n",
    "  }\n",
    "  return CFModel(embeddings, train_loss, [metrics])"
   ]
  },
  {
   "cell_type": "code",
   "execution_count": 59,
   "metadata": {},
   "outputs": [],
   "source": [
    "train_ratings, test_ratings = split_dataframe(ratings)\n",
    "# SparseTensor representation of the train and test datasets.\n",
    "A_train = build_rating_sparse_tensor(train_ratings)\n",
    "A_test = build_rating_sparse_tensor(test_ratings)"
   ]
  },
  {
   "cell_type": "code",
   "execution_count": 88,
   "metadata": {},
   "outputs": [
    {
     "name": "stdout",
     "output_type": "stream",
     "text": [
      " iteration 500: train_error=1.676016, test_error=1.87729976"
     ]
    },
    {
     "data": {
      "text/plain": [
       "[{'train_error': 1.6760159, 'test_error': 1.8772994}]"
      ]
     },
     "execution_count": 88,
     "metadata": {},
     "output_type": "execute_result"
    },
    {
     "data": {
      "image/png": "[encoded data removed]",
      "text/plain": [
       "<Figure size 1440x576 with 1 Axes>"
      ]
     },
     "metadata": {
      "needs_background": "light"
     },
     "output_type": "display_data"
    }
   ],
   "source": [
    "# Build the CF model and train it.\n",
    "model = build_model(ratings, embedding_dim=10, init_stddev=0.5)\n",
    "model.train(num_iterations=350, learning_rate=10.)"
   ]
  },
  {
   "cell_type": "code",
   "execution_count": 92,
   "metadata": {},
   "outputs": [
    {
     "name": "stdout",
     "output_type": "stream",
     "text": [
      " iteration 350: train_error=2.266076, test_error=2.44914212"
     ]
    },
    {
     "data": {
      "text/plain": [
       "[{'train_error': 2.2660758, 'test_error': 2.4491425}]"
      ]
     },
     "execution_count": 92,
     "metadata": {},
     "output_type": "execute_result"
    },
    {
     "data": {
      "image/png": "[encoded data removed]",
      "text/plain": [
       "<Figure size 1440x576 with 1 Axes>"
      ]
     },
     "metadata": {
      "needs_background": "light"
     },
     "output_type": "display_data"
    }
   ],
   "source": [
    "# Build the CF model and train it.\n",
    "model = build_model(ratings, embedding_dim=3, init_stddev=0.1)\n",
    "model.train(num_iterations=350, learning_rate=10.)"
   ]
  },
  {
   "cell_type": "code",
   "execution_count": null,
   "metadata": {},
   "outputs": [],
   "source": []
  },
  {
   "cell_type": "markdown",
   "metadata": {},
   "source": [
    "# Testing Recommender Performance"
   ]
  },
  {
   "cell_type": "code",
   "execution_count": 61,
   "metadata": {},
   "outputs": [],
   "source": [
    "#itle Solution\n",
    "DOT = 'dot'\n",
    "COSINE = 'cosine'\n",
    "def compute_scores(query_embedding, item_embeddings, measure=DOT):\n",
    "  \"\"\"Computes the scores of the candidates given a query.\n",
    "  Args:\n",
    "    query_embedding: a vector of shape [k], representing the query embedding.\n",
    "    item_embeddings: a matrix of shape [N, k], such that row i is the embedding\n",
    "      of item i.\n",
    "    measure: a string specifying the similarity measure to be used. Can be\n",
    "      either DOT or COSINE.\n",
    "  Returns:\n",
    "    scores: a vector of shape [N], such that scores[i] is the score of item i.\n",
    "  \"\"\"\n",
    "  u = query_embedding\n",
    "  V = item_embeddings\n",
    "  if measure == COSINE:\n",
    "    V = V / np.linalg.norm(V, axis=1, keepdims=True)\n",
    "    u = u / np.linalg.norm(u)\n",
    "  scores = u.dot(V.T)\n",
    "  return scores"
   ]
  },
  {
   "cell_type": "code",
   "execution_count": 62,
   "metadata": {},
   "outputs": [],
   "source": [
    "import sqlite3\n",
    "con = sqlite3.connect('bgg.db')\n",
    "cur = con.cursor()"
   ]
  },
  {
   "cell_type": "code",
   "execution_count": 63,
   "metadata": {},
   "outputs": [
    {
     "name": "stdout",
     "output_type": "stream",
     "text": [
      "['id', 'title', 'year', 'min_players', 'max_players', 'avg_rating', 'avg_bayes_rating', 'std', 'ratings', 'weight', 'play_time']\n"
     ]
    }
   ],
   "source": [
    "#results = cur.execute('SELECT * FROM TOP_GAMES_FULL')\n",
    "results = cur.execute('PRAGMA table_info(TOP_GAMES_FULL)')\n",
    "results = results.fetchall()\n",
    "result_li = [r for r in results]\n",
    "column_li = []\n",
    "for r in result_li:\n",
    "    column_li.append(r[1])\n",
    "\n",
    "print(column_li)"
   ]
  },
  {
   "cell_type": "code",
   "execution_count": 64,
   "metadata": {},
   "outputs": [
    {
     "data": {
      "text/html": [
       "<div>\n",
       "<style scoped>\n",
       "    .dataframe tbody tr th:only-of-type {\n",
       "        vertical-align: middle;\n",
       "    }\n",
       "\n",
       "    .dataframe tbody tr th {\n",
       "        vertical-align: top;\n",
       "    }\n",
       "\n",
       "    .dataframe thead th {\n",
       "        text-align: right;\n",
       "    }\n",
       "</style>\n",
       "<table border=\"1\" class=\"dataframe\">\n",
       "  <thead>\n",
       "    <tr style=\"text-align: right;\">\n",
       "      <th></th>\n",
       "      <th>id</th>\n",
       "      <th>title</th>\n",
       "      <th>year</th>\n",
       "      <th>min_players</th>\n",
       "      <th>max_players</th>\n",
       "      <th>avg_rating</th>\n",
       "      <th>avg_bayes_rating</th>\n",
       "      <th>std</th>\n",
       "      <th>ratings</th>\n",
       "      <th>weight</th>\n",
       "      <th>play_time</th>\n",
       "    </tr>\n",
       "  </thead>\n",
       "  <tbody>\n",
       "    <tr>\n",
       "      <th>0</th>\n",
       "      <td>174430</td>\n",
       "      <td>gloomhaven</td>\n",
       "      <td>2017</td>\n",
       "      <td>1</td>\n",
       "      <td>4</td>\n",
       "      <td>8.76798</td>\n",
       "      <td>8.53089</td>\n",
       "      <td>1.63005</td>\n",
       "      <td>45304</td>\n",
       "      <td>3.8673</td>\n",
       "      <td>120</td>\n",
       "    </tr>\n",
       "    <tr>\n",
       "      <th>1</th>\n",
       "      <td>161936</td>\n",
       "      <td>pandemic_legacy_season_1</td>\n",
       "      <td>2015</td>\n",
       "      <td>2</td>\n",
       "      <td>4</td>\n",
       "      <td>8.60479</td>\n",
       "      <td>8.45273</td>\n",
       "      <td>1.56467</td>\n",
       "      <td>43525</td>\n",
       "      <td>2.836</td>\n",
       "      <td>60</td>\n",
       "    </tr>\n",
       "    <tr>\n",
       "      <th>2</th>\n",
       "      <td>224517</td>\n",
       "      <td>brass_birmingham</td>\n",
       "      <td>2018</td>\n",
       "      <td>2</td>\n",
       "      <td>4</td>\n",
       "      <td>8.66929</td>\n",
       "      <td>8.406</td>\n",
       "      <td>1.24659</td>\n",
       "      <td>22694</td>\n",
       "      <td>3.9084</td>\n",
       "      <td>120</td>\n",
       "    </tr>\n",
       "    <tr>\n",
       "      <th>3</th>\n",
       "      <td>167791</td>\n",
       "      <td>terraforming_mars</td>\n",
       "      <td>2016</td>\n",
       "      <td>1</td>\n",
       "      <td>5</td>\n",
       "      <td>8.4247</td>\n",
       "      <td>8.27852</td>\n",
       "      <td>1.38438</td>\n",
       "      <td>69921</td>\n",
       "      <td>3.244</td>\n",
       "      <td>120</td>\n",
       "    </tr>\n",
       "    <tr>\n",
       "      <th>4</th>\n",
       "      <td>291457</td>\n",
       "      <td>gloomhaven_jaws_lion</td>\n",
       "      <td>2020</td>\n",
       "      <td>1</td>\n",
       "      <td>4</td>\n",
       "      <td>8.7573</td>\n",
       "      <td>8.2579</td>\n",
       "      <td>1.40857</td>\n",
       "      <td>12633</td>\n",
       "      <td>3.559</td>\n",
       "      <td>120</td>\n",
       "    </tr>\n",
       "  </tbody>\n",
       "</table>\n",
       "</div>"
      ],
      "text/plain": [
       "       id                     title  year min_players max_players avg_rating  \\\n",
       "0  174430                gloomhaven  2017           1           4    8.76798   \n",
       "1  161936  pandemic_legacy_season_1  2015           2           4    8.60479   \n",
       "2  224517          brass_birmingham  2018           2           4    8.66929   \n",
       "3  167791         terraforming_mars  2016           1           5     8.4247   \n",
       "4  291457      gloomhaven_jaws_lion  2020           1           4     8.7573   \n",
       "\n",
       "  avg_bayes_rating      std ratings  weight play_time  \n",
       "0          8.53089  1.63005   45304  3.8673       120  \n",
       "1          8.45273  1.56467   43525   2.836        60  \n",
       "2            8.406  1.24659   22694  3.9084       120  \n",
       "3          8.27852  1.38438   69921   3.244       120  \n",
       "4           8.2579  1.40857   12633   3.559       120  "
      ]
     },
     "execution_count": 64,
     "metadata": {},
     "output_type": "execute_result"
    }
   ],
   "source": [
    "results = cur.execute('SELECT * FROM TOP_GAMES_FULL')\n",
    "results = results.fetchall()\n",
    "result_li = [r for r in results]\n",
    "df = pd.DataFrame(result_li, columns = column_li)\n",
    "df.head()"
   ]
  },
  {
   "cell_type": "code",
   "execution_count": 65,
   "metadata": {},
   "outputs": [],
   "source": [
    "df['game_idx'] = df['id'].apply(lambda x: game_dict[int(x)])\n",
    "games = df[df['game_idx'] >= 0]\n",
    "games = games[['game_idx', 'title', 'year', 'weight', 'play_time', 'ratings']]"
   ]
  },
  {
   "cell_type": "code",
   "execution_count": 66,
   "metadata": {},
   "outputs": [],
   "source": [
    "def game_neighbors(model, title_substring, measure=DOT, k=6):\n",
    "  # Search for movie ids that match the given substring.\n",
    "  ids =  games.loc[games['title'].str.contains(title_substring), ['game_idx']].values\n",
    "  ids = list(ids.flatten())\n",
    "  titles = games.loc[games['game_idx'].isin(ids), 'title'].values\n",
    "  if len(titles) == 0:\n",
    "    raise ValueError(\"Found no games with title %s\" % title_substring)\n",
    "  print(\"Nearest neighbors of : %s.\" % titles[0])\n",
    "  if len(titles) > 1:\n",
    "    print(\"[Found more than one matching game. Other candidates: {}]\".format(\n",
    "        \", \".join(titles[1:])))\n",
    "  movie_id = ids[0]\n",
    "  scores = compute_scores(\n",
    "      model.embeddings[\"game_idx\"][movie_id], model.embeddings[\"game_idx\"],\n",
    "      measure)\n",
    "  score_key = measure + ' score'\n",
    "  df = pd.DataFrame({\n",
    "      score_key: list(scores),\n",
    "      'titles': games['title']\n",
    "      #'genres': movies['all_genres']\n",
    "  })\n",
    "  display.display(df.sort_values([score_key], ascending=False).head(k))"
   ]
  },
  {
   "cell_type": "code",
   "execution_count": 67,
   "metadata": {},
   "outputs": [
    {
     "name": "stdout",
     "output_type": "stream",
     "text": [
      "Nearest neighbors of : bohnanza.\n"
     ]
    },
    {
     "data": {
      "text/html": [
       "<div>\n",
       "<style scoped>\n",
       "    .dataframe tbody tr th:only-of-type {\n",
       "        vertical-align: middle;\n",
       "    }\n",
       "\n",
       "    .dataframe tbody tr th {\n",
       "        vertical-align: top;\n",
       "    }\n",
       "\n",
       "    .dataframe thead th {\n",
       "        text-align: right;\n",
       "    }\n",
       "</style>\n",
       "<table border=\"1\" class=\"dataframe\">\n",
       "  <thead>\n",
       "    <tr style=\"text-align: right;\">\n",
       "      <th></th>\n",
       "      <th>cosine score</th>\n",
       "      <th>titles</th>\n",
       "    </tr>\n",
       "  </thead>\n",
       "  <tbody>\n",
       "    <tr>\n",
       "      <th>7</th>\n",
       "      <td>1.000000</td>\n",
       "      <td>star_wars_rebellion</td>\n",
       "    </tr>\n",
       "    <tr>\n",
       "      <th>238</th>\n",
       "      <td>0.999950</td>\n",
       "      <td>manhattan_project_energy_empire</td>\n",
       "    </tr>\n",
       "    <tr>\n",
       "      <th>24</th>\n",
       "      <td>0.999945</td>\n",
       "      <td>orleans</td>\n",
       "    </tr>\n",
       "    <tr>\n",
       "      <th>17</th>\n",
       "      <td>0.999943</td>\n",
       "      <td>concordia</td>\n",
       "    </tr>\n",
       "    <tr>\n",
       "      <th>293</th>\n",
       "      <td>0.999938</td>\n",
       "      <td>evolution_climate</td>\n",
       "    </tr>\n",
       "    <tr>\n",
       "      <th>403</th>\n",
       "      <td>0.999930</td>\n",
       "      <td>raptor</td>\n",
       "    </tr>\n",
       "  </tbody>\n",
       "</table>\n",
       "</div>"
      ],
      "text/plain": [
       "     cosine score                           titles\n",
       "7        1.000000              star_wars_rebellion\n",
       "238      0.999950  manhattan_project_energy_empire\n",
       "24       0.999945                          orleans\n",
       "17       0.999943                        concordia\n",
       "293      0.999938                evolution_climate\n",
       "403      0.999930                           raptor"
      ]
     },
     "metadata": {},
     "output_type": "display_data"
    }
   ],
   "source": [
    "game_neighbors(model, \"bohnanza\", COSINE, k=6)"
   ]
  },
  {
   "cell_type": "code",
   "execution_count": 68,
   "metadata": {},
   "outputs": [
    {
     "name": "stdout",
     "output_type": "stream",
     "text": [
      "Nearest neighbors of : orleans.\n"
     ]
    },
    {
     "data": {
      "text/html": [
       "<div>\n",
       "<style scoped>\n",
       "    .dataframe tbody tr th:only-of-type {\n",
       "        vertical-align: middle;\n",
       "    }\n",
       "\n",
       "    .dataframe tbody tr th {\n",
       "        vertical-align: top;\n",
       "    }\n",
       "\n",
       "    .dataframe thead th {\n",
       "        text-align: right;\n",
       "    }\n",
       "</style>\n",
       "<table border=\"1\" class=\"dataframe\">\n",
       "  <thead>\n",
       "    <tr style=\"text-align: right;\">\n",
       "      <th></th>\n",
       "      <th>dot score</th>\n",
       "      <th>titles</th>\n",
       "    </tr>\n",
       "  </thead>\n",
       "  <tbody>\n",
       "    <tr>\n",
       "      <th>646</th>\n",
       "      <td>112.537239</td>\n",
       "      <td>among_stars</td>\n",
       "    </tr>\n",
       "    <tr>\n",
       "      <th>99</th>\n",
       "      <td>111.420212</td>\n",
       "      <td>roll_galaxy</td>\n",
       "    </tr>\n",
       "    <tr>\n",
       "      <th>59</th>\n",
       "      <td>109.211906</td>\n",
       "      <td>android_netrunner</td>\n",
       "    </tr>\n",
       "    <tr>\n",
       "      <th>581</th>\n",
       "      <td>106.819901</td>\n",
       "      <td>vegas_showdown</td>\n",
       "    </tr>\n",
       "    <tr>\n",
       "      <th>15</th>\n",
       "      <td>106.691055</td>\n",
       "      <td>7_wonders_duel</td>\n",
       "    </tr>\n",
       "    <tr>\n",
       "      <th>73</th>\n",
       "      <td>106.571899</td>\n",
       "      <td>five_tribes</td>\n",
       "    </tr>\n",
       "  </tbody>\n",
       "</table>\n",
       "</div>"
      ],
      "text/plain": [
       "      dot score             titles\n",
       "646  112.537239        among_stars\n",
       "99   111.420212        roll_galaxy\n",
       "59   109.211906  android_netrunner\n",
       "581  106.819901     vegas_showdown\n",
       "15   106.691055     7_wonders_duel\n",
       "73   106.571899        five_tribes"
      ]
     },
     "metadata": {},
     "output_type": "display_data"
    }
   ],
   "source": [
    "game_neighbors(model, \"orleans\", DOT, k= 6)"
   ]
  },
  {
   "cell_type": "markdown",
   "metadata": {},
   "source": [
    "Dot product recommends the same games no matter what. Cosine seems to perform much better"
   ]
  },
  {
   "cell_type": "markdown",
   "metadata": {},
   "source": [
    "# Adjusting Model"
   ]
  },
  {
   "cell_type": "code",
   "execution_count": 69,
   "metadata": {},
   "outputs": [],
   "source": [
    "def game_embedding_norm(models):\n",
    "  \"\"\"Visualizes the norm and number of ratings of the movie embeddings.\n",
    "  Args:\n",
    "    model: A MFModel object.\n",
    "  \"\"\"\n",
    "  if not isinstance(models, list):\n",
    "    models = [models]\n",
    "  df = pd.DataFrame({\n",
    "      'title': games['title'],\n",
    "      'num_ratings': games['user_ratings'],\n",
    "  })\n",
    "  df['num_ratings'] = df['num_ratings'].astype(int)\n",
    "  #df['num_ratings'] = df['num_ratings'].apply(lambda x: np.log(x))\n",
    "  charts = []\n",
    "  brush = alt.selection_interval()\n",
    "  for i, model in enumerate(models):\n",
    "    norm_key = 'norm'+str(i)\n",
    "    df[norm_key] = np.linalg.norm(model.embeddings[\"game_idx\"], axis=1)\n",
    "    nearest = alt.selection(\n",
    "        type='single', encodings=['x', 'y'], on='mouseover', nearest=True,\n",
    "        empty='none')\n",
    "    base = alt.Chart().mark_circle().encode(\n",
    "        x='num_ratings',\n",
    "        y=norm_key,\n",
    "        color=alt.condition(brush, alt.value('#4c78a8'), alt.value('lightgray'))\n",
    "    ).properties(\n",
    "        selection=nearest).add_selection(brush)\n",
    "    text = alt.Chart().mark_text(align='center', dx=5, dy=-5).encode(\n",
    "        x='num_ratings', y=norm_key,\n",
    "        text=alt.condition(nearest, 'title', alt.value('')))\n",
    "    charts.append(alt.layer(base, text))\n",
    "  return alt.hconcat(*charts, data=df), df"
   ]
  },
  {
   "cell_type": "code",
   "execution_count": 70,
   "metadata": {},
   "outputs": [],
   "source": [
    "if not 'user_ratings' in games.columns:\n",
    "    num_of_game_ratings = pd.pivot_table(data=ratings, index = ['game_idx'], values = ['user'], aggfunc='count')\n",
    "    num_of_game_ratings.reset_index(inplace=True)\n",
    "    num_of_game_ratings.columns = ['game_idx', 'user_ratings']\n",
    "    games = games.merge(num_of_game_ratings, on = 'game_idx')\n",
    "    games.head()"
   ]
  },
  {
   "cell_type": "code",
   "execution_count": 71,
   "metadata": {},
   "outputs": [
    {
     "data": {
      "text/html": [
       "<div>\n",
       "<style scoped>\n",
       "    .dataframe tbody tr th:only-of-type {\n",
       "        vertical-align: middle;\n",
       "    }\n",
       "\n",
       "    .dataframe tbody tr th {\n",
       "        vertical-align: top;\n",
       "    }\n",
       "\n",
       "    .dataframe thead th {\n",
       "        text-align: right;\n",
       "    }\n",
       "</style>\n",
       "<table border=\"1\" class=\"dataframe\">\n",
       "  <thead>\n",
       "    <tr style=\"text-align: right;\">\n",
       "      <th></th>\n",
       "      <th>game_idx</th>\n",
       "      <th>title</th>\n",
       "      <th>year</th>\n",
       "      <th>weight</th>\n",
       "      <th>play_time</th>\n",
       "      <th>ratings</th>\n",
       "      <th>user_ratings</th>\n",
       "    </tr>\n",
       "  </thead>\n",
       "  <tbody>\n",
       "    <tr>\n",
       "      <th>0</th>\n",
       "      <td>244</td>\n",
       "      <td>gloomhaven</td>\n",
       "      <td>2017</td>\n",
       "      <td>3.8673</td>\n",
       "      <td>120</td>\n",
       "      <td>45304</td>\n",
       "      <td>30333</td>\n",
       "    </tr>\n",
       "    <tr>\n",
       "      <th>1</th>\n",
       "      <td>43</td>\n",
       "      <td>pandemic_legacy_season_1</td>\n",
       "      <td>2015</td>\n",
       "      <td>2.836</td>\n",
       "      <td>60</td>\n",
       "      <td>43525</td>\n",
       "      <td>34807</td>\n",
       "    </tr>\n",
       "    <tr>\n",
       "      <th>2</th>\n",
       "      <td>25</td>\n",
       "      <td>terraforming_mars</td>\n",
       "      <td>2016</td>\n",
       "      <td>3.244</td>\n",
       "      <td>120</td>\n",
       "      <td>69921</td>\n",
       "      <td>51899</td>\n",
       "    </tr>\n",
       "    <tr>\n",
       "      <th>3</th>\n",
       "      <td>30</td>\n",
       "      <td>star_wars_rebellion</td>\n",
       "      <td>2016</td>\n",
       "      <td>3.7216</td>\n",
       "      <td>240</td>\n",
       "      <td>24459</td>\n",
       "      <td>20138</td>\n",
       "    </tr>\n",
       "    <tr>\n",
       "      <th>4</th>\n",
       "      <td>224</td>\n",
       "      <td>through_ages_new_story_civilization</td>\n",
       "      <td>2015</td>\n",
       "      <td>4.4062</td>\n",
       "      <td>120</td>\n",
       "      <td>24493</td>\n",
       "      <td>21548</td>\n",
       "    </tr>\n",
       "  </tbody>\n",
       "</table>\n",
       "</div>"
      ],
      "text/plain": [
       "   game_idx                                title  year  weight play_time  \\\n",
       "0       244                           gloomhaven  2017  3.8673       120   \n",
       "1        43             pandemic_legacy_season_1  2015   2.836        60   \n",
       "2        25                    terraforming_mars  2016   3.244       120   \n",
       "3        30                  star_wars_rebellion  2016  3.7216       240   \n",
       "4       224  through_ages_new_story_civilization  2015  4.4062       120   \n",
       "\n",
       "  ratings  user_ratings  \n",
       "0   45304         30333  \n",
       "1   43525         34807  \n",
       "2   69921         51899  \n",
       "3   24459         20138  \n",
       "4   24493         21548  "
      ]
     },
     "execution_count": 71,
     "metadata": {},
     "output_type": "execute_result"
    }
   ],
   "source": [
    "games.head()"
   ]
  },
  {
   "cell_type": "code",
   "execution_count": 72,
   "metadata": {},
   "outputs": [],
   "source": [
    "thing, _ = game_embedding_norm(model)"
   ]
  },
  {
   "cell_type": "code",
   "execution_count": 73,
   "metadata": {},
   "outputs": [
    {
     "data": {
      "text/html": [
       "<div>\n",
       "<style scoped>\n",
       "    .dataframe tbody tr th:only-of-type {\n",
       "        vertical-align: middle;\n",
       "    }\n",
       "\n",
       "    .dataframe tbody tr th {\n",
       "        vertical-align: top;\n",
       "    }\n",
       "\n",
       "    .dataframe thead th {\n",
       "        text-align: right;\n",
       "    }\n",
       "</style>\n",
       "<table border=\"1\" class=\"dataframe\">\n",
       "  <thead>\n",
       "    <tr style=\"text-align: right;\">\n",
       "      <th></th>\n",
       "      <th>title</th>\n",
       "      <th>num_ratings</th>\n",
       "      <th>norm0</th>\n",
       "    </tr>\n",
       "  </thead>\n",
       "  <tbody>\n",
       "    <tr>\n",
       "      <th>0</th>\n",
       "      <td>gloomhaven</td>\n",
       "      <td>30333</td>\n",
       "      <td>8.189427</td>\n",
       "    </tr>\n",
       "    <tr>\n",
       "      <th>1</th>\n",
       "      <td>pandemic_legacy_season_1</td>\n",
       "      <td>34807</td>\n",
       "      <td>3.354197</td>\n",
       "    </tr>\n",
       "    <tr>\n",
       "      <th>2</th>\n",
       "      <td>terraforming_mars</td>\n",
       "      <td>51899</td>\n",
       "      <td>7.136006</td>\n",
       "    </tr>\n",
       "    <tr>\n",
       "      <th>3</th>\n",
       "      <td>star_wars_rebellion</td>\n",
       "      <td>20138</td>\n",
       "      <td>8.947441</td>\n",
       "    </tr>\n",
       "    <tr>\n",
       "      <th>4</th>\n",
       "      <td>through_ages_new_story_civilization</td>\n",
       "      <td>21548</td>\n",
       "      <td>9.808330</td>\n",
       "    </tr>\n",
       "    <tr>\n",
       "      <th>...</th>\n",
       "      <td>...</td>\n",
       "      <td>...</td>\n",
       "      <td>...</td>\n",
       "    </tr>\n",
       "    <tr>\n",
       "      <th>368</th>\n",
       "      <td>explorers_north_sea</td>\n",
       "      <td>2106</td>\n",
       "      <td>4.724884</td>\n",
       "    </tr>\n",
       "    <tr>\n",
       "      <th>369</th>\n",
       "      <td>la_isla</td>\n",
       "      <td>5011</td>\n",
       "      <td>3.781393</td>\n",
       "    </tr>\n",
       "    <tr>\n",
       "      <th>370</th>\n",
       "      <td>blueprints</td>\n",
       "      <td>6017</td>\n",
       "      <td>5.378907</td>\n",
       "    </tr>\n",
       "    <tr>\n",
       "      <th>371</th>\n",
       "      <td>prodigals_club</td>\n",
       "      <td>2175</td>\n",
       "      <td>3.691300</td>\n",
       "    </tr>\n",
       "    <tr>\n",
       "      <th>372</th>\n",
       "      <td>fleet</td>\n",
       "      <td>4572</td>\n",
       "      <td>6.112661</td>\n",
       "    </tr>\n",
       "  </tbody>\n",
       "</table>\n",
       "<p>373 rows × 3 columns</p>\n",
       "</div>"
      ],
      "text/plain": [
       "                                   title  num_ratings     norm0\n",
       "0                             gloomhaven        30333  8.189427\n",
       "1               pandemic_legacy_season_1        34807  3.354197\n",
       "2                      terraforming_mars        51899  7.136006\n",
       "3                    star_wars_rebellion        20138  8.947441\n",
       "4    through_ages_new_story_civilization        21548  9.808330\n",
       "..                                   ...          ...       ...\n",
       "368                  explorers_north_sea         2106  4.724884\n",
       "369                              la_isla         5011  3.781393\n",
       "370                           blueprints         6017  5.378907\n",
       "371                       prodigals_club         2175  3.691300\n",
       "372                                fleet         4572  6.112661\n",
       "\n",
       "[373 rows x 3 columns]"
      ]
     },
     "execution_count": 73,
     "metadata": {},
     "output_type": "execute_result"
    }
   ],
   "source": [
    "_"
   ]
  },
  {
   "cell_type": "code",
   "execution_count": 121,
   "metadata": {},
   "outputs": [
    {
     "data": {
      "text/html": [
       "<div>\n",
       "<style scoped>\n",
       "    .dataframe tbody tr th:only-of-type {\n",
       "        vertical-align: middle;\n",
       "    }\n",
       "\n",
       "    .dataframe tbody tr th {\n",
       "        vertical-align: top;\n",
       "    }\n",
       "\n",
       "    .dataframe thead th {\n",
       "        text-align: right;\n",
       "    }\n",
       "</style>\n",
       "<table border=\"1\" class=\"dataframe\">\n",
       "  <thead>\n",
       "    <tr style=\"text-align: right;\">\n",
       "      <th></th>\n",
       "      <th>game_id</th>\n",
       "      <th>genre</th>\n",
       "      <th>game_idx</th>\n",
       "    </tr>\n",
       "  </thead>\n",
       "  <tbody>\n",
       "    <tr>\n",
       "      <th>0</th>\n",
       "      <td>1</td>\n",
       "      <td>Economic</td>\n",
       "      <td>0</td>\n",
       "    </tr>\n",
       "    <tr>\n",
       "      <th>1</th>\n",
       "      <td>1</td>\n",
       "      <td>Negotiation</td>\n",
       "      <td>0</td>\n",
       "    </tr>\n",
       "    <tr>\n",
       "      <th>2</th>\n",
       "      <td>1</td>\n",
       "      <td>Political</td>\n",
       "      <td>0</td>\n",
       "    </tr>\n",
       "    <tr>\n",
       "      <th>3</th>\n",
       "      <td>100423</td>\n",
       "      <td>Adventure</td>\n",
       "      <td>72</td>\n",
       "    </tr>\n",
       "    <tr>\n",
       "      <th>4</th>\n",
       "      <td>100423</td>\n",
       "      <td>Card Game</td>\n",
       "      <td>72</td>\n",
       "    </tr>\n",
       "  </tbody>\n",
       "</table>\n",
       "</div>"
      ],
      "text/plain": [
       "  game_id        genre  game_idx\n",
       "0       1     Economic         0\n",
       "1       1  Negotiation         0\n",
       "2       1    Political         0\n",
       "3  100423    Adventure        72\n",
       "4  100423    Card Game        72"
      ]
     },
     "execution_count": 121,
     "metadata": {},
     "output_type": "execute_result"
    }
   ],
   "source": [
    "results = cur.execute('''\n",
    "WITH inner_query AS (\n",
    "SELECT id, category, ROW_NUMBER() OVER (PARTITION BY id)  r\n",
    "\n",
    "FROM BGG_CATEGORIES)\n",
    "\n",
    "SELECT id game_id, category\n",
    "\n",
    "FROM inner_query\n",
    "\n",
    "WHERE 1=1\n",
    "    --AND r = 1\n",
    "\n",
    "''')\n",
    "results = results.fetchall()\n",
    "result_li = [r for r in results]\n",
    "game_genres = pd.DataFrame(result_li, columns = ['game_id', 'genre'])\n",
    "game_genres['game_idx'] = game_genres['game_id'].apply(lambda x: game_dict[int(x)])\n",
    "game_genres.head()"
   ]
  },
  {
   "cell_type": "code",
   "execution_count": 122,
   "metadata": {},
   "outputs": [],
   "source": [
    "top_10_genres = pd.pivot_table(game_genres\n",
    "                ,index=['genre']\n",
    "                ,values = ['game_idx']\n",
    "                ,aggfunc='count').sort_values('game_idx',\n",
    "                                            ascending=False,).head(10).index"
   ]
  },
  {
   "cell_type": "code",
   "execution_count": 123,
   "metadata": {},
   "outputs": [],
   "source": [
    "game_genres['Top'] = game_genres['genre'].isin(top_10_genres).astype(int)"
   ]
  },
  {
   "cell_type": "code",
   "execution_count": 124,
   "metadata": {},
   "outputs": [],
   "source": [
    "game_genres.sort_values(['game_id','Top'], ascending=[True, False], inplace=True)"
   ]
  },
  {
   "cell_type": "code",
   "execution_count": 125,
   "metadata": {},
   "outputs": [],
   "source": [
    "game_genres.drop_duplicates(subset=['game_id'], keep='first', inplace=True)"
   ]
  },
  {
   "cell_type": "code",
   "execution_count": 127,
   "metadata": {},
   "outputs": [],
   "source": [
    "game_genres.loc[game_genres['Top'] == 0, 'genre'] = 'Other'"
   ]
  },
  {
   "cell_type": "code",
   "execution_count": 128,
   "metadata": {},
   "outputs": [],
   "source": [
    "del game_genres['Top']"
   ]
  },
  {
   "cell_type": "code",
   "execution_count": null,
   "metadata": {},
   "outputs": [],
   "source": []
  },
  {
   "cell_type": "code",
   "execution_count": 129,
   "metadata": {},
   "outputs": [],
   "source": [
    "try:\n",
    "    del games['genre']\n",
    "except KeyError:\n",
    "    pass"
   ]
  },
  {
   "cell_type": "code",
   "execution_count": 130,
   "metadata": {},
   "outputs": [
    {
     "data": {
      "text/html": [
       "<div>\n",
       "<style scoped>\n",
       "    .dataframe tbody tr th:only-of-type {\n",
       "        vertical-align: middle;\n",
       "    }\n",
       "\n",
       "    .dataframe tbody tr th {\n",
       "        vertical-align: top;\n",
       "    }\n",
       "\n",
       "    .dataframe thead th {\n",
       "        text-align: right;\n",
       "    }\n",
       "</style>\n",
       "<table border=\"1\" class=\"dataframe\">\n",
       "  <thead>\n",
       "    <tr style=\"text-align: right;\">\n",
       "      <th></th>\n",
       "      <th>game_idx</th>\n",
       "      <th>title</th>\n",
       "      <th>year</th>\n",
       "      <th>weight</th>\n",
       "      <th>play_time</th>\n",
       "      <th>ratings</th>\n",
       "      <th>user_ratings</th>\n",
       "      <th>x</th>\n",
       "      <th>y</th>\n",
       "      <th>game_id_x</th>\n",
       "      <th>game_id_y</th>\n",
       "      <th>genre</th>\n",
       "    </tr>\n",
       "  </thead>\n",
       "  <tbody>\n",
       "    <tr>\n",
       "      <th>0</th>\n",
       "      <td>244</td>\n",
       "      <td>gloomhaven</td>\n",
       "      <td>2017</td>\n",
       "      <td>3.8673</td>\n",
       "      <td>120</td>\n",
       "      <td>45304</td>\n",
       "      <td>30333</td>\n",
       "      <td>-10.678903</td>\n",
       "      <td>4.460822</td>\n",
       "      <td>174430</td>\n",
       "      <td>174430</td>\n",
       "      <td>Adventure</td>\n",
       "    </tr>\n",
       "    <tr>\n",
       "      <th>1</th>\n",
       "      <td>43</td>\n",
       "      <td>pandemic_legacy_season_1</td>\n",
       "      <td>2015</td>\n",
       "      <td>2.836</td>\n",
       "      <td>60</td>\n",
       "      <td>43525</td>\n",
       "      <td>34807</td>\n",
       "      <td>-9.037819</td>\n",
       "      <td>-10.643716</td>\n",
       "      <td>161936</td>\n",
       "      <td>161936</td>\n",
       "      <td>Other</td>\n",
       "    </tr>\n",
       "    <tr>\n",
       "      <th>2</th>\n",
       "      <td>25</td>\n",
       "      <td>terraforming_mars</td>\n",
       "      <td>2016</td>\n",
       "      <td>3.244</td>\n",
       "      <td>120</td>\n",
       "      <td>69921</td>\n",
       "      <td>51899</td>\n",
       "      <td>6.062011</td>\n",
       "      <td>-13.758048</td>\n",
       "      <td>167791</td>\n",
       "      <td>167791</td>\n",
       "      <td>Economic</td>\n",
       "    </tr>\n",
       "    <tr>\n",
       "      <th>3</th>\n",
       "      <td>30</td>\n",
       "      <td>star_wars_rebellion</td>\n",
       "      <td>2016</td>\n",
       "      <td>3.7216</td>\n",
       "      <td>240</td>\n",
       "      <td>24459</td>\n",
       "      <td>20138</td>\n",
       "      <td>9.155114</td>\n",
       "      <td>4.499483</td>\n",
       "      <td>187645</td>\n",
       "      <td>187645</td>\n",
       "      <td>Fighting</td>\n",
       "    </tr>\n",
       "    <tr>\n",
       "      <th>4</th>\n",
       "      <td>224</td>\n",
       "      <td>through_ages_new_story_civilization</td>\n",
       "      <td>2015</td>\n",
       "      <td>4.4062</td>\n",
       "      <td>120</td>\n",
       "      <td>24493</td>\n",
       "      <td>21548</td>\n",
       "      <td>-4.201438</td>\n",
       "      <td>15.760880</td>\n",
       "      <td>182028</td>\n",
       "      <td>182028</td>\n",
       "      <td>Card Game</td>\n",
       "    </tr>\n",
       "  </tbody>\n",
       "</table>\n",
       "</div>"
      ],
      "text/plain": [
       "   game_idx                                title  year  weight play_time  \\\n",
       "0       244                           gloomhaven  2017  3.8673       120   \n",
       "1        43             pandemic_legacy_season_1  2015   2.836        60   \n",
       "2        25                    terraforming_mars  2016   3.244       120   \n",
       "3        30                  star_wars_rebellion  2016  3.7216       240   \n",
       "4       224  through_ages_new_story_civilization  2015  4.4062       120   \n",
       "\n",
       "  ratings  user_ratings          x          y game_id_x game_id_y      genre  \n",
       "0   45304         30333 -10.678903   4.460822    174430    174430  Adventure  \n",
       "1   43525         34807  -9.037819 -10.643716    161936    161936      Other  \n",
       "2   69921         51899   6.062011 -13.758048    167791    167791   Economic  \n",
       "3   24459         20138   9.155114   4.499483    187645    187645   Fighting  \n",
       "4   24493         21548  -4.201438  15.760880    182028    182028  Card Game  "
      ]
     },
     "execution_count": 130,
     "metadata": {},
     "output_type": "execute_result"
    }
   ],
   "source": [
    "games = games.merge(game_genres, on = ['game_idx'], how='left')\n",
    "games.head()"
   ]
  },
  {
   "cell_type": "code",
   "execution_count": 131,
   "metadata": {},
   "outputs": [],
   "source": [
    "games.loc[pd.isna(games['genre']), 'genre'] = 'Other'"
   ]
  },
  {
   "cell_type": "code",
   "execution_count": 132,
   "metadata": {},
   "outputs": [],
   "source": [
    "genre_filter = alt.selection_multi(fields=['genre'])\n",
    "genre_chart = alt.Chart().mark_bar().encode(\n",
    "    x=\"count()\",\n",
    "    y=alt.Y('genre'),\n",
    "    color=alt.condition(\n",
    "        genre_filter,\n",
    "        alt.Color(\"genre:N\"),\n",
    "        alt.value('lightgray'))\n",
    ").properties(height=300, selection=genre_filter)"
   ]
  },
  {
   "cell_type": "code",
   "execution_count": 133,
   "metadata": {},
   "outputs": [],
   "source": [
    "def visualize_game_embeddings(data, x, y):\n",
    "  nearest = alt.selection(\n",
    "      type='single', encodings=['x', 'y'], on='mouseover', nearest=True,\n",
    "      empty='none')\n",
    "  base = alt.Chart().mark_circle().encode(\n",
    "      x=x,\n",
    "      y=y,\n",
    "      color=alt.condition(genre_filter, \"genre\", alt.value(\"whitesmoke\")),\n",
    "  ).properties(\n",
    "      width=600,\n",
    "      height=600,\n",
    "      selection=nearest)\n",
    "  text = alt.Chart().mark_text(align='left', dx=5, dy=-5).encode(\n",
    "      x=x,\n",
    "      y=y,\n",
    "      text=alt.condition(nearest, 'title', alt.value('')))\n",
    "  return alt.hconcat(alt.layer(base, text), genre_chart, data=data)"
   ]
  },
  {
   "cell_type": "code",
   "execution_count": 134,
   "metadata": {},
   "outputs": [],
   "source": [
    "def tsne_game_embeddings(model):\n",
    "  \"\"\"Visualizes the movie embeddings, projected using t-SNE with Cosine measure.\n",
    "  Args:\n",
    "    model: A MFModel object.\n",
    "  \"\"\"\n",
    "  tsne = sklearn.manifold.TSNE(\n",
    "      n_components=2, perplexity=40, metric='cosine', early_exaggeration=10.0,\n",
    "      init='pca', verbose=True, n_iter=400)\n",
    "\n",
    "  print('Running t-SNE...')\n",
    "  V_proj = tsne.fit_transform(model.embeddings[\"game_idx\"])\n",
    "  print('ARRAY SIZES')\n",
    "  #print(len(games.loc[:,'x']), len(V_proj[:, 0]))  \n",
    "    \n",
    "  games.loc[:,'x'] = V_proj[:, 0]\n",
    "  games.loc[:,'y'] = V_proj[:, 1]\n",
    "  return visualize_game_embeddings(games, 'x', 'y')"
   ]
  },
  {
   "cell_type": "code",
   "execution_count": 135,
   "metadata": {},
   "outputs": [
    {
     "name": "stdout",
     "output_type": "stream",
     "text": [
      "Running t-SNE...\n",
      "[t-SNE] Computing 121 nearest neighbors...\n",
      "[t-SNE] Indexed 373 samples in 0.000s...\n",
      "[t-SNE] Computed neighbors for 373 samples in 0.012s...\n",
      "[t-SNE] Computed conditional probabilities for sample 373 / 373\n",
      "[t-SNE] Mean sigma: 0.004904\n",
      "[t-SNE] KL divergence after 250 iterations with early exaggeration: 44.917389\n",
      "[t-SNE] KL divergence after 400 iterations: 0.308815\n",
      "ARRAY SIZES\n"
     ]
    },
    {
     "data": {
      "text/html": [
       "\n",
       "<div id=\"altair-viz-1cfb5afe5c524dc089ce72da8d97e9b7\"></div>\n",
       "<script type=\"text/javascript\">\n",
       "  (function(spec, embedOpt){\n",
       "    let outputDiv = document.currentScript.previousElementSibling;\n",
       "    if (outputDiv.id !== \"altair-viz-1cfb5afe5c524dc089ce72da8d97e9b7\") {\n",
       "      outputDiv = document.getElementById(\"altair-viz-1cfb5afe5c524dc089ce72da8d97e9b7\");\n",
       "    }\n",
       "    const paths = {\n",
       "      \"vega\": \"https://cdn.jsdelivr.net/npm//vega@5?noext\",\n",
       "      \"vega-lib\": \"https://cdn.jsdelivr.net/npm//vega-lib?noext\",\n",
       "      \"vega-lite\": \"https://cdn.jsdelivr.net/npm//vega-lite@4.17.0?noext\",\n",
       "      \"vega-embed\": \"https://cdn.jsdelivr.net/npm//vega-embed@6?noext\",\n",
       "    };\n",
       "\n",
       "    function loadScript(lib) {\n",
       "      return new Promise(function(resolve, reject) {\n",
       "        var s = document.createElement('script');\n",
       "        s.src = paths[lib];\n",
       "        s.async = true;\n",
       "        s.onload = () => resolve(paths[lib]);\n",
       "        s.onerror = () => reject(`Error loading script: ${paths[lib]}`);\n",
       "        document.getElementsByTagName(\"head\")[0].appendChild(s);\n",
       "      });\n",
       "    }\n",
       "\n",
       "    function showError(err) {\n",
       "      outputDiv.innerHTML = `<div class=\"error\" style=\"color:red;\">${err}</div>`;\n",
       "      throw err;\n",
       "    }\n",
       "\n",
       "    function displayChart(vegaEmbed) {\n",
       "      vegaEmbed(outputDiv, spec, embedOpt)\n",
       "        .catch(err => showError(`Javascript Error: ${err.message}<br>This usually means there's a typo in your chart specification. See the javascript console for the full traceback.`));\n",
       "    }\n",
       "\n",
       "    if(typeof define === \"function\" && define.amd) {\n",
       "      requirejs.config({paths});\n",
       "      require([\"vega-embed\"], displayChart, err => showError(`Error loading script: ${err.message}`));\n",
       "    } else if (typeof vegaEmbed === \"function\") {\n",
       "      displayChart(vegaEmbed);\n",
       "    } else {\n",
       "      loadScript(\"vega\")\n",
       "        .then(() => loadScript(\"vega-lite\"))\n",
       "        .then(() => loadScript(\"vega-embed\"))\n",
       "        .catch(showError)\n",
       "        .then(() => displayChart(vegaEmbed));\n",
       "    }\n",
       "  })({\"config\": {\"view\": {\"continuousWidth\": 400, \"continuousHeight\": 300}}, \"hconcat\": [{\"layer\": [{\"mark\": \"circle\", \"encoding\": {\"color\": {\"condition\": {\"field\": \"genre\", \"type\": \"nominal\", \"selection\": \"selector007\"}, \"value\": \"whitesmoke\"}, \"x\": {\"field\": \"x\", \"type\": \"quantitative\"}, \"y\": {\"field\": \"y\", \"type\": \"quantitative\"}}, \"height\": 600, \"selection\": {\"selector008\": {\"type\": \"single\", \"encodings\": [\"x\", \"y\"], \"on\": \"mouseover\", \"nearest\": true, \"empty\": \"none\"}}, \"width\": 600}, {\"mark\": {\"type\": \"text\", \"align\": \"left\", \"dx\": 5, \"dy\": -5}, \"encoding\": {\"text\": {\"condition\": {\"field\": \"title\", \"type\": \"nominal\", \"selection\": \"selector008\"}, \"value\": \"\"}, \"x\": {\"field\": \"x\", \"type\": \"quantitative\"}, \"y\": {\"field\": \"y\", \"type\": \"quantitative\"}}}]}, {\"mark\": \"bar\", \"encoding\": {\"color\": {\"condition\": {\"field\": \"genre\", \"type\": \"nominal\", \"selection\": \"selector007\"}, \"value\": \"lightgray\"}, \"x\": {\"aggregate\": \"count\", \"type\": \"quantitative\"}, \"y\": {\"field\": \"genre\", \"type\": \"nominal\"}}, \"height\": 300, \"selection\": {\"selector007\": {\"type\": \"multi\", \"fields\": [\"genre\"]}}}], \"data\": {\"name\": \"data-b01cfaa3ad8c896ae0a2c0cb8dda6df6\"}, \"$schema\": \"https://vega.github.io/schema/vega-lite/v4.17.0.json\", \"datasets\": {\"data-b01cfaa3ad8c896ae0a2c0cb8dda6df6\": [{\"game_idx\": 244, \"title\": \"gloomhaven\", \"year\": \"2017\", \"weight\": \"3.8673\", \"play_time\": \"120\", \"ratings\": \"45304\", \"user_ratings\": 30333, \"x\": -11.156682014465332, \"y\": 2.4899044036865234, \"game_id_x\": \"174430\", \"game_id_y\": \"174430\", \"genre\": \"Adventure\"}, {\"game_idx\": 43, \"title\": \"pandemic_legacy_season_1\", \"year\": \"2015\", \"weight\": \"2.836\", \"play_time\": \"60\", \"ratings\": \"43525\", \"user_ratings\": 34807, \"x\": -7.111581325531006, \"y\": -11.468794822692871, \"game_id_x\": \"161936\", \"game_id_y\": \"161936\", \"genre\": \"Other\"}, {\"game_idx\": 25, \"title\": \"terraforming_mars\", \"year\": \"2016\", \"weight\": \"3.244\", \"play_time\": \"120\", \"ratings\": \"69921\", \"user_ratings\": 51899, \"x\": 8.002989768981934, \"y\": -12.437536239624023, \"game_id_x\": \"167791\", \"game_id_y\": \"167791\", \"genre\": \"Economic\"}, {\"game_idx\": 30, \"title\": \"star_wars_rebellion\", \"year\": \"2016\", \"weight\": \"3.7216\", \"play_time\": \"240\", \"ratings\": \"24459\", \"user_ratings\": 20138, \"x\": 8.116190910339355, \"y\": 6.288946628570557, \"game_id_x\": \"187645\", \"game_id_y\": \"187645\", \"genre\": \"Fighting\"}, {\"game_idx\": 224, \"title\": \"through_ages_new_story_civilization\", \"year\": \"2015\", \"weight\": \"4.4062\", \"play_time\": \"120\", \"ratings\": \"24493\", \"user_ratings\": 21548, \"x\": -7.168454647064209, \"y\": 14.761466026306152, \"game_id_x\": \"182028\", \"game_id_y\": \"182028\", \"genre\": \"Card Game\"}, {\"game_idx\": 171, \"title\": \"spirit_island\", \"year\": \"2017\", \"weight\": \"4.0172\", \"play_time\": \"120\", \"ratings\": \"29164\", \"user_ratings\": 23980, \"x\": 10.412490844726562, \"y\": -6.462251663208008, \"game_id_x\": \"162886\", \"game_id_y\": \"162886\", \"genre\": \"Fantasy\"}, {\"game_idx\": 33, \"title\": \"war_ring_second_edition\", \"year\": \"2012\", \"weight\": \"4.1679\", \"play_time\": \"180\", \"ratings\": \"14677\", \"user_ratings\": 12050, \"x\": 11.723053932189941, \"y\": 4.155275821685791, \"game_id_x\": \"115746\", \"game_id_y\": \"115746\", \"genre\": \"Adventure\"}, {\"game_idx\": 9, \"title\": \"twilight_struggle\", \"year\": \"2005\", \"weight\": \"3.5887\", \"play_time\": \"180\", \"ratings\": \"42093\", \"user_ratings\": 31854, \"x\": 0.5127624869346619, \"y\": 0.06645739823579788, \"game_id_x\": \"12333\", \"game_id_y\": \"12333\", \"genre\": \"Wargame\"}, {\"game_idx\": 174, \"title\": \"scythe\", \"year\": \"2016\", \"weight\": \"3.4206\", \"play_time\": \"115\", \"ratings\": \"61518\", \"user_ratings\": 47468, \"x\": -6.512800216674805, \"y\": -10.964746475219727, \"game_id_x\": \"169786\", \"game_id_y\": \"169786\", \"genre\": \"Economic\"}, {\"game_idx\": 188, \"title\": \"7_wonders_duel\", \"year\": \"2015\", \"weight\": \"2.2229\", \"play_time\": \"30\", \"ratings\": \"65209\", \"user_ratings\": 50575, \"x\": -7.62739372253418, \"y\": 8.76507568359375, \"game_id_x\": \"173346\", \"game_id_y\": \"173346\", \"genre\": \"Card Game\"}, {\"game_idx\": 86, \"title\": \"terra_mystica\", \"year\": \"2012\", \"weight\": \"3.9632\", \"play_time\": \"150\", \"ratings\": \"40763\", \"user_ratings\": 34889, \"x\": 3.553100824356079, \"y\": -14.72116756439209, \"game_id_x\": \"120677\", \"game_id_y\": \"120677\", \"genre\": \"Economic\"}, {\"game_idx\": 91, \"title\": \"concordia\", \"year\": \"2013\", \"weight\": \"3.0191\", \"play_time\": \"100\", \"ratings\": \"29903\", \"user_ratings\": 28184, \"x\": -12.37656021118164, \"y\": 8.986286163330078, \"game_id_x\": \"124361\", \"game_id_y\": \"124361\", \"genre\": \"Economic\"}, {\"game_idx\": 314, \"title\": \"nemesis\", \"year\": \"2018\", \"weight\": \"3.371\", \"play_time\": \"180\", \"ratings\": \"15143\", \"user_ratings\": 11686, \"x\": 8.96043872833252, \"y\": -12.812530517578125, \"game_id_x\": \"167355\", \"game_id_y\": \"167355\", \"genre\": \"Adventure\"}, {\"game_idx\": 143, \"title\": \"feast_odin\", \"year\": \"2016\", \"weight\": \"3.8422\", \"play_time\": \"120\", \"ratings\": \"18709\", \"user_ratings\": 17587, \"x\": -11.452552795410156, \"y\": 5.194464683532715, \"game_id_x\": \"177736\", \"game_id_y\": \"177736\", \"genre\": \"Economic\"}, {\"game_idx\": 225, \"title\": \"viticulture_essential_edition\", \"year\": \"2015\", \"weight\": \"2.9007\", \"play_time\": \"90\", \"ratings\": \"32321\", \"user_ratings\": 28864, \"x\": 11.39200496673584, \"y\": 0.28476089239120483, \"game_id_x\": \"183394\", \"game_id_y\": \"183394\", \"genre\": \"Economic\"}, {\"game_idx\": 173, \"title\": \"orleans\", \"year\": \"2014\", \"weight\": \"3.0437\", \"play_time\": \"90\", \"ratings\": \"23502\", \"user_ratings\": 22494, \"x\": -7.482089996337891, \"y\": 14.095335960388184, \"game_id_x\": \"164928\", \"game_id_y\": \"164928\", \"genre\": \"Medieval\"}, {\"game_idx\": 74, \"title\": \"caverna_cave_farmers\", \"year\": \"2013\", \"weight\": \"3.7897\", \"play_time\": \"210\", \"ratings\": \"28994\", \"user_ratings\": 25814, \"x\": -6.0851006507873535, \"y\": 15.167651176452637, \"game_id_x\": \"102794\", \"game_id_y\": \"102794\", \"genre\": \"Economic\"}, {\"game_idx\": 180, \"title\": \"food_chain_magnate\", \"year\": \"2015\", \"weight\": \"4.1936\", \"play_time\": \"240\", \"ratings\": \"14559\", \"user_ratings\": 13938, \"x\": -1.1793522834777832, \"y\": 8.568803787231445, \"game_id_x\": \"175914\", \"game_id_y\": \"175914\", \"genre\": \"Economic\"}, {\"game_idx\": 175, \"title\": \"blood_rage\", \"year\": \"2015\", \"weight\": \"2.8821\", \"play_time\": \"90\", \"ratings\": \"35862\", \"user_ratings\": 30757, \"x\": 5.793942451477051, \"y\": -4.860713481903076, \"game_id_x\": \"170216\", \"game_id_y\": \"170216\", \"genre\": \"Fantasy\"}, {\"game_idx\": 286, \"title\": \"7th_continent\", \"year\": \"2017\", \"weight\": \"2.8776\", \"play_time\": \"1000\", \"ratings\": \"18039\", \"user_ratings\": 14696, \"x\": -3.0746636390686035, \"y\": -6.450069427490234, \"game_id_x\": \"180263\", \"game_id_y\": \"180263\", \"genre\": \"Adventure\"}, {\"game_idx\": 93, \"title\": \"tzolk_mayan_calendar\", \"year\": \"2012\", \"weight\": \"3.6659\", \"play_time\": \"90\", \"ratings\": \"32155\", \"user_ratings\": 29617, \"x\": 6.2175092697143555, \"y\": -2.3579342365264893, \"game_id_x\": \"126163\", \"game_id_y\": \"126163\", \"genre\": \"Economic\"}, {\"game_idx\": 228, \"title\": \"anachrony\", \"year\": \"2017\", \"weight\": \"4.0014\", \"play_time\": \"120\", \"ratings\": \"12555\", \"user_ratings\": 11733, \"x\": -3.629879951477051, \"y\": -9.77920913696289, \"game_id_x\": \"185343\", \"game_id_y\": \"185343\", \"genre\": \"Economic\"}, {\"game_idx\": 264, \"title\": \"star_wars_imperial_assault\", \"year\": \"2014\", \"weight\": \"3.3094\", \"play_time\": \"120\", \"ratings\": \"21245\", \"user_ratings\": 17237, \"x\": 2.1829209327697754, \"y\": -8.580621719360352, \"game_id_x\": \"164153\", \"game_id_y\": \"164153\", \"genre\": \"Adventure\"}, {\"game_idx\": 227, \"title\": \"mars\", \"year\": \"2020\", \"weight\": \"4.6437\", \"play_time\": \"150\", \"ratings\": \"6974\", \"user_ratings\": 6570, \"x\": 1.1858452558517456, \"y\": 0.10624847561120987, \"game_id_x\": \"184267\", \"game_id_y\": \"184267\", \"genre\": \"Economic\"}, {\"game_idx\": 58, \"title\": \"gallerist\", \"year\": \"2015\", \"weight\": \"4.2656\", \"play_time\": \"150\", \"ratings\": \"10507\", \"user_ratings\": 10315, \"x\": 5.105859279632568, \"y\": -16.30925941467285, \"game_id_x\": \"125153\", \"game_id_y\": \"125153\", \"genre\": \"Economic\"}, {\"game_idx\": 11, \"title\": \"android_netrunner\", \"year\": \"2012\", \"weight\": \"3.3902\", \"play_time\": \"45\", \"ratings\": \"27249\", \"user_ratings\": 22109, \"x\": -8.5338134765625, \"y\": 14.756685256958008, \"game_id_x\": \"124742\", \"game_id_y\": \"124742\", \"genre\": \"Card Game\"}, {\"game_idx\": 212, \"title\": \"lisboa\", \"year\": \"2017\", \"weight\": \"4.5631\", \"play_time\": \"120\", \"ratings\": \"7343\", \"user_ratings\": 7229, \"x\": -10.208769798278809, \"y\": 6.42572546005249, \"game_id_x\": \"161533\", \"game_id_y\": \"161533\", \"genre\": \"Economic\"}, {\"game_idx\": 233, \"title\": \"robinson_crusoe_adventures_cursed_island\", \"year\": \"2012\", \"weight\": \"3.7907\", \"play_time\": \"120\", \"ratings\": \"35849\", \"user_ratings\": 29952, \"x\": -3.667177677154541, \"y\": 3.4855518341064453, \"game_id_x\": \"121921\", \"game_id_y\": \"121921\", \"genre\": \"Adventure\"}, {\"game_idx\": 209, \"title\": \"fields_arle\", \"year\": \"2014\", \"weight\": \"3.8787\", \"play_time\": \"120\", \"ratings\": \"8602\", \"user_ratings\": 8277, \"x\": 5.218205451965332, \"y\": 10.532690048217773, \"game_id_x\": \"159675\", \"game_id_y\": \"159675\", \"genre\": \"Economic\"}, {\"game_idx\": 137, \"title\": \"voyages_marco_polo\", \"year\": \"2015\", \"weight\": \"3.1841\", \"play_time\": \"100\", \"ratings\": \"21128\", \"user_ratings\": 20155, \"x\": -1.6962759494781494, \"y\": 1.8107432126998901, \"game_id_x\": \"171623\", \"game_id_y\": \"171623\", \"genre\": \"Economic\"}, {\"game_idx\": 123, \"title\": \"five_tribes\", \"year\": \"2014\", \"weight\": \"2.8557\", \"play_time\": \"80\", \"ratings\": \"33428\", \"user_ratings\": 31010, \"x\": -14.202954292297363, \"y\": 4.926207542419434, \"game_id_x\": \"157354\", \"game_id_y\": \"157354\", \"genre\": \"Fantasy\"}, {\"game_idx\": 4, \"title\": \"lords_waterdeep\", \"year\": \"2012\", \"weight\": \"2.4602\", \"play_time\": \"120\", \"ratings\": \"47440\", \"user_ratings\": 39722, \"x\": -9.782304763793945, \"y\": 13.152758598327637, \"game_id_x\": \"110327\", \"game_id_y\": \"110327\", \"genre\": \"Fantasy\"}, {\"game_idx\": 155, \"title\": \"keyflower\", \"year\": \"2012\", \"weight\": \"3.3448\", \"play_time\": \"120\", \"ratings\": \"19628\", \"user_ratings\": 18899, \"x\": -0.08524695783853531, \"y\": -2.9423022270202637, \"game_id_x\": \"122515\", \"game_id_y\": \"122515\", \"genre\": \"Economic\"}, {\"game_idx\": 146, \"title\": \"grand_austria_hotel\", \"year\": \"2015\", \"weight\": \"3.2226\", \"play_time\": \"120\", \"ratings\": \"13808\", \"user_ratings\": 13472, \"x\": -11.00306510925293, \"y\": 10.587681770324707, \"game_id_x\": \"182874\", \"game_id_y\": \"182874\", \"genre\": \"Economic\"}, {\"game_idx\": 29, \"title\": \"caylus\", \"year\": \"2005\", \"weight\": \"3.8034\", \"play_time\": \"150\", \"ratings\": \"27188\", \"user_ratings\": 21789, \"x\": -2.692885637283325, \"y\": -11.787519454956055, \"game_id_x\": \"18602\", \"game_id_y\": \"18602\", \"genre\": \"Economic\"}, {\"game_idx\": 35, \"title\": \"twilight_imperium_third_edition\", \"year\": \"2005\", \"weight\": \"4.2532\", \"play_time\": \"240\", \"ratings\": \"18474\", \"user_ratings\": 14022, \"x\": -7.687400817871094, \"y\": 3.7816989421844482, \"game_id_x\": \"12493\", \"game_id_y\": \"12493\", \"genre\": \"Science Fiction\"}, {\"game_idx\": 237, \"title\": \"eldritch_horror\", \"year\": \"2013\", \"weight\": \"3.3192\", \"play_time\": \"240\", \"ratings\": \"30496\", \"user_ratings\": 23525, \"x\": 4.77851676940918, \"y\": 11.898449897766113, \"game_id_x\": \"146021\", \"game_id_y\": \"146021\", \"genre\": \"Adventure\"}, {\"game_idx\": 219, \"title\": \"mombasa\", \"year\": \"2015\", \"weight\": \"3.9003\", \"play_time\": \"150\", \"ratings\": \"11308\", \"user_ratings\": 11123, \"x\": 4.692116737365723, \"y\": -15.671536445617676, \"game_id_x\": \"172386\", \"game_id_y\": \"172386\", \"genre\": \"Economic\"}, {\"game_idx\": 187, \"title\": \"raiders_north_sea\", \"year\": \"2015\", \"weight\": \"2.5275\", \"play_time\": \"80\", \"ratings\": \"17271\", \"user_ratings\": 15942, \"x\": -13.427133560180664, \"y\": 5.612024784088135, \"game_id_x\": \"170042\", \"game_id_y\": \"170042\", \"genre\": \"Medieval\"}, {\"game_idx\": 130, \"title\": \"patchwork\", \"year\": \"2014\", \"weight\": \"1.6252\", \"play_time\": \"30\", \"ratings\": \"49492\", \"user_ratings\": 41866, \"x\": 7.414383411407471, \"y\": -13.783736228942871, \"game_id_x\": \"163412\", \"game_id_y\": \"163412\", \"genre\": \"Other\"}, {\"game_idx\": 111, \"title\": \"russian_railroads\", \"year\": \"2013\", \"weight\": \"3.4118\", \"play_time\": \"120\", \"ratings\": \"15380\", \"user_ratings\": 15004, \"x\": -6.832955360412598, \"y\": 8.404718399047852, \"game_id_x\": \"144733\", \"game_id_y\": \"144733\", \"genre\": \"Other\"}, {\"game_idx\": 67, \"title\": \"codenames\", \"year\": \"2015\", \"weight\": \"1.2811\", \"play_time\": \"15\", \"ratings\": \"71242\", \"user_ratings\": 57618, \"x\": -8.8706636428833, \"y\": 12.408308029174805, \"game_id_x\": \"178900\", \"game_id_y\": \"178900\", \"genre\": \"Card Game\"}, {\"game_idx\": 73, \"title\": \"trajan\", \"year\": \"2011\", \"weight\": \"3.6531\", \"play_time\": \"120\", \"ratings\": \"15162\", \"user_ratings\": 14627, \"x\": 1.6387596130371094, \"y\": -1.201366901397705, \"game_id_x\": \"102680\", \"game_id_y\": \"102680\", \"genre\": \"Other\"}, {\"game_idx\": 65, \"title\": \"roll_galaxy\", \"year\": \"2014\", \"weight\": \"2.776\", \"play_time\": \"45\", \"ratings\": \"27436\", \"user_ratings\": 25799, \"x\": -8.737627983093262, \"y\": 13.448050498962402, \"game_id_x\": \"132531\", \"game_id_y\": \"132531\", \"genre\": \"Economic\"}, {\"game_idx\": 240, \"title\": \"inis\", \"year\": \"2016\", \"weight\": \"2.8683\", \"play_time\": \"90\", \"ratings\": \"13680\", \"user_ratings\": 12491, \"x\": -11.443460464477539, \"y\": 9.867989540100098, \"game_id_x\": \"155821\", \"game_id_y\": \"155821\", \"genre\": \"Card Game\"}, {\"game_idx\": 285, \"title\": \"champions_midgard\", \"year\": \"2015\", \"weight\": \"2.5982\", \"play_time\": \"90\", \"ratings\": \"14048\", \"user_ratings\": 13103, \"x\": 2.305881977081299, \"y\": -14.88910961151123, \"game_id_x\": \"172287\", \"game_id_y\": \"172287\", \"genre\": \"Adventure\"}, {\"game_idx\": 200, \"title\": \"kemet\", \"year\": \"2012\", \"weight\": \"2.9985\", \"play_time\": \"120\", \"ratings\": \"16750\", \"user_ratings\": 15651, \"x\": -8.741722106933594, \"y\": 11.864371299743652, \"game_id_x\": \"127023\", \"game_id_y\": \"127023\", \"genre\": \"Miniatures\"}, {\"game_idx\": 221, \"title\": \"forbidden_stars\", \"year\": \"2015\", \"weight\": \"3.8321\", \"play_time\": \"180\", \"ratings\": \"7784\", \"user_ratings\": 7054, \"x\": -4.840439319610596, \"y\": -9.7559232711792, \"game_id_x\": \"175155\", \"game_id_y\": \"175155\", \"genre\": \"Fighting\"}, {\"game_idx\": 287, \"title\": \"vinhos_deluxe_edition\", \"year\": \"2016\", \"weight\": \"4.0409\", \"play_time\": \"135\", \"ratings\": \"4629\", \"user_ratings\": 4604, \"x\": 3.828620195388794, \"y\": -11.01185417175293, \"game_id_x\": \"175640\", \"game_id_y\": \"175640\", \"genre\": \"Economic\"}, {\"game_idx\": 128, \"title\": \"alchemists\", \"year\": \"2014\", \"weight\": \"3.9064\", \"play_time\": \"120\", \"ratings\": \"18981\", \"user_ratings\": 17328, \"x\": -14.129693031311035, \"y\": 11.700370788574219, \"game_id_x\": \"161970\", \"game_id_y\": \"161970\", \"genre\": \"Fantasy\"}, {\"game_idx\": 258, \"title\": \"legendary_encounters_alien_deck_building_game\", \"year\": \"2014\", \"weight\": \"2.7057\", \"play_time\": \"60\", \"ratings\": \"11671\", \"user_ratings\": 10252, \"x\": 3.617616653442383, \"y\": -13.645389556884766, \"game_id_x\": \"146652\", \"game_id_y\": \"146652\", \"genre\": \"Card Game\"}, {\"game_idx\": 195, \"title\": \"star_wars_x_wing_miniatures_game\", \"year\": \"2012\", \"weight\": \"2.4884\", \"play_time\": \"45\", \"ratings\": \"23464\", \"user_ratings\": 18660, \"x\": -1.6358819007873535, \"y\": -7.793898582458496, \"game_id_x\": \"103885\", \"game_id_y\": \"103885\", \"genre\": \"Miniatures\"}, {\"game_idx\": 113, \"title\": \"star_realms\", \"year\": \"2014\", \"weight\": \"1.9405\", \"play_time\": \"20\", \"ratings\": \"37421\", \"user_ratings\": 32066, \"x\": -5.2469000816345215, \"y\": 14.790831565856934, \"game_id_x\": \"147020\", \"game_id_y\": \"147020\", \"genre\": \"Card Game\"}, {\"game_idx\": 213, \"title\": \"trickerion_legends_illusion\", \"year\": \"2015\", \"weight\": \"4.2159\", \"play_time\": \"180\", \"ratings\": \"7231\", \"user_ratings\": 7059, \"x\": 0.5879092812538147, \"y\": -6.614897727966309, \"game_id_x\": \"163068\", \"game_id_y\": \"163068\", \"genre\": \"Other\"}, {\"game_idx\": 271, \"title\": \"targi\", \"year\": \"2012\", \"weight\": \"2.3516\", \"play_time\": \"60\", \"ratings\": \"15872\", \"user_ratings\": 15075, \"x\": 10.997873306274414, \"y\": -5.438480854034424, \"game_id_x\": \"118048\", \"game_id_y\": \"118048\", \"genre\": \"Card Game\"}, {\"game_idx\": 253, \"title\": \"descent_journeys_dark_second_edition\", \"year\": \"2012\", \"weight\": \"3.2072\", \"play_time\": \"120\", \"ratings\": \"23195\", \"user_ratings\": 17849, \"x\": 11.770747184753418, \"y\": -3.8583359718322754, \"game_id_x\": \"104162\", \"game_id_y\": \"104162\", \"genre\": \"Adventure\"}, {\"game_idx\": 52, \"title\": \"ticket_ride_europe\", \"year\": \"2005\", \"weight\": \"1.9327\", \"play_time\": \"60\", \"ratings\": \"61039\", \"user_ratings\": 43019, \"x\": -10.217601776123047, \"y\": 5.56569766998291, \"game_id_x\": \"14996\", \"game_id_y\": \"14996\", \"genre\": \"Other\"}, {\"game_idx\": 115, \"title\": \"istanbul\", \"year\": \"2014\", \"weight\": \"2.5827\", \"play_time\": \"60\", \"ratings\": \"26262\", \"user_ratings\": 24437, \"x\": -12.341673851013184, \"y\": 13.448668479919434, \"game_id_x\": \"148949\", \"game_id_y\": \"148949\", \"genre\": \"Economic\"}, {\"game_idx\": 41, \"title\": \"dead_winter_crossroads_game\", \"year\": \"2014\", \"weight\": \"3.0133\", \"play_time\": \"120\", \"ratings\": \"40424\", \"user_ratings\": 34097, \"x\": 6.7157440185546875, \"y\": -6.860690593719482, \"game_id_x\": \"150376\", \"game_id_y\": \"150376\", \"genre\": \"Other\"}, {\"game_idx\": 47, \"title\": \"railways_world\", \"year\": \"2005\", \"weight\": \"3.0237\", \"play_time\": \"120\", \"ratings\": \"11158\", \"user_ratings\": 9844, \"x\": 5.999952793121338, \"y\": -3.361292839050293, \"game_id_x\": \"17133\", \"game_id_y\": \"17133\", \"genre\": \"Other\"}, {\"game_idx\": 13, \"title\": \"resistance_avalon\", \"year\": \"2012\", \"weight\": \"1.763\", \"play_time\": \"30\", \"ratings\": \"28012\", \"user_ratings\": 23891, \"x\": 2.5942130088806152, \"y\": -3.5633413791656494, \"game_id_x\": \"128882\", \"game_id_y\": \"128882\", \"genre\": \"Card Game\"}, {\"game_idx\": 31, \"title\": \"game_thrones_board_game_second_edition\", \"year\": \"2011\", \"weight\": \"3.7215\", \"play_time\": \"240\", \"ratings\": \"29539\", \"user_ratings\": 22743, \"x\": -2.540295124053955, \"y\": -8.157949447631836, \"game_id_x\": \"103343\", \"game_id_y\": \"103343\", \"genre\": \"Fantasy\"}, {\"game_idx\": 119, \"title\": \"castles_mad_king_ludwig\", \"year\": \"2014\", \"weight\": \"2.6534\", \"play_time\": \"90\", \"ratings\": \"22672\", \"user_ratings\": 21129, \"x\": 11.644359588623047, \"y\": -4.387063503265381, \"game_id_x\": \"155426\", \"game_id_y\": \"155426\", \"genre\": \"Medieval\"}, {\"game_idx\": 78, \"title\": \"memoir_44\", \"year\": \"2004\", \"weight\": \"2.2726\", \"play_time\": \"60\", \"ratings\": \"26303\", \"user_ratings\": 19749, \"x\": -11.583641052246094, \"y\": 5.75556755065918, \"game_id_x\": \"10630\", \"game_id_y\": \"10630\", \"genre\": \"Miniatures\"}, {\"game_idx\": 40, \"title\": \"commands_colors_ancients\", \"year\": \"2006\", \"weight\": \"2.6934\", \"play_time\": \"60\", \"ratings\": \"8086\", \"user_ratings\": 6260, \"x\": 7.331955909729004, \"y\": -5.946591854095459, \"game_id_x\": \"14105\", \"game_id_y\": \"14105\", \"genre\": \"Wargame\"}, {\"game_idx\": 89, \"title\": \"suburbia\", \"year\": \"2012\", \"weight\": \"2.7698\", \"play_time\": \"90\", \"ratings\": \"22092\", \"user_ratings\": 20687, \"x\": -9.784156799316406, \"y\": 5.0646820068359375, \"game_id_x\": \"123260\", \"game_id_y\": \"123260\", \"genre\": \"Economic\"}, {\"game_idx\": 70, \"title\": \"nations\", \"year\": \"2013\", \"weight\": \"3.54\", \"play_time\": \"200\", \"ratings\": \"11328\", \"user_ratings\": 10865, \"x\": -0.6755950450897217, \"y\": 9.535669326782227, \"game_id_x\": \"126042\", \"game_id_y\": \"126042\", \"genre\": \"Card Game\"}, {\"game_idx\": 75, \"title\": \"village\", \"year\": \"2011\", \"weight\": \"3.0729\", \"play_time\": \"90\", \"ratings\": \"20740\", \"user_ratings\": 19000, \"x\": -8.534028053283691, \"y\": 13.87121868133545, \"game_id_x\": \"104006\", \"game_id_y\": \"104006\", \"genre\": \"Medieval\"}, {\"game_idx\": 163, \"title\": \"time_stories\", \"year\": \"2015\", \"weight\": \"2.6041\", \"play_time\": \"90\", \"ratings\": \"24505\", \"user_ratings\": 21550, \"x\": 10.167299270629883, \"y\": -13.824880599975586, \"game_id_x\": \"146508\", \"game_id_y\": \"146508\", \"genre\": \"Adventure\"}, {\"game_idx\": 176, \"title\": \"captain_sonar\", \"year\": \"2016\", \"weight\": \"2.1502\", \"play_time\": \"60\", \"ratings\": \"16712\", \"user_ratings\": 15658, \"x\": 0.8157033920288086, \"y\": 5.842981815338135, \"game_id_x\": \"171131\", \"game_id_y\": \"171131\", \"genre\": \"Fighting\"}, {\"game_idx\": 341, \"title\": \"star_realms_colony_wars\", \"year\": \"2015\", \"weight\": \"1.8972\", \"play_time\": \"20\", \"ratings\": \"6422\", \"user_ratings\": 5715, \"x\": 1.8451964855194092, \"y\": -5.90470552444458, \"game_id_x\": \"182631\", \"game_id_y\": \"182631\", \"genre\": \"Card Game\"}, {\"game_idx\": 114, \"title\": \"splendor\", \"year\": \"2014\", \"weight\": \"1.7972\", \"play_time\": \"30\", \"ratings\": \"61938\", \"user_ratings\": 51068, \"x\": -4.632287502288818, \"y\": -10.788071632385254, \"game_id_x\": \"148228\", \"game_id_y\": \"148228\", \"genre\": \"Card Game\"}, {\"game_idx\": 56, \"title\": \"go\", \"year\": \"2200\", \"weight\": \"3.9959\", \"play_time\": \"180\", \"ratings\": \"15202\", \"user_ratings\": 11212, \"x\": -6.559039115905762, \"y\": 1.2599921226501465, \"game_id_x\": \"188\", \"game_id_y\": \"188\", \"genre\": \"Other\"}, {\"game_idx\": 112, \"title\": \"la_granja\", \"year\": \"2014\", \"weight\": \"3.5851\", \"play_time\": \"120\", \"ratings\": \"9141\", \"user_ratings\": 9062, \"x\": 8.937808990478516, \"y\": 1.1513601541519165, \"game_id_x\": \"146886\", \"game_id_y\": \"146886\", \"genre\": \"Economic\"}, {\"game_idx\": 7, \"title\": \"ra\", \"year\": \"1999\", \"weight\": \"2.3485\", \"play_time\": \"60\", \"ratings\": \"19423\", \"user_ratings\": 16564, \"x\": -1.7683345079421997, \"y\": 1.1640563011169434, \"game_id_x\": \"12\", \"game_id_y\": \"12\", \"genre\": \"Other\"}, {\"game_idx\": 198, \"title\": \"kanban_drivers_edition\", \"year\": \"2014\", \"weight\": \"4.3581\", \"play_time\": \"120\", \"ratings\": \"6007\", \"user_ratings\": 5886, \"x\": -1.2485281229019165, \"y\": 3.4504213333129883, \"game_id_x\": \"109276\", \"game_id_y\": \"109276\", \"genre\": \"Economic\"}, {\"game_idx\": 317, \"title\": \"zombicide_black_plague\", \"year\": \"2015\", \"weight\": \"2.5145\", \"play_time\": \"180\", \"ratings\": \"13239\", \"user_ratings\": 10212, \"x\": 7.303762435913086, \"y\": 5.7212443351745605, \"game_id_x\": \"176189\", \"game_id_y\": \"176189\", \"genre\": \"Adventure\"}, {\"game_idx\": 158, \"title\": \"legendary_marvel_deck_building_game\", \"year\": \"2012\", \"weight\": \"2.4395\", \"play_time\": \"60\", \"ratings\": \"20291\", \"user_ratings\": 16267, \"x\": 12.022968292236328, \"y\": 0.011182931251823902, \"game_id_x\": \"129437\", \"game_id_y\": \"129437\", \"genre\": \"Card Game\"}, {\"game_idx\": 229, \"title\": \"secret_hitler\", \"year\": \"2016\", \"weight\": \"1.6716\", \"play_time\": \"45\", \"ratings\": \"19505\", \"user_ratings\": 15834, \"x\": -7.497372627258301, \"y\": 5.716808795928955, \"game_id_x\": \"188834\", \"game_id_y\": \"188834\", \"genre\": \"Card Game\"}, {\"game_idx\": 309, \"title\": \"arcadia_quest\", \"year\": \"2014\", \"weight\": \"2.5352\", \"play_time\": \"60\", \"ratings\": \"9372\", \"user_ratings\": 8128, \"x\": 2.3793649673461914, \"y\": -0.4467407166957855, \"game_id_x\": \"155068\", \"game_id_y\": \"155068\", \"genre\": \"Adventure\"}, {\"game_idx\": 134, \"title\": \"roll_player\", \"year\": \"2016\", \"weight\": \"2.411\", \"play_time\": \"90\", \"ratings\": \"14586\", \"user_ratings\": 13692, \"x\": -5.1502604484558105, \"y\": -5.64739465713501, \"game_id_x\": \"169426\", \"game_id_y\": \"169426\", \"genre\": \"Fantasy\"}, {\"game_idx\": 167, \"title\": \"deception_murder_hong_kong\", \"year\": \"2014\", \"weight\": \"1.5922\", \"play_time\": \"20\", \"ratings\": \"16935\", \"user_ratings\": 15779, \"x\": -0.303014874458313, \"y\": 10.310989379882812, \"game_id_x\": \"156129\", \"game_id_y\": \"156129\", \"genre\": \"Other\"}, {\"game_idx\": 157, \"title\": \"viticulture\", \"year\": \"2013\", \"weight\": \"2.9321\", \"play_time\": \"90\", \"ratings\": \"10737\", \"user_ratings\": 10337, \"x\": -4.67206335067749, \"y\": -8.179856300354004, \"game_id_x\": \"128621\", \"game_id_y\": \"128621\", \"genre\": \"Economic\"}, {\"game_idx\": 142, \"title\": \"isle_skye_chieftain_king\", \"year\": \"2015\", \"weight\": \"2.2512\", \"play_time\": \"50\", \"ratings\": \"21291\", \"user_ratings\": 20149, \"x\": -13.608678817749023, \"y\": 3.92752742767334, \"game_id_x\": \"176494\", \"game_id_y\": \"176494\", \"genre\": \"Economic\"}, {\"game_idx\": 124, \"title\": \"hanamikoji\", \"year\": \"2013\", \"weight\": \"1.7055\", \"play_time\": \"15\", \"ratings\": \"12081\", \"user_ratings\": 11059, \"x\": 0.9566537141799927, \"y\": -8.390998840332031, \"game_id_x\": \"158600\", \"game_id_y\": \"158600\", \"genre\": \"Card Game\"}, {\"game_idx\": 107, \"title\": \"lewis_clark_expedition\", \"year\": \"2013\", \"weight\": \"3.3421\", \"play_time\": \"120\", \"ratings\": \"13505\", \"user_ratings\": 13112, \"x\": 5.376323223114014, \"y\": -4.33047342300415, \"game_id_x\": \"140620\", \"game_id_y\": \"140620\", \"genre\": \"Exploration\"}, {\"game_idx\": 95, \"title\": \"bora_bora\", \"year\": \"2013\", \"weight\": \"3.7363\", \"play_time\": \"120\", \"ratings\": \"9266\", \"user_ratings\": 9054, \"x\": -8.2235746383667, \"y\": 9.892339706420898, \"game_id_x\": \"127060\", \"game_id_y\": \"127060\", \"genre\": \"Other\"}, {\"game_idx\": 262, \"title\": \"power_grid_deluxe_europenorth_america\", \"year\": \"2014\", \"weight\": \"3.1923\", \"play_time\": \"120\", \"ratings\": \"3870\", \"user_ratings\": 3620, \"x\": 0.4814676344394684, \"y\": -7.737232208251953, \"game_id_x\": \"155873\", \"game_id_y\": \"155873\", \"genre\": \"Economic\"}, {\"game_idx\": 5, \"title\": \"modern_art\", \"year\": \"1992\", \"weight\": \"2.2996\", \"play_time\": \"45\", \"ratings\": \"17442\", \"user_ratings\": 15370, \"x\": -6.080572128295898, \"y\": 14.461697578430176, \"game_id_x\": \"118\", \"game_id_y\": \"118\", \"genre\": \"Card Game\"}, {\"game_idx\": 80, \"title\": \"seasons\", \"year\": \"2012\", \"weight\": \"2.7697\", \"play_time\": \"60\", \"ratings\": \"21460\", \"user_ratings\": 19807, \"x\": 4.27936315536499, \"y\": 8.595626831054688, \"game_id_x\": \"108745\", \"game_id_y\": \"108745\", \"genre\": \"Card Game\"}, {\"game_idx\": 260, \"title\": \"imperial_settlers\", \"year\": \"2014\", \"weight\": \"2.7687\", \"play_time\": \"90\", \"ratings\": \"21763\", \"user_ratings\": 20129, \"x\": -2.9000179767608643, \"y\": 8.99328327178955, \"game_id_x\": \"154203\", \"game_id_y\": \"154203\", \"genre\": \"Card Game\"}, {\"game_idx\": 257, \"title\": \"rococo\", \"year\": \"2013\", \"weight\": \"3.0934\", \"play_time\": \"120\", \"ratings\": \"7777\", \"user_ratings\": 7680, \"x\": -1.9592217206954956, \"y\": 2.8400895595550537, \"game_id_x\": \"144344\", \"game_id_y\": \"144344\", \"genre\": \"Economic\"}, {\"game_idx\": 291, \"title\": \"fury_dracula_thirdfourth_edition\", \"year\": \"2015\", \"weight\": \"3.2432\", \"play_time\": \"180\", \"ratings\": \"12024\", \"user_ratings\": 10765, \"x\": -2.8450682163238525, \"y\": 8.051604270935059, \"game_id_x\": \"181279\", \"game_id_y\": \"181279\", \"genre\": \"Adventure\"}, {\"game_idx\": 222, \"title\": \"manhattan_project_energy_empire\", \"year\": \"2016\", \"weight\": \"3.0305\", \"play_time\": \"120\", \"ratings\": \"4998\", \"user_ratings\": 4865, \"x\": 2.6454269886016846, \"y\": 5.397038459777832, \"game_id_x\": \"176734\", \"game_id_y\": \"176734\", \"genre\": \"Economic\"}, {\"game_idx\": 326, \"title\": \"battlelore_second_edition\", \"year\": \"2013\", \"weight\": \"2.7034\", \"play_time\": \"90\", \"ratings\": \"5786\", \"user_ratings\": 5192, \"x\": 12.07034969329834, \"y\": -8.12180233001709, \"game_id_x\": \"146439\", \"game_id_y\": \"146439\", \"genre\": \"Fantasy\"}, {\"game_idx\": 61, \"title\": \"antiquity\", \"year\": \"2004\", \"weight\": \"4.3085\", \"play_time\": \"180\", \"ratings\": \"3922\", \"user_ratings\": 3788, \"x\": 8.44877815246582, \"y\": -3.6999566555023193, \"game_id_x\": \"13122\", \"game_id_y\": \"13122\", \"genre\": \"Economic\"}, {\"game_idx\": 218, \"title\": \"burgle_bros\", \"year\": \"2015\", \"weight\": \"2.3112\", \"play_time\": \"90\", \"ratings\": \"8802\", \"user_ratings\": 8068, \"x\": -12.151117324829102, \"y\": 10.538339614868164, \"game_id_x\": \"172081\", \"game_id_y\": \"172081\", \"genre\": \"Exploration\"}, {\"game_idx\": 345, \"title\": \"onitama\", \"year\": \"2014\", \"weight\": \"1.6988\", \"play_time\": \"20\", \"ratings\": \"16160\", \"user_ratings\": 14680, \"x\": 4.764911651611328, \"y\": -12.945635795593262, \"game_id_x\": \"160477\", \"game_id_y\": \"160477\", \"genre\": \"Other\"}, {\"game_idx\": 346, \"title\": \"klask\", \"year\": \"2014\", \"weight\": \"1.0492\", \"play_time\": \"10\", \"ratings\": \"6256\", \"user_ratings\": 5922, \"x\": 4.8830671310424805, \"y\": 11.118647575378418, \"game_id_x\": \"165722\", \"game_id_y\": \"165722\", \"genre\": \"Other\"}, {\"game_idx\": 71, \"title\": \"cthulhu_wars\", \"year\": \"2015\", \"weight\": \"3.144\", \"play_time\": \"120\", \"ratings\": \"4760\", \"user_ratings\": 4031, \"x\": -8.411490440368652, \"y\": 10.418133735656738, \"game_id_x\": \"139976\", \"game_id_y\": \"139976\", \"genre\": \"Fantasy\"}, {\"game_idx\": 270, \"title\": \"nemos_war_second_edition\", \"year\": \"2017\", \"weight\": \"3.1793\", \"play_time\": \"120\", \"ratings\": \"3768\", \"user_ratings\": 3331, \"x\": 4.496647357940674, \"y\": 13.024353981018066, \"game_id_x\": \"187617\", \"game_id_y\": \"187617\", \"genre\": \"Adventure\"}, {\"game_idx\": 230, \"title\": \"mage_wars_arena\", \"year\": \"2012\", \"weight\": \"3.6724\", \"play_time\": \"90\", \"ratings\": \"7465\", \"user_ratings\": 6419, \"x\": 7.2638421058654785, \"y\": -4.09687614440918, \"game_id_x\": \"101721\", \"game_id_y\": \"101721\", \"genre\": \"Card Game\"}, {\"game_idx\": 140, \"title\": \"above_and_below\", \"year\": \"2015\", \"weight\": \"2.5243\", \"play_time\": \"90\", \"ratings\": \"13430\", \"user_ratings\": 12195, \"x\": -8.220686912536621, \"y\": 15.352084159851074, \"game_id_x\": \"172818\", \"game_id_y\": \"172818\", \"genre\": \"Adventure\"}, {\"game_idx\": 108, \"title\": \"arboretum\", \"year\": \"2015\", \"weight\": \"2.1559\", \"play_time\": \"30\", \"ratings\": \"14205\", \"user_ratings\": 13409, \"x\": 4.298595905303955, \"y\": 4.31649923324585, \"game_id_x\": \"140934\", \"game_id_y\": \"140934\", \"genre\": \"Card Game\"}, {\"game_idx\": 103, \"title\": \"bruges\", \"year\": \"2013\", \"weight\": \"2.7462\", \"play_time\": \"60\", \"ratings\": \"10501\", \"user_ratings\": 10213, \"x\": -1.9773585796356201, \"y\": -9.722278594970703, \"game_id_x\": \"136888\", \"game_id_y\": \"136888\", \"genre\": \"Card Game\"}, {\"game_idx\": 145, \"title\": \"mysterium\", \"year\": \"2015\", \"weight\": \"1.9064\", \"play_time\": \"42\", \"ratings\": \"33746\", \"user_ratings\": 28343, \"x\": 2.8088064193725586, \"y\": -10.924847602844238, \"game_id_x\": \"181304\", \"game_id_y\": \"181304\", \"genre\": \"Other\"}, {\"game_idx\": 263, \"title\": \"tiny_epic_galaxies\", \"year\": \"2015\", \"weight\": \"2.1537\", \"play_time\": \"45\", \"ratings\": \"16516\", \"user_ratings\": 14534, \"x\": 8.88904857635498, \"y\": -10.501343727111816, \"game_id_x\": \"163967\", \"game_id_y\": \"163967\", \"genre\": \"Science Fiction\"}, {\"game_idx\": 110, \"title\": \"glass_road\", \"year\": \"2013\", \"weight\": \"2.9773\", \"play_time\": \"80\", \"ratings\": \"9240\", \"user_ratings\": 9186, \"x\": 10.841307640075684, \"y\": -7.942964553833008, \"game_id_x\": \"143693\", \"game_id_y\": \"143693\", \"genre\": \"Economic\"}, {\"game_idx\": 351, \"title\": \"mission_red_planet_second_edition\", \"year\": \"2015\", \"weight\": \"2.2026\", \"play_time\": \"90\", \"ratings\": \"9271\", \"user_ratings\": 8921, \"x\": 5.652166843414307, \"y\": 6.607422351837158, \"game_id_x\": \"176920\", \"game_id_y\": \"176920\", \"genre\": \"Science Fiction\"}, {\"game_idx\": 44, \"title\": \"star_wars_armada\", \"year\": \"2015\", \"weight\": \"3.1564\", \"play_time\": \"120\", \"ratings\": \"4743\", \"user_ratings\": 3877, \"x\": 9.53001594543457, \"y\": -0.4411378800868988, \"game_id_x\": \"163745\", \"game_id_y\": \"163745\", \"genre\": \"Miniatures\"}, {\"game_idx\": 15, \"title\": \"love_letter\", \"year\": \"2012\", \"weight\": \"1.1916\", \"play_time\": \"20\", \"ratings\": \"57859\", \"user_ratings\": 48969, \"x\": 4.962424278259277, \"y\": -10.806806564331055, \"game_id_x\": \"129622\", \"game_id_y\": \"129622\", \"genre\": \"Card Game\"}, {\"game_idx\": 277, \"title\": \"agricola_all_creatures_big_and_small\", \"year\": \"2012\", \"weight\": \"2.3538\", \"play_time\": \"30\", \"ratings\": \"12539\", \"user_ratings\": 11279, \"x\": -1.3949803113937378, \"y\": 8.307366371154785, \"game_id_x\": \"119890\", \"game_id_y\": \"119890\", \"genre\": \"Other\"}, {\"game_idx\": 48, \"title\": \"here_i_stand\", \"year\": \"2006\", \"weight\": \"4.1673\", \"play_time\": \"360\", \"ratings\": \"3626\", \"user_ratings\": 2936, \"x\": 0.028808273375034332, \"y\": -8.335322380065918, \"game_id_x\": \"17392\", \"game_id_y\": \"17392\", \"genre\": \"Wargame\"}, {\"game_idx\": 340, \"title\": \"evolution_climate\", \"year\": \"2016\", \"weight\": \"2.7829\", \"play_time\": \"60\", \"ratings\": \"6405\", \"user_ratings\": 5739, \"x\": 2.58548641204834, \"y\": 9.964585304260254, \"game_id_x\": \"182134\", \"game_id_y\": \"182134\", \"genre\": \"Card Game\"}, {\"game_idx\": 0, \"title\": \"die_macher\", \"year\": \"1986\", \"weight\": \"4.3232\", \"play_time\": \"240\", \"ratings\": \"5292\", \"user_ratings\": 4776, \"x\": -6.591894149780273, \"y\": 15.026586532592773, \"game_id_x\": \"1\", \"game_id_y\": \"1\", \"genre\": \"Economic\"}, {\"game_idx\": 55, \"title\": \"sale\", \"year\": \"1997\", \"weight\": \"1.2606\", \"play_time\": \"30\", \"ratings\": \"24832\", \"user_ratings\": 22669, \"x\": 1.4743843078613281, \"y\": 9.834010124206543, \"game_id_x\": \"172\", \"game_id_y\": \"172\", \"genre\": \"Card Game\"}, {\"game_idx\": 247, \"title\": \"bunny_kingdom\", \"year\": \"2017\", \"weight\": \"2.2701\", \"play_time\": \"60\", \"ratings\": \"8354\", \"user_ratings\": 7817, \"x\": -6.438211441040039, \"y\": -8.137994766235352, \"game_id_x\": \"184921\", \"game_id_y\": \"184921\", \"genre\": \"Medieval\"}, {\"game_idx\": 356, \"title\": \"mythic_battles_pantheon\", \"year\": \"2017\", \"weight\": \"3.0273\", \"play_time\": \"90\", \"ratings\": \"2671\", \"user_ratings\": 2050, \"x\": 6.622672080993652, \"y\": 6.147231578826904, \"game_id_x\": \"186751\", \"game_id_y\": \"186751\", \"genre\": \"Card Game\"}, {\"game_idx\": 183, \"title\": \"bruxelles_1893\", \"year\": \"2013\", \"weight\": \"3.5849\", \"play_time\": \"125\", \"ratings\": \"4852\", \"user_ratings\": 4776, \"x\": 1.6461986303329468, \"y\": -7.954476356506348, \"game_id_x\": \"144592\", \"game_id_y\": \"144592\", \"genre\": \"Economic\"}, {\"game_idx\": 350, \"title\": \"sword_sorcery\", \"year\": \"2017\", \"weight\": \"4.0392\", \"play_time\": \"90\", \"ratings\": \"3920\", \"user_ratings\": 2931, \"x\": 9.916692733764648, \"y\": 5.429002285003662, \"game_id_x\": \"170771\", \"game_id_y\": \"170771\", \"genre\": \"Adventure\"}, {\"game_idx\": 207, \"title\": \"nippon\", \"year\": \"2015\", \"weight\": \"3.7942\", \"play_time\": \"120\", \"ratings\": \"4346\", \"user_ratings\": 4327, \"x\": 4.060370445251465, \"y\": 11.21965503692627, \"game_id_x\": \"154809\", \"game_id_y\": \"154809\", \"genre\": \"Economic\"}, {\"game_idx\": 8, \"title\": \"dune\", \"year\": \"1979\", \"weight\": \"3.4466\", \"play_time\": \"180\", \"ratings\": \"5555\", \"user_ratings\": 4423, \"x\": 12.271001815795898, \"y\": 0.36028894782066345, \"game_id_x\": \"121\", \"game_id_y\": \"121\", \"genre\": \"Fighting\"}, {\"game_idx\": 133, \"title\": \"san_juan_second_edition\", \"year\": \"2014\", \"weight\": \"2.0705\", \"play_time\": \"60\", \"ratings\": \"6131\", \"user_ratings\": 5904, \"x\": -4.472015857696533, \"y\": -6.697292327880859, \"game_id_x\": \"166669\", \"game_id_y\": \"166669\", \"genre\": \"Card Game\"}, {\"game_idx\": 156, \"title\": \"mice_and_mystics\", \"year\": \"2012\", \"weight\": \"2.7094\", \"play_time\": \"90\", \"ratings\": \"17258\", \"user_ratings\": 14415, \"x\": 13.146114349365234, \"y\": -1.1342214345932007, \"game_id_x\": \"124708\", \"game_id_y\": \"124708\", \"genre\": \"Adventure\"}, {\"game_idx\": 362, \"title\": \"monikers\", \"year\": \"2015\", \"weight\": \"1.06\", \"play_time\": \"60\", \"ratings\": \"3730\", \"user_ratings\": 3525, \"x\": 3.828648805618286, \"y\": 2.3662362098693848, \"game_id_x\": \"156546\", \"game_id_y\": \"156546\", \"genre\": \"Card Game\"}, {\"game_idx\": 63, \"title\": \"arkham_horror\", \"year\": \"2005\", \"weight\": \"3.5769\", \"play_time\": \"240\", \"ratings\": \"37199\", \"user_ratings\": 24238, \"x\": -6.085061073303223, \"y\": -9.781946182250977, \"game_id_x\": \"15987\", \"game_id_y\": \"15987\", \"genre\": \"Adventure\"}, {\"game_idx\": 185, \"title\": \"abyss\", \"year\": \"2014\", \"weight\": \"2.3317\", \"play_time\": \"60\", \"ratings\": \"11035\", \"user_ratings\": 10227, \"x\": 8.744580268859863, \"y\": -12.378366470336914, \"game_id_x\": \"155987\", \"game_id_y\": \"155987\", \"genre\": \"Card Game\"}, {\"game_idx\": 127, \"title\": \"stockpile\", \"year\": \"2015\", \"weight\": \"2.1071\", \"play_time\": \"45\", \"ratings\": \"5770\", \"user_ratings\": 5620, \"x\": -2.516746759414673, \"y\": -9.966894149780273, \"game_id_x\": \"161614\", \"game_id_y\": \"161614\", \"genre\": \"Economic\"}, {\"game_idx\": 231, \"title\": \"blood_bowl_living_rulebook\", \"year\": \"2004\", \"weight\": \"3.1705\", \"play_time\": \"120\", \"ratings\": \"3380\", \"user_ratings\": 2662, \"x\": -0.9699919819831848, \"y\": 6.435345649719238, \"game_id_x\": \"15985\", \"game_id_y\": \"15985\", \"genre\": \"Fantasy\"}, {\"game_idx\": 354, \"title\": \"awkward_guests\", \"year\": \"2016\", \"weight\": \"2.33\", \"play_time\": \"75\", \"ratings\": \"4162\", \"user_ratings\": 3938, \"x\": 5.043310165405273, \"y\": -10.370601654052734, \"game_id_x\": \"188866\", \"game_id_y\": \"188866\", \"genre\": \"Card Game\"}, {\"game_idx\": 38, \"title\": \"firefly_game\", \"year\": \"2013\", \"weight\": \"2.9548\", \"play_time\": \"240\", \"ratings\": \"10765\", \"user_ratings\": 8650, \"x\": -4.356610298156738, \"y\": 15.258339881896973, \"game_id_x\": \"138161\", \"game_id_y\": \"138161\", \"genre\": \"Adventure\"}, {\"game_idx\": 358, \"title\": \"millennium_blades\", \"year\": \"2016\", \"weight\": \"3.6724\", \"play_time\": \"120\", \"ratings\": \"4119\", \"user_ratings\": 3890, \"x\": -1.4098024368286133, \"y\": -5.810905933380127, \"game_id_x\": \"151347\", \"game_id_y\": \"151347\", \"genre\": \"Card Game\"}, {\"game_idx\": 149, \"title\": \"flash_point_fire_rescue\", \"year\": \"2011\", \"weight\": \"2.2067\", \"play_time\": \"45\", \"ratings\": \"21534\", \"user_ratings\": 18579, \"x\": 5.445825576782227, \"y\": 7.452681064605713, \"game_id_x\": \"100901\", \"game_id_y\": \"100901\", \"genre\": \"Adventure\"}, {\"game_idx\": 201, \"title\": \"ginkgopolis\", \"year\": \"2012\", \"weight\": \"2.9204\", \"play_time\": \"45\", \"ratings\": \"5578\", \"user_ratings\": 5546, \"x\": 2.9885354042053223, \"y\": -7.8536787033081055, \"game_id_x\": \"128271\", \"game_id_y\": \"128271\", \"genre\": \"Science Fiction\"}, {\"game_idx\": 252, \"title\": \"spartacus_game_blood_and_treachery\", \"year\": \"2012\", \"weight\": \"2.7086\", \"play_time\": \"180\", \"ratings\": \"7394\", \"user_ratings\": 6472, \"x\": -3.3050670623779297, \"y\": 9.610684394836426, \"game_id_x\": \"128671\", \"game_id_y\": \"128671\", \"genre\": \"Fighting\"}, {\"game_idx\": 141, \"title\": \"quadropolis\", \"year\": \"2016\", \"weight\": \"2.211\", \"play_time\": \"60\", \"ratings\": \"11424\", \"user_ratings\": 11002, \"x\": 5.692895889282227, \"y\": 12.2938814163208, \"game_id_x\": \"176396\", \"game_id_y\": \"176396\", \"genre\": \"Other\"}, {\"game_idx\": 82, \"title\": \"heroscape_master_set_rise_valkyrie\", \"year\": \"2004\", \"weight\": \"2.2901\", \"play_time\": \"90\", \"ratings\": \"7861\", \"user_ratings\": 5642, \"x\": -3.86047101020813, \"y\": -5.408195972442627, \"game_id_x\": \"11170\", \"game_id_y\": \"11170\", \"genre\": \"Adventure\"}, {\"game_idx\": 199, \"title\": \"great_zimbabwe\", \"year\": \"2012\", \"weight\": \"3.6976\", \"play_time\": \"150\", \"ratings\": \"3282\", \"user_ratings\": 3260, \"x\": 6.40538215637207, \"y\": 9.278129577636719, \"game_id_x\": \"111341\", \"game_id_y\": \"111341\", \"genre\": \"Economic\"}, {\"game_idx\": 280, \"title\": \"risk_legacy\", \"year\": \"2011\", \"weight\": \"2.5891\", \"play_time\": \"60\", \"ratings\": \"7708\", \"user_ratings\": 6339, \"x\": 1.2688196897506714, \"y\": -11.506914138793945, \"game_id_x\": \"105134\", \"game_id_y\": \"105134\", \"genre\": \"Science Fiction\"}, {\"game_idx\": 105, \"title\": \"amerigo\", \"year\": \"2013\", \"weight\": \"2.9939\", \"play_time\": \"90\", \"ratings\": \"5619\", \"user_ratings\": 5505, \"x\": 0.7437769174575806, \"y\": -3.104387044906616, \"game_id_x\": \"137408\", \"game_id_y\": \"137408\", \"genre\": \"Other\"}, {\"game_idx\": 116, \"title\": \"pandemic_cure\", \"year\": \"2014\", \"weight\": \"2.0586\", \"play_time\": \"30\", \"ratings\": \"9643\", \"user_ratings\": 8937, \"x\": 11.524345397949219, \"y\": 1.2235630750656128, \"game_id_x\": \"150658\", \"game_id_y\": \"150658\", \"genre\": \"Other\"}, {\"game_idx\": 148, \"title\": \"lord_rings_confrontation\", \"year\": \"2005\", \"weight\": \"2.1913\", \"play_time\": \"30\", \"ratings\": \"5762\", \"user_ratings\": 4986, \"x\": -0.356701135635376, \"y\": -1.7214574813842773, \"game_id_x\": \"18833\", \"game_id_y\": \"18833\", \"genre\": \"Adventure\"}, {\"game_idx\": 168, \"title\": \"sheriff_nottingham\", \"year\": \"2014\", \"weight\": \"1.6516\", \"play_time\": \"60\", \"ratings\": \"30623\", \"user_ratings\": 26914, \"x\": 1.115394949913025, \"y\": 4.097885608673096, \"game_id_x\": \"157969\", \"game_id_y\": \"157969\", \"genre\": \"Card Game\"}, {\"game_idx\": 273, \"title\": \"1775_rebellion\", \"year\": \"2013\", \"weight\": \"2.2369\", \"play_time\": \"120\", \"ratings\": \"3807\", \"user_ratings\": 3450, \"x\": 2.038776159286499, \"y\": 6.012092590332031, \"game_id_x\": \"128996\", \"game_id_y\": \"128996\", \"genre\": \"Wargame\"}, {\"game_idx\": 307, \"title\": \"shadows_brimstone_city_ancients\", \"year\": \"2014\", \"weight\": \"3.3425\", \"play_time\": \"120\", \"ratings\": \"3503\", \"user_ratings\": 2666, \"x\": -5.75208854675293, \"y\": 2.092305898666382, \"game_id_x\": \"146791\", \"game_id_y\": \"146791\", \"genre\": \"Adventure\"}, {\"game_idx\": 26, \"title\": \"descent_journeys_dark\", \"year\": \"2005\", \"weight\": \"3.3404\", \"play_time\": \"240\", \"ratings\": \"11390\", \"user_ratings\": 8066, \"x\": -9.313042640686035, \"y\": 14.626237869262695, \"game_id_x\": \"17226\", \"game_id_y\": \"17226\", \"genre\": \"Adventure\"}, {\"game_idx\": 359, \"title\": \"battlecon_devastation_indines\", \"year\": \"2013\", \"weight\": \"3.0769\", \"play_time\": \"45\", \"ratings\": \"2985\", \"user_ratings\": 2660, \"x\": 8.4381742477417, \"y\": -4.990046501159668, \"game_id_x\": \"123123\", \"game_id_y\": \"123123\", \"genre\": \"Card Game\"}, {\"game_idx\": 21, \"title\": \"pitchcar\", \"year\": \"1995\", \"weight\": \"1.1267\", \"play_time\": \"30\", \"ratings\": \"9840\", \"user_ratings\": 8928, \"x\": 10.397390365600586, \"y\": 5.018339157104492, \"game_id_x\": \"150\", \"game_id_y\": \"150\", \"genre\": \"Other\"}, {\"game_idx\": 102, \"title\": \"forbidden_desert\", \"year\": \"2013\", \"weight\": \"2.0504\", \"play_time\": \"45\", \"ratings\": \"26501\", \"user_ratings\": 22044, \"x\": -4.920793056488037, \"y\": 4.601876258850098, \"game_id_x\": \"136063\", \"game_id_y\": \"136063\", \"genre\": \"Adventure\"}, {\"game_idx\": 318, \"title\": \"raptor\", \"year\": \"2015\", \"weight\": \"2.0556\", \"play_time\": \"30\", \"ratings\": \"8302\", \"user_ratings\": 7864, \"x\": 3.363535165786743, \"y\": 11.614437103271484, \"game_id_x\": \"177639\", \"game_id_y\": \"177639\", \"genre\": \"Fighting\"}, {\"game_idx\": 129, \"title\": \"deus\", \"year\": \"2014\", \"weight\": \"2.8509\", \"play_time\": \"90\", \"ratings\": \"7484\", \"user_ratings\": 7409, \"x\": -4.437312602996826, \"y\": 2.4569473266601562, \"game_id_x\": \"162082\", \"game_id_y\": \"162082\", \"genre\": \"Other\"}, {\"game_idx\": 169, \"title\": \"colt_express\", \"year\": \"2014\", \"weight\": \"1.8201\", \"play_time\": \"40\", \"ratings\": \"25890\", \"user_ratings\": 23235, \"x\": -5.805717945098877, \"y\": -6.111316204071045, \"game_id_x\": \"158899\", \"game_id_y\": \"158899\", \"genre\": \"Fighting\"}, {\"game_idx\": 16, \"title\": \"catan\", \"year\": \"1995\", \"weight\": \"2.3158\", \"play_time\": \"120\", \"ratings\": \"104981\", \"user_ratings\": 62316, \"x\": -2.2807958126068115, \"y\": 9.019341468811035, \"game_id_x\": \"13\", \"game_id_y\": \"13\", \"genre\": \"Economic\"}, {\"game_idx\": 197, \"title\": \"archipelago\", \"year\": \"2012\", \"weight\": \"3.7352\", \"play_time\": \"240\", \"ratings\": \"7511\", \"user_ratings\": 7009, \"x\": 5.061767101287842, \"y\": 4.4896240234375, \"game_id_x\": \"105551\", \"game_id_y\": \"105551\", \"genre\": \"Economic\"}, {\"game_idx\": 64, \"title\": \"freedom_underground_railroad\", \"year\": \"2012\", \"weight\": \"2.9062\", \"play_time\": \"120\", \"ratings\": \"3977\", \"user_ratings\": 3828, \"x\": 9.998739242553711, \"y\": -7.732540607452393, \"game_id_x\": \"119506\", \"game_id_y\": \"119506\", \"genre\": \"Economic\"}, {\"game_idx\": 96, \"title\": \"legends_andor\", \"year\": \"2012\", \"weight\": \"2.7677\", \"play_time\": \"90\", \"ratings\": \"15704\", \"user_ratings\": 13043, \"x\": -6.124932765960693, \"y\": 3.112821102142334, \"game_id_x\": \"127398\", \"game_id_y\": \"127398\", \"genre\": \"Adventure\"}, {\"game_idx\": 22, \"title\": \"shadows_over_camelot\", \"year\": \"2005\", \"weight\": \"2.5664\", \"play_time\": \"80\", \"ratings\": \"25795\", \"user_ratings\": 21067, \"x\": -3.9591808319091797, \"y\": 11.37633228302002, \"game_id_x\": \"15062\", \"game_id_y\": \"15062\", \"genre\": \"Adventure\"}, {\"game_idx\": 20, \"title\": \"fire_lake\", \"year\": \"2014\", \"weight\": \"4.0794\", \"play_time\": \"180\", \"ratings\": \"2351\", \"user_ratings\": 1985, \"x\": 9.346482276916504, \"y\": -7.665755271911621, \"game_id_x\": \"144189\", \"game_id_y\": \"144189\", \"genre\": \"Wargame\"}, {\"game_idx\": 217, \"title\": \"grizzled\", \"year\": \"2015\", \"weight\": \"1.949\", \"play_time\": \"30\", \"ratings\": \"12634\", \"user_ratings\": 11856, \"x\": -11.52210807800293, \"y\": 8.044569969177246, \"game_id_x\": \"171668\", \"game_id_y\": \"171668\", \"genre\": \"Card Game\"}, {\"game_idx\": 101, \"title\": \"euphoria_build_better_dystopia\", \"year\": \"2013\", \"weight\": \"3.1087\", \"play_time\": \"60\", \"ratings\": \"9639\", \"user_ratings\": 9091, \"x\": 7.291008949279785, \"y\": -3.7640929222106934, \"game_id_x\": \"133848\", \"game_id_y\": \"133848\", \"genre\": \"Science Fiction\"}, {\"game_idx\": 150, \"title\": \"sentinels_multiverse\", \"year\": \"2011\", \"weight\": \"2.5007\", \"play_time\": \"60\", \"ratings\": \"15004\", \"user_ratings\": 12959, \"x\": -6.093235492706299, \"y\": -10.803301811218262, \"game_id_x\": \"102652\", \"game_id_y\": \"102652\", \"genre\": \"Card Game\"}, {\"game_idx\": 259, \"title\": \"one_night_ultimate_werewolf\", \"year\": \"2014\", \"weight\": \"1.3868\", \"play_time\": \"10\", \"ratings\": \"22319\", \"user_ratings\": 19323, \"x\": 12.982882499694824, \"y\": -2.3526885509490967, \"game_id_x\": \"147949\", \"game_id_y\": \"147949\", \"genre\": \"Card Game\"}, {\"game_idx\": 46, \"title\": \"chess\", \"year\": \"1475\", \"weight\": \"3.6951\", \"play_time\": \"60\", \"ratings\": \"29869\", \"user_ratings\": 21268, \"x\": -2.653053045272827, \"y\": 1.7131797075271606, \"game_id_x\": \"171\", \"game_id_y\": \"171\", \"genre\": \"Other\"}, {\"game_idx\": 92, \"title\": \"libertalia\", \"year\": \"2012\", \"weight\": \"2.2369\", \"play_time\": \"60\", \"ratings\": \"12721\", \"user_ratings\": 12112, \"x\": -10.378737449645996, \"y\": 9.530107498168945, \"game_id_x\": \"125618\", \"game_id_y\": \"125618\", \"genre\": \"Card Game\"}, {\"game_idx\": 204, \"title\": \"argent_consortium\", \"year\": \"2015\", \"weight\": \"3.8162\", \"play_time\": \"150\", \"ratings\": \"3348\", \"user_ratings\": 3216, \"x\": 9.124441146850586, \"y\": -6.873960971832275, \"game_id_x\": \"144797\", \"game_id_y\": \"144797\", \"genre\": \"Fantasy\"}, {\"game_idx\": 203, \"title\": \"escape_plan\", \"year\": \"2019\", \"weight\": \"3.6875\", \"play_time\": \"120\", \"ratings\": \"3832\", \"user_ratings\": 3789, \"x\": 5.1802077293396, \"y\": -14.81750202178955, \"game_id_x\": \"142379\", \"game_id_y\": \"142379\", \"genre\": \"Adventure\"}, {\"game_idx\": 131, \"title\": \"elysium\", \"year\": \"2015\", \"weight\": \"2.7599\", \"play_time\": \"60\", \"ratings\": \"8732\", \"user_ratings\": 8489, \"x\": 9.406517028808594, \"y\": -2.65881609916687, \"game_id_x\": \"163968\", \"game_id_y\": \"163968\", \"genre\": \"Card Game\"}, {\"game_idx\": 290, \"title\": \"black_orchestra\", \"year\": \"2016\", \"weight\": \"2.4154\", \"play_time\": \"90\", \"ratings\": \"4598\", \"user_ratings\": 4225, \"x\": -5.104190826416016, \"y\": 5.511764049530029, \"game_id_x\": \"156858\", \"game_id_y\": \"156858\", \"genre\": \"Other\"}, {\"game_idx\": 144, \"title\": \"potion_explosion\", \"year\": \"2015\", \"weight\": \"1.745\", \"play_time\": \"45\", \"ratings\": \"14463\", \"user_ratings\": 13363, \"x\": -7.298438549041748, \"y\": 10.691507339477539, \"game_id_x\": \"180974\", \"game_id_y\": \"180974\", \"genre\": \"Fantasy\"}, {\"game_idx\": 27, \"title\": \"roborally\", \"year\": \"1994\", \"weight\": \"2.43\", \"play_time\": \"120\", \"ratings\": \"22670\", \"user_ratings\": 17710, \"x\": 0.4281300902366638, \"y\": 6.694944381713867, \"game_id_x\": \"18\", \"game_id_y\": \"18\", \"genre\": \"Miniatures\"}, {\"game_idx\": 100, \"title\": \"sushi_go\", \"year\": \"2013\", \"weight\": \"1.1645\", \"play_time\": \"15\", \"ratings\": \"36553\", \"user_ratings\": 30296, \"x\": 6.121476173400879, \"y\": -4.258309364318848, \"game_id_x\": \"133473\", \"game_id_y\": \"133473\", \"genre\": \"Card Game\"}, {\"game_idx\": 3, \"title\": \"bohnanza\", \"year\": \"1997\", \"weight\": \"1.675\", \"play_time\": \"45\", \"ratings\": \"39204\", \"user_ratings\": 30134, \"x\": -13.76229476928711, \"y\": 11.499338150024414, \"game_id_x\": \"11\", \"game_id_y\": \"11\", \"genre\": \"Card Game\"}, {\"game_idx\": 59, \"title\": \"no_thanks\", \"year\": \"2004\", \"weight\": \"1.1389\", \"play_time\": \"20\", \"ratings\": \"21171\", \"user_ratings\": 19320, \"x\": 10.172694206237793, \"y\": -5.943837642669678, \"game_id_x\": \"12942\", \"game_id_y\": \"12942\", \"genre\": \"Card Game\"}, {\"game_idx\": 160, \"title\": \"pathfinder_adventure_card_game_rise_runelords_base\", \"year\": \"2013\", \"weight\": \"2.7127\", \"play_time\": \"90\", \"ratings\": \"12158\", \"user_ratings\": 10264, \"x\": 2.474033832550049, \"y\": 11.34205150604248, \"game_id_x\": \"133038\", \"game_id_y\": \"133038\", \"genre\": \"Adventure\"}, {\"game_idx\": 121, \"title\": \"port_royal\", \"year\": \"2014\", \"weight\": \"1.6213\", \"play_time\": \"50\", \"ratings\": \"13736\", \"user_ratings\": 12676, \"x\": -11.801604270935059, \"y\": 12.703242301940918, \"game_id_x\": \"156009\", \"game_id_y\": \"156009\", \"genre\": \"Card Game\"}, {\"game_idx\": 179, \"title\": \"1846_race_midwest\", \"year\": \"2005\", \"weight\": \"3.9845\", \"play_time\": \"240\", \"ratings\": \"2262\", \"user_ratings\": 2201, \"x\": -9.673907279968262, \"y\": 13.968384742736816, \"game_id_x\": \"17405\", \"game_id_y\": \"17405\", \"genre\": \"Economic\"}, {\"game_idx\": 339, \"title\": \"runebound_third_edition\", \"year\": \"2015\", \"weight\": \"2.6746\", \"play_time\": \"180\", \"ratings\": \"5185\", \"user_ratings\": 4292, \"x\": -9.024559020996094, \"y\": 7.355694770812988, \"game_id_x\": \"181530\", \"game_id_y\": \"181530\", \"genre\": \"Adventure\"}, {\"game_idx\": 268, \"title\": \"star_wars_x_wing_miniatures_game_force_awakens_cor\", \"year\": \"2015\", \"weight\": \"2.8545\", \"play_time\": \"45\", \"ratings\": \"2886\", \"user_ratings\": 2536, \"x\": 2.3769233226776123, \"y\": 9.146614074707031, \"game_id_x\": \"183562\", \"game_id_y\": \"183562\", \"genre\": \"Miniatures\"}, {\"game_idx\": 147, \"title\": \"karuba\", \"year\": \"2015\", \"weight\": \"1.4592\", \"play_time\": \"40\", \"ratings\": \"9128\", \"user_ratings\": 8620, \"x\": -0.573841392993927, \"y\": -6.766613483428955, \"game_id_x\": \"183251\", \"game_id_y\": \"183251\", \"genre\": \"Exploration\"}, {\"game_idx\": 12, \"title\": \"pax_porfiriana\", \"year\": \"2012\", \"weight\": \"3.5816\", \"play_time\": \"120\", \"ratings\": \"3149\", \"user_ratings\": 3042, \"x\": 6.535329818725586, \"y\": -11.36852741241455, \"game_id_x\": \"128780\", \"game_id_y\": \"128780\", \"genre\": \"Card Game\"}, {\"game_idx\": 202, \"title\": \"paperback\", \"year\": \"2014\", \"weight\": \"1.9883\", \"play_time\": \"45\", \"ratings\": \"9270\", \"user_ratings\": 8827, \"x\": 1.6743930578231812, \"y\": -12.362873077392578, \"game_id_x\": \"141572\", \"game_id_y\": \"141572\", \"genre\": \"Card Game\"}, {\"game_idx\": 53, \"title\": \"nexus_ops\", \"year\": \"2005\", \"weight\": \"2.2321\", \"play_time\": \"90\", \"ratings\": \"8544\", \"user_ratings\": 7284, \"x\": 11.12476921081543, \"y\": -9.049518585205078, \"game_id_x\": \"15363\", \"game_id_y\": \"15363\", \"genre\": \"Exploration\"}, {\"game_idx\": 191, \"title\": \"baseball_highlights_2045\", \"year\": \"2015\", \"weight\": \"2.2074\", \"play_time\": \"45\", \"ratings\": \"3820\", \"user_ratings\": 3637, \"x\": 5.5500569343566895, \"y\": -5.479928493499756, \"game_id_x\": \"151022\", \"game_id_y\": \"151022\", \"genre\": \"Card Game\"}, {\"game_idx\": 126, \"title\": \"aquasphere\", \"year\": \"2014\", \"weight\": \"3.6942\", \"play_time\": \"100\", \"ratings\": \"6627\", \"user_ratings\": 6546, \"x\": 9.508539199829102, \"y\": -5.0567755699157715, \"game_id_x\": \"159508\", \"game_id_y\": \"159508\", \"genre\": \"Science Fiction\"}, {\"game_idx\": 120, \"title\": \"evolution\", \"year\": \"2014\", \"weight\": \"2.4353\", \"play_time\": \"60\", \"ratings\": \"14127\", \"user_ratings\": 12787, \"x\": 2.8633811473846436, \"y\": -12.656331062316895, \"game_id_x\": \"155703\", \"game_id_y\": \"155703\", \"genre\": \"Card Game\"}, {\"game_idx\": 363, \"title\": \"conan\", \"year\": \"2016\", \"weight\": \"2.7593\", \"play_time\": \"90\", \"ratings\": \"4070\", \"user_ratings\": 3252, \"x\": 0.46447280049324036, \"y\": -0.91628098487854, \"game_id_x\": \"160010\", \"game_id_y\": \"160010\", \"genre\": \"Adventure\"}, {\"game_idx\": 238, \"title\": \"camel\", \"year\": \"2014\", \"weight\": \"1.4776\", \"play_time\": \"30\", \"ratings\": \"23475\", \"user_ratings\": 21171, \"x\": 2.73205304145813, \"y\": -9.776309967041016, \"game_id_x\": \"153938\", \"game_id_y\": \"153938\", \"genre\": \"Other\"}, {\"game_idx\": 106, \"title\": \"francis_drake\", \"year\": \"2013\", \"weight\": \"2.9208\", \"play_time\": \"120\", \"ratings\": \"4616\", \"user_ratings\": 4503, \"x\": -7.052116870880127, \"y\": 10.123350143432617, \"game_id_x\": \"140603\", \"game_id_y\": \"140603\", \"genre\": \"Exploration\"}, {\"game_idx\": 216, \"title\": \"game_thrones_card_game_second_edition\", \"year\": \"2015\", \"weight\": \"3.5373\", \"play_time\": \"120\", \"ratings\": \"4338\", \"user_ratings\": 3703, \"x\": -5.4932475090026855, \"y\": 15.122735023498535, \"game_id_x\": \"169255\", \"game_id_y\": \"169255\", \"genre\": \"Card Game\"}, {\"game_idx\": 139, \"title\": \"broom_service\", \"year\": \"2015\", \"weight\": \"2.406\", \"play_time\": \"75\", \"ratings\": \"8437\", \"user_ratings\": 8257, \"x\": 6.065571308135986, \"y\": 5.200880527496338, \"game_id_x\": \"172308\", \"game_id_y\": \"172308\", \"genre\": \"Fantasy\"}, {\"game_idx\": 83, \"title\": \"zombicide\", \"year\": \"2012\", \"weight\": \"2.5451\", \"play_time\": \"60\", \"ratings\": \"16954\", \"user_ratings\": 13132, \"x\": 0.25389066338539124, \"y\": -10.776610374450684, \"game_id_x\": \"113924\", \"game_id_y\": \"113924\", \"genre\": \"Miniatures\"}, {\"game_idx\": 109, \"title\": \"quantum\", \"year\": \"2013\", \"weight\": \"2.4566\", \"play_time\": \"60\", \"ratings\": \"6726\", \"user_ratings\": 6253, \"x\": -1.5712852478027344, \"y\": -6.579711437225342, \"game_id_x\": \"143519\", \"game_id_y\": \"143519\", \"genre\": \"Fighting\"}, {\"game_idx\": 181, \"title\": \"snowdonia\", \"year\": \"2012\", \"weight\": \"2.993\", \"play_time\": \"90\", \"ratings\": \"4657\", \"user_ratings\": 4540, \"x\": -5.485035419464111, \"y\": -6.696744441986084, \"game_id_x\": \"119432\", \"game_id_y\": \"119432\", \"genre\": \"Other\"}, {\"game_idx\": 295, \"title\": \"mare_nostrum_empires\", \"year\": \"2016\", \"weight\": \"3.0084\", \"play_time\": \"120\", \"ratings\": \"3566\", \"user_ratings\": 3320, \"x\": 2.0357048511505127, \"y\": 3.2656161785125732, \"game_id_x\": \"174785\", \"game_id_y\": \"174785\", \"genre\": \"Economic\"}, {\"game_idx\": 84, \"title\": \"las_vegas\", \"year\": \"2012\", \"weight\": \"1.1877\", \"play_time\": \"30\", \"ratings\": \"9545\", \"user_ratings\": 9265, \"x\": -0.09416843205690384, \"y\": -7.466265678405762, \"game_id_x\": \"117959\", \"game_id_y\": \"117959\", \"genre\": \"Other\"}, {\"game_idx\": 23, \"title\": \"republic_rome\", \"year\": \"1990\", \"weight\": \"4.3441\", \"play_time\": \"300\", \"ratings\": \"3965\", \"user_ratings\": 3016, \"x\": -10.141495704650879, \"y\": 14.412983894348145, \"game_id_x\": \"1513\", \"game_id_y\": \"1513\", \"genre\": \"Wargame\"}, {\"game_idx\": 289, \"title\": \"skull_king\", \"year\": \"2013\", \"weight\": \"1.7304\", \"play_time\": \"30\", \"ratings\": \"4615\", \"user_ratings\": 4498, \"x\": -4.914811611175537, \"y\": 10.663304328918457, \"game_id_x\": \"150145\", \"game_id_y\": \"150145\", \"genre\": \"Card Game\"}, {\"game_idx\": 99, \"title\": \"coup\", \"year\": \"2012\", \"weight\": \"1.4057\", \"play_time\": \"15\", \"ratings\": \"37442\", \"user_ratings\": 31004, \"x\": 10.724153518676758, \"y\": -1.851993441581726, \"game_id_x\": \"131357\", \"game_id_y\": \"131357\", \"genre\": \"Card Game\"}, {\"game_idx\": 349, \"title\": \"valeria_card_kingdoms\", \"year\": \"2016\", \"weight\": \"2\", \"play_time\": \"45\", \"ratings\": \"4343\", \"user_ratings\": 3993, \"x\": 2.1643831729888916, \"y\": -15.288040161132812, \"game_id_x\": \"170561\", \"game_id_y\": \"170561\", \"genre\": \"Card Game\"}, {\"game_idx\": 293, \"title\": \"one_night_ultimate_werewolf_daybreak\", \"year\": \"2015\", \"weight\": \"1.4227\", \"play_time\": \"10\", \"ratings\": \"5055\", \"user_ratings\": 4558, \"x\": 7.987697124481201, \"y\": -14.308223724365234, \"game_id_x\": \"163166\", \"game_id_y\": \"163166\", \"genre\": \"Card Game\"}, {\"game_idx\": 154, \"title\": \"trains\", \"year\": \"2012\", \"weight\": \"2.3881\", \"play_time\": \"45\", \"ratings\": \"7827\", \"user_ratings\": 7528, \"x\": -6.7506794929504395, \"y\": 3.4770889282226562, \"game_id_x\": \"121408\", \"game_id_y\": \"121408\", \"genre\": \"Card Game\"}, {\"game_idx\": 323, \"title\": \"shadows_brimstone_swamps_death\", \"year\": \"2014\", \"weight\": \"3.3929\", \"play_time\": \"180\", \"ratings\": \"2249\", \"user_ratings\": 1786, \"x\": 3.453479766845703, \"y\": -12.662930488586426, \"game_id_x\": \"150997\", \"game_id_y\": \"150997\", \"genre\": \"Adventure\"}, {\"game_idx\": 367, \"title\": \"dawn_zeds_third_edition\", \"year\": \"2016\", \"weight\": \"3.766\", \"play_time\": \"120\", \"ratings\": \"1785\", \"user_ratings\": 1535, \"x\": 1.8585015535354614, \"y\": -2.0700831413269043, \"game_id_x\": \"175095\", \"game_id_y\": \"175095\", \"genre\": \"Other\"}, {\"game_idx\": 324, \"title\": \"triumph_tragedy_european_balance_power_1936_1945\", \"year\": \"2015\", \"weight\": \"3.3289\", \"play_time\": \"360\", \"ratings\": \"1844\", \"user_ratings\": 1574, \"x\": 9.643487930297852, \"y\": -5.83059549331665, \"game_id_x\": \"130960\", \"game_id_y\": \"130960\", \"genre\": \"Economic\"}, {\"game_idx\": 296, \"title\": \"shakespeare\", \"year\": \"2015\", \"weight\": \"2.994\", \"play_time\": \"90\", \"ratings\": \"3920\", \"user_ratings\": 3823, \"x\": 5.725361347198486, \"y\": 9.938997268676758, \"game_id_x\": \"180511\", \"game_id_y\": \"180511\", \"genre\": \"Other\"}, {\"game_idx\": 343, \"title\": \"battle_five_armies\", \"year\": \"2014\", \"weight\": \"3.5735\", \"play_time\": \"240\", \"ratings\": \"2341\", \"user_ratings\": 2114, \"x\": -11.843059539794922, \"y\": 9.946638107299805, \"game_id_x\": \"135219\", \"game_id_y\": \"135219\", \"genre\": \"Adventure\"}, {\"game_idx\": 57, \"title\": \"betrayal_house_hill\", \"year\": \"2004\", \"weight\": \"2.3866\", \"play_time\": \"60\", \"ratings\": \"38362\", \"user_ratings\": 27287, \"x\": 5.586224555969238, \"y\": -6.096437931060791, \"game_id_x\": \"10547\", \"game_id_y\": \"10547\", \"genre\": \"Adventure\"}, {\"game_idx\": 300, \"title\": \"cuba_libre\", \"year\": \"2013\", \"weight\": \"3.5502\", \"play_time\": \"180\", \"ratings\": \"2663\", \"user_ratings\": 2454, \"x\": 6.739905834197998, \"y\": -14.29802417755127, \"game_id_x\": \"111799\", \"game_id_y\": \"111799\", \"genre\": \"Economic\"}, {\"game_idx\": 18, \"title\": \"times\", \"year\": \"1999\", \"weight\": \"1.2063\", \"play_time\": \"90\", \"ratings\": \"5151\", \"user_ratings\": 4522, \"x\": 1.9992257356643677, \"y\": 0.582381546497345, \"game_id_x\": \"1353\", \"game_id_y\": \"1353\", \"genre\": \"Other\"}, {\"game_idx\": 279, \"title\": \"dixit_journey\", \"year\": \"2012\", \"weight\": \"1.2615\", \"play_time\": \"30\", \"ratings\": \"4263\", \"user_ratings\": 3718, \"x\": 3.22631573677063, \"y\": -11.778314590454102, \"game_id_x\": \"121288\", \"game_id_y\": \"121288\", \"genre\": \"Card Game\"}, {\"game_idx\": 254, \"title\": \"thunderstone_advance_towers_ruin\", \"year\": \"2012\", \"weight\": \"2.7386\", \"play_time\": \"45\", \"ratings\": \"4618\", \"user_ratings\": 4033, \"x\": -5.705521583557129, \"y\": 10.208739280700684, \"game_id_x\": \"116998\", \"game_id_y\": \"116998\", \"genre\": \"Card Game\"}, {\"game_idx\": 304, \"title\": \"smash_awesome_level_9000\", \"year\": \"2013\", \"weight\": \"2.1371\", \"play_time\": \"45\", \"ratings\": \"6588\", \"user_ratings\": 5765, \"x\": 7.007945537567139, \"y\": 3.7424604892730713, \"game_id_x\": \"134726\", \"game_id_y\": \"134726\", \"genre\": \"Card Game\"}, {\"game_idx\": 94, \"title\": \"myrmes\", \"year\": \"2012\", \"weight\": \"3.4503\", \"play_time\": \"120\", \"ratings\": \"5149\", \"user_ratings\": 4938, \"x\": 7.180097579956055, \"y\": -10.053263664245605, \"game_id_x\": \"126792\", \"game_id_y\": \"126792\", \"genre\": \"Other\"}, {\"game_idx\": 220, \"title\": \"leaving_earth\", \"year\": \"2015\", \"weight\": \"3.7235\", \"play_time\": \"180\", \"ratings\": \"2472\", \"user_ratings\": 2222, \"x\": 8.12273120880127, \"y\": -5.541397571563721, \"game_id_x\": \"173064\", \"game_id_y\": \"173064\", \"genre\": \"Science Fiction\"}, {\"game_idx\": 79, \"title\": \"kingdom_builder\", \"year\": \"2011\", \"weight\": \"2.0624\", \"play_time\": \"45\", \"ratings\": \"20341\", \"user_ratings\": 18472, \"x\": 5.815241813659668, \"y\": -10.606268882751465, \"game_id_x\": \"107529\", \"game_id_y\": \"107529\", \"genre\": \"Medieval\"}, {\"game_idx\": 97, \"title\": \"downfall_pompeii\", \"year\": \"2004\", \"weight\": \"1.8469\", \"play_time\": \"45\", \"ratings\": \"7578\", \"user_ratings\": 6890, \"x\": 3.7690346240997314, \"y\": -1.3783605098724365, \"game_id_x\": \"13004\", \"game_id_y\": \"13004\", \"genre\": \"Other\"}, {\"game_idx\": 166, \"title\": \"specter_ops\", \"year\": \"2015\", \"weight\": \"2.3905\", \"play_time\": \"120\", \"ratings\": \"5775\", \"user_ratings\": 5521, \"x\": 3.5438191890716553, \"y\": 4.632352352142334, \"game_id_x\": \"155624\", \"game_id_y\": \"155624\", \"genre\": \"Fighting\"}, {\"game_idx\": 250, \"title\": \"zhanguo\", \"year\": \"2014\", \"weight\": \"3.8341\", \"play_time\": \"120\", \"ratings\": \"2918\", \"user_ratings\": 2921, \"x\": 6.828771114349365, \"y\": -3.094001531600952, \"game_id_x\": \"160495\", \"game_id_y\": \"160495\", \"genre\": \"Other\"}, {\"game_idx\": 338, \"title\": \"warhammer_quest_adventure_card_game\", \"year\": \"2015\", \"weight\": \"2.7135\", \"play_time\": \"60\", \"ratings\": \"5027\", \"user_ratings\": 4195, \"x\": 12.067628860473633, \"y\": 1.9181675910949707, \"game_id_x\": \"181521\", \"game_id_y\": \"181521\", \"genre\": \"Adventure\"}, {\"game_idx\": 152, \"title\": \"escape_curse_temple\", \"year\": \"2012\", \"weight\": \"1.483\", \"play_time\": \"10\", \"ratings\": \"15741\", \"user_ratings\": 14362, \"x\": 1.2212591171264648, \"y\": -3.850860595703125, \"game_id_x\": \"113294\", \"game_id_y\": \"113294\", \"genre\": \"Adventure\"}, {\"game_idx\": 72, \"title\": \"elder_sign\", \"year\": \"2011\", \"weight\": \"2.3494\", \"play_time\": \"90\", \"ratings\": \"22681\", \"user_ratings\": 18121, \"x\": -2.139443874359131, \"y\": 9.869641304016113, \"game_id_x\": \"100423\", \"game_id_y\": \"100423\", \"genre\": \"Adventure\"}, {\"game_idx\": 136, \"title\": \"cacao\", \"year\": \"2015\", \"weight\": \"1.8171\", \"play_time\": \"45\", \"ratings\": \"8775\", \"user_ratings\": 8305, \"x\": -12.70230770111084, \"y\": 5.945570945739746, \"game_id_x\": \"171499\", \"game_id_y\": \"171499\", \"genre\": \"Economic\"}, {\"game_idx\": 90, \"title\": \"tokaido\", \"year\": \"2012\", \"weight\": \"1.7477\", \"play_time\": \"45\", \"ratings\": \"21509\", \"user_ratings\": 18683, \"x\": 13.147173881530762, \"y\": -5.98939847946167, \"game_id_x\": \"123540\", \"game_id_y\": \"123540\", \"genre\": \"Other\"}, {\"game_idx\": 170, \"title\": \"steampunk_rally\", \"year\": \"2015\", \"weight\": \"2.5907\", \"play_time\": \"60\", \"ratings\": \"5976\", \"user_ratings\": 5596, \"x\": 7.251222133636475, \"y\": -10.61942195892334, \"game_id_x\": \"162007\", \"game_id_y\": \"162007\", \"genre\": \"Science Fiction\"}, {\"game_idx\": 42, \"title\": \"vegas_showdown\", \"year\": \"2005\", \"weight\": \"2.3561\", \"play_time\": \"75\", \"ratings\": \"6121\", \"user_ratings\": 5385, \"x\": -9.610014915466309, \"y\": 4.236681938171387, \"game_id_x\": \"15364\", \"game_id_y\": \"15364\", \"genre\": \"Economic\"}, {\"game_idx\": 165, \"title\": \"arkwright\", \"year\": \"2014\", \"weight\": \"4.5708\", \"play_time\": \"240\", \"ratings\": \"2065\", \"user_ratings\": 2042, \"x\": -7.3610429763793945, \"y\": 3.2999422550201416, \"game_id_x\": \"154825\", \"game_id_y\": \"154825\", \"genre\": \"Economic\"}, {\"game_idx\": 298, \"title\": \"tash_kalar_arena_legends\", \"year\": \"2013\", \"weight\": \"2.8464\", \"play_time\": \"60\", \"ratings\": \"6281\", \"user_ratings\": 5979, \"x\": 0.7538952827453613, \"y\": -2.345424175262451, \"game_id_x\": \"146278\", \"game_id_y\": \"146278\", \"genre\": \"Card Game\"}, {\"game_idx\": 162, \"title\": \"bang_dice_game\", \"year\": \"2013\", \"weight\": \"1.2754\", \"play_time\": \"15\", \"ratings\": \"20488\", \"user_ratings\": 18389, \"x\": -2.1669809818267822, \"y\": -7.172299385070801, \"game_id_x\": \"143741\", \"game_id_y\": \"143741\", \"genre\": \"Fighting\"}, {\"game_idx\": 266, \"title\": \"love_letter_batman\", \"year\": \"2015\", \"weight\": \"1.2016\", \"play_time\": \"20\", \"ratings\": \"5131\", \"user_ratings\": 4593, \"x\": 0.8912255764007568, \"y\": 4.442981719970703, \"game_id_x\": \"168584\", \"game_id_y\": \"168584\", \"genre\": \"Card Game\"}, {\"game_idx\": 330, \"title\": \"crusaders_thy_will_be_done\", \"year\": \"2018\", \"weight\": \"2.4352\", \"play_time\": \"60\", \"ratings\": \"2868\", \"user_ratings\": 2868, \"x\": -4.9815263748168945, \"y\": 9.701189041137695, \"game_id_x\": \"170624\", \"game_id_y\": \"170624\", \"genre\": \"Medieval\"}, {\"game_idx\": 241, \"title\": \"feudum\", \"year\": \"2017\", \"weight\": \"4.5823\", \"play_time\": \"180\", \"ratings\": \"2948\", \"user_ratings\": 2696, \"x\": 2.984058141708374, \"y\": 9.383828163146973, \"game_id_x\": \"163839\", \"game_id_y\": \"163839\", \"genre\": \"Adventure\"}, {\"game_idx\": 294, \"title\": \"empires_age_discovery\", \"year\": \"2015\", \"weight\": \"3.35\", \"play_time\": \"150\", \"ratings\": \"1967\", \"user_ratings\": 1928, \"x\": 0.7607693076133728, \"y\": 0.9061897993087769, \"game_id_x\": \"173442\", \"game_id_y\": \"173442\", \"genre\": \"Exploration\"}, {\"game_idx\": 355, \"title\": \"onirim_second_edition\", \"year\": \"2014\", \"weight\": \"1.5745\", \"play_time\": \"15\", \"ratings\": \"8538\", \"user_ratings\": 7708, \"x\": 8.94861888885498, \"y\": -2.200976848602295, \"game_id_x\": \"156336\", \"game_id_y\": \"156336\", \"genre\": \"Card Game\"}, {\"game_idx\": 319, \"title\": \"arcadia_quest_inferno\", \"year\": \"2017\", \"weight\": \"2.4091\", \"play_time\": \"120\", \"ratings\": \"2035\", \"user_ratings\": 1715, \"x\": -13.696928977966309, \"y\": 2.982630491256714, \"game_id_x\": \"179803\", \"game_id_y\": \"179803\", \"genre\": \"Adventure\"}, {\"game_idx\": 357, \"title\": \"telestrations_12_player_party_pack\", \"year\": \"2011\", \"weight\": \"1.075\", \"play_time\": \"30\", \"ratings\": \"2289\", \"user_ratings\": 2128, \"x\": 6.930080413818359, \"y\": -4.782283306121826, \"game_id_x\": \"153016\", \"game_id_y\": \"153016\", \"genre\": \"Other\"}, {\"game_idx\": 315, \"title\": \"ashes_reborn_rise_phoenixborn\", \"year\": \"2015\", \"weight\": \"2.9181\", \"play_time\": \"120\", \"ratings\": \"5295\", \"user_ratings\": 4742, \"x\": 3.6498115062713623, \"y\": 1.3385676145553589, \"game_id_x\": \"167400\", \"game_id_y\": \"167400\", \"genre\": \"Card Game\"}, {\"game_idx\": 214, \"title\": \"wir_sind_das_volk\", \"year\": \"2014\", \"weight\": \"3.6951\", \"play_time\": \"150\", \"ratings\": \"2077\", \"user_ratings\": 1981, \"x\": 1.9373971223831177, \"y\": -11.5189790725708, \"game_id_x\": \"165401\", \"game_id_y\": \"165401\", \"genre\": \"Other\"}, {\"game_idx\": 215, \"title\": \"between_two_cities\", \"year\": \"2015\", \"weight\": \"1.8204\", \"play_time\": \"25\", \"ratings\": \"9773\", \"user_ratings\": 9369, \"x\": -13.118095397949219, \"y\": 12.223119735717773, \"game_id_x\": \"168435\", \"game_id_y\": \"168435\", \"genre\": \"Other\"}, {\"game_idx\": 305, \"title\": \"zombicide_season_2_prison_outbreak\", \"year\": \"2013\", \"weight\": \"2.6861\", \"play_time\": \"60\", \"ratings\": \"4333\", \"user_ratings\": 3426, \"x\": -1.0864036083221436, \"y\": 0.020544130355119705, \"game_id_x\": \"137988\", \"game_id_y\": \"137988\", \"genre\": \"Miniatures\"}, {\"game_idx\": 17, \"title\": \"churchill\", \"year\": \"2015\", \"weight\": \"3.2632\", \"play_time\": \"300\", \"ratings\": \"2452\", \"user_ratings\": 2220, \"x\": -3.4900290966033936, \"y\": 2.2438266277313232, \"game_id_x\": \"132018\", \"game_id_y\": \"132018\", \"genre\": \"Wargame\"}, {\"game_idx\": 248, \"title\": \"coal_baron\", \"year\": \"2013\", \"weight\": \"2.5547\", \"play_time\": \"75\", \"ratings\": \"4396\", \"user_ratings\": 4244, \"x\": -6.653778076171875, \"y\": 1.9586493968963623, \"game_id_x\": \"143515\", \"game_id_y\": \"143515\", \"genre\": \"Other\"}, {\"game_idx\": 208, \"title\": \"saint_petersburg_second_edition\", \"year\": \"2014\", \"weight\": \"2.6818\", \"play_time\": \"60\", \"ratings\": \"2927\", \"user_ratings\": 2905, \"x\": 1.293116569519043, \"y\": -10.455363273620605, \"game_id_x\": \"156943\", \"game_id_y\": \"156943\", \"genre\": \"Card Game\"}, {\"game_idx\": 311, \"title\": \"summoner_wars_alliances_master_set\", \"year\": \"2014\", \"weight\": \"2.7234\", \"play_time\": \"45\", \"ratings\": \"1680\", \"user_ratings\": 1546, \"x\": 9.01612377166748, \"y\": -11.221701622009277, \"game_id_x\": \"158889\", \"game_id_y\": \"158889\", \"genre\": \"Card Game\"}, {\"game_idx\": 226, \"title\": \"oh_my_goods\", \"year\": \"2015\", \"weight\": \"2.2931\", \"play_time\": \"30\", \"ratings\": \"9973\", \"user_ratings\": 9397, \"x\": -4.136153697967529, \"y\": 0.8808625936508179, \"game_id_x\": \"183840\", \"game_id_y\": \"183840\", \"genre\": \"Card Game\"}, {\"game_idx\": 81, \"title\": \"among_stars\", \"year\": \"2012\", \"weight\": \"2.2359\", \"play_time\": \"30\", \"ratings\": \"6777\", \"user_ratings\": 6520, \"x\": -12.320418357849121, \"y\": 9.990171432495117, \"game_id_x\": \"110277\", \"game_id_y\": \"110277\", \"genre\": \"Card Game\"}, {\"game_idx\": 336, \"title\": \"super_motherload\", \"year\": \"2015\", \"weight\": \"2.2931\", \"play_time\": \"75\", \"ratings\": \"3444\", \"user_ratings\": 3355, \"x\": 9.3031587600708, \"y\": -1.8142316341400146, \"game_id_x\": \"162286\", \"game_id_y\": \"162286\", \"genre\": \"Science Fiction\"}, {\"game_idx\": 210, \"title\": \"king_new_york\", \"year\": \"2014\", \"weight\": \"1.8609\", \"play_time\": \"40\", \"ratings\": \"14585\", \"user_ratings\": 13127, \"x\": -0.1716868281364441, \"y\": -6.013431072235107, \"game_id_x\": \"160499\", \"game_id_y\": \"160499\", \"genre\": \"Fighting\"}, {\"game_idx\": 243, \"title\": \"deep_sea_adventure\", \"year\": \"2014\", \"weight\": \"1.1719\", \"play_time\": \"30\", \"ratings\": \"11530\", \"user_ratings\": 10537, \"x\": 7.715790271759033, \"y\": -6.199509143829346, \"game_id_x\": \"169654\", \"game_id_y\": \"169654\", \"genre\": \"Exploration\"}, {\"game_idx\": 45, \"title\": \"vast_crystal_caverns\", \"year\": \"2016\", \"weight\": \"3.6\", \"play_time\": \"75\", \"ratings\": \"6035\", \"user_ratings\": 5525, \"x\": 7.95568323135376, \"y\": -13.338456153869629, \"game_id_x\": \"170416\", \"game_id_y\": \"170416\", \"genre\": \"Adventure\"}, {\"game_idx\": 159, \"title\": \"panamax\", \"year\": \"2014\", \"weight\": \"3.7468\", \"play_time\": \"100\", \"ratings\": \"3646\", \"user_ratings\": 3593, \"x\": 10.064424514770508, \"y\": -7.026706218719482, \"game_id_x\": \"131287\", \"game_id_y\": \"131287\", \"genre\": \"Economic\"}, {\"game_idx\": 235, \"title\": \"fake_artist_goes_new_york\", \"year\": \"2012\", \"weight\": \"1.1522\", \"play_time\": \"20\", \"ratings\": \"5238\", \"user_ratings\": 5087, \"x\": 13.253494262695312, \"y\": -4.07222843170166, \"game_id_x\": \"135779\", \"game_id_y\": \"135779\", \"genre\": \"Other\"}, {\"game_idx\": 371, \"title\": \"middara_unintentional_malum_act_1\", \"year\": \"2019\", \"weight\": \"3.9495\", \"play_time\": \"60\", \"ratings\": \"1363\", \"user_ratings\": 972, \"x\": 4.184204578399658, \"y\": -10.0691499710083, \"game_id_x\": \"169427\", \"game_id_y\": \"169427\", \"genre\": \"Adventure\"}, {\"game_idx\": 28, \"title\": \"napoleons_triumph\", \"year\": \"2007\", \"weight\": \"3.6477\", \"play_time\": \"180\", \"ratings\": \"1723\", \"user_ratings\": 1318, \"x\": -11.083294868469238, \"y\": 3.608903646469116, \"game_id_x\": \"18098\", \"game_id_y\": \"18098\", \"genre\": \"Wargame\"}, {\"game_idx\": 1, \"title\": \"squad_leader\", \"year\": \"1977\", \"weight\": \"4.0389\", \"play_time\": \"60\", \"ratings\": \"3207\", \"user_ratings\": 1688, \"x\": -15.124175071716309, \"y\": 4.672443866729736, \"game_id_x\": \"1035\", \"game_id_y\": \"1035\", \"genre\": \"Wargame\"}, {\"game_idx\": 352, \"title\": \"13_days_cuban_missile_crisis\", \"year\": \"2016\", \"weight\": \"2.3504\", \"play_time\": \"45\", \"ratings\": \"3916\", \"user_ratings\": 3689, \"x\": 1.6956318616867065, \"y\": -2.905223846435547, \"game_id_x\": \"177590\", \"game_id_y\": \"177590\", \"genre\": \"Wargame\"}, {\"game_idx\": 301, \"title\": \"marvel_dice_masters_avengers_vs_x_men\", \"year\": \"2014\", \"weight\": \"2.2996\", \"play_time\": \"60\", \"ratings\": \"5565\", \"user_ratings\": 5122, \"x\": 12.658686637878418, \"y\": -1.5296024084091187, \"game_id_x\": \"148575\", \"game_id_y\": \"148575\", \"genre\": \"Fighting\"}, {\"game_idx\": 333, \"title\": \"yedo\", \"year\": \"2012\", \"weight\": \"3.3532\", \"play_time\": \"180\", \"ratings\": \"3525\", \"user_ratings\": 3369, \"x\": 1.8367010354995728, \"y\": 7.116084098815918, \"game_id_x\": \"117915\", \"game_id_y\": \"117915\", \"genre\": \"Medieval\"}, {\"game_idx\": 178, \"title\": \"fuse\", \"year\": \"2015\", \"weight\": \"1.6691\", \"play_time\": \"10\", \"ratings\": \"7357\", \"user_ratings\": 6926, \"x\": 6.8326873779296875, \"y\": -5.597090721130371, \"game_id_x\": \"171273\", \"game_id_y\": \"171273\", \"genre\": \"Science Fiction\"}, {\"game_idx\": 284, \"title\": \"xcom_board_game\", \"year\": \"2015\", \"weight\": \"2.9027\", \"play_time\": \"120\", \"ratings\": \"8085\", \"user_ratings\": 7174, \"x\": -9.759539604187012, \"y\": 10.495506286621094, \"game_id_x\": \"163602\", \"game_id_y\": \"163602\", \"genre\": \"Science Fiction\"}, {\"game_idx\": 122, \"title\": \"lords_xidit\", \"year\": \"2014\", \"weight\": \"2.6209\", \"play_time\": \"90\", \"ratings\": \"5450\", \"user_ratings\": 5274, \"x\": -10.386055946350098, \"y\": 11.174568176269531, \"game_id_x\": \"156566\", \"game_id_y\": \"156566\", \"genre\": \"Fantasy\"}, {\"game_idx\": 34, \"title\": \"jambo\", \"year\": \"2004\", \"weight\": \"2.0705\", \"play_time\": \"45\", \"ratings\": \"8007\", \"user_ratings\": 6818, \"x\": -7.731679439544678, \"y\": 2.668764352798462, \"game_id_x\": \"12002\", \"game_id_y\": \"12002\", \"genre\": \"Card Game\"}, {\"game_idx\": 353, \"title\": \"one_deck_dungeon\", \"year\": \"2016\", \"weight\": \"2.0419\", \"play_time\": \"45\", \"ratings\": \"8527\", \"user_ratings\": 6928, \"x\": 0.6314625144004822, \"y\": 7.897071838378906, \"game_id_x\": \"179275\", \"game_id_y\": \"179275\", \"genre\": \"Card Game\"}, {\"game_idx\": 297, \"title\": \"pursuit_happiness\", \"year\": \"2015\", \"weight\": \"2.5\", \"play_time\": \"90\", \"ratings\": \"4323\", \"user_ratings\": 4201, \"x\": 4.762731075286865, \"y\": 0.3600064814090729, \"game_id_x\": \"181687\", \"game_id_y\": \"181687\", \"genre\": \"Economic\"}, {\"game_idx\": 132, \"title\": \"spyfall\", \"year\": \"2014\", \"weight\": \"1.2414\", \"play_time\": \"15\", \"ratings\": \"18706\", \"user_ratings\": 17693, \"x\": 1.9185898303985596, \"y\": 11.241013526916504, \"game_id_x\": \"166384\", \"game_id_y\": \"166384\", \"genre\": \"Other\"}, {\"game_idx\": 153, \"title\": \"tajemnicze_domostwo\", \"year\": \"2013\", \"weight\": \"1.86\", \"play_time\": \"60\", \"ratings\": \"4959\", \"user_ratings\": 4580, \"x\": -14.358321189880371, \"y\": 6.909909725189209, \"game_id_x\": \"113997\", \"game_id_y\": \"113997\", \"genre\": \"Other\"}, {\"game_idx\": 60, \"title\": \"reef_encounter\", \"year\": \"2004\", \"weight\": \"3.6778\", \"play_time\": \"120\", \"ratings\": \"4993\", \"user_ratings\": 4516, \"x\": 6.851822376251221, \"y\": -14.981884956359863, \"game_id_x\": \"12962\", \"game_id_y\": \"12962\", \"genre\": \"Other\"}, {\"game_idx\": 62, \"title\": \"scoville\", \"year\": \"2014\", \"weight\": \"2.787\", \"play_time\": \"90\", \"ratings\": \"4895\", \"user_ratings\": 4730, \"x\": -5.827164649963379, \"y\": -8.479307174682617, \"game_id_x\": \"145659\", \"game_id_y\": \"145659\", \"genre\": \"Other\"}, {\"game_idx\": 310, \"title\": \"dogs_war\", \"year\": \"2014\", \"weight\": \"2.6489\", \"play_time\": \"75\", \"ratings\": \"2646\", \"user_ratings\": 2536, \"x\": -2.6749770641326904, \"y\": 0.9196856617927551, \"game_id_x\": \"158435\", \"game_id_y\": \"158435\", \"genre\": \"Fantasy\"}, {\"game_idx\": 211, \"title\": \"red7\", \"year\": \"2014\", \"weight\": \"1.6919\", \"play_time\": \"30\", \"ratings\": \"13248\", \"user_ratings\": 12433, \"x\": -8.292604446411133, \"y\": 11.822519302368164, \"game_id_x\": \"161417\", \"game_id_y\": \"161417\", \"genre\": \"Card Game\"}, {\"game_idx\": 299, \"title\": \"star_wars_card_game\", \"year\": \"2012\", \"weight\": \"2.9672\", \"play_time\": \"60\", \"ratings\": \"5418\", \"user_ratings\": 4648, \"x\": 0.2888752520084381, \"y\": -3.705902338027954, \"game_id_x\": \"103886\", \"game_id_y\": \"103886\", \"genre\": \"Card Game\"}, {\"game_idx\": 104, \"title\": \"spyrium\", \"year\": \"2013\", \"weight\": \"2.8967\", \"play_time\": \"75\", \"ratings\": \"5872\", \"user_ratings\": 5774, \"x\": 6.508378982543945, \"y\": 11.17315673828125, \"game_id_x\": \"137269\", \"game_id_y\": \"137269\", \"genre\": \"Economic\"}, {\"game_idx\": 14, \"title\": \"friedrich\", \"year\": \"2004\", \"weight\": \"3.1519\", \"play_time\": \"210\", \"ratings\": \"2568\", \"user_ratings\": 2163, \"x\": 6.583450794219971, \"y\": -3.815648078918457, \"game_id_x\": \"12891\", \"game_id_y\": \"12891\", \"genre\": \"Wargame\"}, {\"game_idx\": 256, \"title\": \"brew_crafters\", \"year\": \"2013\", \"weight\": \"3.5764\", \"play_time\": \"90\", \"ratings\": \"2869\", \"user_ratings\": 2723, \"x\": -1.7787117958068848, \"y\": 2.395951271057129, \"game_id_x\": \"139898\", \"game_id_y\": \"139898\", \"genre\": \"Economic\"}, {\"game_idx\": 182, \"title\": \"carcassonne_city\", \"year\": \"2004\", \"weight\": \"2.2644\", \"play_time\": \"45\", \"ratings\": \"4251\", \"user_ratings\": 3413, \"x\": 5.250936508178711, \"y\": 2.863245725631714, \"game_id_x\": \"12902\", \"game_id_y\": \"12902\", \"genre\": \"Medieval\"}, {\"game_idx\": 85, \"title\": \"hyperborea\", \"year\": \"2014\", \"weight\": \"3.176\", \"play_time\": \"150\", \"ratings\": \"4478\", \"user_ratings\": 4275, \"x\": -8.151107788085938, \"y\": 6.675592422485352, \"game_id_x\": \"119788\", \"game_id_y\": \"119788\", \"genre\": \"Exploration\"}, {\"game_idx\": 360, \"title\": \"conflict_heroes_awakening_bear_operation_barbaross\", \"year\": \"2012\", \"weight\": \"3.2609\", \"play_time\": \"180\", \"ratings\": \"1741\", \"user_ratings\": 1346, \"x\": -0.5072840452194214, \"y\": -10.74172592163086, \"game_id_x\": \"132028\", \"game_id_y\": \"132028\", \"genre\": \"Wargame\"}, {\"game_idx\": 261, \"title\": \"cah_n_guns_second_edition\", \"year\": \"2014\", \"weight\": \"1.2553\", \"play_time\": \"30\", \"ratings\": \"13032\", \"user_ratings\": 12082, \"x\": 0.44999587535858154, \"y\": 2.1661393642425537, \"game_id_x\": \"155362\", \"game_id_y\": \"155362\", \"genre\": \"Fighting\"}, {\"game_idx\": 302, \"title\": \"legendary_marvel_deck_building_game_villains\", \"year\": \"2014\", \"weight\": \"2.7067\", \"play_time\": \"45\", \"ratings\": \"2576\", \"user_ratings\": 2230, \"x\": 6.959353446960449, \"y\": -0.5425849556922913, \"game_id_x\": \"156689\", \"game_id_y\": \"156689\", \"genre\": \"Card Game\"}, {\"game_idx\": 189, \"title\": \"celestia\", \"year\": \"2015\", \"weight\": \"1.3289\", \"play_time\": \"30\", \"ratings\": \"8833\", \"user_ratings\": 8212, \"x\": 10.032963752746582, \"y\": -13.500195503234863, \"game_id_x\": \"175117\", \"game_id_y\": \"175117\", \"genre\": \"Adventure\"}, {\"game_idx\": 2, \"title\": \"san_marco\", \"year\": \"2001\", \"weight\": \"2.6813\", \"play_time\": \"90\", \"ratings\": \"4279\", \"user_ratings\": 3809, \"x\": -0.9624150395393372, \"y\": -7.3983941078186035, \"game_id_x\": \"1041\", \"game_id_y\": \"1041\", \"genre\": \"Medieval\"}, {\"game_idx\": 239, \"title\": \"akrotiri\", \"year\": \"2014\", \"weight\": \"2.6603\", \"play_time\": \"45\", \"ratings\": \"3807\", \"user_ratings\": 3671, \"x\": -5.930576801300049, \"y\": 4.738889217376709, \"game_id_x\": \"154458\", \"game_id_y\": \"154458\", \"genre\": \"Economic\"}, {\"game_idx\": 364, \"title\": \"unfair\", \"year\": \"2017\", \"weight\": \"2.7174\", \"play_time\": \"125\", \"ratings\": \"3806\", \"user_ratings\": 3308, \"x\": -1.710288405418396, \"y\": 9.513489723205566, \"game_id_x\": \"179172\", \"game_id_y\": \"179172\", \"genre\": \"Card Game\"}, {\"game_idx\": 87, \"title\": \"morels\", \"year\": \"2012\", \"weight\": \"1.7395\", \"play_time\": \"30\", \"ratings\": \"7569\", \"user_ratings\": 6804, \"x\": 0.7269783616065979, \"y\": 3.1956403255462646, \"game_id_x\": \"122298\", \"game_id_y\": \"122298\", \"genre\": \"Card Game\"}, {\"game_idx\": 6, \"title\": \"empire_sun\", \"year\": \"2005\", \"weight\": \"4.282\", \"play_time\": \"360\", \"ratings\": \"1507\", \"user_ratings\": 964, \"x\": -5.548758506774902, \"y\": 4.6035308837890625, \"game_id_x\": \"11825\", \"game_id_y\": \"11825\", \"genre\": \"Wargame\"}, {\"game_idx\": 37, \"title\": \"genoa\", \"year\": \"2001\", \"weight\": \"3.0812\", \"play_time\": \"120\", \"ratings\": \"5933\", \"user_ratings\": 5142, \"x\": -11.980717658996582, \"y\": 4.575677394866943, \"game_id_x\": \"1345\", \"game_id_y\": \"1345\", \"genre\": \"Other\"}, {\"game_idx\": 234, \"title\": \"palaces_carrara\", \"year\": \"2012\", \"weight\": \"2.6178\", \"play_time\": \"60\", \"ratings\": \"4183\", \"user_ratings\": 4145, \"x\": 0.3413311243057251, \"y\": 7.426081657409668, \"game_id_x\": \"129948\", \"game_id_y\": \"129948\", \"genre\": \"Economic\"}, {\"game_idx\": 118, \"title\": \"diamant\", \"year\": \"2005\", \"weight\": \"1.1119\", \"play_time\": \"30\", \"ratings\": \"17632\", \"user_ratings\": 16823, \"x\": -9.21933364868164, \"y\": 9.595911026000977, \"game_id_x\": \"15512\", \"game_id_y\": \"15512\", \"genre\": \"Adventure\"}, {\"game_idx\": 251, \"title\": \"signorie\", \"year\": \"2015\", \"weight\": \"3.5503\", \"play_time\": \"120\", \"ratings\": \"2745\", \"user_ratings\": 2740, \"x\": 7.4179368019104, \"y\": -14.49658203125, \"game_id_x\": \"177678\", \"game_id_y\": \"177678\", \"genre\": \"Other\"}, {\"game_idx\": 242, \"title\": \"tumblin_dice\", \"year\": \"2004\", \"weight\": \"1.045\", \"play_time\": \"45\", \"ratings\": \"3969\", \"user_ratings\": 3814, \"x\": 11.628254890441895, \"y\": -7.436314582824707, \"game_id_x\": \"16747\", \"game_id_y\": \"16747\", \"genre\": \"Other\"}, {\"game_idx\": 308, \"title\": \"smash_science_fiction_double_feature\", \"year\": \"2014\", \"weight\": \"2.2987\", \"play_time\": \"45\", \"ratings\": \"3751\", \"user_ratings\": 3385, \"x\": 6.06306791305542, \"y\": -6.944814682006836, \"game_id_x\": \"151004\", \"game_id_y\": \"151004\", \"genre\": \"Card Game\"}, {\"game_idx\": 206, \"title\": \"tragedy_looper\", \"year\": \"2011\", \"weight\": \"3.5213\", \"play_time\": \"120\", \"ratings\": \"4086\", \"user_ratings\": 3865, \"x\": 1.9941602945327759, \"y\": -14.533804893493652, \"game_id_x\": \"148319\", \"game_id_y\": \"148319\", \"genre\": \"Card Game\"}, {\"game_idx\": 337, \"title\": \"dale_merchants\", \"year\": \"2015\", \"weight\": \"2.0794\", \"play_time\": \"30\", \"ratings\": \"4135\", \"user_ratings\": 3843, \"x\": -7.58927583694458, \"y\": 12.296412467956543, \"game_id_x\": \"176165\", \"game_id_y\": \"176165\", \"genre\": \"Card Game\"}, {\"game_idx\": 51, \"title\": \"louis_xiv\", \"year\": \"2005\", \"weight\": \"3.0055\", \"play_time\": \"100\", \"ratings\": \"5364\", \"user_ratings\": 4778, \"x\": 6.155128479003906, \"y\": 7.441677093505859, \"game_id_x\": \"13642\", \"game_id_y\": \"13642\", \"genre\": \"Card Game\"}, {\"game_idx\": 332, \"title\": \"ascension_storm_souls\", \"year\": \"2011\", \"weight\": \"2.3333\", \"play_time\": \"30\", \"ratings\": \"3425\", \"user_ratings\": 2953, \"x\": 10.758683204650879, \"y\": -4.728057861328125, \"game_id_x\": \"108784\", \"game_id_y\": \"108784\", \"genre\": \"Card Game\"}, {\"game_idx\": 32, \"title\": \"thunder_alley\", \"year\": \"2014\", \"weight\": \"2.3846\", \"play_time\": \"90\", \"ratings\": \"3196\", \"user_ratings\": 3042, \"x\": 12.36129379272461, \"y\": -7.050037860870361, \"game_id_x\": \"108906\", \"game_id_y\": \"108906\", \"genre\": \"Other\"}, {\"game_idx\": 77, \"title\": \"hawaii\", \"year\": \"2011\", \"weight\": \"2.9014\", \"play_time\": \"90\", \"ratings\": \"4257\", \"user_ratings\": 4121, \"x\": -3.5703723430633545, \"y\": -12.609366416931152, \"game_id_x\": null, \"game_id_y\": null, \"genre\": \"Other\"}, {\"game_idx\": 316, \"title\": \"others\", \"year\": \"2016\", \"weight\": \"3.0291\", \"play_time\": \"90\", \"ratings\": \"3480\", \"user_ratings\": 2962, \"x\": 5.9526214599609375, \"y\": -14.961569786071777, \"game_id_x\": \"172047\", \"game_id_y\": \"172047\", \"genre\": \"Fantasy\"}, {\"game_idx\": 186, \"title\": \"lanterns_harvest_festival\", \"year\": \"2015\", \"weight\": \"1.5639\", \"play_time\": \"30\", \"ratings\": \"9948\", \"user_ratings\": 9231, \"x\": 1.8021987676620483, \"y\": 7.563532829284668, \"game_id_x\": null, \"game_id_y\": null, \"genre\": \"Other\"}, {\"game_idx\": 66, \"title\": \"wizard\", \"year\": \"1984\", \"weight\": \"1.732\", \"play_time\": \"45\", \"ratings\": \"8865\", \"user_ratings\": 7597, \"x\": 8.712614059448242, \"y\": 0.4510420262813568, \"game_id_x\": \"1465\", \"game_id_y\": \"1465\", \"genre\": \"Card Game\"}, {\"game_idx\": 223, \"title\": \"bloody_inn\", \"year\": \"2015\", \"weight\": \"2.3776\", \"play_time\": \"60\", \"ratings\": \"6626\", \"user_ratings\": 6235, \"x\": -13.749781608581543, \"y\": 3.227424383163452, \"game_id_x\": \"180593\", \"game_id_y\": \"180593\", \"genre\": \"Card Game\"}, {\"game_idx\": 98, \"title\": \"qwixx\", \"year\": \"2012\", \"weight\": \"1.1145\", \"play_time\": \"15\", \"ratings\": \"10112\", \"user_ratings\": 9203, \"x\": 5.450634002685547, \"y\": 4.206368446350098, \"game_id_x\": \"131260\", \"game_id_y\": \"131260\", \"genre\": \"Other\"}, {\"game_idx\": 267, \"title\": \"flick_em\", \"year\": \"2015\", \"weight\": \"1.328\", \"play_time\": \"45\", \"ratings\": \"7995\", \"user_ratings\": 7632, \"x\": -5.741468906402588, \"y\": 3.6437408924102783, \"game_id_x\": \"169124\", \"game_id_y\": \"169124\", \"genre\": \"Fighting\"}, {\"game_idx\": 205, \"title\": \"concept\", \"year\": \"2013\", \"weight\": \"1.3978\", \"play_time\": \"40\", \"ratings\": \"16154\", \"user_ratings\": 14585, \"x\": -11.075267791748047, \"y\": 14.463204383850098, \"game_id_x\": \"147151\", \"game_id_y\": \"147151\", \"genre\": \"Other\"}, {\"game_idx\": 190, \"title\": \"dc_comics_deck_building_game\", \"year\": \"2012\", \"weight\": \"1.9962\", \"play_time\": \"45\", \"ratings\": \"6474\", \"user_ratings\": 5283, \"x\": 2.9467215538024902, \"y\": -2.252467393875122, \"game_id_x\": \"125678\", \"game_id_y\": \"125678\", \"genre\": \"Card Game\"}, {\"game_idx\": 138, \"title\": \"discoveries_journals_lewis_clark\", \"year\": \"2015\", \"weight\": \"2.3548\", \"play_time\": \"60\", \"ratings\": \"4525\", \"user_ratings\": 4438, \"x\": -1.6909271478652954, \"y\": 10.548749923706055, \"game_id_x\": \"171669\", \"game_id_y\": \"171669\", \"genre\": \"Other\"}, {\"game_idx\": 303, \"title\": \"marvel_dice_masters_uncanny_x_men\", \"year\": \"2014\", \"weight\": \"2.3684\", \"play_time\": \"60\", \"ratings\": \"3714\", \"user_ratings\": 3439, \"x\": -10.7889986038208, \"y\": 6.9133687019348145, \"game_id_x\": \"158275\", \"game_id_y\": \"158275\", \"genre\": \"Fighting\"}, {\"game_idx\": 372, \"title\": \"legendary_encounters_predator_deck_building_game\", \"year\": \"2015\", \"weight\": \"2.6849\", \"play_time\": \"45\", \"ratings\": \"2492\", \"user_ratings\": 2245, \"x\": -11.642083168029785, \"y\": 3.40438175201416, \"game_id_x\": \"174570\", \"game_id_y\": \"174570\", \"genre\": \"Card Game\"}, {\"game_idx\": 322, \"title\": \"automobiles\", \"year\": \"2016\", \"weight\": \"2.1667\", \"play_time\": \"75\", \"ratings\": \"2880\", \"user_ratings\": 2861, \"x\": -9.242918014526367, \"y\": 6.485517501831055, \"game_id_x\": \"180680\", \"game_id_y\": \"180680\", \"genre\": \"Other\"}, {\"game_idx\": 184, \"title\": \"gold_west\", \"year\": \"2015\", \"weight\": \"2.4444\", \"play_time\": \"60\", \"ratings\": \"2512\", \"user_ratings\": 2557, \"x\": 2.247851848602295, \"y\": 8.533347129821777, \"game_id_x\": \"154086\", \"game_id_y\": \"154086\", \"genre\": \"Economic\"}, {\"game_idx\": 313, \"title\": \"zombicide_season_3_rue_morgue\", \"year\": \"2015\", \"weight\": \"2.4865\", \"play_time\": \"60\", \"ratings\": \"2506\", \"user_ratings\": 1920, \"x\": -14.56883716583252, \"y\": 4.387165546417236, \"game_id_x\": \"161866\", \"game_id_y\": \"161866\", \"genre\": \"Miniatures\"}, {\"game_idx\": 369, \"title\": \"space_hulk_fourth_edition\", \"year\": \"2014\", \"weight\": \"2.7176\", \"play_time\": \"60\", \"ratings\": \"1614\", \"user_ratings\": 1247, \"x\": 8.936901092529297, \"y\": -3.731738567352295, \"game_id_x\": \"165838\", \"game_id_y\": \"165838\", \"genre\": \"Fighting\"}, {\"game_idx\": 334, \"title\": \"merchant_venus_second_edition\", \"year\": \"2012\", \"weight\": \"3.0221\", \"play_time\": \"240\", \"ratings\": \"3644\", \"user_ratings\": 3420, \"x\": -10.10987377166748, \"y\": 4.208029270172119, \"game_id_x\": \"131646\", \"game_id_y\": \"131646\", \"genre\": \"Economic\"}, {\"game_idx\": 246, \"title\": \"worlds_fair_1893\", \"year\": \"2016\", \"weight\": \"1.9882\", \"play_time\": \"45\", \"ratings\": \"3358\", \"user_ratings\": 3233, \"x\": -8.16077709197998, \"y\": 4.840817928314209, \"game_id_x\": \"178336\", \"game_id_y\": \"178336\", \"genre\": \"Other\"}, {\"game_idx\": 365, \"title\": \"smash_pretty_pretty_smash\", \"year\": \"2015\", \"weight\": \"2.1429\", \"play_time\": \"45\", \"ratings\": \"3273\", \"user_ratings\": 2989, \"x\": -10.5809907913208, \"y\": 12.720246315002441, \"game_id_x\": \"168917\", \"game_id_y\": \"168917\", \"genre\": \"Card Game\"}, {\"game_idx\": 368, \"title\": \"star_trek_frontiers\", \"year\": \"2016\", \"weight\": \"4.3061\", \"play_time\": \"240\", \"ratings\": \"1600\", \"user_ratings\": 1378, \"x\": -12.373040199279785, \"y\": 2.875147819519043, \"game_id_x\": \"182340\", \"game_id_y\": \"182340\", \"genre\": \"Science Fiction\"}, {\"game_idx\": 335, \"title\": \"valley_kings\", \"year\": \"2014\", \"weight\": \"2.1875\", \"play_time\": \"45\", \"ratings\": \"4343\", \"user_ratings\": 4178, \"x\": -5.433200836181641, \"y\": -10.137118339538574, \"game_id_x\": \"150999\", \"game_id_y\": \"150999\", \"genre\": \"Card Game\"}, {\"game_idx\": 54, \"title\": \"manila\", \"year\": \"2005\", \"weight\": \"2.0343\", \"play_time\": \"60\", \"ratings\": \"5584\", \"user_ratings\": 4988, \"x\": 1.0265111923217773, \"y\": -14.19266414642334, \"game_id_x\": \"15817\", \"game_id_y\": \"15817\", \"genre\": \"Other\"}, {\"game_idx\": 344, \"title\": \"warhammer_40000_conquest\", \"year\": \"2014\", \"weight\": \"3.0376\", \"play_time\": \"60\", \"ratings\": \"2922\", \"user_ratings\": 2513, \"x\": -11.458714485168457, \"y\": 9.023086547851562, \"game_id_x\": \"156776\", \"game_id_y\": \"156776\", \"genre\": \"Card Game\"}, {\"game_idx\": 196, \"title\": \"wiz_war_eighth_edition\", \"year\": \"2012\", \"weight\": \"2.3195\", \"play_time\": \"60\", \"ratings\": \"4713\", \"user_ratings\": 4121, \"x\": -0.21331413090229034, \"y\": 1.4737129211425781, \"game_id_x\": \"104710\", \"game_id_y\": \"104710\", \"genre\": \"Fantasy\"}, {\"game_idx\": 151, \"title\": \"rex_final_days_empire\", \"year\": \"2012\", \"weight\": \"3.2802\", \"play_time\": \"180\", \"ratings\": \"4271\", \"user_ratings\": 3879, \"x\": -0.6844610571861267, \"y\": -6.1020708084106445, \"game_id_x\": \"104363\", \"game_id_y\": \"104363\", \"genre\": \"Fighting\"}, {\"game_idx\": 282, \"title\": \"black_fleet\", \"year\": \"2014\", \"weight\": \"1.9476\", \"play_time\": \"60\", \"ratings\": \"5031\", \"user_ratings\": 4721, \"x\": -5.312567710876465, \"y\": -11.713004112243652, \"game_id_x\": \"157403\", \"game_id_y\": \"157403\", \"genre\": \"Other\"}, {\"game_idx\": 312, \"title\": \"smash_monster_smash\", \"year\": \"2014\", \"weight\": \"2.2857\", \"play_time\": \"45\", \"ratings\": \"2963\", \"user_ratings\": 2715, \"x\": 1.5987756252288818, \"y\": -14.815075874328613, \"game_id_x\": \"160018\", \"game_id_y\": \"160018\", \"genre\": \"Card Game\"}, {\"game_idx\": 69, \"title\": \"condottiere\", \"year\": \"1995\", \"weight\": \"1.9584\", \"play_time\": \"45\", \"ratings\": \"8863\", \"user_ratings\": 7639, \"x\": 3.44358491897583, \"y\": -9.929320335388184, \"game_id_x\": \"112\", \"game_id_y\": \"112\", \"genre\": \"Card Game\"}, {\"game_idx\": 321, \"title\": \"islebound\", \"year\": \"2016\", \"weight\": \"2.7179\", \"play_time\": \"120\", \"ratings\": \"3213\", \"user_ratings\": 3040, \"x\": 3.6574246883392334, \"y\": 9.423303604125977, \"game_id_x\": \"185589\", \"game_id_y\": \"185589\", \"genre\": \"Other\"}, {\"game_idx\": 19, \"title\": \"study_emerald\", \"year\": \"2013\", \"weight\": \"3.4444\", \"play_time\": \"90\", \"ratings\": \"3176\", \"user_ratings\": 3043, \"x\": -0.6915332674980164, \"y\": -8.32019329071045, \"game_id_x\": \"141517\", \"game_id_y\": \"141517\", \"genre\": \"Fantasy\"}, {\"game_idx\": 50, \"title\": \"netrunner\", \"year\": \"1996\", \"weight\": \"2.9327\", \"play_time\": \"45\", \"ratings\": \"2341\", \"user_ratings\": 1857, \"x\": 10.389891624450684, \"y\": -2.991936206817627, \"game_id_x\": \"1301\", \"game_id_y\": \"1301\", \"genre\": \"Card Game\"}, {\"game_idx\": 249, \"title\": \"nations_dice_game\", \"year\": \"2014\", \"weight\": \"2.0093\", \"play_time\": \"40\", \"ratings\": \"5069\", \"user_ratings\": 4998, \"x\": -4.612288951873779, \"y\": -9.449604988098145, \"game_id_x\": \"157809\", \"game_id_y\": \"157809\", \"genre\": \"Medieval\"}, {\"game_idx\": 39, \"title\": \"winners_circle\", \"year\": \"2001\", \"weight\": \"1.6059\", \"play_time\": \"60\", \"ratings\": \"5127\", \"user_ratings\": 4664, \"x\": 6.3840012550354, \"y\": 10.412775039672852, \"game_id_x\": \"1382\", \"game_id_y\": \"1382\", \"genre\": \"Other\"}, {\"game_idx\": 177, \"title\": \"big_book_madness\", \"year\": \"2015\", \"weight\": \"2.7006\", \"play_time\": \"90\", \"ratings\": \"5876\", \"user_ratings\": 5241, \"x\": 3.269334077835083, \"y\": -13.685877799987793, \"game_id_x\": \"171233\", \"game_id_y\": \"171233\", \"genre\": \"Card Game\"}, {\"game_idx\": 49, \"title\": \"wilderness_war\", \"year\": \"2001\", \"weight\": \"3.2941\", \"play_time\": \"180\", \"ratings\": \"1717\", \"user_ratings\": 1241, \"x\": 9.493630409240723, \"y\": -11.40340805053711, \"game_id_x\": \"1822\", \"game_id_y\": \"1822\", \"genre\": \"Wargame\"}, {\"game_idx\": 361, \"title\": \"loony_quest\", \"year\": \"2015\", \"weight\": \"1.1875\", \"play_time\": \"30\", \"ratings\": \"5714\", \"user_ratings\": 5454, \"x\": -0.32030749320983887, \"y\": -0.6277356743812561, \"game_id_x\": \"136991\", \"game_id_y\": \"136991\", \"genre\": \"Fantasy\"}, {\"game_idx\": 36, \"title\": \"distant_plain\", \"year\": \"2013\", \"weight\": \"3.8168\", \"play_time\": \"300\", \"ratings\": \"1492\", \"user_ratings\": 1266, \"x\": 12.274388313293457, \"y\": -1.3562743663787842, \"game_id_x\": \"127518\", \"game_id_y\": \"127518\", \"genre\": \"Wargame\"}, {\"game_idx\": 274, \"title\": \"tales_games_hare_tortoise\", \"year\": \"2011\", \"weight\": \"1.3824\", \"play_time\": \"20\", \"ratings\": \"3735\", \"user_ratings\": 3557, \"x\": 12.234045028686523, \"y\": 1.1588109731674194, \"game_id_x\": \"130176\", \"game_id_y\": \"130176\", \"genre\": \"Card Game\"}, {\"game_idx\": 327, \"title\": \"falling_sky_gallic_revolt_against_caesar\", \"year\": \"2016\", \"weight\": \"4.0096\", \"play_time\": \"360\", \"ratings\": \"1455\", \"user_ratings\": 1279, \"x\": 14.06700611114502, \"y\": -4.634383201599121, \"game_id_x\": \"163154\", \"game_id_y\": \"163154\", \"genre\": \"Wargame\"}, {\"game_idx\": 245, \"title\": \"icecool\", \"year\": \"2016\", \"weight\": \"1.0154\", \"play_time\": \"30\", \"ratings\": \"8727\", \"user_ratings\": 8215, \"x\": 7.14016580581665, \"y\": -2.2520101070404053, \"game_id_x\": \"177524\", \"game_id_y\": \"177524\", \"genre\": \"Other\"}, {\"game_idx\": 265, \"title\": \"time_crisis_roman_empire_turmoil_235_284_ad\", \"year\": \"2017\", \"weight\": \"2.9479\", \"play_time\": \"180\", \"ratings\": \"1758\", \"user_ratings\": 1618, \"x\": 6.1316375732421875, \"y\": 5.913224697113037, \"game_id_x\": \"164949\", \"game_id_y\": \"164949\", \"genre\": \"Wargame\"}, {\"game_idx\": 325, \"title\": \"shadowrun_crossfire\", \"year\": \"2014\", \"weight\": \"2.8187\", \"play_time\": \"60\", \"ratings\": \"3448\", \"user_ratings\": 3081, \"x\": -5.927986145019531, \"y\": 8.846776962280273, \"game_id_x\": \"135382\", \"game_id_y\": \"135382\", \"genre\": \"Adventure\"}, {\"game_idx\": 88, \"title\": \"smash\", \"year\": \"2012\", \"weight\": \"2.0656\", \"play_time\": \"45\", \"ratings\": \"24251\", \"user_ratings\": 20465, \"x\": 8.128676414489746, \"y\": 5.599392890930176, \"game_id_x\": \"122522\", \"game_id_y\": \"122522\", \"genre\": \"Card Game\"}, {\"game_idx\": 68, \"title\": \"china\", \"year\": \"2005\", \"weight\": \"2.2872\", \"play_time\": \"45\", \"ratings\": \"4363\", \"user_ratings\": 3992, \"x\": -10.73294734954834, \"y\": 5.104621410369873, \"game_id_x\": \"18100\", \"game_id_y\": \"18100\", \"genre\": \"Other\"}, {\"game_idx\": 329, \"title\": \"linko\", \"year\": \"2014\", \"weight\": \"1.4009\", \"play_time\": \"20\", \"ratings\": \"4235\", \"user_ratings\": 4158, \"x\": -14.671097755432129, \"y\": 3.604107618331909, \"game_id_x\": \"153065\", \"game_id_y\": \"153065\", \"genre\": \"Card Game\"}, {\"game_idx\": 125, \"title\": \"quartermaster_general\", \"year\": \"2014\", \"weight\": \"2.2945\", \"play_time\": \"90\", \"ratings\": \"2469\", \"user_ratings\": 2288, \"x\": -3.484930992126465, \"y\": 1.0396251678466797, \"game_id_x\": \"159473\", \"game_id_y\": \"159473\", \"genre\": \"Wargame\"}, {\"game_idx\": 164, \"title\": \"diamonds_second_edition\", \"year\": \"2014\", \"weight\": \"1.5536\", \"play_time\": \"30\", \"ratings\": \"5007\", \"user_ratings\": 4924, \"x\": -0.5622640252113342, \"y\": 3.840108633041382, \"game_id_x\": \"152162\", \"game_id_y\": \"152162\", \"genre\": \"Card Game\"}, {\"game_idx\": 172, \"title\": \"witness\", \"year\": \"2014\", \"weight\": \"1.4918\", \"play_time\": \"15\", \"ratings\": \"2451\", \"user_ratings\": 2415, \"x\": 0.9362491965293884, \"y\": 11.312292098999023, \"game_id_x\": \"164265\", \"game_id_y\": \"164265\", \"genre\": \"Other\"}, {\"game_idx\": 236, \"title\": \"eight_minute_empire_legends\", \"year\": \"2013\", \"weight\": \"1.9791\", \"play_time\": \"32\", \"ratings\": \"4665\", \"user_ratings\": 4443, \"x\": -14.972262382507324, \"y\": 5.413596153259277, \"game_id_x\": \"142326\", \"game_id_y\": \"142326\", \"genre\": \"Exploration\"}, {\"game_idx\": 24, \"title\": \"ambush\", \"year\": \"1983\", \"weight\": \"3.2491\", \"play_time\": \"240\", \"ratings\": \"2207\", \"user_ratings\": 1311, \"x\": -12.168739318847656, \"y\": 5.226412773132324, \"game_id_x\": \"1608\", \"game_id_y\": \"1608\", \"genre\": \"Fighting\"}, {\"game_idx\": 283, \"title\": \"warhammer_quest\", \"year\": \"1995\", \"weight\": \"2.6864\", \"play_time\": \"120\", \"ratings\": \"2396\", \"user_ratings\": 1586, \"x\": 0.1730937361717224, \"y\": 10.66457462310791, \"game_id_x\": \"1634\", \"game_id_y\": \"1634\", \"genre\": \"Adventure\"}, {\"game_idx\": 161, \"title\": \"two_rooms_and_boom\", \"year\": \"2013\", \"weight\": \"1.4252\", \"play_time\": \"20\", \"ratings\": \"4439\", \"user_ratings\": 4216, \"x\": 5.74601411819458, \"y\": -2.42704701423645, \"game_id_x\": \"134352\", \"game_id_y\": \"134352\", \"genre\": \"Card Game\"}, {\"game_idx\": 292, \"title\": \"watson_holmes\", \"year\": \"2015\", \"weight\": \"2.1915\", \"play_time\": \"75\", \"ratings\": \"2339\", \"user_ratings\": 2224, \"x\": -9.479450225830078, \"y\": 2.8117246627807617, \"game_id_x\": \"182694\", \"game_id_y\": \"182694\", \"genre\": \"Other\"}, {\"game_idx\": 348, \"title\": \"legend_five_rings_card_game\", \"year\": \"2017\", \"weight\": \"4.0091\", \"play_time\": \"90\", \"ratings\": \"2313\", \"user_ratings\": 1955, \"x\": 7.773716449737549, \"y\": -11.283040046691895, \"game_id_x\": \"184151\", \"game_id_y\": \"184151\", \"genre\": \"Card Game\"}, {\"game_idx\": 275, \"title\": \"sons_anarchy_men_mayhem\", \"year\": \"2014\", \"weight\": \"2.5294\", \"play_time\": \"90\", \"ratings\": \"2640\", \"user_ratings\": 2410, \"x\": -0.9013510942459106, \"y\": -5.399184226989746, \"game_id_x\": \"156091\", \"game_id_y\": \"156091\", \"genre\": \"Other\"}, {\"game_idx\": 370, \"title\": \"deep_space_d_6\", \"year\": \"2015\", \"weight\": \"1.7174\", \"play_time\": \"30\", \"ratings\": \"2791\", \"user_ratings\": 2318, \"x\": -12.84975814819336, \"y\": 4.082737445831299, \"game_id_x\": \"183571\", \"game_id_y\": \"183571\", \"genre\": \"Science Fiction\"}, {\"game_idx\": 255, \"title\": \"level_7_omega_protocol\", \"year\": \"2013\", \"weight\": \"3.14\", \"play_time\": \"90\", \"ratings\": \"2010\", \"user_ratings\": 1832, \"x\": 0.3212684094905853, \"y\": 8.969988822937012, \"game_id_x\": \"137649\", \"game_id_y\": \"137649\", \"genre\": \"Fighting\"}, {\"game_idx\": 193, \"title\": \"animal_upon_animal\", \"year\": \"2005\", \"weight\": \"1.0424\", \"play_time\": \"15\", \"ratings\": \"7358\", \"user_ratings\": 6682, \"x\": -0.6416965126991272, \"y\": -9.468912124633789, \"game_id_x\": \"17329\", \"game_id_y\": \"17329\", \"genre\": \"Other\"}, {\"game_idx\": 347, \"title\": \"fog_love\", \"year\": \"2017\", \"weight\": \"2.24\", \"play_time\": \"120\", \"ratings\": \"5797\", \"user_ratings\": 5118, \"x\": 1.035851240158081, \"y\": -1.16531240940094, \"game_id_x\": \"175324\", \"game_id_y\": \"175324\", \"genre\": \"Card Game\"}, {\"game_idx\": 288, \"title\": \"coconuts\", \"year\": \"2013\", \"weight\": \"1.0417\", \"play_time\": \"20\", \"ratings\": \"3847\", \"user_ratings\": 3692, \"x\": 8.721890449523926, \"y\": 2.5807533264160156, \"game_id_x\": \"145639\", \"game_id_y\": \"145639\", \"genre\": \"Other\"}, {\"game_idx\": 331, \"title\": \"automania\", \"year\": \"2015\", \"weight\": \"2.734\", \"play_time\": \"90\", \"ratings\": \"2226\", \"user_ratings\": 2216, \"x\": -0.6653944253921509, \"y\": 2.277090549468994, \"game_id_x\": \"176544\", \"game_id_y\": \"176544\", \"genre\": \"Economic\"}, {\"game_idx\": 192, \"title\": \"irish_gauge\", \"year\": \"2014\", \"weight\": \"2.4\", \"play_time\": \"60\", \"ratings\": \"2069\", \"user_ratings\": 2141, \"x\": -8.262560844421387, \"y\": -11.227397918701172, \"game_id_x\": \"161882\", \"game_id_y\": \"161882\", \"genre\": \"Economic\"}, {\"game_idx\": 306, \"title\": \"ghost_fightin_treasure_hunters\", \"year\": \"2013\", \"weight\": \"1.6449\", \"play_time\": \"30\", \"ratings\": \"3062\", \"user_ratings\": 2651, \"x\": 2.948427438735962, \"y\": -1.0612872838974, \"game_id_x\": \"146312\", \"game_id_y\": \"146312\", \"genre\": \"Adventure\"}, {\"game_idx\": 10, \"title\": \"primordial_soup\", \"year\": \"1997\", \"weight\": \"2.7292\", \"play_time\": \"90\", \"ratings\": \"4576\", \"user_ratings\": 4003, \"x\": 2.088024377822876, \"y\": 4.417973041534424, \"game_id_x\": \"124\", \"game_id_y\": \"124\", \"genre\": \"Other\"}, {\"game_idx\": 135, \"title\": \"tsuro\", \"year\": \"2004\", \"weight\": \"1.2362\", \"play_time\": \"20\", \"ratings\": \"24019\", \"user_ratings\": 19778, \"x\": 13.736651420593262, \"y\": -4.895167350769043, \"game_id_x\": \"16992\", \"game_id_y\": \"16992\", \"genre\": \"Fantasy\"}, {\"game_idx\": 269, \"title\": \"risk_star_wars_edition\", \"year\": \"2015\", \"weight\": \"1.8529\", \"play_time\": \"45\", \"ratings\": \"3797\", \"user_ratings\": 3423, \"x\": 12.700162887573242, \"y\": 0.1539357751607895, \"game_id_x\": \"183880\", \"game_id_y\": \"183880\", \"genre\": \"Science Fiction\"}, {\"game_idx\": 272, \"title\": \"steam_park\", \"year\": \"2013\", \"weight\": \"2.1174\", \"play_time\": \"60\", \"ratings\": \"5600\", \"user_ratings\": 5317, \"x\": -4.9512248039245605, \"y\": -12.278130531311035, \"game_id_x\": \"121410\", \"game_id_y\": \"121410\", \"genre\": \"Science Fiction\"}, {\"game_idx\": 342, \"title\": \"vikings_gone_wild\", \"year\": \"2017\", \"weight\": \"2.24\", \"play_time\": \"90\", \"ratings\": \"3201\", \"user_ratings\": 2814, \"x\": 1.6018537282943726, \"y\": 6.349331855773926, \"game_id_x\": \"187377\", \"game_id_y\": \"187377\", \"genre\": \"Card Game\"}, {\"game_idx\": 194, \"title\": \"manoeuvre\", \"year\": \"2008\", \"weight\": \"2.11\", \"play_time\": \"60\", \"ratings\": \"2360\", \"user_ratings\": 2006, \"x\": 3.3621697425842285, \"y\": -11.04214096069336, \"game_id_x\": \"17396\", \"game_id_y\": \"17396\", \"genre\": \"Wargame\"}, {\"game_idx\": 278, \"title\": \"mottainai\", \"year\": \"2015\", \"weight\": \"3.0962\", \"play_time\": \"30\", \"ratings\": \"3617\", \"user_ratings\": 3544, \"x\": 6.890039920806885, \"y\": 4.6393938064575195, \"game_id_x\": \"175199\", \"game_id_y\": \"175199\", \"genre\": \"Card Game\"}, {\"game_idx\": 76, \"title\": \"vanuatu\", \"year\": \"2011\", \"weight\": \"3.3249\", \"play_time\": \"90\", \"ratings\": \"2569\", \"user_ratings\": 2513, \"x\": 3.6627049446105957, \"y\": 10.823169708251953, \"game_id_x\": \"104020\", \"game_id_y\": \"104020\", \"genre\": \"Economic\"}, {\"game_idx\": 281, \"title\": \"pathfinder_adventure_card_game_skull_shackles_base\", \"year\": \"2014\", \"weight\": \"2.9438\", \"play_time\": \"90\", \"ratings\": \"2465\", \"user_ratings\": 2145, \"x\": -6.988672733306885, \"y\": 4.157763481140137, \"game_id_x\": \"151007\", \"game_id_y\": \"151007\", \"genre\": \"Card Game\"}, {\"game_idx\": 366, \"title\": \"chimera_station\", \"year\": \"2017\", \"weight\": \"3.1216\", \"play_time\": \"90\", \"ratings\": \"2245\", \"user_ratings\": 2217, \"x\": -11.716331481933594, \"y\": 2.3493916988372803, \"game_id_x\": \"163642\", \"game_id_y\": \"163642\", \"genre\": \"Science Fiction\"}, {\"game_idx\": 276, \"title\": \"explorers_north_sea\", \"year\": \"2016\", \"weight\": \"2.1358\", \"play_time\": \"60\", \"ratings\": \"2249\", \"user_ratings\": 2106, \"x\": -7.959896564483643, \"y\": 12.518354415893555, \"game_id_x\": \"176371\", \"game_id_y\": \"176371\", \"genre\": \"Exploration\"}, {\"game_idx\": 117, \"title\": \"la_isla\", \"year\": \"2014\", \"weight\": \"2.25\", \"play_time\": \"60\", \"ratings\": \"5063\", \"user_ratings\": 5011, \"x\": -11.36858081817627, \"y\": 13.51420783996582, \"game_id_x\": \"154246\", \"game_id_y\": \"154246\", \"genre\": \"Other\"}, {\"game_idx\": 328, \"title\": \"blueprints\", \"year\": \"2013\", \"weight\": \"1.685\", \"play_time\": \"30\", \"ratings\": \"6249\", \"user_ratings\": 6017, \"x\": -0.10661298781633377, \"y\": 0.8478219509124756, \"game_id_x\": \"140933\", \"game_id_y\": \"140933\", \"genre\": \"Other\"}, {\"game_idx\": 320, \"title\": \"prodigals_club\", \"year\": \"2015\", \"weight\": \"3.2588\", \"play_time\": \"100\", \"ratings\": \"2190\", \"user_ratings\": 2175, \"x\": -15.798690795898438, \"y\": 4.184881687164307, \"game_id_x\": \"181796\", \"game_id_y\": \"181796\", \"genre\": \"Card Game\"}, {\"game_idx\": 232, \"title\": \"fleet\", \"year\": \"2012\", \"weight\": \"2.2427\", \"play_time\": \"45\", \"ratings\": \"4760\", \"user_ratings\": 4572, \"x\": 4.77842378616333, \"y\": 10.158864974975586, \"game_id_x\": \"121297\", \"game_id_y\": \"121297\", \"genre\": \"Card Game\"}]}}, {\"mode\": \"vega-lite\"});\n",
       "</script>"
      ],
      "text/plain": [
       "alt.HConcatChart(...)"
      ]
     },
     "execution_count": 135,
     "metadata": {},
     "output_type": "execute_result"
    }
   ],
   "source": [
    "tsne_game_embeddings(model)"
   ]
  },
  {
   "cell_type": "code",
   "execution_count": 85,
   "metadata": {},
   "outputs": [],
   "source": [
    "# model_lowinit = build_model(ratings, embedding_dim=3, init_stddev=0.25)\n",
    "# model_lowinit.train(num_iterations=100, learning_rate=20.)\n",
    "# movie_neighbors(model_lowinit, \"gloomhaven\", DOT)\n",
    "# movie_neighbors(model_lowinit, \"gloomhaven\", COSINE)\n",
    "# movie_embedding_norm([model, model_lowinit])"
   ]
  },
  {
   "cell_type": "code",
   "execution_count": null,
   "metadata": {},
   "outputs": [],
   "source": []
  },
  {
   "cell_type": "code",
   "execution_count": null,
   "metadata": {},
   "outputs": [],
   "source": []
  },
  {
   "cell_type": "markdown",
   "metadata": {},
   "source": [
    "# Scratch Code"
   ]
  },
  {
   "cell_type": "code",
   "execution_count": null,
   "metadata": {},
   "outputs": [],
   "source": []
  }
 ],
 "metadata": {
  "kernelspec": {
   "display_name": "Python 3",
   "language": "python",
   "name": "python3"
  },
  "language_info": {
   "codemirror_mode": {
    "name": "ipython",
    "version": 3
   },
   "file_extension": ".py",
   "mimetype": "text/x-python",
   "name": "python",
   "nbconvert_exporter": "python",
   "pygments_lexer": "ipython3",
   "version": "3.7.6"
  }
 },
 "nbformat": 4,
 "nbformat_minor": 4
}
