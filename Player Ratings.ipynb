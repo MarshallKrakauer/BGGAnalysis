{
 "cells": [
  {
   "cell_type": "markdown",
   "metadata": {},
   "source": [
    "# Gathering the player ratings data - File in early stages"
   ]
  },
  {
   "cell_type": "raw",
   "metadata": {},
   "source": [
    "Functions in file from: https://www.tensorflow.org/recommenders/examples/basic_retrieval"
   ]
  },
  {
   "cell_type": "markdown",
   "metadata": {},
   "source": [
    "# Scanning Data"
   ]
  },
  {
   "cell_type": "code",
   "execution_count": 46,
   "metadata": {},
   "outputs": [],
   "source": [
    "from __future__ import print_function\n",
    "\n",
    "import numpy as np\n",
    "import pandas as pd\n",
    "import collections\n",
    "from mpl_toolkits.mplot3d import Axes3D\n",
    "from IPython import display\n",
    "from matplotlib import pyplot as plt\n",
    "import sklearn\n",
    "import sklearn.manifold\n",
    "import tensorflow.compat.v1 as tf"
   ]
  },
  {
   "cell_type": "code",
   "execution_count": 248,
   "metadata": {},
   "outputs": [
    {
     "name": "stdout",
     "output_type": "stream",
     "text": [
      "Installing Altair...\n",
      "Collecting git+git://github.com/altair-viz/altair.git\n",
      "  Cloning git://github.com/altair-viz/altair.git to c:\\users\\18053\\appdata\\local\\temp\\pip-req-build-_4z9e3jj\n",
      "  Installing build dependencies: started\n",
      "  Installing build dependencies: finished with status 'done'\n",
      "  Getting requirements to build wheel: started\n",
      "  Getting requirements to build wheel: finished with status 'done'\n",
      "    Preparing wheel metadata: started\n",
      "    Preparing wheel metadata: finished with status 'done'\n",
      "Requirement already satisfied: entrypoints in c:\\users\\18053\\anaconda3\\lib\\site-packages (from altair==4.2.0.dev0) (0.3)\n",
      "Requirement already satisfied: numpy in c:\\users\\18053\\anaconda3\\lib\\site-packages (from altair==4.2.0.dev0) (1.19.5)\n",
      "Requirement already satisfied: jsonschema<4.0,>=3.0 in c:\\users\\18053\\anaconda3\\lib\\site-packages (from altair==4.2.0.dev0) (3.2.0)\n",
      "Requirement already satisfied: pandas>=0.18 in c:\\users\\18053\\anaconda3\\lib\\site-packages (from altair==4.2.0.dev0) (0.25.3)\n",
      "Requirement already satisfied: toolz in c:\\users\\18053\\anaconda3\\lib\\site-packages (from altair==4.2.0.dev0) (0.10.0)\n",
      "Requirement already satisfied: jinja2 in c:\\users\\18053\\anaconda3\\lib\\site-packages (from altair==4.2.0.dev0) (2.10.3)\n",
      "Requirement already satisfied: setuptools in c:\\users\\18053\\anaconda3\\lib\\site-packages (from jsonschema<4.0,>=3.0->altair==4.2.0.dev0) (45.2.0.post20200210)\n",
      "Requirement already satisfied: importlib-metadata in c:\\users\\18053\\anaconda3\\lib\\site-packages (from jsonschema<4.0,>=3.0->altair==4.2.0.dev0) (1.5.0)\n",
      "Requirement already satisfied: pyrsistent>=0.14.0 in c:\\users\\18053\\anaconda3\\lib\\site-packages (from jsonschema<4.0,>=3.0->altair==4.2.0.dev0) (0.15.7)\n",
      "Requirement already satisfied: attrs>=17.4.0 in c:\\users\\18053\\anaconda3\\lib\\site-packages (from jsonschema<4.0,>=3.0->altair==4.2.0.dev0) (19.3.0)\n",
      "Requirement already satisfied: six>=1.11.0 in c:\\users\\18053\\anaconda3\\lib\\site-packages (from jsonschema<4.0,>=3.0->altair==4.2.0.dev0) (1.15.0)\n",
      "Requirement already satisfied: python-dateutil>=2.6.1 in c:\\users\\18053\\anaconda3\\lib\\site-packages (from pandas>=0.18->altair==4.2.0.dev0) (2.8.1)\n",
      "Requirement already satisfied: pytz>=2017.2 in c:\\users\\18053\\anaconda3\\lib\\site-packages (from pandas>=0.18->altair==4.2.0.dev0) (2019.3)\n",
      "Requirement already satisfied: zipp>=0.5 in c:\\users\\18053\\anaconda3\\lib\\site-packages (from importlib-metadata->jsonschema<4.0,>=3.0->altair==4.2.0.dev0) (2.2.0)\n",
      "Requirement already satisfied: MarkupSafe>=0.23 in c:\\users\\18053\\anaconda3\\lib\\site-packages (from jinja2->altair==4.2.0.dev0) (1.1.1)\n",
      "Done installing Altair.\n"
     ]
    },
    {
     "name": "stderr",
     "output_type": "stream",
     "text": [
      "WARNING: Ignoring invalid distribution -umpy (c:\\users\\18053\\anaconda3\\lib\\site-packages)\n",
      "WARNING: Ignoring invalid distribution -umpy (c:\\users\\18053\\anaconda3\\lib\\site-packages)\n",
      "  Running command git clone -q git://github.com/altair-viz/altair.git 'C:\\Users\\18053\\AppData\\Local\\Temp\\pip-req-build-_4z9e3jj'\n",
      "WARNING: Ignoring invalid distribution -umpy (c:\\users\\18053\\anaconda3\\lib\\site-packages)\n",
      "WARNING: Ignoring invalid distribution -umpy (c:\\users\\18053\\anaconda3\\lib\\site-packages)\n",
      "WARNING: Ignoring invalid distribution -umpy (c:\\users\\18053\\anaconda3\\lib\\site-packages)\n",
      "WARNING: Ignoring invalid distribution -umpy (c:\\users\\18053\\anaconda3\\lib\\site-packages)\n",
      "WARNING: You are using pip version 21.1.2; however, version 21.3.1 is available.\n",
      "You should consider upgrading via the 'c:\\users\\18053\\anaconda3\\python.exe -m pip install --upgrade pip' command.\n"
     ]
    }
   ],
   "source": [
    "# Install Altair and activate its colab renderer.\n",
    "print(\"Installing Altair...\")\n",
    "!pip install git+git://github.com/altair-viz/altair.git\n",
    "import altair as alt\n",
    "alt.data_transformers.enable('default', max_rows=None)\n",
    "alt.renderers.enable('colab')\n",
    "print(\"Done installing Altair.\")"
   ]
  },
  {
   "cell_type": "code",
   "execution_count": 48,
   "metadata": {},
   "outputs": [],
   "source": [
    "def mask(df, key, function):\n",
    "  \"\"\"Returns a filtered dataframe, by applying function to key\"\"\"\n",
    "  return df[function(df[key])]\n",
    "\n",
    "def flatten_cols(df):\n",
    "  df.columns = [' '.join(col).strip() for col in df.columns.values]\n",
    "  return df"
   ]
  },
  {
   "cell_type": "code",
   "execution_count": 49,
   "metadata": {},
   "outputs": [],
   "source": [
    "pd.DataFrame.mask = mask\n",
    "pd.DataFrame.flatten_cols = flatten_cols"
   ]
  },
  {
   "cell_type": "code",
   "execution_count": 47,
   "metadata": {},
   "outputs": [
    {
     "name": "stdout",
     "output_type": "stream",
     "text": [
      "WARNING:tensorflow:From C:\\Users\\18053\\AppData\\Roaming\\Python\\Python37\\site-packages\\tensorflow_core\\python\\compat\\v2_compat.py:65: disable_resource_variables (from tensorflow.python.ops.variable_scope) is deprecated and will be removed in a future version.\n",
      "Instructions for updating:\n",
      "non-resource variables are not supported in the long term\n"
     ]
    }
   ],
   "source": [
    "tf.disable_v2_behavior()\n",
    "tf.logging.set_verbosity(tf.logging.ERROR)"
   ]
  },
  {
   "cell_type": "code",
   "execution_count": 2,
   "metadata": {},
   "outputs": [],
   "source": [
    "df = pd.read_csv('game_ratings.csv')"
   ]
  },
  {
   "cell_type": "code",
   "execution_count": 9,
   "metadata": {},
   "outputs": [
    {
     "data": {
      "text/html": [
       "<div>\n",
       "<style scoped>\n",
       "    .dataframe tbody tr th:only-of-type {\n",
       "        vertical-align: middle;\n",
       "    }\n",
       "\n",
       "    .dataframe tbody tr th {\n",
       "        vertical-align: top;\n",
       "    }\n",
       "\n",
       "    .dataframe thead th {\n",
       "        text-align: right;\n",
       "    }\n",
       "</style>\n",
       "<table border=\"1\" class=\"dataframe\">\n",
       "  <thead>\n",
       "    <tr style=\"text-align: right;\">\n",
       "      <th></th>\n",
       "      <th>game_id</th>\n",
       "      <th>user</th>\n",
       "      <th>rating</th>\n",
       "    </tr>\n",
       "  </thead>\n",
       "  <tbody>\n",
       "    <tr>\n",
       "      <th>0</th>\n",
       "      <td>1</td>\n",
       "      <td>jackcres</td>\n",
       "      <td>10.0</td>\n",
       "    </tr>\n",
       "    <tr>\n",
       "      <th>1</th>\n",
       "      <td>1</td>\n",
       "      <td>FuManchu</td>\n",
       "      <td>10.0</td>\n",
       "    </tr>\n",
       "    <tr>\n",
       "      <th>2</th>\n",
       "      <td>1</td>\n",
       "      <td>HankM</td>\n",
       "      <td>10.0</td>\n",
       "    </tr>\n",
       "    <tr>\n",
       "      <th>3</th>\n",
       "      <td>1</td>\n",
       "      <td>jonnypolite</td>\n",
       "      <td>10.0</td>\n",
       "    </tr>\n",
       "    <tr>\n",
       "      <th>4</th>\n",
       "      <td>1</td>\n",
       "      <td>pwotruba</td>\n",
       "      <td>10.0</td>\n",
       "    </tr>\n",
       "  </tbody>\n",
       "</table>\n",
       "</div>"
      ],
      "text/plain": [
       "   game_id         user  rating\n",
       "0        1     jackcres    10.0\n",
       "1        1     FuManchu    10.0\n",
       "2        1        HankM    10.0\n",
       "3        1  jonnypolite    10.0\n",
       "4        1     pwotruba    10.0"
      ]
     },
     "execution_count": 9,
     "metadata": {},
     "output_type": "execute_result"
    }
   ],
   "source": [
    "df.head()"
   ]
  },
  {
   "cell_type": "code",
   "execution_count": 60,
   "metadata": {},
   "outputs": [
    {
     "data": {
      "text/html": [
       "<div>\n",
       "<style scoped>\n",
       "    .dataframe tbody tr th:only-of-type {\n",
       "        vertical-align: middle;\n",
       "    }\n",
       "\n",
       "    .dataframe tbody tr th {\n",
       "        vertical-align: top;\n",
       "    }\n",
       "\n",
       "    .dataframe thead th {\n",
       "        text-align: right;\n",
       "    }\n",
       "</style>\n",
       "<table border=\"1\" class=\"dataframe\">\n",
       "  <thead>\n",
       "    <tr style=\"text-align: right;\">\n",
       "      <th></th>\n",
       "      <th>user</th>\n",
       "      <th>ratings</th>\n",
       "    </tr>\n",
       "  </thead>\n",
       "  <tbody>\n",
       "    <tr>\n",
       "      <th>282439</th>\n",
       "      <td>stoneart69</td>\n",
       "      <td>377</td>\n",
       "    </tr>\n",
       "    <tr>\n",
       "      <th>271005</th>\n",
       "      <td>ryansmum2008</td>\n",
       "      <td>375</td>\n",
       "    </tr>\n",
       "    <tr>\n",
       "      <th>36706</th>\n",
       "      <td>Doel</td>\n",
       "      <td>375</td>\n",
       "    </tr>\n",
       "    <tr>\n",
       "      <th>66153</th>\n",
       "      <td>JasonSaastad</td>\n",
       "      <td>374</td>\n",
       "    </tr>\n",
       "    <tr>\n",
       "      <th>106101</th>\n",
       "      <td>Pandorzecza</td>\n",
       "      <td>373</td>\n",
       "    </tr>\n",
       "    <tr>\n",
       "      <th>52633</th>\n",
       "      <td>Gibmaatsuki</td>\n",
       "      <td>372</td>\n",
       "    </tr>\n",
       "    <tr>\n",
       "      <th>233284</th>\n",
       "      <td>leffe dubbel</td>\n",
       "      <td>372</td>\n",
       "    </tr>\n",
       "    <tr>\n",
       "      <th>297318</th>\n",
       "      <td>we3die</td>\n",
       "      <td>361</td>\n",
       "    </tr>\n",
       "    <tr>\n",
       "      <th>295537</th>\n",
       "      <td>vincivader</td>\n",
       "      <td>350</td>\n",
       "    </tr>\n",
       "    <tr>\n",
       "      <th>259357</th>\n",
       "      <td>pete100</td>\n",
       "      <td>348</td>\n",
       "    </tr>\n",
       "  </tbody>\n",
       "</table>\n",
       "</div>"
      ],
      "text/plain": [
       "                user  ratings\n",
       "282439    stoneart69      377\n",
       "271005  ryansmum2008      375\n",
       "36706           Doel      375\n",
       "66153   JasonSaastad      374\n",
       "106101   Pandorzecza      373\n",
       "52633    Gibmaatsuki      372\n",
       "233284  leffe dubbel      372\n",
       "297318        we3die      361\n",
       "295537    vincivader      350\n",
       "259357       pete100      348"
      ]
     },
     "execution_count": 60,
     "metadata": {},
     "output_type": "execute_result"
    }
   ],
   "source": [
    "num_ratings = pd.pivot_table(df, index=['user'], values=['rating'], aggfunc='count')\n",
    "num_ratings.reset_index(inplace=True)\n",
    "num_ratings.columns = ['user','ratings']\n",
    "num_ratings.sort_values('ratings', ascending=False).head(10)"
   ]
  },
  {
   "cell_type": "code",
   "execution_count": 63,
   "metadata": {},
   "outputs": [
    {
     "data": {
      "text/plain": [
       "(304441, 108991)"
      ]
     },
     "execution_count": 63,
     "metadata": {},
     "output_type": "execute_result"
    }
   ],
   "source": [
    "num_ratings[num_ratings['ratings'] > -1].shape[0], num_ratings[num_ratings['ratings'] > 10].shape[0]"
   ]
  },
  {
   "cell_type": "code",
   "execution_count": 18,
   "metadata": {},
   "outputs": [
    {
     "data": {
      "text/plain": [
       "<matplotlib.axes._subplots.AxesSubplot at 0x2ca06b03e08>"
      ]
     },
     "execution_count": 18,
     "metadata": {},
     "output_type": "execute_result"
    },
    {
     "data": {
      "image/png": "[encoded data removed]",
      "text/plain": [
       "<Figure size 432x288 with 1 Axes>"
      ]
     },
     "metadata": {
      "needs_background": "light"
     },
     "output_type": "display_data"
    }
   ],
   "source": [
    "sns.countplot(data=df[df['user'] == 'stoneart69'], x = 'rating')"
   ]
  },
  {
   "cell_type": "raw",
   "metadata": {},
   "source": [
    "Tough crowd!"
   ]
  },
  {
   "cell_type": "code",
   "execution_count": 30,
   "metadata": {},
   "outputs": [],
   "source": [
    "df['rating_int'] = df['rating'].astype(int)"
   ]
  },
  {
   "cell_type": "code",
   "execution_count": 31,
   "metadata": {},
   "outputs": [
    {
     "data": {
      "text/plain": [
       "<matplotlib.axes._subplots.AxesSubplot at 0x2ca2076dcc8>"
      ]
     },
     "execution_count": 31,
     "metadata": {},
     "output_type": "execute_result"
    },
    {
     "data": {
      "image/png": "[encoded data removed]",
      "text/plain": [
       "<Figure size 432x288 with 1 Axes>"
      ]
     },
     "metadata": {
      "needs_background": "light"
     },
     "output_type": "display_data"
    }
   ],
   "source": [
    "sns.countplot(data = df, x = 'rating_int')"
   ]
  },
  {
   "cell_type": "code",
   "execution_count": 35,
   "metadata": {},
   "outputs": [],
   "source": [
    "df['approve'] = np.where(df['rating'] >= 7, 1, 0)"
   ]
  },
  {
   "cell_type": "code",
   "execution_count": 39,
   "metadata": {},
   "outputs": [
    {
     "data": {
      "text/html": [
       "<div>\n",
       "<style scoped>\n",
       "    .dataframe tbody tr th:only-of-type {\n",
       "        vertical-align: middle;\n",
       "    }\n",
       "\n",
       "    .dataframe tbody tr th {\n",
       "        vertical-align: top;\n",
       "    }\n",
       "\n",
       "    .dataframe thead th {\n",
       "        text-align: right;\n",
       "    }\n",
       "</style>\n",
       "<table border=\"1\" class=\"dataframe\">\n",
       "  <thead>\n",
       "    <tr style=\"text-align: right;\">\n",
       "      <th></th>\n",
       "      <th>user</th>\n",
       "      <th>ratings</th>\n",
       "    </tr>\n",
       "  </thead>\n",
       "  <tbody>\n",
       "    <tr>\n",
       "      <th>0</th>\n",
       "      <td>beastvol</td>\n",
       "      <td>3</td>\n",
       "    </tr>\n",
       "    <tr>\n",
       "      <th>1</th>\n",
       "      <td>mycroft</td>\n",
       "      <td>4</td>\n",
       "    </tr>\n",
       "    <tr>\n",
       "      <th>2</th>\n",
       "      <td>woh</td>\n",
       "      <td>2</td>\n",
       "    </tr>\n",
       "    <tr>\n",
       "      <th>3</th>\n",
       "      <td>-=Yod@=-</td>\n",
       "      <td>68</td>\n",
       "    </tr>\n",
       "    <tr>\n",
       "      <th>4</th>\n",
       "      <td>-Johnny-</td>\n",
       "      <td>57</td>\n",
       "    </tr>\n",
       "  </tbody>\n",
       "</table>\n",
       "</div>"
      ],
      "text/plain": [
       "        user  ratings\n",
       "0   beastvol        3\n",
       "1    mycroft        4\n",
       "2        woh        2\n",
       "3   -=Yod@=-       68\n",
       "4   -Johnny-       57"
      ]
     },
     "execution_count": 39,
     "metadata": {},
     "output_type": "execute_result"
    }
   ],
   "source": [
    "pivot.head()"
   ]
  },
  {
   "cell_type": "code",
   "execution_count": 41,
   "metadata": {},
   "outputs": [
    {
     "data": {
      "text/plain": [
       "<matplotlib.axes._subplots.AxesSubplot at 0x2ca07ac4a88>"
      ]
     },
     "execution_count": 41,
     "metadata": {},
     "output_type": "execute_result"
    },
    {
     "data": {
      "image/png": "[encoded data removed]",
      "text/plain": [
       "<Figure size 432x288 with 1 Axes>"
      ]
     },
     "metadata": {
      "needs_background": "light"
     },
     "output_type": "display_data"
    }
   ],
   "source": [
    "sns.kdeplot(pivot['ratings'], cumulative=True)"
   ]
  },
  {
   "cell_type": "code",
   "execution_count": 45,
   "metadata": {},
   "outputs": [
    {
     "data": {
      "text/plain": [
       "(241518, 62923)"
      ]
     },
     "execution_count": 45,
     "metadata": {},
     "output_type": "execute_result"
    }
   ],
   "source": [
    "pivot[pivot['ratings'] <= 20].shape[0], pivot[pivot['ratings'] > 20].shape[0]"
   ]
  },
  {
   "cell_type": "markdown",
   "metadata": {},
   "source": [
    "# Recommender System Setup"
   ]
  },
  {
   "cell_type": "code",
   "execution_count": 50,
   "metadata": {},
   "outputs": [],
   "source": [
    "# Utility to split the data into training and test sets.\n",
    "def split_dataframe(df, holdout_fraction=0.1):\n",
    "  \"\"\"Splits a DataFrame into training and test sets.\n",
    "  Args:\n",
    "    df: a dataframe.\n",
    "    holdout_fraction: fraction of dataframe rows to use in the test set.\n",
    "  Returns:\n",
    "    train: dataframe for training\n",
    "    test: dataframe for testing\n",
    "  \"\"\"\n",
    "  test = df.sample(frac=holdout_fraction, replace=False)\n",
    "  train = df[~df.index.isin(test.index)]\n",
    "  return train, test"
   ]
  },
  {
   "cell_type": "code",
   "execution_count": 69,
   "metadata": {},
   "outputs": [
    {
     "data": {
      "text/html": [
       "<div>\n",
       "<style scoped>\n",
       "    .dataframe tbody tr th:only-of-type {\n",
       "        vertical-align: middle;\n",
       "    }\n",
       "\n",
       "    .dataframe tbody tr th {\n",
       "        vertical-align: top;\n",
       "    }\n",
       "\n",
       "    .dataframe thead th {\n",
       "        text-align: right;\n",
       "    }\n",
       "</style>\n",
       "<table border=\"1\" class=\"dataframe\">\n",
       "  <thead>\n",
       "    <tr style=\"text-align: right;\">\n",
       "      <th></th>\n",
       "      <th>game_id</th>\n",
       "      <th>user</th>\n",
       "      <th>rating</th>\n",
       "      <th>rating_int</th>\n",
       "      <th>approve</th>\n",
       "      <th>ratings</th>\n",
       "    </tr>\n",
       "  </thead>\n",
       "  <tbody>\n",
       "    <tr>\n",
       "      <th>0</th>\n",
       "      <td>1</td>\n",
       "      <td>jackcres</td>\n",
       "      <td>10.0</td>\n",
       "      <td>10</td>\n",
       "      <td>1</td>\n",
       "      <td>31</td>\n",
       "    </tr>\n",
       "    <tr>\n",
       "      <th>1</th>\n",
       "      <td>1035</td>\n",
       "      <td>jackcres</td>\n",
       "      <td>8.0</td>\n",
       "      <td>8</td>\n",
       "      <td>1</td>\n",
       "      <td>31</td>\n",
       "    </tr>\n",
       "    <tr>\n",
       "      <th>2</th>\n",
       "      <td>1041</td>\n",
       "      <td>jackcres</td>\n",
       "      <td>8.0</td>\n",
       "      <td>8</td>\n",
       "      <td>1</td>\n",
       "      <td>31</td>\n",
       "    </tr>\n",
       "    <tr>\n",
       "      <th>3</th>\n",
       "      <td>11</td>\n",
       "      <td>jackcres</td>\n",
       "      <td>6.0</td>\n",
       "      <td>6</td>\n",
       "      <td>0</td>\n",
       "      <td>31</td>\n",
       "    </tr>\n",
       "    <tr>\n",
       "      <th>4</th>\n",
       "      <td>110327</td>\n",
       "      <td>jackcres</td>\n",
       "      <td>6.0</td>\n",
       "      <td>6</td>\n",
       "      <td>0</td>\n",
       "      <td>31</td>\n",
       "    </tr>\n",
       "  </tbody>\n",
       "</table>\n",
       "</div>"
      ],
      "text/plain": [
       "   game_id      user  rating  rating_int  approve  ratings\n",
       "0        1  jackcres    10.0          10        1       31\n",
       "1     1035  jackcres     8.0           8        1       31\n",
       "2     1041  jackcres     8.0           8        1       31\n",
       "3       11  jackcres     6.0           6        0       31\n",
       "4   110327  jackcres     6.0           6        0       31"
      ]
     },
     "execution_count": 69,
     "metadata": {},
     "output_type": "execute_result"
    }
   ],
   "source": [
    "ratings = df.merge(num_ratings, on ='user')\n",
    "ratings = ratings[ratings['ratings'] > 10]\n",
    "ratings.head()"
   ]
  },
  {
   "cell_type": "code",
   "execution_count": 137,
   "metadata": {},
   "outputs": [],
   "source": [
    "from collections import defaultdict\n",
    "\n",
    "def return_negative_one():\n",
    "    return -1\n",
    "    \n",
    "user_dict = defaultdict(return_negative_one)\n",
    "game_dict = defaultdict(return_negative_one)"
   ]
  },
  {
   "cell_type": "code",
   "execution_count": 138,
   "metadata": {},
   "outputs": [],
   "source": [
    "i = 0\n",
    "for u in ratings['user'].unique():\n",
    "    user_dict[u] = i\n",
    "    i += 1"
   ]
  },
  {
   "cell_type": "code",
   "execution_count": 139,
   "metadata": {},
   "outputs": [],
   "source": [
    "i = 0\n",
    "for u in ratings['game_id'].unique():\n",
    "    game_dict[u] = i\n",
    "    i += 1"
   ]
  },
  {
   "cell_type": "code",
   "execution_count": 140,
   "metadata": {},
   "outputs": [
    {
     "data": {
      "text/html": [
       "<div>\n",
       "<style scoped>\n",
       "    .dataframe tbody tr th:only-of-type {\n",
       "        vertical-align: middle;\n",
       "    }\n",
       "\n",
       "    .dataframe tbody tr th {\n",
       "        vertical-align: top;\n",
       "    }\n",
       "\n",
       "    .dataframe thead th {\n",
       "        text-align: right;\n",
       "    }\n",
       "</style>\n",
       "<table border=\"1\" class=\"dataframe\">\n",
       "  <thead>\n",
       "    <tr style=\"text-align: right;\">\n",
       "      <th></th>\n",
       "      <th>game_id</th>\n",
       "      <th>user</th>\n",
       "      <th>rating</th>\n",
       "      <th>rating_int</th>\n",
       "      <th>approve</th>\n",
       "      <th>ratings</th>\n",
       "      <th>user_idx</th>\n",
       "      <th>game_idx</th>\n",
       "    </tr>\n",
       "  </thead>\n",
       "  <tbody>\n",
       "    <tr>\n",
       "      <th>0</th>\n",
       "      <td>1</td>\n",
       "      <td>jackcres</td>\n",
       "      <td>10.0</td>\n",
       "      <td>10</td>\n",
       "      <td>1</td>\n",
       "      <td>31</td>\n",
       "      <td>0</td>\n",
       "      <td>0</td>\n",
       "    </tr>\n",
       "    <tr>\n",
       "      <th>1</th>\n",
       "      <td>1035</td>\n",
       "      <td>jackcres</td>\n",
       "      <td>8.0</td>\n",
       "      <td>8</td>\n",
       "      <td>1</td>\n",
       "      <td>31</td>\n",
       "      <td>0</td>\n",
       "      <td>1</td>\n",
       "    </tr>\n",
       "    <tr>\n",
       "      <th>2</th>\n",
       "      <td>1041</td>\n",
       "      <td>jackcres</td>\n",
       "      <td>8.0</td>\n",
       "      <td>8</td>\n",
       "      <td>1</td>\n",
       "      <td>31</td>\n",
       "      <td>0</td>\n",
       "      <td>2</td>\n",
       "    </tr>\n",
       "    <tr>\n",
       "      <th>3</th>\n",
       "      <td>11</td>\n",
       "      <td>jackcres</td>\n",
       "      <td>6.0</td>\n",
       "      <td>6</td>\n",
       "      <td>0</td>\n",
       "      <td>31</td>\n",
       "      <td>0</td>\n",
       "      <td>3</td>\n",
       "    </tr>\n",
       "    <tr>\n",
       "      <th>4</th>\n",
       "      <td>110327</td>\n",
       "      <td>jackcres</td>\n",
       "      <td>6.0</td>\n",
       "      <td>6</td>\n",
       "      <td>0</td>\n",
       "      <td>31</td>\n",
       "      <td>0</td>\n",
       "      <td>4</td>\n",
       "    </tr>\n",
       "  </tbody>\n",
       "</table>\n",
       "</div>"
      ],
      "text/plain": [
       "   game_id      user  rating  rating_int  approve  ratings  user_idx  game_idx\n",
       "0        1  jackcres    10.0          10        1       31         0         0\n",
       "1     1035  jackcres     8.0           8        1       31         0         1\n",
       "2     1041  jackcres     8.0           8        1       31         0         2\n",
       "3       11  jackcres     6.0           6        0       31         0         3\n",
       "4   110327  jackcres     6.0           6        0       31         0         4"
      ]
     },
     "execution_count": 140,
     "metadata": {},
     "output_type": "execute_result"
    }
   ],
   "source": [
    "ratings['user_idx'] = ratings['user'].apply(lambda x: user_dict[x])\n",
    "ratings['game_idx'] = ratings['game_id'].apply(lambda x: game_dict[x])\n",
    "ratings.head()"
   ]
  },
  {
   "cell_type": "code",
   "execution_count": 141,
   "metadata": {},
   "outputs": [
    {
     "data": {
      "text/plain": [
       "game_id         int64\n",
       "user           object\n",
       "rating        float64\n",
       "rating_int      int32\n",
       "approve         int32\n",
       "ratings         int64\n",
       "user_idx        int64\n",
       "game_idx        int64\n",
       "dtype: object"
      ]
     },
     "execution_count": 141,
     "metadata": {},
     "output_type": "execute_result"
    }
   ],
   "source": [
    "ratings.dtypes"
   ]
  },
  {
   "cell_type": "code",
   "execution_count": 142,
   "metadata": {},
   "outputs": [
    {
     "data": {
      "text/plain": [
       "(3801461, 108990, 108991)"
      ]
     },
     "execution_count": 142,
     "metadata": {},
     "output_type": "execute_result"
    }
   ],
   "source": [
    "ratings.shape[0], ratings['user_idx'].max(), ratings['user_idx'].nunique()"
   ]
  },
  {
   "cell_type": "code",
   "execution_count": 143,
   "metadata": {},
   "outputs": [],
   "source": [
    "#@title Solution\n",
    "def build_rating_sparse_tensor(ratings_df):\n",
    "  \"\"\"\n",
    "  Args:\n",
    "    ratings_df: a pd.DataFrame with `user_id`, `movie_id` and `rating` columns.\n",
    "  Returns:\n",
    "    a tf.SparseTensor representing the ratings matrix.\n",
    "  \"\"\"\n",
    "  indices = ratings_df[['user_idx', 'game_idx']].values\n",
    "  values_ = ratings_df['rating_int'].values\n",
    "  return tf.SparseTensor(\n",
    "      indices=indices,\n",
    "      values=values_,\n",
    "      dense_shape=[ratings_df['user_idx'].nunique(), ratings_df['game_idx'].nunique()])"
   ]
  },
  {
   "cell_type": "code",
   "execution_count": 144,
   "metadata": {},
   "outputs": [],
   "source": [
    "def sparse_mean_square_error(sparse_ratings, user_embeddings, movie_embeddings):\n",
    "  \"\"\"\n",
    "  Args:\n",
    "    sparse_ratings: A SparseTensor rating matrix, of dense_shape [N, M]\n",
    "    user_embeddings: A dense Tensor U of shape [N, k] where k is the embedding\n",
    "      dimension, such that U_i is the embedding of user i.\n",
    "    movie_embeddings: A dense Tensor V of shape [M, k] where k is the embedding\n",
    "      dimension, such that V_j is the embedding of movie j.\n",
    "  Returns:\n",
    "    A scalar Tensor representing the MSE between the true ratings and the\n",
    "      model's predictions.\n",
    "  \"\"\"\n",
    "  predictions = tf.gather_nd(\n",
    "      tf.matmul(user_embeddings, movie_embeddings, transpose_b=True),\n",
    "      sparse_ratings.indices)\n",
    "  loss = tf.losses.mean_squared_error(sparse_ratings.values, predictions)\n",
    "  return loss"
   ]
  },
  {
   "cell_type": "code",
   "execution_count": 145,
   "metadata": {},
   "outputs": [],
   "source": [
    "class CFModel(object):\n",
    "  \"\"\"Simple class that represents a collaborative filtering model\"\"\"\n",
    "  def __init__(self, embedding_vars, loss, metrics=None):\n",
    "    \"\"\"Initializes a CFModel.\n",
    "    Args:\n",
    "      embedding_vars: A dictionary of tf.Variables.\n",
    "      loss: A float Tensor. The loss to optimize.\n",
    "      metrics: optional list of dictionaries of Tensors. The metrics in each\n",
    "        dictionary will be plotted in a separate figure during training.\n",
    "    \"\"\"\n",
    "    self._embedding_vars = embedding_vars\n",
    "    self._loss = loss\n",
    "    self._metrics = metrics\n",
    "    self._embeddings = {k: None for k in embedding_vars}\n",
    "    self._session = None\n",
    "\n",
    "  @property\n",
    "  def embeddings(self):\n",
    "    \"\"\"The embeddings dictionary.\"\"\"\n",
    "    return self._embeddings\n",
    "\n",
    "  def train(self, num_iterations=100, learning_rate=1.0, plot_results=True,\n",
    "            optimizer=tf.train.GradientDescentOptimizer):\n",
    "    \"\"\"Trains the model.\n",
    "    Args:\n",
    "      iterations: number of iterations to run.\n",
    "      learning_rate: optimizer learning rate.\n",
    "      plot_results: whether to plot the results at the end of training.\n",
    "      optimizer: the optimizer to use. Default to GradientDescentOptimizer.\n",
    "    Returns:\n",
    "      The metrics dictionary evaluated at the last iteration.\n",
    "    \"\"\"\n",
    "    with self._loss.graph.as_default():\n",
    "      opt = optimizer(learning_rate)\n",
    "      train_op = opt.minimize(self._loss)\n",
    "      local_init_op = tf.group(\n",
    "          tf.variables_initializer(opt.variables()),\n",
    "          tf.local_variables_initializer())\n",
    "      if self._session is None:\n",
    "        self._session = tf.Session()\n",
    "        with self._session.as_default():\n",
    "          self._session.run(tf.global_variables_initializer())\n",
    "          self._session.run(tf.tables_initializer())\n",
    "          tf.train.start_queue_runners()\n",
    "\n",
    "    with self._session.as_default():\n",
    "      local_init_op.run()\n",
    "      iterations = []\n",
    "      metrics = self._metrics or ({},)\n",
    "      metrics_vals = [collections.defaultdict(list) for _ in self._metrics]\n",
    "\n",
    "      # Train and append results.\n",
    "      for i in range(num_iterations + 1):\n",
    "        _, results = self._session.run((train_op, metrics))\n",
    "        if (i % 10 == 0) or i == num_iterations:\n",
    "          print(\"\\r iteration %d: \" % i + \", \".join(\n",
    "                [\"%s=%f\" % (k, v) for r in results for k, v in r.items()]),\n",
    "                end='')\n",
    "          iterations.append(i)\n",
    "          for metric_val, result in zip(metrics_vals, results):\n",
    "            for k, v in result.items():\n",
    "              metric_val[k].append(v)\n",
    "\n",
    "      for k, v in self._embedding_vars.items():\n",
    "        self._embeddings[k] = v.eval()\n",
    "\n",
    "      if plot_results:\n",
    "        # Plot the metrics.\n",
    "        num_subplots = len(metrics)+1\n",
    "        fig = plt.figure()\n",
    "        fig.set_size_inches(num_subplots*10, 8)\n",
    "        for i, metric_vals in enumerate(metrics_vals):\n",
    "          ax = fig.add_subplot(1, num_subplots, i+1)\n",
    "          for k, v in metric_vals.items():\n",
    "            ax.plot(iterations, v, label=k)\n",
    "          ax.set_xlim([1, num_iterations])\n",
    "          ax.legend()\n",
    "      return results"
   ]
  },
  {
   "cell_type": "code",
   "execution_count": 146,
   "metadata": {},
   "outputs": [],
   "source": [
    "def build_model(ratings, embedding_dim=3, init_stddev=1.):\n",
    "  \"\"\"\n",
    "  Args:\n",
    "    ratings: a DataFrame of the ratings\n",
    "    embedding_dim: the dimension of the embedding vectors.\n",
    "    init_stddev: float, the standard deviation of the random initial embeddings.\n",
    "  Returns:\n",
    "    model: a CFModel.\n",
    "  \"\"\"\n",
    "  # Split the ratings DataFrame into train and test.\n",
    "  train_ratings, test_ratings = split_dataframe(ratings)\n",
    "  # SparseTensor representation of the train and test datasets.\n",
    "  A_train = build_rating_sparse_tensor(train_ratings)\n",
    "  A_test = build_rating_sparse_tensor(test_ratings)\n",
    "  # Initialize the embeddings using a normal distribution.\n",
    "  U = tf.Variable(tf.random_normal(\n",
    "      [A_train.dense_shape[0], embedding_dim], stddev=init_stddev))\n",
    "  V = tf.Variable(tf.random_normal(\n",
    "      [A_train.dense_shape[1], embedding_dim], stddev=init_stddev))\n",
    "  train_loss = sparse_mean_square_error(A_train, U, V)\n",
    "  test_loss = sparse_mean_square_error(A_test, U, V)\n",
    "  metrics = {\n",
    "      'train_error': train_loss,\n",
    "      'test_error': test_loss\n",
    "  }\n",
    "  embeddings = {\n",
    "      \"user_idx\": U,\n",
    "      \"game_idx\": V\n",
    "  }\n",
    "  return CFModel(embeddings, train_loss, [metrics])"
   ]
  },
  {
   "cell_type": "code",
   "execution_count": 147,
   "metadata": {},
   "outputs": [],
   "source": [
    "train_ratings, test_ratings = split_dataframe(ratings)\n",
    "# SparseTensor representation of the train and test datasets.\n",
    "A_train = build_rating_sparse_tensor(train_ratings)\n",
    "A_test = build_rating_sparse_tensor(test_ratings)"
   ]
  },
  {
   "cell_type": "code",
   "execution_count": 148,
   "metadata": {},
   "outputs": [
    {
     "name": "stdout",
     "output_type": "stream",
     "text": [
      " iteration 300: train_error=6.967058, test_error=7.65672287"
     ]
    },
    {
     "data": {
      "text/plain": [
       "[{'train_error': 6.967058, 'test_error': 7.656722}]"
      ]
     },
     "execution_count": 148,
     "metadata": {},
     "output_type": "execute_result"
    },
    {
     "data": {
      "image/png": "[encoded data removed]",
      "text/plain": [
       "<Figure size 1440x576 with 1 Axes>"
      ]
     },
     "metadata": {
      "needs_background": "light"
     },
     "output_type": "display_data"
    }
   ],
   "source": [
    "# Build the CF model and train it.\n",
    "model = build_model(ratings, embedding_dim=10, init_stddev=0.5)\n",
    "model.train(num_iterations=300, learning_rate=10.)"
   ]
  },
  {
   "cell_type": "markdown",
   "metadata": {},
   "source": [
    "# Testing Recommender Performance"
   ]
  },
  {
   "cell_type": "code",
   "execution_count": 362,
   "metadata": {},
   "outputs": [],
   "source": [
    "#itle Solution\n",
    "DOT = 'dot'\n",
    "COSINE = 'cosine'\n",
    "def compute_scores(query_embedding, item_embeddings, measure=DOT):\n",
    "  \"\"\"Computes the scores of the candidates given a query.\n",
    "  Args:\n",
    "    query_embedding: a vector of shape [k], representing the query embedding.\n",
    "    item_embeddings: a matrix of shape [N, k], such that row i is the embedding\n",
    "      of item i.\n",
    "    measure: a string specifying the similarity measure to be used. Can be\n",
    "      either DOT or COSINE.\n",
    "  Returns:\n",
    "    scores: a vector of shape [N], such that scores[i] is the score of item i.\n",
    "  \"\"\"\n",
    "  u = query_embedding\n",
    "  V = item_embeddings\n",
    "  if measure == COSINE:\n",
    "    V = V / np.linalg.norm(V, axis=1, keepdims=True)\n",
    "    u = u / np.linalg.norm(u)\n",
    "  scores = u.dot(V.T)\n",
    "  return scores"
   ]
  },
  {
   "cell_type": "code",
   "execution_count": 363,
   "metadata": {},
   "outputs": [],
   "source": [
    "import sqlite3\n",
    "con = sqlite3.connect('bgg.db')\n",
    "cur = con.cursor()"
   ]
  },
  {
   "cell_type": "code",
   "execution_count": 364,
   "metadata": {},
   "outputs": [
    {
     "name": "stdout",
     "output_type": "stream",
     "text": [
      "['id', 'title', 'year', 'min_players', 'max_players', 'avg_rating', 'avg_bayes_rating', 'std', 'ratings', 'weight', 'play_time']\n"
     ]
    }
   ],
   "source": [
    "#results = cur.execute('SELECT * FROM TOP_GAMES_FULL')\n",
    "results = cur.execute('PRAGMA table_info(TOP_GAMES_FULL)')\n",
    "results = results.fetchall()\n",
    "result_li = [r for r in results]\n",
    "column_li = []\n",
    "for r in result_li:\n",
    "    column_li.append(r[1])\n",
    "\n",
    "print(column_li)"
   ]
  },
  {
   "cell_type": "code",
   "execution_count": 365,
   "metadata": {},
   "outputs": [
    {
     "data": {
      "text/html": [
       "<div>\n",
       "<style scoped>\n",
       "    .dataframe tbody tr th:only-of-type {\n",
       "        vertical-align: middle;\n",
       "    }\n",
       "\n",
       "    .dataframe tbody tr th {\n",
       "        vertical-align: top;\n",
       "    }\n",
       "\n",
       "    .dataframe thead th {\n",
       "        text-align: right;\n",
       "    }\n",
       "</style>\n",
       "<table border=\"1\" class=\"dataframe\">\n",
       "  <thead>\n",
       "    <tr style=\"text-align: right;\">\n",
       "      <th></th>\n",
       "      <th>id</th>\n",
       "      <th>title</th>\n",
       "      <th>year</th>\n",
       "      <th>min_players</th>\n",
       "      <th>max_players</th>\n",
       "      <th>avg_rating</th>\n",
       "      <th>avg_bayes_rating</th>\n",
       "      <th>std</th>\n",
       "      <th>ratings</th>\n",
       "      <th>weight</th>\n",
       "      <th>play_time</th>\n",
       "    </tr>\n",
       "  </thead>\n",
       "  <tbody>\n",
       "    <tr>\n",
       "      <th>0</th>\n",
       "      <td>174430</td>\n",
       "      <td>gloomhaven</td>\n",
       "      <td>2017</td>\n",
       "      <td>1</td>\n",
       "      <td>4</td>\n",
       "      <td>8.76798</td>\n",
       "      <td>8.53089</td>\n",
       "      <td>1.63005</td>\n",
       "      <td>45304</td>\n",
       "      <td>3.8673</td>\n",
       "      <td>120</td>\n",
       "    </tr>\n",
       "    <tr>\n",
       "      <th>1</th>\n",
       "      <td>161936</td>\n",
       "      <td>pandemic_legacy_season_1</td>\n",
       "      <td>2015</td>\n",
       "      <td>2</td>\n",
       "      <td>4</td>\n",
       "      <td>8.60479</td>\n",
       "      <td>8.45273</td>\n",
       "      <td>1.56467</td>\n",
       "      <td>43525</td>\n",
       "      <td>2.836</td>\n",
       "      <td>60</td>\n",
       "    </tr>\n",
       "    <tr>\n",
       "      <th>2</th>\n",
       "      <td>224517</td>\n",
       "      <td>brass_birmingham</td>\n",
       "      <td>2018</td>\n",
       "      <td>2</td>\n",
       "      <td>4</td>\n",
       "      <td>8.66929</td>\n",
       "      <td>8.406</td>\n",
       "      <td>1.24659</td>\n",
       "      <td>22694</td>\n",
       "      <td>3.9084</td>\n",
       "      <td>120</td>\n",
       "    </tr>\n",
       "    <tr>\n",
       "      <th>3</th>\n",
       "      <td>167791</td>\n",
       "      <td>terraforming_mars</td>\n",
       "      <td>2016</td>\n",
       "      <td>1</td>\n",
       "      <td>5</td>\n",
       "      <td>8.4247</td>\n",
       "      <td>8.27852</td>\n",
       "      <td>1.38438</td>\n",
       "      <td>69921</td>\n",
       "      <td>3.244</td>\n",
       "      <td>120</td>\n",
       "    </tr>\n",
       "    <tr>\n",
       "      <th>4</th>\n",
       "      <td>291457</td>\n",
       "      <td>gloomhaven_jaws_lion</td>\n",
       "      <td>2020</td>\n",
       "      <td>1</td>\n",
       "      <td>4</td>\n",
       "      <td>8.7573</td>\n",
       "      <td>8.2579</td>\n",
       "      <td>1.40857</td>\n",
       "      <td>12633</td>\n",
       "      <td>3.559</td>\n",
       "      <td>120</td>\n",
       "    </tr>\n",
       "  </tbody>\n",
       "</table>\n",
       "</div>"
      ],
      "text/plain": [
       "       id                     title  year min_players max_players avg_rating  \\\n",
       "0  174430                gloomhaven  2017           1           4    8.76798   \n",
       "1  161936  pandemic_legacy_season_1  2015           2           4    8.60479   \n",
       "2  224517          brass_birmingham  2018           2           4    8.66929   \n",
       "3  167791         terraforming_mars  2016           1           5     8.4247   \n",
       "4  291457      gloomhaven_jaws_lion  2020           1           4     8.7573   \n",
       "\n",
       "  avg_bayes_rating      std ratings  weight play_time  \n",
       "0          8.53089  1.63005   45304  3.8673       120  \n",
       "1          8.45273  1.56467   43525   2.836        60  \n",
       "2            8.406  1.24659   22694  3.9084       120  \n",
       "3          8.27852  1.38438   69921   3.244       120  \n",
       "4           8.2579  1.40857   12633   3.559       120  "
      ]
     },
     "execution_count": 365,
     "metadata": {},
     "output_type": "execute_result"
    }
   ],
   "source": [
    "results = cur.execute('SELECT * FROM TOP_GAMES_FULL')\n",
    "results = results.fetchall()\n",
    "result_li = [r for r in results]\n",
    "df = pd.DataFrame(result_li, columns = column_li)\n",
    "df.head()"
   ]
  },
  {
   "cell_type": "code",
   "execution_count": 366,
   "metadata": {},
   "outputs": [],
   "source": [
    "df['game_idx'] = df['id'].apply(lambda x: game_dict[int(x)])\n",
    "games = df[df['game_idx'] >= 0]\n",
    "games = games[['game_idx', 'title', 'year', 'weight', 'play_time', 'ratings']]"
   ]
  },
  {
   "cell_type": "code",
   "execution_count": 367,
   "metadata": {},
   "outputs": [],
   "source": [
    "def game_neighbors(model, title_substring, measure=DOT, k=6):\n",
    "  # Search for movie ids that match the given substring.\n",
    "  ids =  games.loc[games['title'].str.contains(title_substring), ['game_idx']].values\n",
    "  ids = list(ids.flatten())\n",
    "  titles = games.loc[games['game_idx'].isin(ids), 'title'].values\n",
    "  if len(titles) == 0:\n",
    "    raise ValueError(\"Found no games with title %s\" % title_substring)\n",
    "  print(\"Nearest neighbors of : %s.\" % titles[0])\n",
    "  if len(titles) > 1:\n",
    "    print(\"[Found more than one matching game. Other candidates: {}]\".format(\n",
    "        \", \".join(titles[1:])))\n",
    "  movie_id = ids[0]\n",
    "  scores = compute_scores(\n",
    "      model.embeddings[\"game_idx\"][movie_id], model.embeddings[\"game_idx\"],\n",
    "      measure)\n",
    "  score_key = measure + ' score'\n",
    "  df = pd.DataFrame({\n",
    "      score_key: list(scores),\n",
    "      'titles': games['title']\n",
    "      #'genres': movies['all_genres']\n",
    "  })\n",
    "  display.display(df.sort_values([score_key], ascending=False).head(k))"
   ]
  },
  {
   "cell_type": "code",
   "execution_count": 368,
   "metadata": {},
   "outputs": [
    {
     "name": "stdout",
     "output_type": "stream",
     "text": [
      "Nearest neighbors of : bohnanza.\n"
     ]
    },
    {
     "data": {
      "text/html": [
       "<div>\n",
       "<style scoped>\n",
       "    .dataframe tbody tr th:only-of-type {\n",
       "        vertical-align: middle;\n",
       "    }\n",
       "\n",
       "    .dataframe tbody tr th {\n",
       "        vertical-align: top;\n",
       "    }\n",
       "\n",
       "    .dataframe thead th {\n",
       "        text-align: right;\n",
       "    }\n",
       "</style>\n",
       "<table border=\"1\" class=\"dataframe\">\n",
       "  <thead>\n",
       "    <tr style=\"text-align: right;\">\n",
       "      <th></th>\n",
       "      <th>cosine score</th>\n",
       "      <th>titles</th>\n",
       "    </tr>\n",
       "  </thead>\n",
       "  <tbody>\n",
       "    <tr>\n",
       "      <th>7</th>\n",
       "      <td>1.000000</td>\n",
       "      <td>star_wars_rebellion</td>\n",
       "    </tr>\n",
       "    <tr>\n",
       "      <th>452</th>\n",
       "      <td>0.999959</td>\n",
       "      <td>black_orchestra</td>\n",
       "    </tr>\n",
       "    <tr>\n",
       "      <th>191</th>\n",
       "      <td>0.999923</td>\n",
       "      <td>secret_hitler</td>\n",
       "    </tr>\n",
       "    <tr>\n",
       "      <th>365</th>\n",
       "      <td>0.999900</td>\n",
       "      <td>flash_point_fire_rescue</td>\n",
       "    </tr>\n",
       "    <tr>\n",
       "      <th>403</th>\n",
       "      <td>0.999899</td>\n",
       "      <td>raptor</td>\n",
       "    </tr>\n",
       "    <tr>\n",
       "      <th>127</th>\n",
       "      <td>0.999897</td>\n",
       "      <td>istanbul</td>\n",
       "    </tr>\n",
       "  </tbody>\n",
       "</table>\n",
       "</div>"
      ],
      "text/plain": [
       "     cosine score                   titles\n",
       "7        1.000000      star_wars_rebellion\n",
       "452      0.999959          black_orchestra\n",
       "191      0.999923            secret_hitler\n",
       "365      0.999900  flash_point_fire_rescue\n",
       "403      0.999899                   raptor\n",
       "127      0.999897                 istanbul"
      ]
     },
     "metadata": {},
     "output_type": "display_data"
    }
   ],
   "source": [
    "game_neighbors(model, \"bohnanza\", COSINE, k=6)"
   ]
  },
  {
   "cell_type": "code",
   "execution_count": 369,
   "metadata": {},
   "outputs": [
    {
     "name": "stdout",
     "output_type": "stream",
     "text": [
      "Nearest neighbors of : orleans.\n"
     ]
    },
    {
     "data": {
      "text/html": [
       "<div>\n",
       "<style scoped>\n",
       "    .dataframe tbody tr th:only-of-type {\n",
       "        vertical-align: middle;\n",
       "    }\n",
       "\n",
       "    .dataframe tbody tr th {\n",
       "        vertical-align: top;\n",
       "    }\n",
       "\n",
       "    .dataframe thead th {\n",
       "        text-align: right;\n",
       "    }\n",
       "</style>\n",
       "<table border=\"1\" class=\"dataframe\">\n",
       "  <thead>\n",
       "    <tr style=\"text-align: right;\">\n",
       "      <th></th>\n",
       "      <th>dot score</th>\n",
       "      <th>titles</th>\n",
       "    </tr>\n",
       "  </thead>\n",
       "  <tbody>\n",
       "    <tr>\n",
       "      <th>646</th>\n",
       "      <td>108.541260</td>\n",
       "      <td>among_stars</td>\n",
       "    </tr>\n",
       "    <tr>\n",
       "      <th>99</th>\n",
       "      <td>107.819122</td>\n",
       "      <td>roll_galaxy</td>\n",
       "    </tr>\n",
       "    <tr>\n",
       "      <th>59</th>\n",
       "      <td>105.866211</td>\n",
       "      <td>android_netrunner</td>\n",
       "    </tr>\n",
       "    <tr>\n",
       "      <th>581</th>\n",
       "      <td>102.933739</td>\n",
       "      <td>vegas_showdown</td>\n",
       "    </tr>\n",
       "    <tr>\n",
       "      <th>15</th>\n",
       "      <td>102.613632</td>\n",
       "      <td>7_wonders_duel</td>\n",
       "    </tr>\n",
       "    <tr>\n",
       "      <th>466</th>\n",
       "      <td>102.439911</td>\n",
       "      <td>port_royal</td>\n",
       "    </tr>\n",
       "  </tbody>\n",
       "</table>\n",
       "</div>"
      ],
      "text/plain": [
       "      dot score             titles\n",
       "646  108.541260        among_stars\n",
       "99   107.819122        roll_galaxy\n",
       "59   105.866211  android_netrunner\n",
       "581  102.933739     vegas_showdown\n",
       "15   102.613632     7_wonders_duel\n",
       "466  102.439911         port_royal"
      ]
     },
     "metadata": {},
     "output_type": "display_data"
    }
   ],
   "source": [
    "game_neighbors(model, \"orleans\", DOT, k= 6)"
   ]
  },
  {
   "cell_type": "markdown",
   "metadata": {},
   "source": [
    "Dot product recommends the same games no matter what. Cosine seems to perform much better"
   ]
  },
  {
   "cell_type": "markdown",
   "metadata": {},
   "source": [
    "# Adjusting Model"
   ]
  },
  {
   "cell_type": "code",
   "execution_count": 370,
   "metadata": {},
   "outputs": [],
   "source": [
    "def game_embedding_norm(models):\n",
    "  \"\"\"Visualizes the norm and number of ratings of the movie embeddings.\n",
    "  Args:\n",
    "    model: A MFModel object.\n",
    "  \"\"\"\n",
    "  if not isinstance(models, list):\n",
    "    models = [models]\n",
    "  df = pd.DataFrame({\n",
    "      'title': games['title'],\n",
    "      'num_ratings': games['user_ratings'],\n",
    "  })\n",
    "  df['num_ratings'] = df['num_ratings'].astype(int)\n",
    "  #df['num_ratings'] = df['num_ratings'].apply(lambda x: np.log(x))\n",
    "  charts = []\n",
    "  brush = alt.selection_interval()\n",
    "  for i, model in enumerate(models):\n",
    "    norm_key = 'norm'+str(i)\n",
    "    df[norm_key] = np.linalg.norm(model.embeddings[\"game_idx\"], axis=1)\n",
    "    nearest = alt.selection(\n",
    "        type='single', encodings=['x', 'y'], on='mouseover', nearest=True,\n",
    "        empty='none')\n",
    "    base = alt.Chart().mark_circle().encode(\n",
    "        x='num_ratings',\n",
    "        y=norm_key,\n",
    "        color=alt.condition(brush, alt.value('#4c78a8'), alt.value('lightgray'))\n",
    "    ).properties(\n",
    "        selection=nearest).add_selection(brush)\n",
    "    text = alt.Chart().mark_text(align='center', dx=5, dy=-5).encode(\n",
    "        x='num_ratings', y=norm_key,\n",
    "        text=alt.condition(nearest, 'title', alt.value('')))\n",
    "    charts.append(alt.layer(base, text))\n",
    "  return alt.hconcat(*charts, data=df)"
   ]
  },
  {
   "cell_type": "code",
   "execution_count": 371,
   "metadata": {},
   "outputs": [],
   "source": [
    "if not 'user_ratings' in games.columns:\n",
    "    num_of_game_ratings = pd.pivot_table(data=ratings, index = ['game_idx'], values = ['user'], aggfunc='count')\n",
    "    num_of_game_ratings.reset_index(inplace=True)\n",
    "    num_of_game_ratings.columns = ['game_idx', 'user_ratings']\n",
    "    games = games.merge(num_of_game_ratings, on = 'game_idx')\n",
    "    games.head()"
   ]
  },
  {
   "cell_type": "code",
   "execution_count": 372,
   "metadata": {},
   "outputs": [
    {
     "data": {
      "text/html": [
       "\n",
       "<div id=\"altair-viz-9529114ee4ad42d99842652126dc2e87\"></div>\n",
       "<script type=\"text/javascript\">\n",
       "  (function(spec, embedOpt){\n",
       "    let outputDiv = document.currentScript.previousElementSibling;\n",
       "    if (outputDiv.id !== \"altair-viz-9529114ee4ad42d99842652126dc2e87\") {\n",
       "      outputDiv = document.getElementById(\"altair-viz-9529114ee4ad42d99842652126dc2e87\");\n",
       "    }\n",
       "    const paths = {\n",
       "      \"vega\": \"https://cdn.jsdelivr.net/npm//vega@5?noext\",\n",
       "      \"vega-lib\": \"https://cdn.jsdelivr.net/npm//vega-lib?noext\",\n",
       "      \"vega-lite\": \"https://cdn.jsdelivr.net/npm//vega-lite@4.17.0?noext\",\n",
       "      \"vega-embed\": \"https://cdn.jsdelivr.net/npm//vega-embed@6?noext\",\n",
       "    };\n",
       "\n",
       "    function loadScript(lib) {\n",
       "      return new Promise(function(resolve, reject) {\n",
       "        var s = document.createElement('script');\n",
       "        s.src = paths[lib];\n",
       "        s.async = true;\n",
       "        s.onload = () => resolve(paths[lib]);\n",
       "        s.onerror = () => reject(`Error loading script: ${paths[lib]}`);\n",
       "        document.getElementsByTagName(\"head\")[0].appendChild(s);\n",
       "      });\n",
       "    }\n",
       "\n",
       "    function showError(err) {\n",
       "      outputDiv.innerHTML = `<div class=\"error\" style=\"color:red;\">${err}</div>`;\n",
       "      throw err;\n",
       "    }\n",
       "\n",
       "    function displayChart(vegaEmbed) {\n",
       "      vegaEmbed(outputDiv, spec, embedOpt)\n",
       "        .catch(err => showError(`Javascript Error: ${err.message}<br>This usually means there's a typo in your chart specification. See the javascript console for the full traceback.`));\n",
       "    }\n",
       "\n",
       "    if(typeof define === \"function\" && define.amd) {\n",
       "      requirejs.config({paths});\n",
       "      require([\"vega-embed\"], displayChart, err => showError(`Error loading script: ${err.message}`));\n",
       "    } else if (typeof vegaEmbed === \"function\") {\n",
       "      displayChart(vegaEmbed);\n",
       "    } else {\n",
       "      loadScript(\"vega\")\n",
       "        .then(() => loadScript(\"vega-lite\"))\n",
       "        .then(() => loadScript(\"vega-embed\"))\n",
       "        .catch(showError)\n",
       "        .then(() => displayChart(vegaEmbed));\n",
       "    }\n",
       "  })({\"config\": {\"view\": {\"continuousWidth\": 400, \"continuousHeight\": 300}}, \"hconcat\": [{\"layer\": [{\"mark\": \"circle\", \"encoding\": {\"color\": {\"condition\": {\"value\": \"#4c78a8\", \"selection\": \"selector023\"}, \"value\": \"lightgray\"}, \"x\": {\"field\": \"num_ratings\", \"type\": \"quantitative\"}, \"y\": {\"field\": \"norm0\", \"type\": \"quantitative\"}}, \"selection\": {\"selector024\": {\"type\": \"single\", \"encodings\": [\"x\", \"y\"], \"on\": \"mouseover\", \"nearest\": true, \"empty\": \"none\"}, \"selector023\": {\"type\": \"interval\"}}}, {\"mark\": {\"type\": \"text\", \"align\": \"center\", \"dx\": 5, \"dy\": -5}, \"encoding\": {\"text\": {\"condition\": {\"field\": \"title\", \"type\": \"nominal\", \"selection\": \"selector024\"}, \"value\": \"\"}, \"x\": {\"field\": \"num_ratings\", \"type\": \"quantitative\"}, \"y\": {\"field\": \"norm0\", \"type\": \"quantitative\"}}}]}], \"data\": {\"name\": \"data-242b911c29b0b5e673fd1a23c03847f7\"}, \"$schema\": \"https://vega.github.io/schema/vega-lite/v4.17.0.json\", \"datasets\": {\"data-242b911c29b0b5e673fd1a23c03847f7\": [{\"title\": \"gloomhaven\", \"num_ratings\": 30333, \"norm0\": 7.608240604400635}, {\"title\": \"pandemic_legacy_season_1\", \"num_ratings\": 34807, \"norm0\": 3.522164821624756}, {\"title\": \"terraforming_mars\", \"num_ratings\": 51899, \"norm0\": 6.563600063323975}, {\"title\": \"star_wars_rebellion\", \"num_ratings\": 20138, \"norm0\": 8.762591361999512}, {\"title\": \"through_ages_new_story_civilization\", \"num_ratings\": 21548, \"norm0\": 9.676173210144043}, {\"title\": \"spirit_island\", \"num_ratings\": 23980, \"norm0\": 9.050538063049316}, {\"title\": \"war_ring_second_edition\", \"num_ratings\": 12050, \"norm0\": 2.9312169551849365}, {\"title\": \"twilight_struggle\", \"num_ratings\": 31854, \"norm0\": 9.124565124511719}, {\"title\": \"scythe\", \"num_ratings\": 47468, \"norm0\": 7.023411273956299}, {\"title\": \"7_wonders_duel\", \"num_ratings\": 50575, \"norm0\": 10.449830055236816}, {\"title\": \"terra_mystica\", \"num_ratings\": 34889, \"norm0\": 6.344581127166748}, {\"title\": \"concordia\", \"num_ratings\": 28184, \"norm0\": 9.696735382080078}, {\"title\": \"nemesis\", \"num_ratings\": 11686, \"norm0\": 6.436680316925049}, {\"title\": \"feast_odin\", \"num_ratings\": 17587, \"norm0\": 9.401358604431152}, {\"title\": \"viticulture_essential_edition\", \"num_ratings\": 28864, \"norm0\": 5.118066310882568}, {\"title\": \"orleans\", \"num_ratings\": 22494, \"norm0\": 9.135673522949219}, {\"title\": \"caverna_cave_farmers\", \"num_ratings\": 25814, \"norm0\": 8.915517807006836}, {\"title\": \"food_chain_magnate\", \"num_ratings\": 13938, \"norm0\": 5.494553089141846}, {\"title\": \"blood_rage\", \"num_ratings\": 30757, \"norm0\": 7.061408996582031}, {\"title\": \"7th_continent\", \"num_ratings\": 14696, \"norm0\": 6.115191459655762}, {\"title\": \"tzolk_mayan_calendar\", \"num_ratings\": 29617, \"norm0\": 4.9775614738464355}, {\"title\": \"anachrony\", \"num_ratings\": 11733, \"norm0\": 8.32823371887207}, {\"title\": \"star_wars_imperial_assault\", \"num_ratings\": 17237, \"norm0\": 8.675409317016602}, {\"title\": \"mars\", \"num_ratings\": 6570, \"norm0\": 5.782687664031982}, {\"title\": \"gallerist\", \"num_ratings\": 10315, \"norm0\": 3.196763038635254}, {\"title\": \"android_netrunner\", \"num_ratings\": 22109, \"norm0\": 10.77838134765625}, {\"title\": \"lisboa\", \"num_ratings\": 7229, \"norm0\": 8.068462371826172}, {\"title\": \"robinson_crusoe_adventures_cursed_island\", \"num_ratings\": 29952, \"norm0\": 8.584985733032227}, {\"title\": \"fields_arle\", \"num_ratings\": 8277, \"norm0\": 3.651811122894287}, {\"title\": \"voyages_marco_polo\", \"num_ratings\": 20155, \"norm0\": 9.500216484069824}, {\"title\": \"five_tribes\", \"num_ratings\": 31010, \"norm0\": 10.426368713378906}, {\"title\": \"lords_waterdeep\", \"num_ratings\": 39722, \"norm0\": 9.409235954284668}, {\"title\": \"keyflower\", \"num_ratings\": 18899, \"norm0\": 6.257436275482178}, {\"title\": \"grand_austria_hotel\", \"num_ratings\": 13472, \"norm0\": 10.189370155334473}, {\"title\": \"caylus\", \"num_ratings\": 21789, \"norm0\": 7.525420665740967}, {\"title\": \"twilight_imperium_third_edition\", \"num_ratings\": 14022, \"norm0\": 9.403860092163086}, {\"title\": \"eldritch_horror\", \"num_ratings\": 23525, \"norm0\": 3.322862386703491}, {\"title\": \"mombasa\", \"num_ratings\": 11123, \"norm0\": 7.075225830078125}, {\"title\": \"raiders_north_sea\", \"num_ratings\": 15942, \"norm0\": 8.216607093811035}, {\"title\": \"patchwork\", \"num_ratings\": 41866, \"norm0\": 6.866036891937256}, {\"title\": \"russian_railroads\", \"num_ratings\": 15004, \"norm0\": 8.1348876953125}, {\"title\": \"codenames\", \"num_ratings\": 57618, \"norm0\": 9.447296142578125}, {\"title\": \"trajan\", \"num_ratings\": 14627, \"norm0\": 7.424088001251221}, {\"title\": \"roll_galaxy\", \"num_ratings\": 25799, \"norm0\": 10.98019790649414}, {\"title\": \"inis\", \"num_ratings\": 12491, \"norm0\": 6.995962142944336}, {\"title\": \"champions_midgard\", \"num_ratings\": 13103, \"norm0\": 7.446719169616699}, {\"title\": \"kemet\", \"num_ratings\": 15651, \"norm0\": 8.771108627319336}, {\"title\": \"forbidden_stars\", \"num_ratings\": 7054, \"norm0\": 8.898183822631836}, {\"title\": \"vinhos_deluxe_edition\", \"num_ratings\": 4604, \"norm0\": 6.19707727432251}, {\"title\": \"alchemists\", \"num_ratings\": 17328, \"norm0\": 3.8416335582733154}, {\"title\": \"legendary_encounters_alien_deck_building_game\", \"num_ratings\": 10252, \"norm0\": 4.630965232849121}, {\"title\": \"star_wars_x_wing_miniatures_game\", \"num_ratings\": 18660, \"norm0\": 6.928977012634277}, {\"title\": \"star_realms\", \"num_ratings\": 32066, \"norm0\": 9.610860824584961}, {\"title\": \"trickerion_legends_illusion\", \"num_ratings\": 7059, \"norm0\": 7.913242816925049}, {\"title\": \"targi\", \"num_ratings\": 15075, \"norm0\": 7.024735450744629}, {\"title\": \"descent_journeys_dark_second_edition\", \"num_ratings\": 17849, \"norm0\": 8.895106315612793}, {\"title\": \"ticket_ride_europe\", \"num_ratings\": 43019, \"norm0\": 8.839109420776367}, {\"title\": \"istanbul\", \"num_ratings\": 24437, \"norm0\": 8.564982414245605}, {\"title\": \"dead_winter_crossroads_game\", \"num_ratings\": 34097, \"norm0\": 9.362759590148926}, {\"title\": \"railways_world\", \"num_ratings\": 9844, \"norm0\": 8.614593505859375}, {\"title\": \"resistance_avalon\", \"num_ratings\": 23891, \"norm0\": 6.944340705871582}, {\"title\": \"game_thrones_board_game_second_edition\", \"num_ratings\": 22743, \"norm0\": 7.407015323638916}, {\"title\": \"castles_mad_king_ludwig\", \"num_ratings\": 21129, \"norm0\": 7.186869144439697}, {\"title\": \"memoir_44\", \"num_ratings\": 19749, \"norm0\": 8.797369956970215}, {\"title\": \"commands_colors_ancients\", \"num_ratings\": 6260, \"norm0\": 7.144895076751709}, {\"title\": \"suburbia\", \"num_ratings\": 20687, \"norm0\": 9.396946907043457}, {\"title\": \"nations\", \"num_ratings\": 10865, \"norm0\": 7.7554450035095215}, {\"title\": \"village\", \"num_ratings\": 19000, \"norm0\": 9.81594181060791}, {\"title\": \"time_stories\", \"num_ratings\": 21550, \"norm0\": 6.575374126434326}, {\"title\": \"captain_sonar\", \"num_ratings\": 15658, \"norm0\": 7.604135036468506}, {\"title\": \"star_realms_colony_wars\", \"num_ratings\": 5715, \"norm0\": 8.92300796508789}, {\"title\": \"splendor\", \"num_ratings\": 51068, \"norm0\": 7.080199718475342}, {\"title\": \"go\", \"num_ratings\": 11212, \"norm0\": 8.4298095703125}, {\"title\": \"la_granja\", \"num_ratings\": 9062, \"norm0\": 9.2190580368042}, {\"title\": \"ra\", \"num_ratings\": 16564, \"norm0\": 9.925660133361816}, {\"title\": \"kanban_drivers_edition\", \"num_ratings\": 5886, \"norm0\": 9.115880966186523}, {\"title\": \"zombicide_black_plague\", \"num_ratings\": 10212, \"norm0\": 5.7524919509887695}, {\"title\": \"legendary_marvel_deck_building_game\", \"num_ratings\": 16267, \"norm0\": 6.924890995025635}, {\"title\": \"secret_hitler\", \"num_ratings\": 15834, \"norm0\": 9.245859146118164}, {\"title\": \"arcadia_quest\", \"num_ratings\": 8128, \"norm0\": 8.45858097076416}, {\"title\": \"roll_player\", \"num_ratings\": 13692, \"norm0\": 8.94769287109375}, {\"title\": \"deception_murder_hong_kong\", \"num_ratings\": 15779, \"norm0\": 7.686081886291504}, {\"title\": \"viticulture\", \"num_ratings\": 10337, \"norm0\": 7.365166664123535}, {\"title\": \"isle_skye_chieftain_king\", \"num_ratings\": 20149, \"norm0\": 8.373159408569336}, {\"title\": \"hanamikoji\", \"num_ratings\": 11059, \"norm0\": 8.160736083984375}, {\"title\": \"lewis_clark_expedition\", \"num_ratings\": 13112, \"norm0\": 7.0684051513671875}, {\"title\": \"bora_bora\", \"num_ratings\": 9054, \"norm0\": 10.198872566223145}, {\"title\": \"power_grid_deluxe_europenorth_america\", \"num_ratings\": 3620, \"norm0\": 7.577739238739014}, {\"title\": \"modern_art\", \"num_ratings\": 15370, \"norm0\": 8.10068416595459}, {\"title\": \"seasons\", \"num_ratings\": 19807, \"norm0\": 9.132040977478027}, {\"title\": \"imperial_settlers\", \"num_ratings\": 20129, \"norm0\": 8.469318389892578}, {\"title\": \"rococo\", \"num_ratings\": 7680, \"norm0\": 10.06291675567627}, {\"title\": \"fury_dracula_thirdfourth_edition\", \"num_ratings\": 10765, \"norm0\": 8.397087097167969}, {\"title\": \"manhattan_project_energy_empire\", \"num_ratings\": 4865, \"norm0\": 9.8187255859375}, {\"title\": \"battlelore_second_edition\", \"num_ratings\": 5192, \"norm0\": 7.464869022369385}, {\"title\": \"antiquity\", \"num_ratings\": 3788, \"norm0\": 8.653160095214844}, {\"title\": \"burgle_bros\", \"num_ratings\": 8068, \"norm0\": 8.596068382263184}, {\"title\": \"onitama\", \"num_ratings\": 14680, \"norm0\": 7.683159828186035}, {\"title\": \"klask\", \"num_ratings\": 5922, \"norm0\": 7.887840747833252}, {\"title\": \"cthulhu_wars\", \"num_ratings\": 4031, \"norm0\": 8.716236114501953}, {\"title\": \"nemos_war_second_edition\", \"num_ratings\": 3331, \"norm0\": 8.788899421691895}, {\"title\": \"mage_wars_arena\", \"num_ratings\": 6419, \"norm0\": 8.245101928710938}, {\"title\": \"above_and_below\", \"num_ratings\": 12195, \"norm0\": 8.816522598266602}, {\"title\": \"arboretum\", \"num_ratings\": 13409, \"norm0\": 8.550434112548828}, {\"title\": \"bruges\", \"num_ratings\": 10213, \"norm0\": 7.528280735015869}, {\"title\": \"mysterium\", \"num_ratings\": 28343, \"norm0\": 7.869588375091553}, {\"title\": \"tiny_epic_galaxies\", \"num_ratings\": 14534, \"norm0\": 7.4166259765625}, {\"title\": \"glass_road\", \"num_ratings\": 9186, \"norm0\": 8.785625457763672}, {\"title\": \"mission_red_planet_second_edition\", \"num_ratings\": 8921, \"norm0\": 8.812607765197754}, {\"title\": \"star_wars_armada\", \"num_ratings\": 3877, \"norm0\": 7.730669975280762}, {\"title\": \"love_letter\", \"num_ratings\": 48969, \"norm0\": 8.509333610534668}, {\"title\": \"agricola_all_creatures_big_and_small\", \"num_ratings\": 11279, \"norm0\": 9.292194366455078}, {\"title\": \"here_i_stand\", \"num_ratings\": 2936, \"norm0\": 8.734540939331055}, {\"title\": \"evolution_climate\", \"num_ratings\": 5739, \"norm0\": 9.420109748840332}, {\"title\": \"die_macher\", \"num_ratings\": 4776, \"norm0\": 9.401829719543457}, {\"title\": \"sale\", \"num_ratings\": 22669, \"norm0\": 9.279088020324707}, {\"title\": \"bunny_kingdom\", \"num_ratings\": 7817, \"norm0\": 8.305642127990723}, {\"title\": \"mythic_battles_pantheon\", \"num_ratings\": 2050, \"norm0\": 7.064393520355225}, {\"title\": \"bruxelles_1893\", \"num_ratings\": 4776, \"norm0\": 8.225752830505371}, {\"title\": \"sword_sorcery\", \"num_ratings\": 2931, \"norm0\": 9.188387870788574}, {\"title\": \"nippon\", \"num_ratings\": 4327, \"norm0\": 8.42623519897461}, {\"title\": \"dune\", \"num_ratings\": 4423, \"norm0\": 8.409123420715332}, {\"title\": \"san_juan_second_edition\", \"num_ratings\": 5904, \"norm0\": 7.41979455947876}, {\"title\": \"mice_and_mystics\", \"num_ratings\": 14415, \"norm0\": 9.608602523803711}, {\"title\": \"monikers\", \"num_ratings\": 3525, \"norm0\": 8.942638397216797}, {\"title\": \"arkham_horror\", \"num_ratings\": 24238, \"norm0\": 5.186944961547852}, {\"title\": \"abyss\", \"num_ratings\": 10227, \"norm0\": 7.933627605438232}, {\"title\": \"stockpile\", \"num_ratings\": 5620, \"norm0\": 7.966865062713623}, {\"title\": \"blood_bowl_living_rulebook\", \"num_ratings\": 2662, \"norm0\": 9.307531356811523}, {\"title\": \"awkward_guests\", \"num_ratings\": 3938, \"norm0\": 8.108251571655273}, {\"title\": \"firefly_game\", \"num_ratings\": 8650, \"norm0\": 9.717206001281738}, {\"title\": \"millennium_blades\", \"num_ratings\": 3890, \"norm0\": 8.1351900100708}, {\"title\": \"flash_point_fire_rescue\", \"num_ratings\": 18579, \"norm0\": 8.345227241516113}, {\"title\": \"ginkgopolis\", \"num_ratings\": 5546, \"norm0\": 8.055937767028809}, {\"title\": \"spartacus_game_blood_and_treachery\", \"num_ratings\": 6472, \"norm0\": 8.967140197753906}, {\"title\": \"quadropolis\", \"num_ratings\": 11002, \"norm0\": 8.12955093383789}, {\"title\": \"heroscape_master_set_rise_valkyrie\", \"num_ratings\": 5642, \"norm0\": 7.998544692993164}, {\"title\": \"great_zimbabwe\", \"num_ratings\": 3260, \"norm0\": 9.510860443115234}, {\"title\": \"risk_legacy\", \"num_ratings\": 6339, \"norm0\": 7.027487754821777}, {\"title\": \"amerigo\", \"num_ratings\": 5505, \"norm0\": 8.16224479675293}, {\"title\": \"pandemic_cure\", \"num_ratings\": 8937, \"norm0\": 8.698349952697754}, {\"title\": \"lord_rings_confrontation\", \"num_ratings\": 4986, \"norm0\": 8.42198371887207}, {\"title\": \"sheriff_nottingham\", \"num_ratings\": 26914, \"norm0\": 9.006583213806152}, {\"title\": \"1775_rebellion\", \"num_ratings\": 3450, \"norm0\": 9.976819038391113}, {\"title\": \"shadows_brimstone_city_ancients\", \"num_ratings\": 2666, \"norm0\": 8.443954467773438}, {\"title\": \"descent_journeys_dark\", \"num_ratings\": 8066, \"norm0\": 9.10654067993164}, {\"title\": \"battlecon_devastation_indines\", \"num_ratings\": 2660, \"norm0\": 9.335786819458008}, {\"title\": \"pitchcar\", \"num_ratings\": 8928, \"norm0\": 8.124207496643066}, {\"title\": \"forbidden_desert\", \"num_ratings\": 22044, \"norm0\": 7.518870830535889}, {\"title\": \"raptor\", \"num_ratings\": 7864, \"norm0\": 8.731958389282227}, {\"title\": \"deus\", \"num_ratings\": 7409, \"norm0\": 8.424979209899902}, {\"title\": \"colt_express\", \"num_ratings\": 23235, \"norm0\": 6.512755393981934}, {\"title\": \"catan\", \"num_ratings\": 62316, \"norm0\": 8.295866012573242}, {\"title\": \"archipelago\", \"num_ratings\": 7009, \"norm0\": 7.292513847351074}, {\"title\": \"freedom_underground_railroad\", \"num_ratings\": 3828, \"norm0\": 7.9549994468688965}, {\"title\": \"legends_andor\", \"num_ratings\": 13043, \"norm0\": 9.45658016204834}, {\"title\": \"shadows_over_camelot\", \"num_ratings\": 21067, \"norm0\": 8.731715202331543}, {\"title\": \"fire_lake\", \"num_ratings\": 1985, \"norm0\": 8.826899528503418}, {\"title\": \"grizzled\", \"num_ratings\": 11856, \"norm0\": 9.027865409851074}, {\"title\": \"euphoria_build_better_dystopia\", \"num_ratings\": 9091, \"norm0\": 6.897072792053223}, {\"title\": \"sentinels_multiverse\", \"num_ratings\": 12959, \"norm0\": 8.261337280273438}, {\"title\": \"one_night_ultimate_werewolf\", \"num_ratings\": 19323, \"norm0\": 6.620815277099609}, {\"title\": \"chess\", \"num_ratings\": 21268, \"norm0\": 8.429749488830566}, {\"title\": \"libertalia\", \"num_ratings\": 12112, \"norm0\": 9.258516311645508}, {\"title\": \"argent_consortium\", \"num_ratings\": 3216, \"norm0\": 7.086988925933838}, {\"title\": \"escape_plan\", \"num_ratings\": 3789, \"norm0\": 5.967555999755859}, {\"title\": \"elysium\", \"num_ratings\": 8489, \"norm0\": 7.56614875793457}, {\"title\": \"black_orchestra\", \"num_ratings\": 4225, \"norm0\": 9.110219955444336}, {\"title\": \"potion_explosion\", \"num_ratings\": 13363, \"norm0\": 8.879372596740723}, {\"title\": \"roborally\", \"num_ratings\": 17710, \"norm0\": 8.723896026611328}, {\"title\": \"sushi_go\", \"num_ratings\": 30296, \"norm0\": 7.499324321746826}, {\"title\": \"bohnanza\", \"num_ratings\": 30134, \"norm0\": 10.42514705657959}, {\"title\": \"no_thanks\", \"num_ratings\": 19320, \"norm0\": 5.754408836364746}, {\"title\": \"pathfinder_adventure_card_game_rise_runelords_base\", \"num_ratings\": 10264, \"norm0\": 9.82309341430664}, {\"title\": \"port_royal\", \"num_ratings\": 12676, \"norm0\": 10.429068565368652}, {\"title\": \"1846_race_midwest\", \"num_ratings\": 2201, \"norm0\": 9.951827049255371}, {\"title\": \"runebound_third_edition\", \"num_ratings\": 4292, \"norm0\": 9.181604385375977}, {\"title\": \"star_wars_x_wing_miniatures_game_force_awakens_cor\", \"num_ratings\": 2536, \"norm0\": 7.055339813232422}, {\"title\": \"karuba\", \"num_ratings\": 8620, \"norm0\": 7.735682964324951}, {\"title\": \"pax_porfiriana\", \"num_ratings\": 3042, \"norm0\": 5.601474761962891}, {\"title\": \"paperback\", \"num_ratings\": 8827, \"norm0\": 9.779314994812012}, {\"title\": \"nexus_ops\", \"num_ratings\": 7284, \"norm0\": 7.389446258544922}, {\"title\": \"baseball_highlights_2045\", \"num_ratings\": 3637, \"norm0\": 6.284725189208984}, {\"title\": \"aquasphere\", \"num_ratings\": 6546, \"norm0\": 7.821483612060547}, {\"title\": \"evolution\", \"num_ratings\": 12787, \"norm0\": 6.015671730041504}, {\"title\": \"conan\", \"num_ratings\": 3252, \"norm0\": 8.445939064025879}, {\"title\": \"camel\", \"num_ratings\": 21171, \"norm0\": 7.895262718200684}, {\"title\": \"francis_drake\", \"num_ratings\": 4503, \"norm0\": 9.380188941955566}, {\"title\": \"game_thrones_card_game_second_edition\", \"num_ratings\": 3703, \"norm0\": 10.363396644592285}, {\"title\": \"broom_service\", \"num_ratings\": 8257, \"norm0\": 7.855635166168213}, {\"title\": \"zombicide\", \"num_ratings\": 13132, \"norm0\": 6.807535171508789}, {\"title\": \"quantum\", \"num_ratings\": 6253, \"norm0\": 6.856154918670654}, {\"title\": \"snowdonia\", \"num_ratings\": 4540, \"norm0\": 5.162703514099121}, {\"title\": \"mare_nostrum_empires\", \"num_ratings\": 3320, \"norm0\": 7.4633636474609375}, {\"title\": \"las_vegas\", \"num_ratings\": 9265, \"norm0\": 4.584052085876465}, {\"title\": \"republic_rome\", \"num_ratings\": 3016, \"norm0\": 9.332924842834473}, {\"title\": \"skull_king\", \"num_ratings\": 4498, \"norm0\": 6.525300979614258}, {\"title\": \"coup\", \"num_ratings\": 31004, \"norm0\": 8.044280052185059}, {\"title\": \"valeria_card_kingdoms\", \"num_ratings\": 3993, \"norm0\": 8.375985145568848}, {\"title\": \"one_night_ultimate_werewolf_daybreak\", \"num_ratings\": 4558, \"norm0\": 6.891265392303467}, {\"title\": \"trains\", \"num_ratings\": 7528, \"norm0\": 9.291891098022461}, {\"title\": \"shadows_brimstone_swamps_death\", \"num_ratings\": 1786, \"norm0\": 7.919088840484619}, {\"title\": \"dawn_zeds_third_edition\", \"num_ratings\": 1535, \"norm0\": 8.190790176391602}, {\"title\": \"triumph_tragedy_european_balance_power_1936_1945\", \"num_ratings\": 1574, \"norm0\": 7.160949230194092}, {\"title\": \"shakespeare\", \"num_ratings\": 3823, \"norm0\": 6.656059741973877}, {\"title\": \"battle_five_armies\", \"num_ratings\": 2114, \"norm0\": 8.192231178283691}, {\"title\": \"betrayal_house_hill\", \"num_ratings\": 27287, \"norm0\": 6.897982597351074}, {\"title\": \"cuba_libre\", \"num_ratings\": 2454, \"norm0\": 7.688479423522949}, {\"title\": \"times\", \"num_ratings\": 4522, \"norm0\": 6.372592926025391}, {\"title\": \"dixit_journey\", \"num_ratings\": 3718, \"norm0\": 9.212957382202148}, {\"title\": \"thunderstone_advance_towers_ruin\", \"num_ratings\": 4033, \"norm0\": 8.277087211608887}, {\"title\": \"smash_awesome_level_9000\", \"num_ratings\": 5765, \"norm0\": 8.151111602783203}, {\"title\": \"myrmes\", \"num_ratings\": 4938, \"norm0\": 9.104445457458496}, {\"title\": \"leaving_earth\", \"num_ratings\": 2222, \"norm0\": 8.703856468200684}, {\"title\": \"kingdom_builder\", \"num_ratings\": 18472, \"norm0\": 5.194559574127197}, {\"title\": \"downfall_pompeii\", \"num_ratings\": 6890, \"norm0\": 8.02532958984375}, {\"title\": \"specter_ops\", \"num_ratings\": 5521, \"norm0\": 6.672454357147217}, {\"title\": \"zhanguo\", \"num_ratings\": 2921, \"norm0\": 8.455291748046875}, {\"title\": \"warhammer_quest_adventure_card_game\", \"num_ratings\": 4195, \"norm0\": 8.456825256347656}, {\"title\": \"escape_curse_temple\", \"num_ratings\": 14362, \"norm0\": 9.208688735961914}, {\"title\": \"elder_sign\", \"num_ratings\": 18121, \"norm0\": 5.459362506866455}, {\"title\": \"cacao\", \"num_ratings\": 8305, \"norm0\": 8.712059020996094}, {\"title\": \"tokaido\", \"num_ratings\": 18683, \"norm0\": 7.958434581756592}, {\"title\": \"steampunk_rally\", \"num_ratings\": 5596, \"norm0\": 7.521463394165039}, {\"title\": \"vegas_showdown\", \"num_ratings\": 5385, \"norm0\": 10.482571601867676}, {\"title\": \"arkwright\", \"num_ratings\": 2042, \"norm0\": 10.133206367492676}, {\"title\": \"tash_kalar_arena_legends\", \"num_ratings\": 5979, \"norm0\": 8.02347469329834}, {\"title\": \"bang_dice_game\", \"num_ratings\": 18389, \"norm0\": 9.015482902526855}, {\"title\": \"love_letter_batman\", \"num_ratings\": 4593, \"norm0\": 9.608776092529297}, {\"title\": \"crusaders_thy_will_be_done\", \"num_ratings\": 2868, \"norm0\": 9.147273063659668}, {\"title\": \"feudum\", \"num_ratings\": 2696, \"norm0\": 8.057446479797363}, {\"title\": \"empires_age_discovery\", \"num_ratings\": 1928, \"norm0\": 5.6568474769592285}, {\"title\": \"onirim_second_edition\", \"num_ratings\": 7708, \"norm0\": 6.880848407745361}, {\"title\": \"arcadia_quest_inferno\", \"num_ratings\": 1715, \"norm0\": 9.771081924438477}, {\"title\": \"telestrations_12_player_party_pack\", \"num_ratings\": 2128, \"norm0\": 7.096263408660889}, {\"title\": \"ashes_reborn_rise_phoenixborn\", \"num_ratings\": 4742, \"norm0\": 7.358917713165283}, {\"title\": \"wir_sind_das_volk\", \"num_ratings\": 1981, \"norm0\": 6.770840167999268}, {\"title\": \"between_two_cities\", \"num_ratings\": 9369, \"norm0\": 9.59631061553955}, {\"title\": \"zombicide_season_2_prison_outbreak\", \"num_ratings\": 3426, \"norm0\": 8.591139793395996}, {\"title\": \"churchill\", \"num_ratings\": 2220, \"norm0\": 6.572861671447754}, {\"title\": \"coal_baron\", \"num_ratings\": 4244, \"norm0\": 9.25013256072998}, {\"title\": \"saint_petersburg_second_edition\", \"num_ratings\": 2905, \"norm0\": 5.843439102172852}, {\"title\": \"summoner_wars_alliances_master_set\", \"num_ratings\": 1546, \"norm0\": 6.7132792472839355}, {\"title\": \"oh_my_goods\", \"num_ratings\": 9397, \"norm0\": 8.155564308166504}, {\"title\": \"among_stars\", \"num_ratings\": 6520, \"norm0\": 11.052865028381348}, {\"title\": \"super_motherload\", \"num_ratings\": 3355, \"norm0\": 7.712907314300537}, {\"title\": \"king_new_york\", \"num_ratings\": 13127, \"norm0\": 6.307877063751221}, {\"title\": \"deep_sea_adventure\", \"num_ratings\": 10537, \"norm0\": 8.35681438446045}, {\"title\": \"vast_crystal_caverns\", \"num_ratings\": 5525, \"norm0\": 7.163506507873535}, {\"title\": \"panamax\", \"num_ratings\": 3593, \"norm0\": 7.1099162101745605}, {\"title\": \"fake_artist_goes_new_york\", \"num_ratings\": 5087, \"norm0\": 6.5368828773498535}, {\"title\": \"middara_unintentional_malum_act_1\", \"num_ratings\": 972, \"norm0\": 6.416788101196289}, {\"title\": \"napoleons_triumph\", \"num_ratings\": 1318, \"norm0\": 7.86841344833374}, {\"title\": \"squad_leader\", \"num_ratings\": 1688, \"norm0\": 9.311599731445312}, {\"title\": \"13_days_cuban_missile_crisis\", \"num_ratings\": 3689, \"norm0\": 6.867048263549805}, {\"title\": \"marvel_dice_masters_avengers_vs_x_men\", \"num_ratings\": 5122, \"norm0\": 4.420077323913574}, {\"title\": \"yedo\", \"num_ratings\": 3369, \"norm0\": 6.264267921447754}, {\"title\": \"fuse\", \"num_ratings\": 6926, \"norm0\": 8.514710426330566}, {\"title\": \"xcom_board_game\", \"num_ratings\": 7174, \"norm0\": 8.979491233825684}, {\"title\": \"lords_xidit\", \"num_ratings\": 5274, \"norm0\": 8.751142501831055}, {\"title\": \"jambo\", \"num_ratings\": 6818, \"norm0\": 8.91399097442627}, {\"title\": \"one_deck_dungeon\", \"num_ratings\": 6928, \"norm0\": 8.192344665527344}, {\"title\": \"pursuit_happiness\", \"num_ratings\": 4201, \"norm0\": 7.400821208953857}, {\"title\": \"spyfall\", \"num_ratings\": 17693, \"norm0\": 8.783493995666504}, {\"title\": \"tajemnicze_domostwo\", \"num_ratings\": 4580, \"norm0\": 9.728975296020508}, {\"title\": \"reef_encounter\", \"num_ratings\": 4516, \"norm0\": 4.265674114227295}, {\"title\": \"scoville\", \"num_ratings\": 4730, \"norm0\": 7.066540241241455}, {\"title\": \"dogs_war\", \"num_ratings\": 2536, \"norm0\": 7.72478723526001}, {\"title\": \"red7\", \"num_ratings\": 12433, \"norm0\": 5.883602619171143}, {\"title\": \"star_wars_card_game\", \"num_ratings\": 4648, \"norm0\": 6.1524858474731445}, {\"title\": \"spyrium\", \"num_ratings\": 5774, \"norm0\": 6.705504417419434}, {\"title\": \"friedrich\", \"num_ratings\": 2163, \"norm0\": 9.20422649383545}, {\"title\": \"brew_crafters\", \"num_ratings\": 2723, \"norm0\": 7.121305465698242}, {\"title\": \"carcassonne_city\", \"num_ratings\": 3413, \"norm0\": 6.7841644287109375}, {\"title\": \"hyperborea\", \"num_ratings\": 4275, \"norm0\": 6.3007683753967285}, {\"title\": \"conflict_heroes_awakening_bear_operation_barbaross\", \"num_ratings\": 1346, \"norm0\": 5.062485694885254}, {\"title\": \"cah_n_guns_second_edition\", \"num_ratings\": 12082, \"norm0\": 4.928483963012695}, {\"title\": \"legendary_marvel_deck_building_game_villains\", \"num_ratings\": 2230, \"norm0\": 8.679030418395996}, {\"title\": \"celestia\", \"num_ratings\": 8212, \"norm0\": 6.38937520980835}, {\"title\": \"san_marco\", \"num_ratings\": 3809, \"norm0\": 6.506386756896973}, {\"title\": \"akrotiri\", \"num_ratings\": 3671, \"norm0\": 7.808012008666992}, {\"title\": \"unfair\", \"num_ratings\": 3308, \"norm0\": 4.7684783935546875}, {\"title\": \"morels\", \"num_ratings\": 6804, \"norm0\": 6.891956329345703}, {\"title\": \"empire_sun\", \"num_ratings\": 964, \"norm0\": 3.7409613132476807}, {\"title\": \"genoa\", \"num_ratings\": 5142, \"norm0\": 7.806121826171875}, {\"title\": \"palaces_carrara\", \"num_ratings\": 4145, \"norm0\": 9.205353736877441}, {\"title\": \"diamant\", \"num_ratings\": 16823, \"norm0\": 9.723236083984375}, {\"title\": \"signorie\", \"num_ratings\": 2740, \"norm0\": 8.227189064025879}, {\"title\": \"tumblin_dice\", \"num_ratings\": 3814, \"norm0\": 6.539386749267578}, {\"title\": \"smash_science_fiction_double_feature\", \"num_ratings\": 3385, \"norm0\": 7.195296287536621}, {\"title\": \"tragedy_looper\", \"num_ratings\": 3865, \"norm0\": 7.104794025421143}, {\"title\": \"dale_merchants\", \"num_ratings\": 3843, \"norm0\": 8.853774070739746}, {\"title\": \"louis_xiv\", \"num_ratings\": 4778, \"norm0\": 5.273597240447998}, {\"title\": \"ascension_storm_souls\", \"num_ratings\": 2953, \"norm0\": 7.1666951179504395}, {\"title\": \"thunder_alley\", \"num_ratings\": 3042, \"norm0\": 5.299779415130615}, {\"title\": \"hawaii\", \"num_ratings\": 4121, \"norm0\": 6.547049522399902}, {\"title\": \"others\", \"num_ratings\": 2962, \"norm0\": 7.023968696594238}, {\"title\": \"lanterns_harvest_festival\", \"num_ratings\": 9231, \"norm0\": 6.901805877685547}, {\"title\": \"wizard\", \"num_ratings\": 7597, \"norm0\": 7.656800746917725}, {\"title\": \"bloody_inn\", \"num_ratings\": 6235, \"norm0\": 6.887972354888916}, {\"title\": \"qwixx\", \"num_ratings\": 9203, \"norm0\": 5.706225872039795}, {\"title\": \"flick_em\", \"num_ratings\": 7632, \"norm0\": 7.285295009613037}, {\"title\": \"concept\", \"num_ratings\": 14585, \"norm0\": 5.269786834716797}, {\"title\": \"dc_comics_deck_building_game\", \"num_ratings\": 5283, \"norm0\": 6.209673881530762}, {\"title\": \"discoveries_journals_lewis_clark\", \"num_ratings\": 4438, \"norm0\": 7.252235412597656}, {\"title\": \"marvel_dice_masters_uncanny_x_men\", \"num_ratings\": 3439, \"norm0\": 6.003351211547852}, {\"title\": \"legendary_encounters_predator_deck_building_game\", \"num_ratings\": 2245, \"norm0\": 5.276250839233398}, {\"title\": \"automobiles\", \"num_ratings\": 2861, \"norm0\": 5.403017044067383}, {\"title\": \"gold_west\", \"num_ratings\": 2557, \"norm0\": 5.879335880279541}, {\"title\": \"zombicide_season_3_rue_morgue\", \"num_ratings\": 1920, \"norm0\": 8.552363395690918}, {\"title\": \"space_hulk_fourth_edition\", \"num_ratings\": 1247, \"norm0\": 6.022347927093506}, {\"title\": \"merchant_venus_second_edition\", \"num_ratings\": 3420, \"norm0\": 4.415921688079834}, {\"title\": \"worlds_fair_1893\", \"num_ratings\": 3233, \"norm0\": 5.170534610748291}, {\"title\": \"smash_pretty_pretty_smash\", \"num_ratings\": 2989, \"norm0\": 3.9226467609405518}, {\"title\": \"star_trek_frontiers\", \"num_ratings\": 1378, \"norm0\": 9.913518905639648}, {\"title\": \"valley_kings\", \"num_ratings\": 4178, \"norm0\": 7.184197902679443}, {\"title\": \"manila\", \"num_ratings\": 4988, \"norm0\": 6.027621746063232}, {\"title\": \"warhammer_40000_conquest\", \"num_ratings\": 2513, \"norm0\": 8.787357330322266}, {\"title\": \"wiz_war_eighth_edition\", \"num_ratings\": 4121, \"norm0\": 8.186837196350098}, {\"title\": \"rex_final_days_empire\", \"num_ratings\": 3879, \"norm0\": 4.498848915100098}, {\"title\": \"black_fleet\", \"num_ratings\": 4721, \"norm0\": 5.434601306915283}, {\"title\": \"smash_monster_smash\", \"num_ratings\": 2715, \"norm0\": 6.167294979095459}, {\"title\": \"condottiere\", \"num_ratings\": 7639, \"norm0\": 6.1920881271362305}, {\"title\": \"islebound\", \"num_ratings\": 3040, \"norm0\": 4.173493385314941}, {\"title\": \"study_emerald\", \"num_ratings\": 3043, \"norm0\": 4.272123336791992}, {\"title\": \"netrunner\", \"num_ratings\": 1857, \"norm0\": 5.771557807922363}, {\"title\": \"nations_dice_game\", \"num_ratings\": 4998, \"norm0\": 7.832954406738281}, {\"title\": \"winners_circle\", \"num_ratings\": 4664, \"norm0\": 4.235607624053955}, {\"title\": \"big_book_madness\", \"num_ratings\": 5241, \"norm0\": 7.264167785644531}, {\"title\": \"wilderness_war\", \"num_ratings\": 1241, \"norm0\": 6.803281307220459}, {\"title\": \"loony_quest\", \"num_ratings\": 5454, \"norm0\": 6.382026195526123}, {\"title\": \"distant_plain\", \"num_ratings\": 1266, \"norm0\": 5.488998889923096}, {\"title\": \"tales_games_hare_tortoise\", \"num_ratings\": 3557, \"norm0\": 5.868145942687988}, {\"title\": \"falling_sky_gallic_revolt_against_caesar\", \"num_ratings\": 1279, \"norm0\": 6.628510475158691}, {\"title\": \"icecool\", \"num_ratings\": 8215, \"norm0\": 6.2963995933532715}, {\"title\": \"time_crisis_roman_empire_turmoil_235_284_ad\", \"num_ratings\": 1618, \"norm0\": 6.867991924285889}, {\"title\": \"shadowrun_crossfire\", \"num_ratings\": 3081, \"norm0\": 6.666499137878418}, {\"title\": \"smash\", \"num_ratings\": 20465, \"norm0\": 6.500479698181152}, {\"title\": \"china\", \"num_ratings\": 3992, \"norm0\": 6.805164337158203}, {\"title\": \"linko\", \"num_ratings\": 4158, \"norm0\": 6.86559534072876}, {\"title\": \"quartermaster_general\", \"num_ratings\": 2288, \"norm0\": 7.897423267364502}, {\"title\": \"diamonds_second_edition\", \"num_ratings\": 4924, \"norm0\": 8.1151123046875}, {\"title\": \"witness\", \"num_ratings\": 2415, \"norm0\": 5.9014506340026855}, {\"title\": \"eight_minute_empire_legends\", \"num_ratings\": 4443, \"norm0\": 5.362194538116455}, {\"title\": \"ambush\", \"num_ratings\": 1311, \"norm0\": 5.25099515914917}, {\"title\": \"warhammer_quest\", \"num_ratings\": 1586, \"norm0\": 8.900554656982422}, {\"title\": \"two_rooms_and_boom\", \"num_ratings\": 4216, \"norm0\": 8.123093605041504}, {\"title\": \"watson_holmes\", \"num_ratings\": 2224, \"norm0\": 6.905452251434326}, {\"title\": \"legend_five_rings_card_game\", \"num_ratings\": 1955, \"norm0\": 4.930225849151611}, {\"title\": \"sons_anarchy_men_mayhem\", \"num_ratings\": 2410, \"norm0\": 6.957776069641113}, {\"title\": \"deep_space_d_6\", \"num_ratings\": 2318, \"norm0\": 6.195556163787842}, {\"title\": \"level_7_omega_protocol\", \"num_ratings\": 1832, \"norm0\": 8.515863418579102}, {\"title\": \"animal_upon_animal\", \"num_ratings\": 6682, \"norm0\": 6.623188495635986}, {\"title\": \"fog_love\", \"num_ratings\": 5118, \"norm0\": 7.6999735832214355}, {\"title\": \"coconuts\", \"num_ratings\": 3692, \"norm0\": 7.016149520874023}, {\"title\": \"automania\", \"num_ratings\": 2216, \"norm0\": 7.944559574127197}, {\"title\": \"irish_gauge\", \"num_ratings\": 2141, \"norm0\": 5.3987531661987305}, {\"title\": \"ghost_fightin_treasure_hunters\", \"num_ratings\": 2651, \"norm0\": 5.2985687255859375}, {\"title\": \"primordial_soup\", \"num_ratings\": 4003, \"norm0\": 7.276846885681152}, {\"title\": \"tsuro\", \"num_ratings\": 19778, \"norm0\": 6.02843713760376}, {\"title\": \"risk_star_wars_edition\", \"num_ratings\": 3423, \"norm0\": 3.824448585510254}, {\"title\": \"steam_park\", \"num_ratings\": 5317, \"norm0\": 7.284111022949219}, {\"title\": \"vikings_gone_wild\", \"num_ratings\": 2814, \"norm0\": 6.7403564453125}, {\"title\": \"manoeuvre\", \"num_ratings\": 2006, \"norm0\": 6.328919887542725}, {\"title\": \"mottainai\", \"num_ratings\": 3544, \"norm0\": 6.195618152618408}, {\"title\": \"vanuatu\", \"num_ratings\": 2513, \"norm0\": 5.657352447509766}, {\"title\": \"pathfinder_adventure_card_game_skull_shackles_base\", \"num_ratings\": 2145, \"norm0\": 5.447998523712158}, {\"title\": \"chimera_station\", \"num_ratings\": 2217, \"norm0\": 4.541510581970215}, {\"title\": \"explorers_north_sea\", \"num_ratings\": 2106, \"norm0\": 3.9319772720336914}, {\"title\": \"la_isla\", \"num_ratings\": 5011, \"norm0\": 3.651646137237549}, {\"title\": \"blueprints\", \"num_ratings\": 6017, \"norm0\": 4.736255645751953}, {\"title\": \"prodigals_club\", \"num_ratings\": 2175, \"norm0\": 2.842785358428955}, {\"title\": \"fleet\", \"num_ratings\": 4572, \"norm0\": 5.394987106323242}]}}, {\"mode\": \"vega-lite\"});\n",
       "</script>"
      ],
      "text/plain": [
       "alt.HConcatChart(...)"
      ]
     },
     "execution_count": 372,
     "metadata": {},
     "output_type": "execute_result"
    }
   ],
   "source": [
    "game_embedding_norm(model)"
   ]
  },
  {
   "cell_type": "code",
   "execution_count": 385,
   "metadata": {},
   "outputs": [
    {
     "data": {
      "text/html": [
       "<div>\n",
       "<style scoped>\n",
       "    .dataframe tbody tr th:only-of-type {\n",
       "        vertical-align: middle;\n",
       "    }\n",
       "\n",
       "    .dataframe tbody tr th {\n",
       "        vertical-align: top;\n",
       "    }\n",
       "\n",
       "    .dataframe thead th {\n",
       "        text-align: right;\n",
       "    }\n",
       "</style>\n",
       "<table border=\"1\" class=\"dataframe\">\n",
       "  <thead>\n",
       "    <tr style=\"text-align: right;\">\n",
       "      <th></th>\n",
       "      <th>game_idx</th>\n",
       "      <th>title</th>\n",
       "      <th>year</th>\n",
       "      <th>weight</th>\n",
       "      <th>play_time</th>\n",
       "      <th>ratings</th>\n",
       "      <th>user_ratings</th>\n",
       "      <th>genre</th>\n",
       "    </tr>\n",
       "  </thead>\n",
       "  <tbody>\n",
       "    <tr>\n",
       "      <th>0</th>\n",
       "      <td>244</td>\n",
       "      <td>gloomhaven</td>\n",
       "      <td>2017</td>\n",
       "      <td>3.8673</td>\n",
       "      <td>120</td>\n",
       "      <td>45304</td>\n",
       "      <td>30333</td>\n",
       "      <td>Adventure</td>\n",
       "    </tr>\n",
       "    <tr>\n",
       "      <th>1</th>\n",
       "      <td>43</td>\n",
       "      <td>pandemic_legacy_season_1</td>\n",
       "      <td>2015</td>\n",
       "      <td>2.836</td>\n",
       "      <td>60</td>\n",
       "      <td>43525</td>\n",
       "      <td>34807</td>\n",
       "      <td>Environmental</td>\n",
       "    </tr>\n",
       "    <tr>\n",
       "      <th>2</th>\n",
       "      <td>25</td>\n",
       "      <td>terraforming_mars</td>\n",
       "      <td>2016</td>\n",
       "      <td>3.244</td>\n",
       "      <td>120</td>\n",
       "      <td>69921</td>\n",
       "      <td>51899</td>\n",
       "      <td>Economic</td>\n",
       "    </tr>\n",
       "    <tr>\n",
       "      <th>3</th>\n",
       "      <td>30</td>\n",
       "      <td>star_wars_rebellion</td>\n",
       "      <td>2016</td>\n",
       "      <td>3.7216</td>\n",
       "      <td>240</td>\n",
       "      <td>24459</td>\n",
       "      <td>20138</td>\n",
       "      <td>Civil War</td>\n",
       "    </tr>\n",
       "    <tr>\n",
       "      <th>4</th>\n",
       "      <td>224</td>\n",
       "      <td>through_ages_new_story_civilization</td>\n",
       "      <td>2015</td>\n",
       "      <td>4.4062</td>\n",
       "      <td>120</td>\n",
       "      <td>24493</td>\n",
       "      <td>21548</td>\n",
       "      <td>Card Game</td>\n",
       "    </tr>\n",
       "  </tbody>\n",
       "</table>\n",
       "</div>"
      ],
      "text/plain": [
       "   game_idx                                title  year  weight play_time  \\\n",
       "0       244                           gloomhaven  2017  3.8673       120   \n",
       "1        43             pandemic_legacy_season_1  2015   2.836        60   \n",
       "2        25                    terraforming_mars  2016   3.244       120   \n",
       "3        30                  star_wars_rebellion  2016  3.7216       240   \n",
       "4       224  through_ages_new_story_civilization  2015  4.4062       120   \n",
       "\n",
       "  ratings  user_ratings          genre  \n",
       "0   45304         30333      Adventure  \n",
       "1   43525         34807  Environmental  \n",
       "2   69921         51899       Economic  \n",
       "3   24459         20138      Civil War  \n",
       "4   24493         21548      Card Game  "
      ]
     },
     "execution_count": 385,
     "metadata": {},
     "output_type": "execute_result"
    }
   ],
   "source": [
    "games.head()"
   ]
  },
  {
   "cell_type": "code",
   "execution_count": 373,
   "metadata": {},
   "outputs": [
    {
     "data": {
      "text/html": [
       "<div>\n",
       "<style scoped>\n",
       "    .dataframe tbody tr th:only-of-type {\n",
       "        vertical-align: middle;\n",
       "    }\n",
       "\n",
       "    .dataframe tbody tr th {\n",
       "        vertical-align: top;\n",
       "    }\n",
       "\n",
       "    .dataframe thead th {\n",
       "        text-align: right;\n",
       "    }\n",
       "</style>\n",
       "<table border=\"1\" class=\"dataframe\">\n",
       "  <thead>\n",
       "    <tr style=\"text-align: right;\">\n",
       "      <th></th>\n",
       "      <th>game_id</th>\n",
       "      <th>genre</th>\n",
       "      <th>game_idx</th>\n",
       "    </tr>\n",
       "  </thead>\n",
       "  <tbody>\n",
       "    <tr>\n",
       "      <th>0</th>\n",
       "      <td>1</td>\n",
       "      <td>Economic</td>\n",
       "      <td>0</td>\n",
       "    </tr>\n",
       "    <tr>\n",
       "      <th>1</th>\n",
       "      <td>100423</td>\n",
       "      <td>Adventure</td>\n",
       "      <td>72</td>\n",
       "    </tr>\n",
       "    <tr>\n",
       "      <th>2</th>\n",
       "      <td>100901</td>\n",
       "      <td>Adventure</td>\n",
       "      <td>149</td>\n",
       "    </tr>\n",
       "    <tr>\n",
       "      <th>3</th>\n",
       "      <td>101721</td>\n",
       "      <td>Card Game</td>\n",
       "      <td>230</td>\n",
       "    </tr>\n",
       "    <tr>\n",
       "      <th>4</th>\n",
       "      <td>102652</td>\n",
       "      <td>Card Game</td>\n",
       "      <td>150</td>\n",
       "    </tr>\n",
       "  </tbody>\n",
       "</table>\n",
       "</div>"
      ],
      "text/plain": [
       "  game_id      genre  game_idx\n",
       "0       1   Economic         0\n",
       "1  100423  Adventure        72\n",
       "2  100901  Adventure       149\n",
       "3  101721  Card Game       230\n",
       "4  102652  Card Game       150"
      ]
     },
     "execution_count": 373,
     "metadata": {},
     "output_type": "execute_result"
    }
   ],
   "source": [
    "results = cur.execute('''\n",
    "WITH inner_query AS (\n",
    "SELECT id, category, ROW_NUMBER() OVER (PARTITION BY id)  r\n",
    "\n",
    "FROM BGG_CATEGORIES)\n",
    "\n",
    "SELECT id game_id, category\n",
    "\n",
    "FROM inner_query\n",
    "\n",
    "WHERE 1=1\n",
    "    AND r = 1\n",
    "\n",
    "''')\n",
    "results = results.fetchall()\n",
    "result_li = [r for r in results]\n",
    "game_genres = pd.DataFrame(result_li, columns = ['game_id', 'genre'])\n",
    "game_genres['game_idx'] = game_genres['game_id'].apply(lambda x: game_dict[int(x)])\n",
    "game_genres.head()"
   ]
  },
  {
   "cell_type": "code",
   "execution_count": 374,
   "metadata": {},
   "outputs": [
    {
     "data": {
      "text/plain": [
       "(996, 3)"
      ]
     },
     "execution_count": 374,
     "metadata": {},
     "output_type": "execute_result"
    }
   ],
   "source": [
    "game_genres.shape"
   ]
  },
  {
   "cell_type": "code",
   "execution_count": 375,
   "metadata": {},
   "outputs": [],
   "source": [
    "game_genres = game_genres[['genre', 'game_idx']]"
   ]
  },
  {
   "cell_type": "code",
   "execution_count": 376,
   "metadata": {},
   "outputs": [],
   "source": [
    "try:\n",
    "    del games['genre']\n",
    "except KeyError:\n",
    "    pass"
   ]
  },
  {
   "cell_type": "code",
   "execution_count": 377,
   "metadata": {},
   "outputs": [
    {
     "data": {
      "text/html": [
       "<div>\n",
       "<style scoped>\n",
       "    .dataframe tbody tr th:only-of-type {\n",
       "        vertical-align: middle;\n",
       "    }\n",
       "\n",
       "    .dataframe tbody tr th {\n",
       "        vertical-align: top;\n",
       "    }\n",
       "\n",
       "    .dataframe thead th {\n",
       "        text-align: right;\n",
       "    }\n",
       "</style>\n",
       "<table border=\"1\" class=\"dataframe\">\n",
       "  <thead>\n",
       "    <tr style=\"text-align: right;\">\n",
       "      <th></th>\n",
       "      <th>game_idx</th>\n",
       "      <th>title</th>\n",
       "      <th>year</th>\n",
       "      <th>weight</th>\n",
       "      <th>play_time</th>\n",
       "      <th>ratings</th>\n",
       "      <th>user_ratings</th>\n",
       "      <th>genre</th>\n",
       "    </tr>\n",
       "  </thead>\n",
       "  <tbody>\n",
       "    <tr>\n",
       "      <th>0</th>\n",
       "      <td>244</td>\n",
       "      <td>gloomhaven</td>\n",
       "      <td>2017</td>\n",
       "      <td>3.8673</td>\n",
       "      <td>120</td>\n",
       "      <td>45304</td>\n",
       "      <td>30333</td>\n",
       "      <td>Adventure</td>\n",
       "    </tr>\n",
       "    <tr>\n",
       "      <th>1</th>\n",
       "      <td>43</td>\n",
       "      <td>pandemic_legacy_season_1</td>\n",
       "      <td>2015</td>\n",
       "      <td>2.836</td>\n",
       "      <td>60</td>\n",
       "      <td>43525</td>\n",
       "      <td>34807</td>\n",
       "      <td>Environmental</td>\n",
       "    </tr>\n",
       "    <tr>\n",
       "      <th>2</th>\n",
       "      <td>25</td>\n",
       "      <td>terraforming_mars</td>\n",
       "      <td>2016</td>\n",
       "      <td>3.244</td>\n",
       "      <td>120</td>\n",
       "      <td>69921</td>\n",
       "      <td>51899</td>\n",
       "      <td>Economic</td>\n",
       "    </tr>\n",
       "    <tr>\n",
       "      <th>3</th>\n",
       "      <td>30</td>\n",
       "      <td>star_wars_rebellion</td>\n",
       "      <td>2016</td>\n",
       "      <td>3.7216</td>\n",
       "      <td>240</td>\n",
       "      <td>24459</td>\n",
       "      <td>20138</td>\n",
       "      <td>Civil War</td>\n",
       "    </tr>\n",
       "    <tr>\n",
       "      <th>4</th>\n",
       "      <td>224</td>\n",
       "      <td>through_ages_new_story_civilization</td>\n",
       "      <td>2015</td>\n",
       "      <td>4.4062</td>\n",
       "      <td>120</td>\n",
       "      <td>24493</td>\n",
       "      <td>21548</td>\n",
       "      <td>Card Game</td>\n",
       "    </tr>\n",
       "  </tbody>\n",
       "</table>\n",
       "</div>"
      ],
      "text/plain": [
       "   game_idx                                title  year  weight play_time  \\\n",
       "0       244                           gloomhaven  2017  3.8673       120   \n",
       "1        43             pandemic_legacy_season_1  2015   2.836        60   \n",
       "2        25                    terraforming_mars  2016   3.244       120   \n",
       "3        30                  star_wars_rebellion  2016  3.7216       240   \n",
       "4       224  through_ages_new_story_civilization  2015  4.4062       120   \n",
       "\n",
       "  ratings  user_ratings          genre  \n",
       "0   45304         30333      Adventure  \n",
       "1   43525         34807  Environmental  \n",
       "2   69921         51899       Economic  \n",
       "3   24459         20138      Civil War  \n",
       "4   24493         21548      Card Game  "
      ]
     },
     "execution_count": 377,
     "metadata": {},
     "output_type": "execute_result"
    }
   ],
   "source": [
    "games = games.merge(game_genres, on = ['game_idx'], how='left')\n",
    "games.head()"
   ]
  },
  {
   "cell_type": "code",
   "execution_count": 378,
   "metadata": {},
   "outputs": [
    {
     "data": {
      "text/html": [
       "<div>\n",
       "<style scoped>\n",
       "    .dataframe tbody tr th:only-of-type {\n",
       "        vertical-align: middle;\n",
       "    }\n",
       "\n",
       "    .dataframe tbody tr th {\n",
       "        vertical-align: top;\n",
       "    }\n",
       "\n",
       "    .dataframe thead th {\n",
       "        text-align: right;\n",
       "    }\n",
       "</style>\n",
       "<table border=\"1\" class=\"dataframe\">\n",
       "  <thead>\n",
       "    <tr style=\"text-align: right;\">\n",
       "      <th></th>\n",
       "      <th>game_idx</th>\n",
       "    </tr>\n",
       "    <tr>\n",
       "      <th>genre</th>\n",
       "      <th></th>\n",
       "    </tr>\n",
       "  </thead>\n",
       "  <tbody>\n",
       "    <tr>\n",
       "      <th>Card Game</th>\n",
       "      <td>71</td>\n",
       "    </tr>\n",
       "    <tr>\n",
       "      <th>Adventure</th>\n",
       "      <td>45</td>\n",
       "    </tr>\n",
       "    <tr>\n",
       "      <th>Economic</th>\n",
       "      <td>35</td>\n",
       "    </tr>\n",
       "    <tr>\n",
       "      <th>Bluffing</th>\n",
       "      <td>25</td>\n",
       "    </tr>\n",
       "    <tr>\n",
       "      <th>Ancient</th>\n",
       "      <td>20</td>\n",
       "    </tr>\n",
       "    <tr>\n",
       "      <th>City Building</th>\n",
       "      <td>16</td>\n",
       "    </tr>\n",
       "    <tr>\n",
       "      <th>Animals</th>\n",
       "      <td>15</td>\n",
       "    </tr>\n",
       "    <tr>\n",
       "      <th>Dice</th>\n",
       "      <td>13</td>\n",
       "    </tr>\n",
       "    <tr>\n",
       "      <th>Civilization</th>\n",
       "      <td>11</td>\n",
       "    </tr>\n",
       "    <tr>\n",
       "      <th>Action / Dexterity</th>\n",
       "      <td>10</td>\n",
       "    </tr>\n",
       "  </tbody>\n",
       "</table>\n",
       "</div>"
      ],
      "text/plain": [
       "                    game_idx\n",
       "genre                       \n",
       "Card Game                 71\n",
       "Adventure                 45\n",
       "Economic                  35\n",
       "Bluffing                  25\n",
       "Ancient                   20\n",
       "City Building             16\n",
       "Animals                   15\n",
       "Dice                      13\n",
       "Civilization              11\n",
       "Action / Dexterity        10"
      ]
     },
     "execution_count": 378,
     "metadata": {},
     "output_type": "execute_result"
    }
   ],
   "source": [
    "pd.pivot_table(games, index = ['genre'], values = ['game_idx'], aggfunc='count').sort_values('game_idx', ascending=False).head(10)"
   ]
  },
  {
   "cell_type": "code",
   "execution_count": 379,
   "metadata": {},
   "outputs": [],
   "source": [
    "games.loc[pd.isna(games['genre']), 'genre'] = 'Adventure'"
   ]
  },
  {
   "cell_type": "code",
   "execution_count": 380,
   "metadata": {},
   "outputs": [],
   "source": [
    "def visualize_game_embeddings(data, x, y):\n",
    "  nearest = alt.selection(\n",
    "      type='single', encodings=['x', 'y'], on='mouseover', nearest=True,\n",
    "      empty='none')\n",
    "  base = alt.Chart().mark_circle().encode(\n",
    "      x=x,\n",
    "      y=y,\n",
    "      color=alt.condition(genre_filter, \"genre\", alt.value(\"whitesmoke\")),\n",
    "  ).properties(\n",
    "      width=600,\n",
    "      height=600,\n",
    "      selection=nearest)\n",
    "  text = alt.Chart().mark_text(align='left', dx=5, dy=-5).encode(\n",
    "      x=x,\n",
    "      y=y,\n",
    "      text=alt.condition(nearest, 'title', alt.value('')))\n",
    "  return alt.hconcat(alt.layer(base, text), genre_chart, data=data)"
   ]
  },
  {
   "cell_type": "code",
   "execution_count": 381,
   "metadata": {},
   "outputs": [],
   "source": [
    "def tsne_game_embeddings(model):\n",
    "  \"\"\"Visualizes the movie embeddings, projected using t-SNE with Cosine measure.\n",
    "  Args:\n",
    "    model: A MFModel object.\n",
    "  \"\"\"\n",
    "  tsne = sklearn.manifold.TSNE(\n",
    "      n_components=2, perplexity=40, metric='cosine', early_exaggeration=10.0,\n",
    "      init='pca', verbose=True, n_iter=400)\n",
    "\n",
    "  print('Running t-SNE...')\n",
    "  V_proj = tsne.fit_transform(model.embeddings[\"game_idx\"])\n",
    "  print(len(games.loc[:,'x']), len(V_proj[:, 0]))  \n",
    "    \n",
    "  games.loc[:,'x'] = V_proj[:, 0]\n",
    "  games.loc[:,'y'] = V_proj[:, 1]\n",
    "  return visualize_game_embeddings(game, 'x', 'y')"
   ]
  },
  {
   "cell_type": "code",
   "execution_count": 382,
   "metadata": {},
   "outputs": [
    {
     "data": {
      "text/plain": [
       "373"
      ]
     },
     "execution_count": 382,
     "metadata": {},
     "output_type": "execute_result"
    }
   ],
   "source": [
    "games['game_idx'].nunique()"
   ]
  },
  {
   "cell_type": "code",
   "execution_count": null,
   "metadata": {},
   "outputs": [],
   "source": []
  },
  {
   "cell_type": "code",
   "execution_count": null,
   "metadata": {},
   "outputs": [],
   "source": [
    "tsne_game_embeddings(model)"
   ]
  },
  {
   "cell_type": "code",
   "execution_count": 384,
   "metadata": {},
   "outputs": [
    {
     "data": {
      "text/html": [
       "<div>\n",
       "<style scoped>\n",
       "    .dataframe tbody tr th:only-of-type {\n",
       "        vertical-align: middle;\n",
       "    }\n",
       "\n",
       "    .dataframe tbody tr th {\n",
       "        vertical-align: top;\n",
       "    }\n",
       "\n",
       "    .dataframe thead th {\n",
       "        text-align: right;\n",
       "    }\n",
       "</style>\n",
       "<table border=\"1\" class=\"dataframe\">\n",
       "  <thead>\n",
       "    <tr style=\"text-align: right;\">\n",
       "      <th></th>\n",
       "      <th>game_idx</th>\n",
       "      <th>title</th>\n",
       "      <th>year</th>\n",
       "      <th>weight</th>\n",
       "      <th>play_time</th>\n",
       "      <th>ratings</th>\n",
       "      <th>user_ratings</th>\n",
       "      <th>genre</th>\n",
       "    </tr>\n",
       "  </thead>\n",
       "  <tbody>\n",
       "    <tr>\n",
       "      <th>0</th>\n",
       "      <td>244</td>\n",
       "      <td>gloomhaven</td>\n",
       "      <td>2017</td>\n",
       "      <td>3.8673</td>\n",
       "      <td>120</td>\n",
       "      <td>45304</td>\n",
       "      <td>30333</td>\n",
       "      <td>Adventure</td>\n",
       "    </tr>\n",
       "    <tr>\n",
       "      <th>1</th>\n",
       "      <td>43</td>\n",
       "      <td>pandemic_legacy_season_1</td>\n",
       "      <td>2015</td>\n",
       "      <td>2.836</td>\n",
       "      <td>60</td>\n",
       "      <td>43525</td>\n",
       "      <td>34807</td>\n",
       "      <td>Environmental</td>\n",
       "    </tr>\n",
       "    <tr>\n",
       "      <th>2</th>\n",
       "      <td>25</td>\n",
       "      <td>terraforming_mars</td>\n",
       "      <td>2016</td>\n",
       "      <td>3.244</td>\n",
       "      <td>120</td>\n",
       "      <td>69921</td>\n",
       "      <td>51899</td>\n",
       "      <td>Economic</td>\n",
       "    </tr>\n",
       "    <tr>\n",
       "      <th>3</th>\n",
       "      <td>30</td>\n",
       "      <td>star_wars_rebellion</td>\n",
       "      <td>2016</td>\n",
       "      <td>3.7216</td>\n",
       "      <td>240</td>\n",
       "      <td>24459</td>\n",
       "      <td>20138</td>\n",
       "      <td>Civil War</td>\n",
       "    </tr>\n",
       "    <tr>\n",
       "      <th>4</th>\n",
       "      <td>224</td>\n",
       "      <td>through_ages_new_story_civilization</td>\n",
       "      <td>2015</td>\n",
       "      <td>4.4062</td>\n",
       "      <td>120</td>\n",
       "      <td>24493</td>\n",
       "      <td>21548</td>\n",
       "      <td>Card Game</td>\n",
       "    </tr>\n",
       "  </tbody>\n",
       "</table>\n",
       "</div>"
      ],
      "text/plain": [
       "   game_idx                                title  year  weight play_time  \\\n",
       "0       244                           gloomhaven  2017  3.8673       120   \n",
       "1        43             pandemic_legacy_season_1  2015   2.836        60   \n",
       "2        25                    terraforming_mars  2016   3.244       120   \n",
       "3        30                  star_wars_rebellion  2016  3.7216       240   \n",
       "4       224  through_ages_new_story_civilization  2015  4.4062       120   \n",
       "\n",
       "  ratings  user_ratings          genre  \n",
       "0   45304         30333      Adventure  \n",
       "1   43525         34807  Environmental  \n",
       "2   69921         51899       Economic  \n",
       "3   24459         20138      Civil War  \n",
       "4   24493         21548      Card Game  "
      ]
     },
     "execution_count": 384,
     "metadata": {},
     "output_type": "execute_result"
    }
   ],
   "source": [
    "games.head()"
   ]
  },
  {
   "cell_type": "code",
   "execution_count": null,
   "metadata": {},
   "outputs": [],
   "source": []
  },
  {
   "cell_type": "markdown",
   "metadata": {},
   "source": [
    "# Scratch Code"
   ]
  },
  {
   "cell_type": "code",
   "execution_count": null,
   "metadata": {},
   "outputs": [],
   "source": [
    "# from __future__ import print_function\n",
    "\n",
    "# import numpy as np\n",
    "# import pandas as pd\n",
    "# import collections\n",
    "# from mpl_toolkits.mplot3d import Axes3D\n",
    "# from IPython import display\n",
    "# from matplotlib import pyplot as plt\n",
    "# import sklearn\n",
    "# import sklearn.manifold\n",
    "# import tensorflow.compat.v1 as tf\n",
    "\n",
    "# # Install Altair and activate its colab renderer.\n",
    "# print(\"Installing Altair...\")\n",
    "# !pip install git+git://github.com/altair-viz/altair.git\n",
    "# import altair as alt\n",
    "# alt.data_transformers.enable('default', max_rows=None)\n",
    "# alt.renderers.enable('colab')\n",
    "# print(\"Done installing Altair.\")\n",
    "\n",
    "# # Install spreadsheets and import authentication module.\n",
    "# USER_RATINGS = False\n",
    "# !pip install --upgrade -q gspread\n",
    "# from google.colab import auth\n",
    "# import gspread\n",
    "# from oauth2client.client import GoogleCredentials"
   ]
  },
  {
   "cell_type": "code",
   "execution_count": null,
   "metadata": {},
   "outputs": [],
   "source": []
  }
 ],
 "metadata": {
  "kernelspec": {
   "display_name": "Python 3",
   "language": "python",
   "name": "python3"
  },
  "language_info": {
   "codemirror_mode": {
    "name": "ipython",
    "version": 3
   },
   "file_extension": ".py",
   "mimetype": "text/x-python",
   "name": "python",
   "nbconvert_exporter": "python",
   "pygments_lexer": "ipython3",
   "version": "3.7.6"
  }
 },
 "nbformat": 4,
 "nbformat_minor": 4
}
