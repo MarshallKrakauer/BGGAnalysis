{
 "cells": [
  {
   "cell_type": "markdown",
   "metadata": {},
   "source": [
    "File is in early stages. Currently working on putting together the correct dataframe"
   ]
  },
  {
   "cell_type": "code",
   "execution_count": 37,
   "metadata": {},
   "outputs": [],
   "source": [
    "import requests\n",
    "from lxml import etree\n",
    "from bs4 import BeautifulSoup\n",
    "import pandas as pd\n",
    "import numpy as np\n",
    "import time\n",
    "import sqlite3\n",
    "import seaborn as sns"
   ]
  },
  {
   "cell_type": "code",
   "execution_count": 38,
   "metadata": {},
   "outputs": [],
   "source": [
    "sns.set(rc={'figure.figsize':(10,8)})"
   ]
  },
  {
   "cell_type": "code",
   "execution_count": 39,
   "metadata": {},
   "outputs": [],
   "source": [
    "con = sqlite3.connect('bgg.db')\n",
    "cur = con.cursor()"
   ]
  },
  {
   "cell_type": "code",
   "execution_count": 40,
   "metadata": {},
   "outputs": [],
   "source": [
    "query = '''\n",
    " SELECT t1.id, CAST(t1.player_count AS INT64) player_count, t1.player_recommendation rec, CAST(t1.votes AS INT64) votes,\n",
    " SUM(CAST(votes AS INT64)) OVER (PARTITION BY t1.id) game_votes,\n",
    " SUM(CAST(votes AS INT64)) OVER (PARTITION BY t1.id, player_count) player_votes,\n",
    " CAST(t2.min_players AS INT64) min, CAST(t2.max_players AS INT64) max,\n",
    " \n",
    " -- column created for the sole purposes of ordering results\n",
    " CASE WHEN player_recommendation = 'Not Recommended' THEN 0\n",
    "      WHEN player_recommendation = 'Recommended' THEN 1\n",
    "      WHEN player_recommendation = 'Best' THEN 2\n",
    "      ELSE NULL END order_col\n",
    " \n",
    " FROM BGG_PLAYER_RATINGS t1\n",
    "     INNER JOIN TOP_GAMES_FULL t2\n",
    "         ON t1.id = t2.id\n",
    " \n",
    " WHERE 1=1\n",
    "     -- Remove the player counts that aren't possible, eg \"5+\"\n",
    "     AND player_count NOT LIKE '%+%'\n",
    "     AND CAST(t1.player_count AS INT64) >= t2.min_players\n",
    "     AND CAST(t1.player_count AS INT64) <= t2.max_players\n",
    " \n",
    " ORDER BY t1.id ASC, player_count ASC, order_col ASC\n",
    "'''\n",
    "\n",
    "results = cur.execute(query)\n",
    "result_li = [elem for elem in results.fetchall()]\n",
    "result_df = pd.DataFrame(result_li)\n",
    "result_df.columns = ['id', 'players', 'rec', 'votes', 'game_votes', 'player_votes', 'min', 'max','temp']\n",
    "result_df.drop('temp', axis = 1, inplace=True)"
   ]
  },
  {
   "cell_type": "code",
   "execution_count": 41,
   "metadata": {},
   "outputs": [],
   "source": [
    "result_df['vote_percent'] = result_df['votes'] / result_df['player_votes']"
   ]
  },
  {
   "cell_type": "code",
   "execution_count": 42,
   "metadata": {},
   "outputs": [
    {
     "data": {
      "text/html": [
       "<div>\n",
       "<style scoped>\n",
       "    .dataframe tbody tr th:only-of-type {\n",
       "        vertical-align: middle;\n",
       "    }\n",
       "\n",
       "    .dataframe tbody tr th {\n",
       "        vertical-align: top;\n",
       "    }\n",
       "\n",
       "    .dataframe thead th {\n",
       "        text-align: right;\n",
       "    }\n",
       "</style>\n",
       "<table border=\"1\" class=\"dataframe\">\n",
       "  <thead>\n",
       "    <tr style=\"text-align: right;\">\n",
       "      <th></th>\n",
       "      <th>id</th>\n",
       "      <th>players</th>\n",
       "      <th>rec</th>\n",
       "      <th>votes</th>\n",
       "      <th>game_votes</th>\n",
       "      <th>player_votes</th>\n",
       "      <th>min</th>\n",
       "      <th>max</th>\n",
       "      <th>vote_percent</th>\n",
       "    </tr>\n",
       "  </thead>\n",
       "  <tbody>\n",
       "    <tr>\n",
       "      <th>3510</th>\n",
       "      <td>174430</td>\n",
       "      <td>1</td>\n",
       "      <td>Not Recommended</td>\n",
       "      <td>270</td>\n",
       "      <td>3927</td>\n",
       "      <td>916</td>\n",
       "      <td>1</td>\n",
       "      <td>4</td>\n",
       "      <td>0.294760</td>\n",
       "    </tr>\n",
       "    <tr>\n",
       "      <th>3511</th>\n",
       "      <td>174430</td>\n",
       "      <td>1</td>\n",
       "      <td>Recommended</td>\n",
       "      <td>521</td>\n",
       "      <td>3927</td>\n",
       "      <td>916</td>\n",
       "      <td>1</td>\n",
       "      <td>4</td>\n",
       "      <td>0.568777</td>\n",
       "    </tr>\n",
       "    <tr>\n",
       "      <th>3512</th>\n",
       "      <td>174430</td>\n",
       "      <td>1</td>\n",
       "      <td>Best</td>\n",
       "      <td>125</td>\n",
       "      <td>3927</td>\n",
       "      <td>916</td>\n",
       "      <td>1</td>\n",
       "      <td>4</td>\n",
       "      <td>0.136463</td>\n",
       "    </tr>\n",
       "    <tr>\n",
       "      <th>3513</th>\n",
       "      <td>174430</td>\n",
       "      <td>2</td>\n",
       "      <td>Not Recommended</td>\n",
       "      <td>67</td>\n",
       "      <td>3927</td>\n",
       "      <td>1024</td>\n",
       "      <td>1</td>\n",
       "      <td>4</td>\n",
       "      <td>0.065430</td>\n",
       "    </tr>\n",
       "    <tr>\n",
       "      <th>3514</th>\n",
       "      <td>174430</td>\n",
       "      <td>2</td>\n",
       "      <td>Recommended</td>\n",
       "      <td>671</td>\n",
       "      <td>3927</td>\n",
       "      <td>1024</td>\n",
       "      <td>1</td>\n",
       "      <td>4</td>\n",
       "      <td>0.655273</td>\n",
       "    </tr>\n",
       "    <tr>\n",
       "      <th>3515</th>\n",
       "      <td>174430</td>\n",
       "      <td>2</td>\n",
       "      <td>Best</td>\n",
       "      <td>286</td>\n",
       "      <td>3927</td>\n",
       "      <td>1024</td>\n",
       "      <td>1</td>\n",
       "      <td>4</td>\n",
       "      <td>0.279297</td>\n",
       "    </tr>\n",
       "    <tr>\n",
       "      <th>3516</th>\n",
       "      <td>174430</td>\n",
       "      <td>3</td>\n",
       "      <td>Not Recommended</td>\n",
       "      <td>30</td>\n",
       "      <td>3927</td>\n",
       "      <td>1011</td>\n",
       "      <td>1</td>\n",
       "      <td>4</td>\n",
       "      <td>0.029674</td>\n",
       "    </tr>\n",
       "    <tr>\n",
       "      <th>3517</th>\n",
       "      <td>174430</td>\n",
       "      <td>3</td>\n",
       "      <td>Recommended</td>\n",
       "      <td>401</td>\n",
       "      <td>3927</td>\n",
       "      <td>1011</td>\n",
       "      <td>1</td>\n",
       "      <td>4</td>\n",
       "      <td>0.396637</td>\n",
       "    </tr>\n",
       "    <tr>\n",
       "      <th>3518</th>\n",
       "      <td>174430</td>\n",
       "      <td>3</td>\n",
       "      <td>Best</td>\n",
       "      <td>580</td>\n",
       "      <td>3927</td>\n",
       "      <td>1011</td>\n",
       "      <td>1</td>\n",
       "      <td>4</td>\n",
       "      <td>0.573689</td>\n",
       "    </tr>\n",
       "    <tr>\n",
       "      <th>3519</th>\n",
       "      <td>174430</td>\n",
       "      <td>4</td>\n",
       "      <td>Not Recommended</td>\n",
       "      <td>137</td>\n",
       "      <td>3927</td>\n",
       "      <td>976</td>\n",
       "      <td>1</td>\n",
       "      <td>4</td>\n",
       "      <td>0.140369</td>\n",
       "    </tr>\n",
       "    <tr>\n",
       "      <th>3520</th>\n",
       "      <td>174430</td>\n",
       "      <td>4</td>\n",
       "      <td>Recommended</td>\n",
       "      <td>469</td>\n",
       "      <td>3927</td>\n",
       "      <td>976</td>\n",
       "      <td>1</td>\n",
       "      <td>4</td>\n",
       "      <td>0.480533</td>\n",
       "    </tr>\n",
       "    <tr>\n",
       "      <th>3521</th>\n",
       "      <td>174430</td>\n",
       "      <td>4</td>\n",
       "      <td>Best</td>\n",
       "      <td>370</td>\n",
       "      <td>3927</td>\n",
       "      <td>976</td>\n",
       "      <td>1</td>\n",
       "      <td>4</td>\n",
       "      <td>0.379098</td>\n",
       "    </tr>\n",
       "  </tbody>\n",
       "</table>\n",
       "</div>"
      ],
      "text/plain": [
       "          id  players              rec  votes  game_votes  player_votes  min  \\\n",
       "3510  174430        1  Not Recommended    270        3927           916    1   \n",
       "3511  174430        1      Recommended    521        3927           916    1   \n",
       "3512  174430        1             Best    125        3927           916    1   \n",
       "3513  174430        2  Not Recommended     67        3927          1024    1   \n",
       "3514  174430        2      Recommended    671        3927          1024    1   \n",
       "3515  174430        2             Best    286        3927          1024    1   \n",
       "3516  174430        3  Not Recommended     30        3927          1011    1   \n",
       "3517  174430        3      Recommended    401        3927          1011    1   \n",
       "3518  174430        3             Best    580        3927          1011    1   \n",
       "3519  174430        4  Not Recommended    137        3927           976    1   \n",
       "3520  174430        4      Recommended    469        3927           976    1   \n",
       "3521  174430        4             Best    370        3927           976    1   \n",
       "\n",
       "      max  vote_percent  \n",
       "3510    4      0.294760  \n",
       "3511    4      0.568777  \n",
       "3512    4      0.136463  \n",
       "3513    4      0.065430  \n",
       "3514    4      0.655273  \n",
       "3515    4      0.279297  \n",
       "3516    4      0.029674  \n",
       "3517    4      0.396637  \n",
       "3518    4      0.573689  \n",
       "3519    4      0.140369  \n",
       "3520    4      0.480533  \n",
       "3521    4      0.379098  "
      ]
     },
     "execution_count": 42,
     "metadata": {},
     "output_type": "execute_result"
    }
   ],
   "source": [
    "# Checking query with Gloomhaven\n",
    "result_df[result_df['id'] == '174430']"
   ]
  },
  {
   "cell_type": "code",
   "execution_count": 43,
   "metadata": {},
   "outputs": [],
   "source": [
    "# Testing to see if the math works\n",
    "assert 270 + 521 + 125 == 916"
   ]
  },
  {
   "cell_type": "code",
   "execution_count": 44,
   "metadata": {},
   "outputs": [
    {
     "data": {
      "text/html": [
       "<div>\n",
       "<style scoped>\n",
       "    .dataframe tbody tr th:only-of-type {\n",
       "        vertical-align: middle;\n",
       "    }\n",
       "\n",
       "    .dataframe tbody tr th {\n",
       "        vertical-align: top;\n",
       "    }\n",
       "\n",
       "    .dataframe thead th {\n",
       "        text-align: right;\n",
       "    }\n",
       "</style>\n",
       "<table border=\"1\" class=\"dataframe\">\n",
       "  <thead>\n",
       "    <tr style=\"text-align: right;\">\n",
       "      <th></th>\n",
       "      <th>id</th>\n",
       "      <th>players</th>\n",
       "      <th>rec</th>\n",
       "      <th>votes</th>\n",
       "      <th>game_votes</th>\n",
       "      <th>player_votes</th>\n",
       "      <th>min</th>\n",
       "      <th>max</th>\n",
       "      <th>vote_percent</th>\n",
       "    </tr>\n",
       "  </thead>\n",
       "  <tbody>\n",
       "    <tr>\n",
       "      <th>7008</th>\n",
       "      <td>246192</td>\n",
       "      <td>2</td>\n",
       "      <td>Not Recommended</td>\n",
       "      <td>2</td>\n",
       "      <td>249</td>\n",
       "      <td>88</td>\n",
       "      <td>2</td>\n",
       "      <td>4</td>\n",
       "      <td>0.022727</td>\n",
       "    </tr>\n",
       "    <tr>\n",
       "      <th>7009</th>\n",
       "      <td>246192</td>\n",
       "      <td>2</td>\n",
       "      <td>Recommended</td>\n",
       "      <td>48</td>\n",
       "      <td>249</td>\n",
       "      <td>88</td>\n",
       "      <td>2</td>\n",
       "      <td>4</td>\n",
       "      <td>0.545455</td>\n",
       "    </tr>\n",
       "    <tr>\n",
       "      <th>7010</th>\n",
       "      <td>246192</td>\n",
       "      <td>2</td>\n",
       "      <td>Best</td>\n",
       "      <td>38</td>\n",
       "      <td>249</td>\n",
       "      <td>88</td>\n",
       "      <td>2</td>\n",
       "      <td>4</td>\n",
       "      <td>0.431818</td>\n",
       "    </tr>\n",
       "    <tr>\n",
       "      <th>7011</th>\n",
       "      <td>246192</td>\n",
       "      <td>3</td>\n",
       "      <td>Not Recommended</td>\n",
       "      <td>1</td>\n",
       "      <td>249</td>\n",
       "      <td>86</td>\n",
       "      <td>2</td>\n",
       "      <td>4</td>\n",
       "      <td>0.011628</td>\n",
       "    </tr>\n",
       "    <tr>\n",
       "      <th>7012</th>\n",
       "      <td>246192</td>\n",
       "      <td>3</td>\n",
       "      <td>Recommended</td>\n",
       "      <td>34</td>\n",
       "      <td>249</td>\n",
       "      <td>86</td>\n",
       "      <td>2</td>\n",
       "      <td>4</td>\n",
       "      <td>0.395349</td>\n",
       "    </tr>\n",
       "    <tr>\n",
       "      <th>7013</th>\n",
       "      <td>246192</td>\n",
       "      <td>3</td>\n",
       "      <td>Best</td>\n",
       "      <td>51</td>\n",
       "      <td>249</td>\n",
       "      <td>86</td>\n",
       "      <td>2</td>\n",
       "      <td>4</td>\n",
       "      <td>0.593023</td>\n",
       "    </tr>\n",
       "    <tr>\n",
       "      <th>7014</th>\n",
       "      <td>246192</td>\n",
       "      <td>4</td>\n",
       "      <td>Not Recommended</td>\n",
       "      <td>5</td>\n",
       "      <td>249</td>\n",
       "      <td>75</td>\n",
       "      <td>2</td>\n",
       "      <td>4</td>\n",
       "      <td>0.066667</td>\n",
       "    </tr>\n",
       "    <tr>\n",
       "      <th>7015</th>\n",
       "      <td>246192</td>\n",
       "      <td>4</td>\n",
       "      <td>Recommended</td>\n",
       "      <td>44</td>\n",
       "      <td>249</td>\n",
       "      <td>75</td>\n",
       "      <td>2</td>\n",
       "      <td>4</td>\n",
       "      <td>0.586667</td>\n",
       "    </tr>\n",
       "    <tr>\n",
       "      <th>7016</th>\n",
       "      <td>246192</td>\n",
       "      <td>4</td>\n",
       "      <td>Best</td>\n",
       "      <td>26</td>\n",
       "      <td>249</td>\n",
       "      <td>75</td>\n",
       "      <td>2</td>\n",
       "      <td>4</td>\n",
       "      <td>0.346667</td>\n",
       "    </tr>\n",
       "  </tbody>\n",
       "</table>\n",
       "</div>"
      ],
      "text/plain": [
       "          id  players              rec  votes  game_votes  player_votes  min  \\\n",
       "7008  246192        2  Not Recommended      2         249            88    2   \n",
       "7009  246192        2      Recommended     48         249            88    2   \n",
       "7010  246192        2             Best     38         249            88    2   \n",
       "7011  246192        3  Not Recommended      1         249            86    2   \n",
       "7012  246192        3      Recommended     34         249            86    2   \n",
       "7013  246192        3             Best     51         249            86    2   \n",
       "7014  246192        4  Not Recommended      5         249            75    2   \n",
       "7015  246192        4      Recommended     44         249            75    2   \n",
       "7016  246192        4             Best     26         249            75    2   \n",
       "\n",
       "      max  vote_percent  \n",
       "7008    4      0.022727  \n",
       "7009    4      0.545455  \n",
       "7010    4      0.431818  \n",
       "7011    4      0.011628  \n",
       "7012    4      0.395349  \n",
       "7013    4      0.593023  \n",
       "7014    4      0.066667  \n",
       "7015    4      0.586667  \n",
       "7016    4      0.346667  "
      ]
     },
     "execution_count": 44,
     "metadata": {},
     "output_type": "execute_result"
    }
   ],
   "source": [
    "# Checking a game with no official single player\n",
    "result_df[result_df['id'] == '246192']"
   ]
  },
  {
   "cell_type": "code",
   "execution_count": 45,
   "metadata": {},
   "outputs": [
    {
     "data": {
      "text/plain": [
       "(4, 9)"
      ]
     },
     "execution_count": 45,
     "metadata": {},
     "output_type": "execute_result"
    }
   ],
   "source": [
    "result_df['player_votes'].min(), result_df['game_votes'].min()"
   ]
  },
  {
   "cell_type": "code",
   "execution_count": 46,
   "metadata": {},
   "outputs": [
    {
     "data": {
      "text/plain": [
       "<matplotlib.axes._subplots.AxesSubplot at 0x2bd7d9cb6c8>"
      ]
     },
     "execution_count": 46,
     "metadata": {},
     "output_type": "execute_result"
    },
    {
     "data": {
      "image/png": "[encoded data removed]",
      "text/plain": [
       "<Figure size 720x576 with 1 Axes>"
      ]
     },
     "metadata": {},
     "output_type": "display_data"
    }
   ],
   "source": [
    "df_for_visual = result_df.drop_duplicates(subset =['id','players'])\n",
    "df_for_visual = df_for_visual[df_for_visual['game_votes'] < 1000]\n",
    "sns.distplot(df_for_visual['game_votes'])"
   ]
  },
  {
   "cell_type": "markdown",
   "metadata": {},
   "source": [
    "Interesting to see some games with very few votes. Will probably have to remove them from the sample"
   ]
  },
  {
   "cell_type": "code",
   "execution_count": 47,
   "metadata": {},
   "outputs": [
    {
     "name": "stdout",
     "output_type": "stream",
     "text": [
      "New datasets contains 883 unique games.\n"
     ]
    },
    {
     "name": "stderr",
     "output_type": "stream",
     "text": [
      "C:\\Users\\18053\\Anaconda3\\lib\\site-packages\\ipykernel_launcher.py:3: SettingWithCopyWarning: \n",
      "A value is trying to be set on a copy of a slice from a DataFrame.\n",
      "Try using .loc[row_indexer,col_indexer] = value instead\n",
      "\n",
      "See the caveats in the documentation: http://pandas.pydata.org/pandas-docs/stable/user_guide/indexing.html#returning-a-view-versus-a-copy\n",
      "  This is separate from the ipykernel package so we can avoid doing imports until\n",
      "C:\\Users\\18053\\Anaconda3\\lib\\site-packages\\pandas\\core\\frame.py:4117: SettingWithCopyWarning: \n",
      "A value is trying to be set on a copy of a slice from a DataFrame\n",
      "\n",
      "See the caveats in the documentation: http://pandas.pydata.org/pandas-docs/stable/user_guide/indexing.html#returning-a-view-versus-a-copy\n",
      "  errors=errors,\n"
     ]
    }
   ],
   "source": [
    "# Get the percent of people who chose recommended or best for a given player count\n",
    "recommending = result_df.loc[result_df['rec'] == 'Not Recommended', :]\n",
    "recommending['percent_rec'] = 1 - recommending['vote_percent']\n",
    "recommending.drop(['vote_percent', 'rec'], axis=1, inplace=True)\n",
    "\n",
    "# Let's set a minimum of 100 total player count votes for the game\n",
    "recommending = recommending.loc[recommending['game_votes'] >= 100, :]\n",
    "print('New datasets contains {} unique games.'.format(recommending['id'].nunique()))"
   ]
  },
  {
   "cell_type": "code",
   "execution_count": 48,
   "metadata": {},
   "outputs": [
    {
     "data": {
      "text/html": [
       "<div>\n",
       "<style scoped>\n",
       "    .dataframe tbody tr th:only-of-type {\n",
       "        vertical-align: middle;\n",
       "    }\n",
       "\n",
       "    .dataframe tbody tr th {\n",
       "        vertical-align: top;\n",
       "    }\n",
       "\n",
       "    .dataframe thead th {\n",
       "        text-align: right;\n",
       "    }\n",
       "</style>\n",
       "<table border=\"1\" class=\"dataframe\">\n",
       "  <thead>\n",
       "    <tr style=\"text-align: right;\">\n",
       "      <th></th>\n",
       "      <th>id</th>\n",
       "      <th>players</th>\n",
       "      <th>votes</th>\n",
       "      <th>game_votes</th>\n",
       "      <th>player_votes</th>\n",
       "      <th>min</th>\n",
       "      <th>max</th>\n",
       "      <th>percent_rec</th>\n",
       "    </tr>\n",
       "  </thead>\n",
       "  <tbody>\n",
       "    <tr>\n",
       "      <th>3789</th>\n",
       "      <td>179172</td>\n",
       "      <td>1</td>\n",
       "      <td>34</td>\n",
       "      <td>198</td>\n",
       "      <td>35</td>\n",
       "      <td>1</td>\n",
       "      <td>4</td>\n",
       "      <td>0.028571</td>\n",
       "    </tr>\n",
       "    <tr>\n",
       "      <th>4500</th>\n",
       "      <td>194607</td>\n",
       "      <td>1</td>\n",
       "      <td>53</td>\n",
       "      <td>142</td>\n",
       "      <td>55</td>\n",
       "      <td>1</td>\n",
       "      <td>2</td>\n",
       "      <td>0.036364</td>\n",
       "    </tr>\n",
       "    <tr>\n",
       "      <th>5409</th>\n",
       "      <td>21241</td>\n",
       "      <td>1</td>\n",
       "      <td>156</td>\n",
       "      <td>1047</td>\n",
       "      <td>181</td>\n",
       "      <td>1</td>\n",
       "      <td>4</td>\n",
       "      <td>0.138122</td>\n",
       "    </tr>\n",
       "    <tr>\n",
       "      <th>9483</th>\n",
       "      <td>4098</td>\n",
       "      <td>1</td>\n",
       "      <td>76</td>\n",
       "      <td>720</td>\n",
       "      <td>90</td>\n",
       "      <td>1</td>\n",
       "      <td>6</td>\n",
       "      <td>0.155556</td>\n",
       "    </tr>\n",
       "    <tr>\n",
       "      <th>10470</th>\n",
       "      <td>69789</td>\n",
       "      <td>1</td>\n",
       "      <td>96</td>\n",
       "      <td>634</td>\n",
       "      <td>118</td>\n",
       "      <td>1</td>\n",
       "      <td>4</td>\n",
       "      <td>0.186441</td>\n",
       "    </tr>\n",
       "  </tbody>\n",
       "</table>\n",
       "</div>"
      ],
      "text/plain": [
       "           id  players  votes  game_votes  player_votes  min  max  percent_rec\n",
       "3789   179172        1     34         198            35    1    4     0.028571\n",
       "4500   194607        1     53         142            55    1    2     0.036364\n",
       "5409    21241        1    156        1047           181    1    4     0.138122\n",
       "9483     4098        1     76         720            90    1    6     0.155556\n",
       "10470   69789        1     96         634           118    1    4     0.186441"
      ]
     },
     "execution_count": 48,
     "metadata": {},
     "output_type": "execute_result"
    }
   ],
   "source": [
    "# Let's check games that offer a single player mode, but it gets poor results\n",
    "recommending[recommending['players'] == 1].sort_values('percent_rec').head(5)"
   ]
  },
  {
   "cell_type": "markdown",
   "metadata": {},
   "source": [
    "Some games may technically offer a solo mode, but they're bad enough that most players would ignore them"
   ]
  },
  {
   "cell_type": "code",
   "execution_count": 49,
   "metadata": {},
   "outputs": [
    {
     "data": {
      "text/plain": [
       "0.7670542635658915"
      ]
     },
     "execution_count": 49,
     "metadata": {},
     "output_type": "execute_result"
    }
   ],
   "source": [
    "# How good are solo modes usually?\n",
    "# Note, removing pure solo games\n",
    "recommending.loc[(recommending['players'] == 1) & (recommending['max'] != 1), 'percent_rec'].median()"
   ]
  },
  {
   "cell_type": "markdown",
   "metadata": {},
   "source": [
    "Majority of these have at least 75% approval, so there are quite a few solid solo modes\n",
    "\n",
    "Let's get a list of games with a solo mode"
   ]
  },
  {
   "cell_type": "code",
   "execution_count": 64,
   "metadata": {},
   "outputs": [],
   "source": [
    "# I will rename the percent_rec column so it doesn't cause conflicts when joining\n",
    "\n",
    "# Games with any solo mode\n",
    "any_solo = recommending.loc[recommending['players'] == 1,['id', 'percent_rec']]\n",
    "any_solo.columns = ['id', 'approved_percent_solo']\n",
    "\n",
    "# Games with enough ratings\n",
    "enough_ratings = recommending.loc[:, ['id', 'percent_rec']]\n",
    "enough_ratings.drop_duplicates(subset='id',keep='first', inplace=True)\n",
    "enough_ratings.columns = ['id', 'approved_percent_all']"
   ]
  },
  {
   "cell_type": "markdown",
   "metadata": {},
   "source": [
    "Let's get the ratings and weight from the SQL tables"
   ]
  },
  {
   "cell_type": "code",
   "execution_count": 107,
   "metadata": {},
   "outputs": [],
   "source": [
    "query = '''\n",
    " SELECT t1.id, CAST(t1.avg_rating AS FLOAT64) rating, CAST(t1.weight as FLOAT64) weight\n",
    " \n",
    " FROM TOP_GAMES_FULL t1\n",
    "'''\n",
    "\n",
    "results = cur.execute(query)\n",
    "result_li = [elem for elem in results.fetchall()]\n",
    "rating_df = pd.DataFrame(result_li, columns = ['id', 'score', 'weight'])"
   ]
  },
  {
   "cell_type": "code",
   "execution_count": 108,
   "metadata": {},
   "outputs": [],
   "source": [
    "# Filter down to only the ones with enough player ratings\n",
    "\n",
    "new_df = rating_df.merge(enough_ratings, how = 'inner', on = 'id')\n",
    "\n",
    "# Check to make sure there's the right number of data points\n",
    "assert new_df.shape[0] == 883\n",
    "\n",
    "new_df.drop('approved_percent_all', axis=1,inplace=True)"
   ]
  },
  {
   "cell_type": "code",
   "execution_count": 109,
   "metadata": {},
   "outputs": [
    {
     "data": {
      "text/html": [
       "<div>\n",
       "<style scoped>\n",
       "    .dataframe tbody tr th:only-of-type {\n",
       "        vertical-align: middle;\n",
       "    }\n",
       "\n",
       "    .dataframe tbody tr th {\n",
       "        vertical-align: top;\n",
       "    }\n",
       "\n",
       "    .dataframe thead th {\n",
       "        text-align: right;\n",
       "    }\n",
       "</style>\n",
       "<table border=\"1\" class=\"dataframe\">\n",
       "  <thead>\n",
       "    <tr style=\"text-align: right;\">\n",
       "      <th></th>\n",
       "      <th>id</th>\n",
       "      <th>score</th>\n",
       "      <th>weight</th>\n",
       "      <th>approved_percent_solo</th>\n",
       "      <th>has_solo</th>\n",
       "    </tr>\n",
       "  </thead>\n",
       "  <tbody>\n",
       "    <tr>\n",
       "      <th>0</th>\n",
       "      <td>174430</td>\n",
       "      <td>8.76798</td>\n",
       "      <td>3.8673</td>\n",
       "      <td>0.705240</td>\n",
       "      <td>1</td>\n",
       "    </tr>\n",
       "    <tr>\n",
       "      <th>1</th>\n",
       "      <td>161936</td>\n",
       "      <td>8.60479</td>\n",
       "      <td>2.8360</td>\n",
       "      <td>NaN</td>\n",
       "      <td>0</td>\n",
       "    </tr>\n",
       "    <tr>\n",
       "      <th>2</th>\n",
       "      <td>224517</td>\n",
       "      <td>8.66929</td>\n",
       "      <td>3.9084</td>\n",
       "      <td>NaN</td>\n",
       "      <td>0</td>\n",
       "    </tr>\n",
       "    <tr>\n",
       "      <th>3</th>\n",
       "      <td>167791</td>\n",
       "      <td>8.42470</td>\n",
       "      <td>3.2440</td>\n",
       "      <td>0.785266</td>\n",
       "      <td>1</td>\n",
       "    </tr>\n",
       "    <tr>\n",
       "      <th>4</th>\n",
       "      <td>291457</td>\n",
       "      <td>8.75730</td>\n",
       "      <td>3.5590</td>\n",
       "      <td>0.854251</td>\n",
       "      <td>1</td>\n",
       "    </tr>\n",
       "  </tbody>\n",
       "</table>\n",
       "</div>"
      ],
      "text/plain": [
       "       id    score  weight  approved_percent_solo  has_solo\n",
       "0  174430  8.76798  3.8673               0.705240         1\n",
       "1  161936  8.60479  2.8360                    NaN         0\n",
       "2  224517  8.66929  3.9084                    NaN         0\n",
       "3  167791  8.42470  3.2440               0.785266         1\n",
       "4  291457  8.75730  3.5590               0.854251         1"
      ]
     },
     "execution_count": 109,
     "metadata": {},
     "output_type": "execute_result"
    }
   ],
   "source": [
    "new_df = new_df.merge(any_solo, on = ['id'], how = 'left')\n",
    "new_df.loc[:, 'has_solo'] = np.where(new_df['approved_percent_solo'] > 0, 1, 0)\n",
    "new_df.head()"
   ]
  },
  {
   "cell_type": "code",
   "execution_count": 92,
   "metadata": {},
   "outputs": [
    {
     "data": {
      "text/plain": [
       "False"
      ]
     },
     "execution_count": 92,
     "metadata": {},
     "output_type": "execute_result"
    }
   ],
   "source": [
    "new_df.iloc[1,3] == float(np.nan)"
   ]
  },
  {
   "cell_type": "code",
   "execution_count": null,
   "metadata": {},
   "outputs": [],
   "source": []
  }
 ],
 "metadata": {
  "kernelspec": {
   "display_name": "Python 3",
   "language": "python",
   "name": "python3"
  },
  "language_info": {
   "codemirror_mode": {
    "name": "ipython",
    "version": 3
   },
   "file_extension": ".py",
   "mimetype": "text/x-python",
   "name": "python",
   "nbconvert_exporter": "python",
   "pygments_lexer": "ipython3",
   "version": "3.7.6"
  }
 },
 "nbformat": 4,
 "nbformat_minor": 4
}
