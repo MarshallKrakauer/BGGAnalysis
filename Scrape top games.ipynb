{
 "cells": [
  {
   "cell_type": "code",
   "execution_count": 25,
   "metadata": {},
   "outputs": [],
   "source": [
    "from bs4 import BeautifulSoup\n",
    "import numpy as np\n",
    "import matplotlib.pyplot as plt\n",
    "import pandas as pd\n",
    "import requests\n",
    "import re"
   ]
  },
  {
   "cell_type": "code",
   "execution_count": 5,
   "metadata": {},
   "outputs": [],
   "source": [
    "#r = request(\"https://boardgamegeek.com/browse/boardgame/page/%i?sort=numvoters&sortdir=desc\" % (npage,))\n",
    "r = requests.get(\"https://boardgamegeek.com/browse/boardgame/page/%1?sort=numvoters&sortdir=desc\")\n",
    "soup = BeautifulSoup(r.text, \"html.parser\")    "
   ]
  },
  {
   "cell_type": "code",
   "execution_count": 7,
   "metadata": {},
   "outputs": [],
   "source": [
    "rank_table = soup.find_all(\"tr\", attrs={\"id\": \"row_\"})"
   ]
  },
  {
   "cell_type": "code",
   "execution_count": 57,
   "metadata": {},
   "outputs": [
    {
     "name": "stdout",
     "output_type": "stream",
     "text": [
      "2008\n",
      "2000\n",
      "1995\n",
      "2010\n",
      "2008\n",
      "2004\n",
      "2015\n",
      "2016\n",
      "2015\n",
      "2007\n",
      "2002\n",
      "2009\n",
      "2014\n",
      "2016\n",
      "2005\n",
      "2011\n",
      "2017\n",
      "2012\n",
      "2004\n",
      "2008\n",
      "2019\n",
      "2014\n",
      "2000\n",
      "2011\n",
      "2007\n",
      "2012\n",
      "2008\n",
      "2017\n",
      "2015\n",
      "2010\n",
      "2001\n",
      "2005\n",
      "2012\n",
      "2014\n",
      "2010\n",
      "2009\n",
      "1997\n",
      "1999\n",
      "2004\n",
      "2012\n",
      "2014\n",
      "2005\n",
      "2011\n",
      "2009\n",
      "2013\n",
      "2012\n",
      "2015\n",
      "2016\n",
      "2015\n",
      "2008\n",
      "1993\n",
      "2014\n",
      "2015\n",
      "2012\n",
      "2016\n",
      "1959\n",
      "2016\n",
      "2000\n",
      "2009\n",
      "2014\n",
      "2013\n",
      "2007\n",
      "2016\n",
      "1933\n",
      "2013\n",
      "1475\n",
      "2016\n",
      "2003\n",
      "2011\n",
      "2017\n",
      "2013\n",
      "2011\n",
      "2017\n",
      "2018\n",
      "2008\n",
      "2012\n",
      "1948\n",
      "2014\n",
      "2012\n",
      "2008\n",
      "2012\n",
      "2005\n",
      "2002\n",
      "2016\n",
      "2004\n",
      "2011\n",
      "2013\n",
      "2004\n",
      "2014\n",
      "2018\n",
      "2014\n",
      "2005\n",
      "1997\n",
      "2018\n",
      "1997\n",
      "2015\n",
      "2015\n",
      "2016\n",
      "2012\n",
      "2016\n"
     ]
    }
   ],
   "source": [
    "id_dict = {}\n",
    "\n",
    "for idx, elem in enumerate(rank_table):\n",
    "    # soup2.find('result', {'value' :'Best'})['numvotes']\n",
    "    links = elem.find_all(\"a\", {'class':'primary'})\n",
    "    \n",
    "    url = links[0]['href']\n",
    "    id_ = re.findall(r'[0-9]+', url)[0]\n",
    "    url = url.replace('/boardgame/', '')\n",
    "    url = url.replace(id_, '')\n",
    "    url = url.replace('/', '')\n",
    "    url = url.replace('-','_')\n",
    "    id_dict[id_] = url\n",
    "    \n",
    "    year_ = elem.find_all('span') #, {'class':'smallerfront dull'})\n",
    "    year_ = year_[0].contents\n",
    "    year_ = re.findall(r'[0-9]+', str(year_))[0]\n",
    "    print(year_)"
   ]
  },
  {
   "cell_type": "code",
   "execution_count": 44,
   "metadata": {},
   "outputs": [
    {
     "data": {
      "text/plain": [
       "100"
      ]
     },
     "execution_count": 44,
     "metadata": {},
     "output_type": "execute_result"
    }
   ],
   "source": [
    "len(id_dict)"
   ]
  },
  {
   "cell_type": "code",
   "execution_count": null,
   "metadata": {},
   "outputs": [],
   "source": []
  }
 ],
 "metadata": {
  "kernelspec": {
   "display_name": "Python 3",
   "language": "python",
   "name": "python3"
  },
  "language_info": {
   "codemirror_mode": {
    "name": "ipython",
    "version": 3
   },
   "file_extension": ".py",
   "mimetype": "text/x-python",
   "name": "python",
   "nbconvert_exporter": "python",
   "pygments_lexer": "ipython3",
   "version": "3.7.6"
  }
 },
 "nbformat": 4,
 "nbformat_minor": 4
}
