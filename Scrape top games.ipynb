{
 "cells": [
  {
   "cell_type": "code",
   "execution_count": 65,
   "metadata": {},
   "outputs": [],
   "source": [
    "from bs4 import BeautifulSoup\n",
    "import numpy as np\n",
    "import matplotlib.pyplot as plt\n",
    "import pandas as pd\n",
    "import requests\n",
    "import re\n",
    "import json"
   ]
  },
  {
   "cell_type": "code",
   "execution_count": 60,
   "metadata": {},
   "outputs": [],
   "source": [
    "id_dict = {} # dictionary will store id and information about top games"
   ]
  },
  {
   "cell_type": "code",
   "execution_count": 62,
   "metadata": {},
   "outputs": [],
   "source": [
    "def scrape_bgg_page(page_num=1):\n",
    "    global id_dict\n",
    "    \n",
    "    page_num = str(page_num)\n",
    "    \n",
    "    initial_url = 'https://boardgamegeek.com/browse/boardgame/page/{0}?sort=rank&sortdir=asc'.format(page_num)\n",
    "    # obtain table of top games from bgg\n",
    "    r = requests.get(initial_url)\n",
    "    soup = BeautifulSoup(r.text, \"html.parser\")  \n",
    "    rank_table = soup.find_all(\"tr\", attrs={\"id\": \"row_\"})\n",
    "    \n",
    "    # Loop through all 100 items and store info in dictionary\n",
    "    for idx, elem in enumerate(rank_table):\n",
    "\n",
    "        # Find the main information about a game\n",
    "        links = elem.find_all(\"a\", {'class':'primary'})\n",
    "\n",
    "        # Obtain the game's url\n",
    "        url = links[0]['href']\n",
    "\n",
    "        # From that url, obtain the game id\n",
    "        id_ = re.findall(r'[0-9]+', url)[0]\n",
    "\n",
    "        # Also return the title of the game\n",
    "        url = url.replace('/boardgame/', '')\n",
    "        url = url.replace(id_, '')\n",
    "        url = url.replace('/', '')\n",
    "        url = url.replace('-','_')\n",
    "\n",
    "        # Finally, obtain the release year\n",
    "        year_ = elem.find_all('span')\n",
    "        year_ = year_[0].contents\n",
    "        year_ = re.findall(r'[0-9]+', str(year_))[0]\n",
    "        id_dict[id_] = {'title' : url, 'year' : year_}"
   ]
  },
  {
   "cell_type": "code",
   "execution_count": 63,
   "metadata": {},
   "outputs": [],
   "source": [
    "for i in range(1,11):\n",
    "    scrape_bgg_page(i)"
   ]
  },
  {
   "cell_type": "code",
   "execution_count": 66,
   "metadata": {},
   "outputs": [
    {
     "ename": "TypeError",
     "evalue": "dump() missing 1 required positional argument: 'fp'",
     "output_type": "error",
     "traceback": [
      "\u001b[1;31m---------------------------------------------------------------------------\u001b[0m",
      "\u001b[1;31mTypeError\u001b[0m                                 Traceback (most recent call last)",
      "\u001b[1;32m<ipython-input-66-b07870011562>\u001b[0m in \u001b[0;36m<module>\u001b[1;34m\u001b[0m\n\u001b[1;32m----> 1\u001b[1;33m \u001b[0mjson\u001b[0m\u001b[1;33m.\u001b[0m\u001b[0mdump\u001b[0m\u001b[1;33m(\u001b[0m\u001b[0mid_dict\u001b[0m\u001b[1;33m)\u001b[0m\u001b[1;33m\u001b[0m\u001b[1;33m\u001b[0m\u001b[0m\n\u001b[0m",
      "\u001b[1;31mTypeError\u001b[0m: dump() missing 1 required positional argument: 'fp'"
     ]
    }
   ],
   "source": [
    "json.dump('bgg_top_games.json\", id_dict)"
   ]
  },
  {
   "cell_type": "code",
   "execution_count": null,
   "metadata": {},
   "outputs": [],
   "source": []
  }
 ],
 "metadata": {
  "kernelspec": {
   "display_name": "Python 3",
   "language": "python",
   "name": "python3"
  },
  "language_info": {
   "codemirror_mode": {
    "name": "ipython",
    "version": 3
   },
   "file_extension": ".py",
   "mimetype": "text/x-python",
   "name": "python",
   "nbconvert_exporter": "python",
   "pygments_lexer": "ipython3",
   "version": "3.7.6"
  }
 },
 "nbformat": 4,
 "nbformat_minor": 4
}
